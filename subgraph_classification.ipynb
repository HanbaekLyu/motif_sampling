{
 "cells": [
  {
   "cell_type": "markdown",
   "id": "5a2cd015",
   "metadata": {},
   "source": [
    "## Subgraph classification "
   ]
  },
  {
   "cell_type": "code",
   "execution_count": 5,
   "id": "9da6b4f1",
   "metadata": {},
   "outputs": [],
   "source": [
    "#Imports\n",
    "import numpy as np\n",
    "from NNetwork import NNetwork as nn\n",
    "import networkx as nx\n",
    "#import utils.NNetwork as nn\n",
    "import matplotlib.pyplot as plt\n",
    "from sklearn import svm\n",
    "from sklearn import metrics, model_selection\n",
    "from tqdm import trange\n",
    "from sklearn.cluster import KMeans\n",
    "import matplotlib.gridspec as gridspec\n",
    "from tqdm import trange\n",
    "from numpy import genfromtxt\n",
    "from sklearn.metrics import accuracy_score\n",
    "from sklearn.metrics import confusion_matrix\n",
    "from sklearn.model_selection import train_test_split\n",
    "from sklearn.linear_model import LogisticRegression"
   ]
  },
  {
   "cell_type": "code",
   "execution_count": 6,
   "id": "4cb9fcea",
   "metadata": {},
   "outputs": [],
   "source": [
    "def compute_accuracy_metrics(Y_test, P_pred, use_opt_threshold=False, verbose=False):\n",
    "    # y_test = binary label \n",
    "    # P_pred = predicted probability for y_test\n",
    "    # compuate various binary classification accuracy metrics\n",
    "    fpr, tpr, thresholds = metrics.roc_curve(Y_test, P_pred, pos_label=None)\n",
    "    mythre = thresholds[np.argmax(tpr - fpr)]\n",
    "    myauc = metrics.auc(fpr, tpr)\n",
    "    # print('!!! auc', myauc)\n",
    "    \n",
    "    # Compute classification statistics\n",
    "    threshold = 0.5\n",
    "    if use_opt_threshold:\n",
    "        threshold = mythre\n",
    "    \n",
    "    Y_pred = P_pred.copy()\n",
    "    Y_pred[Y_pred < threshold] = 0\n",
    "    Y_pred[Y_pred >= threshold] = 1\n",
    "\n",
    "    mcm = confusion_matrix(Y_test, Y_pred)\n",
    "    tn = mcm[0, 0]\n",
    "    tp = mcm[1, 1]\n",
    "    fn = mcm[1, 0]\n",
    "    fp = mcm[0, 1]\n",
    "\n",
    "    accuracy = (tp + tn) / (tp + tn + fp + fn)\n",
    "    sensitivity = tn / (tn + fp)\n",
    "    specificity = tp / (tp + fn)\n",
    "    precision = tp / (tp + fp)\n",
    "    fall_out = fp / (fp + tn)\n",
    "    miss_rate = fn / (fn + tp)\n",
    "\n",
    "    # Save results\n",
    "    results_dict = {}\n",
    "    results_dict.update({'Y_test': Y_test})\n",
    "    results_dict.update({'Y_pred': Y_pred})\n",
    "    results_dict.update({'AUC': myauc})\n",
    "    results_dict.update({'Opt_threshold': mythre})\n",
    "    results_dict.update({'Accuracy': accuracy})\n",
    "    results_dict.update({'Sensitivity': sensitivity})\n",
    "    results_dict.update({'Specificity': specificity})\n",
    "    results_dict.update({'Precision': precision})\n",
    "    results_dict.update({'Fall_out': fall_out})\n",
    "    results_dict.update({'Miss_rate': miss_rate})\n",
    "    \n",
    "    if verbose:\n",
    "        for key in [key for key in results_dict.keys()]:\n",
    "            print('% s ===> %.3f' % (key, results_dict.get(key)))\n",
    "    return results_dict"
   ]
  },
  {
   "cell_type": "code",
   "execution_count": 14,
   "id": "bde66628",
   "metadata": {},
   "outputs": [],
   "source": [
    "# X: a list of NNetwork objects\n",
    "# num_edges, num_nodes, min_degree, max_degree, diameter\n",
    "import math\n",
    "\n",
    "def MACC_nx(G, k):\n",
    "    # G = networkx Network\n",
    "    # k = length of chain motif\n",
    "    # Compute k x k Matrix of Average Clustering Coefficients\n",
    "    G_nn = nn.NNetwork()\n",
    "    G_nn.add_edges( list(G.edges) )\n",
    "    X0, embs0 = G_nn.get_patches(k=k, sample_size=1000, skip_folded_hom=False, sampling_alg = 'pivot')\n",
    "    MACC = np.sum(X0, axis=1)/X0.shape[1]\n",
    "    MACC = MACC.reshape(k,k)\n",
    "    return MACC\n",
    "\n",
    "def datagen_graph_features(X, k0_list):\n",
    "    # generate the toy dataset\n",
    "    # file = open(file_name, 'w+', newline='')\n",
    "    output_dict_list = []\n",
    "    \n",
    "    header = [\"num_edges\", \"num_nodes\", \"min_degree\", \"max_degree\", \"diameter\", \n",
    "              \"degree_assortativity_coef\", \"num_clique\", \"avg_clustering_coef\", \n",
    "              \"density\"]\n",
    "  \n",
    "    for i in trange(len(X)): #X.shape[1]: total number of graphs\n",
    "                                #X.shape[0]: num_nodes^2\n",
    "        output_dict = {}\n",
    "        G_nn = X[i]\n",
    "        G=nx.Graph(G_nn.get_edges())\n",
    "        \n",
    "        num_edges = G.number_of_edges()\n",
    "        min_degree = min(list(G.degree), key=lambda x: x[1])[1]\n",
    "        max_degree = max(list(G.degree), key=lambda x: x[1])[1]\n",
    "        diameter = nx.diameter(G)\n",
    "\n",
    "        degree_assortativity_coef = nx.degree_assortativity_coefficient(G)\n",
    "        num_clique = nx.graph_clique_number(G)\n",
    "        avg_clustering_coef = nx.average_clustering(G)\n",
    "        #small_world_coef = nx.omega(G)\n",
    "        density = nx.density(G)\n",
    "\n",
    "        output_dict.update({\"num_nodes\": len(G.nodes())})\n",
    "        output_dict.update({\"num_edges\": G.number_of_edges()})\n",
    "        output_dict.update({\"min_degree\": min(list(G.degree), key=lambda x: x[1])[1]})\n",
    "        output_dict.update({\"max_degree\": max(list(G.degree), key=lambda x: x[1])[1]})\n",
    "        output_dict.update({\"diameter\": nx.diameter(G)})\n",
    "        a = nx.degree_assortativity_coefficient(G)\n",
    "        if math.isnan(a):\n",
    "            a = 0\n",
    "        output_dict.update({\"degree_assortativity_coef\": a})\n",
    "        output_dict.update({\"num_cliques\": nx.graph_clique_number(G)})\n",
    "        output_dict.update({\"Avg_clustering_coeff\": nx.average_clustering(G)})\n",
    "        output_dict.update({\"edeg_density\": nx.density(G)})\n",
    "        for k0 in k0_list:\n",
    "            output_dict.update({\"MACC k0={}\".format(k0): MACC_nx(G, k=k0)})\n",
    "\n",
    "        output_dict_list.append(output_dict)\n",
    "        \n",
    "    return output_dict_list\n",
    "\n",
    "def run_binary_classification(output_dict_list, y, scale=1):\n",
    "\n",
    "    X_train_idx, X_test_idx, y_train, y_test = train_test_split(np.arange(len(y)), y, test_size=0.50, random_state=42)        \n",
    "\n",
    "    \n",
    "    keys = list(output_dict_list[0].keys())\n",
    "    results_dict_total = {}\n",
    "    for key in keys:\n",
    "        feature_vector_list = []\n",
    "        for i in np.arange(len(output_dict_list) ):\n",
    "            output_dict = output_dict_list[i]\n",
    "            key\n",
    "            if key.split(\" \")[0] == \"MACC\":\n",
    "                feature_vector_list.append(output_dict.get(key).reshape(-1,1)) \n",
    "            else: \n",
    "                feature_vector_list.append(output_dict.get(key)) \n",
    "\n",
    "        X = np.asarray(feature_vector_list)\n",
    "        if key.split(\" \")[0] == \"MACC\":\n",
    "            X = X.reshape(len(feature_vector_list), -1) \n",
    "        else: \n",
    "            X = X[:,np.newaxis]\n",
    "\n",
    "        print(\"X.shape\", X.shape)\n",
    "\n",
    "        X_train = X[X_train_idx,:]\n",
    "        X_test = X[X_test_idx,:]\n",
    "    \n",
    "        scale0 = 1\n",
    "        if key.split(\" \")[0] == \"MACC\":\n",
    "            scale0 = scale\n",
    "        clf = LogisticRegression(random_state=0).fit((X_train-np.mean(X_train, axis=0))/scale0, y_train)\n",
    "        y_pred = clf.predict((X_test-np.mean(X_test, axis=0))/scale0)\n",
    "        P_pred = clf.predict_proba((X_test-np.mean(X_test, axis=0))/scale0)\n",
    "\n",
    "        results_dict = compute_accuracy_metrics(y_test, P_pred[:,1], use_opt_threshold=False, verbose=False)\n",
    "\n",
    "        print(\"method = {}, AUC = {:f}\".format(key, results_dict.get(\"AUC\")))\n",
    "\n",
    "        results_dict_total.update({key: results_dict})\n",
    "    return results_dict_total\n",
    "    "
   ]
  },
  {
   "cell_type": "code",
   "execution_count": 11,
   "id": "ed474547",
   "metadata": {},
   "outputs": [
    {
     "name": "stdout",
     "output_type": "stream",
     "text": [
      "num nodes in G 23842\n",
      "num edges in G 1671904\n",
      "num nodes in G 20467\n",
      "num edges in G 1495226\n",
      "sampling subgraphs with k=110 nodes\n"
     ]
    },
    {
     "name": "stderr",
     "output_type": "stream",
     "text": [
      "100%|█████████████████████████████████████████| 100/100 [00:21<00:00,  4.57it/s]\n",
      "100%|█████████████████████████████████████████| 100/100 [00:19<00:00,  5.06it/s]\n"
     ]
    },
    {
     "name": "stdout",
     "output_type": "stream",
     "text": [
      "extracting subgraph features..\n"
     ]
    },
    {
     "name": "stderr",
     "output_type": "stream",
     "text": [
      "100%|█████████████████████████████████████████| 200/200 [03:17<00:00,  1.01it/s]"
     ]
    },
    {
     "name": "stdout",
     "output_type": "stream",
     "text": [
      "X.shape (200, 1)\n",
      "method = num_nodes, AUC = 0.425970\n",
      "X.shape (200, 1)\n",
      "method = num_edges, AUC = 0.665866\n",
      "X.shape (200, 1)\n",
      "method = min_degree, AUC = 0.517607\n",
      "X.shape (200, 1)\n",
      "method = max_degree, AUC = 0.625850\n",
      "X.shape (200, 1)\n",
      "method = diameter, AUC = 0.426170\n",
      "X.shape (200, 1)\n",
      "method = degree_assortativity_coef, AUC = 0.664266\n",
      "X.shape (200, 1)\n",
      "method = num_cliques, AUC = 0.588235\n",
      "X.shape (200, 1)\n",
      "method = Avg_clustering_coeff, AUC = 0.526611\n",
      "X.shape (200, 1)\n",
      "method = edeg_density, AUC = 0.677071\n",
      "X.shape (200, 225)\n",
      "method = MACC k0=15, AUC = 0.686675\n",
      "X.shape (200, 400)\n",
      "method = MACC k0=20, AUC = 0.711084\n"
     ]
    },
    {
     "name": "stderr",
     "output_type": "stream",
     "text": [
      "\n"
     ]
    }
   ],
   "source": [
    "# Subgraph sampling for subgraph classification\n",
    "# Output = subgraph_list as NNetwork objects\n",
    "\n",
    "ntwk_list = ['Wisconsin87', 'UCLA26'] # Wisconsin87, UCLA26, Caltech36\n",
    "label_list = []\n",
    "subgraph_list = []\n",
    "num_subgraphs = 100\n",
    "k_list = [110]\n",
    "k0_list = [15,20]\n",
    "\n",
    "#X_MACC = []\n",
    "#X_edge_density = []\n",
    "#X_adj = []\n",
    "\n",
    "nn_network_list = []\n",
    "for ntwk in ntwk_list:\n",
    "    ntwk_nonumber = ''.join([i for i in ntwk if not i.isdigit()])\n",
    "    path = \"Data/Facebook/\" + str(ntwk) + '.txt'\n",
    "    G = nn.NNetwork()\n",
    "    G.load_add_edges(path, increment_weights=False, use_genfromtxt=True)\n",
    "    nn_network_list.append(G)\n",
    "    print('num nodes in G', len(G.nodes()))\n",
    "    print('num edges in G', len(G.get_edges()))\n",
    "\n",
    "y = [0]*num_subgraphs + [1]*num_subgraphs\n",
    "\n",
    "subgraph_list_dict = {}\n",
    "output_dict_list_total = {}\n",
    "\n",
    "for k in k_list:\n",
    "    print(\"sampling subgraphs with k={} nodes\".format(k))\n",
    "    subgraph_list = []\n",
    "    for a in np.arange(len(nn_network_list)):\n",
    "        G = nn_network_list[a]\n",
    "        \n",
    "        for i in trange(num_subgraphs):\n",
    "            label_list.append(str(ntwk))\n",
    "\n",
    "            # take the induced subgraph \n",
    "            X, embs = G.get_patches(k=k, sample_size=10, skip_folded_hom=False, sampling_alg = 'pivot')\n",
    "            H = G.subgraph(embs[-1]) # take the last instance of MCMC sampling\n",
    "            #A_adj = H.get_adjacency_matrix()\n",
    "            subgraph_list.append(H)\n",
    "            #subgraph_list.append(A_adj)\n",
    "\n",
    "            \"\"\"\n",
    "            ## compute summary stats of subgraphs \n",
    "\n",
    "            A_adj = H.get_adjacency_matrix()\n",
    "            X_adj.append(A_adj)\n",
    "\n",
    "            X0, embs0 = H.get_patches(k=k0, sample_size=1000, skip_folded_hom=False, sampling_alg = 'pivot')\n",
    "            MACC = np.sum(X0, axis=1)/X0.shape[1]\n",
    "            MACC = MACC.reshape(k0,k0)\n",
    "            X_MACC.append(MACC)\n",
    "\n",
    "            X_edge_density.append(np.linalg.norm(A_adj, 1)/len(H.nodes()))\n",
    "            \"\"\"\n",
    "\n",
    "    subgraph_list_dict.update({\"k={}\".format(k) : subgraph_list})\n",
    "\n",
    "    print(\"extracting subgraph features..\")\n",
    "    output_dict_list = datagen_graph_features(X=subgraph_list, k0_list = k0_list)\n",
    "    results_dict_total = run_binary_classification(output_dict_list, y=y, scale=0.5)\n",
    "    \n",
    "    output_dict_list_total.update({\"k={}\".format(k): results_dict_total})"
   ]
  },
  {
   "cell_type": "code",
   "execution_count": 58,
   "id": "4743b75d",
   "metadata": {},
   "outputs": [],
   "source": [
    "G0 = nn_network_list[0]"
   ]
  },
  {
   "cell_type": "code",
   "execution_count": 60,
   "id": "777a353e",
   "metadata": {},
   "outputs": [],
   "source": [
    "H = G0.k_node_ind_subgraph(k=10)"
   ]
  },
  {
   "cell_type": "code",
   "execution_count": 61,
   "id": "57ad9b08",
   "metadata": {},
   "outputs": [
    {
     "data": {
      "text/plain": [
       "[['767', '126'],\n",
       " ['767', '26'],\n",
       " ['767', '631'],\n",
       " ['126', '330'],\n",
       " ['126', '767'],\n",
       " ['126', '26'],\n",
       " ['126', '90'],\n",
       " ['26', '126'],\n",
       " ['26', '330'],\n",
       " ['26', '767'],\n",
       " ['26', '554'],\n",
       " ['631', '227'],\n",
       " ['631', '767'],\n",
       " ['631', '304'],\n",
       " ['227', '631'],\n",
       " ['304', '90'],\n",
       " ['304', '631'],\n",
       " ['330', '126'],\n",
       " ['330', '26'],\n",
       " ['330', '376'],\n",
       " ['330', '554'],\n",
       " ['330', '90'],\n",
       " ['90', '126'],\n",
       " ['90', '330'],\n",
       " ['90', '376'],\n",
       " ['90', '304'],\n",
       " ['90', '554'],\n",
       " ['376', '554'],\n",
       " ['376', '330'],\n",
       " ['376', '90'],\n",
       " ['554', '330'],\n",
       " ['554', '90'],\n",
       " ['554', '26'],\n",
       " ['554', '376']]"
      ]
     },
     "execution_count": 61,
     "metadata": {},
     "output_type": "execute_result"
    }
   ],
   "source": [
    "H.get_edges()"
   ]
  },
  {
   "cell_type": "code",
   "execution_count": 73,
   "id": "e385a00b",
   "metadata": {},
   "outputs": [
    {
     "name": "stdout",
     "output_type": "stream",
     "text": [
      "num nodes in G 769\n",
      "num edges in G 33312\n",
      "num nodes in G 1518\n",
      "num edges in G 65976\n",
      "num nodes in G 962\n",
      "num edges in G 37624\n",
      "num nodes in G 21679\n",
      "num edges in G 1431430\n",
      "num nodes in G 21325\n",
      "num edges in G 1396356\n",
      "num nodes in G 20467\n",
      "num edges in G 1495226\n",
      "num nodes in G 23842\n",
      "num edges in G 1671904\n",
      "Classifying subgraphs in Caltech36-Simmons81 ...\n",
      "sampling subgraphs with k=30 nodes\n"
     ]
    },
    {
     "name": "stderr",
     "output_type": "stream",
     "text": [
      "100%|████████████████████████████████████████| 100/100 [00:00<00:00, 798.54it/s]\n",
      "100%|████████████████████████████████████████| 100/100 [00:00<00:00, 728.77it/s]\n",
      "100%|████████████████████████████████████████| 100/100 [00:00<00:00, 865.37it/s]\n",
      "100%|████████████████████████████████████████| 100/100 [00:00<00:00, 113.78it/s]\n",
      "100%|████████████████████████████████████████| 100/100 [00:00<00:00, 152.49it/s]\n",
      "100%|████████████████████████████████████████| 100/100 [00:00<00:00, 166.81it/s]\n",
      "100%|████████████████████████████████████████| 100/100 [00:00<00:00, 139.62it/s]\n"
     ]
    },
    {
     "name": "stdout",
     "output_type": "stream",
     "text": [
      "extracting subgraph features..\n"
     ]
    },
    {
     "name": "stderr",
     "output_type": "stream",
     "text": [
      "100%|█████████████████████████████████████████| 700/700 [22:56<00:00,  1.97s/it]\n"
     ]
    },
    {
     "name": "stdout",
     "output_type": "stream",
     "text": [
      "X.shape (700, 1)\n",
      "method = num_nodes, AUC = 0.500000\n",
      "X.shape (700, 1)\n",
      "method = num_edges, AUC = 0.850540\n",
      "X.shape (700, 1)\n",
      "method = min_degree, AUC = 0.582833\n",
      "X.shape (700, 1)\n",
      "method = max_degree, AUC = 0.751301\n",
      "X.shape (700, 1)\n",
      "method = diameter, AUC = 0.782313\n",
      "X.shape (700, 1)\n",
      "method = degree_assortativity_coef, AUC = 0.604242\n",
      "X.shape (700, 1)\n",
      "method = num_cliques, AUC = 0.792117\n",
      "X.shape (700, 1)\n",
      "method = Avg_clustering_coeff, AUC = 0.799120\n",
      "X.shape (700, 1)\n",
      "method = edeg_density, AUC = 0.850540\n",
      "X.shape (700, 25)\n",
      "method = MACC k0=5, AUC = 0.890756\n",
      "X.shape (700, 100)\n",
      "method = MACC k0=10, AUC = 0.947579\n",
      "X.shape (700, 400)\n",
      "method = MACC k0=20, AUC = 0.967587\n",
      "X.shape (700, 900)\n",
      "method = MACC k0=30, AUC = 0.957183\n",
      "Classifying subgraphs in Caltech36-Reed98 ...\n",
      "sampling subgraphs with k=30 nodes\n"
     ]
    },
    {
     "name": "stderr",
     "output_type": "stream",
     "text": [
      "100%|████████████████████████████████████████| 100/100 [00:00<00:00, 512.54it/s]\n",
      "100%|████████████████████████████████████████| 100/100 [00:00<00:00, 699.01it/s]\n",
      "100%|████████████████████████████████████████| 100/100 [00:00<00:00, 781.05it/s]\n",
      "100%|████████████████████████████████████████| 100/100 [00:00<00:00, 122.11it/s]\n",
      "100%|████████████████████████████████████████| 100/100 [00:00<00:00, 138.93it/s]\n",
      "100%|████████████████████████████████████████| 100/100 [00:00<00:00, 150.79it/s]\n",
      "100%|████████████████████████████████████████| 100/100 [00:00<00:00, 130.68it/s]\n"
     ]
    },
    {
     "name": "stdout",
     "output_type": "stream",
     "text": [
      "extracting subgraph features..\n"
     ]
    },
    {
     "name": "stderr",
     "output_type": "stream",
     "text": [
      "100%|█████████████████████████████████████████| 700/700 [22:54<00:00,  1.96s/it]\n"
     ]
    },
    {
     "name": "stdout",
     "output_type": "stream",
     "text": [
      "X.shape (700, 1)\n",
      "method = num_nodes, AUC = 0.500000\n",
      "X.shape (700, 1)\n",
      "method = num_edges, AUC = 0.821329\n",
      "X.shape (700, 1)\n",
      "method = min_degree, AUC = 0.655062\n",
      "X.shape (700, 1)\n",
      "method = max_degree, AUC = 0.699080\n",
      "X.shape (700, 1)\n",
      "method = diameter, AUC = 0.824930\n",
      "X.shape (700, 1)\n",
      "method = degree_assortativity_coef, AUC = 0.629052\n",
      "X.shape (700, 1)\n",
      "method = num_cliques, AUC = 0.693477\n",
      "X.shape (700, 1)\n",
      "method = Avg_clustering_coeff, AUC = 0.682673\n",
      "X.shape (700, 1)\n",
      "method = edeg_density, AUC = 0.821329\n",
      "X.shape (700, 25)\n",
      "method = MACC k0=5, AUC = 0.769108\n",
      "X.shape (700, 100)\n",
      "method = MACC k0=10, AUC = 0.877151\n",
      "X.shape (700, 400)\n",
      "method = MACC k0=20, AUC = 0.898359\n",
      "X.shape (700, 900)\n",
      "method = MACC k0=30, AUC = 0.911164\n",
      "Classifying subgraphs in Caltech36-NYU9 ...\n",
      "sampling subgraphs with k=30 nodes\n"
     ]
    },
    {
     "name": "stderr",
     "output_type": "stream",
     "text": [
      "100%|████████████████████████████████████████| 100/100 [00:00<00:00, 604.92it/s]\n",
      "100%|████████████████████████████████████████| 100/100 [00:00<00:00, 710.30it/s]\n",
      "100%|████████████████████████████████████████| 100/100 [00:00<00:00, 814.38it/s]\n",
      "100%|████████████████████████████████████████| 100/100 [00:00<00:00, 132.46it/s]\n",
      "100%|████████████████████████████████████████| 100/100 [00:00<00:00, 137.95it/s]\n",
      "100%|████████████████████████████████████████| 100/100 [00:00<00:00, 157.13it/s]\n",
      "100%|████████████████████████████████████████| 100/100 [00:00<00:00, 122.87it/s]\n"
     ]
    },
    {
     "name": "stdout",
     "output_type": "stream",
     "text": [
      "extracting subgraph features..\n"
     ]
    },
    {
     "name": "stderr",
     "output_type": "stream",
     "text": [
      "100%|█████████████████████████████████████████| 700/700 [22:50<00:00,  1.96s/it]\n"
     ]
    },
    {
     "name": "stdout",
     "output_type": "stream",
     "text": [
      "X.shape (700, 1)\n",
      "method = num_nodes, AUC = 0.500000\n",
      "X.shape (700, 1)\n",
      "method = num_edges, AUC = 0.910164\n",
      "X.shape (700, 1)\n",
      "method = min_degree, AUC = 0.576831\n",
      "X.shape (700, 1)\n",
      "method = max_degree, AUC = 0.821329\n",
      "X.shape (700, 1)\n",
      "method = diameter, AUC = 0.791116\n",
      "X.shape (700, 1)\n",
      "method = degree_assortativity_coef, AUC = 0.651461\n",
      "X.shape (700, 1)\n",
      "method = num_cliques, AUC = 0.743297\n",
      "X.shape (700, 1)\n",
      "method = Avg_clustering_coeff, AUC = 0.832333\n",
      "X.shape (700, 1)\n",
      "method = edeg_density, AUC = 0.910164\n",
      "X.shape (700, 25)\n",
      "method = MACC k0=5, AUC = 0.932773\n",
      "X.shape (700, 100)\n",
      "method = MACC k0=10, AUC = 0.956383\n",
      "X.shape (700, 400)\n",
      "method = MACC k0=20, AUC = 0.954782\n",
      "X.shape (700, 900)\n",
      "method = MACC k0=30, AUC = 0.948780\n",
      "Classifying subgraphs in Caltech36-Virginia63 ...\n",
      "sampling subgraphs with k=30 nodes\n"
     ]
    },
    {
     "name": "stderr",
     "output_type": "stream",
     "text": [
      "100%|████████████████████████████████████████| 100/100 [00:00<00:00, 783.05it/s]\n",
      "100%|████████████████████████████████████████| 100/100 [00:00<00:00, 661.15it/s]\n",
      "100%|████████████████████████████████████████| 100/100 [00:00<00:00, 773.01it/s]\n",
      "100%|████████████████████████████████████████| 100/100 [00:00<00:00, 125.30it/s]\n",
      "100%|████████████████████████████████████████| 100/100 [00:00<00:00, 138.74it/s]\n",
      "100%|████████████████████████████████████████| 100/100 [00:00<00:00, 152.06it/s]\n",
      "100%|████████████████████████████████████████| 100/100 [00:00<00:00, 127.78it/s]\n"
     ]
    },
    {
     "name": "stdout",
     "output_type": "stream",
     "text": [
      "extracting subgraph features..\n"
     ]
    },
    {
     "name": "stderr",
     "output_type": "stream",
     "text": [
      "100%|█████████████████████████████████████████| 700/700 [22:58<00:00,  1.97s/it]\n"
     ]
    },
    {
     "name": "stdout",
     "output_type": "stream",
     "text": [
      "X.shape (700, 1)\n",
      "method = num_nodes, AUC = 0.500000\n",
      "X.shape (700, 1)\n",
      "method = num_edges, AUC = 0.854342\n",
      "X.shape (700, 1)\n",
      "method = min_degree, AUC = 0.562225\n",
      "X.shape (700, 1)\n",
      "method = max_degree, AUC = 0.762505\n",
      "X.shape (700, 1)\n",
      "method = diameter, AUC = 0.832933\n",
      "X.shape (700, 1)\n",
      "method = degree_assortativity_coef, AUC = 0.634254\n",
      "X.shape (700, 1)\n",
      "method = num_cliques, AUC = 0.703081\n",
      "X.shape (700, 1)\n",
      "method = Avg_clustering_coeff, AUC = 0.778711\n",
      "X.shape (700, 1)\n",
      "method = edeg_density, AUC = 0.854342\n",
      "X.shape (700, 25)\n",
      "method = MACC k0=5, AUC = 0.899160\n",
      "X.shape (700, 100)\n",
      "method = MACC k0=10, AUC = 0.941577\n",
      "X.shape (700, 400)\n",
      "method = MACC k0=20, AUC = 0.927171\n",
      "X.shape (700, 900)\n",
      "method = MACC k0=30, AUC = 0.918367\n",
      "Classifying subgraphs in Caltech36-UCLA26 ...\n",
      "sampling subgraphs with k=30 nodes\n"
     ]
    },
    {
     "name": "stderr",
     "output_type": "stream",
     "text": [
      "100%|████████████████████████████████████████| 100/100 [00:00<00:00, 774.56it/s]\n",
      "100%|████████████████████████████████████████| 100/100 [00:00<00:00, 728.97it/s]\n",
      "100%|████████████████████████████████████████| 100/100 [00:00<00:00, 818.25it/s]\n",
      "100%|████████████████████████████████████████| 100/100 [00:00<00:00, 140.98it/s]\n",
      "100%|████████████████████████████████████████| 100/100 [00:00<00:00, 142.75it/s]\n",
      "100%|████████████████████████████████████████| 100/100 [00:00<00:00, 152.78it/s]\n",
      "100%|████████████████████████████████████████| 100/100 [00:00<00:00, 129.01it/s]\n"
     ]
    },
    {
     "name": "stdout",
     "output_type": "stream",
     "text": [
      "extracting subgraph features..\n"
     ]
    },
    {
     "name": "stderr",
     "output_type": "stream",
     "text": [
      "100%|█████████████████████████████████████████| 700/700 [23:01<00:00,  1.97s/it]\n"
     ]
    },
    {
     "name": "stdout",
     "output_type": "stream",
     "text": [
      "X.shape (700, 1)\n",
      "method = num_nodes, AUC = 0.500000\n",
      "X.shape (700, 1)\n",
      "method = num_edges, AUC = 0.864546\n",
      "X.shape (700, 1)\n",
      "method = min_degree, AUC = 0.644058\n",
      "X.shape (700, 1)\n",
      "method = max_degree, AUC = 0.799120\n",
      "X.shape (700, 1)\n",
      "method = diameter, AUC = 0.886355\n",
      "X.shape (700, 1)\n",
      "method = degree_assortativity_coef, AUC = 0.618647\n",
      "X.shape (700, 1)\n",
      "method = num_cliques, AUC = 0.760304\n",
      "X.shape (700, 1)\n",
      "method = Avg_clustering_coeff, AUC = 0.784714\n",
      "X.shape (700, 1)\n",
      "method = edeg_density, AUC = 0.864546\n",
      "X.shape (700, 25)\n",
      "method = MACC k0=5, AUC = 0.918367\n",
      "X.shape (700, 100)\n",
      "method = MACC k0=10, AUC = 0.965586\n",
      "X.shape (700, 400)\n",
      "method = MACC k0=20, AUC = 0.962385\n",
      "X.shape (700, 900)\n",
      "method = MACC k0=30, AUC = 0.958784\n",
      "Classifying subgraphs in Caltech36-Wisconsin87 ...\n",
      "sampling subgraphs with k=30 nodes\n"
     ]
    },
    {
     "name": "stderr",
     "output_type": "stream",
     "text": [
      "100%|████████████████████████████████████████| 100/100 [00:00<00:00, 668.66it/s]\n",
      "100%|████████████████████████████████████████| 100/100 [00:00<00:00, 569.03it/s]\n",
      "100%|████████████████████████████████████████| 100/100 [00:00<00:00, 809.42it/s]\n",
      "100%|█████████████████████████████████████████| 100/100 [00:01<00:00, 95.11it/s]\n",
      "100%|████████████████████████████████████████| 100/100 [00:00<00:00, 137.58it/s]\n",
      "100%|████████████████████████████████████████| 100/100 [00:00<00:00, 151.37it/s]\n",
      "100%|████████████████████████████████████████| 100/100 [00:00<00:00, 126.03it/s]\n"
     ]
    },
    {
     "name": "stdout",
     "output_type": "stream",
     "text": [
      "extracting subgraph features..\n"
     ]
    },
    {
     "name": "stderr",
     "output_type": "stream",
     "text": [
      "100%|█████████████████████████████████████████| 700/700 [23:12<00:00,  1.99s/it]\n"
     ]
    },
    {
     "name": "stdout",
     "output_type": "stream",
     "text": [
      "X.shape (700, 1)\n",
      "method = num_nodes, AUC = 0.500000\n",
      "X.shape (700, 1)\n",
      "method = num_edges, AUC = 0.867347\n",
      "X.shape (700, 1)\n",
      "method = min_degree, AUC = 0.631853\n",
      "X.shape (700, 1)\n",
      "method = max_degree, AUC = 0.769108\n",
      "X.shape (700, 1)\n",
      "method = diameter, AUC = 0.810524\n",
      "X.shape (700, 1)\n",
      "method = degree_assortativity_coef, AUC = 0.674270\n",
      "X.shape (700, 1)\n",
      "method = num_cliques, AUC = 0.732293\n",
      "X.shape (700, 1)\n",
      "method = Avg_clustering_coeff, AUC = 0.772309\n",
      "X.shape (700, 1)\n",
      "method = edeg_density, AUC = 0.867347\n",
      "X.shape (700, 25)\n",
      "method = MACC k0=5, AUC = 0.910764\n",
      "X.shape (700, 100)\n",
      "method = MACC k0=10, AUC = 0.919168\n",
      "X.shape (700, 400)\n",
      "method = MACC k0=20, AUC = 0.917167\n",
      "X.shape (700, 900)\n",
      "method = MACC k0=30, AUC = 0.897559\n",
      "Classifying subgraphs in Simmons81-Reed98 ...\n",
      "sampling subgraphs with k=30 nodes\n"
     ]
    },
    {
     "name": "stderr",
     "output_type": "stream",
     "text": [
      "100%|████████████████████████████████████████| 100/100 [00:00<00:00, 747.74it/s]\n",
      "100%|████████████████████████████████████████| 100/100 [00:00<00:00, 678.37it/s]\n",
      "100%|████████████████████████████████████████| 100/100 [00:00<00:00, 790.68it/s]\n",
      "100%|█████████████████████████████████████████| 100/100 [00:01<00:00, 96.11it/s]\n",
      "100%|████████████████████████████████████████| 100/100 [00:00<00:00, 133.55it/s]\n",
      "100%|████████████████████████████████████████| 100/100 [00:00<00:00, 133.38it/s]\n",
      "100%|█████████████████████████████████████████| 100/100 [00:01<00:00, 80.75it/s]\n"
     ]
    },
    {
     "name": "stdout",
     "output_type": "stream",
     "text": [
      "extracting subgraph features..\n"
     ]
    },
    {
     "name": "stderr",
     "output_type": "stream",
     "text": [
      "100%|█████████████████████████████████████████| 700/700 [23:08<00:00,  1.98s/it]\n"
     ]
    },
    {
     "name": "stdout",
     "output_type": "stream",
     "text": [
      "X.shape (700, 1)\n",
      "method = num_nodes, AUC = 0.500000\n",
      "X.shape (700, 1)\n",
      "method = num_edges, AUC = 0.840736\n",
      "X.shape (700, 1)\n",
      "method = min_degree, AUC = 0.664866\n",
      "X.shape (700, 1)\n",
      "method = max_degree, AUC = 0.797919\n",
      "X.shape (700, 1)\n",
      "method = diameter, AUC = 0.792117\n",
      "X.shape (700, 1)\n",
      "method = degree_assortativity_coef, AUC = 0.615446\n",
      "X.shape (700, 1)\n",
      "method = num_cliques, AUC = 0.762105\n",
      "X.shape (700, 1)\n",
      "method = Avg_clustering_coeff, AUC = 0.767107\n",
      "X.shape (700, 1)\n",
      "method = edeg_density, AUC = 0.840736\n",
      "X.shape (700, 25)\n",
      "method = MACC k0=5, AUC = 0.889956\n",
      "X.shape (700, 100)\n",
      "method = MACC k0=10, AUC = 0.925970\n",
      "X.shape (700, 400)\n",
      "method = MACC k0=20, AUC = 0.921569\n",
      "X.shape (700, 900)\n",
      "method = MACC k0=30, AUC = 0.921969\n",
      "Classifying subgraphs in Simmons81-NYU9 ...\n",
      "sampling subgraphs with k=30 nodes\n"
     ]
    },
    {
     "name": "stderr",
     "output_type": "stream",
     "text": [
      "100%|████████████████████████████████████████| 100/100 [00:00<00:00, 826.55it/s]\n",
      "100%|████████████████████████████████████████| 100/100 [00:00<00:00, 670.60it/s]\n",
      "100%|████████████████████████████████████████| 100/100 [00:00<00:00, 777.96it/s]\n",
      "100%|████████████████████████████████████████| 100/100 [00:00<00:00, 118.30it/s]\n",
      "100%|████████████████████████████████████████| 100/100 [00:00<00:00, 136.11it/s]\n",
      "100%|████████████████████████████████████████| 100/100 [00:00<00:00, 142.92it/s]\n",
      "100%|████████████████████████████████████████| 100/100 [00:00<00:00, 126.37it/s]\n"
     ]
    },
    {
     "name": "stdout",
     "output_type": "stream",
     "text": [
      "extracting subgraph features..\n"
     ]
    },
    {
     "name": "stderr",
     "output_type": "stream",
     "text": [
      "100%|█████████████████████████████████████████| 700/700 [23:14<00:00,  1.99s/it]\n"
     ]
    },
    {
     "name": "stdout",
     "output_type": "stream",
     "text": [
      "X.shape (700, 1)\n",
      "method = num_nodes, AUC = 0.500000\n",
      "X.shape (700, 1)\n",
      "method = num_edges, AUC = 0.892157\n",
      "X.shape (700, 1)\n",
      "method = min_degree, AUC = 0.623850\n",
      "X.shape (700, 1)\n",
      "method = max_degree, AUC = 0.812125\n",
      "X.shape (700, 1)\n",
      "method = diameter, AUC = 0.812325\n",
      "X.shape (700, 1)\n",
      "method = degree_assortativity_coef, AUC = 0.729092\n",
      "X.shape (700, 1)\n",
      "method = num_cliques, AUC = 0.738896\n",
      "X.shape (700, 1)\n",
      "method = Avg_clustering_coeff, AUC = 0.798719\n",
      "X.shape (700, 1)\n",
      "method = edeg_density, AUC = 0.892157\n",
      "X.shape (700, 25)\n",
      "method = MACC k0=5, AUC = 0.921168\n",
      "X.shape (700, 100)\n",
      "method = MACC k0=10, AUC = 0.895558\n",
      "X.shape (700, 400)\n",
      "method = MACC k0=20, AUC = 0.911565\n",
      "X.shape (700, 900)\n",
      "method = MACC k0=30, AUC = 0.901961\n",
      "Classifying subgraphs in Simmons81-Virginia63 ...\n",
      "sampling subgraphs with k=30 nodes\n"
     ]
    },
    {
     "name": "stderr",
     "output_type": "stream",
     "text": [
      "100%|████████████████████████████████████████| 100/100 [00:00<00:00, 804.72it/s]\n",
      "100%|████████████████████████████████████████| 100/100 [00:00<00:00, 715.73it/s]\n",
      "100%|████████████████████████████████████████| 100/100 [00:00<00:00, 798.64it/s]\n",
      "100%|████████████████████████████████████████| 100/100 [00:00<00:00, 124.02it/s]\n",
      "100%|████████████████████████████████████████| 100/100 [00:00<00:00, 135.73it/s]\n",
      "100%|████████████████████████████████████████| 100/100 [00:00<00:00, 124.21it/s]\n",
      "100%|█████████████████████████████████████████| 100/100 [00:01<00:00, 96.20it/s]\n"
     ]
    },
    {
     "name": "stdout",
     "output_type": "stream",
     "text": [
      "extracting subgraph features..\n"
     ]
    },
    {
     "name": "stderr",
     "output_type": "stream",
     "text": [
      "100%|█████████████████████████████████████████| 700/700 [23:10<00:00,  1.99s/it]\n"
     ]
    },
    {
     "name": "stdout",
     "output_type": "stream",
     "text": [
      "X.shape (700, 1)\n",
      "method = num_nodes, AUC = 0.500000\n",
      "X.shape (700, 1)\n",
      "method = num_edges, AUC = 0.832133\n",
      "X.shape (700, 1)\n",
      "method = min_degree, AUC = 0.568828\n",
      "X.shape (700, 1)\n",
      "method = max_degree, AUC = 0.714086\n",
      "X.shape (700, 1)\n",
      "method = diameter, AUC = 0.792317\n",
      "X.shape (700, 1)\n",
      "method = degree_assortativity_coef, AUC = 0.661865\n",
      "X.shape (700, 1)\n",
      "method = num_cliques, AUC = 0.703081\n",
      "X.shape (700, 1)\n",
      "method = Avg_clustering_coeff, AUC = 0.746299\n",
      "X.shape (700, 1)\n",
      "method = edeg_density, AUC = 0.832133\n",
      "X.shape (700, 25)\n",
      "method = MACC k0=5, AUC = 0.892357\n",
      "X.shape (700, 100)\n",
      "method = MACC k0=10, AUC = 0.943177\n",
      "X.shape (700, 400)\n",
      "method = MACC k0=20, AUC = 0.940376\n",
      "X.shape (700, 900)\n",
      "method = MACC k0=30, AUC = 0.945178\n",
      "Classifying subgraphs in Simmons81-UCLA26 ...\n",
      "sampling subgraphs with k=30 nodes\n"
     ]
    },
    {
     "name": "stderr",
     "output_type": "stream",
     "text": [
      "100%|████████████████████████████████████████| 100/100 [00:00<00:00, 858.52it/s]\n",
      "100%|████████████████████████████████████████| 100/100 [00:00<00:00, 643.97it/s]\n",
      "100%|████████████████████████████████████████| 100/100 [00:00<00:00, 823.12it/s]\n",
      "100%|████████████████████████████████████████| 100/100 [00:00<00:00, 118.41it/s]\n",
      "100%|████████████████████████████████████████| 100/100 [00:00<00:00, 131.30it/s]\n",
      "100%|████████████████████████████████████████| 100/100 [00:00<00:00, 137.77it/s]\n",
      "100%|████████████████████████████████████████| 100/100 [00:00<00:00, 121.45it/s]\n"
     ]
    },
    {
     "name": "stdout",
     "output_type": "stream",
     "text": [
      "extracting subgraph features..\n"
     ]
    },
    {
     "name": "stderr",
     "output_type": "stream",
     "text": [
      "100%|█████████████████████████████████████████| 700/700 [23:44<00:00,  2.03s/it]\n"
     ]
    },
    {
     "name": "stdout",
     "output_type": "stream",
     "text": [
      "X.shape (700, 1)\n",
      "method = num_nodes, AUC = 0.500000\n",
      "X.shape (700, 1)\n",
      "method = num_edges, AUC = 0.890356\n",
      "X.shape (700, 1)\n",
      "method = min_degree, AUC = 0.613045\n",
      "X.shape (700, 1)\n",
      "method = max_degree, AUC = 0.761104\n",
      "X.shape (700, 1)\n",
      "method = diameter, AUC = 0.881953\n",
      "X.shape (700, 1)\n",
      "method = degree_assortativity_coef, AUC = 0.549020\n",
      "X.shape (700, 1)\n",
      "method = num_cliques, AUC = 0.787115\n",
      "X.shape (700, 1)\n",
      "method = Avg_clustering_coeff, AUC = 0.839136\n",
      "X.shape (700, 1)\n",
      "method = edeg_density, AUC = 0.890356\n",
      "X.shape (700, 25)\n",
      "method = MACC k0=5, AUC = 0.918768\n",
      "X.shape (700, 100)\n",
      "method = MACC k0=10, AUC = 0.948780\n",
      "X.shape (700, 400)\n",
      "method = MACC k0=20, AUC = 0.963585\n",
      "X.shape (700, 900)\n",
      "method = MACC k0=30, AUC = 0.952781\n",
      "Classifying subgraphs in Simmons81-Wisconsin87 ...\n",
      "sampling subgraphs with k=30 nodes\n"
     ]
    },
    {
     "name": "stderr",
     "output_type": "stream",
     "text": [
      "100%|████████████████████████████████████████| 100/100 [00:00<00:00, 793.33it/s]\n",
      "100%|████████████████████████████████████████| 100/100 [00:00<00:00, 728.19it/s]\n",
      "100%|████████████████████████████████████████| 100/100 [00:00<00:00, 847.41it/s]\n",
      "100%|████████████████████████████████████████| 100/100 [00:00<00:00, 143.59it/s]\n",
      "100%|████████████████████████████████████████| 100/100 [00:00<00:00, 145.25it/s]\n",
      "100%|████████████████████████████████████████| 100/100 [00:00<00:00, 156.32it/s]\n",
      "100%|████████████████████████████████████████| 100/100 [00:00<00:00, 134.01it/s]\n"
     ]
    },
    {
     "name": "stdout",
     "output_type": "stream",
     "text": [
      "extracting subgraph features..\n"
     ]
    },
    {
     "name": "stderr",
     "output_type": "stream",
     "text": [
      "100%|█████████████████████████████████████████| 700/700 [23:00<00:00,  1.97s/it]\n"
     ]
    },
    {
     "name": "stdout",
     "output_type": "stream",
     "text": [
      "X.shape (700, 1)\n",
      "method = num_nodes, AUC = 0.500000\n",
      "X.shape (700, 1)\n",
      "method = num_edges, AUC = 0.842337\n",
      "X.shape (700, 1)\n",
      "method = min_degree, AUC = 0.605042\n",
      "X.shape (700, 1)\n",
      "method = max_degree, AUC = 0.723890\n",
      "X.shape (700, 1)\n",
      "method = diameter, AUC = 0.799120\n",
      "X.shape (700, 1)\n",
      "method = degree_assortativity_coef, AUC = 0.589436\n",
      "X.shape (700, 1)\n",
      "method = num_cliques, AUC = 0.747899\n",
      "X.shape (700, 1)\n",
      "method = Avg_clustering_coeff, AUC = 0.705482\n",
      "X.shape (700, 1)\n",
      "method = edeg_density, AUC = 0.842337\n",
      "X.shape (700, 25)\n",
      "method = MACC k0=5, AUC = 0.938776\n",
      "X.shape (700, 100)\n",
      "method = MACC k0=10, AUC = 0.955582\n",
      "X.shape (700, 400)\n",
      "method = MACC k0=20, AUC = 0.960384\n",
      "X.shape (700, 900)\n",
      "method = MACC k0=30, AUC = 0.968387\n",
      "Classifying subgraphs in Reed98-NYU9 ...\n",
      "sampling subgraphs with k=30 nodes\n"
     ]
    },
    {
     "name": "stderr",
     "output_type": "stream",
     "text": [
      "100%|████████████████████████████████████████| 100/100 [00:00<00:00, 805.76it/s]\n",
      "100%|████████████████████████████████████████| 100/100 [00:00<00:00, 734.05it/s]\n",
      "100%|████████████████████████████████████████| 100/100 [00:00<00:00, 915.48it/s]\n",
      "100%|████████████████████████████████████████| 100/100 [00:00<00:00, 110.79it/s]\n",
      "100%|████████████████████████████████████████| 100/100 [00:00<00:00, 128.93it/s]\n",
      "100%|████████████████████████████████████████| 100/100 [00:00<00:00, 140.76it/s]\n",
      "100%|████████████████████████████████████████| 100/100 [00:00<00:00, 119.70it/s]\n"
     ]
    },
    {
     "name": "stdout",
     "output_type": "stream",
     "text": [
      "extracting subgraph features..\n"
     ]
    },
    {
     "name": "stderr",
     "output_type": "stream",
     "text": [
      "100%|█████████████████████████████████████████| 700/700 [23:10<00:00,  1.99s/it]\n"
     ]
    },
    {
     "name": "stdout",
     "output_type": "stream",
     "text": [
      "X.shape (700, 1)\n",
      "method = num_nodes, AUC = 0.500000\n",
      "X.shape (700, 1)\n",
      "method = num_edges, AUC = 0.844538\n",
      "X.shape (700, 1)\n",
      "method = min_degree, AUC = 0.591637\n",
      "X.shape (700, 1)\n",
      "method = max_degree, AUC = 0.730692\n",
      "X.shape (700, 1)\n",
      "method = diameter, AUC = 0.806923\n",
      "X.shape (700, 1)\n",
      "method = degree_assortativity_coef, AUC = 0.674270\n",
      "X.shape (700, 1)\n",
      "method = num_cliques, AUC = 0.682873\n",
      "X.shape (700, 1)\n",
      "method = Avg_clustering_coeff, AUC = 0.729892\n",
      "X.shape (700, 1)\n",
      "method = edeg_density, AUC = 0.844538\n",
      "X.shape (700, 25)\n",
      "method = MACC k0=5, AUC = 0.887955\n",
      "X.shape (700, 100)\n",
      "method = MACC k0=10, AUC = 0.925970\n",
      "X.shape (700, 400)\n",
      "method = MACC k0=20, AUC = 0.941176\n",
      "X.shape (700, 900)\n",
      "method = MACC k0=30, AUC = 0.942777\n",
      "Classifying subgraphs in Reed98-Virginia63 ...\n",
      "sampling subgraphs with k=30 nodes\n"
     ]
    },
    {
     "name": "stderr",
     "output_type": "stream",
     "text": [
      "100%|████████████████████████████████████████| 100/100 [00:00<00:00, 815.27it/s]\n",
      "100%|████████████████████████████████████████| 100/100 [00:00<00:00, 709.61it/s]\n",
      "100%|████████████████████████████████████████| 100/100 [00:00<00:00, 870.80it/s]\n",
      "100%|████████████████████████████████████████| 100/100 [00:00<00:00, 146.97it/s]\n",
      "100%|████████████████████████████████████████| 100/100 [00:00<00:00, 147.28it/s]\n",
      "100%|████████████████████████████████████████| 100/100 [00:00<00:00, 158.42it/s]\n",
      "100%|████████████████████████████████████████| 100/100 [00:00<00:00, 132.25it/s]\n"
     ]
    },
    {
     "name": "stdout",
     "output_type": "stream",
     "text": [
      "extracting subgraph features..\n"
     ]
    },
    {
     "name": "stderr",
     "output_type": "stream",
     "text": [
      "100%|█████████████████████████████████████████| 700/700 [22:47<00:00,  1.95s/it]\n"
     ]
    },
    {
     "name": "stdout",
     "output_type": "stream",
     "text": [
      "X.shape (700, 1)\n",
      "method = num_nodes, AUC = 0.500000\n",
      "X.shape (700, 1)\n",
      "method = num_edges, AUC = 0.861745\n",
      "X.shape (700, 1)\n",
      "method = min_degree, AUC = 0.586234\n",
      "X.shape (700, 1)\n",
      "method = max_degree, AUC = 0.780712\n",
      "X.shape (700, 1)\n",
      "method = diameter, AUC = 0.839536\n",
      "X.shape (700, 1)\n",
      "method = degree_assortativity_coef, AUC = 0.669868\n",
      "X.shape (700, 1)\n",
      "method = num_cliques, AUC = 0.738896\n",
      "X.shape (700, 1)\n",
      "method = Avg_clustering_coeff, AUC = 0.811925\n",
      "X.shape (700, 1)\n",
      "method = edeg_density, AUC = 0.861745\n",
      "X.shape (700, 25)\n",
      "method = MACC k0=5, AUC = 0.924370\n",
      "X.shape (700, 100)\n",
      "method = MACC k0=10, AUC = 0.949580\n",
      "X.shape (700, 400)\n",
      "method = MACC k0=20, AUC = 0.967587\n",
      "X.shape (700, 900)\n",
      "method = MACC k0=30, AUC = 0.948379\n",
      "Classifying subgraphs in Reed98-UCLA26 ...\n",
      "sampling subgraphs with k=30 nodes\n"
     ]
    },
    {
     "name": "stderr",
     "output_type": "stream",
     "text": [
      "100%|████████████████████████████████████████| 100/100 [00:00<00:00, 862.93it/s]\n",
      "100%|████████████████████████████████████████| 100/100 [00:00<00:00, 739.13it/s]\n",
      "100%|████████████████████████████████████████| 100/100 [00:00<00:00, 856.30it/s]\n",
      "100%|████████████████████████████████████████| 100/100 [00:00<00:00, 144.99it/s]\n",
      "100%|████████████████████████████████████████| 100/100 [00:00<00:00, 148.53it/s]\n",
      "100%|████████████████████████████████████████| 100/100 [00:00<00:00, 164.91it/s]\n",
      "100%|████████████████████████████████████████| 100/100 [00:00<00:00, 137.97it/s]\n"
     ]
    },
    {
     "name": "stdout",
     "output_type": "stream",
     "text": [
      "extracting subgraph features..\n"
     ]
    },
    {
     "name": "stderr",
     "output_type": "stream",
     "text": [
      "100%|█████████████████████████████████████████| 700/700 [22:55<00:00,  1.97s/it]\n"
     ]
    },
    {
     "name": "stdout",
     "output_type": "stream",
     "text": [
      "X.shape (700, 1)\n",
      "method = num_nodes, AUC = 0.500000\n",
      "X.shape (700, 1)\n",
      "method = num_edges, AUC = 0.801120\n",
      "X.shape (700, 1)\n",
      "method = min_degree, AUC = 0.540816\n",
      "X.shape (700, 1)\n",
      "method = max_degree, AUC = 0.688275\n",
      "X.shape (700, 1)\n",
      "method = diameter, AUC = 0.764506\n",
      "X.shape (700, 1)\n",
      "method = degree_assortativity_coef, AUC = 0.582233\n",
      "X.shape (700, 1)\n",
      "method = num_cliques, AUC = 0.690476\n",
      "X.shape (700, 1)\n",
      "method = Avg_clustering_coeff, AUC = 0.770308\n",
      "X.shape (700, 1)\n",
      "method = edeg_density, AUC = 0.801120\n",
      "X.shape (700, 25)\n",
      "method = MACC k0=5, AUC = 0.882353\n",
      "X.shape (700, 100)\n",
      "method = MACC k0=10, AUC = 0.937175\n",
      "X.shape (700, 400)\n",
      "method = MACC k0=20, AUC = 0.911164\n",
      "X.shape (700, 900)\n",
      "method = MACC k0=30, AUC = 0.907163\n",
      "Classifying subgraphs in Reed98-Wisconsin87 ...\n",
      "sampling subgraphs with k=30 nodes\n"
     ]
    },
    {
     "name": "stderr",
     "output_type": "stream",
     "text": [
      "100%|████████████████████████████████████████| 100/100 [00:00<00:00, 815.35it/s]\n",
      "100%|████████████████████████████████████████| 100/100 [00:00<00:00, 753.94it/s]\n",
      "100%|████████████████████████████████████████| 100/100 [00:00<00:00, 854.68it/s]\n",
      "100%|████████████████████████████████████████| 100/100 [00:00<00:00, 150.15it/s]\n",
      "100%|████████████████████████████████████████| 100/100 [00:00<00:00, 149.38it/s]\n",
      "100%|████████████████████████████████████████| 100/100 [00:00<00:00, 165.32it/s]\n",
      "100%|████████████████████████████████████████| 100/100 [00:00<00:00, 140.97it/s]\n"
     ]
    },
    {
     "name": "stdout",
     "output_type": "stream",
     "text": [
      "extracting subgraph features..\n"
     ]
    },
    {
     "name": "stderr",
     "output_type": "stream",
     "text": [
      "100%|█████████████████████████████████████████| 700/700 [22:55<00:00,  1.96s/it]\n"
     ]
    },
    {
     "name": "stdout",
     "output_type": "stream",
     "text": [
      "X.shape (700, 1)\n",
      "method = num_nodes, AUC = 0.500000\n",
      "X.shape (700, 1)\n",
      "method = num_edges, AUC = 0.840936\n",
      "X.shape (700, 1)\n",
      "method = min_degree, AUC = 0.600240\n",
      "X.shape (700, 1)\n",
      "method = max_degree, AUC = 0.718487\n",
      "X.shape (700, 1)\n",
      "method = diameter, AUC = 0.820328\n",
      "X.shape (700, 1)\n",
      "method = degree_assortativity_coef, AUC = 0.609044\n",
      "X.shape (700, 1)\n",
      "method = num_cliques, AUC = 0.733493\n",
      "X.shape (700, 1)\n",
      "method = Avg_clustering_coeff, AUC = 0.697479\n",
      "X.shape (700, 1)\n",
      "method = edeg_density, AUC = 0.840936\n",
      "X.shape (700, 25)\n",
      "method = MACC k0=5, AUC = 0.913565\n",
      "X.shape (700, 100)\n",
      "method = MACC k0=10, AUC = 0.939576\n",
      "X.shape (700, 400)\n",
      "method = MACC k0=20, AUC = 0.903561\n",
      "X.shape (700, 900)\n",
      "method = MACC k0=30, AUC = 0.928371\n",
      "Classifying subgraphs in NYU9-Virginia63 ...\n",
      "sampling subgraphs with k=30 nodes\n"
     ]
    },
    {
     "name": "stderr",
     "output_type": "stream",
     "text": [
      "100%|████████████████████████████████████████| 100/100 [00:00<00:00, 810.00it/s]\n",
      "100%|████████████████████████████████████████| 100/100 [00:00<00:00, 761.29it/s]\n",
      "100%|████████████████████████████████████████| 100/100 [00:00<00:00, 869.63it/s]\n",
      "100%|████████████████████████████████████████| 100/100 [00:00<00:00, 149.06it/s]\n",
      "100%|████████████████████████████████████████| 100/100 [00:00<00:00, 148.74it/s]\n",
      "100%|████████████████████████████████████████| 100/100 [00:00<00:00, 157.73it/s]\n",
      "100%|████████████████████████████████████████| 100/100 [00:00<00:00, 134.51it/s]\n"
     ]
    },
    {
     "name": "stdout",
     "output_type": "stream",
     "text": [
      "extracting subgraph features..\n"
     ]
    },
    {
     "name": "stderr",
     "output_type": "stream",
     "text": [
      "100%|█████████████████████████████████████████| 700/700 [22:45<00:00,  1.95s/it]\n"
     ]
    },
    {
     "name": "stdout",
     "output_type": "stream",
     "text": [
      "X.shape (700, 1)\n",
      "method = num_nodes, AUC = 0.500000\n",
      "X.shape (700, 1)\n",
      "method = num_edges, AUC = 0.822129\n",
      "X.shape (700, 1)\n",
      "method = min_degree, AUC = 0.628051\n",
      "X.shape (700, 1)\n",
      "method = max_degree, AUC = 0.677471\n",
      "X.shape (700, 1)\n",
      "method = diameter, AUC = 0.781513\n",
      "X.shape (700, 1)\n",
      "method = degree_assortativity_coef, AUC = 0.630652\n",
      "X.shape (700, 1)\n",
      "method = num_cliques, AUC = 0.714486\n",
      "X.shape (700, 1)\n",
      "method = Avg_clustering_coeff, AUC = 0.715886\n",
      "X.shape (700, 1)\n",
      "method = edeg_density, AUC = 0.822129\n",
      "X.shape (700, 25)\n",
      "method = MACC k0=5, AUC = 0.862345\n",
      "X.shape (700, 100)\n",
      "method = MACC k0=10, AUC = 0.924370\n",
      "X.shape (700, 400)\n",
      "method = MACC k0=20, AUC = 0.926771\n",
      "X.shape (700, 900)\n",
      "method = MACC k0=30, AUC = 0.929972\n",
      "Classifying subgraphs in NYU9-UCLA26 ...\n",
      "sampling subgraphs with k=30 nodes\n"
     ]
    },
    {
     "name": "stderr",
     "output_type": "stream",
     "text": [
      "100%|████████████████████████████████████████| 100/100 [00:00<00:00, 863.93it/s]\n",
      "100%|████████████████████████████████████████| 100/100 [00:00<00:00, 757.96it/s]\n",
      "100%|████████████████████████████████████████| 100/100 [00:00<00:00, 850.33it/s]\n",
      "100%|████████████████████████████████████████| 100/100 [00:00<00:00, 147.67it/s]\n",
      "100%|████████████████████████████████████████| 100/100 [00:00<00:00, 150.22it/s]\n",
      "100%|████████████████████████████████████████| 100/100 [00:00<00:00, 164.63it/s]\n",
      "100%|████████████████████████████████████████| 100/100 [00:00<00:00, 137.82it/s]\n"
     ]
    },
    {
     "name": "stdout",
     "output_type": "stream",
     "text": [
      "extracting subgraph features..\n"
     ]
    },
    {
     "name": "stderr",
     "output_type": "stream",
     "text": [
      "100%|█████████████████████████████████████████| 700/700 [22:44<00:00,  1.95s/it]\n"
     ]
    },
    {
     "name": "stdout",
     "output_type": "stream",
     "text": [
      "X.shape (700, 1)\n",
      "method = num_nodes, AUC = 0.500000\n",
      "X.shape (700, 1)\n",
      "method = num_edges, AUC = 0.870548\n",
      "X.shape (700, 1)\n",
      "method = min_degree, AUC = 0.519408\n",
      "X.shape (700, 1)\n",
      "method = max_degree, AUC = 0.808924\n",
      "X.shape (700, 1)\n",
      "method = diameter, AUC = 0.780312\n",
      "X.shape (700, 1)\n",
      "method = degree_assortativity_coef, AUC = 0.591837\n",
      "X.shape (700, 1)\n",
      "method = num_cliques, AUC = 0.767507\n",
      "X.shape (700, 1)\n",
      "method = Avg_clustering_coeff, AUC = 0.846739\n",
      "X.shape (700, 1)\n",
      "method = edeg_density, AUC = 0.870548\n",
      "X.shape (700, 25)\n",
      "method = MACC k0=5, AUC = 0.890356\n",
      "X.shape (700, 100)\n",
      "method = MACC k0=10, AUC = 0.933173\n",
      "X.shape (700, 400)\n",
      "method = MACC k0=20, AUC = 0.937575\n",
      "X.shape (700, 900)\n",
      "method = MACC k0=30, AUC = 0.924770\n",
      "Classifying subgraphs in NYU9-Wisconsin87 ...\n",
      "sampling subgraphs with k=30 nodes\n"
     ]
    },
    {
     "name": "stderr",
     "output_type": "stream",
     "text": [
      "100%|████████████████████████████████████████| 100/100 [00:00<00:00, 806.04it/s]\n",
      "100%|████████████████████████████████████████| 100/100 [00:00<00:00, 764.36it/s]\n",
      "100%|████████████████████████████████████████| 100/100 [00:00<00:00, 855.53it/s]\n",
      "100%|████████████████████████████████████████| 100/100 [00:00<00:00, 147.88it/s]\n",
      "100%|████████████████████████████████████████| 100/100 [00:00<00:00, 151.95it/s]\n",
      "100%|████████████████████████████████████████| 100/100 [00:00<00:00, 166.90it/s]\n",
      "100%|████████████████████████████████████████| 100/100 [00:00<00:00, 140.87it/s]\n"
     ]
    },
    {
     "name": "stdout",
     "output_type": "stream",
     "text": [
      "extracting subgraph features..\n"
     ]
    },
    {
     "name": "stderr",
     "output_type": "stream",
     "text": [
      "100%|█████████████████████████████████████████| 700/700 [22:44<00:00,  1.95s/it]\n"
     ]
    },
    {
     "name": "stdout",
     "output_type": "stream",
     "text": [
      "X.shape (700, 1)\n",
      "method = num_nodes, AUC = 0.500000\n",
      "X.shape (700, 1)\n",
      "method = num_edges, AUC = 0.879152\n",
      "X.shape (700, 1)\n",
      "method = min_degree, AUC = 0.652261\n",
      "X.shape (700, 1)\n",
      "method = max_degree, AUC = 0.793717\n",
      "X.shape (700, 1)\n",
      "method = diameter, AUC = 0.856343\n",
      "X.shape (700, 1)\n",
      "method = degree_assortativity_coef, AUC = 0.683473\n",
      "X.shape (700, 1)\n",
      "method = num_cliques, AUC = 0.750500\n",
      "X.shape (700, 1)\n",
      "method = Avg_clustering_coeff, AUC = 0.701481\n",
      "X.shape (700, 1)\n",
      "method = edeg_density, AUC = 0.879152\n",
      "X.shape (700, 25)\n",
      "method = MACC k0=5, AUC = 0.913165\n",
      "X.shape (700, 100)\n",
      "method = MACC k0=10, AUC = 0.938776\n",
      "X.shape (700, 400)\n",
      "method = MACC k0=20, AUC = 0.942377\n",
      "X.shape (700, 900)\n",
      "method = MACC k0=30, AUC = 0.958784\n",
      "Classifying subgraphs in Virginia63-UCLA26 ...\n",
      "sampling subgraphs with k=30 nodes\n"
     ]
    },
    {
     "name": "stderr",
     "output_type": "stream",
     "text": [
      "100%|████████████████████████████████████████| 100/100 [00:00<00:00, 757.57it/s]\n",
      "100%|████████████████████████████████████████| 100/100 [00:00<00:00, 754.65it/s]\n",
      "100%|████████████████████████████████████████| 100/100 [00:00<00:00, 846.60it/s]\n",
      "100%|████████████████████████████████████████| 100/100 [00:00<00:00, 147.59it/s]\n",
      "100%|████████████████████████████████████████| 100/100 [00:00<00:00, 148.78it/s]\n",
      "100%|████████████████████████████████████████| 100/100 [00:00<00:00, 121.84it/s]\n",
      "100%|████████████████████████████████████████| 100/100 [00:00<00:00, 135.01it/s]\n"
     ]
    },
    {
     "name": "stdout",
     "output_type": "stream",
     "text": [
      "extracting subgraph features..\n"
     ]
    },
    {
     "name": "stderr",
     "output_type": "stream",
     "text": [
      "100%|█████████████████████████████████████████| 700/700 [22:46<00:00,  1.95s/it]\n"
     ]
    },
    {
     "name": "stdout",
     "output_type": "stream",
     "text": [
      "X.shape (700, 1)\n",
      "method = num_nodes, AUC = 0.500000\n",
      "X.shape (700, 1)\n",
      "method = num_edges, AUC = 0.884754\n",
      "X.shape (700, 1)\n",
      "method = min_degree, AUC = 0.494398\n",
      "X.shape (700, 1)\n",
      "method = max_degree, AUC = 0.764706\n",
      "X.shape (700, 1)\n",
      "method = diameter, AUC = 0.791317\n",
      "X.shape (700, 1)\n",
      "method = degree_assortativity_coef, AUC = 0.691877\n",
      "X.shape (700, 1)\n",
      "method = num_cliques, AUC = 0.713085\n",
      "X.shape (700, 1)\n",
      "method = Avg_clustering_coeff, AUC = 0.730692\n",
      "X.shape (700, 1)\n",
      "method = edeg_density, AUC = 0.884754\n",
      "X.shape (700, 25)\n",
      "method = MACC k0=5, AUC = 0.881152\n",
      "X.shape (700, 100)\n",
      "method = MACC k0=10, AUC = 0.864746\n",
      "X.shape (700, 400)\n",
      "method = MACC k0=20, AUC = 0.885554\n",
      "X.shape (700, 900)\n",
      "method = MACC k0=30, AUC = 0.870348\n",
      "Classifying subgraphs in Virginia63-Wisconsin87 ...\n",
      "sampling subgraphs with k=30 nodes\n"
     ]
    },
    {
     "name": "stderr",
     "output_type": "stream",
     "text": [
      "100%|████████████████████████████████████████| 100/100 [00:00<00:00, 785.16it/s]\n",
      "100%|████████████████████████████████████████| 100/100 [00:00<00:00, 567.14it/s]\n",
      "100%|████████████████████████████████████████| 100/100 [00:00<00:00, 848.64it/s]\n",
      "100%|████████████████████████████████████████| 100/100 [00:00<00:00, 144.49it/s]\n",
      "100%|████████████████████████████████████████| 100/100 [00:00<00:00, 152.06it/s]\n",
      "100%|████████████████████████████████████████| 100/100 [00:00<00:00, 160.09it/s]\n",
      "100%|████████████████████████████████████████| 100/100 [00:00<00:00, 139.17it/s]\n"
     ]
    },
    {
     "name": "stdout",
     "output_type": "stream",
     "text": [
      "extracting subgraph features..\n"
     ]
    },
    {
     "name": "stderr",
     "output_type": "stream",
     "text": [
      "100%|█████████████████████████████████████████| 700/700 [22:42<00:00,  1.95s/it]\n"
     ]
    },
    {
     "name": "stdout",
     "output_type": "stream",
     "text": [
      "X.shape (700, 1)\n",
      "method = num_nodes, AUC = 0.500000\n",
      "X.shape (700, 1)\n",
      "method = num_edges, AUC = 0.807723\n",
      "X.shape (700, 1)\n",
      "method = min_degree, AUC = 0.578231\n",
      "X.shape (700, 1)\n",
      "method = max_degree, AUC = 0.698079\n",
      "X.shape (700, 1)\n",
      "method = diameter, AUC = 0.827731\n",
      "X.shape (700, 1)\n",
      "method = degree_assortativity_coef, AUC = 0.621849\n",
      "X.shape (700, 1)\n",
      "method = num_cliques, AUC = 0.711084\n",
      "X.shape (700, 1)\n",
      "method = Avg_clustering_coeff, AUC = 0.710684\n",
      "X.shape (700, 1)\n",
      "method = edeg_density, AUC = 0.807723\n",
      "X.shape (700, 25)\n",
      "method = MACC k0=5, AUC = 0.848739\n",
      "X.shape (700, 100)\n",
      "method = MACC k0=10, AUC = 0.920768\n",
      "X.shape (700, 400)\n",
      "method = MACC k0=20, AUC = 0.941176\n",
      "X.shape (700, 900)\n",
      "method = MACC k0=30, AUC = 0.942777\n",
      "Classifying subgraphs in UCLA26-Wisconsin87 ...\n",
      "sampling subgraphs with k=30 nodes\n"
     ]
    },
    {
     "name": "stderr",
     "output_type": "stream",
     "text": [
      "100%|████████████████████████████████████████| 100/100 [00:00<00:00, 878.02it/s]\n",
      "100%|████████████████████████████████████████| 100/100 [00:00<00:00, 742.86it/s]\n",
      "100%|████████████████████████████████████████| 100/100 [00:00<00:00, 852.71it/s]\n",
      "100%|████████████████████████████████████████| 100/100 [00:00<00:00, 114.71it/s]\n",
      "100%|████████████████████████████████████████| 100/100 [00:00<00:00, 148.04it/s]\n",
      "100%|████████████████████████████████████████| 100/100 [00:00<00:00, 161.93it/s]\n",
      "100%|████████████████████████████████████████| 100/100 [00:00<00:00, 131.40it/s]\n"
     ]
    },
    {
     "name": "stdout",
     "output_type": "stream",
     "text": [
      "extracting subgraph features..\n"
     ]
    },
    {
     "name": "stderr",
     "output_type": "stream",
     "text": [
      "100%|█████████████████████████████████████████| 700/700 [23:07<00:00,  1.98s/it]\n"
     ]
    },
    {
     "name": "stdout",
     "output_type": "stream",
     "text": [
      "X.shape (700, 1)\n",
      "method = num_nodes, AUC = 0.500000\n",
      "X.shape (700, 1)\n",
      "method = num_edges, AUC = 0.825930\n",
      "X.shape (700, 1)\n",
      "method = min_degree, AUC = 0.569628\n",
      "X.shape (700, 1)\n",
      "method = max_degree, AUC = 0.739096\n",
      "X.shape (700, 1)\n",
      "method = diameter, AUC = 0.782113\n",
      "X.shape (700, 1)\n",
      "method = degree_assortativity_coef, AUC = 0.551421\n",
      "X.shape (700, 1)\n",
      "method = num_cliques, AUC = 0.766907\n",
      "X.shape (700, 1)\n",
      "method = Avg_clustering_coeff, AUC = 0.778311\n",
      "X.shape (700, 1)\n",
      "method = edeg_density, AUC = 0.825930\n",
      "X.shape (700, 25)\n",
      "method = MACC k0=5, AUC = 0.893958\n",
      "X.shape (700, 100)\n",
      "method = MACC k0=10, AUC = 0.892357\n",
      "X.shape (700, 400)\n",
      "method = MACC k0=20, AUC = 0.912365\n",
      "X.shape (700, 900)\n",
      "method = MACC k0=30, AUC = 0.898359\n"
     ]
    }
   ],
   "source": [
    "# Subgraph sampling for subgraph classification\n",
    "# Output = subgraph_list as NNetwork objects\n",
    "\n",
    "ntwk_list = ['Caltech36', 'Simmons81', 'Reed98', 'NYU9', 'Virginia63', 'UCLA26', 'Wisconsin87'] # Wisconsin87, UCLA26, Caltech36\n",
    "\n",
    "#ntwk_list = ['Caltech36', 'Simmons81', 'Reed98', 'NYU9'] # Wisconsin87, UCLA26, Caltech36\n",
    "\n",
    "label_list = []\n",
    "subgraph_list = []\n",
    "num_subgraphs = 100\n",
    "k_list = [30]\n",
    "k0_list = [5, 10,20,30]\n",
    "\n",
    "#X_MACC = []\n",
    "#X_edge_density = []\n",
    "#X_adj = []\n",
    "\n",
    "nn_network_list = []\n",
    "for ntwk in ntwk_list:\n",
    "    ntwk_nonumber = ''.join([i for i in ntwk if not i.isdigit()])\n",
    "    path = \"Data/Facebook/\" + str(ntwk) + '.txt'\n",
    "    G = nn.NNetwork()\n",
    "    G.load_add_edges(path, increment_weights=False, use_genfromtxt=True)\n",
    "    nn_network_list.append(G)\n",
    "    print('num nodes in G', len(G.nodes()))\n",
    "    print('num edges in G', len(G.get_edges()))\n",
    "\n",
    "y = [0]*num_subgraphs + [1]*num_subgraphs\n",
    "\n",
    "results_all = {}\n",
    "\n",
    "for a in np.arange(len(nn_network_list)):\n",
    "    for b in np.arange(a+1, len(nn_network_list)):\n",
    "        if a != b:\n",
    "            nn_network_list_sub = [nn_network_list[a],nn_network_list[b]]\n",
    "            print(\"Classifying subgraphs in {}-{} ...\".format(ntwk_list[a], ntwk_list[b]))\n",
    "\n",
    "            subgraph_list_dict = {}\n",
    "            output_dict_list_total = {}\n",
    "\n",
    "            for k in k_list:\n",
    "                print(\"sampling subgraphs with k={} nodes\".format(k))\n",
    "                subgraph_list = []\n",
    "                for q in np.arange(len(nn_network_list)):\n",
    "                    G = nn_network_list[q]\n",
    "\n",
    "                    for i in trange(num_subgraphs):\n",
    "                        label_list.append(str(ntwk))\n",
    "\n",
    "                        # take the induced subgraph \n",
    "                        #X, embs = G.get_patches(k=k, sample_size=10, skip_folded_hom=False, sampling_alg = 'pivot')\n",
    "                        #H = G.subgraph(embs[-1]) # take the last instance of MCMC sampling\n",
    "                    \n",
    "                        H = G.k_node_ind_subgraph(k=k)\n",
    "                        while H is None:\n",
    "                            H = G.k_node_ind_subgraph(k=k)\n",
    "                        \n",
    "                        #A_adj = H.get_adjacency_matrix()\n",
    "                        subgraph_list.append(H)\n",
    "                        #subgraph_list.append(A_adj)\n",
    "\n",
    "                        \"\"\"\n",
    "                        ## compute summary stats of subgraphs \n",
    "\n",
    "                        A_adj = H.get_adjacency_matrix()\n",
    "                        X_adj.append(A_adj)\n",
    "\n",
    "                        X0, embs0 = H.get_patches(k=k0, sample_size=1000, skip_folded_hom=False, sampling_alg = 'pivot')\n",
    "                        MACC = np.sum(X0, axis=1)/X0.shape[1]\n",
    "                        MACC = MACC.reshape(k0,k0)\n",
    "                        X_MACC.append(MACC)\n",
    "\n",
    "                        X_edge_density.append(np.linalg.norm(A_adj, 1)/len(H.nodes()))\n",
    "                        \"\"\"\n",
    "\n",
    "                subgraph_list_dict.update({\"k={}\".format(k) : subgraph_list})\n",
    "\n",
    "                print(\"extracting subgraph features..\")\n",
    "                output_dict_list = datagen_graph_features(X=subgraph_list, k0_list = k0_list)\n",
    "                results_dict_total = run_binary_classification(output_dict_list, y=y, scale=0.3)\n",
    "\n",
    "                output_dict_list_total.update({\"subgraph_list\": subgraph_list_dict})\n",
    "                output_dict_list_total.update({\"k={}\".format(k): results_dict_total})\n",
    "            output_dict_list_total.update({\"subgraph_list\": subgraph_list_dict})\n",
    "            results_all.update({\"{}-{}\".format(ntwk_list[a], ntwk_list[b]) : output_dict_list_total})\n",
    "            np.save(\"Output_files/subgraph_classification_data30\", results_all)"
   ]
  },
  {
   "cell_type": "code",
   "execution_count": 82,
   "id": "a16f7658",
   "metadata": {},
   "outputs": [],
   "source": [
    "path = \"Output_files/subgraph_classification_data30.npy\"\n",
    "a = np.load(path, allow_pickle=True).item()"
   ]
  },
  {
   "cell_type": "code",
   "execution_count": 98,
   "id": "cd95df9c",
   "metadata": {},
   "outputs": [
    {
     "data": {
      "text/plain": [
       "dict_keys(['Caltech36-Simmons81', 'Caltech36-Reed98', 'Caltech36-NYU9', 'Caltech36-Virginia63', 'Caltech36-UCLA26', 'Caltech36-Wisconsin87', 'Simmons81-Reed98', 'Simmons81-NYU9', 'Simmons81-Virginia63', 'Simmons81-UCLA26', 'Simmons81-Wisconsin87', 'Reed98-NYU9', 'Reed98-Virginia63', 'Reed98-UCLA26', 'Reed98-Wisconsin87', 'NYU9-Virginia63', 'NYU9-UCLA26', 'NYU9-Wisconsin87', 'Virginia63-UCLA26', 'Virginia63-Wisconsin87', 'UCLA26-Wisconsin87'])"
      ]
     },
     "execution_count": 98,
     "metadata": {},
     "output_type": "execute_result"
    }
   ],
   "source": [
    "a.keys()"
   ]
  },
  {
   "cell_type": "code",
   "execution_count": 99,
   "id": "5e308f98",
   "metadata": {},
   "outputs": [],
   "source": [
    "c = a.get(\"Caltech36-Simmons81\")"
   ]
  },
  {
   "cell_type": "code",
   "execution_count": 102,
   "id": "7d8a60bc",
   "metadata": {},
   "outputs": [
    {
     "data": {
      "text/plain": [
       "dict_keys(['num_nodes', 'num_edges', 'min_degree', 'max_degree', 'diameter', 'degree_assortativity_coef', 'num_cliques', 'Avg_clustering_coeff', 'edeg_density', 'MACC k0=5', 'MACC k0=10', 'MACC k0=20', 'MACC k0=30'])"
      ]
     },
     "execution_count": 102,
     "metadata": {},
     "output_type": "execute_result"
    }
   ],
   "source": [
    "c.get(\"k=30\").keys()"
   ]
  },
  {
   "cell_type": "code",
   "execution_count": 109,
   "id": "625df9f3",
   "metadata": {},
   "outputs": [
    {
     "data": {
      "text/plain": [
       "dict_keys(['Y_test', 'Y_pred', 'AUC', 'Opt_threshold', 'Accuracy', 'Sensitivity', 'Specificity', 'Precision', 'Fall_out', 'Miss_rate'])"
      ]
     },
     "execution_count": 109,
     "metadata": {},
     "output_type": "execute_result"
    }
   ],
   "source": [
    "c.get(\"diameter\").keys()"
   ]
  },
  {
   "cell_type": "code",
   "execution_count": 110,
   "id": "43e126c9",
   "metadata": {},
   "outputs": [
    {
     "name": "stdout",
     "output_type": "stream",
     "text": [
      "Caltech36-Wisconsin87, method=num_nodes, AUC=0.5\n",
      "Caltech36-Wisconsin87, method=num_edges, AUC=0.8673469387755103\n",
      "Caltech36-Wisconsin87, method=min_degree, AUC=0.6318527410964385\n",
      "Caltech36-Wisconsin87, method=max_degree, AUC=0.7691076430572229\n",
      "Caltech36-Wisconsin87, method=diameter, AUC=0.8105242096838735\n",
      "Caltech36-Wisconsin87, method=degree_assortativity_coef, AUC=0.6742697078831532\n",
      "Caltech36-Wisconsin87, method=num_cliques, AUC=0.7322929171668667\n",
      "Caltech36-Wisconsin87, method=Avg_clustering_coeff, AUC=0.7723089235694277\n",
      "Caltech36-Wisconsin87, method=edeg_density, AUC=0.8673469387755103\n",
      "Caltech36-Wisconsin87, method=MACC k0=5, AUC=0.9107643057222888\n",
      "Caltech36-Wisconsin87, method=MACC k0=10, AUC=0.9191676670668267\n",
      "Caltech36-Wisconsin87, method=MACC k0=20, AUC=0.9171668667466987\n",
      "Caltech36-Wisconsin87, method=MACC k0=30, AUC=0.8975590236094437\n",
      "Caltech36-Wisconsin87, method=num_nodes, AUC=0.5\n",
      "Caltech36-Wisconsin87, method=num_edges, AUC=0.8673469387755103\n",
      "Caltech36-Wisconsin87, method=min_degree, AUC=0.6318527410964385\n",
      "Caltech36-Wisconsin87, method=max_degree, AUC=0.7691076430572229\n",
      "Caltech36-Wisconsin87, method=diameter, AUC=0.8105242096838735\n",
      "Caltech36-Wisconsin87, method=degree_assortativity_coef, AUC=0.6742697078831532\n",
      "Caltech36-Wisconsin87, method=num_cliques, AUC=0.7322929171668667\n",
      "Caltech36-Wisconsin87, method=Avg_clustering_coeff, AUC=0.7723089235694277\n",
      "Caltech36-Wisconsin87, method=edeg_density, AUC=0.8673469387755103\n",
      "Caltech36-Wisconsin87, method=MACC k0=5, AUC=0.9107643057222888\n",
      "Caltech36-Wisconsin87, method=MACC k0=10, AUC=0.9191676670668267\n",
      "Caltech36-Wisconsin87, method=MACC k0=20, AUC=0.9171668667466987\n",
      "Caltech36-Wisconsin87, method=MACC k0=30, AUC=0.8975590236094437\n",
      "Caltech36-Wisconsin87, method=num_nodes, AUC=0.5\n",
      "Caltech36-Wisconsin87, method=num_edges, AUC=0.8673469387755103\n",
      "Caltech36-Wisconsin87, method=min_degree, AUC=0.6318527410964385\n",
      "Caltech36-Wisconsin87, method=max_degree, AUC=0.7691076430572229\n",
      "Caltech36-Wisconsin87, method=diameter, AUC=0.8105242096838735\n",
      "Caltech36-Wisconsin87, method=degree_assortativity_coef, AUC=0.6742697078831532\n",
      "Caltech36-Wisconsin87, method=num_cliques, AUC=0.7322929171668667\n",
      "Caltech36-Wisconsin87, method=Avg_clustering_coeff, AUC=0.7723089235694277\n",
      "Caltech36-Wisconsin87, method=edeg_density, AUC=0.8673469387755103\n",
      "Caltech36-Wisconsin87, method=MACC k0=5, AUC=0.9107643057222888\n",
      "Caltech36-Wisconsin87, method=MACC k0=10, AUC=0.9191676670668267\n",
      "Caltech36-Wisconsin87, method=MACC k0=20, AUC=0.9171668667466987\n",
      "Caltech36-Wisconsin87, method=MACC k0=30, AUC=0.8975590236094437\n",
      "Caltech36-Wisconsin87, method=num_nodes, AUC=0.5\n",
      "Caltech36-Wisconsin87, method=num_edges, AUC=0.8673469387755103\n",
      "Caltech36-Wisconsin87, method=min_degree, AUC=0.6318527410964385\n",
      "Caltech36-Wisconsin87, method=max_degree, AUC=0.7691076430572229\n",
      "Caltech36-Wisconsin87, method=diameter, AUC=0.8105242096838735\n",
      "Caltech36-Wisconsin87, method=degree_assortativity_coef, AUC=0.6742697078831532\n",
      "Caltech36-Wisconsin87, method=num_cliques, AUC=0.7322929171668667\n",
      "Caltech36-Wisconsin87, method=Avg_clustering_coeff, AUC=0.7723089235694277\n",
      "Caltech36-Wisconsin87, method=edeg_density, AUC=0.8673469387755103\n",
      "Caltech36-Wisconsin87, method=MACC k0=5, AUC=0.9107643057222888\n",
      "Caltech36-Wisconsin87, method=MACC k0=10, AUC=0.9191676670668267\n",
      "Caltech36-Wisconsin87, method=MACC k0=20, AUC=0.9171668667466987\n",
      "Caltech36-Wisconsin87, method=MACC k0=30, AUC=0.8975590236094437\n",
      "Caltech36-Wisconsin87, method=num_nodes, AUC=0.5\n",
      "Caltech36-Wisconsin87, method=num_edges, AUC=0.8673469387755103\n",
      "Caltech36-Wisconsin87, method=min_degree, AUC=0.6318527410964385\n",
      "Caltech36-Wisconsin87, method=max_degree, AUC=0.7691076430572229\n",
      "Caltech36-Wisconsin87, method=diameter, AUC=0.8105242096838735\n",
      "Caltech36-Wisconsin87, method=degree_assortativity_coef, AUC=0.6742697078831532\n",
      "Caltech36-Wisconsin87, method=num_cliques, AUC=0.7322929171668667\n",
      "Caltech36-Wisconsin87, method=Avg_clustering_coeff, AUC=0.7723089235694277\n",
      "Caltech36-Wisconsin87, method=edeg_density, AUC=0.8673469387755103\n",
      "Caltech36-Wisconsin87, method=MACC k0=5, AUC=0.9107643057222888\n",
      "Caltech36-Wisconsin87, method=MACC k0=10, AUC=0.9191676670668267\n",
      "Caltech36-Wisconsin87, method=MACC k0=20, AUC=0.9171668667466987\n",
      "Caltech36-Wisconsin87, method=MACC k0=30, AUC=0.8975590236094437\n",
      "Caltech36-Wisconsin87, method=num_nodes, AUC=0.5\n",
      "Caltech36-Wisconsin87, method=num_edges, AUC=0.8673469387755103\n",
      "Caltech36-Wisconsin87, method=min_degree, AUC=0.6318527410964385\n",
      "Caltech36-Wisconsin87, method=max_degree, AUC=0.7691076430572229\n",
      "Caltech36-Wisconsin87, method=diameter, AUC=0.8105242096838735\n",
      "Caltech36-Wisconsin87, method=degree_assortativity_coef, AUC=0.6742697078831532\n",
      "Caltech36-Wisconsin87, method=num_cliques, AUC=0.7322929171668667\n",
      "Caltech36-Wisconsin87, method=Avg_clustering_coeff, AUC=0.7723089235694277\n",
      "Caltech36-Wisconsin87, method=edeg_density, AUC=0.8673469387755103\n",
      "Caltech36-Wisconsin87, method=MACC k0=5, AUC=0.9107643057222888\n",
      "Caltech36-Wisconsin87, method=MACC k0=10, AUC=0.9191676670668267\n",
      "Caltech36-Wisconsin87, method=MACC k0=20, AUC=0.9171668667466987\n",
      "Caltech36-Wisconsin87, method=MACC k0=30, AUC=0.8975590236094437\n",
      "Caltech36-Wisconsin87, method=num_nodes, AUC=0.5\n",
      "Caltech36-Wisconsin87, method=num_edges, AUC=0.8673469387755103\n",
      "Caltech36-Wisconsin87, method=min_degree, AUC=0.6318527410964385\n",
      "Caltech36-Wisconsin87, method=max_degree, AUC=0.7691076430572229\n",
      "Caltech36-Wisconsin87, method=diameter, AUC=0.8105242096838735\n",
      "Caltech36-Wisconsin87, method=degree_assortativity_coef, AUC=0.6742697078831532\n",
      "Caltech36-Wisconsin87, method=num_cliques, AUC=0.7322929171668667\n",
      "Caltech36-Wisconsin87, method=Avg_clustering_coeff, AUC=0.7723089235694277\n",
      "Caltech36-Wisconsin87, method=edeg_density, AUC=0.8673469387755103\n",
      "Caltech36-Wisconsin87, method=MACC k0=5, AUC=0.9107643057222888\n",
      "Caltech36-Wisconsin87, method=MACC k0=10, AUC=0.9191676670668267\n",
      "Caltech36-Wisconsin87, method=MACC k0=20, AUC=0.9171668667466987\n",
      "Caltech36-Wisconsin87, method=MACC k0=30, AUC=0.8975590236094437\n",
      "Caltech36-Wisconsin87, method=num_nodes, AUC=0.5\n",
      "Caltech36-Wisconsin87, method=num_edges, AUC=0.8673469387755103\n",
      "Caltech36-Wisconsin87, method=min_degree, AUC=0.6318527410964385\n",
      "Caltech36-Wisconsin87, method=max_degree, AUC=0.7691076430572229\n",
      "Caltech36-Wisconsin87, method=diameter, AUC=0.8105242096838735\n",
      "Caltech36-Wisconsin87, method=degree_assortativity_coef, AUC=0.6742697078831532\n",
      "Caltech36-Wisconsin87, method=num_cliques, AUC=0.7322929171668667\n",
      "Caltech36-Wisconsin87, method=Avg_clustering_coeff, AUC=0.7723089235694277\n",
      "Caltech36-Wisconsin87, method=edeg_density, AUC=0.8673469387755103\n",
      "Caltech36-Wisconsin87, method=MACC k0=5, AUC=0.9107643057222888\n",
      "Caltech36-Wisconsin87, method=MACC k0=10, AUC=0.9191676670668267\n",
      "Caltech36-Wisconsin87, method=MACC k0=20, AUC=0.9171668667466987\n",
      "Caltech36-Wisconsin87, method=MACC k0=30, AUC=0.8975590236094437\n",
      "Caltech36-Wisconsin87, method=num_nodes, AUC=0.5\n",
      "Caltech36-Wisconsin87, method=num_edges, AUC=0.8673469387755103\n",
      "Caltech36-Wisconsin87, method=min_degree, AUC=0.6318527410964385\n",
      "Caltech36-Wisconsin87, method=max_degree, AUC=0.7691076430572229\n",
      "Caltech36-Wisconsin87, method=diameter, AUC=0.8105242096838735\n",
      "Caltech36-Wisconsin87, method=degree_assortativity_coef, AUC=0.6742697078831532\n",
      "Caltech36-Wisconsin87, method=num_cliques, AUC=0.7322929171668667\n",
      "Caltech36-Wisconsin87, method=Avg_clustering_coeff, AUC=0.7723089235694277\n",
      "Caltech36-Wisconsin87, method=edeg_density, AUC=0.8673469387755103\n",
      "Caltech36-Wisconsin87, method=MACC k0=5, AUC=0.9107643057222888\n",
      "Caltech36-Wisconsin87, method=MACC k0=10, AUC=0.9191676670668267\n",
      "Caltech36-Wisconsin87, method=MACC k0=20, AUC=0.9171668667466987\n",
      "Caltech36-Wisconsin87, method=MACC k0=30, AUC=0.8975590236094437\n",
      "Caltech36-Wisconsin87, method=num_nodes, AUC=0.5\n",
      "Caltech36-Wisconsin87, method=num_edges, AUC=0.8673469387755103\n",
      "Caltech36-Wisconsin87, method=min_degree, AUC=0.6318527410964385\n",
      "Caltech36-Wisconsin87, method=max_degree, AUC=0.7691076430572229\n",
      "Caltech36-Wisconsin87, method=diameter, AUC=0.8105242096838735\n",
      "Caltech36-Wisconsin87, method=degree_assortativity_coef, AUC=0.6742697078831532\n",
      "Caltech36-Wisconsin87, method=num_cliques, AUC=0.7322929171668667\n",
      "Caltech36-Wisconsin87, method=Avg_clustering_coeff, AUC=0.7723089235694277\n",
      "Caltech36-Wisconsin87, method=edeg_density, AUC=0.8673469387755103\n",
      "Caltech36-Wisconsin87, method=MACC k0=5, AUC=0.9107643057222888\n",
      "Caltech36-Wisconsin87, method=MACC k0=10, AUC=0.9191676670668267\n",
      "Caltech36-Wisconsin87, method=MACC k0=20, AUC=0.9171668667466987\n",
      "Caltech36-Wisconsin87, method=MACC k0=30, AUC=0.8975590236094437\n",
      "Caltech36-Wisconsin87, method=num_nodes, AUC=0.5\n",
      "Caltech36-Wisconsin87, method=num_edges, AUC=0.8673469387755103\n",
      "Caltech36-Wisconsin87, method=min_degree, AUC=0.6318527410964385\n",
      "Caltech36-Wisconsin87, method=max_degree, AUC=0.7691076430572229\n",
      "Caltech36-Wisconsin87, method=diameter, AUC=0.8105242096838735\n",
      "Caltech36-Wisconsin87, method=degree_assortativity_coef, AUC=0.6742697078831532\n",
      "Caltech36-Wisconsin87, method=num_cliques, AUC=0.7322929171668667\n",
      "Caltech36-Wisconsin87, method=Avg_clustering_coeff, AUC=0.7723089235694277\n",
      "Caltech36-Wisconsin87, method=edeg_density, AUC=0.8673469387755103\n",
      "Caltech36-Wisconsin87, method=MACC k0=5, AUC=0.9107643057222888\n",
      "Caltech36-Wisconsin87, method=MACC k0=10, AUC=0.9191676670668267\n",
      "Caltech36-Wisconsin87, method=MACC k0=20, AUC=0.9171668667466987\n",
      "Caltech36-Wisconsin87, method=MACC k0=30, AUC=0.8975590236094437\n",
      "Caltech36-Wisconsin87, method=num_nodes, AUC=0.5\n",
      "Caltech36-Wisconsin87, method=num_edges, AUC=0.8673469387755103\n",
      "Caltech36-Wisconsin87, method=min_degree, AUC=0.6318527410964385\n",
      "Caltech36-Wisconsin87, method=max_degree, AUC=0.7691076430572229\n",
      "Caltech36-Wisconsin87, method=diameter, AUC=0.8105242096838735\n",
      "Caltech36-Wisconsin87, method=degree_assortativity_coef, AUC=0.6742697078831532\n",
      "Caltech36-Wisconsin87, method=num_cliques, AUC=0.7322929171668667\n",
      "Caltech36-Wisconsin87, method=Avg_clustering_coeff, AUC=0.7723089235694277\n",
      "Caltech36-Wisconsin87, method=edeg_density, AUC=0.8673469387755103\n",
      "Caltech36-Wisconsin87, method=MACC k0=5, AUC=0.9107643057222888\n",
      "Caltech36-Wisconsin87, method=MACC k0=10, AUC=0.9191676670668267\n",
      "Caltech36-Wisconsin87, method=MACC k0=20, AUC=0.9171668667466987\n",
      "Caltech36-Wisconsin87, method=MACC k0=30, AUC=0.8975590236094437\n",
      "Caltech36-Wisconsin87, method=num_nodes, AUC=0.5\n",
      "Caltech36-Wisconsin87, method=num_edges, AUC=0.8673469387755103\n",
      "Caltech36-Wisconsin87, method=min_degree, AUC=0.6318527410964385\n",
      "Caltech36-Wisconsin87, method=max_degree, AUC=0.7691076430572229\n",
      "Caltech36-Wisconsin87, method=diameter, AUC=0.8105242096838735\n",
      "Caltech36-Wisconsin87, method=degree_assortativity_coef, AUC=0.6742697078831532\n",
      "Caltech36-Wisconsin87, method=num_cliques, AUC=0.7322929171668667\n",
      "Caltech36-Wisconsin87, method=Avg_clustering_coeff, AUC=0.7723089235694277\n",
      "Caltech36-Wisconsin87, method=edeg_density, AUC=0.8673469387755103\n",
      "Caltech36-Wisconsin87, method=MACC k0=5, AUC=0.9107643057222888\n",
      "Caltech36-Wisconsin87, method=MACC k0=10, AUC=0.9191676670668267\n",
      "Caltech36-Wisconsin87, method=MACC k0=20, AUC=0.9171668667466987\n",
      "Caltech36-Wisconsin87, method=MACC k0=30, AUC=0.8975590236094437\n",
      "Caltech36-Wisconsin87, method=num_nodes, AUC=0.5\n",
      "Caltech36-Wisconsin87, method=num_edges, AUC=0.8673469387755103\n",
      "Caltech36-Wisconsin87, method=min_degree, AUC=0.6318527410964385\n",
      "Caltech36-Wisconsin87, method=max_degree, AUC=0.7691076430572229\n",
      "Caltech36-Wisconsin87, method=diameter, AUC=0.8105242096838735\n",
      "Caltech36-Wisconsin87, method=degree_assortativity_coef, AUC=0.6742697078831532\n",
      "Caltech36-Wisconsin87, method=num_cliques, AUC=0.7322929171668667\n",
      "Caltech36-Wisconsin87, method=Avg_clustering_coeff, AUC=0.7723089235694277\n",
      "Caltech36-Wisconsin87, method=edeg_density, AUC=0.8673469387755103\n",
      "Caltech36-Wisconsin87, method=MACC k0=5, AUC=0.9107643057222888\n",
      "Caltech36-Wisconsin87, method=MACC k0=10, AUC=0.9191676670668267\n",
      "Caltech36-Wisconsin87, method=MACC k0=20, AUC=0.9171668667466987\n",
      "Caltech36-Wisconsin87, method=MACC k0=30, AUC=0.8975590236094437\n",
      "Caltech36-Wisconsin87, method=num_nodes, AUC=0.5\n",
      "Caltech36-Wisconsin87, method=num_edges, AUC=0.8673469387755103\n",
      "Caltech36-Wisconsin87, method=min_degree, AUC=0.6318527410964385\n",
      "Caltech36-Wisconsin87, method=max_degree, AUC=0.7691076430572229\n",
      "Caltech36-Wisconsin87, method=diameter, AUC=0.8105242096838735\n",
      "Caltech36-Wisconsin87, method=degree_assortativity_coef, AUC=0.6742697078831532\n",
      "Caltech36-Wisconsin87, method=num_cliques, AUC=0.7322929171668667\n",
      "Caltech36-Wisconsin87, method=Avg_clustering_coeff, AUC=0.7723089235694277\n",
      "Caltech36-Wisconsin87, method=edeg_density, AUC=0.8673469387755103\n",
      "Caltech36-Wisconsin87, method=MACC k0=5, AUC=0.9107643057222888\n",
      "Caltech36-Wisconsin87, method=MACC k0=10, AUC=0.9191676670668267\n",
      "Caltech36-Wisconsin87, method=MACC k0=20, AUC=0.9171668667466987\n",
      "Caltech36-Wisconsin87, method=MACC k0=30, AUC=0.8975590236094437\n",
      "Simmons81-Wisconsin87, method=num_nodes, AUC=0.5\n",
      "Simmons81-Wisconsin87, method=num_edges, AUC=0.8423369347739096\n",
      "Simmons81-Wisconsin87, method=min_degree, AUC=0.6050420168067228\n",
      "Simmons81-Wisconsin87, method=max_degree, AUC=0.723889555822329\n",
      "Simmons81-Wisconsin87, method=diameter, AUC=0.7991196478591436\n",
      "Simmons81-Wisconsin87, method=degree_assortativity_coef, AUC=0.5894357743097238\n",
      "Simmons81-Wisconsin87, method=num_cliques, AUC=0.7478991596638657\n",
      "Simmons81-Wisconsin87, method=Avg_clustering_coeff, AUC=0.7054821928771509\n",
      "Simmons81-Wisconsin87, method=edeg_density, AUC=0.8423369347739096\n",
      "Simmons81-Wisconsin87, method=MACC k0=5, AUC=0.9387755102040817\n",
      "Simmons81-Wisconsin87, method=MACC k0=10, AUC=0.9555822328931572\n",
      "Simmons81-Wisconsin87, method=MACC k0=20, AUC=0.9603841536614646\n",
      "Simmons81-Wisconsin87, method=MACC k0=30, AUC=0.9683873549419768\n",
      "Simmons81-Wisconsin87, method=num_nodes, AUC=0.5\n",
      "Simmons81-Wisconsin87, method=num_edges, AUC=0.8423369347739096\n",
      "Simmons81-Wisconsin87, method=min_degree, AUC=0.6050420168067228\n",
      "Simmons81-Wisconsin87, method=max_degree, AUC=0.723889555822329\n",
      "Simmons81-Wisconsin87, method=diameter, AUC=0.7991196478591436\n",
      "Simmons81-Wisconsin87, method=degree_assortativity_coef, AUC=0.5894357743097238\n",
      "Simmons81-Wisconsin87, method=num_cliques, AUC=0.7478991596638657\n",
      "Simmons81-Wisconsin87, method=Avg_clustering_coeff, AUC=0.7054821928771509\n",
      "Simmons81-Wisconsin87, method=edeg_density, AUC=0.8423369347739096\n",
      "Simmons81-Wisconsin87, method=MACC k0=5, AUC=0.9387755102040817\n",
      "Simmons81-Wisconsin87, method=MACC k0=10, AUC=0.9555822328931572\n",
      "Simmons81-Wisconsin87, method=MACC k0=20, AUC=0.9603841536614646\n",
      "Simmons81-Wisconsin87, method=MACC k0=30, AUC=0.9683873549419768\n",
      "Simmons81-Wisconsin87, method=num_nodes, AUC=0.5\n",
      "Simmons81-Wisconsin87, method=num_edges, AUC=0.8423369347739096\n",
      "Simmons81-Wisconsin87, method=min_degree, AUC=0.6050420168067228\n",
      "Simmons81-Wisconsin87, method=max_degree, AUC=0.723889555822329\n",
      "Simmons81-Wisconsin87, method=diameter, AUC=0.7991196478591436\n",
      "Simmons81-Wisconsin87, method=degree_assortativity_coef, AUC=0.5894357743097238\n",
      "Simmons81-Wisconsin87, method=num_cliques, AUC=0.7478991596638657\n",
      "Simmons81-Wisconsin87, method=Avg_clustering_coeff, AUC=0.7054821928771509\n",
      "Simmons81-Wisconsin87, method=edeg_density, AUC=0.8423369347739096\n",
      "Simmons81-Wisconsin87, method=MACC k0=5, AUC=0.9387755102040817\n",
      "Simmons81-Wisconsin87, method=MACC k0=10, AUC=0.9555822328931572\n",
      "Simmons81-Wisconsin87, method=MACC k0=20, AUC=0.9603841536614646\n",
      "Simmons81-Wisconsin87, method=MACC k0=30, AUC=0.9683873549419768\n",
      "Simmons81-Wisconsin87, method=num_nodes, AUC=0.5\n",
      "Simmons81-Wisconsin87, method=num_edges, AUC=0.8423369347739096\n",
      "Simmons81-Wisconsin87, method=min_degree, AUC=0.6050420168067228\n",
      "Simmons81-Wisconsin87, method=max_degree, AUC=0.723889555822329\n",
      "Simmons81-Wisconsin87, method=diameter, AUC=0.7991196478591436\n",
      "Simmons81-Wisconsin87, method=degree_assortativity_coef, AUC=0.5894357743097238\n",
      "Simmons81-Wisconsin87, method=num_cliques, AUC=0.7478991596638657\n",
      "Simmons81-Wisconsin87, method=Avg_clustering_coeff, AUC=0.7054821928771509\n",
      "Simmons81-Wisconsin87, method=edeg_density, AUC=0.8423369347739096\n",
      "Simmons81-Wisconsin87, method=MACC k0=5, AUC=0.9387755102040817\n",
      "Simmons81-Wisconsin87, method=MACC k0=10, AUC=0.9555822328931572\n",
      "Simmons81-Wisconsin87, method=MACC k0=20, AUC=0.9603841536614646\n",
      "Simmons81-Wisconsin87, method=MACC k0=30, AUC=0.9683873549419768\n",
      "Simmons81-Wisconsin87, method=num_nodes, AUC=0.5\n",
      "Simmons81-Wisconsin87, method=num_edges, AUC=0.8423369347739096\n",
      "Simmons81-Wisconsin87, method=min_degree, AUC=0.6050420168067228\n",
      "Simmons81-Wisconsin87, method=max_degree, AUC=0.723889555822329\n",
      "Simmons81-Wisconsin87, method=diameter, AUC=0.7991196478591436\n",
      "Simmons81-Wisconsin87, method=degree_assortativity_coef, AUC=0.5894357743097238\n",
      "Simmons81-Wisconsin87, method=num_cliques, AUC=0.7478991596638657\n",
      "Simmons81-Wisconsin87, method=Avg_clustering_coeff, AUC=0.7054821928771509\n",
      "Simmons81-Wisconsin87, method=edeg_density, AUC=0.8423369347739096\n",
      "Simmons81-Wisconsin87, method=MACC k0=5, AUC=0.9387755102040817\n",
      "Simmons81-Wisconsin87, method=MACC k0=10, AUC=0.9555822328931572\n",
      "Simmons81-Wisconsin87, method=MACC k0=20, AUC=0.9603841536614646\n",
      "Simmons81-Wisconsin87, method=MACC k0=30, AUC=0.9683873549419768\n",
      "Simmons81-Wisconsin87, method=num_nodes, AUC=0.5\n",
      "Simmons81-Wisconsin87, method=num_edges, AUC=0.8423369347739096\n",
      "Simmons81-Wisconsin87, method=min_degree, AUC=0.6050420168067228\n",
      "Simmons81-Wisconsin87, method=max_degree, AUC=0.723889555822329\n",
      "Simmons81-Wisconsin87, method=diameter, AUC=0.7991196478591436\n",
      "Simmons81-Wisconsin87, method=degree_assortativity_coef, AUC=0.5894357743097238\n",
      "Simmons81-Wisconsin87, method=num_cliques, AUC=0.7478991596638657\n",
      "Simmons81-Wisconsin87, method=Avg_clustering_coeff, AUC=0.7054821928771509\n",
      "Simmons81-Wisconsin87, method=edeg_density, AUC=0.8423369347739096\n",
      "Simmons81-Wisconsin87, method=MACC k0=5, AUC=0.9387755102040817\n",
      "Simmons81-Wisconsin87, method=MACC k0=10, AUC=0.9555822328931572\n",
      "Simmons81-Wisconsin87, method=MACC k0=20, AUC=0.9603841536614646\n",
      "Simmons81-Wisconsin87, method=MACC k0=30, AUC=0.9683873549419768\n",
      "Simmons81-Wisconsin87, method=num_nodes, AUC=0.5\n",
      "Simmons81-Wisconsin87, method=num_edges, AUC=0.8423369347739096\n",
      "Simmons81-Wisconsin87, method=min_degree, AUC=0.6050420168067228\n",
      "Simmons81-Wisconsin87, method=max_degree, AUC=0.723889555822329\n",
      "Simmons81-Wisconsin87, method=diameter, AUC=0.7991196478591436\n",
      "Simmons81-Wisconsin87, method=degree_assortativity_coef, AUC=0.5894357743097238\n",
      "Simmons81-Wisconsin87, method=num_cliques, AUC=0.7478991596638657\n",
      "Simmons81-Wisconsin87, method=Avg_clustering_coeff, AUC=0.7054821928771509\n",
      "Simmons81-Wisconsin87, method=edeg_density, AUC=0.8423369347739096\n",
      "Simmons81-Wisconsin87, method=MACC k0=5, AUC=0.9387755102040817\n",
      "Simmons81-Wisconsin87, method=MACC k0=10, AUC=0.9555822328931572\n",
      "Simmons81-Wisconsin87, method=MACC k0=20, AUC=0.9603841536614646\n",
      "Simmons81-Wisconsin87, method=MACC k0=30, AUC=0.9683873549419768\n",
      "Simmons81-Wisconsin87, method=num_nodes, AUC=0.5\n",
      "Simmons81-Wisconsin87, method=num_edges, AUC=0.8423369347739096\n",
      "Simmons81-Wisconsin87, method=min_degree, AUC=0.6050420168067228\n",
      "Simmons81-Wisconsin87, method=max_degree, AUC=0.723889555822329\n",
      "Simmons81-Wisconsin87, method=diameter, AUC=0.7991196478591436\n",
      "Simmons81-Wisconsin87, method=degree_assortativity_coef, AUC=0.5894357743097238\n",
      "Simmons81-Wisconsin87, method=num_cliques, AUC=0.7478991596638657\n",
      "Simmons81-Wisconsin87, method=Avg_clustering_coeff, AUC=0.7054821928771509\n",
      "Simmons81-Wisconsin87, method=edeg_density, AUC=0.8423369347739096\n",
      "Simmons81-Wisconsin87, method=MACC k0=5, AUC=0.9387755102040817\n",
      "Simmons81-Wisconsin87, method=MACC k0=10, AUC=0.9555822328931572\n",
      "Simmons81-Wisconsin87, method=MACC k0=20, AUC=0.9603841536614646\n",
      "Simmons81-Wisconsin87, method=MACC k0=30, AUC=0.9683873549419768\n",
      "Simmons81-Wisconsin87, method=num_nodes, AUC=0.5\n",
      "Simmons81-Wisconsin87, method=num_edges, AUC=0.8423369347739096\n",
      "Simmons81-Wisconsin87, method=min_degree, AUC=0.6050420168067228\n",
      "Simmons81-Wisconsin87, method=max_degree, AUC=0.723889555822329\n",
      "Simmons81-Wisconsin87, method=diameter, AUC=0.7991196478591436\n",
      "Simmons81-Wisconsin87, method=degree_assortativity_coef, AUC=0.5894357743097238\n",
      "Simmons81-Wisconsin87, method=num_cliques, AUC=0.7478991596638657\n",
      "Simmons81-Wisconsin87, method=Avg_clustering_coeff, AUC=0.7054821928771509\n",
      "Simmons81-Wisconsin87, method=edeg_density, AUC=0.8423369347739096\n",
      "Simmons81-Wisconsin87, method=MACC k0=5, AUC=0.9387755102040817\n",
      "Simmons81-Wisconsin87, method=MACC k0=10, AUC=0.9555822328931572\n",
      "Simmons81-Wisconsin87, method=MACC k0=20, AUC=0.9603841536614646\n",
      "Simmons81-Wisconsin87, method=MACC k0=30, AUC=0.9683873549419768\n",
      "Simmons81-Wisconsin87, method=num_nodes, AUC=0.5\n",
      "Simmons81-Wisconsin87, method=num_edges, AUC=0.8423369347739096\n",
      "Simmons81-Wisconsin87, method=min_degree, AUC=0.6050420168067228\n",
      "Simmons81-Wisconsin87, method=max_degree, AUC=0.723889555822329\n",
      "Simmons81-Wisconsin87, method=diameter, AUC=0.7991196478591436\n",
      "Simmons81-Wisconsin87, method=degree_assortativity_coef, AUC=0.5894357743097238\n",
      "Simmons81-Wisconsin87, method=num_cliques, AUC=0.7478991596638657\n",
      "Simmons81-Wisconsin87, method=Avg_clustering_coeff, AUC=0.7054821928771509\n",
      "Simmons81-Wisconsin87, method=edeg_density, AUC=0.8423369347739096\n",
      "Simmons81-Wisconsin87, method=MACC k0=5, AUC=0.9387755102040817\n",
      "Simmons81-Wisconsin87, method=MACC k0=10, AUC=0.9555822328931572\n",
      "Simmons81-Wisconsin87, method=MACC k0=20, AUC=0.9603841536614646\n",
      "Simmons81-Wisconsin87, method=MACC k0=30, AUC=0.9683873549419768\n",
      "Reed98-Wisconsin87, method=num_nodes, AUC=0.5\n",
      "Reed98-Wisconsin87, method=num_edges, AUC=0.84093637454982\n",
      "Reed98-Wisconsin87, method=min_degree, AUC=0.6002400960384153\n",
      "Reed98-Wisconsin87, method=max_degree, AUC=0.7184873949579831\n",
      "Reed98-Wisconsin87, method=diameter, AUC=0.820328131252501\n",
      "Reed98-Wisconsin87, method=degree_assortativity_coef, AUC=0.6090436174469789\n",
      "Reed98-Wisconsin87, method=num_cliques, AUC=0.7334933973589436\n",
      "Reed98-Wisconsin87, method=Avg_clustering_coeff, AUC=0.6974789915966385\n",
      "Reed98-Wisconsin87, method=edeg_density, AUC=0.84093637454982\n",
      "Reed98-Wisconsin87, method=MACC k0=5, AUC=0.9135654261704682\n",
      "Reed98-Wisconsin87, method=MACC k0=10, AUC=0.9395758303321329\n",
      "Reed98-Wisconsin87, method=MACC k0=20, AUC=0.9035614245698278\n",
      "Reed98-Wisconsin87, method=MACC k0=30, AUC=0.9283713485394157\n",
      "Reed98-Wisconsin87, method=num_nodes, AUC=0.5\n",
      "Reed98-Wisconsin87, method=num_edges, AUC=0.84093637454982\n",
      "Reed98-Wisconsin87, method=min_degree, AUC=0.6002400960384153\n",
      "Reed98-Wisconsin87, method=max_degree, AUC=0.7184873949579831\n",
      "Reed98-Wisconsin87, method=diameter, AUC=0.820328131252501\n",
      "Reed98-Wisconsin87, method=degree_assortativity_coef, AUC=0.6090436174469789\n",
      "Reed98-Wisconsin87, method=num_cliques, AUC=0.7334933973589436\n",
      "Reed98-Wisconsin87, method=Avg_clustering_coeff, AUC=0.6974789915966385\n",
      "Reed98-Wisconsin87, method=edeg_density, AUC=0.84093637454982\n",
      "Reed98-Wisconsin87, method=MACC k0=5, AUC=0.9135654261704682\n",
      "Reed98-Wisconsin87, method=MACC k0=10, AUC=0.9395758303321329\n",
      "Reed98-Wisconsin87, method=MACC k0=20, AUC=0.9035614245698278\n",
      "Reed98-Wisconsin87, method=MACC k0=30, AUC=0.9283713485394157\n",
      "Reed98-Wisconsin87, method=num_nodes, AUC=0.5\n",
      "Reed98-Wisconsin87, method=num_edges, AUC=0.84093637454982\n",
      "Reed98-Wisconsin87, method=min_degree, AUC=0.6002400960384153\n",
      "Reed98-Wisconsin87, method=max_degree, AUC=0.7184873949579831\n",
      "Reed98-Wisconsin87, method=diameter, AUC=0.820328131252501\n",
      "Reed98-Wisconsin87, method=degree_assortativity_coef, AUC=0.6090436174469789\n",
      "Reed98-Wisconsin87, method=num_cliques, AUC=0.7334933973589436\n",
      "Reed98-Wisconsin87, method=Avg_clustering_coeff, AUC=0.6974789915966385\n",
      "Reed98-Wisconsin87, method=edeg_density, AUC=0.84093637454982\n",
      "Reed98-Wisconsin87, method=MACC k0=5, AUC=0.9135654261704682\n",
      "Reed98-Wisconsin87, method=MACC k0=10, AUC=0.9395758303321329\n",
      "Reed98-Wisconsin87, method=MACC k0=20, AUC=0.9035614245698278\n",
      "Reed98-Wisconsin87, method=MACC k0=30, AUC=0.9283713485394157\n",
      "Reed98-Wisconsin87, method=num_nodes, AUC=0.5\n",
      "Reed98-Wisconsin87, method=num_edges, AUC=0.84093637454982\n",
      "Reed98-Wisconsin87, method=min_degree, AUC=0.6002400960384153\n",
      "Reed98-Wisconsin87, method=max_degree, AUC=0.7184873949579831\n",
      "Reed98-Wisconsin87, method=diameter, AUC=0.820328131252501\n",
      "Reed98-Wisconsin87, method=degree_assortativity_coef, AUC=0.6090436174469789\n",
      "Reed98-Wisconsin87, method=num_cliques, AUC=0.7334933973589436\n",
      "Reed98-Wisconsin87, method=Avg_clustering_coeff, AUC=0.6974789915966385\n",
      "Reed98-Wisconsin87, method=edeg_density, AUC=0.84093637454982\n",
      "Reed98-Wisconsin87, method=MACC k0=5, AUC=0.9135654261704682\n",
      "Reed98-Wisconsin87, method=MACC k0=10, AUC=0.9395758303321329\n",
      "Reed98-Wisconsin87, method=MACC k0=20, AUC=0.9035614245698278\n",
      "Reed98-Wisconsin87, method=MACC k0=30, AUC=0.9283713485394157\n",
      "Reed98-Wisconsin87, method=num_nodes, AUC=0.5\n",
      "Reed98-Wisconsin87, method=num_edges, AUC=0.84093637454982\n",
      "Reed98-Wisconsin87, method=min_degree, AUC=0.6002400960384153\n",
      "Reed98-Wisconsin87, method=max_degree, AUC=0.7184873949579831\n",
      "Reed98-Wisconsin87, method=diameter, AUC=0.820328131252501\n",
      "Reed98-Wisconsin87, method=degree_assortativity_coef, AUC=0.6090436174469789\n",
      "Reed98-Wisconsin87, method=num_cliques, AUC=0.7334933973589436\n",
      "Reed98-Wisconsin87, method=Avg_clustering_coeff, AUC=0.6974789915966385\n",
      "Reed98-Wisconsin87, method=edeg_density, AUC=0.84093637454982\n",
      "Reed98-Wisconsin87, method=MACC k0=5, AUC=0.9135654261704682\n",
      "Reed98-Wisconsin87, method=MACC k0=10, AUC=0.9395758303321329\n",
      "Reed98-Wisconsin87, method=MACC k0=20, AUC=0.9035614245698278\n",
      "Reed98-Wisconsin87, method=MACC k0=30, AUC=0.9283713485394157\n",
      "Reed98-Wisconsin87, method=num_nodes, AUC=0.5\n",
      "Reed98-Wisconsin87, method=num_edges, AUC=0.84093637454982\n",
      "Reed98-Wisconsin87, method=min_degree, AUC=0.6002400960384153\n",
      "Reed98-Wisconsin87, method=max_degree, AUC=0.7184873949579831\n",
      "Reed98-Wisconsin87, method=diameter, AUC=0.820328131252501\n",
      "Reed98-Wisconsin87, method=degree_assortativity_coef, AUC=0.6090436174469789\n",
      "Reed98-Wisconsin87, method=num_cliques, AUC=0.7334933973589436\n",
      "Reed98-Wisconsin87, method=Avg_clustering_coeff, AUC=0.6974789915966385\n",
      "Reed98-Wisconsin87, method=edeg_density, AUC=0.84093637454982\n",
      "Reed98-Wisconsin87, method=MACC k0=5, AUC=0.9135654261704682\n",
      "Reed98-Wisconsin87, method=MACC k0=10, AUC=0.9395758303321329\n",
      "Reed98-Wisconsin87, method=MACC k0=20, AUC=0.9035614245698278\n",
      "Reed98-Wisconsin87, method=MACC k0=30, AUC=0.9283713485394157\n",
      "NYU9-Wisconsin87, method=num_nodes, AUC=0.5\n",
      "NYU9-Wisconsin87, method=num_edges, AUC=0.8791516606642658\n",
      "NYU9-Wisconsin87, method=min_degree, AUC=0.6522609043617447\n",
      "NYU9-Wisconsin87, method=max_degree, AUC=0.7937174869947978\n",
      "NYU9-Wisconsin87, method=diameter, AUC=0.8563425370148059\n",
      "NYU9-Wisconsin87, method=degree_assortativity_coef, AUC=0.6834733893557423\n",
      "NYU9-Wisconsin87, method=num_cliques, AUC=0.750500200080032\n",
      "NYU9-Wisconsin87, method=Avg_clustering_coeff, AUC=0.7014805922368947\n",
      "NYU9-Wisconsin87, method=edeg_density, AUC=0.8791516606642658\n",
      "NYU9-Wisconsin87, method=MACC k0=5, AUC=0.9131652661064426\n",
      "NYU9-Wisconsin87, method=MACC k0=10, AUC=0.9387755102040816\n",
      "NYU9-Wisconsin87, method=MACC k0=20, AUC=0.9423769507803121\n",
      "NYU9-Wisconsin87, method=MACC k0=30, AUC=0.9587835134053622\n",
      "NYU9-Wisconsin87, method=num_nodes, AUC=0.5\n",
      "NYU9-Wisconsin87, method=num_edges, AUC=0.8791516606642658\n",
      "NYU9-Wisconsin87, method=min_degree, AUC=0.6522609043617447\n",
      "NYU9-Wisconsin87, method=max_degree, AUC=0.7937174869947978\n",
      "NYU9-Wisconsin87, method=diameter, AUC=0.8563425370148059\n",
      "NYU9-Wisconsin87, method=degree_assortativity_coef, AUC=0.6834733893557423\n",
      "NYU9-Wisconsin87, method=num_cliques, AUC=0.750500200080032\n",
      "NYU9-Wisconsin87, method=Avg_clustering_coeff, AUC=0.7014805922368947\n",
      "NYU9-Wisconsin87, method=edeg_density, AUC=0.8791516606642658\n",
      "NYU9-Wisconsin87, method=MACC k0=5, AUC=0.9131652661064426\n",
      "NYU9-Wisconsin87, method=MACC k0=10, AUC=0.9387755102040816\n",
      "NYU9-Wisconsin87, method=MACC k0=20, AUC=0.9423769507803121\n",
      "NYU9-Wisconsin87, method=MACC k0=30, AUC=0.9587835134053622\n",
      "NYU9-Wisconsin87, method=num_nodes, AUC=0.5\n",
      "NYU9-Wisconsin87, method=num_edges, AUC=0.8791516606642658\n",
      "NYU9-Wisconsin87, method=min_degree, AUC=0.6522609043617447\n",
      "NYU9-Wisconsin87, method=max_degree, AUC=0.7937174869947978\n",
      "NYU9-Wisconsin87, method=diameter, AUC=0.8563425370148059\n",
      "NYU9-Wisconsin87, method=degree_assortativity_coef, AUC=0.6834733893557423\n",
      "NYU9-Wisconsin87, method=num_cliques, AUC=0.750500200080032\n",
      "NYU9-Wisconsin87, method=Avg_clustering_coeff, AUC=0.7014805922368947\n",
      "NYU9-Wisconsin87, method=edeg_density, AUC=0.8791516606642658\n",
      "NYU9-Wisconsin87, method=MACC k0=5, AUC=0.9131652661064426\n",
      "NYU9-Wisconsin87, method=MACC k0=10, AUC=0.9387755102040816\n",
      "NYU9-Wisconsin87, method=MACC k0=20, AUC=0.9423769507803121\n",
      "NYU9-Wisconsin87, method=MACC k0=30, AUC=0.9587835134053622\n",
      "Virginia63-Wisconsin87, method=num_nodes, AUC=0.5\n",
      "Virginia63-Wisconsin87, method=num_edges, AUC=0.8077230892356941\n",
      "Virginia63-Wisconsin87, method=min_degree, AUC=0.5782312925170068\n",
      "Virginia63-Wisconsin87, method=max_degree, AUC=0.698079231692677\n",
      "Virginia63-Wisconsin87, method=diameter, AUC=0.827731092436975\n",
      "Virginia63-Wisconsin87, method=degree_assortativity_coef, AUC=0.6218487394957982\n",
      "Virginia63-Wisconsin87, method=num_cliques, AUC=0.7110844337735094\n",
      "Virginia63-Wisconsin87, method=Avg_clustering_coeff, AUC=0.7106842737094837\n",
      "Virginia63-Wisconsin87, method=edeg_density, AUC=0.8077230892356941\n",
      "Virginia63-Wisconsin87, method=MACC k0=5, AUC=0.8487394957983192\n",
      "Virginia63-Wisconsin87, method=MACC k0=10, AUC=0.9207683073229291\n",
      "Virginia63-Wisconsin87, method=MACC k0=20, AUC=0.9411764705882353\n",
      "Virginia63-Wisconsin87, method=MACC k0=30, AUC=0.9427771108443377\n"
     ]
    }
   ],
   "source": [
    "for i in np.arange(len(list(a.keys()))):\n",
    "    for j in np.arange(i+1, len(list(a.keys()))):\n",
    "        key = list(a.keys())[i]\n",
    "        if i != j and key.split(\"-\")[1] == 'Wisconsin87':\n",
    "            key = list(a.keys())[i]\n",
    "            b = a.get(key)\n",
    "            c = b.get(\"k=30\")\n",
    "            for method in list(c.keys()):\n",
    "                print(\"{}, method={}, AUC={}\".format(key, method, c.get(method).get(\"AUC\")))"
   ]
  },
  {
   "cell_type": "code",
   "execution_count": 111,
   "id": "92b74af3",
   "metadata": {},
   "outputs": [],
   "source": [
    "path = \"Output_files/subgraph_classification_data30.npy\"\n",
    "results_0 = np.load(path, allow_pickle=True).item()"
   ]
  },
  {
   "cell_type": "code",
   "execution_count": 141,
   "id": "5cdb1e30",
   "metadata": {},
   "outputs": [
    {
     "data": {
      "text/plain": [
       "'This is a lineaThis is line 2bThis is line 3'"
      ]
     },
     "execution_count": 141,
     "metadata": {},
     "output_type": "execute_result"
    }
   ],
   "source": [
    "strz"
   ]
  },
  {
   "cell_type": "code",
   "execution_count": 112,
   "id": "d9bbbf9f",
   "metadata": {},
   "outputs": [
    {
     "data": {
      "text/plain": [
       "dict_keys(['Caltech36-Simmons81', 'Caltech36-Reed98', 'Caltech36-NYU9', 'Caltech36-Virginia63', 'Caltech36-UCLA26', 'Caltech36-Wisconsin87', 'Simmons81-Reed98', 'Simmons81-NYU9', 'Simmons81-Virginia63', 'Simmons81-UCLA26', 'Simmons81-Wisconsin87', 'Reed98-NYU9', 'Reed98-Virginia63', 'Reed98-UCLA26', 'Reed98-Wisconsin87', 'NYU9-Virginia63', 'NYU9-UCLA26', 'NYU9-Wisconsin87', 'Virginia63-UCLA26', 'Virginia63-Wisconsin87', 'UCLA26-Wisconsin87'])"
      ]
     },
     "execution_count": 112,
     "metadata": {},
     "output_type": "execute_result"
    }
   ],
   "source": [
    "results_0.keys()"
   ]
  },
  {
   "cell_type": "code",
   "execution_count": 150,
   "id": "a3c41357",
   "metadata": {},
   "outputs": [],
   "source": [
    "import pandas as pd\n",
    "\n",
    "method_list = ['edeg_density', 'min_degree', 'max_degree', 'diameter', 'degree_assortativity_coef', 'num_cliques', 'Avg_clustering_coeff',  'MACC k0=5', 'MACC k0=10', 'MACC k0=20', 'MACC k0=30']\n",
    "pairs_list = list(results_0.keys())\n",
    "method_list_new = [\" \".join(method.split(\"_\")) for method in method_list]\n",
    "\n",
    "method_0 = []\n",
    "AUC_list_total = []\n",
    "for method in method_list:\n",
    "    AUC_list = []\n",
    "    for idx in range(len(pairs_list)):\n",
    "        pair = pairs_list[idx]\n",
    "        result1 = results_0.get(pair)\n",
    "        result11 = result1.get(\"k=30\")\n",
    "        AUC = result11.get(method).get(\"AUC\")\n",
    "        AUC_list.append(np.round(AUC, 3))\n",
    "    AUC_list_total.append(AUC_list)\n",
    "\n",
    "AUC_array = np.asarray(AUC_list_total).T\n",
    "     \n",
    "pd.set_option('display.max_rows', None)\n",
    "pd.set_option('display.width', 10)\n",
    "result = pd.DataFrame(data=AUC_array)\n",
    "result = result.set_axis(method_list_new, axis=1, inplace=False)\n",
    "#result.insert(0, column='xi', value= xi_0)\n",
    "#result.insert(0, column='Method', value= method_0)\n",
    "#result = round(result.groupby(['Method', 'xi'], sort=False).agg(['mean','std']),3)\n",
    "result[\"Networks\"] = pairs_list\n",
    "result = result.set_index(\"Networks\")\n",
    "\n",
    "result\n",
    "\n",
    "result.to_csv('Figures/table.csv', index=True)"
   ]
  },
  {
   "cell_type": "code",
   "execution_count": 66,
   "id": "271f1a57",
   "metadata": {},
   "outputs": [
    {
     "name": "stdout",
     "output_type": "stream",
     "text": [
      "num nodes in G 769\n",
      "num edges in G 33312\n",
      "num nodes in G 1518\n",
      "num edges in G 65976\n",
      "num nodes in G 962\n",
      "num edges in G 37624\n",
      "num nodes in G 21679\n",
      "num edges in G 1431430\n",
      "num nodes in G 21325\n",
      "num edges in G 1396356\n",
      "num nodes in G 20467\n",
      "num edges in G 1495226\n",
      "num nodes in G 23842\n",
      "num edges in G 1671904\n",
      "Classifying subgraphs in Caltech36-Simmons81 ...\n",
      "sampling subgraphs with k=30 nodes\n"
     ]
    },
    {
     "name": "stderr",
     "output_type": "stream",
     "text": [
      "100%|████████████████████████████████████████| 100/100 [00:00<00:00, 834.60it/s]\n",
      "100%|████████████████████████████████████████| 100/100 [00:00<00:00, 729.64it/s]\n",
      "100%|████████████████████████████████████████| 100/100 [00:00<00:00, 843.11it/s]\n",
      "100%|████████████████████████████████████████| 100/100 [00:00<00:00, 141.95it/s]\n",
      "100%|████████████████████████████████████████| 100/100 [00:00<00:00, 149.90it/s]\n",
      "100%|████████████████████████████████████████| 100/100 [00:00<00:00, 162.74it/s]\n",
      "100%|████████████████████████████████████████| 100/100 [00:00<00:00, 136.26it/s]\n"
     ]
    },
    {
     "name": "stdout",
     "output_type": "stream",
     "text": [
      "extracting subgraph features..\n"
     ]
    },
    {
     "name": "stderr",
     "output_type": "stream",
     "text": [
      "100%|███████████████████████████████████████| 700/700 [1:21:58<00:00,  7.03s/it]\n"
     ]
    },
    {
     "name": "stdout",
     "output_type": "stream",
     "text": [
      "X.shape (700, 1)\n",
      "method = num_nodes, AUC = 0.500000\n",
      "X.shape (700, 1)\n",
      "method = num_edges, AUC = 0.772309\n",
      "X.shape (700, 1)\n",
      "method = min_degree, AUC = 0.616447\n",
      "X.shape (700, 1)\n",
      "method = max_degree, AUC = 0.691477\n",
      "X.shape (700, 1)\n",
      "method = diameter, AUC = 0.826130\n",
      "X.shape (700, 1)\n",
      "method = degree_assortativity_coef, AUC = 0.523009\n",
      "X.shape (700, 1)\n",
      "method = num_cliques, AUC = 0.707683\n",
      "X.shape (700, 1)\n",
      "method = Avg_clustering_coeff, AUC = 0.670668\n",
      "X.shape (700, 1)\n",
      "method = edeg_density, AUC = 0.772309\n",
      "X.shape (700, 25)\n",
      "method = MACC k0=5, AUC = 0.828331\n",
      "X.shape (700, 100)\n",
      "method = MACC k0=10, AUC = 0.887555\n",
      "X.shape (700, 400)\n",
      "method = MACC k0=20, AUC = 0.907163\n",
      "X.shape (700, 900)\n",
      "method = MACC k0=30, AUC = 0.902361\n",
      "Classifying subgraphs in Wisconsin87-Reed98 ...\n",
      "sampling subgraphs with k=30 nodes\n"
     ]
    },
    {
     "name": "stderr",
     "output_type": "stream",
     "text": [
      "100%|████████████████████████████████████████| 100/100 [00:00<00:00, 501.19it/s]\n",
      "100%|████████████████████████████████████████| 100/100 [00:00<00:00, 684.04it/s]\n",
      "100%|████████████████████████████████████████| 100/100 [00:00<00:00, 823.89it/s]\n",
      "100%|████████████████████████████████████████| 100/100 [00:00<00:00, 146.79it/s]\n",
      "100%|████████████████████████████████████████| 100/100 [00:00<00:00, 148.19it/s]\n",
      "100%|████████████████████████████████████████| 100/100 [00:00<00:00, 161.03it/s]\n",
      "100%|████████████████████████████████████████| 100/100 [00:00<00:00, 134.21it/s]\n"
     ]
    },
    {
     "name": "stdout",
     "output_type": "stream",
     "text": [
      "extracting subgraph features..\n"
     ]
    },
    {
     "name": "stderr",
     "output_type": "stream",
     "text": [
      "100%|█████████████████████████████████████████| 700/700 [22:47<00:00,  1.95s/it]\n"
     ]
    },
    {
     "name": "stdout",
     "output_type": "stream",
     "text": [
      "X.shape (700, 1)\n",
      "method = num_nodes, AUC = 0.500000\n",
      "X.shape (700, 1)\n",
      "method = num_edges, AUC = 0.859944\n",
      "X.shape (700, 1)\n",
      "method = min_degree, AUC = 0.612245\n",
      "X.shape (700, 1)\n",
      "method = max_degree, AUC = 0.774310\n",
      "X.shape (700, 1)\n",
      "method = diameter, AUC = 0.804122\n",
      "X.shape (700, 1)\n",
      "method = degree_assortativity_coef, AUC = 0.455782\n",
      "X.shape (700, 1)\n",
      "method = num_cliques, AUC = 0.778511\n",
      "X.shape (700, 1)\n",
      "method = Avg_clustering_coeff, AUC = 0.785114\n",
      "X.shape (700, 1)\n",
      "method = edeg_density, AUC = 0.859944\n",
      "X.shape (700, 25)\n",
      "method = MACC k0=5, AUC = 0.903962\n",
      "X.shape (700, 100)\n",
      "method = MACC k0=10, AUC = 0.950780\n",
      "X.shape (700, 400)\n",
      "method = MACC k0=20, AUC = 0.957583\n",
      "X.shape (700, 900)\n",
      "method = MACC k0=30, AUC = 0.957983\n",
      "Classifying subgraphs in Wisconsin87-NYU9 ...\n",
      "sampling subgraphs with k=30 nodes\n"
     ]
    },
    {
     "name": "stderr",
     "output_type": "stream",
     "text": [
      "100%|████████████████████████████████████████| 100/100 [00:00<00:00, 557.51it/s]\n",
      "100%|████████████████████████████████████████| 100/100 [00:00<00:00, 722.51it/s]\n",
      "100%|████████████████████████████████████████| 100/100 [00:00<00:00, 855.22it/s]\n",
      "100%|████████████████████████████████████████| 100/100 [00:00<00:00, 149.41it/s]\n",
      "100%|████████████████████████████████████████| 100/100 [00:00<00:00, 148.27it/s]\n",
      "100%|████████████████████████████████████████| 100/100 [00:00<00:00, 164.37it/s]\n",
      "100%|████████████████████████████████████████| 100/100 [00:00<00:00, 135.11it/s]\n"
     ]
    },
    {
     "name": "stdout",
     "output_type": "stream",
     "text": [
      "extracting subgraph features..\n"
     ]
    },
    {
     "name": "stderr",
     "output_type": "stream",
     "text": [
      "100%|█████████████████████████████████████████| 700/700 [22:55<00:00,  1.96s/it]\n"
     ]
    },
    {
     "name": "stdout",
     "output_type": "stream",
     "text": [
      "X.shape (700, 1)\n",
      "method = num_nodes, AUC = 0.500000\n",
      "X.shape (700, 1)\n",
      "method = num_edges, AUC = 0.821729\n",
      "X.shape (700, 1)\n",
      "method = min_degree, AUC = 0.569228\n",
      "X.shape (700, 1)\n",
      "method = max_degree, AUC = 0.736695\n",
      "X.shape (700, 1)\n",
      "method = diameter, AUC = 0.810724\n",
      "X.shape (700, 1)\n",
      "method = degree_assortativity_coef, AUC = 0.575030\n",
      "X.shape (700, 1)\n",
      "method = num_cliques, AUC = 0.737695\n",
      "X.shape (700, 1)\n",
      "method = Avg_clustering_coeff, AUC = 0.803922\n",
      "X.shape (700, 1)\n",
      "method = edeg_density, AUC = 0.821729\n",
      "X.shape (700, 25)\n",
      "method = MACC k0=5, AUC = 0.867147\n",
      "X.shape (700, 100)\n",
      "method = MACC k0=10, AUC = 0.949980\n",
      "X.shape (700, 400)\n",
      "method = MACC k0=20, AUC = 0.933173\n",
      "X.shape (700, 900)\n",
      "method = MACC k0=30, AUC = 0.947979\n",
      "Classifying subgraphs in Wisconsin87-Virginia63 ...\n",
      "sampling subgraphs with k=30 nodes\n"
     ]
    },
    {
     "name": "stderr",
     "output_type": "stream",
     "text": [
      "100%|████████████████████████████████████████| 100/100 [00:00<00:00, 861.59it/s]\n",
      "100%|████████████████████████████████████████| 100/100 [00:00<00:00, 642.89it/s]\n",
      "100%|████████████████████████████████████████| 100/100 [00:00<00:00, 844.94it/s]\n",
      "100%|████████████████████████████████████████| 100/100 [00:00<00:00, 148.75it/s]\n",
      "100%|████████████████████████████████████████| 100/100 [00:00<00:00, 149.62it/s]\n",
      "100%|████████████████████████████████████████| 100/100 [00:00<00:00, 163.42it/s]\n",
      "100%|████████████████████████████████████████| 100/100 [00:00<00:00, 140.35it/s]\n"
     ]
    },
    {
     "name": "stdout",
     "output_type": "stream",
     "text": [
      "extracting subgraph features..\n"
     ]
    },
    {
     "name": "stderr",
     "output_type": "stream",
     "text": [
      "100%|█████████████████████████████████████████| 700/700 [47:47<00:00,  4.10s/it]\n"
     ]
    },
    {
     "name": "stdout",
     "output_type": "stream",
     "text": [
      "X.shape (700, 1)\n",
      "method = num_nodes, AUC = 0.500000\n",
      "X.shape (700, 1)\n",
      "method = num_edges, AUC = 0.840136\n",
      "X.shape (700, 1)\n",
      "method = min_degree, AUC = 0.711285\n",
      "X.shape (700, 1)\n",
      "method = max_degree, AUC = 0.741297\n",
      "X.shape (700, 1)\n",
      "method = diameter, AUC = 0.798319\n",
      "X.shape (700, 1)\n",
      "method = degree_assortativity_coef, AUC = 0.659064\n",
      "X.shape (700, 1)\n",
      "method = num_cliques, AUC = 0.685074\n",
      "X.shape (700, 1)\n",
      "method = Avg_clustering_coeff, AUC = 0.754302\n",
      "X.shape (700, 1)\n",
      "method = edeg_density, AUC = 0.840136\n",
      "X.shape (700, 25)\n",
      "method = MACC k0=5, AUC = 0.897559\n",
      "X.shape (700, 100)\n",
      "method = MACC k0=10, AUC = 0.900360\n",
      "X.shape (700, 400)\n",
      "method = MACC k0=20, AUC = 0.891156\n",
      "X.shape (700, 900)\n",
      "method = MACC k0=30, AUC = 0.899560\n",
      "Classifying subgraphs in Wisconsin87-UCLA26 ...\n",
      "sampling subgraphs with k=30 nodes\n"
     ]
    },
    {
     "name": "stderr",
     "output_type": "stream",
     "text": [
      "100%|████████████████████████████████████████| 100/100 [00:00<00:00, 787.97it/s]\n",
      "100%|████████████████████████████████████████| 100/100 [00:00<00:00, 736.19it/s]\n",
      "100%|████████████████████████████████████████| 100/100 [00:00<00:00, 826.54it/s]\n",
      "100%|█████████████████████████████████████████| 100/100 [00:54<00:00,  1.83it/s]\n",
      "100%|████████████████████████████████████████| 100/100 [00:00<00:00, 150.48it/s]\n",
      "100%|████████████████████████████████████████| 100/100 [00:00<00:00, 159.39it/s]\n",
      "100%|████████████████████████████████████████| 100/100 [00:00<00:00, 101.17it/s]\n"
     ]
    },
    {
     "name": "stdout",
     "output_type": "stream",
     "text": [
      "extracting subgraph features..\n"
     ]
    },
    {
     "name": "stderr",
     "output_type": "stream",
     "text": [
      "100%|█████████████████████████████████████████| 700/700 [50:19<00:00,  4.31s/it]\n"
     ]
    },
    {
     "name": "stdout",
     "output_type": "stream",
     "text": [
      "X.shape (700, 1)\n",
      "method = num_nodes, AUC = 0.500000\n",
      "X.shape (700, 1)\n",
      "method = num_edges, AUC = 0.857343\n",
      "X.shape (700, 1)\n",
      "method = min_degree, AUC = 0.653661\n",
      "X.shape (700, 1)\n",
      "method = max_degree, AUC = 0.782913\n",
      "X.shape (700, 1)\n",
      "method = diameter, AUC = 0.824330\n",
      "X.shape (700, 1)\n",
      "method = degree_assortativity_coef, AUC = 0.573830\n",
      "X.shape (700, 1)\n",
      "method = num_cliques, AUC = 0.719888\n",
      "X.shape (700, 1)\n",
      "method = Avg_clustering_coeff, AUC = 0.749100\n",
      "X.shape (700, 1)\n",
      "method = edeg_density, AUC = 0.857343\n",
      "X.shape (700, 25)\n",
      "method = MACC k0=5, AUC = 0.897959\n",
      "X.shape (700, 100)\n",
      "method = MACC k0=10, AUC = 0.917567\n",
      "X.shape (700, 400)\n",
      "method = MACC k0=20, AUC = 0.910364\n",
      "X.shape (700, 900)\n",
      "method = MACC k0=30, AUC = 0.924770\n",
      "Classifying subgraphs in Simmons81-Reed98 ...\n",
      "sampling subgraphs with k=30 nodes\n"
     ]
    },
    {
     "name": "stderr",
     "output_type": "stream",
     "text": [
      "100%|████████████████████████████████████████| 100/100 [00:00<00:00, 760.29it/s]\n",
      "100%|████████████████████████████████████████| 100/100 [00:00<00:00, 624.83it/s]\n",
      "100%|████████████████████████████████████████| 100/100 [00:00<00:00, 811.50it/s]\n",
      "100%|████████████████████████████████████████| 100/100 [00:00<00:00, 140.21it/s]\n",
      "100%|████████████████████████████████████████| 100/100 [00:00<00:00, 150.12it/s]\n",
      "100%|████████████████████████████████████████| 100/100 [00:00<00:00, 161.51it/s]\n",
      "100%|████████████████████████████████████████| 100/100 [00:00<00:00, 138.39it/s]\n"
     ]
    },
    {
     "name": "stdout",
     "output_type": "stream",
     "text": [
      "extracting subgraph features..\n"
     ]
    },
    {
     "name": "stderr",
     "output_type": "stream",
     "text": [
      "100%|█████████████████████████████████████████| 700/700 [22:56<00:00,  1.97s/it]\n"
     ]
    },
    {
     "name": "stdout",
     "output_type": "stream",
     "text": [
      "X.shape (700, 1)\n",
      "method = num_nodes, AUC = 0.500000\n",
      "X.shape (700, 1)\n",
      "method = num_edges, AUC = 0.878151\n",
      "X.shape (700, 1)\n",
      "method = min_degree, AUC = 0.749700\n",
      "X.shape (700, 1)\n",
      "method = max_degree, AUC = 0.820928\n",
      "X.shape (700, 1)\n",
      "method = diameter, AUC = 0.843737\n",
      "X.shape (700, 1)\n",
      "method = degree_assortativity_coef, AUC = 0.596639\n",
      "X.shape (700, 1)\n",
      "method = num_cliques, AUC = 0.803521\n",
      "X.shape (700, 1)\n",
      "method = Avg_clustering_coeff, AUC = 0.768707\n",
      "X.shape (700, 1)\n",
      "method = edeg_density, AUC = 0.878151\n",
      "X.shape (700, 25)\n",
      "method = MACC k0=5, AUC = 0.928772\n",
      "X.shape (700, 100)\n",
      "method = MACC k0=10, AUC = 0.939176\n",
      "X.shape (700, 400)\n",
      "method = MACC k0=20, AUC = 0.948780\n",
      "X.shape (700, 900)\n",
      "method = MACC k0=30, AUC = 0.952781\n",
      "Classifying subgraphs in Wisconsin87-NYU9 ...\n",
      "sampling subgraphs with k=30 nodes\n"
     ]
    },
    {
     "name": "stderr",
     "output_type": "stream",
     "text": [
      "100%|████████████████████████████████████████| 100/100 [00:00<00:00, 768.34it/s]\n",
      "100%|████████████████████████████████████████| 100/100 [00:00<00:00, 725.91it/s]\n",
      "100%|████████████████████████████████████████| 100/100 [00:00<00:00, 839.90it/s]\n",
      "100%|████████████████████████████████████████| 100/100 [00:00<00:00, 145.90it/s]\n",
      "100%|████████████████████████████████████████| 100/100 [00:00<00:00, 149.13it/s]\n",
      "100%|████████████████████████████████████████| 100/100 [00:00<00:00, 163.98it/s]\n",
      "100%|████████████████████████████████████████| 100/100 [00:00<00:00, 138.27it/s]\n"
     ]
    },
    {
     "name": "stdout",
     "output_type": "stream",
     "text": [
      "extracting subgraph features..\n"
     ]
    },
    {
     "name": "stderr",
     "output_type": "stream",
     "text": [
      "100%|█████████████████████████████████████████| 700/700 [22:50<00:00,  1.96s/it]\n"
     ]
    },
    {
     "name": "stdout",
     "output_type": "stream",
     "text": [
      "X.shape (700, 1)\n",
      "method = num_nodes, AUC = 0.500000\n",
      "X.shape (700, 1)\n",
      "method = num_edges, AUC = 0.854742\n",
      "X.shape (700, 1)\n",
      "method = min_degree, AUC = 0.625650\n",
      "X.shape (700, 1)\n",
      "method = max_degree, AUC = 0.730892\n",
      "X.shape (700, 1)\n",
      "method = diameter, AUC = 0.855142\n",
      "X.shape (700, 1)\n",
      "method = degree_assortativity_coef, AUC = 0.667067\n",
      "X.shape (700, 1)\n",
      "method = num_cliques, AUC = 0.764106\n",
      "X.shape (700, 1)\n",
      "method = Avg_clustering_coeff, AUC = 0.745498\n",
      "X.shape (700, 1)\n",
      "method = edeg_density, AUC = 0.854742\n",
      "X.shape (700, 25)\n",
      "method = MACC k0=5, AUC = 0.939176\n",
      "X.shape (700, 100)\n",
      "method = MACC k0=10, AUC = 0.955582\n",
      "X.shape (700, 400)\n",
      "method = MACC k0=20, AUC = 0.958784\n",
      "X.shape (700, 900)\n",
      "method = MACC k0=30, AUC = 0.955582\n",
      "Classifying subgraphs in Wisconsin87-Virginia63 ...\n",
      "sampling subgraphs with k=30 nodes\n"
     ]
    },
    {
     "name": "stderr",
     "output_type": "stream",
     "text": [
      "100%|████████████████████████████████████████| 100/100 [00:00<00:00, 799.34it/s]\n",
      "100%|████████████████████████████████████████| 100/100 [00:00<00:00, 663.87it/s]\n",
      "100%|████████████████████████████████████████| 100/100 [00:00<00:00, 821.68it/s]\n",
      "100%|████████████████████████████████████████| 100/100 [00:00<00:00, 146.85it/s]\n",
      "100%|████████████████████████████████████████| 100/100 [00:00<00:00, 150.45it/s]\n",
      "100%|████████████████████████████████████████| 100/100 [00:00<00:00, 163.62it/s]\n",
      "100%|████████████████████████████████████████| 100/100 [00:00<00:00, 141.23it/s]\n"
     ]
    },
    {
     "name": "stdout",
     "output_type": "stream",
     "text": [
      "extracting subgraph features..\n"
     ]
    },
    {
     "name": "stderr",
     "output_type": "stream",
     "text": [
      "100%|█████████████████████████████████████████| 700/700 [22:49<00:00,  1.96s/it]\n"
     ]
    },
    {
     "name": "stdout",
     "output_type": "stream",
     "text": [
      "X.shape (700, 1)\n",
      "method = num_nodes, AUC = 0.500000\n",
      "X.shape (700, 1)\n",
      "method = num_edges, AUC = 0.771909\n",
      "X.shape (700, 1)\n",
      "method = min_degree, AUC = 0.456983\n",
      "X.shape (700, 1)\n",
      "method = max_degree, AUC = 0.688075\n",
      "X.shape (700, 1)\n",
      "method = diameter, AUC = 0.798920\n",
      "X.shape (700, 1)\n",
      "method = degree_assortativity_coef, AUC = 0.703882\n",
      "X.shape (700, 1)\n",
      "method = num_cliques, AUC = 0.654662\n",
      "X.shape (700, 1)\n",
      "method = Avg_clustering_coeff, AUC = 0.715486\n",
      "X.shape (700, 1)\n",
      "method = edeg_density, AUC = 0.771909\n",
      "X.shape (700, 25)\n",
      "method = MACC k0=5, AUC = 0.839136\n",
      "X.shape (700, 100)\n",
      "method = MACC k0=10, AUC = 0.905562\n",
      "X.shape (700, 400)\n",
      "method = MACC k0=20, AUC = 0.898359\n",
      "X.shape (700, 900)\n",
      "method = MACC k0=30, AUC = 0.914366\n",
      "Classifying subgraphs in Wisconsin87-UCLA26 ...\n",
      "sampling subgraphs with k=30 nodes\n"
     ]
    },
    {
     "name": "stderr",
     "output_type": "stream",
     "text": [
      "100%|████████████████████████████████████████| 100/100 [00:00<00:00, 860.10it/s]\n",
      "100%|████████████████████████████████████████| 100/100 [00:00<00:00, 735.60it/s]\n",
      "100%|████████████████████████████████████████| 100/100 [00:00<00:00, 829.82it/s]\n",
      "100%|████████████████████████████████████████| 100/100 [00:00<00:00, 148.03it/s]\n",
      "100%|████████████████████████████████████████| 100/100 [00:00<00:00, 154.93it/s]\n",
      "100%|████████████████████████████████████████| 100/100 [00:00<00:00, 160.86it/s]\n",
      "100%|████████████████████████████████████████| 100/100 [00:00<00:00, 143.66it/s]\n"
     ]
    },
    {
     "name": "stdout",
     "output_type": "stream",
     "text": [
      "extracting subgraph features..\n"
     ]
    },
    {
     "name": "stderr",
     "output_type": "stream",
     "text": [
      "100%|█████████████████████████████████████████| 700/700 [22:46<00:00,  1.95s/it]\n"
     ]
    },
    {
     "name": "stdout",
     "output_type": "stream",
     "text": [
      "X.shape (700, 1)\n",
      "method = num_nodes, AUC = 0.500000\n",
      "X.shape (700, 1)\n",
      "method = num_edges, AUC = 0.887355\n",
      "X.shape (700, 1)\n",
      "method = min_degree, AUC = 0.625250\n",
      "X.shape (700, 1)\n",
      "method = max_degree, AUC = 0.826731\n",
      "X.shape (700, 1)\n",
      "method = diameter, AUC = 0.824130\n",
      "X.shape (700, 1)\n",
      "method = degree_assortativity_coef, AUC = 0.685874\n",
      "X.shape (700, 1)\n",
      "method = num_cliques, AUC = 0.729092\n",
      "X.shape (700, 1)\n",
      "method = Avg_clustering_coeff, AUC = 0.767907\n",
      "X.shape (700, 1)\n",
      "method = edeg_density, AUC = 0.887355\n",
      "X.shape (700, 25)\n",
      "method = MACC k0=5, AUC = 0.879952\n",
      "X.shape (700, 100)\n",
      "method = MACC k0=10, AUC = 0.903962\n",
      "X.shape (700, 400)\n",
      "method = MACC k0=20, AUC = 0.894358\n",
      "X.shape (700, 900)\n",
      "method = MACC k0=30, AUC = 0.915166\n",
      "Classifying subgraphs in Reed98-NYU9 ...\n",
      "sampling subgraphs with k=30 nodes\n"
     ]
    },
    {
     "name": "stderr",
     "output_type": "stream",
     "text": [
      "100%|████████████████████████████████████████| 100/100 [00:00<00:00, 717.30it/s]\n",
      "100%|████████████████████████████████████████| 100/100 [00:00<00:00, 725.06it/s]\n",
      "100%|████████████████████████████████████████| 100/100 [00:00<00:00, 855.20it/s]\n",
      "100%|████████████████████████████████████████| 100/100 [00:00<00:00, 151.64it/s]\n",
      "100%|████████████████████████████████████████| 100/100 [00:00<00:00, 151.00it/s]\n",
      "100%|████████████████████████████████████████| 100/100 [00:00<00:00, 165.53it/s]\n",
      "100%|████████████████████████████████████████| 100/100 [00:00<00:00, 140.71it/s]\n"
     ]
    },
    {
     "name": "stdout",
     "output_type": "stream",
     "text": [
      "extracting subgraph features..\n"
     ]
    },
    {
     "name": "stderr",
     "output_type": "stream",
     "text": [
      "100%|█████████████████████████████████████████| 700/700 [22:54<00:00,  1.96s/it]\n"
     ]
    },
    {
     "name": "stdout",
     "output_type": "stream",
     "text": [
      "X.shape (700, 1)\n",
      "method = num_nodes, AUC = 0.500000\n",
      "X.shape (700, 1)\n",
      "method = num_edges, AUC = 0.875750\n",
      "X.shape (700, 1)\n",
      "method = min_degree, AUC = 0.695278\n",
      "X.shape (700, 1)\n",
      "method = max_degree, AUC = 0.783313\n",
      "X.shape (700, 1)\n",
      "method = diameter, AUC = 0.837335\n",
      "X.shape (700, 1)\n",
      "method = degree_assortativity_coef, AUC = 0.612645\n",
      "X.shape (700, 1)\n",
      "method = num_cliques, AUC = 0.785714\n",
      "X.shape (700, 1)\n",
      "method = Avg_clustering_coeff, AUC = 0.831132\n",
      "X.shape (700, 1)\n",
      "method = edeg_density, AUC = 0.875750\n",
      "X.shape (700, 25)\n",
      "method = MACC k0=5, AUC = 0.925970\n",
      "X.shape (700, 100)\n",
      "method = MACC k0=10, AUC = 0.971989\n",
      "X.shape (700, 400)\n",
      "method = MACC k0=20, AUC = 0.969188\n",
      "X.shape (700, 900)\n",
      "method = MACC k0=30, AUC = 0.966787\n",
      "Classifying subgraphs in Wisconsin87-Virginia63 ...\n",
      "sampling subgraphs with k=30 nodes\n"
     ]
    },
    {
     "name": "stderr",
     "output_type": "stream",
     "text": [
      "100%|████████████████████████████████████████| 100/100 [00:00<00:00, 866.33it/s]\n",
      "100%|████████████████████████████████████████| 100/100 [00:00<00:00, 726.92it/s]\n",
      "100%|████████████████████████████████████████| 100/100 [00:00<00:00, 837.24it/s]\n",
      "100%|████████████████████████████████████████| 100/100 [00:00<00:00, 121.42it/s]\n",
      "100%|████████████████████████████████████████| 100/100 [00:00<00:00, 153.03it/s]\n",
      "100%|████████████████████████████████████████| 100/100 [00:00<00:00, 164.05it/s]\n",
      "100%|████████████████████████████████████████| 100/100 [00:00<00:00, 143.24it/s]\n"
     ]
    },
    {
     "name": "stdout",
     "output_type": "stream",
     "text": [
      "extracting subgraph features..\n"
     ]
    },
    {
     "name": "stderr",
     "output_type": "stream",
     "text": [
      "100%|█████████████████████████████████████████| 700/700 [22:44<00:00,  1.95s/it]\n"
     ]
    },
    {
     "name": "stdout",
     "output_type": "stream",
     "text": [
      "X.shape (700, 1)\n",
      "method = num_nodes, AUC = 0.500000\n",
      "X.shape (700, 1)\n",
      "method = num_edges, AUC = 0.840736\n",
      "X.shape (700, 1)\n",
      "method = min_degree, AUC = 0.595838\n",
      "X.shape (700, 1)\n",
      "method = max_degree, AUC = 0.724690\n",
      "X.shape (700, 1)\n",
      "method = diameter, AUC = 0.759904\n",
      "X.shape (700, 1)\n",
      "method = degree_assortativity_coef, AUC = 0.662665\n",
      "X.shape (700, 1)\n",
      "method = num_cliques, AUC = 0.690476\n",
      "X.shape (700, 1)\n",
      "method = Avg_clustering_coeff, AUC = 0.779912\n",
      "X.shape (700, 1)\n",
      "method = edeg_density, AUC = 0.840736\n",
      "X.shape (700, 25)\n",
      "method = MACC k0=5, AUC = 0.883954\n",
      "X.shape (700, 100)\n",
      "method = MACC k0=10, AUC = 0.919568\n",
      "X.shape (700, 400)\n",
      "method = MACC k0=20, AUC = 0.924370\n",
      "X.shape (700, 900)\n",
      "method = MACC k0=30, AUC = 0.912365\n",
      "Classifying subgraphs in Wisconsin87-UCLA26 ...\n",
      "sampling subgraphs with k=30 nodes\n"
     ]
    },
    {
     "name": "stderr",
     "output_type": "stream",
     "text": [
      "100%|████████████████████████████████████████| 100/100 [00:00<00:00, 846.17it/s]\n",
      "100%|████████████████████████████████████████| 100/100 [00:00<00:00, 723.70it/s]\n",
      "100%|████████████████████████████████████████| 100/100 [00:00<00:00, 818.51it/s]\n",
      "100%|████████████████████████████████████████| 100/100 [00:00<00:00, 112.83it/s]\n",
      "100%|████████████████████████████████████████| 100/100 [00:00<00:00, 154.25it/s]\n",
      "100%|████████████████████████████████████████| 100/100 [00:00<00:00, 165.78it/s]\n",
      "100%|████████████████████████████████████████| 100/100 [00:00<00:00, 141.46it/s]\n"
     ]
    },
    {
     "name": "stdout",
     "output_type": "stream",
     "text": [
      "extracting subgraph features..\n"
     ]
    },
    {
     "name": "stderr",
     "output_type": "stream",
     "text": [
      "100%|█████████████████████████████████████████| 700/700 [28:26<00:00,  2.44s/it]\n"
     ]
    },
    {
     "name": "stdout",
     "output_type": "stream",
     "text": [
      "X.shape (700, 1)\n",
      "method = num_nodes, AUC = 0.500000\n",
      "X.shape (700, 1)\n",
      "method = num_edges, AUC = 0.809724\n",
      "X.shape (700, 1)\n",
      "method = min_degree, AUC = 0.599640\n",
      "X.shape (700, 1)\n",
      "method = max_degree, AUC = 0.745698\n",
      "X.shape (700, 1)\n",
      "method = diameter, AUC = 0.791317\n",
      "X.shape (700, 1)\n",
      "method = degree_assortativity_coef, AUC = 0.641857\n",
      "X.shape (700, 1)\n",
      "method = num_cliques, AUC = 0.710484\n",
      "X.shape (700, 1)\n",
      "method = Avg_clustering_coeff, AUC = 0.774310\n",
      "X.shape (700, 1)\n",
      "method = edeg_density, AUC = 0.809724\n",
      "X.shape (700, 25)\n",
      "method = MACC k0=5, AUC = 0.857543\n",
      "X.shape (700, 100)\n",
      "method = MACC k0=10, AUC = 0.939176\n",
      "X.shape (700, 400)\n",
      "method = MACC k0=20, AUC = 0.940376\n",
      "X.shape (700, 900)\n",
      "method = MACC k0=30, AUC = 0.948780\n",
      "Classifying subgraphs in NYU9-Virginia63 ...\n",
      "sampling subgraphs with k=30 nodes\n"
     ]
    },
    {
     "name": "stderr",
     "output_type": "stream",
     "text": [
      "100%|████████████████████████████████████████| 100/100 [00:00<00:00, 691.27it/s]\n",
      "100%|████████████████████████████████████████| 100/100 [00:00<00:00, 723.12it/s]\n",
      "100%|████████████████████████████████████████| 100/100 [00:00<00:00, 823.15it/s]\n",
      "100%|████████████████████████████████████████| 100/100 [00:00<00:00, 145.69it/s]\n",
      "100%|████████████████████████████████████████| 100/100 [00:00<00:00, 138.97it/s]\n",
      "100%|████████████████████████████████████████| 100/100 [00:00<00:00, 149.75it/s]\n",
      "100%|████████████████████████████████████████| 100/100 [00:00<00:00, 135.41it/s]\n"
     ]
    },
    {
     "name": "stdout",
     "output_type": "stream",
     "text": [
      "extracting subgraph features..\n"
     ]
    },
    {
     "name": "stderr",
     "output_type": "stream",
     "text": [
      "100%|█████████████████████████████████████████| 700/700 [24:20<00:00,  2.09s/it]\n"
     ]
    },
    {
     "name": "stdout",
     "output_type": "stream",
     "text": [
      "X.shape (700, 1)\n",
      "method = num_nodes, AUC = 0.500000\n",
      "X.shape (700, 1)\n",
      "method = num_edges, AUC = 0.830332\n",
      "X.shape (700, 1)\n",
      "method = min_degree, AUC = 0.522209\n",
      "X.shape (700, 1)\n",
      "method = max_degree, AUC = 0.743497\n",
      "X.shape (700, 1)\n",
      "method = diameter, AUC = 0.742897\n",
      "X.shape (700, 1)\n",
      "method = degree_assortativity_coef, AUC = 0.573830\n",
      "X.shape (700, 1)\n",
      "method = num_cliques, AUC = 0.705682\n",
      "X.shape (700, 1)\n",
      "method = Avg_clustering_coeff, AUC = 0.729092\n",
      "X.shape (700, 1)\n",
      "method = edeg_density, AUC = 0.830332\n",
      "X.shape (700, 25)\n",
      "method = MACC k0=5, AUC = 0.909164\n",
      "X.shape (700, 100)\n",
      "method = MACC k0=10, AUC = 0.941176\n",
      "X.shape (700, 400)\n",
      "method = MACC k0=20, AUC = 0.962785\n",
      "X.shape (700, 900)\n",
      "method = MACC k0=30, AUC = 0.958784\n",
      "Classifying subgraphs in Wisconsin87-UCLA26 ...\n",
      "sampling subgraphs with k=30 nodes\n"
     ]
    },
    {
     "name": "stderr",
     "output_type": "stream",
     "text": [
      "100%|████████████████████████████████████████| 100/100 [00:00<00:00, 633.26it/s]\n",
      "100%|████████████████████████████████████████| 100/100 [00:00<00:00, 698.88it/s]\n",
      "100%|████████████████████████████████████████| 100/100 [00:00<00:00, 835.76it/s]\n",
      "100%|████████████████████████████████████████| 100/100 [00:00<00:00, 119.63it/s]\n",
      "100%|████████████████████████████████████████| 100/100 [00:00<00:00, 131.14it/s]\n",
      "100%|████████████████████████████████████████| 100/100 [00:00<00:00, 142.58it/s]\n",
      "100%|████████████████████████████████████████| 100/100 [00:00<00:00, 116.56it/s]\n"
     ]
    },
    {
     "name": "stdout",
     "output_type": "stream",
     "text": [
      "extracting subgraph features..\n"
     ]
    },
    {
     "name": "stderr",
     "output_type": "stream",
     "text": [
      "100%|█████████████████████████████████████████| 700/700 [23:29<00:00,  2.01s/it]\n"
     ]
    },
    {
     "name": "stdout",
     "output_type": "stream",
     "text": [
      "X.shape (700, 1)\n",
      "method = num_nodes, AUC = 0.500000\n",
      "X.shape (700, 1)\n",
      "method = num_edges, AUC = 0.859744\n",
      "X.shape (700, 1)\n",
      "method = min_degree, AUC = 0.648659\n",
      "X.shape (700, 1)\n",
      "method = max_degree, AUC = 0.754902\n",
      "X.shape (700, 1)\n",
      "method = diameter, AUC = 0.899760\n",
      "X.shape (700, 1)\n",
      "method = degree_assortativity_coef, AUC = 0.685474\n",
      "X.shape (700, 1)\n",
      "method = num_cliques, AUC = 0.755102\n",
      "X.shape (700, 1)\n",
      "method = Avg_clustering_coeff, AUC = 0.770308\n",
      "X.shape (700, 1)\n",
      "method = edeg_density, AUC = 0.859744\n",
      "X.shape (700, 25)\n",
      "method = MACC k0=5, AUC = 0.872349\n",
      "X.shape (700, 100)\n",
      "method = MACC k0=10, AUC = 0.927571\n",
      "X.shape (700, 400)\n",
      "method = MACC k0=20, AUC = 0.916367\n",
      "X.shape (700, 900)\n",
      "method = MACC k0=30, AUC = 0.923970\n",
      "Classifying subgraphs in Virginia63-UCLA26 ...\n",
      "sampling subgraphs with k=30 nodes\n"
     ]
    },
    {
     "name": "stderr",
     "output_type": "stream",
     "text": [
      "100%|████████████████████████████████████████| 100/100 [00:00<00:00, 791.77it/s]\n",
      "100%|████████████████████████████████████████| 100/100 [00:00<00:00, 777.29it/s]\n",
      "100%|████████████████████████████████████████| 100/100 [00:00<00:00, 890.75it/s]\n",
      "100%|████████████████████████████████████████| 100/100 [00:00<00:00, 108.58it/s]\n",
      "100%|████████████████████████████████████████| 100/100 [00:00<00:00, 141.23it/s]\n",
      "100%|████████████████████████████████████████| 100/100 [00:00<00:00, 154.87it/s]\n",
      "100%|████████████████████████████████████████| 100/100 [00:00<00:00, 131.49it/s]\n"
     ]
    },
    {
     "name": "stdout",
     "output_type": "stream",
     "text": [
      "extracting subgraph features..\n"
     ]
    },
    {
     "name": "stderr",
     "output_type": "stream",
     "text": [
      "100%|█████████████████████████████████████████| 700/700 [23:03<00:00,  1.98s/it]\n"
     ]
    },
    {
     "name": "stdout",
     "output_type": "stream",
     "text": [
      "X.shape (700, 1)\n",
      "method = num_nodes, AUC = 0.500000\n",
      "X.shape (700, 1)\n",
      "method = num_edges, AUC = 0.880152\n",
      "X.shape (700, 1)\n",
      "method = min_degree, AUC = 0.666066\n",
      "X.shape (700, 1)\n",
      "method = max_degree, AUC = 0.733093\n",
      "X.shape (700, 1)\n",
      "method = diameter, AUC = 0.835934\n",
      "X.shape (700, 1)\n",
      "method = degree_assortativity_coef, AUC = 0.669468\n",
      "X.shape (700, 1)\n",
      "method = num_cliques, AUC = 0.749700\n",
      "X.shape (700, 1)\n",
      "method = Avg_clustering_coeff, AUC = 0.779512\n",
      "X.shape (700, 1)\n",
      "method = edeg_density, AUC = 0.880152\n",
      "X.shape (700, 25)\n",
      "method = MACC k0=5, AUC = 0.963585\n",
      "X.shape (700, 100)\n",
      "method = MACC k0=10, AUC = 0.969588\n",
      "X.shape (700, 400)\n",
      "method = MACC k0=20, AUC = 0.978792\n",
      "X.shape (700, 900)\n",
      "method = MACC k0=30, AUC = 0.975990\n",
      "Classifying subgraphs in UCLA26-Wisconsin87 ...\n",
      "sampling subgraphs with k=30 nodes\n"
     ]
    },
    {
     "name": "stderr",
     "output_type": "stream",
     "text": [
      "100%|████████████████████████████████████████| 100/100 [00:00<00:00, 736.31it/s]\n",
      "100%|████████████████████████████████████████| 100/100 [00:00<00:00, 719.15it/s]\n",
      "100%|████████████████████████████████████████| 100/100 [00:00<00:00, 816.83it/s]\n",
      "100%|████████████████████████████████████████| 100/100 [00:00<00:00, 148.55it/s]\n",
      "100%|████████████████████████████████████████| 100/100 [00:00<00:00, 147.22it/s]\n",
      "100%|████████████████████████████████████████| 100/100 [00:00<00:00, 124.15it/s]\n",
      "100%|████████████████████████████████████████| 100/100 [00:00<00:00, 135.38it/s]\n"
     ]
    },
    {
     "name": "stdout",
     "output_type": "stream",
     "text": [
      "extracting subgraph features..\n"
     ]
    },
    {
     "name": "stderr",
     "output_type": "stream",
     "text": [
      "100%|█████████████████████████████████████████| 700/700 [22:52<00:00,  1.96s/it]\n"
     ]
    },
    {
     "name": "stdout",
     "output_type": "stream",
     "text": [
      "X.shape (700, 1)\n",
      "method = num_nodes, AUC = 0.500000\n",
      "X.shape (700, 1)\n",
      "method = num_edges, AUC = 0.818327\n",
      "X.shape (700, 1)\n",
      "method = min_degree, AUC = 0.560024\n",
      "X.shape (700, 1)\n",
      "method = max_degree, AUC = 0.710884\n",
      "X.shape (700, 1)\n",
      "method = diameter, AUC = 0.819728\n",
      "X.shape (700, 1)\n",
      "method = degree_assortativity_coef, AUC = 0.697479\n",
      "X.shape (700, 1)\n",
      "method = num_cliques, AUC = 0.725490\n",
      "X.shape (700, 1)\n",
      "method = Avg_clustering_coeff, AUC = 0.744298\n",
      "X.shape (700, 1)\n",
      "method = edeg_density, AUC = 0.818327\n",
      "X.shape (700, 25)\n",
      "method = MACC k0=5, AUC = 0.874350\n",
      "X.shape (700, 100)\n",
      "method = MACC k0=10, AUC = 0.896359\n",
      "X.shape (700, 400)\n",
      "method = MACC k0=20, AUC = 0.913966\n",
      "X.shape (700, 900)\n",
      "method = MACC k0=30, AUC = 0.921569\n"
     ]
    }
   ],
   "source": [
    "# Subgraph sampling for subgraph classification\n",
    "# Output = subgraph_list as NNetwork objects\n",
    "\n",
    "ntwk_list = ['Caltech36', 'Simmons81', 'Reed98', 'NYU9', 'Virginia63', 'UCLA26', 'Wisconsin87'] # Wisconsin87, UCLA26, Caltech36\n",
    "\n",
    "#ntwk_list = ['Caltech36', 'Simmons81', 'Reed98', 'NYU9'] # Wisconsin87, UCLA26, Caltech36\n",
    "\n",
    "label_list = []\n",
    "subgraph_list = []\n",
    "num_subgraphs = 100\n",
    "k_list = [30]\n",
    "k0_list = [5, 10,20,30]\n",
    "\n",
    "#X_MACC = []\n",
    "#X_edge_density = []\n",
    "#X_adj = []\n",
    "\n",
    "nn_network_list = []\n",
    "for ntwk in ntwk_list:\n",
    "    ntwk_nonumber = ''.join([i for i in ntwk if not i.isdigit()])\n",
    "    path = \"Data/Facebook/\" + str(ntwk) + '.txt'\n",
    "    G = nn.NNetwork()\n",
    "    G.load_add_edges(path, increment_weights=False, use_genfromtxt=True)\n",
    "    nn_network_list.append(G)\n",
    "    print('num nodes in G', len(G.nodes()))\n",
    "    print('num edges in G', len(G.get_edges()))\n",
    "\n",
    "y = [0]*num_subgraphs + [1]*num_subgraphs\n",
    "\n",
    "results_all = {}\n",
    "\n",
    "for a in np.arange(len(nn_network_list)):\n",
    "    for b in np.arange(a+1, len(nn_network_list)):\n",
    "        if a != b:\n",
    "            nn_network_list_sub = [nn_network_list[a],nn_network_list[b]]\n",
    "            print(\"Classifying subgraphs in {}-{} ...\".format(ntwk_list[a], ntwk_list[b]))\n",
    "\n",
    "            subgraph_list_dict = {}\n",
    "            output_dict_list_total = {}\n",
    "\n",
    "            for k in k_list:\n",
    "                print(\"sampling subgraphs with k={} nodes\".format(k))\n",
    "                subgraph_list = []\n",
    "                for q in np.arange(len(nn_network_list)):\n",
    "                    G = nn_network_list[q]\n",
    "\n",
    "                    for i in trange(num_subgraphs):\n",
    "                        label_list.append(str(ntwk))\n",
    "\n",
    "                        # take the induced subgraph \n",
    "                        #X, embs = G.get_patches(k=k, sample_size=10, skip_folded_hom=False, sampling_alg = 'pivot')\n",
    "                        #H = G.subgraph(embs[-1]) # take the last instance of MCMC sampling\n",
    "                    \n",
    "                        H = G.k_node_ind_subgraph(k=k)\n",
    "                        while H is None:\n",
    "                            H = G.k_node_ind_subgraph(k=k)\n",
    "                        \n",
    "                        #A_adj = H.get_adjacency_matrix()\n",
    "                        subgraph_list.append(H)\n",
    "                        #subgraph_list.append(A_adj)\n",
    "\n",
    "                        \"\"\"\n",
    "                        ## compute summary stats of subgraphs \n",
    "\n",
    "                        A_adj = H.get_adjacency_matrix()\n",
    "                        X_adj.append(A_adj)\n",
    "\n",
    "                        X0, embs0 = H.get_patches(k=k0, sample_size=1000, skip_folded_hom=False, sampling_alg = 'pivot')\n",
    "                        MACC = np.sum(X0, axis=1)/X0.shape[1]\n",
    "                        MACC = MACC.reshape(k0,k0)\n",
    "                        X_MACC.append(MACC)\n",
    "\n",
    "                        X_edge_density.append(np.linalg.norm(A_adj, 1)/len(H.nodes()))\n",
    "                        \"\"\"\n",
    "\n",
    "                subgraph_list_dict.update({\"k={}\".format(k) : subgraph_list})\n",
    "\n",
    "                print(\"extracting subgraph features..\")\n",
    "                output_dict_list = datagen_graph_features(X=subgraph_list, k0_list = k0_list)\n",
    "                results_dict_total = run_binary_classification(output_dict_list, y=y, scale=0.3)\n",
    "\n",
    "                output_dict_list_total.update({\"subgraph_list\": subgraph_list_dict})\n",
    "                output_dict_list_total.update({\"k={}\".format(k): results_dict_total})\n",
    "            output_dict_list_total.update({\"subgraph_list\": subgraph_list_dict})\n",
    "            results_all.update({\"{}-{}\".format(ntwk_list[a], ntwk_list[b]) : output_dict_list_total})\n",
    "            np.save(\"Output_files/subgraph_classification_data30\", results_all)"
   ]
  },
  {
   "cell_type": "code",
   "execution_count": 67,
   "id": "99b91d6f",
   "metadata": {},
   "outputs": [],
   "source": [
    "path = \"Output_files/subgraph_classification_data30.npy\"\n",
    "a = np.load(path, allow_pickle=True).item()"
   ]
  },
  {
   "cell_type": "code",
   "execution_count": 70,
   "id": "a5dde96d",
   "metadata": {},
   "outputs": [
    {
     "data": {
      "text/plain": [
       "dict_keys(['Wisconsin87-Simmons81', 'Wisconsin87-Reed98', 'Wisconsin87-NYU9', 'Wisconsin87-Virginia63', 'Wisconsin87-UCLA26', 'Wisconsin87-Wisconsin87'])"
      ]
     },
     "execution_count": 70,
     "metadata": {},
     "output_type": "execute_result"
    }
   ],
   "source": [
    "a.keys()"
   ]
  },
  {
   "cell_type": "code",
   "execution_count": 72,
   "id": "59ace428",
   "metadata": {},
   "outputs": [
    {
     "data": {
      "text/plain": [
       "dict_keys(['Wisconsin87-Simmons81', 'Wisconsin87-Reed98', 'Wisconsin87-NYU9', 'Wisconsin87-Virginia63', 'Wisconsin87-UCLA26', 'Wisconsin87-Wisconsin87'])"
      ]
     },
     "execution_count": 72,
     "metadata": {},
     "output_type": "execute_result"
    }
   ],
   "source": [
    "results_all.keys()"
   ]
  },
  {
   "cell_type": "code",
   "execution_count": 32,
   "id": "dd71e3c2",
   "metadata": {},
   "outputs": [
    {
     "name": "stdout",
     "output_type": "stream",
     "text": [
      "num nodes in G 23842\n",
      "num edges in G 1671904\n",
      "num nodes in G 20467\n",
      "num edges in G 1495226\n",
      "sampling subgraphs with k=110 nodes\n"
     ]
    },
    {
     "name": "stderr",
     "output_type": "stream",
     "text": [
      "100%|█████████████████████████████████████████| 100/100 [00:20<00:00,  4.84it/s]\n",
      "100%|█████████████████████████████████████████| 100/100 [00:19<00:00,  5.20it/s]\n"
     ]
    },
    {
     "name": "stdout",
     "output_type": "stream",
     "text": [
      "extracting subgraph features..\n"
     ]
    },
    {
     "name": "stderr",
     "output_type": "stream",
     "text": [
      " 55%|██████████████████████▌                  | 110/200 [23:43<18:55, 12.61s/it]/Users/hanbaek/opt/miniconda3/envs/hlyuenv/lib/python3.9/site-packages/networkx/algorithms/assortativity/correlation.py:298: RuntimeWarning: invalid value encountered in double_scalars\n",
      "  return (xy * (M - ab)).sum() / np.sqrt(vara * varb)\n",
      "100%|█████████████████████████████████████████| 200/200 [45:41<00:00, 13.71s/it]"
     ]
    },
    {
     "name": "stdout",
     "output_type": "stream",
     "text": [
      "X.shape (200, 1)\n",
      "method = num_nodes, AUC = 0.467587\n",
      "X.shape (200, 1)\n",
      "method = num_edges, AUC = 0.462185\n",
      "X.shape (200, 1)\n",
      "method = min_degree, AUC = 0.513405\n",
      "X.shape (200, 1)\n",
      "method = max_degree, AUC = 0.665866\n",
      "X.shape (200, 1)\n",
      "method = diameter, AUC = 0.518607\n",
      "X.shape (200, 1)\n",
      "method = degree_assortativity_coef, AUC = 0.617047\n",
      "X.shape (200, 1)\n",
      "method = num_cliques, AUC = 0.486595\n",
      "X.shape (200, 1)\n",
      "method = Avg_clustering_coeff, AUC = 0.656663\n",
      "X.shape (200, 1)\n",
      "method = edeg_density, AUC = 0.522209\n",
      "X.shape (200, 900)\n",
      "method = MACC k0=30, AUC = 0.745898\n",
      "X.shape (200, 1600)\n",
      "method = MACC k0=40, AUC = 0.787915\n",
      "X.shape (200, 2500)\n",
      "method = MACC k0=50, AUC = 0.749500\n",
      "X.shape (200, 3600)\n",
      "method = MACC k0=60, AUC = 0.757903\n",
      "X.shape (200, 4900)\n",
      "method = MACC k0=70, AUC = 0.793517\n"
     ]
    },
    {
     "name": "stderr",
     "output_type": "stream",
     "text": [
      "\n"
     ]
    }
   ],
   "source": [
    "# Subgraph sampling for subgraph classification\n",
    "# Output = subgraph_list as NNetwork objects\n",
    "\n",
    "ntwk_list = ['Wisconsin87', 'UCLA26'] # Wisconsin87, UCLA26, Caltech36\n",
    "label_list = []\n",
    "subgraph_list = []\n",
    "num_subgraphs = 100\n",
    "k_list = [110]\n",
    "k0_list = [30,40,50,60,70]\n",
    "\n",
    "#X_MACC = []\n",
    "#X_edge_density = []\n",
    "#X_adj = []\n",
    "\n",
    "nn_network_list = []\n",
    "for ntwk in ntwk_list:\n",
    "    ntwk_nonumber = ''.join([i for i in ntwk if not i.isdigit()])\n",
    "    path = \"Data/Facebook/\" + str(ntwk) + '.txt'\n",
    "    G = nn.NNetwork()\n",
    "    G.load_add_edges(path, increment_weights=False, use_genfromtxt=True)\n",
    "    nn_network_list.append(G)\n",
    "    print('num nodes in G', len(G.nodes()))\n",
    "    print('num edges in G', len(G.get_edges()))\n",
    "\n",
    "y = [0]*num_subgraphs + [1]*num_subgraphs\n",
    "\n",
    "subgraph_list_dict = {}\n",
    "output_dict_list_total = {}\n",
    "\n",
    "for k in k_list:\n",
    "    print(\"sampling subgraphs with k={} nodes\".format(k)\n",
    "    subgraph_list = []\n",
    "    for a in np.arange(len(nn_network_list)):\n",
    "        G = nn_network_list[a]\n",
    "        \n",
    "        for i in trange(num_subgraphs):\n",
    "            label_list.append(str(ntwk))\n",
    "\n",
    "            # take the induced subgraph \n",
    "            X, embs = G.get_patches(k=k, sample_size=10, skip_folded_hom=False, sampling_alg = 'pivot')\n",
    "            H = G.subgraph(embs[-1]) # take the last instance of MCMC sampling\n",
    "            #A_adj = H.get_adjacency_matrix()\n",
    "            subgraph_list.append(H)\n",
    "            #subgraph_list.append(A_adj)\n",
    "\n",
    "            \"\"\"\n",
    "            ## compute summary stats of subgraphs \n",
    "\n",
    "            A_adj = H.get_adjacency_matrix()\n",
    "            X_adj.append(A_adj)\n",
    "\n",
    "            X0, embs0 = H.get_patches(k=k0, sample_size=1000, skip_folded_hom=False, sampling_alg = 'pivot')\n",
    "            MACC = np.sum(X0, axis=1)/X0.shape[1]\n",
    "            MACC = MACC.reshape(k0,k0)\n",
    "            X_MACC.append(MACC)\n",
    "\n",
    "            X_edge_density.append(np.linalg.norm(A_adj, 1)/len(H.nodes()))\n",
    "            \"\"\"\n",
    "\n",
    "    subgraph_list_dict.update({\"k={}\".format(k) : subgraph_list})\n",
    "\n",
    "    print(\"extracting subgraph features..\")\n",
    "    output_dict_list = datagen_graph_features(X=subgraph_list, k0_list = k0_list)\n",
    "    results_dict_total = run_binary_classification(output_dict_list, y=y, scale=0.3)\n",
    "    \n",
    "    output_dict_list_total.update({\"k={}\".format(k): results_dict_total})"
   ]
  },
  {
   "cell_type": "code",
   "execution_count": 34,
   "id": "ebb5e76e",
   "metadata": {},
   "outputs": [],
   "source": [
    "path = \"Output_files/subgraph_classification_ex1\"\n",
    "np.save(path, output_dict_list_total)"
   ]
  },
  {
   "cell_type": "code",
   "execution_count": 25,
   "id": "6142d94c",
   "metadata": {},
   "outputs": [
    {
     "name": "stdout",
     "output_type": "stream",
     "text": [
      "num nodes in G 20467\n",
      "num edges in G 1495226\n",
      "num nodes in G 5000\n",
      "num edges in G 248750\n",
      "sampling subgraphs with k=50 nodes\n"
     ]
    },
    {
     "name": "stderr",
     "output_type": "stream",
     "text": [
      "100%|█████████████████████████████████████████| 100/100 [00:07<00:00, 13.79it/s]\n",
      "100%|█████████████████████████████████████████| 100/100 [00:04<00:00, 23.82it/s]\n"
     ]
    },
    {
     "name": "stdout",
     "output_type": "stream",
     "text": [
      "extracting subgraph features..\n"
     ]
    },
    {
     "name": "stderr",
     "output_type": "stream",
     "text": [
      "100%|█████████████████████████████████████████| 200/200 [06:31<00:00,  1.96s/it]"
     ]
    },
    {
     "name": "stdout",
     "output_type": "stream",
     "text": [
      "X.shape (200, 1)\n",
      "method = num_nodes, AUC = 0.602241\n",
      "X.shape (200, 1)\n",
      "method = num_edges, AUC = 0.697679\n",
      "X.shape (200, 1)\n",
      "method = min_degree, AUC = 0.554222\n",
      "X.shape (200, 1)\n",
      "method = max_degree, AUC = 0.846939\n",
      "X.shape (200, 1)\n",
      "method = diameter, AUC = 0.925570\n",
      "X.shape (200, 1)\n",
      "method = degree_assortativity_coef, AUC = 0.769908\n",
      "X.shape (200, 1)\n",
      "method = num_cliques, AUC = 0.736695\n",
      "X.shape (200, 1)\n",
      "method = Avg_clustering_coeff, AUC = 0.992397\n",
      "X.shape (200, 1)\n",
      "method = edeg_density, AUC = 0.726291\n",
      "X.shape (200, 225)\n",
      "method = MACC k0=15, AUC = 0.989596\n",
      "X.shape (200, 400)\n",
      "method = MACC k0=20, AUC = 0.993998\n",
      "X.shape (200, 900)\n",
      "method = MACC k0=30, AUC = 0.996799\n"
     ]
    },
    {
     "name": "stderr",
     "output_type": "stream",
     "text": [
      "\n"
     ]
    }
   ],
   "source": [
    "# Subgraph sampling for subgraph classification\n",
    "# Output = subgraph_list as NNetwork objects\n",
    "\n",
    "ntwk_list = ['UCLA26', 'true_edgelist_for_BA_5000_m_25'] # Wisconsin87, UCLA26, Caltech36\n",
    "label_list = []\n",
    "subgraph_list = []\n",
    "num_subgraphs = 100\n",
    "k_list = [50]\n",
    "k0_list = [15,20,30]\n",
    "\n",
    "#X_MACC = []\n",
    "#X_edge_density = []\n",
    "#X_adj = []\n",
    "\n",
    "nn_network_list = []\n",
    "for ntwk in ntwk_list:\n",
    "    ntwk_nonumber = ''.join([i for i in ntwk if not i.isdigit()])\n",
    "    path = \"Data/Facebook/\" + str(ntwk) + '.txt'\n",
    "    G = nn.NNetwork()\n",
    "    G.load_add_edges(path, increment_weights=False, use_genfromtxt=True)\n",
    "    nn_network_list.append(G)\n",
    "    print('num nodes in G', len(G.nodes()))\n",
    "    print('num edges in G', len(G.get_edges()))\n",
    "\n",
    "y = [0]*num_subgraphs + [1]*num_subgraphs\n",
    "\n",
    "subgraph_list_dict = {}\n",
    "output_dict_list_total = {}\n",
    "\n",
    "for k in k_list:\n",
    "    print(\"sampling subgraphs with k={} nodes\".format(k))\n",
    "    subgraph_list = []\n",
    "    for a in np.arange(len(nn_network_list)):\n",
    "        G = nn_network_list[a]\n",
    "        \n",
    "        for i in trange(num_subgraphs):\n",
    "            label_list.append(str(ntwk))\n",
    "\n",
    "            # take the induced subgraph \n",
    "            X, embs = G.get_patches(k=k, sample_size=10, skip_folded_hom=False, sampling_alg = 'pivot')\n",
    "            H = G.subgraph(embs[-1]) # take the last instance of MCMC sampling\n",
    "            #A_adj = H.get_adjacency_matrix()\n",
    "            subgraph_list.append(H)\n",
    "            #subgraph_list.append(A_adj)\n",
    "\n",
    "            \"\"\"\n",
    "            ## compute summary stats of subgraphs \n",
    "\n",
    "            A_adj = H.get_adjacency_matrix()\n",
    "            X_adj.append(A_adj)\n",
    "\n",
    "            X0, embs0 = H.get_patches(k=k0, sample_size=1000, skip_folded_hom=False, sampling_alg = 'pivot')\n",
    "            MACC = np.sum(X0, axis=1)/X0.shape[1]\n",
    "            MACC = MACC.reshape(k0,k0)\n",
    "            X_MACC.append(MACC)\n",
    "\n",
    "            X_edge_density.append(np.linalg.norm(A_adj, 1)/len(H.nodes()))\n",
    "            \"\"\"\n",
    "\n",
    "    subgraph_list_dict.update({\"k={}\".format(k) : subgraph_list})\n",
    "\n",
    "    print(\"extracting subgraph features..\")\n",
    "    output_dict_list = datagen_graph_features(X=subgraph_list, k0_list = k0_list)\n",
    "    results_dict_total = run_binary_classification(output_dict_list, y=y, scale=0.3)\n",
    "    \n",
    "    output_dict_list_total.update({\"k={}\".format(k): results_dict_total})"
   ]
  },
  {
   "cell_type": "code",
   "execution_count": null,
   "id": "6d9d38c2",
   "metadata": {},
   "outputs": [],
   "source": [
    "results_dict_total = run_binary_classification(output_dict_list, scale=1)"
   ]
  },
  {
   "cell_type": "code",
   "execution_count": null,
   "id": "293ed072",
   "metadata": {},
   "outputs": [],
   "source": [
    "# Using full adjacency matrix \n",
    "X = np.asarray(X_adj).reshape(-1,k0**2)\n",
    "print(\"X.shape\", X.shape)\n",
    "X_train = X[X_train_idx,:]\n",
    "X_test = X[X_test_idx,:]\n",
    "\n",
    "clf = LogisticRegression(random_state=0).fit(X_train, y_train)\n",
    "y_pred = clf.predict(X_test)\n",
    "P_pred = clf.predict_proba(X_test)\n",
    "#print(\"P_pred\", P_pred)\n",
    "\n",
    "compute_accuracy_metrics(y_test, P_pred[:,1], use_opt_threshold=False, verbose=False)"
   ]
  },
  {
   "cell_type": "code",
   "execution_count": null,
   "id": "e1dd25ab",
   "metadata": {},
   "outputs": [],
   "source": [
    "def display_graphs(title,\n",
    "                     save_path,\n",
    "                     grid_shape=[2,3],\n",
    "                     fig_size=[10,10],\n",
    "                     data = None, # [X, embs]\n",
    "                     show_importance=False):\n",
    "\n",
    "        # columns of X = vectorized k x k adjacency matrices\n",
    "        # corresponding list in embs = sequence of nodes (may overalp)\n",
    "        X, embs = data\n",
    "        print('X.shape', X.shape)\n",
    "\n",
    "        rows = grid_shape[0]\n",
    "        cols = grid_shape[1]\n",
    "\n",
    "        fig = plt.figure(figsize=fig_size, constrained_layout=False)\n",
    "        # make outer gridspec\n",
    "\n",
    "        idx = np.arange(X.shape[1])\n",
    "        outer_grid = gridspec.GridSpec(nrows=rows, ncols=cols, wspace=0.02, hspace=0.05)\n",
    "\n",
    "        # make nested gridspecs\n",
    "        for i in range(rows * cols):\n",
    "            a = i // cols\n",
    "            b = i % rows\n",
    "\n",
    "            Ndict_wspace = 0.05\n",
    "            Ndict_hspace = 0.05\n",
    "\n",
    "            # display graphs\n",
    "            inner_grid = outer_grid[i].subgridspec(1, 1, wspace=Ndict_wspace, hspace=Ndict_hspace)\n",
    "\n",
    "            # get rid of duplicate nodes\n",
    "            A = X[:,idx[i]]\n",
    "            A = X[:,idx[i]].reshape(int(np.sqrt(X.shape[0])), -1)\n",
    "            H = nn.NNetwork()\n",
    "            H.read_adj(A, embs[idx[i]])\n",
    "            A_sub = H.get_adjacency_matrix()\n",
    "\n",
    "            # read in as a nx graph for plotting\n",
    "            G1 = nx.from_numpy_matrix(A_sub)\n",
    "            ax = fig.add_subplot(inner_grid[0, 0])\n",
    "            pos = nx.spring_layout(G1)\n",
    "            edges = G1.edges()\n",
    "            weights = [1*G1[u][v]['weight'] for u,v in edges]\n",
    "            nx.draw(G1, with_labels=False, node_size=20, ax=ax, width=weights, label='Graph')\n",
    "\n",
    "            ax.set_xticks([])\n",
    "            ax.set_yticks([])\n",
    "\n",
    "        plt.suptitle(title, fontsize=15)\n",
    "        fig.subplots_adjust(left=0.1, bottom=0.1, right=0.9, top=0.9, wspace=0.2, hspace=0)\n",
    "        fig.savefig(save_path, bbox_inches='tight')"
   ]
  },
  {
   "cell_type": "code",
   "execution_count": null,
   "id": "0f484558",
   "metadata": {},
   "outputs": [],
   "source": [
    "def display_dict_and_graph(title,\n",
    "                           W, \n",
    "                           singular_values, \n",
    "                         save_path,\n",
    "                         grid_shape=None,\n",
    "                         fig_size=[10,10],\n",
    "                         show_importance=False):\n",
    "        \n",
    "        n_components = W.shape[1]\n",
    "        k = int(np.sqrt(W.shape[0]))\n",
    "\n",
    "        rows = np.round(np.sqrt(n_components))\n",
    "        rows = rows.astype(int)\n",
    "        if grid_shape is not None:\n",
    "            rows = grid_shape[0]\n",
    "            cols = grid_shape[1]\n",
    "        else:\n",
    "            if rows ** 2 == n_components:\n",
    "                cols = rows\n",
    "            else:\n",
    "                cols = rows + 1\n",
    "\n",
    "        if show_importance:\n",
    "            # importance = np.sum(self.code, axis=1) / sum(sum(self.code))\n",
    "            idx = np.argsort(singular_values)\n",
    "            idx = np.flip(idx)\n",
    "        else:\n",
    "            idx = np.arange(W.shape[1])\n",
    "\n",
    "        Ndict_wspace = 0.05\n",
    "        Ndict_hspace = 0.05\n",
    "\n",
    "        fig = plt.figure(figsize=fig_size, constrained_layout=False)\n",
    "        outer_grid = gridspec.GridSpec(nrows=1, ncols=2, wspace=0.02, hspace=0.05)\n",
    "        for t in np.arange(2):\n",
    "            # make nested gridspecs\n",
    "\n",
    "            if t == 0:\n",
    "                ### Make gridspec\n",
    "                inner_grid = outer_grid[t].subgridspec(rows, cols, wspace=Ndict_wspace, hspace=Ndict_hspace)\n",
    "                #gs1 = fig.add_gridspec(nrows=rows, ncols=cols, wspace=0.05, hspace=0.05)\n",
    "\n",
    "                for i in range(rows * cols):\n",
    "                    a = i // cols\n",
    "                    b = i % cols\n",
    "                    ax = fig.add_subplot(inner_grid[a, b])\n",
    "                    ax.imshow(W.T[idx[i]].reshape(k, k), cmap=\"viridis\", interpolation='nearest')\n",
    "                    # ax.set_xlabel('%1.2f' % importance[idx[i]], fontsize=13)  # get the largest first\n",
    "                    # ax.xaxis.set_label_coords(0.5, -0.05)  # adjust location of importance appearing beneath patches\n",
    "                    ax.set_xticks([])\n",
    "                    ax.set_yticks([])\n",
    "            if t == 1:\n",
    "                inner_grid = outer_grid[t].subgridspec(rows, cols, wspace=Ndict_wspace, hspace=Ndict_hspace)\n",
    "                #gs1 = fig.add_gridspec(nrows=rows, ncols=cols, wspace=0.05, hspace=0.05)\n",
    "\n",
    "                for i in range(rows * cols):\n",
    "                    a = i // cols\n",
    "                    b = i % cols\n",
    "\n",
    "                    G1 = nx.from_numpy_matrix(W[:,idx[i]].reshape(int(np.sqrt(W.shape[0])),-1))\n",
    "                    ax = fig.add_subplot(inner_grid[a, b])\n",
    "                    pos = nx.spring_layout(G1)\n",
    "                    edges = G1.edges()\n",
    "                    weights = [5*G1[u][v]['weight'] for u,v in edges]\n",
    "                    nx.draw(G1, with_labels=False, node_size=10, ax=ax, width=weights, label='Graph')\n",
    "                    if show_importance:\n",
    "                        ax.set_xlabel('%1.2f' % importance[idx[i]], fontsize=13)  # get the largest first\n",
    "                        ax.xaxis.set_label_coords(0.5, -0.05)  # adjust location of importance appearing beneath patches\n",
    "\n",
    "                    ax.set_xticks([])\n",
    "                    ax.set_yticks([])\n",
    "\n",
    "        plt.suptitle(title, fontsize=25)\n",
    "        fig.subplots_adjust(left=0.1, bottom=0.1, right=0.9, top=0.9, wspace=0.2, hspace=0)\n",
    "        fig.savefig(save_path, bbox_inches='tight')"
   ]
  },
  {
   "cell_type": "code",
   "execution_count": null,
   "id": "b37fa455",
   "metadata": {},
   "outputs": [],
   "source": [
    "sampling_alg = 'pivot'\n",
    "\n",
    "ntwk = 'Caltech36' # COVID_PPI, Wisconsin87, UCLA26\n",
    "ntwk_nonumber = ''.join([i for i in ntwk if not i.isdigit()])\n",
    "save_folder = 'temp/'\n",
    "k=10\n",
    "\n",
    "path = \"Data/Networks_all_NDL/\" + str(ntwk) + '.txt'\n",
    "G = nn.NNetwork()\n",
    "G.load_add_edges(path, increment_weights=False, use_genfromtxt=True)\n",
    "print('num nodes in G', len(G.nodes()))\n",
    "print('num edges in G', len(G.get_edges()))\n",
    "\n",
    "#mx0 = G.get_adjacency_matrix(ordered_node_list=G.nodes())\n",
    "#plt.imshow(mx0)"
   ]
  },
  {
   "cell_type": "code",
   "execution_count": null,
   "id": "c1bf47a6",
   "metadata": {},
   "outputs": [],
   "source": [
    "X, embs = G.get_patches(k=k, sample_size=1000, skip_folded_hom=True)\n",
    "\n",
    "display_graphs(title='induced subgraphs on {}-walks in {}'.format(k, ntwk_nonumber),\n",
    "                 save_path=save_folder + ntwk_nonumber + \"_subgraphs_\"+ str(sampling_alg) + \"_walk\", \n",
    "                 data = [X, embs],\n",
    "                 grid_shape = [5, 15],\n",
    "                 fig_size = [15, 5],\n",
    "                 show_importance=False)"
   ]
  },
  {
   "cell_type": "code",
   "execution_count": null,
   "id": "5cb83273",
   "metadata": {},
   "outputs": [],
   "source": [
    "np.save(\"MC_data_matrix\", X)"
   ]
  },
  {
   "cell_type": "code",
   "execution_count": null,
   "id": "cc64e629",
   "metadata": {},
   "outputs": [],
   "source": [
    "plt.imshow(X[:,4].reshape(k,k))"
   ]
  },
  {
   "cell_type": "code",
   "execution_count": null,
   "id": "cec9d231",
   "metadata": {},
   "outputs": [],
   "source": [
    "from sklearn.decomposition import PCA ### Use truncated SVD / online PCA later for better computational efficiency \n",
    "pca = PCA(n_components=25)\n",
    "pca.fit(X)"
   ]
  },
  {
   "cell_type": "code",
   "execution_count": null,
   "id": "17f09c1b",
   "metadata": {},
   "outputs": [],
   "source": [
    "Y = pca.fit_transform(X)\n",
    "singular_values = pca.singular_values_"
   ]
  },
  {
   "cell_type": "code",
   "execution_count": null,
   "id": "1c75463d",
   "metadata": {},
   "outputs": [],
   "source": [
    "display_dict_and_graph(title='{}-node induced subgraphs in {} (sampling : {})'.format(k, ntwk_nonumber, sampling_alg),\n",
    "                 save_path=save_folder + ntwk_nonumber + \"_subgraphs_\"+ str(sampling_alg), \n",
    "                 W = Y,\n",
    "                 singular_values = singular_values,\n",
    "                 grid_shape = [5, 5],\n",
    "                 fig_size = [15, 10],\n",
    "                 show_importance=False)"
   ]
  },
  {
   "cell_type": "code",
   "execution_count": null,
   "id": "119b16ba",
   "metadata": {},
   "outputs": [],
   "source": []
  }
 ],
 "metadata": {
  "kernelspec": {
   "display_name": "Python 3 (ipykernel)",
   "language": "python",
   "name": "python3"
  },
  "language_info": {
   "codemirror_mode": {
    "name": "ipython",
    "version": 3
   },
   "file_extension": ".py",
   "mimetype": "text/x-python",
   "name": "python",
   "nbconvert_exporter": "python",
   "pygments_lexer": "ipython3",
   "version": "3.9.13"
  }
 },
 "nbformat": 4,
 "nbformat_minor": 5
}
