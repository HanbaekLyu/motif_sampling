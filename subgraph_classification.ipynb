{
 "cells": [
  {
   "cell_type": "markdown",
   "id": "5a2cd015",
   "metadata": {},
   "source": [
    "## Subgraph classification "
   ]
  },
  {
   "cell_type": "code",
   "execution_count": 2,
   "id": "9da6b4f1",
   "metadata": {},
   "outputs": [],
   "source": [
    "#Imports\n",
    "import numpy as np\n",
    "from NNetwork import NNetwork as nn\n",
    "import networkx as nx\n",
    "#import utils.NNetwork as nn\n",
    "import matplotlib.pyplot as plt\n",
    "from sklearn import svm\n",
    "from sklearn import metrics, model_selection\n",
    "from tqdm import trange\n",
    "from sklearn.cluster import KMeans\n",
    "import matplotlib.gridspec as gridspec\n",
    "from tqdm import trange\n",
    "from numpy import genfromtxt\n",
    "from sklearn.metrics import accuracy_score\n",
    "from sklearn.metrics import confusion_matrix\n",
    "from sklearn.model_selection import train_test_split\n",
    "from sklearn.linear_model import LogisticRegression"
   ]
  },
  {
   "cell_type": "code",
   "execution_count": 3,
   "id": "4cb9fcea",
   "metadata": {},
   "outputs": [],
   "source": [
    "def compute_accuracy_metrics(Y_test, P_pred, use_opt_threshold=False, verbose=False):\n",
    "    # y_test = binary label \n",
    "    # P_pred = predicted probability for y_test\n",
    "    # compuate various binary classification accuracy metrics\n",
    "    fpr, tpr, thresholds = metrics.roc_curve(Y_test, P_pred, pos_label=None)\n",
    "    mythre = thresholds[np.argmax(tpr - fpr)]\n",
    "    myauc = metrics.auc(fpr, tpr)\n",
    "    # print('!!! auc', myauc)\n",
    "    \n",
    "    # Compute classification statistics\n",
    "    threshold = 0.5\n",
    "    if use_opt_threshold:\n",
    "        threshold = mythre\n",
    "    \n",
    "    Y_pred = P_pred.copy()\n",
    "    Y_pred[Y_pred < threshold] = 0\n",
    "    Y_pred[Y_pred >= threshold] = 1\n",
    "\n",
    "    mcm = confusion_matrix(Y_test, Y_pred)\n",
    "    tn = mcm[0, 0]\n",
    "    tp = mcm[1, 1]\n",
    "    fn = mcm[1, 0]\n",
    "    fp = mcm[0, 1]\n",
    "\n",
    "    accuracy = (tp + tn) / (tp + tn + fp + fn)\n",
    "    sensitivity = tn / (tn + fp)\n",
    "    specificity = tp / (tp + fn)\n",
    "    precision = tp / (tp + fp)\n",
    "    fall_out = fp / (fp + tn)\n",
    "    miss_rate = fn / (fn + tp)\n",
    "\n",
    "    # Save results\n",
    "    results_dict = {}\n",
    "    results_dict.update({'Y_test': Y_test})\n",
    "    results_dict.update({'Y_pred': Y_pred})\n",
    "    results_dict.update({'AUC': myauc})\n",
    "    results_dict.update({'Opt_threshold': mythre})\n",
    "    results_dict.update({'Accuracy': accuracy})\n",
    "    results_dict.update({'Sensitivity': sensitivity})\n",
    "    results_dict.update({'Specificity': specificity})\n",
    "    results_dict.update({'Precision': precision})\n",
    "    results_dict.update({'Fall_out': fall_out})\n",
    "    results_dict.update({'Miss_rate': miss_rate})\n",
    "    \n",
    "    if verbose:\n",
    "        for key in [key for key in results_dict.keys()]:\n",
    "            print('% s ===> %.3f' % (key, results_dict.get(key)))\n",
    "    return results_dict"
   ]
  },
  {
   "cell_type": "code",
   "execution_count": 4,
   "id": "bde66628",
   "metadata": {},
   "outputs": [],
   "source": [
    "# X: a list of NNetwork objects\n",
    "# num_edges, num_nodes, min_degree, max_degree, diameter\n",
    "import math\n",
    "\n",
    "def MACC_nx(G, k):\n",
    "    # G = networkx Network\n",
    "    # k = length of chain motif\n",
    "    # Compute k x k Matrix of Average Clustering Coefficients\n",
    "    G_nn = nn.NNetwork()\n",
    "    G_nn.add_edges( list(G.edges) )\n",
    "    X0, embs0 = G_nn.get_patches(k=k, sample_size=1000, skip_folded_hom=False, sampling_alg = 'pivot')\n",
    "    MACC = np.sum(X0, axis=1)/X0.shape[1]\n",
    "    MACC = MACC.reshape(k,k)\n",
    "    return MACC\n",
    "\n",
    "def datagen_graph_features(X, k0_list):\n",
    "    # generate the toy dataset\n",
    "    # file = open(file_name, 'w+', newline='')\n",
    "    output_dict_list = []\n",
    "    \n",
    "    header = [\"num_edges\", \"num_nodes\", \"min_degree\", \"max_degree\", \"diameter\", \n",
    "              \"degree_assortativity_coef\", \"num_clique\", \"avg_clustering_coef\", \n",
    "              \"density\"]\n",
    "  \n",
    "    for i in trange(len(X)): #X.shape[1]: total number of graphs\n",
    "                                #X.shape[0]: num_nodes^2\n",
    "        output_dict = {}\n",
    "        G_nn = X[i]\n",
    "        G=nx.Graph(G_nn.get_edges())\n",
    "        \n",
    "        num_edges = G.number_of_edges()\n",
    "        min_degree = min(list(G.degree), key=lambda x: x[1])[1]\n",
    "        max_degree = max(list(G.degree), key=lambda x: x[1])[1]\n",
    "        diameter = nx.diameter(G)\n",
    "\n",
    "        degree_assortativity_coef = nx.degree_assortativity_coefficient(G)\n",
    "        num_clique = nx.graph_clique_number(G)\n",
    "        avg_clustering_coef = nx.average_clustering(G)\n",
    "        #small_world_coef = nx.omega(G)\n",
    "        density = nx.density(G)\n",
    "\n",
    "        output_dict.update({\"num_nodes\": len(G.nodes())})\n",
    "        output_dict.update({\"num_edges\": G.number_of_edges()})\n",
    "        output_dict.update({\"min_degree\": min(list(G.degree), key=lambda x: x[1])[1]})\n",
    "        output_dict.update({\"max_degree\": max(list(G.degree), key=lambda x: x[1])[1]})\n",
    "        output_dict.update({\"diameter\": nx.diameter(G)})\n",
    "        a = nx.degree_assortativity_coefficient(G)\n",
    "        if math.isnan(a):\n",
    "            a = 0\n",
    "        output_dict.update({\"degree_assortativity_coef\": a})\n",
    "        output_dict.update({\"num_cliques\": nx.graph_clique_number(G)})\n",
    "        output_dict.update({\"Avg_clustering_coeff\": nx.average_clustering(G)})\n",
    "        output_dict.update({\"edeg_density\": nx.density(G)})\n",
    "        for k0 in k0_list:\n",
    "            output_dict.update({\"MACC k0={}\".format(k0): MACC_nx(G, k=k0)})\n",
    "\n",
    "        output_dict_list.append(output_dict)\n",
    "        \n",
    "    return output_dict_list\n",
    "\n",
    "def run_binary_classification(output_dict_list, y, scale=1):\n",
    "\n",
    "    X_train_idx, X_test_idx, y_train, y_test = train_test_split(np.arange(len(y)), y, test_size=0.50, random_state=42)        \n",
    "\n",
    "    \n",
    "    keys = list(output_dict_list[0].keys())\n",
    "    results_dict_total = {}\n",
    "    for key in keys:\n",
    "        feature_vector_list = []\n",
    "        for i in np.arange(len(output_dict_list) ):\n",
    "            output_dict = output_dict_list[i]\n",
    "            key\n",
    "            if key.split(\" \")[0] == \"MACC\":\n",
    "                feature_vector_list.append(output_dict.get(key).reshape(-1,1)) \n",
    "            else: \n",
    "                feature_vector_list.append(output_dict.get(key)) \n",
    "\n",
    "        X = np.asarray(feature_vector_list)\n",
    "        if key.split(\" \")[0] == \"MACC\":\n",
    "            X = X.reshape(len(feature_vector_list), -1) \n",
    "        else: \n",
    "            X = X[:,np.newaxis]\n",
    "\n",
    "        print(\"X.shape\", X.shape)\n",
    "\n",
    "        X_train = X[X_train_idx,:]\n",
    "        X_test = X[X_test_idx,:]\n",
    "    \n",
    "        scale0 = 1\n",
    "        if key.split(\" \")[0] == \"MACC\":\n",
    "            scale0 = scale\n",
    "        clf = LogisticRegression(random_state=0).fit((X_train-np.mean(X_train, axis=0))/scale0, y_train)\n",
    "        y_pred = clf.predict((X_test-np.mean(X_test, axis=0))/scale0)\n",
    "        P_pred = clf.predict_proba((X_test-np.mean(X_test, axis=0))/scale0)\n",
    "\n",
    "        results_dict = compute_accuracy_metrics(y_test, P_pred[:,1], use_opt_threshold=False, verbose=False)\n",
    "\n",
    "        print(\"method = {}, AUC = {:f}\".format(key, results_dict.get(\"AUC\")))\n",
    "\n",
    "        results_dict_total.update({key: results_dict})\n",
    "    return results_dict_total\n",
    "    "
   ]
  },
  {
   "cell_type": "code",
   "execution_count": 6,
   "id": "92b74af3",
   "metadata": {},
   "outputs": [],
   "source": [
    "path = \"Output_files1/subgraph_classification_data30_0.npy\"\n",
    "results_0 = np.load(path, allow_pickle=True).item()"
   ]
  },
  {
   "cell_type": "code",
   "execution_count": 7,
   "id": "61e77c1a",
   "metadata": {},
   "outputs": [
    {
     "data": {
      "text/plain": [
       "dict_keys(['Caltech36-Simmons81', 'Caltech36-Reed98', 'Caltech36-NYU9', 'Caltech36-Virginia63', 'Caltech36-UCLA26', 'Caltech36-Wisconsin87', 'Simmons81-Reed98', 'Simmons81-NYU9', 'Simmons81-Virginia63', 'Simmons81-UCLA26', 'Simmons81-Wisconsin87', 'Reed98-NYU9', 'Reed98-Virginia63', 'Reed98-UCLA26', 'Reed98-Wisconsin87', 'NYU9-Virginia63', 'NYU9-UCLA26', 'NYU9-Wisconsin87', 'Virginia63-UCLA26', 'Virginia63-Wisconsin87', 'UCLA26-Wisconsin87'])"
      ]
     },
     "execution_count": 7,
     "metadata": {},
     "output_type": "execute_result"
    }
   ],
   "source": [
    "results_0.keys()"
   ]
  },
  {
   "cell_type": "code",
   "execution_count": 8,
   "id": "1b6eb7db",
   "metadata": {},
   "outputs": [
    {
     "data": {
      "text/plain": [
       "21"
      ]
     },
     "execution_count": 8,
     "metadata": {},
     "output_type": "execute_result"
    }
   ],
   "source": [
    "pairs_list = list(results_0.keys())\n",
    "len(pairs_list)"
   ]
  },
  {
   "cell_type": "code",
   "execution_count": 9,
   "id": "69052490",
   "metadata": {},
   "outputs": [
    {
     "data": {
      "text/plain": [
       "['edeg density',\n",
       " 'min degree',\n",
       " 'max degree',\n",
       " 'diameter',\n",
       " 'degree assortativity coef',\n",
       " 'num cliques',\n",
       " 'Avg clustering coeff',\n",
       " 'MACC k0=5',\n",
       " 'MACC k0=10',\n",
       " 'MACC k0=15',\n",
       " 'MACC k0=20']"
      ]
     },
     "execution_count": 9,
     "metadata": {},
     "output_type": "execute_result"
    }
   ],
   "source": [
    "method_list_new = [\" \".join(method.split(\"_\")) for method in method_list]\n",
    "method_list_new"
   ]
  },
  {
   "cell_type": "code",
   "execution_count": 11,
   "id": "a3c41357",
   "metadata": {},
   "outputs": [
    {
     "name": "stderr",
     "output_type": "stream",
     "text": [
      "100%|███████████████████████████████████████████| 10/10 [00:43<00:00,  4.35s/it]\n"
     ]
    }
   ],
   "source": [
    "import pandas as pd\n",
    "\n",
    "method_list = ['edge_density', 'min_degree', 'max_degree', 'diameter', 'degree_assortativity_coef', 'num_cliques', 'Avg_clustering_coeff',  'MACC k0=5', 'MACC k0=10', 'MACC k0=20', 'MACC k0=30']\n",
    "pairs_list = list(results_0.keys())\n",
    "method_list_new = [\" \".join(method.split(\"_\")) for method in method_list]\n",
    "\n",
    "method_0 = []\n",
    "full_result_list = []\n",
    "\n",
    "for i in trange(10):\n",
    "    path = \"Output_files1/subgraph_classification_data30_\"+str(i)+\".npy\"\n",
    "    results_0 = np.load(path, allow_pickle=True).item()\n",
    "\n",
    "    AUC_list_total = []\n",
    "    for method in method_list:\n",
    "        AUC_list = []\n",
    "        for idx in range(len(pairs_list)):\n",
    "            #print(\"method={}, pair={}\".format(method,pairs_list[idx] ))\n",
    "\n",
    "            pair = pairs_list[idx]\n",
    "            result1 = results_0.get(pair)\n",
    "            result11 = result1.get(\"k=30\")\n",
    "            #print(result11)\n",
    "            #print(\"result11.get(method)\", result11.get(method).keys())\n",
    "            #print(\"method={}, pair={}\".format(method, pair))\n",
    "            AUC = result11.get(method).get(\"AUC\")\n",
    "            AUC_list.append(np.round(AUC, 3))\n",
    "\n",
    "            \n",
    "        AUC_list_total.append(AUC_list)\n",
    "        \n",
    "    full_result_list.append(AUC_list_total)\n",
    "    #full_result_list.append([AUC_list_total, std_list_total])\n",
    "\n",
    "\n",
    "A = np.asarray(full_result_list)"
   ]
  },
  {
   "cell_type": "code",
   "execution_count": 12,
   "id": "bf9de215",
   "metadata": {},
   "outputs": [],
   "source": [
    "A = np.asarray(full_result_list)\n",
    "\n",
    "AUC_array = np.round(np.mean(A, axis=0),3).T\n",
    "std_array = np.round(np.std(A, axis=0),3).T\n",
    "     \n",
    "pd.set_option('display.max_rows', None)\n",
    "pd.set_option('display.width', 10)\n",
    "# save mean \n",
    "result = pd.DataFrame(data=AUC_array)\n",
    "result = result.set_axis(method_list_new, axis=1, inplace=False)\n",
    "#result.insert(0, column='xi', value= xi_0)\n",
    "#result.insert(0, column='Method', value= method_0)\n",
    "#result = round(result.groupby(['Method', 'xi'], sort=False).agg(['mean','std']),3)\n",
    "result[\"Networks\"] = pairs_list\n",
    "result = result.set_index(\"Networks\")\n",
    "result\n",
    "result.to_csv('Figures/table.csv', index=True)\n",
    "\n",
    "# save std\n",
    "result_std = pd.DataFrame(data=std_array)\n",
    "result_std = result_std.set_axis(method_list_new, axis=1, inplace=False)\n",
    "#result.insert(0, column='xi', value= xi_0)\n",
    "#result.insert(0, column='Method', value= method_0)\n",
    "#result = round(result.groupby(['Method', 'xi'], sort=False).agg(['mean','std']),3)\n",
    "result_std[\"Networks\"] = pairs_list\n",
    "result_std = result_std.set_index(\"Networks\")\n",
    "result_std.to_csv('Figures/table_std.csv', index=True)"
   ]
  },
  {
   "cell_type": "code",
   "execution_count": 13,
   "id": "863101c9",
   "metadata": {},
   "outputs": [
    {
     "data": {
      "text/html": [
       "<div>\n",
       "<style scoped>\n",
       "    .dataframe tbody tr th:only-of-type {\n",
       "        vertical-align: middle;\n",
       "    }\n",
       "\n",
       "    .dataframe tbody tr th {\n",
       "        vertical-align: top;\n",
       "    }\n",
       "\n",
       "    .dataframe thead th {\n",
       "        text-align: right;\n",
       "    }\n",
       "</style>\n",
       "<table border=\"1\" class=\"dataframe\">\n",
       "  <thead>\n",
       "    <tr style=\"text-align: right;\">\n",
       "      <th></th>\n",
       "      <th>edge density</th>\n",
       "      <th>min degree</th>\n",
       "      <th>max degree</th>\n",
       "      <th>diameter</th>\n",
       "      <th>degree assortativity coef</th>\n",
       "      <th>num cliques</th>\n",
       "      <th>Avg clustering coeff</th>\n",
       "      <th>MACC k0=5</th>\n",
       "      <th>MACC k0=10</th>\n",
       "      <th>MACC k0=20</th>\n",
       "      <th>MACC k0=30</th>\n",
       "    </tr>\n",
       "    <tr>\n",
       "      <th>Networks</th>\n",
       "      <th></th>\n",
       "      <th></th>\n",
       "      <th></th>\n",
       "      <th></th>\n",
       "      <th></th>\n",
       "      <th></th>\n",
       "      <th></th>\n",
       "      <th></th>\n",
       "      <th></th>\n",
       "      <th></th>\n",
       "      <th></th>\n",
       "    </tr>\n",
       "  </thead>\n",
       "  <tbody>\n",
       "    <tr>\n",
       "      <th>Caltech36-Simmons81</th>\n",
       "      <td>0.853</td>\n",
       "      <td>0.635</td>\n",
       "      <td>0.758</td>\n",
       "      <td>0.846</td>\n",
       "      <td>0.640</td>\n",
       "      <td>0.729</td>\n",
       "      <td>0.751</td>\n",
       "      <td>0.897</td>\n",
       "      <td>0.932</td>\n",
       "      <td>0.936</td>\n",
       "      <td>0.936</td>\n",
       "    </tr>\n",
       "    <tr>\n",
       "      <th>Caltech36-Reed98</th>\n",
       "      <td>0.876</td>\n",
       "      <td>0.615</td>\n",
       "      <td>0.792</td>\n",
       "      <td>0.835</td>\n",
       "      <td>0.601</td>\n",
       "      <td>0.749</td>\n",
       "      <td>0.784</td>\n",
       "      <td>0.910</td>\n",
       "      <td>0.935</td>\n",
       "      <td>0.936</td>\n",
       "      <td>0.933</td>\n",
       "    </tr>\n",
       "    <tr>\n",
       "      <th>Caltech36-NYU9</th>\n",
       "      <td>0.867</td>\n",
       "      <td>0.592</td>\n",
       "      <td>0.778</td>\n",
       "      <td>0.793</td>\n",
       "      <td>0.620</td>\n",
       "      <td>0.747</td>\n",
       "      <td>0.783</td>\n",
       "      <td>0.896</td>\n",
       "      <td>0.919</td>\n",
       "      <td>0.921</td>\n",
       "      <td>0.921</td>\n",
       "    </tr>\n",
       "    <tr>\n",
       "      <th>Caltech36-Virginia63</th>\n",
       "      <td>0.876</td>\n",
       "      <td>0.603</td>\n",
       "      <td>0.793</td>\n",
       "      <td>0.819</td>\n",
       "      <td>0.650</td>\n",
       "      <td>0.764</td>\n",
       "      <td>0.782</td>\n",
       "      <td>0.890</td>\n",
       "      <td>0.921</td>\n",
       "      <td>0.926</td>\n",
       "      <td>0.918</td>\n",
       "    </tr>\n",
       "    <tr>\n",
       "      <th>Caltech36-UCLA26</th>\n",
       "      <td>0.900</td>\n",
       "      <td>0.564</td>\n",
       "      <td>0.822</td>\n",
       "      <td>0.852</td>\n",
       "      <td>0.652</td>\n",
       "      <td>0.762</td>\n",
       "      <td>0.788</td>\n",
       "      <td>0.919</td>\n",
       "      <td>0.933</td>\n",
       "      <td>0.935</td>\n",
       "      <td>0.935</td>\n",
       "    </tr>\n",
       "    <tr>\n",
       "      <th>Caltech36-Wisconsin87</th>\n",
       "      <td>0.858</td>\n",
       "      <td>0.602</td>\n",
       "      <td>0.762</td>\n",
       "      <td>0.822</td>\n",
       "      <td>0.622</td>\n",
       "      <td>0.735</td>\n",
       "      <td>0.772</td>\n",
       "      <td>0.879</td>\n",
       "      <td>0.921</td>\n",
       "      <td>0.920</td>\n",
       "      <td>0.923</td>\n",
       "    </tr>\n",
       "    <tr>\n",
       "      <th>Simmons81-Reed98</th>\n",
       "      <td>0.836</td>\n",
       "      <td>0.597</td>\n",
       "      <td>0.761</td>\n",
       "      <td>0.796</td>\n",
       "      <td>0.594</td>\n",
       "      <td>0.734</td>\n",
       "      <td>0.756</td>\n",
       "      <td>0.874</td>\n",
       "      <td>0.918</td>\n",
       "      <td>0.920</td>\n",
       "      <td>0.916</td>\n",
       "    </tr>\n",
       "    <tr>\n",
       "      <th>Simmons81-NYU9</th>\n",
       "      <td>0.857</td>\n",
       "      <td>0.588</td>\n",
       "      <td>0.759</td>\n",
       "      <td>0.837</td>\n",
       "      <td>0.634</td>\n",
       "      <td>0.739</td>\n",
       "      <td>0.758</td>\n",
       "      <td>0.901</td>\n",
       "      <td>0.929</td>\n",
       "      <td>0.936</td>\n",
       "      <td>0.932</td>\n",
       "    </tr>\n",
       "    <tr>\n",
       "      <th>Simmons81-Virginia63</th>\n",
       "      <td>0.869</td>\n",
       "      <td>0.611</td>\n",
       "      <td>0.784</td>\n",
       "      <td>0.832</td>\n",
       "      <td>0.628</td>\n",
       "      <td>0.757</td>\n",
       "      <td>0.783</td>\n",
       "      <td>0.902</td>\n",
       "      <td>0.925</td>\n",
       "      <td>0.929</td>\n",
       "      <td>0.929</td>\n",
       "    </tr>\n",
       "    <tr>\n",
       "      <th>Simmons81-UCLA26</th>\n",
       "      <td>0.830</td>\n",
       "      <td>0.606</td>\n",
       "      <td>0.741</td>\n",
       "      <td>0.820</td>\n",
       "      <td>0.592</td>\n",
       "      <td>0.716</td>\n",
       "      <td>0.733</td>\n",
       "      <td>0.889</td>\n",
       "      <td>0.932</td>\n",
       "      <td>0.940</td>\n",
       "      <td>0.938</td>\n",
       "    </tr>\n",
       "    <tr>\n",
       "      <th>Simmons81-Wisconsin87</th>\n",
       "      <td>0.851</td>\n",
       "      <td>0.589</td>\n",
       "      <td>0.741</td>\n",
       "      <td>0.824</td>\n",
       "      <td>0.639</td>\n",
       "      <td>0.703</td>\n",
       "      <td>0.728</td>\n",
       "      <td>0.884</td>\n",
       "      <td>0.916</td>\n",
       "      <td>0.927</td>\n",
       "      <td>0.924</td>\n",
       "    </tr>\n",
       "    <tr>\n",
       "      <th>Reed98-NYU9</th>\n",
       "      <td>0.858</td>\n",
       "      <td>0.603</td>\n",
       "      <td>0.768</td>\n",
       "      <td>0.819</td>\n",
       "      <td>0.649</td>\n",
       "      <td>0.724</td>\n",
       "      <td>0.784</td>\n",
       "      <td>0.903</td>\n",
       "      <td>0.936</td>\n",
       "      <td>0.942</td>\n",
       "      <td>0.942</td>\n",
       "    </tr>\n",
       "    <tr>\n",
       "      <th>Reed98-Virginia63</th>\n",
       "      <td>0.847</td>\n",
       "      <td>0.621</td>\n",
       "      <td>0.752</td>\n",
       "      <td>0.812</td>\n",
       "      <td>0.644</td>\n",
       "      <td>0.720</td>\n",
       "      <td>0.771</td>\n",
       "      <td>0.902</td>\n",
       "      <td>0.933</td>\n",
       "      <td>0.933</td>\n",
       "      <td>0.937</td>\n",
       "    </tr>\n",
       "    <tr>\n",
       "      <th>Reed98-UCLA26</th>\n",
       "      <td>0.865</td>\n",
       "      <td>0.604</td>\n",
       "      <td>0.776</td>\n",
       "      <td>0.837</td>\n",
       "      <td>0.626</td>\n",
       "      <td>0.737</td>\n",
       "      <td>0.762</td>\n",
       "      <td>0.901</td>\n",
       "      <td>0.919</td>\n",
       "      <td>0.922</td>\n",
       "      <td>0.922</td>\n",
       "    </tr>\n",
       "    <tr>\n",
       "      <th>Reed98-Wisconsin87</th>\n",
       "      <td>0.851</td>\n",
       "      <td>0.573</td>\n",
       "      <td>0.755</td>\n",
       "      <td>0.807</td>\n",
       "      <td>0.616</td>\n",
       "      <td>0.725</td>\n",
       "      <td>0.742</td>\n",
       "      <td>0.890</td>\n",
       "      <td>0.918</td>\n",
       "      <td>0.921</td>\n",
       "      <td>0.923</td>\n",
       "    </tr>\n",
       "    <tr>\n",
       "      <th>NYU9-Virginia63</th>\n",
       "      <td>0.854</td>\n",
       "      <td>0.618</td>\n",
       "      <td>0.753</td>\n",
       "      <td>0.816</td>\n",
       "      <td>0.603</td>\n",
       "      <td>0.718</td>\n",
       "      <td>0.761</td>\n",
       "      <td>0.900</td>\n",
       "      <td>0.929</td>\n",
       "      <td>0.931</td>\n",
       "      <td>0.931</td>\n",
       "    </tr>\n",
       "    <tr>\n",
       "      <th>NYU9-UCLA26</th>\n",
       "      <td>0.859</td>\n",
       "      <td>0.579</td>\n",
       "      <td>0.752</td>\n",
       "      <td>0.812</td>\n",
       "      <td>0.643</td>\n",
       "      <td>0.730</td>\n",
       "      <td>0.757</td>\n",
       "      <td>0.893</td>\n",
       "      <td>0.920</td>\n",
       "      <td>0.924</td>\n",
       "      <td>0.925</td>\n",
       "    </tr>\n",
       "    <tr>\n",
       "      <th>NYU9-Wisconsin87</th>\n",
       "      <td>0.851</td>\n",
       "      <td>0.601</td>\n",
       "      <td>0.761</td>\n",
       "      <td>0.820</td>\n",
       "      <td>0.639</td>\n",
       "      <td>0.717</td>\n",
       "      <td>0.765</td>\n",
       "      <td>0.904</td>\n",
       "      <td>0.934</td>\n",
       "      <td>0.934</td>\n",
       "      <td>0.930</td>\n",
       "    </tr>\n",
       "    <tr>\n",
       "      <th>Virginia63-UCLA26</th>\n",
       "      <td>0.871</td>\n",
       "      <td>0.609</td>\n",
       "      <td>0.784</td>\n",
       "      <td>0.830</td>\n",
       "      <td>0.629</td>\n",
       "      <td>0.746</td>\n",
       "      <td>0.776</td>\n",
       "      <td>0.907</td>\n",
       "      <td>0.925</td>\n",
       "      <td>0.924</td>\n",
       "      <td>0.932</td>\n",
       "    </tr>\n",
       "    <tr>\n",
       "      <th>Virginia63-Wisconsin87</th>\n",
       "      <td>0.868</td>\n",
       "      <td>0.625</td>\n",
       "      <td>0.779</td>\n",
       "      <td>0.815</td>\n",
       "      <td>0.605</td>\n",
       "      <td>0.768</td>\n",
       "      <td>0.767</td>\n",
       "      <td>0.904</td>\n",
       "      <td>0.931</td>\n",
       "      <td>0.935</td>\n",
       "      <td>0.939</td>\n",
       "    </tr>\n",
       "    <tr>\n",
       "      <th>UCLA26-Wisconsin87</th>\n",
       "      <td>0.860</td>\n",
       "      <td>0.617</td>\n",
       "      <td>0.780</td>\n",
       "      <td>0.824</td>\n",
       "      <td>0.598</td>\n",
       "      <td>0.729</td>\n",
       "      <td>0.746</td>\n",
       "      <td>0.892</td>\n",
       "      <td>0.937</td>\n",
       "      <td>0.934</td>\n",
       "      <td>0.936</td>\n",
       "    </tr>\n",
       "  </tbody>\n",
       "</table>\n",
       "</div>"
      ],
      "text/plain": [
       "                        edge density  \\\n",
       "Networks                               \n",
       "Caltech36-Simmons81            0.853   \n",
       "Caltech36-Reed98               0.876   \n",
       "Caltech36-NYU9                 0.867   \n",
       "Caltech36-Virginia63           0.876   \n",
       "Caltech36-UCLA26               0.900   \n",
       "Caltech36-Wisconsin87          0.858   \n",
       "Simmons81-Reed98               0.836   \n",
       "Simmons81-NYU9                 0.857   \n",
       "Simmons81-Virginia63           0.869   \n",
       "Simmons81-UCLA26               0.830   \n",
       "Simmons81-Wisconsin87          0.851   \n",
       "Reed98-NYU9                    0.858   \n",
       "Reed98-Virginia63              0.847   \n",
       "Reed98-UCLA26                  0.865   \n",
       "Reed98-Wisconsin87             0.851   \n",
       "NYU9-Virginia63                0.854   \n",
       "NYU9-UCLA26                    0.859   \n",
       "NYU9-Wisconsin87               0.851   \n",
       "Virginia63-UCLA26              0.871   \n",
       "Virginia63-Wisconsin87         0.868   \n",
       "UCLA26-Wisconsin87             0.860   \n",
       "\n",
       "                        min degree  \\\n",
       "Networks                             \n",
       "Caltech36-Simmons81          0.635   \n",
       "Caltech36-Reed98             0.615   \n",
       "Caltech36-NYU9               0.592   \n",
       "Caltech36-Virginia63         0.603   \n",
       "Caltech36-UCLA26             0.564   \n",
       "Caltech36-Wisconsin87        0.602   \n",
       "Simmons81-Reed98             0.597   \n",
       "Simmons81-NYU9               0.588   \n",
       "Simmons81-Virginia63         0.611   \n",
       "Simmons81-UCLA26             0.606   \n",
       "Simmons81-Wisconsin87        0.589   \n",
       "Reed98-NYU9                  0.603   \n",
       "Reed98-Virginia63            0.621   \n",
       "Reed98-UCLA26                0.604   \n",
       "Reed98-Wisconsin87           0.573   \n",
       "NYU9-Virginia63              0.618   \n",
       "NYU9-UCLA26                  0.579   \n",
       "NYU9-Wisconsin87             0.601   \n",
       "Virginia63-UCLA26            0.609   \n",
       "Virginia63-Wisconsin87       0.625   \n",
       "UCLA26-Wisconsin87           0.617   \n",
       "\n",
       "                        max degree  \\\n",
       "Networks                             \n",
       "Caltech36-Simmons81          0.758   \n",
       "Caltech36-Reed98             0.792   \n",
       "Caltech36-NYU9               0.778   \n",
       "Caltech36-Virginia63         0.793   \n",
       "Caltech36-UCLA26             0.822   \n",
       "Caltech36-Wisconsin87        0.762   \n",
       "Simmons81-Reed98             0.761   \n",
       "Simmons81-NYU9               0.759   \n",
       "Simmons81-Virginia63         0.784   \n",
       "Simmons81-UCLA26             0.741   \n",
       "Simmons81-Wisconsin87        0.741   \n",
       "Reed98-NYU9                  0.768   \n",
       "Reed98-Virginia63            0.752   \n",
       "Reed98-UCLA26                0.776   \n",
       "Reed98-Wisconsin87           0.755   \n",
       "NYU9-Virginia63              0.753   \n",
       "NYU9-UCLA26                  0.752   \n",
       "NYU9-Wisconsin87             0.761   \n",
       "Virginia63-UCLA26            0.784   \n",
       "Virginia63-Wisconsin87       0.779   \n",
       "UCLA26-Wisconsin87           0.780   \n",
       "\n",
       "                        diameter  \\\n",
       "Networks                           \n",
       "Caltech36-Simmons81        0.846   \n",
       "Caltech36-Reed98           0.835   \n",
       "Caltech36-NYU9             0.793   \n",
       "Caltech36-Virginia63       0.819   \n",
       "Caltech36-UCLA26           0.852   \n",
       "Caltech36-Wisconsin87      0.822   \n",
       "Simmons81-Reed98           0.796   \n",
       "Simmons81-NYU9             0.837   \n",
       "Simmons81-Virginia63       0.832   \n",
       "Simmons81-UCLA26           0.820   \n",
       "Simmons81-Wisconsin87      0.824   \n",
       "Reed98-NYU9                0.819   \n",
       "Reed98-Virginia63          0.812   \n",
       "Reed98-UCLA26              0.837   \n",
       "Reed98-Wisconsin87         0.807   \n",
       "NYU9-Virginia63            0.816   \n",
       "NYU9-UCLA26                0.812   \n",
       "NYU9-Wisconsin87           0.820   \n",
       "Virginia63-UCLA26          0.830   \n",
       "Virginia63-Wisconsin87     0.815   \n",
       "UCLA26-Wisconsin87         0.824   \n",
       "\n",
       "                        degree assortativity coef  \\\n",
       "Networks                                            \n",
       "Caltech36-Simmons81                         0.640   \n",
       "Caltech36-Reed98                            0.601   \n",
       "Caltech36-NYU9                              0.620   \n",
       "Caltech36-Virginia63                        0.650   \n",
       "Caltech36-UCLA26                            0.652   \n",
       "Caltech36-Wisconsin87                       0.622   \n",
       "Simmons81-Reed98                            0.594   \n",
       "Simmons81-NYU9                              0.634   \n",
       "Simmons81-Virginia63                        0.628   \n",
       "Simmons81-UCLA26                            0.592   \n",
       "Simmons81-Wisconsin87                       0.639   \n",
       "Reed98-NYU9                                 0.649   \n",
       "Reed98-Virginia63                           0.644   \n",
       "Reed98-UCLA26                               0.626   \n",
       "Reed98-Wisconsin87                          0.616   \n",
       "NYU9-Virginia63                             0.603   \n",
       "NYU9-UCLA26                                 0.643   \n",
       "NYU9-Wisconsin87                            0.639   \n",
       "Virginia63-UCLA26                           0.629   \n",
       "Virginia63-Wisconsin87                      0.605   \n",
       "UCLA26-Wisconsin87                          0.598   \n",
       "\n",
       "                        num cliques  \\\n",
       "Networks                              \n",
       "Caltech36-Simmons81           0.729   \n",
       "Caltech36-Reed98              0.749   \n",
       "Caltech36-NYU9                0.747   \n",
       "Caltech36-Virginia63          0.764   \n",
       "Caltech36-UCLA26              0.762   \n",
       "Caltech36-Wisconsin87         0.735   \n",
       "Simmons81-Reed98              0.734   \n",
       "Simmons81-NYU9                0.739   \n",
       "Simmons81-Virginia63          0.757   \n",
       "Simmons81-UCLA26              0.716   \n",
       "Simmons81-Wisconsin87         0.703   \n",
       "Reed98-NYU9                   0.724   \n",
       "Reed98-Virginia63             0.720   \n",
       "Reed98-UCLA26                 0.737   \n",
       "Reed98-Wisconsin87            0.725   \n",
       "NYU9-Virginia63               0.718   \n",
       "NYU9-UCLA26                   0.730   \n",
       "NYU9-Wisconsin87              0.717   \n",
       "Virginia63-UCLA26             0.746   \n",
       "Virginia63-Wisconsin87        0.768   \n",
       "UCLA26-Wisconsin87            0.729   \n",
       "\n",
       "                        Avg clustering coeff  \\\n",
       "Networks                                       \n",
       "Caltech36-Simmons81                    0.751   \n",
       "Caltech36-Reed98                       0.784   \n",
       "Caltech36-NYU9                         0.783   \n",
       "Caltech36-Virginia63                   0.782   \n",
       "Caltech36-UCLA26                       0.788   \n",
       "Caltech36-Wisconsin87                  0.772   \n",
       "Simmons81-Reed98                       0.756   \n",
       "Simmons81-NYU9                         0.758   \n",
       "Simmons81-Virginia63                   0.783   \n",
       "Simmons81-UCLA26                       0.733   \n",
       "Simmons81-Wisconsin87                  0.728   \n",
       "Reed98-NYU9                            0.784   \n",
       "Reed98-Virginia63                      0.771   \n",
       "Reed98-UCLA26                          0.762   \n",
       "Reed98-Wisconsin87                     0.742   \n",
       "NYU9-Virginia63                        0.761   \n",
       "NYU9-UCLA26                            0.757   \n",
       "NYU9-Wisconsin87                       0.765   \n",
       "Virginia63-UCLA26                      0.776   \n",
       "Virginia63-Wisconsin87                 0.767   \n",
       "UCLA26-Wisconsin87                     0.746   \n",
       "\n",
       "                        MACC k0=5  \\\n",
       "Networks                            \n",
       "Caltech36-Simmons81         0.897   \n",
       "Caltech36-Reed98            0.910   \n",
       "Caltech36-NYU9              0.896   \n",
       "Caltech36-Virginia63        0.890   \n",
       "Caltech36-UCLA26            0.919   \n",
       "Caltech36-Wisconsin87       0.879   \n",
       "Simmons81-Reed98            0.874   \n",
       "Simmons81-NYU9              0.901   \n",
       "Simmons81-Virginia63        0.902   \n",
       "Simmons81-UCLA26            0.889   \n",
       "Simmons81-Wisconsin87       0.884   \n",
       "Reed98-NYU9                 0.903   \n",
       "Reed98-Virginia63           0.902   \n",
       "Reed98-UCLA26               0.901   \n",
       "Reed98-Wisconsin87          0.890   \n",
       "NYU9-Virginia63             0.900   \n",
       "NYU9-UCLA26                 0.893   \n",
       "NYU9-Wisconsin87            0.904   \n",
       "Virginia63-UCLA26           0.907   \n",
       "Virginia63-Wisconsin87      0.904   \n",
       "UCLA26-Wisconsin87          0.892   \n",
       "\n",
       "                        MACC k0=10  \\\n",
       "Networks                             \n",
       "Caltech36-Simmons81          0.932   \n",
       "Caltech36-Reed98             0.935   \n",
       "Caltech36-NYU9               0.919   \n",
       "Caltech36-Virginia63         0.921   \n",
       "Caltech36-UCLA26             0.933   \n",
       "Caltech36-Wisconsin87        0.921   \n",
       "Simmons81-Reed98             0.918   \n",
       "Simmons81-NYU9               0.929   \n",
       "Simmons81-Virginia63         0.925   \n",
       "Simmons81-UCLA26             0.932   \n",
       "Simmons81-Wisconsin87        0.916   \n",
       "Reed98-NYU9                  0.936   \n",
       "Reed98-Virginia63            0.933   \n",
       "Reed98-UCLA26                0.919   \n",
       "Reed98-Wisconsin87           0.918   \n",
       "NYU9-Virginia63              0.929   \n",
       "NYU9-UCLA26                  0.920   \n",
       "NYU9-Wisconsin87             0.934   \n",
       "Virginia63-UCLA26            0.925   \n",
       "Virginia63-Wisconsin87       0.931   \n",
       "UCLA26-Wisconsin87           0.937   \n",
       "\n",
       "                        MACC k0=20  \\\n",
       "Networks                             \n",
       "Caltech36-Simmons81          0.936   \n",
       "Caltech36-Reed98             0.936   \n",
       "Caltech36-NYU9               0.921   \n",
       "Caltech36-Virginia63         0.926   \n",
       "Caltech36-UCLA26             0.935   \n",
       "Caltech36-Wisconsin87        0.920   \n",
       "Simmons81-Reed98             0.920   \n",
       "Simmons81-NYU9               0.936   \n",
       "Simmons81-Virginia63         0.929   \n",
       "Simmons81-UCLA26             0.940   \n",
       "Simmons81-Wisconsin87        0.927   \n",
       "Reed98-NYU9                  0.942   \n",
       "Reed98-Virginia63            0.933   \n",
       "Reed98-UCLA26                0.922   \n",
       "Reed98-Wisconsin87           0.921   \n",
       "NYU9-Virginia63              0.931   \n",
       "NYU9-UCLA26                  0.924   \n",
       "NYU9-Wisconsin87             0.934   \n",
       "Virginia63-UCLA26            0.924   \n",
       "Virginia63-Wisconsin87       0.935   \n",
       "UCLA26-Wisconsin87           0.934   \n",
       "\n",
       "                        MACC k0=30  \n",
       "Networks                            \n",
       "Caltech36-Simmons81          0.936  \n",
       "Caltech36-Reed98             0.933  \n",
       "Caltech36-NYU9               0.921  \n",
       "Caltech36-Virginia63         0.918  \n",
       "Caltech36-UCLA26             0.935  \n",
       "Caltech36-Wisconsin87        0.923  \n",
       "Simmons81-Reed98             0.916  \n",
       "Simmons81-NYU9               0.932  \n",
       "Simmons81-Virginia63         0.929  \n",
       "Simmons81-UCLA26             0.938  \n",
       "Simmons81-Wisconsin87        0.924  \n",
       "Reed98-NYU9                  0.942  \n",
       "Reed98-Virginia63            0.937  \n",
       "Reed98-UCLA26                0.922  \n",
       "Reed98-Wisconsin87           0.923  \n",
       "NYU9-Virginia63              0.931  \n",
       "NYU9-UCLA26                  0.925  \n",
       "NYU9-Wisconsin87             0.930  \n",
       "Virginia63-UCLA26            0.932  \n",
       "Virginia63-Wisconsin87       0.939  \n",
       "UCLA26-Wisconsin87           0.936  "
      ]
     },
     "execution_count": 13,
     "metadata": {},
     "output_type": "execute_result"
    }
   ],
   "source": [
    "result"
   ]
  },
  {
   "cell_type": "code",
   "execution_count": 92,
   "id": "d99700d2",
   "metadata": {},
   "outputs": [
    {
     "data": {
      "text/html": [
       "<div>\n",
       "<style scoped>\n",
       "    .dataframe tbody tr th:only-of-type {\n",
       "        vertical-align: middle;\n",
       "    }\n",
       "\n",
       "    .dataframe tbody tr th {\n",
       "        vertical-align: top;\n",
       "    }\n",
       "\n",
       "    .dataframe thead th {\n",
       "        text-align: right;\n",
       "    }\n",
       "</style>\n",
       "<table border=\"1\" class=\"dataframe\">\n",
       "  <thead>\n",
       "    <tr style=\"text-align: right;\">\n",
       "      <th></th>\n",
       "      <th>edeg density</th>\n",
       "      <th>min degree</th>\n",
       "      <th>max degree</th>\n",
       "      <th>diameter</th>\n",
       "      <th>degree assortativity coef</th>\n",
       "      <th>num cliques</th>\n",
       "      <th>Avg clustering coeff</th>\n",
       "      <th>MACC k0=5</th>\n",
       "      <th>MACC k0=10</th>\n",
       "      <th>MACC k0=15</th>\n",
       "      <th>MACC k0=20</th>\n",
       "    </tr>\n",
       "    <tr>\n",
       "      <th>Networks</th>\n",
       "      <th></th>\n",
       "      <th></th>\n",
       "      <th></th>\n",
       "      <th></th>\n",
       "      <th></th>\n",
       "      <th></th>\n",
       "      <th></th>\n",
       "      <th></th>\n",
       "      <th></th>\n",
       "      <th></th>\n",
       "      <th></th>\n",
       "    </tr>\n",
       "  </thead>\n",
       "  <tbody>\n",
       "    <tr>\n",
       "      <th>Caltech36-Simmons81</th>\n",
       "      <td>0.037</td>\n",
       "      <td>0.029</td>\n",
       "      <td>0.022</td>\n",
       "      <td>0.043</td>\n",
       "      <td>0.068</td>\n",
       "      <td>0.040</td>\n",
       "      <td>0.044</td>\n",
       "      <td>0.040</td>\n",
       "      <td>0.027</td>\n",
       "      <td>0.026</td>\n",
       "      <td>0.020</td>\n",
       "    </tr>\n",
       "    <tr>\n",
       "      <th>Caltech36-Reed98</th>\n",
       "      <td>0.035</td>\n",
       "      <td>0.054</td>\n",
       "      <td>0.040</td>\n",
       "      <td>0.055</td>\n",
       "      <td>0.033</td>\n",
       "      <td>0.027</td>\n",
       "      <td>0.042</td>\n",
       "      <td>0.038</td>\n",
       "      <td>0.023</td>\n",
       "      <td>0.021</td>\n",
       "      <td>0.025</td>\n",
       "    </tr>\n",
       "    <tr>\n",
       "      <th>Caltech36-NYU9</th>\n",
       "      <td>0.034</td>\n",
       "      <td>0.046</td>\n",
       "      <td>0.035</td>\n",
       "      <td>0.036</td>\n",
       "      <td>0.067</td>\n",
       "      <td>0.039</td>\n",
       "      <td>0.034</td>\n",
       "      <td>0.023</td>\n",
       "      <td>0.021</td>\n",
       "      <td>0.025</td>\n",
       "      <td>0.017</td>\n",
       "    </tr>\n",
       "    <tr>\n",
       "      <th>Caltech36-Virginia63</th>\n",
       "      <td>0.035</td>\n",
       "      <td>0.041</td>\n",
       "      <td>0.044</td>\n",
       "      <td>0.033</td>\n",
       "      <td>0.112</td>\n",
       "      <td>0.032</td>\n",
       "      <td>0.059</td>\n",
       "      <td>0.031</td>\n",
       "      <td>0.017</td>\n",
       "      <td>0.021</td>\n",
       "      <td>0.019</td>\n",
       "    </tr>\n",
       "    <tr>\n",
       "      <th>Caltech36-UCLA26</th>\n",
       "      <td>0.033</td>\n",
       "      <td>0.032</td>\n",
       "      <td>0.042</td>\n",
       "      <td>0.022</td>\n",
       "      <td>0.031</td>\n",
       "      <td>0.046</td>\n",
       "      <td>0.049</td>\n",
       "      <td>0.021</td>\n",
       "      <td>0.017</td>\n",
       "      <td>0.016</td>\n",
       "      <td>0.022</td>\n",
       "    </tr>\n",
       "    <tr>\n",
       "      <th>Caltech36-Wisconsin87</th>\n",
       "      <td>0.039</td>\n",
       "      <td>0.069</td>\n",
       "      <td>0.032</td>\n",
       "      <td>0.045</td>\n",
       "      <td>0.088</td>\n",
       "      <td>0.031</td>\n",
       "      <td>0.027</td>\n",
       "      <td>0.037</td>\n",
       "      <td>0.026</td>\n",
       "      <td>0.024</td>\n",
       "      <td>0.020</td>\n",
       "    </tr>\n",
       "    <tr>\n",
       "      <th>Simmons81-Reed98</th>\n",
       "      <td>0.035</td>\n",
       "      <td>0.042</td>\n",
       "      <td>0.049</td>\n",
       "      <td>0.031</td>\n",
       "      <td>0.045</td>\n",
       "      <td>0.029</td>\n",
       "      <td>0.027</td>\n",
       "      <td>0.022</td>\n",
       "      <td>0.022</td>\n",
       "      <td>0.023</td>\n",
       "      <td>0.019</td>\n",
       "    </tr>\n",
       "    <tr>\n",
       "      <th>Simmons81-NYU9</th>\n",
       "      <td>0.056</td>\n",
       "      <td>0.067</td>\n",
       "      <td>0.058</td>\n",
       "      <td>0.048</td>\n",
       "      <td>0.052</td>\n",
       "      <td>0.068</td>\n",
       "      <td>0.049</td>\n",
       "      <td>0.036</td>\n",
       "      <td>0.020</td>\n",
       "      <td>0.023</td>\n",
       "      <td>0.017</td>\n",
       "    </tr>\n",
       "    <tr>\n",
       "      <th>Simmons81-Virginia63</th>\n",
       "      <td>0.037</td>\n",
       "      <td>0.094</td>\n",
       "      <td>0.052</td>\n",
       "      <td>0.039</td>\n",
       "      <td>0.045</td>\n",
       "      <td>0.060</td>\n",
       "      <td>0.053</td>\n",
       "      <td>0.037</td>\n",
       "      <td>0.043</td>\n",
       "      <td>0.035</td>\n",
       "      <td>0.036</td>\n",
       "    </tr>\n",
       "    <tr>\n",
       "      <th>Simmons81-UCLA26</th>\n",
       "      <td>0.036</td>\n",
       "      <td>0.057</td>\n",
       "      <td>0.042</td>\n",
       "      <td>0.042</td>\n",
       "      <td>0.057</td>\n",
       "      <td>0.040</td>\n",
       "      <td>0.042</td>\n",
       "      <td>0.021</td>\n",
       "      <td>0.021</td>\n",
       "      <td>0.020</td>\n",
       "      <td>0.018</td>\n",
       "    </tr>\n",
       "    <tr>\n",
       "      <th>Simmons81-Wisconsin87</th>\n",
       "      <td>0.022</td>\n",
       "      <td>0.040</td>\n",
       "      <td>0.029</td>\n",
       "      <td>0.030</td>\n",
       "      <td>0.064</td>\n",
       "      <td>0.043</td>\n",
       "      <td>0.031</td>\n",
       "      <td>0.032</td>\n",
       "      <td>0.020</td>\n",
       "      <td>0.020</td>\n",
       "      <td>0.018</td>\n",
       "    </tr>\n",
       "    <tr>\n",
       "      <th>Reed98-NYU9</th>\n",
       "      <td>0.027</td>\n",
       "      <td>0.104</td>\n",
       "      <td>0.051</td>\n",
       "      <td>0.031</td>\n",
       "      <td>0.093</td>\n",
       "      <td>0.018</td>\n",
       "      <td>0.030</td>\n",
       "      <td>0.028</td>\n",
       "      <td>0.029</td>\n",
       "      <td>0.031</td>\n",
       "      <td>0.027</td>\n",
       "    </tr>\n",
       "    <tr>\n",
       "      <th>Reed98-Virginia63</th>\n",
       "      <td>0.037</td>\n",
       "      <td>0.042</td>\n",
       "      <td>0.043</td>\n",
       "      <td>0.034</td>\n",
       "      <td>0.064</td>\n",
       "      <td>0.043</td>\n",
       "      <td>0.047</td>\n",
       "      <td>0.028</td>\n",
       "      <td>0.023</td>\n",
       "      <td>0.022</td>\n",
       "      <td>0.020</td>\n",
       "    </tr>\n",
       "    <tr>\n",
       "      <th>Reed98-UCLA26</th>\n",
       "      <td>0.063</td>\n",
       "      <td>0.042</td>\n",
       "      <td>0.070</td>\n",
       "      <td>0.032</td>\n",
       "      <td>0.068</td>\n",
       "      <td>0.055</td>\n",
       "      <td>0.042</td>\n",
       "      <td>0.029</td>\n",
       "      <td>0.020</td>\n",
       "      <td>0.030</td>\n",
       "      <td>0.025</td>\n",
       "    </tr>\n",
       "    <tr>\n",
       "      <th>Reed98-Wisconsin87</th>\n",
       "      <td>0.042</td>\n",
       "      <td>0.041</td>\n",
       "      <td>0.062</td>\n",
       "      <td>0.031</td>\n",
       "      <td>0.065</td>\n",
       "      <td>0.055</td>\n",
       "      <td>0.046</td>\n",
       "      <td>0.025</td>\n",
       "      <td>0.013</td>\n",
       "      <td>0.012</td>\n",
       "      <td>0.013</td>\n",
       "    </tr>\n",
       "    <tr>\n",
       "      <th>NYU9-Virginia63</th>\n",
       "      <td>0.053</td>\n",
       "      <td>0.029</td>\n",
       "      <td>0.071</td>\n",
       "      <td>0.056</td>\n",
       "      <td>0.089</td>\n",
       "      <td>0.075</td>\n",
       "      <td>0.053</td>\n",
       "      <td>0.053</td>\n",
       "      <td>0.035</td>\n",
       "      <td>0.031</td>\n",
       "      <td>0.038</td>\n",
       "    </tr>\n",
       "    <tr>\n",
       "      <th>NYU9-UCLA26</th>\n",
       "      <td>0.019</td>\n",
       "      <td>0.060</td>\n",
       "      <td>0.026</td>\n",
       "      <td>0.037</td>\n",
       "      <td>0.106</td>\n",
       "      <td>0.024</td>\n",
       "      <td>0.040</td>\n",
       "      <td>0.034</td>\n",
       "      <td>0.029</td>\n",
       "      <td>0.020</td>\n",
       "      <td>0.026</td>\n",
       "    </tr>\n",
       "    <tr>\n",
       "      <th>NYU9-Wisconsin87</th>\n",
       "      <td>0.023</td>\n",
       "      <td>0.047</td>\n",
       "      <td>0.024</td>\n",
       "      <td>0.027</td>\n",
       "      <td>0.036</td>\n",
       "      <td>0.037</td>\n",
       "      <td>0.032</td>\n",
       "      <td>0.031</td>\n",
       "      <td>0.031</td>\n",
       "      <td>0.030</td>\n",
       "      <td>0.026</td>\n",
       "    </tr>\n",
       "    <tr>\n",
       "      <th>Virginia63-UCLA26</th>\n",
       "      <td>0.035</td>\n",
       "      <td>0.019</td>\n",
       "      <td>0.040</td>\n",
       "      <td>0.030</td>\n",
       "      <td>0.046</td>\n",
       "      <td>0.028</td>\n",
       "      <td>0.046</td>\n",
       "      <td>0.029</td>\n",
       "      <td>0.019</td>\n",
       "      <td>0.020</td>\n",
       "      <td>0.022</td>\n",
       "    </tr>\n",
       "    <tr>\n",
       "      <th>Virginia63-Wisconsin87</th>\n",
       "      <td>0.026</td>\n",
       "      <td>0.032</td>\n",
       "      <td>0.041</td>\n",
       "      <td>0.036</td>\n",
       "      <td>0.046</td>\n",
       "      <td>0.035</td>\n",
       "      <td>0.025</td>\n",
       "      <td>0.027</td>\n",
       "      <td>0.026</td>\n",
       "      <td>0.033</td>\n",
       "      <td>0.024</td>\n",
       "    </tr>\n",
       "    <tr>\n",
       "      <th>UCLA26-Wisconsin87</th>\n",
       "      <td>0.044</td>\n",
       "      <td>0.041</td>\n",
       "      <td>0.035</td>\n",
       "      <td>0.027</td>\n",
       "      <td>0.112</td>\n",
       "      <td>0.037</td>\n",
       "      <td>0.047</td>\n",
       "      <td>0.031</td>\n",
       "      <td>0.020</td>\n",
       "      <td>0.026</td>\n",
       "      <td>0.026</td>\n",
       "    </tr>\n",
       "  </tbody>\n",
       "</table>\n",
       "</div>"
      ],
      "text/plain": [
       "                        edeg density  \\\n",
       "Networks                               \n",
       "Caltech36-Simmons81            0.037   \n",
       "Caltech36-Reed98               0.035   \n",
       "Caltech36-NYU9                 0.034   \n",
       "Caltech36-Virginia63           0.035   \n",
       "Caltech36-UCLA26               0.033   \n",
       "Caltech36-Wisconsin87          0.039   \n",
       "Simmons81-Reed98               0.035   \n",
       "Simmons81-NYU9                 0.056   \n",
       "Simmons81-Virginia63           0.037   \n",
       "Simmons81-UCLA26               0.036   \n",
       "Simmons81-Wisconsin87          0.022   \n",
       "Reed98-NYU9                    0.027   \n",
       "Reed98-Virginia63              0.037   \n",
       "Reed98-UCLA26                  0.063   \n",
       "Reed98-Wisconsin87             0.042   \n",
       "NYU9-Virginia63                0.053   \n",
       "NYU9-UCLA26                    0.019   \n",
       "NYU9-Wisconsin87               0.023   \n",
       "Virginia63-UCLA26              0.035   \n",
       "Virginia63-Wisconsin87         0.026   \n",
       "UCLA26-Wisconsin87             0.044   \n",
       "\n",
       "                        min degree  \\\n",
       "Networks                             \n",
       "Caltech36-Simmons81          0.029   \n",
       "Caltech36-Reed98             0.054   \n",
       "Caltech36-NYU9               0.046   \n",
       "Caltech36-Virginia63         0.041   \n",
       "Caltech36-UCLA26             0.032   \n",
       "Caltech36-Wisconsin87        0.069   \n",
       "Simmons81-Reed98             0.042   \n",
       "Simmons81-NYU9               0.067   \n",
       "Simmons81-Virginia63         0.094   \n",
       "Simmons81-UCLA26             0.057   \n",
       "Simmons81-Wisconsin87        0.040   \n",
       "Reed98-NYU9                  0.104   \n",
       "Reed98-Virginia63            0.042   \n",
       "Reed98-UCLA26                0.042   \n",
       "Reed98-Wisconsin87           0.041   \n",
       "NYU9-Virginia63              0.029   \n",
       "NYU9-UCLA26                  0.060   \n",
       "NYU9-Wisconsin87             0.047   \n",
       "Virginia63-UCLA26            0.019   \n",
       "Virginia63-Wisconsin87       0.032   \n",
       "UCLA26-Wisconsin87           0.041   \n",
       "\n",
       "                        max degree  \\\n",
       "Networks                             \n",
       "Caltech36-Simmons81          0.022   \n",
       "Caltech36-Reed98             0.040   \n",
       "Caltech36-NYU9               0.035   \n",
       "Caltech36-Virginia63         0.044   \n",
       "Caltech36-UCLA26             0.042   \n",
       "Caltech36-Wisconsin87        0.032   \n",
       "Simmons81-Reed98             0.049   \n",
       "Simmons81-NYU9               0.058   \n",
       "Simmons81-Virginia63         0.052   \n",
       "Simmons81-UCLA26             0.042   \n",
       "Simmons81-Wisconsin87        0.029   \n",
       "Reed98-NYU9                  0.051   \n",
       "Reed98-Virginia63            0.043   \n",
       "Reed98-UCLA26                0.070   \n",
       "Reed98-Wisconsin87           0.062   \n",
       "NYU9-Virginia63              0.071   \n",
       "NYU9-UCLA26                  0.026   \n",
       "NYU9-Wisconsin87             0.024   \n",
       "Virginia63-UCLA26            0.040   \n",
       "Virginia63-Wisconsin87       0.041   \n",
       "UCLA26-Wisconsin87           0.035   \n",
       "\n",
       "                        diameter  \\\n",
       "Networks                           \n",
       "Caltech36-Simmons81        0.043   \n",
       "Caltech36-Reed98           0.055   \n",
       "Caltech36-NYU9             0.036   \n",
       "Caltech36-Virginia63       0.033   \n",
       "Caltech36-UCLA26           0.022   \n",
       "Caltech36-Wisconsin87      0.045   \n",
       "Simmons81-Reed98           0.031   \n",
       "Simmons81-NYU9             0.048   \n",
       "Simmons81-Virginia63       0.039   \n",
       "Simmons81-UCLA26           0.042   \n",
       "Simmons81-Wisconsin87      0.030   \n",
       "Reed98-NYU9                0.031   \n",
       "Reed98-Virginia63          0.034   \n",
       "Reed98-UCLA26              0.032   \n",
       "Reed98-Wisconsin87         0.031   \n",
       "NYU9-Virginia63            0.056   \n",
       "NYU9-UCLA26                0.037   \n",
       "NYU9-Wisconsin87           0.027   \n",
       "Virginia63-UCLA26          0.030   \n",
       "Virginia63-Wisconsin87     0.036   \n",
       "UCLA26-Wisconsin87         0.027   \n",
       "\n",
       "                        degree assortativity coef  \\\n",
       "Networks                                            \n",
       "Caltech36-Simmons81                         0.068   \n",
       "Caltech36-Reed98                            0.033   \n",
       "Caltech36-NYU9                              0.067   \n",
       "Caltech36-Virginia63                        0.112   \n",
       "Caltech36-UCLA26                            0.031   \n",
       "Caltech36-Wisconsin87                       0.088   \n",
       "Simmons81-Reed98                            0.045   \n",
       "Simmons81-NYU9                              0.052   \n",
       "Simmons81-Virginia63                        0.045   \n",
       "Simmons81-UCLA26                            0.057   \n",
       "Simmons81-Wisconsin87                       0.064   \n",
       "Reed98-NYU9                                 0.093   \n",
       "Reed98-Virginia63                           0.064   \n",
       "Reed98-UCLA26                               0.068   \n",
       "Reed98-Wisconsin87                          0.065   \n",
       "NYU9-Virginia63                             0.089   \n",
       "NYU9-UCLA26                                 0.106   \n",
       "NYU9-Wisconsin87                            0.036   \n",
       "Virginia63-UCLA26                           0.046   \n",
       "Virginia63-Wisconsin87                      0.046   \n",
       "UCLA26-Wisconsin87                          0.112   \n",
       "\n",
       "                        num cliques  \\\n",
       "Networks                              \n",
       "Caltech36-Simmons81           0.040   \n",
       "Caltech36-Reed98              0.027   \n",
       "Caltech36-NYU9                0.039   \n",
       "Caltech36-Virginia63          0.032   \n",
       "Caltech36-UCLA26              0.046   \n",
       "Caltech36-Wisconsin87         0.031   \n",
       "Simmons81-Reed98              0.029   \n",
       "Simmons81-NYU9                0.068   \n",
       "Simmons81-Virginia63          0.060   \n",
       "Simmons81-UCLA26              0.040   \n",
       "Simmons81-Wisconsin87         0.043   \n",
       "Reed98-NYU9                   0.018   \n",
       "Reed98-Virginia63             0.043   \n",
       "Reed98-UCLA26                 0.055   \n",
       "Reed98-Wisconsin87            0.055   \n",
       "NYU9-Virginia63               0.075   \n",
       "NYU9-UCLA26                   0.024   \n",
       "NYU9-Wisconsin87              0.037   \n",
       "Virginia63-UCLA26             0.028   \n",
       "Virginia63-Wisconsin87        0.035   \n",
       "UCLA26-Wisconsin87            0.037   \n",
       "\n",
       "                        Avg clustering coeff  \\\n",
       "Networks                                       \n",
       "Caltech36-Simmons81                    0.044   \n",
       "Caltech36-Reed98                       0.042   \n",
       "Caltech36-NYU9                         0.034   \n",
       "Caltech36-Virginia63                   0.059   \n",
       "Caltech36-UCLA26                       0.049   \n",
       "Caltech36-Wisconsin87                  0.027   \n",
       "Simmons81-Reed98                       0.027   \n",
       "Simmons81-NYU9                         0.049   \n",
       "Simmons81-Virginia63                   0.053   \n",
       "Simmons81-UCLA26                       0.042   \n",
       "Simmons81-Wisconsin87                  0.031   \n",
       "Reed98-NYU9                            0.030   \n",
       "Reed98-Virginia63                      0.047   \n",
       "Reed98-UCLA26                          0.042   \n",
       "Reed98-Wisconsin87                     0.046   \n",
       "NYU9-Virginia63                        0.053   \n",
       "NYU9-UCLA26                            0.040   \n",
       "NYU9-Wisconsin87                       0.032   \n",
       "Virginia63-UCLA26                      0.046   \n",
       "Virginia63-Wisconsin87                 0.025   \n",
       "UCLA26-Wisconsin87                     0.047   \n",
       "\n",
       "                        MACC k0=5  \\\n",
       "Networks                            \n",
       "Caltech36-Simmons81         0.040   \n",
       "Caltech36-Reed98            0.038   \n",
       "Caltech36-NYU9              0.023   \n",
       "Caltech36-Virginia63        0.031   \n",
       "Caltech36-UCLA26            0.021   \n",
       "Caltech36-Wisconsin87       0.037   \n",
       "Simmons81-Reed98            0.022   \n",
       "Simmons81-NYU9              0.036   \n",
       "Simmons81-Virginia63        0.037   \n",
       "Simmons81-UCLA26            0.021   \n",
       "Simmons81-Wisconsin87       0.032   \n",
       "Reed98-NYU9                 0.028   \n",
       "Reed98-Virginia63           0.028   \n",
       "Reed98-UCLA26               0.029   \n",
       "Reed98-Wisconsin87          0.025   \n",
       "NYU9-Virginia63             0.053   \n",
       "NYU9-UCLA26                 0.034   \n",
       "NYU9-Wisconsin87            0.031   \n",
       "Virginia63-UCLA26           0.029   \n",
       "Virginia63-Wisconsin87      0.027   \n",
       "UCLA26-Wisconsin87          0.031   \n",
       "\n",
       "                        MACC k0=10  \\\n",
       "Networks                             \n",
       "Caltech36-Simmons81          0.027   \n",
       "Caltech36-Reed98             0.023   \n",
       "Caltech36-NYU9               0.021   \n",
       "Caltech36-Virginia63         0.017   \n",
       "Caltech36-UCLA26             0.017   \n",
       "Caltech36-Wisconsin87        0.026   \n",
       "Simmons81-Reed98             0.022   \n",
       "Simmons81-NYU9               0.020   \n",
       "Simmons81-Virginia63         0.043   \n",
       "Simmons81-UCLA26             0.021   \n",
       "Simmons81-Wisconsin87        0.020   \n",
       "Reed98-NYU9                  0.029   \n",
       "Reed98-Virginia63            0.023   \n",
       "Reed98-UCLA26                0.020   \n",
       "Reed98-Wisconsin87           0.013   \n",
       "NYU9-Virginia63              0.035   \n",
       "NYU9-UCLA26                  0.029   \n",
       "NYU9-Wisconsin87             0.031   \n",
       "Virginia63-UCLA26            0.019   \n",
       "Virginia63-Wisconsin87       0.026   \n",
       "UCLA26-Wisconsin87           0.020   \n",
       "\n",
       "                        MACC k0=15  \\\n",
       "Networks                             \n",
       "Caltech36-Simmons81          0.026   \n",
       "Caltech36-Reed98             0.021   \n",
       "Caltech36-NYU9               0.025   \n",
       "Caltech36-Virginia63         0.021   \n",
       "Caltech36-UCLA26             0.016   \n",
       "Caltech36-Wisconsin87        0.024   \n",
       "Simmons81-Reed98             0.023   \n",
       "Simmons81-NYU9               0.023   \n",
       "Simmons81-Virginia63         0.035   \n",
       "Simmons81-UCLA26             0.020   \n",
       "Simmons81-Wisconsin87        0.020   \n",
       "Reed98-NYU9                  0.031   \n",
       "Reed98-Virginia63            0.022   \n",
       "Reed98-UCLA26                0.030   \n",
       "Reed98-Wisconsin87           0.012   \n",
       "NYU9-Virginia63              0.031   \n",
       "NYU9-UCLA26                  0.020   \n",
       "NYU9-Wisconsin87             0.030   \n",
       "Virginia63-UCLA26            0.020   \n",
       "Virginia63-Wisconsin87       0.033   \n",
       "UCLA26-Wisconsin87           0.026   \n",
       "\n",
       "                        MACC k0=20  \n",
       "Networks                            \n",
       "Caltech36-Simmons81          0.020  \n",
       "Caltech36-Reed98             0.025  \n",
       "Caltech36-NYU9               0.017  \n",
       "Caltech36-Virginia63         0.019  \n",
       "Caltech36-UCLA26             0.022  \n",
       "Caltech36-Wisconsin87        0.020  \n",
       "Simmons81-Reed98             0.019  \n",
       "Simmons81-NYU9               0.017  \n",
       "Simmons81-Virginia63         0.036  \n",
       "Simmons81-UCLA26             0.018  \n",
       "Simmons81-Wisconsin87        0.018  \n",
       "Reed98-NYU9                  0.027  \n",
       "Reed98-Virginia63            0.020  \n",
       "Reed98-UCLA26                0.025  \n",
       "Reed98-Wisconsin87           0.013  \n",
       "NYU9-Virginia63              0.038  \n",
       "NYU9-UCLA26                  0.026  \n",
       "NYU9-Wisconsin87             0.026  \n",
       "Virginia63-UCLA26            0.022  \n",
       "Virginia63-Wisconsin87       0.024  \n",
       "UCLA26-Wisconsin87           0.026  "
      ]
     },
     "execution_count": 92,
     "metadata": {},
     "output_type": "execute_result"
    }
   ],
   "source": [
    "result_std"
   ]
  },
  {
   "cell_type": "code",
   "execution_count": 12,
   "id": "271f1a57",
   "metadata": {},
   "outputs": [
    {
     "name": "stdout",
     "output_type": "stream",
     "text": [
      "num nodes in G 769\n",
      "num edges in G 33312\n",
      "num nodes in G 1518\n",
      "num edges in G 65976\n",
      "num nodes in G 962\n",
      "num edges in G 37624\n",
      "num nodes in G 21679\n",
      "num edges in G 1431430\n",
      "num nodes in G 21325\n",
      "num edges in G 1396356\n",
      "num nodes in G 20467\n",
      "num edges in G 1495226\n",
      "num nodes in G 23842\n",
      "num edges in G 1671904\n",
      "Classifying subgraphs in Caltech36-Simmons81 ...\n",
      "sampling subgraphs with k=30 nodes\n"
     ]
    },
    {
     "name": "stderr",
     "output_type": "stream",
     "text": [
      "100%|████████████████████████████████████████████████████████████████████| 100/100 [00:00<00:00, 765.16it/s]\n",
      "100%|████████████████████████████████████████████████████████████████████| 100/100 [00:00<00:00, 544.54it/s]\n",
      "100%|████████████████████████████████████████████████████████████████████| 100/100 [00:00<00:00, 763.66it/s]\n",
      "100%|████████████████████████████████████████████████████████████████████| 100/100 [00:00<00:00, 113.83it/s]\n",
      "100%|████████████████████████████████████████████████████████████████████| 100/100 [00:00<00:00, 119.08it/s]\n",
      "100%|████████████████████████████████████████████████████████████████████| 100/100 [00:00<00:00, 131.09it/s]\n",
      "100%|█████████████████████████████████████████████████████████████████████| 100/100 [00:01<00:00, 76.25it/s]\n"
     ]
    },
    {
     "name": "stdout",
     "output_type": "stream",
     "text": [
      "extracting subgraph features..\n"
     ]
    },
    {
     "name": "stderr",
     "output_type": "stream",
     "text": [
      "100%|█████████████████████████████████████████████████████████████████████| 700/700 [15:37<00:00,  1.34s/it]\n"
     ]
    },
    {
     "name": "stdout",
     "output_type": "stream",
     "text": [
      "X.shape (700, 1)\n",
      "method = num_nodes, AUC = 0.500000\n",
      "X.shape (700, 1)\n",
      "method = num_edges, AUC = 0.913766\n",
      "X.shape (700, 1)\n",
      "method = min_degree, AUC = 0.618247\n",
      "X.shape (700, 1)\n",
      "method = max_degree, AUC = 0.773709\n",
      "X.shape (700, 1)\n",
      "method = diameter, AUC = 0.862945\n",
      "X.shape (700, 1)\n",
      "method = degree_assortativity_coef, AUC = 0.638255\n",
      "X.shape (700, 1)\n",
      "method = num_cliques, AUC = 0.738295\n",
      "X.shape (700, 1)\n",
      "method = Avg_clustering_coeff, AUC = 0.762305\n",
      "X.shape (700, 1)\n",
      "method = edeg_density, AUC = 0.913766\n",
      "X.shape (700, 25)\n",
      "method = MACC k0=5, AUC = 0.931973\n",
      "X.shape (700, 100)\n",
      "method = MACC k0=10, AUC = 0.946779\n",
      "X.shape (700, 225)\n",
      "method = MACC k0=15, AUC = 0.965986\n",
      "X.shape (700, 400)\n",
      "method = MACC k0=20, AUC = 0.969188\n",
      "Classifying subgraphs in Caltech36-Reed98 ...\n",
      "sampling subgraphs with k=30 nodes\n"
     ]
    },
    {
     "name": "stderr",
     "output_type": "stream",
     "text": [
      "100%|████████████████████████████████████████████████████████████████████| 100/100 [00:00<00:00, 551.73it/s]\n",
      "100%|████████████████████████████████████████████████████████████████████| 100/100 [00:00<00:00, 700.07it/s]\n",
      "100%|████████████████████████████████████████████████████████████████████| 100/100 [00:00<00:00, 809.63it/s]\n",
      "100%|████████████████████████████████████████████████████████████████████| 100/100 [00:00<00:00, 101.47it/s]\n",
      "100%|████████████████████████████████████████████████████████████████████| 100/100 [00:00<00:00, 106.69it/s]\n",
      "100%|████████████████████████████████████████████████████████████████████| 100/100 [00:00<00:00, 129.33it/s]\n",
      "100%|████████████████████████████████████████████████████████████████████| 100/100 [00:00<00:00, 108.67it/s]\n"
     ]
    },
    {
     "name": "stdout",
     "output_type": "stream",
     "text": [
      "extracting subgraph features..\n"
     ]
    },
    {
     "name": "stderr",
     "output_type": "stream",
     "text": [
      "100%|█████████████████████████████████████████████████████████████████████| 700/700 [15:36<00:00,  1.34s/it]\n"
     ]
    },
    {
     "name": "stdout",
     "output_type": "stream",
     "text": [
      "X.shape (700, 1)\n",
      "method = num_nodes, AUC = 0.500000\n",
      "X.shape (700, 1)\n",
      "method = num_edges, AUC = 0.888555\n",
      "X.shape (700, 1)\n",
      "method = min_degree, AUC = 0.622849\n",
      "X.shape (700, 1)\n",
      "method = max_degree, AUC = 0.832533\n",
      "X.shape (700, 1)\n",
      "method = diameter, AUC = 0.848339\n",
      "X.shape (700, 1)\n",
      "method = degree_assortativity_coef, AUC = 0.670268\n",
      "X.shape (700, 1)\n",
      "method = num_cliques, AUC = 0.786315\n",
      "X.shape (700, 1)\n",
      "method = Avg_clustering_coeff, AUC = 0.809124\n",
      "X.shape (700, 1)\n",
      "method = edeg_density, AUC = 0.888555\n",
      "X.shape (700, 25)\n",
      "method = MACC k0=5, AUC = 0.901561\n",
      "X.shape (700, 100)\n",
      "method = MACC k0=10, AUC = 0.915566\n",
      "X.shape (700, 225)\n",
      "method = MACC k0=15, AUC = 0.912765\n",
      "X.shape (700, 400)\n",
      "method = MACC k0=20, AUC = 0.924370\n",
      "Classifying subgraphs in Caltech36-NYU9 ...\n",
      "sampling subgraphs with k=30 nodes\n"
     ]
    },
    {
     "name": "stderr",
     "output_type": "stream",
     "text": [
      "100%|████████████████████████████████████████████████████████████████████| 100/100 [00:00<00:00, 627.20it/s]\n",
      "100%|████████████████████████████████████████████████████████████████████| 100/100 [00:00<00:00, 621.04it/s]\n",
      "100%|████████████████████████████████████████████████████████████████████| 100/100 [00:00<00:00, 805.24it/s]\n",
      "100%|████████████████████████████████████████████████████████████████████| 100/100 [00:00<00:00, 107.36it/s]\n",
      "100%|████████████████████████████████████████████████████████████████████| 100/100 [00:00<00:00, 113.49it/s]\n",
      "100%|████████████████████████████████████████████████████████████████████| 100/100 [00:00<00:00, 128.77it/s]\n",
      "100%|████████████████████████████████████████████████████████████████████| 100/100 [00:00<00:00, 105.29it/s]\n"
     ]
    },
    {
     "name": "stdout",
     "output_type": "stream",
     "text": [
      "extracting subgraph features..\n"
     ]
    },
    {
     "name": "stderr",
     "output_type": "stream",
     "text": [
      "100%|█████████████████████████████████████████████████████████████████████| 700/700 [15:39<00:00,  1.34s/it]\n"
     ]
    },
    {
     "name": "stdout",
     "output_type": "stream",
     "text": [
      "X.shape (700, 1)\n",
      "method = num_nodes, AUC = 0.500000\n",
      "X.shape (700, 1)\n",
      "method = num_edges, AUC = 0.901961\n",
      "X.shape (700, 1)\n",
      "method = min_degree, AUC = 0.666066\n",
      "X.shape (700, 1)\n",
      "method = max_degree, AUC = 0.794718\n",
      "X.shape (700, 1)\n",
      "method = diameter, AUC = 0.830732\n",
      "X.shape (700, 1)\n",
      "method = degree_assortativity_coef, AUC = 0.408163\n",
      "X.shape (700, 1)\n",
      "method = num_cliques, AUC = 0.699480\n",
      "X.shape (700, 1)\n",
      "method = Avg_clustering_coeff, AUC = 0.774710\n",
      "X.shape (700, 1)\n",
      "method = edeg_density, AUC = 0.901961\n",
      "X.shape (700, 25)\n",
      "method = MACC k0=5, AUC = 0.922769\n",
      "X.shape (700, 100)\n",
      "method = MACC k0=10, AUC = 0.958784\n",
      "X.shape (700, 225)\n",
      "method = MACC k0=15, AUC = 0.950380\n",
      "X.shape (700, 400)\n",
      "method = MACC k0=20, AUC = 0.943577\n",
      "Classifying subgraphs in Caltech36-Virginia63 ...\n",
      "sampling subgraphs with k=30 nodes\n"
     ]
    },
    {
     "name": "stderr",
     "output_type": "stream",
     "text": [
      "100%|████████████████████████████████████████████████████████████████████| 100/100 [00:00<00:00, 670.45it/s]\n",
      "100%|████████████████████████████████████████████████████████████████████| 100/100 [00:00<00:00, 701.65it/s]\n",
      "100%|████████████████████████████████████████████████████████████████████| 100/100 [00:00<00:00, 786.97it/s]\n",
      "100%|████████████████████████████████████████████████████████████████████| 100/100 [00:00<00:00, 104.18it/s]\n",
      "100%|████████████████████████████████████████████████████████████████████| 100/100 [00:00<00:00, 107.27it/s]\n",
      "100%|████████████████████████████████████████████████████████████████████| 100/100 [00:00<00:00, 122.98it/s]\n",
      "100%|████████████████████████████████████████████████████████████████████| 100/100 [00:00<00:00, 106.19it/s]\n"
     ]
    },
    {
     "name": "stdout",
     "output_type": "stream",
     "text": [
      "extracting subgraph features..\n"
     ]
    },
    {
     "name": "stderr",
     "output_type": "stream",
     "text": [
      "100%|█████████████████████████████████████████████████████████████████████| 700/700 [15:34<00:00,  1.34s/it]\n"
     ]
    },
    {
     "name": "stdout",
     "output_type": "stream",
     "text": [
      "X.shape (700, 1)\n",
      "method = num_nodes, AUC = 0.500000\n",
      "X.shape (700, 1)\n",
      "method = num_edges, AUC = 0.821929\n",
      "X.shape (700, 1)\n",
      "method = min_degree, AUC = 0.550420\n",
      "X.shape (700, 1)\n",
      "method = max_degree, AUC = 0.703681\n",
      "X.shape (700, 1)\n",
      "method = diameter, AUC = 0.822329\n",
      "X.shape (700, 1)\n",
      "method = degree_assortativity_coef, AUC = 0.724290\n",
      "X.shape (700, 1)\n",
      "method = num_cliques, AUC = 0.715486\n",
      "X.shape (700, 1)\n",
      "method = Avg_clustering_coeff, AUC = 0.813125\n",
      "X.shape (700, 1)\n",
      "method = edeg_density, AUC = 0.821929\n",
      "X.shape (700, 25)\n",
      "method = MACC k0=5, AUC = 0.899560\n",
      "X.shape (700, 100)\n",
      "method = MACC k0=10, AUC = 0.923569\n",
      "X.shape (700, 225)\n",
      "method = MACC k0=15, AUC = 0.927971\n",
      "X.shape (700, 400)\n",
      "method = MACC k0=20, AUC = 0.947979\n",
      "Classifying subgraphs in Caltech36-UCLA26 ...\n",
      "sampling subgraphs with k=30 nodes\n"
     ]
    },
    {
     "name": "stderr",
     "output_type": "stream",
     "text": [
      "100%|████████████████████████████████████████████████████████████████████| 100/100 [00:00<00:00, 720.71it/s]\n",
      "100%|████████████████████████████████████████████████████████████████████| 100/100 [00:00<00:00, 669.38it/s]\n",
      "100%|████████████████████████████████████████████████████████████████████| 100/100 [00:00<00:00, 774.90it/s]\n",
      "100%|████████████████████████████████████████████████████████████████████| 100/100 [00:00<00:00, 102.07it/s]\n",
      "100%|████████████████████████████████████████████████████████████████████| 100/100 [00:00<00:00, 106.66it/s]\n",
      "100%|████████████████████████████████████████████████████████████████████| 100/100 [00:00<00:00, 122.05it/s]\n",
      "100%|████████████████████████████████████████████████████████████████████| 100/100 [00:00<00:00, 110.09it/s]\n"
     ]
    },
    {
     "name": "stdout",
     "output_type": "stream",
     "text": [
      "extracting subgraph features..\n"
     ]
    },
    {
     "name": "stderr",
     "output_type": "stream",
     "text": [
      "100%|█████████████████████████████████████████████████████████████████████| 700/700 [15:39<00:00,  1.34s/it]\n"
     ]
    },
    {
     "name": "stdout",
     "output_type": "stream",
     "text": [
      "X.shape (700, 1)\n",
      "method = num_nodes, AUC = 0.500000\n",
      "X.shape (700, 1)\n",
      "method = num_edges, AUC = 0.872749\n",
      "X.shape (700, 1)\n",
      "method = min_degree, AUC = 0.594238\n",
      "X.shape (700, 1)\n",
      "method = max_degree, AUC = 0.783313\n",
      "X.shape (700, 1)\n",
      "method = diameter, AUC = 0.847539\n",
      "X.shape (700, 1)\n",
      "method = degree_assortativity_coef, AUC = 0.630652\n",
      "X.shape (700, 1)\n",
      "method = num_cliques, AUC = 0.724290\n",
      "X.shape (700, 1)\n",
      "method = Avg_clustering_coeff, AUC = 0.769508\n",
      "X.shape (700, 1)\n",
      "method = edeg_density, AUC = 0.872749\n",
      "X.shape (700, 25)\n",
      "method = MACC k0=5, AUC = 0.887555\n",
      "X.shape (700, 100)\n",
      "method = MACC k0=10, AUC = 0.943177\n",
      "X.shape (700, 225)\n",
      "method = MACC k0=15, AUC = 0.945578\n",
      "X.shape (700, 400)\n",
      "method = MACC k0=20, AUC = 0.958383\n",
      "Classifying subgraphs in Caltech36-Wisconsin87 ...\n",
      "sampling subgraphs with k=30 nodes\n"
     ]
    },
    {
     "name": "stderr",
     "output_type": "stream",
     "text": [
      "100%|████████████████████████████████████████████████████████████████████| 100/100 [00:00<00:00, 709.67it/s]\n",
      "100%|████████████████████████████████████████████████████████████████████| 100/100 [00:00<00:00, 663.91it/s]\n",
      "100%|████████████████████████████████████████████████████████████████████| 100/100 [00:00<00:00, 806.38it/s]\n",
      "100%|████████████████████████████████████████████████████████████████████| 100/100 [00:00<00:00, 106.62it/s]\n",
      "100%|████████████████████████████████████████████████████████████████████| 100/100 [00:00<00:00, 111.50it/s]\n",
      "100%|████████████████████████████████████████████████████████████████████| 100/100 [00:00<00:00, 120.78it/s]\n",
      "100%|█████████████████████████████████████████████████████████████████████| 100/100 [00:01<00:00, 96.45it/s]\n"
     ]
    },
    {
     "name": "stdout",
     "output_type": "stream",
     "text": [
      "extracting subgraph features..\n"
     ]
    },
    {
     "name": "stderr",
     "output_type": "stream",
     "text": [
      "100%|█████████████████████████████████████████████████████████████████████| 700/700 [15:38<00:00,  1.34s/it]\n"
     ]
    },
    {
     "name": "stdout",
     "output_type": "stream",
     "text": [
      "X.shape (700, 1)\n",
      "method = num_nodes, AUC = 0.500000\n",
      "X.shape (700, 1)\n",
      "method = num_edges, AUC = 0.748699\n",
      "X.shape (700, 1)\n",
      "method = min_degree, AUC = 0.713085\n",
      "X.shape (700, 1)\n",
      "method = max_degree, AUC = 0.687475\n",
      "X.shape (700, 1)\n",
      "method = diameter, AUC = 0.784114\n",
      "X.shape (700, 1)\n",
      "method = degree_assortativity_coef, AUC = 0.527011\n",
      "X.shape (700, 1)\n",
      "method = num_cliques, AUC = 0.663065\n",
      "X.shape (700, 1)\n",
      "method = Avg_clustering_coeff, AUC = 0.696679\n",
      "X.shape (700, 1)\n",
      "method = edeg_density, AUC = 0.748699\n",
      "X.shape (700, 25)\n",
      "method = MACC k0=5, AUC = 0.793517\n",
      "X.shape (700, 100)\n",
      "method = MACC k0=10, AUC = 0.872749\n",
      "X.shape (700, 225)\n",
      "method = MACC k0=15, AUC = 0.896359\n",
      "X.shape (700, 400)\n",
      "method = MACC k0=20, AUC = 0.921168\n",
      "Classifying subgraphs in Simmons81-Reed98 ...\n",
      "sampling subgraphs with k=30 nodes\n"
     ]
    },
    {
     "name": "stderr",
     "output_type": "stream",
     "text": [
      "100%|████████████████████████████████████████████████████████████████████| 100/100 [00:00<00:00, 738.41it/s]\n",
      "100%|████████████████████████████████████████████████████████████████████| 100/100 [00:00<00:00, 688.80it/s]\n",
      "100%|████████████████████████████████████████████████████████████████████| 100/100 [00:00<00:00, 818.28it/s]\n",
      "100%|████████████████████████████████████████████████████████████████████| 100/100 [00:00<00:00, 103.25it/s]\n",
      "100%|████████████████████████████████████████████████████████████████████| 100/100 [00:00<00:00, 107.89it/s]\n",
      "100%|████████████████████████████████████████████████████████████████████| 100/100 [00:00<00:00, 132.32it/s]\n",
      "100%|████████████████████████████████████████████████████████████████████| 100/100 [00:00<00:00, 107.17it/s]\n"
     ]
    },
    {
     "name": "stdout",
     "output_type": "stream",
     "text": [
      "extracting subgraph features..\n"
     ]
    },
    {
     "name": "stderr",
     "output_type": "stream",
     "text": [
      "100%|█████████████████████████████████████████████████████████████████████| 700/700 [15:35<00:00,  1.34s/it]\n"
     ]
    },
    {
     "name": "stdout",
     "output_type": "stream",
     "text": [
      "X.shape (700, 1)\n",
      "method = num_nodes, AUC = 0.500000\n",
      "X.shape (700, 1)\n",
      "method = num_edges, AUC = 0.839736\n",
      "X.shape (700, 1)\n",
      "method = min_degree, AUC = 0.572629\n",
      "X.shape (700, 1)\n",
      "method = max_degree, AUC = 0.769308\n",
      "X.shape (700, 1)\n",
      "method = diameter, AUC = 0.795718\n",
      "X.shape (700, 1)\n",
      "method = degree_assortativity_coef, AUC = 0.725090\n",
      "X.shape (700, 1)\n",
      "method = num_cliques, AUC = 0.689076\n",
      "X.shape (700, 1)\n",
      "method = Avg_clustering_coeff, AUC = 0.761104\n",
      "X.shape (700, 1)\n",
      "method = edeg_density, AUC = 0.839736\n",
      "X.shape (700, 25)\n",
      "method = MACC k0=5, AUC = 0.897159\n",
      "X.shape (700, 100)\n",
      "method = MACC k0=10, AUC = 0.966787\n",
      "X.shape (700, 225)\n",
      "method = MACC k0=15, AUC = 0.977191\n",
      "X.shape (700, 400)\n",
      "method = MACC k0=20, AUC = 0.976391\n",
      "Classifying subgraphs in Simmons81-NYU9 ...\n",
      "sampling subgraphs with k=30 nodes\n"
     ]
    },
    {
     "name": "stderr",
     "output_type": "stream",
     "text": [
      "100%|████████████████████████████████████████████████████████████████████| 100/100 [00:00<00:00, 775.30it/s]\n",
      "100%|████████████████████████████████████████████████████████████████████| 100/100 [00:00<00:00, 699.71it/s]\n",
      "100%|████████████████████████████████████████████████████████████████████| 100/100 [00:00<00:00, 795.59it/s]\n",
      "100%|████████████████████████████████████████████████████████████████████| 100/100 [00:00<00:00, 113.59it/s]\n",
      "100%|████████████████████████████████████████████████████████████████████| 100/100 [00:00<00:00, 116.70it/s]\n",
      "100%|████████████████████████████████████████████████████████████████████| 100/100 [00:00<00:00, 128.38it/s]\n",
      "100%|████████████████████████████████████████████████████████████████████| 100/100 [00:00<00:00, 108.39it/s]\n"
     ]
    },
    {
     "name": "stdout",
     "output_type": "stream",
     "text": [
      "extracting subgraph features..\n"
     ]
    },
    {
     "name": "stderr",
     "output_type": "stream",
     "text": [
      "100%|█████████████████████████████████████████████████████████████████████| 700/700 [15:34<00:00,  1.34s/it]\n"
     ]
    },
    {
     "name": "stdout",
     "output_type": "stream",
     "text": [
      "X.shape (700, 1)\n",
      "method = num_nodes, AUC = 0.500000\n",
      "X.shape (700, 1)\n",
      "method = num_edges, AUC = 0.921969\n",
      "X.shape (700, 1)\n",
      "method = min_degree, AUC = 0.596238\n",
      "X.shape (700, 1)\n",
      "method = max_degree, AUC = 0.841337\n",
      "X.shape (700, 1)\n",
      "method = diameter, AUC = 0.884354\n",
      "X.shape (700, 1)\n",
      "method = degree_assortativity_coef, AUC = 0.693477\n",
      "X.shape (700, 1)\n",
      "method = num_cliques, AUC = 0.770108\n",
      "X.shape (700, 1)\n",
      "method = Avg_clustering_coeff, AUC = 0.832733\n",
      "X.shape (700, 1)\n",
      "method = edeg_density, AUC = 0.921969\n",
      "X.shape (700, 25)\n",
      "method = MACC k0=5, AUC = 0.934374\n",
      "X.shape (700, 100)\n",
      "method = MACC k0=10, AUC = 0.953982\n",
      "X.shape (700, 225)\n",
      "method = MACC k0=15, AUC = 0.964786\n",
      "X.shape (700, 400)\n",
      "method = MACC k0=20, AUC = 0.951581\n",
      "Classifying subgraphs in Simmons81-Virginia63 ...\n",
      "sampling subgraphs with k=30 nodes\n"
     ]
    },
    {
     "name": "stderr",
     "output_type": "stream",
     "text": [
      "100%|████████████████████████████████████████████████████████████████████| 100/100 [00:00<00:00, 743.53it/s]\n",
      "100%|████████████████████████████████████████████████████████████████████| 100/100 [00:00<00:00, 707.12it/s]\n",
      "100%|████████████████████████████████████████████████████████████████████| 100/100 [00:00<00:00, 807.63it/s]\n",
      "100%|████████████████████████████████████████████████████████████████████| 100/100 [00:00<00:00, 111.75it/s]\n",
      "100%|████████████████████████████████████████████████████████████████████| 100/100 [00:00<00:00, 118.08it/s]\n",
      "100%|████████████████████████████████████████████████████████████████████| 100/100 [00:00<00:00, 129.29it/s]\n",
      "100%|████████████████████████████████████████████████████████████████████| 100/100 [00:00<00:00, 100.56it/s]\n"
     ]
    },
    {
     "name": "stdout",
     "output_type": "stream",
     "text": [
      "extracting subgraph features..\n"
     ]
    },
    {
     "name": "stderr",
     "output_type": "stream",
     "text": [
      "100%|█████████████████████████████████████████████████████████████████████| 700/700 [15:35<00:00,  1.34s/it]\n"
     ]
    },
    {
     "name": "stdout",
     "output_type": "stream",
     "text": [
      "X.shape (700, 1)\n",
      "method = num_nodes, AUC = 0.500000\n",
      "X.shape (700, 1)\n",
      "method = num_edges, AUC = 0.801521\n",
      "X.shape (700, 1)\n",
      "method = min_degree, AUC = 0.448379\n",
      "X.shape (700, 1)\n",
      "method = max_degree, AUC = 0.690676\n",
      "X.shape (700, 1)\n",
      "method = diameter, AUC = 0.766307\n",
      "X.shape (700, 1)\n",
      "method = degree_assortativity_coef, AUC = 0.664266\n",
      "X.shape (700, 1)\n",
      "method = num_cliques, AUC = 0.602841\n",
      "X.shape (700, 1)\n",
      "method = Avg_clustering_coeff, AUC = 0.730692\n",
      "X.shape (700, 1)\n",
      "method = edeg_density, AUC = 0.801521\n",
      "X.shape (700, 25)\n",
      "method = MACC k0=5, AUC = 0.801521\n",
      "X.shape (700, 100)\n",
      "method = MACC k0=10, AUC = 0.811525\n",
      "X.shape (700, 225)\n",
      "method = MACC k0=15, AUC = 0.837935\n",
      "X.shape (700, 400)\n",
      "method = MACC k0=20, AUC = 0.825530\n",
      "Classifying subgraphs in Simmons81-UCLA26 ...\n",
      "sampling subgraphs with k=30 nodes\n"
     ]
    },
    {
     "name": "stderr",
     "output_type": "stream",
     "text": [
      "100%|████████████████████████████████████████████████████████████████████| 100/100 [00:00<00:00, 823.78it/s]\n",
      "100%|████████████████████████████████████████████████████████████████████| 100/100 [00:00<00:00, 650.67it/s]\n",
      "100%|████████████████████████████████████████████████████████████████████| 100/100 [00:00<00:00, 817.64it/s]\n",
      "100%|████████████████████████████████████████████████████████████████████| 100/100 [00:00<00:00, 115.30it/s]\n",
      "100%|████████████████████████████████████████████████████████████████████| 100/100 [00:00<00:00, 125.50it/s]\n",
      "100%|████████████████████████████████████████████████████████████████████| 100/100 [00:00<00:00, 137.39it/s]\n",
      "100%|████████████████████████████████████████████████████████████████████| 100/100 [00:00<00:00, 111.04it/s]\n"
     ]
    },
    {
     "name": "stdout",
     "output_type": "stream",
     "text": [
      "extracting subgraph features..\n"
     ]
    },
    {
     "name": "stderr",
     "output_type": "stream",
     "text": [
      "100%|█████████████████████████████████████████████████████████████████████| 700/700 [15:36<00:00,  1.34s/it]\n"
     ]
    },
    {
     "name": "stdout",
     "output_type": "stream",
     "text": [
      "X.shape (700, 1)\n",
      "method = num_nodes, AUC = 0.500000\n",
      "X.shape (700, 1)\n",
      "method = num_edges, AUC = 0.855742\n",
      "X.shape (700, 1)\n",
      "method = min_degree, AUC = 0.565626\n",
      "X.shape (700, 1)\n",
      "method = max_degree, AUC = 0.755302\n",
      "X.shape (700, 1)\n",
      "method = diameter, AUC = 0.811725\n",
      "X.shape (700, 1)\n",
      "method = degree_assortativity_coef, AUC = 0.669068\n",
      "X.shape (700, 1)\n",
      "method = num_cliques, AUC = 0.753101\n",
      "X.shape (700, 1)\n",
      "method = Avg_clustering_coeff, AUC = 0.820728\n",
      "X.shape (700, 1)\n",
      "method = edeg_density, AUC = 0.855742\n",
      "X.shape (700, 25)\n",
      "method = MACC k0=5, AUC = 0.909964\n",
      "X.shape (700, 100)\n",
      "method = MACC k0=10, AUC = 0.918768\n",
      "X.shape (700, 225)\n",
      "method = MACC k0=15, AUC = 0.937975\n",
      "X.shape (700, 400)\n",
      "method = MACC k0=20, AUC = 0.934774\n",
      "Classifying subgraphs in Simmons81-Wisconsin87 ...\n",
      "sampling subgraphs with k=30 nodes\n"
     ]
    },
    {
     "name": "stderr",
     "output_type": "stream",
     "text": [
      "100%|████████████████████████████████████████████████████████████████████| 100/100 [00:00<00:00, 685.42it/s]\n",
      "100%|████████████████████████████████████████████████████████████████████| 100/100 [00:00<00:00, 712.42it/s]\n",
      "100%|████████████████████████████████████████████████████████████████████| 100/100 [00:00<00:00, 811.18it/s]\n",
      "100%|████████████████████████████████████████████████████████████████████| 100/100 [00:00<00:00, 114.09it/s]\n",
      "100%|████████████████████████████████████████████████████████████████████| 100/100 [00:00<00:00, 111.54it/s]\n",
      "100%|████████████████████████████████████████████████████████████████████| 100/100 [00:00<00:00, 130.25it/s]\n",
      "100%|████████████████████████████████████████████████████████████████████| 100/100 [00:00<00:00, 100.12it/s]\n"
     ]
    },
    {
     "name": "stdout",
     "output_type": "stream",
     "text": [
      "extracting subgraph features..\n"
     ]
    },
    {
     "name": "stderr",
     "output_type": "stream",
     "text": [
      "100%|█████████████████████████████████████████████████████████████████████| 700/700 [15:38<00:00,  1.34s/it]\n"
     ]
    },
    {
     "name": "stdout",
     "output_type": "stream",
     "text": [
      "X.shape (700, 1)\n",
      "method = num_nodes, AUC = 0.500000\n",
      "X.shape (700, 1)\n",
      "method = num_edges, AUC = 0.877351\n",
      "X.shape (700, 1)\n",
      "method = min_degree, AUC = 0.645258\n",
      "X.shape (700, 1)\n",
      "method = max_degree, AUC = 0.818727\n",
      "X.shape (700, 1)\n",
      "method = diameter, AUC = 0.895958\n",
      "X.shape (700, 1)\n",
      "method = degree_assortativity_coef, AUC = 0.650660\n",
      "X.shape (700, 1)\n",
      "method = num_cliques, AUC = 0.745098\n",
      "X.shape (700, 1)\n",
      "method = Avg_clustering_coeff, AUC = 0.753501\n",
      "X.shape (700, 1)\n",
      "method = edeg_density, AUC = 0.877351\n",
      "X.shape (700, 25)\n",
      "method = MACC k0=5, AUC = 0.933573\n",
      "X.shape (700, 100)\n",
      "method = MACC k0=10, AUC = 0.958784\n",
      "X.shape (700, 225)\n",
      "method = MACC k0=15, AUC = 0.960384\n",
      "X.shape (700, 400)\n",
      "method = MACC k0=20, AUC = 0.959984\n",
      "Classifying subgraphs in Reed98-NYU9 ...\n",
      "sampling subgraphs with k=30 nodes\n"
     ]
    },
    {
     "name": "stderr",
     "output_type": "stream",
     "text": [
      "100%|████████████████████████████████████████████████████████████████████| 100/100 [00:00<00:00, 712.94it/s]\n",
      "100%|████████████████████████████████████████████████████████████████████| 100/100 [00:00<00:00, 696.85it/s]\n",
      "100%|████████████████████████████████████████████████████████████████████| 100/100 [00:00<00:00, 814.92it/s]\n",
      "100%|█████████████████████████████████████████████████████████████████████| 100/100 [00:01<00:00, 71.29it/s]\n",
      "100%|████████████████████████████████████████████████████████████████████| 100/100 [00:00<00:00, 120.59it/s]\n",
      "100%|████████████████████████████████████████████████████████████████████| 100/100 [00:00<00:00, 133.38it/s]\n",
      "100%|████████████████████████████████████████████████████████████████████| 100/100 [00:00<00:00, 108.63it/s]\n"
     ]
    },
    {
     "name": "stdout",
     "output_type": "stream",
     "text": [
      "extracting subgraph features..\n"
     ]
    },
    {
     "name": "stderr",
     "output_type": "stream",
     "text": [
      "100%|█████████████████████████████████████████████████████████████████████| 700/700 [15:35<00:00,  1.34s/it]\n"
     ]
    },
    {
     "name": "stdout",
     "output_type": "stream",
     "text": [
      "X.shape (700, 1)\n",
      "method = num_nodes, AUC = 0.500000\n",
      "X.shape (700, 1)\n",
      "method = num_edges, AUC = 0.821929\n",
      "X.shape (700, 1)\n",
      "method = min_degree, AUC = 0.607243\n",
      "X.shape (700, 1)\n",
      "method = max_degree, AUC = 0.672469\n",
      "X.shape (700, 1)\n",
      "method = diameter, AUC = 0.787115\n",
      "X.shape (700, 1)\n",
      "method = degree_assortativity_coef, AUC = 0.561825\n",
      "X.shape (700, 1)\n",
      "method = num_cliques, AUC = 0.711885\n",
      "X.shape (700, 1)\n",
      "method = Avg_clustering_coeff, AUC = 0.724290\n",
      "X.shape (700, 1)\n",
      "method = edeg_density, AUC = 0.821929\n",
      "X.shape (700, 25)\n",
      "method = MACC k0=5, AUC = 0.895558\n",
      "X.shape (700, 100)\n",
      "method = MACC k0=10, AUC = 0.933974\n",
      "X.shape (700, 225)\n",
      "method = MACC k0=15, AUC = 0.939576\n",
      "X.shape (700, 400)\n",
      "method = MACC k0=20, AUC = 0.925970\n",
      "Classifying subgraphs in Reed98-Virginia63 ...\n",
      "sampling subgraphs with k=30 nodes\n"
     ]
    },
    {
     "name": "stderr",
     "output_type": "stream",
     "text": [
      "100%|████████████████████████████████████████████████████████████████████| 100/100 [00:00<00:00, 833.02it/s]\n",
      "100%|████████████████████████████████████████████████████████████████████| 100/100 [00:00<00:00, 736.01it/s]\n",
      "100%|████████████████████████████████████████████████████████████████████| 100/100 [00:00<00:00, 792.04it/s]\n",
      "100%|████████████████████████████████████████████████████████████████████| 100/100 [00:00<00:00, 104.99it/s]\n",
      "100%|█████████████████████████████████████████████████████████████████████| 100/100 [00:01<00:00, 82.86it/s]\n",
      "100%|████████████████████████████████████████████████████████████████████| 100/100 [00:00<00:00, 121.30it/s]\n",
      "100%|█████████████████████████████████████████████████████████████████████| 100/100 [00:01<00:00, 99.19it/s]\n"
     ]
    },
    {
     "name": "stdout",
     "output_type": "stream",
     "text": [
      "extracting subgraph features..\n"
     ]
    },
    {
     "name": "stderr",
     "output_type": "stream",
     "text": [
      "100%|█████████████████████████████████████████████████████████████████████| 700/700 [15:33<00:00,  1.33s/it]\n"
     ]
    },
    {
     "name": "stdout",
     "output_type": "stream",
     "text": [
      "X.shape (700, 1)\n",
      "method = num_nodes, AUC = 0.500000\n",
      "X.shape (700, 1)\n",
      "method = num_edges, AUC = 0.835534\n",
      "X.shape (700, 1)\n",
      "method = min_degree, AUC = 0.621248\n",
      "X.shape (700, 1)\n",
      "method = max_degree, AUC = 0.737495\n",
      "X.shape (700, 1)\n",
      "method = diameter, AUC = 0.793717\n",
      "X.shape (700, 1)\n",
      "method = degree_assortativity_coef, AUC = 0.509804\n",
      "X.shape (700, 1)\n",
      "method = num_cliques, AUC = 0.781713\n",
      "X.shape (700, 1)\n",
      "method = Avg_clustering_coeff, AUC = 0.700680\n",
      "X.shape (700, 1)\n",
      "method = edeg_density, AUC = 0.835534\n",
      "X.shape (700, 25)\n",
      "method = MACC k0=5, AUC = 0.896759\n",
      "X.shape (700, 100)\n",
      "method = MACC k0=10, AUC = 0.933974\n",
      "X.shape (700, 225)\n",
      "method = MACC k0=15, AUC = 0.934374\n",
      "X.shape (700, 400)\n",
      "method = MACC k0=20, AUC = 0.940776\n",
      "Classifying subgraphs in Reed98-UCLA26 ...\n",
      "sampling subgraphs with k=30 nodes\n"
     ]
    },
    {
     "name": "stderr",
     "output_type": "stream",
     "text": [
      "100%|████████████████████████████████████████████████████████████████████| 100/100 [00:00<00:00, 791.28it/s]\n",
      "100%|████████████████████████████████████████████████████████████████████| 100/100 [00:00<00:00, 689.30it/s]\n",
      "100%|████████████████████████████████████████████████████████████████████| 100/100 [00:00<00:00, 848.26it/s]\n",
      "100%|█████████████████████████████████████████████████████████████████████| 100/100 [00:01<00:00, 88.64it/s]\n",
      "100%|████████████████████████████████████████████████████████████████████| 100/100 [00:00<00:00, 121.09it/s]\n",
      "100%|████████████████████████████████████████████████████████████████████| 100/100 [00:00<00:00, 123.85it/s]\n",
      "100%|████████████████████████████████████████████████████████████████████| 100/100 [00:00<00:00, 100.86it/s]\n"
     ]
    },
    {
     "name": "stdout",
     "output_type": "stream",
     "text": [
      "extracting subgraph features..\n"
     ]
    },
    {
     "name": "stderr",
     "output_type": "stream",
     "text": [
      "100%|█████████████████████████████████████████████████████████████████████| 700/700 [15:34<00:00,  1.34s/it]\n"
     ]
    },
    {
     "name": "stdout",
     "output_type": "stream",
     "text": [
      "X.shape (700, 1)\n",
      "method = num_nodes, AUC = 0.500000\n",
      "X.shape (700, 1)\n",
      "method = num_edges, AUC = 0.821729\n",
      "X.shape (700, 1)\n",
      "method = min_degree, AUC = 0.627851\n",
      "X.shape (700, 1)\n",
      "method = max_degree, AUC = 0.697479\n",
      "X.shape (700, 1)\n",
      "method = diameter, AUC = 0.769908\n",
      "X.shape (700, 1)\n",
      "method = degree_assortativity_coef, AUC = 0.521409\n",
      "X.shape (700, 1)\n",
      "method = num_cliques, AUC = 0.785914\n",
      "X.shape (700, 1)\n",
      "method = Avg_clustering_coeff, AUC = 0.747099\n",
      "X.shape (700, 1)\n",
      "method = edeg_density, AUC = 0.821729\n",
      "X.shape (700, 25)\n",
      "method = MACC k0=5, AUC = 0.891156\n",
      "X.shape (700, 100)\n",
      "method = MACC k0=10, AUC = 0.957583\n",
      "X.shape (700, 225)\n",
      "method = MACC k0=15, AUC = 0.977591\n",
      "X.shape (700, 400)\n",
      "method = MACC k0=20, AUC = 0.974390\n",
      "Classifying subgraphs in Reed98-Wisconsin87 ...\n",
      "sampling subgraphs with k=30 nodes\n"
     ]
    },
    {
     "name": "stderr",
     "output_type": "stream",
     "text": [
      "100%|████████████████████████████████████████████████████████████████████| 100/100 [00:00<00:00, 768.20it/s]\n",
      "100%|████████████████████████████████████████████████████████████████████| 100/100 [00:00<00:00, 709.12it/s]\n",
      "100%|████████████████████████████████████████████████████████████████████| 100/100 [00:00<00:00, 788.32it/s]\n",
      "100%|████████████████████████████████████████████████████████████████████| 100/100 [00:00<00:00, 119.25it/s]\n",
      "100%|████████████████████████████████████████████████████████████████████| 100/100 [00:00<00:00, 122.28it/s]\n",
      "100%|████████████████████████████████████████████████████████████████████| 100/100 [00:00<00:00, 122.71it/s]\n",
      "100%|█████████████████████████████████████████████████████████████████████| 100/100 [00:01<00:00, 99.12it/s]\n"
     ]
    },
    {
     "name": "stdout",
     "output_type": "stream",
     "text": [
      "extracting subgraph features..\n"
     ]
    },
    {
     "name": "stderr",
     "output_type": "stream",
     "text": [
      "100%|█████████████████████████████████████████████████████████████████████| 700/700 [15:32<00:00,  1.33s/it]\n"
     ]
    },
    {
     "name": "stdout",
     "output_type": "stream",
     "text": [
      "X.shape (700, 1)\n",
      "method = num_nodes, AUC = 0.500000\n",
      "X.shape (700, 1)\n",
      "method = num_edges, AUC = 0.883954\n",
      "X.shape (700, 1)\n",
      "method = min_degree, AUC = 0.683673\n",
      "X.shape (700, 1)\n",
      "method = max_degree, AUC = 0.769708\n",
      "X.shape (700, 1)\n",
      "method = diameter, AUC = 0.835934\n",
      "X.shape (700, 1)\n",
      "method = degree_assortativity_coef, AUC = 0.620248\n",
      "X.shape (700, 1)\n",
      "method = num_cliques, AUC = 0.775510\n",
      "X.shape (700, 1)\n",
      "method = Avg_clustering_coeff, AUC = 0.806723\n",
      "X.shape (700, 1)\n",
      "method = edeg_density, AUC = 0.883954\n",
      "X.shape (700, 25)\n",
      "method = MACC k0=5, AUC = 0.886355\n",
      "X.shape (700, 100)\n",
      "method = MACC k0=10, AUC = 0.955182\n",
      "X.shape (700, 225)\n",
      "method = MACC k0=15, AUC = 0.955582\n",
      "X.shape (700, 400)\n",
      "method = MACC k0=20, AUC = 0.946379\n",
      "Classifying subgraphs in NYU9-Virginia63 ...\n",
      "sampling subgraphs with k=30 nodes\n"
     ]
    },
    {
     "name": "stderr",
     "output_type": "stream",
     "text": [
      "100%|████████████████████████████████████████████████████████████████████| 100/100 [00:00<00:00, 828.51it/s]\n",
      "100%|████████████████████████████████████████████████████████████████████| 100/100 [00:00<00:00, 529.25it/s]\n",
      "100%|████████████████████████████████████████████████████████████████████| 100/100 [00:00<00:00, 819.71it/s]\n",
      "100%|████████████████████████████████████████████████████████████████████| 100/100 [00:00<00:00, 111.38it/s]\n",
      "100%|████████████████████████████████████████████████████████████████████| 100/100 [00:00<00:00, 109.21it/s]\n",
      "100%|████████████████████████████████████████████████████████████████████| 100/100 [00:00<00:00, 127.24it/s]\n",
      "100%|████████████████████████████████████████████████████████████████████| 100/100 [00:00<00:00, 103.69it/s]\n"
     ]
    },
    {
     "name": "stdout",
     "output_type": "stream",
     "text": [
      "extracting subgraph features..\n"
     ]
    },
    {
     "name": "stderr",
     "output_type": "stream",
     "text": [
      "100%|█████████████████████████████████████████████████████████████████████| 700/700 [15:32<00:00,  1.33s/it]\n"
     ]
    },
    {
     "name": "stdout",
     "output_type": "stream",
     "text": [
      "X.shape (700, 1)\n",
      "method = num_nodes, AUC = 0.500000\n",
      "X.shape (700, 1)\n",
      "method = num_edges, AUC = 0.858343\n",
      "X.shape (700, 1)\n",
      "method = min_degree, AUC = 0.567627\n",
      "X.shape (700, 1)\n",
      "method = max_degree, AUC = 0.817327\n",
      "X.shape (700, 1)\n",
      "method = diameter, AUC = 0.790316\n",
      "X.shape (700, 1)\n",
      "method = degree_assortativity_coef, AUC = 0.655462\n",
      "X.shape (700, 1)\n",
      "method = num_cliques, AUC = 0.806723\n",
      "X.shape (700, 1)\n",
      "method = Avg_clustering_coeff, AUC = 0.796719\n",
      "X.shape (700, 1)\n",
      "method = edeg_density, AUC = 0.858343\n",
      "X.shape (700, 25)\n",
      "method = MACC k0=5, AUC = 0.868347\n",
      "X.shape (700, 100)\n",
      "method = MACC k0=10, AUC = 0.897159\n",
      "X.shape (700, 225)\n",
      "method = MACC k0=15, AUC = 0.914766\n",
      "X.shape (700, 400)\n",
      "method = MACC k0=20, AUC = 0.880352\n",
      "Classifying subgraphs in NYU9-UCLA26 ...\n",
      "sampling subgraphs with k=30 nodes\n"
     ]
    },
    {
     "name": "stderr",
     "output_type": "stream",
     "text": [
      "100%|████████████████████████████████████████████████████████████████████| 100/100 [00:00<00:00, 667.42it/s]\n",
      "100%|████████████████████████████████████████████████████████████████████| 100/100 [00:00<00:00, 591.46it/s]\n",
      "100%|████████████████████████████████████████████████████████████████████| 100/100 [00:00<00:00, 825.58it/s]\n",
      "100%|████████████████████████████████████████████████████████████████████| 100/100 [00:00<00:00, 107.29it/s]\n",
      "100%|████████████████████████████████████████████████████████████████████| 100/100 [00:00<00:00, 102.55it/s]\n",
      "100%|████████████████████████████████████████████████████████████████████| 100/100 [00:00<00:00, 135.77it/s]\n",
      "100%|█████████████████████████████████████████████████████████████████████| 100/100 [00:01<00:00, 98.41it/s]\n"
     ]
    },
    {
     "name": "stdout",
     "output_type": "stream",
     "text": [
      "extracting subgraph features..\n"
     ]
    },
    {
     "name": "stderr",
     "output_type": "stream",
     "text": [
      "100%|█████████████████████████████████████████████████████████████████████| 700/700 [15:32<00:00,  1.33s/it]\n"
     ]
    },
    {
     "name": "stdout",
     "output_type": "stream",
     "text": [
      "X.shape (700, 1)\n",
      "method = num_nodes, AUC = 0.500000\n",
      "X.shape (700, 1)\n",
      "method = num_edges, AUC = 0.876951\n",
      "X.shape (700, 1)\n",
      "method = min_degree, AUC = 0.579432\n",
      "X.shape (700, 1)\n",
      "method = max_degree, AUC = 0.800520\n",
      "X.shape (700, 1)\n",
      "method = diameter, AUC = 0.833133\n",
      "X.shape (700, 1)\n",
      "method = degree_assortativity_coef, AUC = 0.645058\n",
      "X.shape (700, 1)\n",
      "method = num_cliques, AUC = 0.779912\n",
      "X.shape (700, 1)\n",
      "method = Avg_clustering_coeff, AUC = 0.775910\n",
      "X.shape (700, 1)\n",
      "method = edeg_density, AUC = 0.876951\n",
      "X.shape (700, 25)\n",
      "method = MACC k0=5, AUC = 0.941977\n",
      "X.shape (700, 100)\n",
      "method = MACC k0=10, AUC = 0.954382\n",
      "X.shape (700, 225)\n",
      "method = MACC k0=15, AUC = 0.963986\n",
      "X.shape (700, 400)\n",
      "method = MACC k0=20, AUC = 0.962785\n",
      "Classifying subgraphs in NYU9-Wisconsin87 ...\n",
      "sampling subgraphs with k=30 nodes\n"
     ]
    },
    {
     "name": "stderr",
     "output_type": "stream",
     "text": [
      "100%|████████████████████████████████████████████████████████████████████| 100/100 [00:00<00:00, 751.94it/s]\n",
      "100%|████████████████████████████████████████████████████████████████████| 100/100 [00:00<00:00, 728.36it/s]\n",
      "100%|████████████████████████████████████████████████████████████████████| 100/100 [00:00<00:00, 791.78it/s]\n",
      "100%|████████████████████████████████████████████████████████████████████| 100/100 [00:00<00:00, 106.28it/s]\n",
      "100%|████████████████████████████████████████████████████████████████████| 100/100 [00:00<00:00, 114.11it/s]\n",
      "100%|████████████████████████████████████████████████████████████████████| 100/100 [00:00<00:00, 133.17it/s]\n",
      "100%|████████████████████████████████████████████████████████████████████| 100/100 [00:00<00:00, 108.40it/s]\n"
     ]
    },
    {
     "name": "stdout",
     "output_type": "stream",
     "text": [
      "extracting subgraph features..\n"
     ]
    },
    {
     "name": "stderr",
     "output_type": "stream",
     "text": [
      "100%|█████████████████████████████████████████████████████████████████████| 700/700 [15:32<00:00,  1.33s/it]\n"
     ]
    },
    {
     "name": "stdout",
     "output_type": "stream",
     "text": [
      "X.shape (700, 1)\n",
      "method = num_nodes, AUC = 0.500000\n",
      "X.shape (700, 1)\n",
      "method = num_edges, AUC = 0.888756\n",
      "X.shape (700, 1)\n",
      "method = min_degree, AUC = 0.641056\n",
      "X.shape (700, 1)\n",
      "method = max_degree, AUC = 0.792717\n",
      "X.shape (700, 1)\n",
      "method = diameter, AUC = 0.855342\n",
      "X.shape (700, 1)\n",
      "method = degree_assortativity_coef, AUC = 0.673069\n",
      "X.shape (700, 1)\n",
      "method = num_cliques, AUC = 0.743697\n",
      "X.shape (700, 1)\n",
      "method = Avg_clustering_coeff, AUC = 0.780312\n",
      "X.shape (700, 1)\n",
      "method = edeg_density, AUC = 0.888756\n",
      "X.shape (700, 25)\n",
      "method = MACC k0=5, AUC = 0.932373\n",
      "X.shape (700, 100)\n",
      "method = MACC k0=10, AUC = 0.953581\n",
      "X.shape (700, 225)\n",
      "method = MACC k0=15, AUC = 0.956783\n",
      "X.shape (700, 400)\n",
      "method = MACC k0=20, AUC = 0.960384\n",
      "Classifying subgraphs in Virginia63-UCLA26 ...\n",
      "sampling subgraphs with k=30 nodes\n"
     ]
    },
    {
     "name": "stderr",
     "output_type": "stream",
     "text": [
      "100%|████████████████████████████████████████████████████████████████████| 100/100 [00:00<00:00, 764.17it/s]\n",
      "100%|████████████████████████████████████████████████████████████████████| 100/100 [00:00<00:00, 613.22it/s]\n",
      "100%|████████████████████████████████████████████████████████████████████| 100/100 [00:00<00:00, 813.19it/s]\n",
      "100%|████████████████████████████████████████████████████████████████████| 100/100 [00:00<00:00, 123.49it/s]\n",
      "100%|████████████████████████████████████████████████████████████████████| 100/100 [00:00<00:00, 115.28it/s]\n",
      "100%|████████████████████████████████████████████████████████████████████| 100/100 [00:00<00:00, 124.23it/s]\n",
      "100%|████████████████████████████████████████████████████████████████████| 100/100 [00:00<00:00, 108.38it/s]\n"
     ]
    },
    {
     "name": "stdout",
     "output_type": "stream",
     "text": [
      "extracting subgraph features..\n"
     ]
    },
    {
     "name": "stderr",
     "output_type": "stream",
     "text": [
      "100%|█████████████████████████████████████████████████████████████████████| 700/700 [15:33<00:00,  1.33s/it]\n"
     ]
    },
    {
     "name": "stdout",
     "output_type": "stream",
     "text": [
      "X.shape (700, 1)\n",
      "method = num_nodes, AUC = 0.500000\n",
      "X.shape (700, 1)\n",
      "method = num_edges, AUC = 0.913966\n",
      "X.shape (700, 1)\n",
      "method = min_degree, AUC = 0.604042\n",
      "X.shape (700, 1)\n",
      "method = max_degree, AUC = 0.838936\n",
      "X.shape (700, 1)\n",
      "method = diameter, AUC = 0.822329\n",
      "X.shape (700, 1)\n",
      "method = degree_assortativity_coef, AUC = 0.639856\n",
      "X.shape (700, 1)\n",
      "method = num_cliques, AUC = 0.781713\n",
      "X.shape (700, 1)\n",
      "method = Avg_clustering_coeff, AUC = 0.801120\n",
      "X.shape (700, 1)\n",
      "method = edeg_density, AUC = 0.913966\n",
      "X.shape (700, 25)\n",
      "method = MACC k0=5, AUC = 0.927171\n",
      "X.shape (700, 100)\n",
      "method = MACC k0=10, AUC = 0.946779\n",
      "X.shape (700, 225)\n",
      "method = MACC k0=15, AUC = 0.952381\n",
      "X.shape (700, 400)\n",
      "method = MACC k0=20, AUC = 0.945978\n",
      "Classifying subgraphs in Virginia63-Wisconsin87 ...\n",
      "sampling subgraphs with k=30 nodes\n"
     ]
    },
    {
     "name": "stderr",
     "output_type": "stream",
     "text": [
      "100%|████████████████████████████████████████████████████████████████████| 100/100 [00:00<00:00, 711.54it/s]\n",
      "100%|████████████████████████████████████████████████████████████████████| 100/100 [00:00<00:00, 703.69it/s]\n",
      "100%|████████████████████████████████████████████████████████████████████| 100/100 [00:00<00:00, 794.85it/s]\n",
      "100%|████████████████████████████████████████████████████████████████████| 100/100 [00:00<00:00, 118.04it/s]\n",
      "100%|████████████████████████████████████████████████████████████████████| 100/100 [00:00<00:00, 120.59it/s]\n",
      "100%|████████████████████████████████████████████████████████████████████| 100/100 [00:00<00:00, 123.62it/s]\n",
      "100%|█████████████████████████████████████████████████████████████████████| 100/100 [00:01<00:00, 99.97it/s]\n"
     ]
    },
    {
     "name": "stdout",
     "output_type": "stream",
     "text": [
      "extracting subgraph features..\n"
     ]
    },
    {
     "name": "stderr",
     "output_type": "stream",
     "text": [
      "100%|█████████████████████████████████████████████████████████████████████| 700/700 [15:33<00:00,  1.33s/it]\n"
     ]
    },
    {
     "name": "stdout",
     "output_type": "stream",
     "text": [
      "X.shape (700, 1)\n",
      "method = num_nodes, AUC = 0.500000\n",
      "X.shape (700, 1)\n",
      "method = num_edges, AUC = 0.838535\n",
      "X.shape (700, 1)\n",
      "method = min_degree, AUC = 0.574030\n",
      "X.shape (700, 1)\n",
      "method = max_degree, AUC = 0.782513\n",
      "X.shape (700, 1)\n",
      "method = diameter, AUC = 0.849740\n",
      "X.shape (700, 1)\n",
      "method = degree_assortativity_coef, AUC = 0.637055\n",
      "X.shape (700, 1)\n",
      "method = num_cliques, AUC = 0.683874\n",
      "X.shape (700, 1)\n",
      "method = Avg_clustering_coeff, AUC = 0.729892\n",
      "X.shape (700, 1)\n",
      "method = edeg_density, AUC = 0.838535\n",
      "X.shape (700, 25)\n",
      "method = MACC k0=5, AUC = 0.887555\n",
      "X.shape (700, 100)\n",
      "method = MACC k0=10, AUC = 0.903561\n",
      "X.shape (700, 225)\n",
      "method = MACC k0=15, AUC = 0.891156\n",
      "X.shape (700, 400)\n",
      "method = MACC k0=20, AUC = 0.918768\n",
      "Classifying subgraphs in UCLA26-Wisconsin87 ...\n",
      "sampling subgraphs with k=30 nodes\n"
     ]
    },
    {
     "name": "stderr",
     "output_type": "stream",
     "text": [
      "100%|█████████████████████████████████████████████████████████████████████| 100/100 [00:01<00:00, 58.60it/s]\n",
      "100%|████████████████████████████████████████████████████████████████████| 100/100 [00:00<00:00, 621.81it/s]\n",
      "100%|████████████████████████████████████████████████████████████████████| 100/100 [00:00<00:00, 793.27it/s]\n",
      "100%|█████████████████████████████████████████████████████████████████████| 100/100 [00:01<00:00, 69.87it/s]\n",
      "100%|████████████████████████████████████████████████████████████████████| 100/100 [00:00<00:00, 111.09it/s]\n",
      "100%|████████████████████████████████████████████████████████████████████| 100/100 [00:00<00:00, 133.14it/s]\n",
      "100%|█████████████████████████████████████████████████████████████████████| 100/100 [00:01<00:00, 97.47it/s]\n"
     ]
    },
    {
     "name": "stdout",
     "output_type": "stream",
     "text": [
      "extracting subgraph features..\n"
     ]
    },
    {
     "name": "stderr",
     "output_type": "stream",
     "text": [
      "100%|█████████████████████████████████████████████████████████████████████| 700/700 [15:33<00:00,  1.33s/it]\n"
     ]
    },
    {
     "name": "stdout",
     "output_type": "stream",
     "text": [
      "X.shape (700, 1)\n",
      "method = num_nodes, AUC = 0.500000\n",
      "X.shape (700, 1)\n",
      "method = num_edges, AUC = 0.819928\n",
      "X.shape (700, 1)\n",
      "method = min_degree, AUC = 0.588235\n",
      "X.shape (700, 1)\n",
      "method = max_degree, AUC = 0.766307\n",
      "X.shape (700, 1)\n",
      "method = diameter, AUC = 0.809924\n",
      "X.shape (700, 1)\n",
      "method = degree_assortativity_coef, AUC = 0.653461\n",
      "X.shape (700, 1)\n",
      "method = num_cliques, AUC = 0.698679\n",
      "X.shape (700, 1)\n",
      "method = Avg_clustering_coeff, AUC = 0.723890\n",
      "X.shape (700, 1)\n",
      "method = edeg_density, AUC = 0.819928\n",
      "X.shape (700, 25)\n",
      "method = MACC k0=5, AUC = 0.865546\n",
      "X.shape (700, 100)\n",
      "method = MACC k0=10, AUC = 0.919568\n",
      "X.shape (700, 225)\n",
      "method = MACC k0=15, AUC = 0.913165\n",
      "X.shape (700, 400)\n",
      "method = MACC k0=20, AUC = 0.912365\n",
      "Classifying subgraphs in Caltech36-Simmons81 ...\n",
      "sampling subgraphs with k=30 nodes\n"
     ]
    },
    {
     "name": "stderr",
     "output_type": "stream",
     "text": [
      "100%|████████████████████████████████████████████████████████████████████| 100/100 [00:00<00:00, 819.49it/s]\n",
      "100%|████████████████████████████████████████████████████████████████████| 100/100 [00:00<00:00, 639.78it/s]\n",
      "100%|████████████████████████████████████████████████████████████████████| 100/100 [00:00<00:00, 811.76it/s]\n",
      "100%|████████████████████████████████████████████████████████████████████| 100/100 [00:00<00:00, 104.08it/s]\n",
      "100%|████████████████████████████████████████████████████████████████████| 100/100 [00:00<00:00, 110.79it/s]\n",
      "100%|████████████████████████████████████████████████████████████████████| 100/100 [00:00<00:00, 120.77it/s]\n",
      "100%|█████████████████████████████████████████████████████████████████████| 100/100 [00:01<00:00, 97.64it/s]\n"
     ]
    },
    {
     "name": "stdout",
     "output_type": "stream",
     "text": [
      "extracting subgraph features..\n"
     ]
    },
    {
     "name": "stderr",
     "output_type": "stream",
     "text": [
      "100%|█████████████████████████████████████████████████████████████████████| 700/700 [15:33<00:00,  1.33s/it]\n"
     ]
    },
    {
     "name": "stdout",
     "output_type": "stream",
     "text": [
      "X.shape (700, 1)\n",
      "method = num_nodes, AUC = 0.500000\n",
      "X.shape (700, 1)\n",
      "method = num_edges, AUC = 0.916567\n",
      "X.shape (700, 1)\n",
      "method = min_degree, AUC = 0.663265\n",
      "X.shape (700, 1)\n",
      "method = max_degree, AUC = 0.840336\n",
      "X.shape (700, 1)\n",
      "method = diameter, AUC = 0.857743\n",
      "X.shape (700, 1)\n",
      "method = degree_assortativity_coef, AUC = 0.619848\n",
      "X.shape (700, 1)\n",
      "method = num_cliques, AUC = 0.756303\n",
      "X.shape (700, 1)\n",
      "method = Avg_clustering_coeff, AUC = 0.757103\n",
      "X.shape (700, 1)\n",
      "method = edeg_density, AUC = 0.916567\n",
      "X.shape (700, 25)\n",
      "method = MACC k0=5, AUC = 0.935974\n",
      "X.shape (700, 100)\n",
      "method = MACC k0=10, AUC = 0.960784\n",
      "X.shape (700, 225)\n",
      "method = MACC k0=15, AUC = 0.963585\n",
      "X.shape (700, 400)\n",
      "method = MACC k0=20, AUC = 0.950380\n",
      "Classifying subgraphs in Caltech36-Reed98 ...\n",
      "sampling subgraphs with k=30 nodes\n"
     ]
    },
    {
     "name": "stderr",
     "output_type": "stream",
     "text": [
      "100%|████████████████████████████████████████████████████████████████████| 100/100 [00:00<00:00, 436.01it/s]\n",
      "100%|████████████████████████████████████████████████████████████████████| 100/100 [00:00<00:00, 765.58it/s]\n",
      "100%|████████████████████████████████████████████████████████████████████| 100/100 [00:00<00:00, 823.76it/s]\n",
      "100%|████████████████████████████████████████████████████████████████████| 100/100 [00:00<00:00, 105.57it/s]\n",
      "100%|████████████████████████████████████████████████████████████████████| 100/100 [00:00<00:00, 111.78it/s]\n",
      "100%|█████████████████████████████████████████████████████████████████████| 100/100 [00:01<00:00, 93.60it/s]\n",
      "100%|████████████████████████████████████████████████████████████████████| 100/100 [00:00<00:00, 106.79it/s]\n"
     ]
    },
    {
     "name": "stdout",
     "output_type": "stream",
     "text": [
      "extracting subgraph features..\n"
     ]
    },
    {
     "name": "stderr",
     "output_type": "stream",
     "text": [
      "100%|█████████████████████████████████████████████████████████████████████| 700/700 [15:30<00:00,  1.33s/it]\n"
     ]
    },
    {
     "name": "stdout",
     "output_type": "stream",
     "text": [
      "X.shape (700, 1)\n",
      "method = num_nodes, AUC = 0.500000\n",
      "X.shape (700, 1)\n",
      "method = num_edges, AUC = 0.871349\n",
      "X.shape (700, 1)\n",
      "method = min_degree, AUC = 0.654662\n",
      "X.shape (700, 1)\n",
      "method = max_degree, AUC = 0.770108\n",
      "X.shape (700, 1)\n",
      "method = diameter, AUC = 0.807323\n",
      "X.shape (700, 1)\n",
      "method = degree_assortativity_coef, AUC = 0.620248\n",
      "X.shape (700, 1)\n",
      "method = num_cliques, AUC = 0.725690\n",
      "X.shape (700, 1)\n",
      "method = Avg_clustering_coeff, AUC = 0.829132\n",
      "X.shape (700, 1)\n",
      "method = edeg_density, AUC = 0.871349\n",
      "X.shape (700, 25)\n",
      "method = MACC k0=5, AUC = 0.899560\n",
      "X.shape (700, 100)\n",
      "method = MACC k0=10, AUC = 0.935974\n",
      "X.shape (700, 225)\n",
      "method = MACC k0=15, AUC = 0.923970\n",
      "X.shape (700, 400)\n",
      "method = MACC k0=20, AUC = 0.951581\n",
      "Classifying subgraphs in Caltech36-NYU9 ...\n",
      "sampling subgraphs with k=30 nodes\n"
     ]
    },
    {
     "name": "stderr",
     "output_type": "stream",
     "text": [
      "100%|████████████████████████████████████████████████████████████████████| 100/100 [00:00<00:00, 615.96it/s]\n",
      "100%|████████████████████████████████████████████████████████████████████| 100/100 [00:00<00:00, 687.71it/s]\n",
      "100%|████████████████████████████████████████████████████████████████████| 100/100 [00:00<00:00, 833.67it/s]\n",
      "100%|████████████████████████████████████████████████████████████████████| 100/100 [00:00<00:00, 115.17it/s]\n",
      "100%|████████████████████████████████████████████████████████████████████| 100/100 [00:00<00:00, 110.53it/s]\n",
      "100%|████████████████████████████████████████████████████████████████████| 100/100 [00:00<00:00, 129.05it/s]\n",
      "100%|████████████████████████████████████████████████████████████████████| 100/100 [00:00<00:00, 106.58it/s]\n"
     ]
    },
    {
     "name": "stdout",
     "output_type": "stream",
     "text": [
      "extracting subgraph features..\n"
     ]
    },
    {
     "name": "stderr",
     "output_type": "stream",
     "text": [
      "100%|█████████████████████████████████████████████████████████████████████| 700/700 [15:32<00:00,  1.33s/it]\n"
     ]
    },
    {
     "name": "stdout",
     "output_type": "stream",
     "text": [
      "X.shape (700, 1)\n",
      "method = num_nodes, AUC = 0.500000\n",
      "X.shape (700, 1)\n",
      "method = num_edges, AUC = 0.858743\n",
      "X.shape (700, 1)\n",
      "method = min_degree, AUC = 0.553221\n",
      "X.shape (700, 1)\n",
      "method = max_degree, AUC = 0.749100\n",
      "X.shape (700, 1)\n",
      "method = diameter, AUC = 0.811325\n",
      "X.shape (700, 1)\n",
      "method = degree_assortativity_coef, AUC = 0.684274\n",
      "X.shape (700, 1)\n",
      "method = num_cliques, AUC = 0.725090\n",
      "X.shape (700, 1)\n",
      "method = Avg_clustering_coeff, AUC = 0.744298\n",
      "X.shape (700, 1)\n",
      "method = edeg_density, AUC = 0.858743\n",
      "X.shape (700, 25)\n",
      "method = MACC k0=5, AUC = 0.920368\n",
      "X.shape (700, 100)\n",
      "method = MACC k0=10, AUC = 0.951581\n",
      "X.shape (700, 225)\n",
      "method = MACC k0=15, AUC = 0.959184\n",
      "X.shape (700, 400)\n",
      "method = MACC k0=20, AUC = 0.955982\n",
      "Classifying subgraphs in Caltech36-Virginia63 ...\n",
      "sampling subgraphs with k=30 nodes\n"
     ]
    },
    {
     "name": "stderr",
     "output_type": "stream",
     "text": [
      "100%|████████████████████████████████████████████████████████████████████| 100/100 [00:00<00:00, 612.29it/s]\n",
      "100%|████████████████████████████████████████████████████████████████████| 100/100 [00:00<00:00, 709.43it/s]\n",
      "100%|████████████████████████████████████████████████████████████████████| 100/100 [00:00<00:00, 791.30it/s]\n",
      "100%|████████████████████████████████████████████████████████████████████| 100/100 [00:00<00:00, 121.99it/s]\n",
      "100%|████████████████████████████████████████████████████████████████████| 100/100 [00:00<00:00, 111.25it/s]\n",
      "100%|████████████████████████████████████████████████████████████████████| 100/100 [00:00<00:00, 126.75it/s]\n",
      "100%|████████████████████████████████████████████████████████████████████| 100/100 [00:00<00:00, 106.36it/s]\n"
     ]
    },
    {
     "name": "stdout",
     "output_type": "stream",
     "text": [
      "extracting subgraph features..\n"
     ]
    },
    {
     "name": "stderr",
     "output_type": "stream",
     "text": [
      "100%|█████████████████████████████████████████████████████████████████████| 700/700 [15:33<00:00,  1.33s/it]\n"
     ]
    },
    {
     "name": "stdout",
     "output_type": "stream",
     "text": [
      "X.shape (700, 1)\n",
      "method = num_nodes, AUC = 0.500000\n",
      "X.shape (700, 1)\n",
      "method = num_edges, AUC = 0.800920\n",
      "X.shape (700, 1)\n",
      "method = min_degree, AUC = 0.549620\n",
      "X.shape (700, 1)\n",
      "method = max_degree, AUC = 0.713285\n",
      "X.shape (700, 1)\n",
      "method = diameter, AUC = 0.820528\n",
      "X.shape (700, 1)\n",
      "method = degree_assortativity_coef, AUC = 0.679072\n",
      "X.shape (700, 1)\n",
      "method = num_cliques, AUC = 0.700680\n",
      "X.shape (700, 1)\n",
      "method = Avg_clustering_coeff, AUC = 0.647059\n",
      "X.shape (700, 1)\n",
      "method = edeg_density, AUC = 0.800920\n",
      "X.shape (700, 25)\n",
      "method = MACC k0=5, AUC = 0.873149\n",
      "X.shape (700, 100)\n",
      "method = MACC k0=10, AUC = 0.939576\n",
      "X.shape (700, 225)\n",
      "method = MACC k0=15, AUC = 0.955182\n",
      "X.shape (700, 400)\n",
      "method = MACC k0=20, AUC = 0.963585\n",
      "Classifying subgraphs in Caltech36-UCLA26 ...\n",
      "sampling subgraphs with k=30 nodes\n"
     ]
    },
    {
     "name": "stderr",
     "output_type": "stream",
     "text": [
      "100%|████████████████████████████████████████████████████████████████████| 100/100 [00:00<00:00, 814.51it/s]\n",
      "100%|████████████████████████████████████████████████████████████████████| 100/100 [00:00<00:00, 646.12it/s]\n",
      "100%|████████████████████████████████████████████████████████████████████| 100/100 [00:00<00:00, 828.45it/s]\n",
      "100%|████████████████████████████████████████████████████████████████████| 100/100 [00:00<00:00, 109.15it/s]\n",
      "100%|████████████████████████████████████████████████████████████████████| 100/100 [00:00<00:00, 111.77it/s]\n",
      "100%|████████████████████████████████████████████████████████████████████| 100/100 [00:00<00:00, 133.73it/s]\n",
      "100%|████████████████████████████████████████████████████████████████████| 100/100 [00:00<00:00, 103.56it/s]\n"
     ]
    },
    {
     "name": "stdout",
     "output_type": "stream",
     "text": [
      "extracting subgraph features..\n"
     ]
    },
    {
     "name": "stderr",
     "output_type": "stream",
     "text": [
      "100%|█████████████████████████████████████████████████████████████████████| 700/700 [15:33<00:00,  1.33s/it]\n"
     ]
    },
    {
     "name": "stdout",
     "output_type": "stream",
     "text": [
      "X.shape (700, 1)\n",
      "method = num_nodes, AUC = 0.500000\n",
      "X.shape (700, 1)\n",
      "method = num_edges, AUC = 0.841737\n",
      "X.shape (700, 1)\n",
      "method = min_degree, AUC = 0.597839\n",
      "X.shape (700, 1)\n",
      "method = max_degree, AUC = 0.763705\n",
      "X.shape (700, 1)\n",
      "method = diameter, AUC = 0.853141\n",
      "X.shape (700, 1)\n",
      "method = degree_assortativity_coef, AUC = 0.613846\n",
      "X.shape (700, 1)\n",
      "method = num_cliques, AUC = 0.722889\n",
      "X.shape (700, 1)\n",
      "method = Avg_clustering_coeff, AUC = 0.721889\n",
      "X.shape (700, 1)\n",
      "method = edeg_density, AUC = 0.841737\n",
      "X.shape (700, 25)\n",
      "method = MACC k0=5, AUC = 0.866347\n",
      "X.shape (700, 100)\n",
      "method = MACC k0=10, AUC = 0.911565\n",
      "X.shape (700, 225)\n",
      "method = MACC k0=15, AUC = 0.921569\n",
      "X.shape (700, 400)\n",
      "method = MACC k0=20, AUC = 0.901561\n",
      "Classifying subgraphs in Caltech36-Wisconsin87 ...\n",
      "sampling subgraphs with k=30 nodes\n"
     ]
    },
    {
     "name": "stderr",
     "output_type": "stream",
     "text": [
      "100%|████████████████████████████████████████████████████████████████████| 100/100 [00:00<00:00, 794.48it/s]\n",
      "100%|████████████████████████████████████████████████████████████████████| 100/100 [00:00<00:00, 657.06it/s]\n",
      "100%|████████████████████████████████████████████████████████████████████| 100/100 [00:00<00:00, 807.32it/s]\n",
      "100%|████████████████████████████████████████████████████████████████████| 100/100 [00:00<00:00, 119.79it/s]\n",
      "100%|████████████████████████████████████████████████████████████████████| 100/100 [00:00<00:00, 116.81it/s]\n",
      "100%|████████████████████████████████████████████████████████████████████| 100/100 [00:00<00:00, 125.68it/s]\n",
      "100%|█████████████████████████████████████████████████████████████████████| 100/100 [00:01<00:00, 97.97it/s]\n"
     ]
    },
    {
     "name": "stdout",
     "output_type": "stream",
     "text": [
      "extracting subgraph features..\n"
     ]
    },
    {
     "name": "stderr",
     "output_type": "stream",
     "text": [
      "100%|█████████████████████████████████████████████████████████████████████| 700/700 [15:34<00:00,  1.34s/it]\n"
     ]
    },
    {
     "name": "stdout",
     "output_type": "stream",
     "text": [
      "X.shape (700, 1)\n",
      "method = num_nodes, AUC = 0.500000\n",
      "X.shape (700, 1)\n",
      "method = num_edges, AUC = 0.867747\n",
      "X.shape (700, 1)\n",
      "method = min_degree, AUC = 0.639256\n",
      "X.shape (700, 1)\n",
      "method = max_degree, AUC = 0.791917\n",
      "X.shape (700, 1)\n",
      "method = diameter, AUC = 0.867547\n",
      "X.shape (700, 1)\n",
      "method = degree_assortativity_coef, AUC = 0.353741\n",
      "X.shape (700, 1)\n",
      "method = num_cliques, AUC = 0.719288\n",
      "X.shape (700, 1)\n",
      "method = Avg_clustering_coeff, AUC = 0.734694\n",
      "X.shape (700, 1)\n",
      "method = edeg_density, AUC = 0.867747\n",
      "X.shape (700, 25)\n",
      "method = MACC k0=5, AUC = 0.903161\n",
      "X.shape (700, 100)\n",
      "method = MACC k0=10, AUC = 0.930772\n",
      "X.shape (700, 225)\n",
      "method = MACC k0=15, AUC = 0.916367\n",
      "X.shape (700, 400)\n",
      "method = MACC k0=20, AUC = 0.928371\n",
      "Classifying subgraphs in Simmons81-Reed98 ...\n",
      "sampling subgraphs with k=30 nodes\n"
     ]
    },
    {
     "name": "stderr",
     "output_type": "stream",
     "text": [
      "100%|████████████████████████████████████████████████████████████████████| 100/100 [00:00<00:00, 816.39it/s]\n",
      "100%|████████████████████████████████████████████████████████████████████| 100/100 [00:00<00:00, 674.36it/s]\n",
      "100%|████████████████████████████████████████████████████████████████████| 100/100 [00:00<00:00, 815.30it/s]\n",
      "100%|█████████████████████████████████████████████████████████████████████| 100/100 [00:01<00:00, 77.97it/s]\n",
      "100%|████████████████████████████████████████████████████████████████████| 100/100 [00:00<00:00, 110.13it/s]\n",
      "100%|████████████████████████████████████████████████████████████████████| 100/100 [00:00<00:00, 100.96it/s]\n",
      "100%|████████████████████████████████████████████████████████████████████| 100/100 [00:00<00:00, 110.39it/s]\n"
     ]
    },
    {
     "name": "stdout",
     "output_type": "stream",
     "text": [
      "extracting subgraph features..\n"
     ]
    },
    {
     "name": "stderr",
     "output_type": "stream",
     "text": [
      "100%|█████████████████████████████████████████████████████████████████████| 700/700 [15:32<00:00,  1.33s/it]\n"
     ]
    },
    {
     "name": "stdout",
     "output_type": "stream",
     "text": [
      "X.shape (700, 1)\n",
      "method = num_nodes, AUC = 0.500000\n",
      "X.shape (700, 1)\n",
      "method = num_edges, AUC = 0.901961\n",
      "X.shape (700, 1)\n",
      "method = min_degree, AUC = 0.667067\n",
      "X.shape (700, 1)\n",
      "method = max_degree, AUC = 0.821128\n",
      "X.shape (700, 1)\n",
      "method = diameter, AUC = 0.835934\n",
      "X.shape (700, 1)\n",
      "method = degree_assortativity_coef, AUC = 0.645058\n",
      "X.shape (700, 1)\n",
      "method = num_cliques, AUC = 0.731493\n",
      "X.shape (700, 1)\n",
      "method = Avg_clustering_coeff, AUC = 0.772309\n",
      "X.shape (700, 1)\n",
      "method = edeg_density, AUC = 0.901961\n",
      "X.shape (700, 25)\n",
      "method = MACC k0=5, AUC = 0.899160\n",
      "X.shape (700, 100)\n",
      "method = MACC k0=10, AUC = 0.921168\n",
      "X.shape (700, 225)\n",
      "method = MACC k0=15, AUC = 0.929972\n",
      "X.shape (700, 400)\n",
      "method = MACC k0=20, AUC = 0.919968\n",
      "Classifying subgraphs in Simmons81-NYU9 ...\n",
      "sampling subgraphs with k=30 nodes\n"
     ]
    },
    {
     "name": "stderr",
     "output_type": "stream",
     "text": [
      "100%|████████████████████████████████████████████████████████████████████| 100/100 [00:00<00:00, 721.29it/s]\n",
      "100%|████████████████████████████████████████████████████████████████████| 100/100 [00:00<00:00, 713.73it/s]\n",
      "100%|████████████████████████████████████████████████████████████████████| 100/100 [00:00<00:00, 816.07it/s]\n",
      "100%|████████████████████████████████████████████████████████████████████| 100/100 [00:00<00:00, 108.30it/s]\n",
      "100%|████████████████████████████████████████████████████████████████████| 100/100 [00:00<00:00, 113.49it/s]\n",
      "100%|████████████████████████████████████████████████████████████████████| 100/100 [00:00<00:00, 126.27it/s]\n",
      "100%|████████████████████████████████████████████████████████████████████| 100/100 [00:00<00:00, 100.92it/s]\n"
     ]
    },
    {
     "name": "stdout",
     "output_type": "stream",
     "text": [
      "extracting subgraph features..\n"
     ]
    },
    {
     "name": "stderr",
     "output_type": "stream",
     "text": [
      "100%|█████████████████████████████████████████████████████████████████████| 700/700 [15:34<00:00,  1.34s/it]\n"
     ]
    },
    {
     "name": "stdout",
     "output_type": "stream",
     "text": [
      "X.shape (700, 1)\n",
      "method = num_nodes, AUC = 0.500000\n",
      "X.shape (700, 1)\n",
      "method = num_edges, AUC = 0.956383\n",
      "X.shape (700, 1)\n",
      "method = min_degree, AUC = 0.770708\n",
      "X.shape (700, 1)\n",
      "method = max_degree, AUC = 0.837135\n",
      "X.shape (700, 1)\n",
      "method = diameter, AUC = 0.896559\n",
      "X.shape (700, 1)\n",
      "method = degree_assortativity_coef, AUC = 0.648259\n",
      "X.shape (700, 1)\n",
      "method = num_cliques, AUC = 0.840136\n",
      "X.shape (700, 1)\n",
      "method = Avg_clustering_coeff, AUC = 0.829932\n",
      "X.shape (700, 1)\n",
      "method = edeg_density, AUC = 0.956383\n",
      "X.shape (700, 25)\n",
      "method = MACC k0=5, AUC = 0.949180\n",
      "X.shape (700, 100)\n",
      "method = MACC k0=10, AUC = 0.949980\n",
      "X.shape (700, 225)\n",
      "method = MACC k0=15, AUC = 0.953181\n",
      "X.shape (700, 400)\n",
      "method = MACC k0=20, AUC = 0.944778\n",
      "Classifying subgraphs in Simmons81-Virginia63 ...\n",
      "sampling subgraphs with k=30 nodes\n"
     ]
    },
    {
     "name": "stderr",
     "output_type": "stream",
     "text": [
      "100%|████████████████████████████████████████████████████████████████████| 100/100 [00:00<00:00, 746.81it/s]\n",
      "100%|████████████████████████████████████████████████████████████████████| 100/100 [00:00<00:00, 715.45it/s]\n",
      "100%|████████████████████████████████████████████████████████████████████| 100/100 [00:00<00:00, 785.60it/s]\n",
      "100%|████████████████████████████████████████████████████████████████████| 100/100 [00:00<00:00, 106.79it/s]\n",
      "100%|████████████████████████████████████████████████████████████████████| 100/100 [00:00<00:00, 112.32it/s]\n",
      "100%|████████████████████████████████████████████████████████████████████| 100/100 [00:00<00:00, 126.31it/s]\n",
      "100%|████████████████████████████████████████████████████████████████████| 100/100 [00:00<00:00, 113.97it/s]\n"
     ]
    },
    {
     "name": "stdout",
     "output_type": "stream",
     "text": [
      "extracting subgraph features..\n"
     ]
    },
    {
     "name": "stderr",
     "output_type": "stream",
     "text": [
      "100%|█████████████████████████████████████████████████████████████████████| 700/700 [15:33<00:00,  1.33s/it]\n"
     ]
    },
    {
     "name": "stdout",
     "output_type": "stream",
     "text": [
      "X.shape (700, 1)\n",
      "method = num_nodes, AUC = 0.500000\n",
      "X.shape (700, 1)\n",
      "method = num_edges, AUC = 0.913165\n",
      "X.shape (700, 1)\n",
      "method = min_degree, AUC = 0.359144\n",
      "X.shape (700, 1)\n",
      "method = max_degree, AUC = 0.858743\n",
      "X.shape (700, 1)\n",
      "method = diameter, AUC = 0.853341\n",
      "X.shape (700, 1)\n",
      "method = degree_assortativity_coef, AUC = 0.541817\n",
      "X.shape (700, 1)\n",
      "method = num_cliques, AUC = 0.830332\n",
      "X.shape (700, 1)\n",
      "method = Avg_clustering_coeff, AUC = 0.825530\n",
      "X.shape (700, 1)\n",
      "method = edeg_density, AUC = 0.913165\n",
      "X.shape (700, 25)\n",
      "method = MACC k0=5, AUC = 0.904362\n",
      "X.shape (700, 100)\n",
      "method = MACC k0=10, AUC = 0.915566\n",
      "X.shape (700, 225)\n",
      "method = MACC k0=15, AUC = 0.918367\n",
      "X.shape (700, 400)\n",
      "method = MACC k0=20, AUC = 0.924370\n",
      "Classifying subgraphs in Simmons81-UCLA26 ...\n",
      "sampling subgraphs with k=30 nodes\n"
     ]
    },
    {
     "name": "stderr",
     "output_type": "stream",
     "text": [
      "100%|████████████████████████████████████████████████████████████████████| 100/100 [00:00<00:00, 830.34it/s]\n",
      "100%|████████████████████████████████████████████████████████████████████| 100/100 [00:00<00:00, 684.36it/s]\n",
      "100%|████████████████████████████████████████████████████████████████████| 100/100 [00:00<00:00, 816.73it/s]\n",
      "100%|████████████████████████████████████████████████████████████████████| 100/100 [00:00<00:00, 107.77it/s]\n",
      "100%|████████████████████████████████████████████████████████████████████| 100/100 [00:00<00:00, 116.17it/s]\n",
      "100%|████████████████████████████████████████████████████████████████████| 100/100 [00:00<00:00, 128.03it/s]\n",
      "100%|████████████████████████████████████████████████████████████████████| 100/100 [00:00<00:00, 101.54it/s]\n"
     ]
    },
    {
     "name": "stdout",
     "output_type": "stream",
     "text": [
      "extracting subgraph features..\n"
     ]
    },
    {
     "name": "stderr",
     "output_type": "stream",
     "text": [
      "100%|█████████████████████████████████████████████████████████████████████| 700/700 [15:35<00:00,  1.34s/it]\n"
     ]
    },
    {
     "name": "stdout",
     "output_type": "stream",
     "text": [
      "X.shape (700, 1)\n",
      "method = num_nodes, AUC = 0.500000\n",
      "X.shape (700, 1)\n",
      "method = num_edges, AUC = 0.829932\n",
      "X.shape (700, 1)\n",
      "method = min_degree, AUC = 0.622649\n",
      "X.shape (700, 1)\n",
      "method = max_degree, AUC = 0.687075\n",
      "X.shape (700, 1)\n",
      "method = diameter, AUC = 0.736895\n",
      "X.shape (700, 1)\n",
      "method = degree_assortativity_coef, AUC = 0.595438\n",
      "X.shape (700, 1)\n",
      "method = num_cliques, AUC = 0.674870\n",
      "X.shape (700, 1)\n",
      "method = Avg_clustering_coeff, AUC = 0.733093\n",
      "X.shape (700, 1)\n",
      "method = edeg_density, AUC = 0.829932\n",
      "X.shape (700, 25)\n",
      "method = MACC k0=5, AUC = 0.898760\n",
      "X.shape (700, 100)\n",
      "method = MACC k0=10, AUC = 0.936375\n",
      "X.shape (700, 225)\n",
      "method = MACC k0=15, AUC = 0.925170\n",
      "X.shape (700, 400)\n",
      "method = MACC k0=20, AUC = 0.914766\n",
      "Classifying subgraphs in Simmons81-Wisconsin87 ...\n",
      "sampling subgraphs with k=30 nodes\n"
     ]
    },
    {
     "name": "stderr",
     "output_type": "stream",
     "text": [
      "100%|████████████████████████████████████████████████████████████████████| 100/100 [00:00<00:00, 764.17it/s]\n",
      "100%|████████████████████████████████████████████████████████████████████| 100/100 [00:00<00:00, 708.80it/s]\n",
      "100%|████████████████████████████████████████████████████████████████████| 100/100 [00:00<00:00, 825.79it/s]\n",
      "100%|████████████████████████████████████████████████████████████████████| 100/100 [00:00<00:00, 105.24it/s]\n",
      "100%|████████████████████████████████████████████████████████████████████| 100/100 [00:00<00:00, 111.36it/s]\n",
      "100%|████████████████████████████████████████████████████████████████████| 100/100 [00:00<00:00, 125.79it/s]\n",
      "100%|████████████████████████████████████████████████████████████████████| 100/100 [00:00<00:00, 111.20it/s]\n"
     ]
    },
    {
     "name": "stdout",
     "output_type": "stream",
     "text": [
      "extracting subgraph features..\n"
     ]
    },
    {
     "name": "stderr",
     "output_type": "stream",
     "text": [
      "100%|█████████████████████████████████████████████████████████████████████| 700/700 [15:33<00:00,  1.33s/it]\n"
     ]
    },
    {
     "name": "stdout",
     "output_type": "stream",
     "text": [
      "X.shape (700, 1)\n",
      "method = num_nodes, AUC = 0.500000\n",
      "X.shape (700, 1)\n",
      "method = num_edges, AUC = 0.866347\n",
      "X.shape (700, 1)\n",
      "method = min_degree, AUC = 0.555422\n",
      "X.shape (700, 1)\n",
      "method = max_degree, AUC = 0.819528\n",
      "X.shape (700, 1)\n",
      "method = diameter, AUC = 0.819728\n",
      "X.shape (700, 1)\n",
      "method = degree_assortativity_coef, AUC = 0.715086\n",
      "X.shape (700, 1)\n",
      "method = num_cliques, AUC = 0.762905\n",
      "X.shape (700, 1)\n",
      "method = Avg_clustering_coeff, AUC = 0.787115\n",
      "X.shape (700, 1)\n",
      "method = edeg_density, AUC = 0.866347\n",
      "X.shape (700, 25)\n",
      "method = MACC k0=5, AUC = 0.896759\n",
      "X.shape (700, 100)\n",
      "method = MACC k0=10, AUC = 0.918768\n",
      "X.shape (700, 225)\n",
      "method = MACC k0=15, AUC = 0.895558\n",
      "X.shape (700, 400)\n",
      "method = MACC k0=20, AUC = 0.894758\n",
      "Classifying subgraphs in Reed98-NYU9 ...\n",
      "sampling subgraphs with k=30 nodes\n"
     ]
    },
    {
     "name": "stderr",
     "output_type": "stream",
     "text": [
      "100%|████████████████████████████████████████████████████████████████████| 100/100 [00:00<00:00, 669.82it/s]\n",
      "100%|████████████████████████████████████████████████████████████████████| 100/100 [00:00<00:00, 707.30it/s]\n",
      "100%|████████████████████████████████████████████████████████████████████| 100/100 [00:00<00:00, 800.76it/s]\n",
      "100%|████████████████████████████████████████████████████████████████████| 100/100 [00:00<00:00, 112.61it/s]\n",
      "100%|████████████████████████████████████████████████████████████████████| 100/100 [00:00<00:00, 112.22it/s]\n",
      "100%|████████████████████████████████████████████████████████████████████| 100/100 [00:00<00:00, 124.70it/s]\n",
      "100%|█████████████████████████████████████████████████████████████████████| 100/100 [00:01<00:00, 98.45it/s]\n"
     ]
    },
    {
     "name": "stdout",
     "output_type": "stream",
     "text": [
      "extracting subgraph features..\n"
     ]
    },
    {
     "name": "stderr",
     "output_type": "stream",
     "text": [
      "100%|█████████████████████████████████████████████████████████████████████| 700/700 [15:21<00:00,  1.32s/it]\n"
     ]
    },
    {
     "name": "stdout",
     "output_type": "stream",
     "text": [
      "X.shape (700, 1)\n",
      "method = num_nodes, AUC = 0.500000\n",
      "X.shape (700, 1)\n",
      "method = num_edges, AUC = 0.846539\n",
      "X.shape (700, 1)\n",
      "method = min_degree, AUC = 0.365546\n",
      "X.shape (700, 1)\n",
      "method = max_degree, AUC = 0.775110\n",
      "X.shape (700, 1)\n",
      "method = diameter, AUC = 0.817327\n",
      "X.shape (700, 1)\n",
      "method = degree_assortativity_coef, AUC = 0.549820\n",
      "X.shape (700, 1)\n",
      "method = num_cliques, AUC = 0.726691\n",
      "X.shape (700, 1)\n",
      "method = Avg_clustering_coeff, AUC = 0.782713\n",
      "X.shape (700, 1)\n",
      "method = edeg_density, AUC = 0.846539\n",
      "X.shape (700, 25)\n",
      "method = MACC k0=5, AUC = 0.895158\n",
      "X.shape (700, 100)\n",
      "method = MACC k0=10, AUC = 0.958784\n",
      "X.shape (700, 225)\n",
      "method = MACC k0=15, AUC = 0.959984\n",
      "X.shape (700, 400)\n",
      "method = MACC k0=20, AUC = 0.946379\n",
      "Classifying subgraphs in Reed98-Virginia63 ...\n",
      "sampling subgraphs with k=30 nodes\n"
     ]
    },
    {
     "name": "stderr",
     "output_type": "stream",
     "text": [
      "100%|████████████████████████████████████████████████████████████████████| 100/100 [00:00<00:00, 816.07it/s]\n",
      "100%|████████████████████████████████████████████████████████████████████| 100/100 [00:00<00:00, 755.94it/s]\n",
      "100%|████████████████████████████████████████████████████████████████████| 100/100 [00:00<00:00, 864.81it/s]\n",
      "100%|████████████████████████████████████████████████████████████████████| 100/100 [00:00<00:00, 131.90it/s]\n",
      "100%|████████████████████████████████████████████████████████████████████| 100/100 [00:00<00:00, 133.55it/s]\n",
      "100%|████████████████████████████████████████████████████████████████████| 100/100 [00:00<00:00, 147.23it/s]\n",
      "100%|████████████████████████████████████████████████████████████████████| 100/100 [00:00<00:00, 120.85it/s]\n"
     ]
    },
    {
     "name": "stdout",
     "output_type": "stream",
     "text": [
      "extracting subgraph features..\n"
     ]
    },
    {
     "name": "stderr",
     "output_type": "stream",
     "text": [
      "100%|█████████████████████████████████████████████████████████████████████| 700/700 [15:08<00:00,  1.30s/it]\n"
     ]
    },
    {
     "name": "stdout",
     "output_type": "stream",
     "text": [
      "X.shape (700, 1)\n",
      "method = num_nodes, AUC = 0.500000\n",
      "X.shape (700, 1)\n",
      "method = num_edges, AUC = 0.844138\n",
      "X.shape (700, 1)\n",
      "method = min_degree, AUC = 0.594638\n",
      "X.shape (700, 1)\n",
      "method = max_degree, AUC = 0.804122\n",
      "X.shape (700, 1)\n",
      "method = diameter, AUC = 0.846339\n",
      "X.shape (700, 1)\n",
      "method = degree_assortativity_coef, AUC = 0.701881\n",
      "X.shape (700, 1)\n",
      "method = num_cliques, AUC = 0.763906\n",
      "X.shape (700, 1)\n",
      "method = Avg_clustering_coeff, AUC = 0.801521\n",
      "X.shape (700, 1)\n",
      "method = edeg_density, AUC = 0.844138\n",
      "X.shape (700, 25)\n",
      "method = MACC k0=5, AUC = 0.917167\n",
      "X.shape (700, 100)\n",
      "method = MACC k0=10, AUC = 0.947979\n",
      "X.shape (700, 225)\n",
      "method = MACC k0=15, AUC = 0.952381\n",
      "X.shape (700, 400)\n",
      "method = MACC k0=20, AUC = 0.939176\n",
      "Classifying subgraphs in Reed98-UCLA26 ...\n",
      "sampling subgraphs with k=30 nodes\n"
     ]
    },
    {
     "name": "stderr",
     "output_type": "stream",
     "text": [
      "100%|████████████████████████████████████████████████████████████████████| 100/100 [00:00<00:00, 831.13it/s]\n",
      "100%|████████████████████████████████████████████████████████████████████| 100/100 [00:00<00:00, 744.19it/s]\n",
      "100%|████████████████████████████████████████████████████████████████████| 100/100 [00:00<00:00, 834.98it/s]\n",
      "100%|████████████████████████████████████████████████████████████████████| 100/100 [00:00<00:00, 110.00it/s]\n",
      "100%|████████████████████████████████████████████████████████████████████| 100/100 [00:00<00:00, 107.21it/s]\n",
      "100%|████████████████████████████████████████████████████████████████████| 100/100 [00:00<00:00, 123.94it/s]\n",
      "100%|████████████████████████████████████████████████████████████████████| 100/100 [00:00<00:00, 101.02it/s]\n"
     ]
    },
    {
     "name": "stdout",
     "output_type": "stream",
     "text": [
      "extracting subgraph features..\n"
     ]
    },
    {
     "name": "stderr",
     "output_type": "stream",
     "text": [
      "100%|█████████████████████████████████████████████████████████████████████| 700/700 [15:09<00:00,  1.30s/it]\n"
     ]
    },
    {
     "name": "stdout",
     "output_type": "stream",
     "text": [
      "X.shape (700, 1)\n",
      "method = num_nodes, AUC = 0.500000\n",
      "X.shape (700, 1)\n",
      "method = num_edges, AUC = 0.900160\n",
      "X.shape (700, 1)\n",
      "method = min_degree, AUC = 0.649660\n",
      "X.shape (700, 1)\n",
      "method = max_degree, AUC = 0.805922\n",
      "X.shape (700, 1)\n",
      "method = diameter, AUC = 0.866747\n",
      "X.shape (700, 1)\n",
      "method = degree_assortativity_coef, AUC = 0.647059\n",
      "X.shape (700, 1)\n",
      "method = num_cliques, AUC = 0.797719\n",
      "X.shape (700, 1)\n",
      "method = Avg_clustering_coeff, AUC = 0.789516\n",
      "X.shape (700, 1)\n",
      "method = edeg_density, AUC = 0.900160\n",
      "X.shape (700, 25)\n",
      "method = MACC k0=5, AUC = 0.892357\n",
      "X.shape (700, 100)\n",
      "method = MACC k0=10, AUC = 0.919168\n",
      "X.shape (700, 225)\n",
      "method = MACC k0=15, AUC = 0.929572\n",
      "X.shape (700, 400)\n",
      "method = MACC k0=20, AUC = 0.916367\n",
      "Classifying subgraphs in Reed98-Wisconsin87 ...\n",
      "sampling subgraphs with k=30 nodes\n"
     ]
    },
    {
     "name": "stderr",
     "output_type": "stream",
     "text": [
      "100%|████████████████████████████████████████████████████████████████████| 100/100 [00:00<00:00, 828.01it/s]\n",
      "100%|████████████████████████████████████████████████████████████████████| 100/100 [00:00<00:00, 716.80it/s]\n",
      "100%|████████████████████████████████████████████████████████████████████| 100/100 [00:00<00:00, 825.94it/s]\n",
      "100%|████████████████████████████████████████████████████████████████████| 100/100 [00:00<00:00, 111.77it/s]\n",
      "100%|████████████████████████████████████████████████████████████████████| 100/100 [00:00<00:00, 109.45it/s]\n",
      "100%|████████████████████████████████████████████████████████████████████| 100/100 [00:00<00:00, 125.19it/s]\n",
      "100%|████████████████████████████████████████████████████████████████████| 100/100 [00:00<00:00, 101.98it/s]\n"
     ]
    },
    {
     "name": "stdout",
     "output_type": "stream",
     "text": [
      "extracting subgraph features..\n"
     ]
    },
    {
     "name": "stderr",
     "output_type": "stream",
     "text": [
      "100%|█████████████████████████████████████████████████████████████████████| 700/700 [15:35<00:00,  1.34s/it]\n"
     ]
    },
    {
     "name": "stdout",
     "output_type": "stream",
     "text": [
      "X.shape (700, 1)\n",
      "method = num_nodes, AUC = 0.500000\n",
      "X.shape (700, 1)\n",
      "method = num_edges, AUC = 0.887155\n",
      "X.shape (700, 1)\n",
      "method = min_degree, AUC = 0.580032\n",
      "X.shape (700, 1)\n",
      "method = max_degree, AUC = 0.835734\n",
      "X.shape (700, 1)\n",
      "method = diameter, AUC = 0.848139\n",
      "X.shape (700, 1)\n",
      "method = degree_assortativity_coef, AUC = 0.695078\n",
      "X.shape (700, 1)\n",
      "method = num_cliques, AUC = 0.765506\n",
      "X.shape (700, 1)\n",
      "method = Avg_clustering_coeff, AUC = 0.823529\n",
      "X.shape (700, 1)\n",
      "method = edeg_density, AUC = 0.887155\n",
      "X.shape (700, 25)\n",
      "method = MACC k0=5, AUC = 0.943177\n",
      "X.shape (700, 100)\n",
      "method = MACC k0=10, AUC = 0.943577\n",
      "X.shape (700, 225)\n",
      "method = MACC k0=15, AUC = 0.948780\n",
      "X.shape (700, 400)\n",
      "method = MACC k0=20, AUC = 0.952781\n",
      "Classifying subgraphs in NYU9-Virginia63 ...\n",
      "sampling subgraphs with k=30 nodes\n"
     ]
    },
    {
     "name": "stderr",
     "output_type": "stream",
     "text": [
      "100%|████████████████████████████████████████████████████████████████████| 100/100 [00:00<00:00, 724.84it/s]\n",
      "100%|████████████████████████████████████████████████████████████████████| 100/100 [00:00<00:00, 733.33it/s]\n",
      "100%|████████████████████████████████████████████████████████████████████| 100/100 [00:00<00:00, 835.76it/s]\n",
      "100%|████████████████████████████████████████████████████████████████████| 100/100 [00:00<00:00, 121.33it/s]\n",
      "100%|████████████████████████████████████████████████████████████████████| 100/100 [00:00<00:00, 119.83it/s]\n",
      "100%|████████████████████████████████████████████████████████████████████| 100/100 [00:00<00:00, 134.57it/s]\n",
      "100%|████████████████████████████████████████████████████████████████████| 100/100 [00:00<00:00, 112.48it/s]\n"
     ]
    },
    {
     "name": "stdout",
     "output_type": "stream",
     "text": [
      "extracting subgraph features..\n"
     ]
    },
    {
     "name": "stderr",
     "output_type": "stream",
     "text": [
      "100%|█████████████████████████████████████████████████████████████████████| 700/700 [15:32<00:00,  1.33s/it]\n"
     ]
    },
    {
     "name": "stdout",
     "output_type": "stream",
     "text": [
      "X.shape (700, 1)\n",
      "method = num_nodes, AUC = 0.500000\n",
      "X.shape (700, 1)\n",
      "method = num_edges, AUC = 0.955782\n",
      "X.shape (700, 1)\n",
      "method = min_degree, AUC = 0.586835\n",
      "X.shape (700, 1)\n",
      "method = max_degree, AUC = 0.873950\n",
      "X.shape (700, 1)\n",
      "method = diameter, AUC = 0.906363\n",
      "X.shape (700, 1)\n",
      "method = degree_assortativity_coef, AUC = 0.398559\n",
      "X.shape (700, 1)\n",
      "method = num_cliques, AUC = 0.855542\n",
      "X.shape (700, 1)\n",
      "method = Avg_clustering_coeff, AUC = 0.864346\n",
      "X.shape (700, 1)\n",
      "method = edeg_density, AUC = 0.955782\n",
      "X.shape (700, 25)\n",
      "method = MACC k0=5, AUC = 0.979192\n",
      "X.shape (700, 100)\n",
      "method = MACC k0=10, AUC = 0.969188\n",
      "X.shape (700, 225)\n",
      "method = MACC k0=15, AUC = 0.982393\n",
      "X.shape (700, 400)\n",
      "method = MACC k0=20, AUC = 0.980392\n",
      "Classifying subgraphs in NYU9-UCLA26 ...\n",
      "sampling subgraphs with k=30 nodes\n"
     ]
    },
    {
     "name": "stderr",
     "output_type": "stream",
     "text": [
      "100%|████████████████████████████████████████████████████████████████████| 100/100 [00:00<00:00, 804.80it/s]\n",
      "100%|████████████████████████████████████████████████████████████████████| 100/100 [00:00<00:00, 622.32it/s]\n",
      "100%|████████████████████████████████████████████████████████████████████| 100/100 [00:00<00:00, 852.98it/s]\n",
      "100%|████████████████████████████████████████████████████████████████████| 100/100 [00:00<00:00, 119.81it/s]\n",
      "100%|████████████████████████████████████████████████████████████████████| 100/100 [00:00<00:00, 125.49it/s]\n",
      "100%|████████████████████████████████████████████████████████████████████| 100/100 [00:00<00:00, 138.33it/s]\n",
      "100%|████████████████████████████████████████████████████████████████████| 100/100 [00:00<00:00, 110.24it/s]\n"
     ]
    },
    {
     "name": "stdout",
     "output_type": "stream",
     "text": [
      "extracting subgraph features..\n"
     ]
    },
    {
     "name": "stderr",
     "output_type": "stream",
     "text": [
      "100%|█████████████████████████████████████████████████████████████████████| 700/700 [15:34<00:00,  1.34s/it]\n"
     ]
    },
    {
     "name": "stdout",
     "output_type": "stream",
     "text": [
      "X.shape (700, 1)\n",
      "method = num_nodes, AUC = 0.500000\n",
      "X.shape (700, 1)\n",
      "method = num_edges, AUC = 0.856943\n",
      "X.shape (700, 1)\n",
      "method = min_degree, AUC = 0.617847\n",
      "X.shape (700, 1)\n",
      "method = max_degree, AUC = 0.813926\n",
      "X.shape (700, 1)\n",
      "method = diameter, AUC = 0.856543\n",
      "X.shape (700, 1)\n",
      "method = degree_assortativity_coef, AUC = 0.670268\n",
      "X.shape (700, 1)\n",
      "method = num_cliques, AUC = 0.716687\n",
      "X.shape (700, 1)\n",
      "method = Avg_clustering_coeff, AUC = 0.713886\n",
      "X.shape (700, 1)\n",
      "method = edeg_density, AUC = 0.856943\n",
      "X.shape (700, 25)\n",
      "method = MACC k0=5, AUC = 0.855142\n",
      "X.shape (700, 100)\n",
      "method = MACC k0=10, AUC = 0.927171\n",
      "X.shape (700, 225)\n",
      "method = MACC k0=15, AUC = 0.911565\n",
      "X.shape (700, 400)\n",
      "method = MACC k0=20, AUC = 0.927571\n",
      "Classifying subgraphs in NYU9-Wisconsin87 ...\n",
      "sampling subgraphs with k=30 nodes\n"
     ]
    },
    {
     "name": "stderr",
     "output_type": "stream",
     "text": [
      "100%|████████████████████████████████████████████████████████████████████| 100/100 [00:00<00:00, 815.13it/s]\n",
      "100%|████████████████████████████████████████████████████████████████████| 100/100 [00:00<00:00, 709.06it/s]\n",
      "100%|████████████████████████████████████████████████████████████████████| 100/100 [00:00<00:00, 813.79it/s]\n",
      "100%|█████████████████████████████████████████████████████████████████████| 100/100 [00:01<00:00, 83.50it/s]\n",
      "100%|████████████████████████████████████████████████████████████████████| 100/100 [00:00<00:00, 104.75it/s]\n",
      "100%|████████████████████████████████████████████████████████████████████| 100/100 [00:00<00:00, 122.92it/s]\n",
      "100%|█████████████████████████████████████████████████████████████████████| 100/100 [00:01<00:00, 76.15it/s]\n"
     ]
    },
    {
     "name": "stdout",
     "output_type": "stream",
     "text": [
      "extracting subgraph features..\n"
     ]
    },
    {
     "name": "stderr",
     "output_type": "stream",
     "text": [
      "100%|█████████████████████████████████████████████████████████████████████| 700/700 [15:34<00:00,  1.34s/it]\n"
     ]
    },
    {
     "name": "stdout",
     "output_type": "stream",
     "text": [
      "X.shape (700, 1)\n",
      "method = num_nodes, AUC = 0.500000\n",
      "X.shape (700, 1)\n",
      "method = num_edges, AUC = 0.904162\n",
      "X.shape (700, 1)\n",
      "method = min_degree, AUC = 0.597239\n",
      "X.shape (700, 1)\n",
      "method = max_degree, AUC = 0.796118\n",
      "X.shape (700, 1)\n",
      "method = diameter, AUC = 0.831533\n",
      "X.shape (700, 1)\n",
      "method = degree_assortativity_coef, AUC = 0.667467\n",
      "X.shape (700, 1)\n",
      "method = num_cliques, AUC = 0.713085\n",
      "X.shape (700, 1)\n",
      "method = Avg_clustering_coeff, AUC = 0.751901\n",
      "X.shape (700, 1)\n",
      "method = edeg_density, AUC = 0.904162\n",
      "X.shape (700, 25)\n",
      "method = MACC k0=5, AUC = 0.875550\n",
      "X.shape (700, 100)\n",
      "method = MACC k0=10, AUC = 0.924370\n",
      "X.shape (700, 225)\n",
      "method = MACC k0=15, AUC = 0.928371\n",
      "X.shape (700, 400)\n",
      "method = MACC k0=20, AUC = 0.921168\n",
      "Classifying subgraphs in Virginia63-UCLA26 ...\n",
      "sampling subgraphs with k=30 nodes\n"
     ]
    },
    {
     "name": "stderr",
     "output_type": "stream",
     "text": [
      "100%|████████████████████████████████████████████████████████████████████| 100/100 [00:00<00:00, 707.82it/s]\n",
      "100%|████████████████████████████████████████████████████████████████████| 100/100 [00:00<00:00, 630.84it/s]\n",
      "100%|████████████████████████████████████████████████████████████████████| 100/100 [00:00<00:00, 821.75it/s]\n",
      "100%|████████████████████████████████████████████████████████████████████| 100/100 [00:00<00:00, 114.59it/s]\n",
      "100%|████████████████████████████████████████████████████████████████████| 100/100 [00:00<00:00, 122.05it/s]\n",
      "100%|████████████████████████████████████████████████████████████████████| 100/100 [00:00<00:00, 137.77it/s]\n",
      "100%|████████████████████████████████████████████████████████████████████| 100/100 [00:00<00:00, 111.61it/s]\n"
     ]
    },
    {
     "name": "stdout",
     "output_type": "stream",
     "text": [
      "extracting subgraph features..\n"
     ]
    },
    {
     "name": "stderr",
     "output_type": "stream",
     "text": [
      "100%|█████████████████████████████████████████████████████████████████████| 700/700 [15:32<00:00,  1.33s/it]\n"
     ]
    },
    {
     "name": "stdout",
     "output_type": "stream",
     "text": [
      "X.shape (700, 1)\n",
      "method = num_nodes, AUC = 0.500000\n",
      "X.shape (700, 1)\n",
      "method = num_edges, AUC = 0.869948\n",
      "X.shape (700, 1)\n",
      "method = min_degree, AUC = 0.565826\n",
      "X.shape (700, 1)\n",
      "method = max_degree, AUC = 0.769708\n",
      "X.shape (700, 1)\n",
      "method = diameter, AUC = 0.833533\n",
      "X.shape (700, 1)\n",
      "method = degree_assortativity_coef, AUC = 0.622649\n",
      "X.shape (700, 1)\n",
      "method = num_cliques, AUC = 0.793117\n",
      "X.shape (700, 1)\n",
      "method = Avg_clustering_coeff, AUC = 0.804322\n",
      "X.shape (700, 1)\n",
      "method = edeg_density, AUC = 0.869948\n",
      "X.shape (700, 25)\n",
      "method = MACC k0=5, AUC = 0.889156\n",
      "X.shape (700, 100)\n",
      "method = MACC k0=10, AUC = 0.917967\n",
      "X.shape (700, 225)\n",
      "method = MACC k0=15, AUC = 0.924370\n",
      "X.shape (700, 400)\n",
      "method = MACC k0=20, AUC = 0.924770\n",
      "Classifying subgraphs in Virginia63-Wisconsin87 ...\n",
      "sampling subgraphs with k=30 nodes\n"
     ]
    },
    {
     "name": "stderr",
     "output_type": "stream",
     "text": [
      "100%|████████████████████████████████████████████████████████████████████| 100/100 [00:00<00:00, 761.09it/s]\n",
      "100%|████████████████████████████████████████████████████████████████████| 100/100 [00:00<00:00, 697.41it/s]\n",
      "100%|████████████████████████████████████████████████████████████████████| 100/100 [00:00<00:00, 842.77it/s]\n",
      "100%|████████████████████████████████████████████████████████████████████| 100/100 [00:00<00:00, 123.82it/s]\n",
      "100%|████████████████████████████████████████████████████████████████████| 100/100 [00:00<00:00, 121.67it/s]\n",
      "100%|████████████████████████████████████████████████████████████████████| 100/100 [00:00<00:00, 109.42it/s]\n",
      "100%|████████████████████████████████████████████████████████████████████| 100/100 [00:00<00:00, 108.95it/s]\n"
     ]
    },
    {
     "name": "stdout",
     "output_type": "stream",
     "text": [
      "extracting subgraph features..\n"
     ]
    },
    {
     "name": "stderr",
     "output_type": "stream",
     "text": [
      "100%|█████████████████████████████████████████████████████████████████████| 700/700 [15:35<00:00,  1.34s/it]\n"
     ]
    },
    {
     "name": "stdout",
     "output_type": "stream",
     "text": [
      "X.shape (700, 1)\n",
      "method = num_nodes, AUC = 0.500000\n",
      "X.shape (700, 1)\n",
      "method = num_edges, AUC = 0.811124\n",
      "X.shape (700, 1)\n",
      "method = min_degree, AUC = 0.523810\n",
      "X.shape (700, 1)\n",
      "method = max_degree, AUC = 0.742497\n",
      "X.shape (700, 1)\n",
      "method = diameter, AUC = 0.783713\n",
      "X.shape (700, 1)\n",
      "method = degree_assortativity_coef, AUC = 0.554222\n",
      "X.shape (700, 1)\n",
      "method = num_cliques, AUC = 0.708483\n",
      "X.shape (700, 1)\n",
      "method = Avg_clustering_coeff, AUC = 0.735494\n",
      "X.shape (700, 1)\n",
      "method = edeg_density, AUC = 0.811124\n",
      "X.shape (700, 25)\n",
      "method = MACC k0=5, AUC = 0.920768\n",
      "X.shape (700, 100)\n",
      "method = MACC k0=10, AUC = 0.951981\n",
      "X.shape (700, 225)\n",
      "method = MACC k0=15, AUC = 0.957583\n",
      "X.shape (700, 400)\n",
      "method = MACC k0=20, AUC = 0.942777\n",
      "Classifying subgraphs in UCLA26-Wisconsin87 ...\n",
      "sampling subgraphs with k=30 nodes\n"
     ]
    },
    {
     "name": "stderr",
     "output_type": "stream",
     "text": [
      "100%|████████████████████████████████████████████████████████████████████| 100/100 [00:00<00:00, 842.50it/s]\n",
      "100%|████████████████████████████████████████████████████████████████████| 100/100 [00:00<00:00, 740.31it/s]\n",
      "100%|████████████████████████████████████████████████████████████████████| 100/100 [00:00<00:00, 831.89it/s]\n",
      "100%|████████████████████████████████████████████████████████████████████| 100/100 [00:00<00:00, 120.49it/s]\n",
      "100%|████████████████████████████████████████████████████████████████████| 100/100 [00:00<00:00, 122.27it/s]\n",
      "100%|████████████████████████████████████████████████████████████████████| 100/100 [00:00<00:00, 137.57it/s]\n",
      "100%|████████████████████████████████████████████████████████████████████| 100/100 [00:00<00:00, 109.36it/s]\n"
     ]
    },
    {
     "name": "stdout",
     "output_type": "stream",
     "text": [
      "extracting subgraph features..\n"
     ]
    },
    {
     "name": "stderr",
     "output_type": "stream",
     "text": [
      "100%|█████████████████████████████████████████████████████████████████████| 700/700 [15:33<00:00,  1.33s/it]\n"
     ]
    },
    {
     "name": "stdout",
     "output_type": "stream",
     "text": [
      "X.shape (700, 1)\n",
      "method = num_nodes, AUC = 0.500000\n",
      "X.shape (700, 1)\n",
      "method = num_edges, AUC = 0.873149\n",
      "X.shape (700, 1)\n",
      "method = min_degree, AUC = 0.612245\n",
      "X.shape (700, 1)\n",
      "method = max_degree, AUC = 0.790516\n",
      "X.shape (700, 1)\n",
      "method = diameter, AUC = 0.857543\n",
      "X.shape (700, 1)\n",
      "method = degree_assortativity_coef, AUC = 0.664666\n",
      "X.shape (700, 1)\n",
      "method = num_cliques, AUC = 0.761104\n",
      "X.shape (700, 1)\n",
      "method = Avg_clustering_coeff, AUC = 0.841136\n",
      "X.shape (700, 1)\n",
      "method = edeg_density, AUC = 0.873149\n",
      "X.shape (700, 25)\n",
      "method = MACC k0=5, AUC = 0.874750\n",
      "X.shape (700, 100)\n",
      "method = MACC k0=10, AUC = 0.918768\n",
      "X.shape (700, 225)\n",
      "method = MACC k0=15, AUC = 0.927971\n",
      "X.shape (700, 400)\n",
      "method = MACC k0=20, AUC = 0.920368\n",
      "Classifying subgraphs in Caltech36-Simmons81 ...\n",
      "sampling subgraphs with k=30 nodes\n"
     ]
    },
    {
     "name": "stderr",
     "output_type": "stream",
     "text": [
      "100%|████████████████████████████████████████████████████████████████████| 100/100 [00:00<00:00, 775.73it/s]\n",
      "100%|████████████████████████████████████████████████████████████████████| 100/100 [00:00<00:00, 675.94it/s]\n",
      "100%|████████████████████████████████████████████████████████████████████| 100/100 [00:00<00:00, 866.04it/s]\n",
      "100%|████████████████████████████████████████████████████████████████████| 100/100 [00:00<00:00, 123.92it/s]\n",
      "100%|████████████████████████████████████████████████████████████████████| 100/100 [00:00<00:00, 123.30it/s]\n",
      "100%|████████████████████████████████████████████████████████████████████| 100/100 [00:00<00:00, 138.99it/s]\n",
      "100%|████████████████████████████████████████████████████████████████████| 100/100 [00:00<00:00, 111.86it/s]\n"
     ]
    },
    {
     "name": "stdout",
     "output_type": "stream",
     "text": [
      "extracting subgraph features..\n"
     ]
    },
    {
     "name": "stderr",
     "output_type": "stream",
     "text": [
      "100%|█████████████████████████████████████████████████████████████████████| 700/700 [15:32<00:00,  1.33s/it]\n"
     ]
    },
    {
     "name": "stdout",
     "output_type": "stream",
     "text": [
      "X.shape (700, 1)\n",
      "method = num_nodes, AUC = 0.500000\n",
      "X.shape (700, 1)\n",
      "method = num_edges, AUC = 0.867947\n",
      "X.shape (700, 1)\n",
      "method = min_degree, AUC = 0.640656\n",
      "X.shape (700, 1)\n",
      "method = max_degree, AUC = 0.786915\n",
      "X.shape (700, 1)\n",
      "method = diameter, AUC = 0.873950\n",
      "X.shape (700, 1)\n",
      "method = degree_assortativity_coef, AUC = 0.585834\n",
      "X.shape (700, 1)\n",
      "method = num_cliques, AUC = 0.745098\n",
      "X.shape (700, 1)\n",
      "method = Avg_clustering_coeff, AUC = 0.706683\n",
      "X.shape (700, 1)\n",
      "method = edeg_density, AUC = 0.867947\n",
      "X.shape (700, 25)\n",
      "method = MACC k0=5, AUC = 0.912365\n",
      "X.shape (700, 100)\n",
      "method = MACC k0=10, AUC = 0.930372\n",
      "X.shape (700, 225)\n",
      "method = MACC k0=15, AUC = 0.932773\n",
      "X.shape (700, 400)\n",
      "method = MACC k0=20, AUC = 0.940376\n",
      "Classifying subgraphs in Caltech36-Reed98 ...\n",
      "sampling subgraphs with k=30 nodes\n"
     ]
    },
    {
     "name": "stderr",
     "output_type": "stream",
     "text": [
      "100%|████████████████████████████████████████████████████████████████████| 100/100 [00:00<00:00, 419.33it/s]\n",
      "100%|████████████████████████████████████████████████████████████████████| 100/100 [00:00<00:00, 628.99it/s]\n",
      "100%|████████████████████████████████████████████████████████████████████| 100/100 [00:00<00:00, 843.41it/s]\n",
      "100%|████████████████████████████████████████████████████████████████████| 100/100 [00:00<00:00, 118.47it/s]\n",
      "100%|████████████████████████████████████████████████████████████████████| 100/100 [00:00<00:00, 119.91it/s]\n",
      "100%|████████████████████████████████████████████████████████████████████| 100/100 [00:00<00:00, 138.85it/s]\n",
      "100%|████████████████████████████████████████████████████████████████████| 100/100 [00:00<00:00, 113.44it/s]\n"
     ]
    },
    {
     "name": "stdout",
     "output_type": "stream",
     "text": [
      "extracting subgraph features..\n"
     ]
    },
    {
     "name": "stderr",
     "output_type": "stream",
     "text": [
      "100%|█████████████████████████████████████████████████████████████████████| 700/700 [15:33<00:00,  1.33s/it]\n"
     ]
    },
    {
     "name": "stdout",
     "output_type": "stream",
     "text": [
      "X.shape (700, 1)\n",
      "method = num_nodes, AUC = 0.500000\n",
      "X.shape (700, 1)\n",
      "method = num_edges, AUC = 0.905362\n",
      "X.shape (700, 1)\n",
      "method = min_degree, AUC = 0.705282\n",
      "X.shape (700, 1)\n",
      "method = max_degree, AUC = 0.820328\n",
      "X.shape (700, 1)\n",
      "method = diameter, AUC = 0.939776\n",
      "X.shape (700, 1)\n",
      "method = degree_assortativity_coef, AUC = 0.672669\n",
      "X.shape (700, 1)\n",
      "method = num_cliques, AUC = 0.718087\n",
      "X.shape (700, 1)\n",
      "method = Avg_clustering_coeff, AUC = 0.752301\n",
      "X.shape (700, 1)\n",
      "method = edeg_density, AUC = 0.905362\n",
      "X.shape (700, 25)\n",
      "method = MACC k0=5, AUC = 0.954782\n",
      "X.shape (700, 100)\n",
      "method = MACC k0=10, AUC = 0.959184\n",
      "X.shape (700, 225)\n",
      "method = MACC k0=15, AUC = 0.957583\n",
      "X.shape (700, 400)\n",
      "method = MACC k0=20, AUC = 0.964786\n",
      "Classifying subgraphs in Caltech36-NYU9 ...\n",
      "sampling subgraphs with k=30 nodes\n"
     ]
    },
    {
     "name": "stderr",
     "output_type": "stream",
     "text": [
      "100%|████████████████████████████████████████████████████████████████████| 100/100 [00:00<00:00, 507.14it/s]\n",
      "100%|████████████████████████████████████████████████████████████████████| 100/100 [00:00<00:00, 719.52it/s]\n",
      "100%|████████████████████████████████████████████████████████████████████| 100/100 [00:00<00:00, 831.84it/s]\n",
      "100%|████████████████████████████████████████████████████████████████████| 100/100 [00:00<00:00, 119.57it/s]\n",
      "100%|████████████████████████████████████████████████████████████████████| 100/100 [00:00<00:00, 118.63it/s]\n",
      "100%|████████████████████████████████████████████████████████████████████| 100/100 [00:00<00:00, 135.06it/s]\n",
      "100%|████████████████████████████████████████████████████████████████████| 100/100 [00:00<00:00, 111.61it/s]\n"
     ]
    },
    {
     "name": "stdout",
     "output_type": "stream",
     "text": [
      "extracting subgraph features..\n"
     ]
    },
    {
     "name": "stderr",
     "output_type": "stream",
     "text": [
      "100%|█████████████████████████████████████████████████████████████████████| 700/700 [15:33<00:00,  1.33s/it]\n"
     ]
    },
    {
     "name": "stdout",
     "output_type": "stream",
     "text": [
      "X.shape (700, 1)\n",
      "method = num_nodes, AUC = 0.500000\n",
      "X.shape (700, 1)\n",
      "method = num_edges, AUC = 0.860544\n",
      "X.shape (700, 1)\n",
      "method = min_degree, AUC = 0.582033\n",
      "X.shape (700, 1)\n",
      "method = max_degree, AUC = 0.809524\n",
      "X.shape (700, 1)\n",
      "method = diameter, AUC = 0.768307\n",
      "X.shape (700, 1)\n",
      "method = degree_assortativity_coef, AUC = 0.571429\n",
      "X.shape (700, 1)\n",
      "method = num_cliques, AUC = 0.708083\n",
      "X.shape (700, 1)\n",
      "method = Avg_clustering_coeff, AUC = 0.729692\n",
      "X.shape (700, 1)\n",
      "method = edeg_density, AUC = 0.860544\n",
      "X.shape (700, 25)\n",
      "method = MACC k0=5, AUC = 0.871148\n",
      "X.shape (700, 100)\n",
      "method = MACC k0=10, AUC = 0.909564\n",
      "X.shape (700, 225)\n",
      "method = MACC k0=15, AUC = 0.871949\n",
      "X.shape (700, 400)\n",
      "method = MACC k0=20, AUC = 0.897159\n",
      "Classifying subgraphs in Caltech36-Virginia63 ...\n",
      "sampling subgraphs with k=30 nodes\n"
     ]
    },
    {
     "name": "stderr",
     "output_type": "stream",
     "text": [
      "100%|████████████████████████████████████████████████████████████████████| 100/100 [00:00<00:00, 617.85it/s]\n",
      "100%|████████████████████████████████████████████████████████████████████| 100/100 [00:00<00:00, 725.68it/s]\n",
      "100%|████████████████████████████████████████████████████████████████████| 100/100 [00:00<00:00, 824.74it/s]\n",
      "100%|████████████████████████████████████████████████████████████████████| 100/100 [00:00<00:00, 111.72it/s]\n",
      "100%|████████████████████████████████████████████████████████████████████| 100/100 [00:00<00:00, 121.60it/s]\n",
      "100%|████████████████████████████████████████████████████████████████████| 100/100 [00:00<00:00, 136.26it/s]\n",
      "100%|████████████████████████████████████████████████████████████████████| 100/100 [00:00<00:00, 109.34it/s]\n"
     ]
    },
    {
     "name": "stdout",
     "output_type": "stream",
     "text": [
      "extracting subgraph features..\n"
     ]
    },
    {
     "name": "stderr",
     "output_type": "stream",
     "text": [
      "100%|█████████████████████████████████████████████████████████████████████| 700/700 [15:34<00:00,  1.33s/it]\n"
     ]
    },
    {
     "name": "stdout",
     "output_type": "stream",
     "text": [
      "X.shape (700, 1)\n",
      "method = num_nodes, AUC = 0.500000\n",
      "X.shape (700, 1)\n",
      "method = num_edges, AUC = 0.868147\n",
      "X.shape (700, 1)\n",
      "method = min_degree, AUC = 0.561625\n",
      "X.shape (700, 1)\n",
      "method = max_degree, AUC = 0.817327\n",
      "X.shape (700, 1)\n",
      "method = diameter, AUC = 0.814126\n",
      "X.shape (700, 1)\n",
      "method = degree_assortativity_coef, AUC = 0.562225\n",
      "X.shape (700, 1)\n",
      "method = num_cliques, AUC = 0.777511\n",
      "X.shape (700, 1)\n",
      "method = Avg_clustering_coeff, AUC = 0.811925\n",
      "X.shape (700, 1)\n",
      "method = edeg_density, AUC = 0.868147\n",
      "X.shape (700, 25)\n",
      "method = MACC k0=5, AUC = 0.891156\n",
      "X.shape (700, 100)\n",
      "method = MACC k0=10, AUC = 0.925170\n",
      "X.shape (700, 225)\n",
      "method = MACC k0=15, AUC = 0.920768\n",
      "X.shape (700, 400)\n",
      "method = MACC k0=20, AUC = 0.917567\n",
      "Classifying subgraphs in Caltech36-UCLA26 ...\n",
      "sampling subgraphs with k=30 nodes\n"
     ]
    },
    {
     "name": "stderr",
     "output_type": "stream",
     "text": [
      "100%|████████████████████████████████████████████████████████████████████| 100/100 [00:00<00:00, 703.67it/s]\n",
      "100%|████████████████████████████████████████████████████████████████████| 100/100 [00:00<00:00, 663.26it/s]\n",
      "100%|████████████████████████████████████████████████████████████████████| 100/100 [00:00<00:00, 820.63it/s]\n",
      "100%|████████████████████████████████████████████████████████████████████| 100/100 [00:00<00:00, 105.22it/s]\n",
      "100%|████████████████████████████████████████████████████████████████████| 100/100 [00:00<00:00, 106.69it/s]\n",
      "100%|████████████████████████████████████████████████████████████████████| 100/100 [00:00<00:00, 124.28it/s]\n",
      "100%|████████████████████████████████████████████████████████████████████| 100/100 [00:00<00:00, 101.43it/s]\n"
     ]
    },
    {
     "name": "stdout",
     "output_type": "stream",
     "text": [
      "extracting subgraph features..\n"
     ]
    },
    {
     "name": "stderr",
     "output_type": "stream",
     "text": [
      "100%|█████████████████████████████████████████████████████████████████████| 700/700 [15:34<00:00,  1.33s/it]\n"
     ]
    },
    {
     "name": "stdout",
     "output_type": "stream",
     "text": [
      "X.shape (700, 1)\n",
      "method = num_nodes, AUC = 0.500000\n",
      "X.shape (700, 1)\n",
      "method = num_edges, AUC = 0.887955\n",
      "X.shape (700, 1)\n",
      "method = min_degree, AUC = 0.613045\n",
      "X.shape (700, 1)\n",
      "method = max_degree, AUC = 0.754702\n",
      "X.shape (700, 1)\n",
      "method = diameter, AUC = 0.795118\n",
      "X.shape (700, 1)\n",
      "method = degree_assortativity_coef, AUC = 0.574230\n",
      "X.shape (700, 1)\n",
      "method = num_cliques, AUC = 0.777711\n",
      "X.shape (700, 1)\n",
      "method = Avg_clustering_coeff, AUC = 0.843938\n",
      "X.shape (700, 1)\n",
      "method = edeg_density, AUC = 0.887955\n",
      "X.shape (700, 25)\n",
      "method = MACC k0=5, AUC = 0.936375\n",
      "X.shape (700, 100)\n",
      "method = MACC k0=10, AUC = 0.931973\n",
      "X.shape (700, 225)\n",
      "method = MACC k0=15, AUC = 0.945578\n",
      "X.shape (700, 400)\n",
      "method = MACC k0=20, AUC = 0.951581\n",
      "Classifying subgraphs in Caltech36-Wisconsin87 ...\n",
      "sampling subgraphs with k=30 nodes\n"
     ]
    },
    {
     "name": "stderr",
     "output_type": "stream",
     "text": [
      "100%|████████████████████████████████████████████████████████████████████| 100/100 [00:00<00:00, 755.75it/s]\n",
      "100%|████████████████████████████████████████████████████████████████████| 100/100 [00:00<00:00, 665.71it/s]\n",
      "100%|████████████████████████████████████████████████████████████████████| 100/100 [00:00<00:00, 805.17it/s]\n",
      "100%|█████████████████████████████████████████████████████████████████████| 100/100 [00:01<00:00, 68.12it/s]\n",
      "100%|████████████████████████████████████████████████████████████████████| 100/100 [00:00<00:00, 123.48it/s]\n",
      "100%|████████████████████████████████████████████████████████████████████| 100/100 [00:00<00:00, 134.96it/s]\n",
      "100%|████████████████████████████████████████████████████████████████████| 100/100 [00:00<00:00, 110.21it/s]\n"
     ]
    },
    {
     "name": "stdout",
     "output_type": "stream",
     "text": [
      "extracting subgraph features..\n"
     ]
    },
    {
     "name": "stderr",
     "output_type": "stream",
     "text": [
      "100%|█████████████████████████████████████████████████████████████████████| 700/700 [15:34<00:00,  1.33s/it]\n"
     ]
    },
    {
     "name": "stdout",
     "output_type": "stream",
     "text": [
      "X.shape (700, 1)\n",
      "method = num_nodes, AUC = 0.500000\n",
      "X.shape (700, 1)\n",
      "method = num_edges, AUC = 0.871749\n",
      "X.shape (700, 1)\n",
      "method = min_degree, AUC = 0.523409\n",
      "X.shape (700, 1)\n",
      "method = max_degree, AUC = 0.765106\n",
      "X.shape (700, 1)\n",
      "method = diameter, AUC = 0.853541\n",
      "X.shape (700, 1)\n",
      "method = degree_assortativity_coef, AUC = 0.604242\n",
      "X.shape (700, 1)\n",
      "method = num_cliques, AUC = 0.743898\n",
      "X.shape (700, 1)\n",
      "method = Avg_clustering_coeff, AUC = 0.717087\n",
      "X.shape (700, 1)\n",
      "method = edeg_density, AUC = 0.871749\n",
      "X.shape (700, 25)\n",
      "method = MACC k0=5, AUC = 0.930372\n",
      "X.shape (700, 100)\n",
      "method = MACC k0=10, AUC = 0.960384\n",
      "X.shape (700, 225)\n",
      "method = MACC k0=15, AUC = 0.946779\n",
      "X.shape (700, 400)\n",
      "method = MACC k0=20, AUC = 0.960384\n",
      "Classifying subgraphs in Simmons81-Reed98 ...\n",
      "sampling subgraphs with k=30 nodes\n"
     ]
    },
    {
     "name": "stderr",
     "output_type": "stream",
     "text": [
      "100%|████████████████████████████████████████████████████████████████████| 100/100 [00:00<00:00, 755.37it/s]\n",
      "100%|████████████████████████████████████████████████████████████████████| 100/100 [00:00<00:00, 715.90it/s]\n",
      "100%|████████████████████████████████████████████████████████████████████| 100/100 [00:00<00:00, 803.37it/s]\n",
      "100%|█████████████████████████████████████████████████████████████████████| 100/100 [00:01<00:00, 87.04it/s]\n",
      "100%|████████████████████████████████████████████████████████████████████| 100/100 [00:00<00:00, 124.99it/s]\n",
      "100%|████████████████████████████████████████████████████████████████████| 100/100 [00:00<00:00, 139.95it/s]\n",
      "100%|████████████████████████████████████████████████████████████████████| 100/100 [00:00<00:00, 112.51it/s]\n"
     ]
    },
    {
     "name": "stdout",
     "output_type": "stream",
     "text": [
      "extracting subgraph features..\n"
     ]
    },
    {
     "name": "stderr",
     "output_type": "stream",
     "text": [
      "100%|█████████████████████████████████████████████████████████████████████| 700/700 [15:33<00:00,  1.33s/it]\n"
     ]
    },
    {
     "name": "stdout",
     "output_type": "stream",
     "text": [
      "X.shape (700, 1)\n",
      "method = num_nodes, AUC = 0.500000\n",
      "X.shape (700, 1)\n",
      "method = num_edges, AUC = 0.866547\n",
      "X.shape (700, 1)\n",
      "method = min_degree, AUC = 0.576230\n",
      "X.shape (700, 1)\n",
      "method = max_degree, AUC = 0.793317\n",
      "X.shape (700, 1)\n",
      "method = diameter, AUC = 0.832733\n",
      "X.shape (700, 1)\n",
      "method = degree_assortativity_coef, AUC = 0.678671\n",
      "X.shape (700, 1)\n",
      "method = num_cliques, AUC = 0.712685\n",
      "X.shape (700, 1)\n",
      "method = Avg_clustering_coeff, AUC = 0.745098\n",
      "X.shape (700, 1)\n",
      "method = edeg_density, AUC = 0.866547\n",
      "X.shape (700, 25)\n",
      "method = MACC k0=5, AUC = 0.849540\n",
      "X.shape (700, 100)\n",
      "method = MACC k0=10, AUC = 0.951180\n",
      "X.shape (700, 225)\n",
      "method = MACC k0=15, AUC = 0.959184\n",
      "X.shape (700, 400)\n",
      "method = MACC k0=20, AUC = 0.945178\n",
      "Classifying subgraphs in Simmons81-NYU9 ...\n",
      "sampling subgraphs with k=30 nodes\n"
     ]
    },
    {
     "name": "stderr",
     "output_type": "stream",
     "text": [
      "100%|████████████████████████████████████████████████████████████████████| 100/100 [00:00<00:00, 797.81it/s]\n",
      "100%|████████████████████████████████████████████████████████████████████| 100/100 [00:00<00:00, 706.93it/s]\n",
      "100%|████████████████████████████████████████████████████████████████████| 100/100 [00:00<00:00, 827.44it/s]\n",
      "100%|████████████████████████████████████████████████████████████████████| 100/100 [00:00<00:00, 104.69it/s]\n",
      "100%|████████████████████████████████████████████████████████████████████| 100/100 [00:00<00:00, 111.89it/s]\n",
      "100%|████████████████████████████████████████████████████████████████████| 100/100 [00:00<00:00, 132.14it/s]\n",
      "100%|█████████████████████████████████████████████████████████████████████| 100/100 [00:01<00:00, 95.96it/s]\n"
     ]
    },
    {
     "name": "stdout",
     "output_type": "stream",
     "text": [
      "extracting subgraph features..\n"
     ]
    },
    {
     "name": "stderr",
     "output_type": "stream",
     "text": [
      "100%|█████████████████████████████████████████████████████████████████████| 700/700 [15:33<00:00,  1.33s/it]\n"
     ]
    },
    {
     "name": "stdout",
     "output_type": "stream",
     "text": [
      "X.shape (700, 1)\n",
      "method = num_nodes, AUC = 0.500000\n",
      "X.shape (700, 1)\n",
      "method = num_edges, AUC = 0.858143\n",
      "X.shape (700, 1)\n",
      "method = min_degree, AUC = 0.625450\n",
      "X.shape (700, 1)\n",
      "method = max_degree, AUC = 0.746098\n",
      "X.shape (700, 1)\n",
      "method = diameter, AUC = 0.826531\n",
      "X.shape (700, 1)\n",
      "method = degree_assortativity_coef, AUC = 0.653061\n",
      "X.shape (700, 1)\n",
      "method = num_cliques, AUC = 0.741697\n",
      "X.shape (700, 1)\n",
      "method = Avg_clustering_coeff, AUC = 0.769508\n",
      "X.shape (700, 1)\n",
      "method = edeg_density, AUC = 0.858143\n",
      "X.shape (700, 25)\n",
      "method = MACC k0=5, AUC = 0.922369\n",
      "X.shape (700, 100)\n",
      "method = MACC k0=10, AUC = 0.926771\n",
      "X.shape (700, 225)\n",
      "method = MACC k0=15, AUC = 0.955582\n",
      "X.shape (700, 400)\n",
      "method = MACC k0=20, AUC = 0.946779\n",
      "Classifying subgraphs in Simmons81-Virginia63 ...\n",
      "sampling subgraphs with k=30 nodes\n"
     ]
    },
    {
     "name": "stderr",
     "output_type": "stream",
     "text": [
      "100%|████████████████████████████████████████████████████████████████████| 100/100 [00:00<00:00, 702.67it/s]\n",
      "100%|████████████████████████████████████████████████████████████████████| 100/100 [00:00<00:00, 715.25it/s]\n",
      "100%|████████████████████████████████████████████████████████████████████| 100/100 [00:00<00:00, 794.90it/s]\n",
      "100%|████████████████████████████████████████████████████████████████████| 100/100 [00:00<00:00, 106.56it/s]\n",
      "100%|████████████████████████████████████████████████████████████████████| 100/100 [00:00<00:00, 108.38it/s]\n",
      "100%|████████████████████████████████████████████████████████████████████| 100/100 [00:00<00:00, 126.64it/s]\n",
      "100%|████████████████████████████████████████████████████████████████████| 100/100 [00:00<00:00, 102.18it/s]\n"
     ]
    },
    {
     "name": "stdout",
     "output_type": "stream",
     "text": [
      "extracting subgraph features..\n"
     ]
    },
    {
     "name": "stderr",
     "output_type": "stream",
     "text": [
      "100%|█████████████████████████████████████████████████████████████████████| 700/700 [15:34<00:00,  1.33s/it]\n"
     ]
    },
    {
     "name": "stdout",
     "output_type": "stream",
     "text": [
      "X.shape (700, 1)\n",
      "method = num_nodes, AUC = 0.500000\n",
      "X.shape (700, 1)\n",
      "method = num_edges, AUC = 0.877351\n",
      "X.shape (700, 1)\n",
      "method = min_degree, AUC = 0.620848\n",
      "X.shape (700, 1)\n",
      "method = max_degree, AUC = 0.840336\n",
      "X.shape (700, 1)\n",
      "method = diameter, AUC = 0.811925\n",
      "X.shape (700, 1)\n",
      "method = degree_assortativity_coef, AUC = 0.600240\n",
      "X.shape (700, 1)\n",
      "method = num_cliques, AUC = 0.719088\n",
      "X.shape (700, 1)\n",
      "method = Avg_clustering_coeff, AUC = 0.793918\n",
      "X.shape (700, 1)\n",
      "method = edeg_density, AUC = 0.877351\n",
      "X.shape (700, 25)\n",
      "method = MACC k0=5, AUC = 0.906363\n",
      "X.shape (700, 100)\n",
      "method = MACC k0=10, AUC = 0.934374\n",
      "X.shape (700, 225)\n",
      "method = MACC k0=15, AUC = 0.940776\n",
      "X.shape (700, 400)\n",
      "method = MACC k0=20, AUC = 0.933573\n",
      "Classifying subgraphs in Simmons81-UCLA26 ...\n",
      "sampling subgraphs with k=30 nodes\n"
     ]
    },
    {
     "name": "stderr",
     "output_type": "stream",
     "text": [
      "100%|████████████████████████████████████████████████████████████████████| 100/100 [00:00<00:00, 819.29it/s]\n",
      "100%|████████████████████████████████████████████████████████████████████| 100/100 [00:00<00:00, 700.33it/s]\n",
      "100%|████████████████████████████████████████████████████████████████████| 100/100 [00:00<00:00, 800.20it/s]\n",
      "100%|████████████████████████████████████████████████████████████████████| 100/100 [00:00<00:00, 106.70it/s]\n",
      "100%|████████████████████████████████████████████████████████████████████| 100/100 [00:00<00:00, 116.78it/s]\n",
      "100%|████████████████████████████████████████████████████████████████████| 100/100 [00:00<00:00, 123.98it/s]\n",
      "100%|████████████████████████████████████████████████████████████████████| 100/100 [00:00<00:00, 101.65it/s]\n"
     ]
    },
    {
     "name": "stdout",
     "output_type": "stream",
     "text": [
      "extracting subgraph features..\n"
     ]
    },
    {
     "name": "stderr",
     "output_type": "stream",
     "text": [
      "100%|█████████████████████████████████████████████████████████████████████| 700/700 [15:33<00:00,  1.33s/it]\n"
     ]
    },
    {
     "name": "stdout",
     "output_type": "stream",
     "text": [
      "X.shape (700, 1)\n",
      "method = num_nodes, AUC = 0.500000\n",
      "X.shape (700, 1)\n",
      "method = num_edges, AUC = 0.871148\n",
      "X.shape (700, 1)\n",
      "method = min_degree, AUC = 0.647859\n",
      "X.shape (700, 1)\n",
      "method = max_degree, AUC = 0.795918\n",
      "X.shape (700, 1)\n",
      "method = diameter, AUC = 0.843537\n",
      "X.shape (700, 1)\n",
      "method = degree_assortativity_coef, AUC = 0.669068\n",
      "X.shape (700, 1)\n",
      "method = num_cliques, AUC = 0.766507\n",
      "X.shape (700, 1)\n",
      "method = Avg_clustering_coeff, AUC = 0.760704\n",
      "X.shape (700, 1)\n",
      "method = edeg_density, AUC = 0.871148\n",
      "X.shape (700, 25)\n",
      "method = MACC k0=5, AUC = 0.907163\n",
      "X.shape (700, 100)\n",
      "method = MACC k0=10, AUC = 0.931172\n",
      "X.shape (700, 225)\n",
      "method = MACC k0=15, AUC = 0.917167\n",
      "X.shape (700, 400)\n",
      "method = MACC k0=20, AUC = 0.919968\n",
      "Classifying subgraphs in Simmons81-Wisconsin87 ...\n",
      "sampling subgraphs with k=30 nodes\n"
     ]
    },
    {
     "name": "stderr",
     "output_type": "stream",
     "text": [
      "100%|████████████████████████████████████████████████████████████████████| 100/100 [00:00<00:00, 690.05it/s]\n",
      "100%|████████████████████████████████████████████████████████████████████| 100/100 [00:00<00:00, 705.18it/s]\n",
      "100%|████████████████████████████████████████████████████████████████████| 100/100 [00:00<00:00, 826.48it/s]\n",
      "100%|████████████████████████████████████████████████████████████████████| 100/100 [00:00<00:00, 107.34it/s]\n",
      "100%|████████████████████████████████████████████████████████████████████| 100/100 [00:00<00:00, 115.47it/s]\n",
      "100%|████████████████████████████████████████████████████████████████████| 100/100 [00:00<00:00, 132.40it/s]\n",
      "100%|████████████████████████████████████████████████████████████████████| 100/100 [00:00<00:00, 109.64it/s]\n"
     ]
    },
    {
     "name": "stdout",
     "output_type": "stream",
     "text": [
      "extracting subgraph features..\n"
     ]
    },
    {
     "name": "stderr",
     "output_type": "stream",
     "text": [
      "100%|█████████████████████████████████████████████████████████████████████| 700/700 [15:35<00:00,  1.34s/it]\n"
     ]
    },
    {
     "name": "stdout",
     "output_type": "stream",
     "text": [
      "X.shape (700, 1)\n",
      "method = num_nodes, AUC = 0.500000\n",
      "X.shape (700, 1)\n",
      "method = num_edges, AUC = 0.894758\n",
      "X.shape (700, 1)\n",
      "method = min_degree, AUC = 0.582833\n",
      "X.shape (700, 1)\n",
      "method = max_degree, AUC = 0.832733\n",
      "X.shape (700, 1)\n",
      "method = diameter, AUC = 0.820128\n",
      "X.shape (700, 1)\n",
      "method = degree_assortativity_coef, AUC = 0.620648\n",
      "X.shape (700, 1)\n",
      "method = num_cliques, AUC = 0.851341\n",
      "X.shape (700, 1)\n",
      "method = Avg_clustering_coeff, AUC = 0.833133\n",
      "X.shape (700, 1)\n",
      "method = edeg_density, AUC = 0.894758\n",
      "X.shape (700, 25)\n",
      "method = MACC k0=5, AUC = 0.937175\n",
      "X.shape (700, 100)\n",
      "method = MACC k0=10, AUC = 0.925570\n",
      "X.shape (700, 225)\n",
      "method = MACC k0=15, AUC = 0.925570\n",
      "X.shape (700, 400)\n",
      "method = MACC k0=20, AUC = 0.924770\n",
      "Classifying subgraphs in Reed98-NYU9 ...\n",
      "sampling subgraphs with k=30 nodes\n"
     ]
    },
    {
     "name": "stderr",
     "output_type": "stream",
     "text": [
      "100%|████████████████████████████████████████████████████████████████████| 100/100 [00:00<00:00, 714.60it/s]\n",
      "100%|████████████████████████████████████████████████████████████████████| 100/100 [00:00<00:00, 691.47it/s]\n",
      "100%|████████████████████████████████████████████████████████████████████| 100/100 [00:00<00:00, 834.33it/s]\n",
      "100%|████████████████████████████████████████████████████████████████████| 100/100 [00:00<00:00, 105.33it/s]\n",
      "100%|████████████████████████████████████████████████████████████████████| 100/100 [00:00<00:00, 107.72it/s]\n",
      "100%|████████████████████████████████████████████████████████████████████| 100/100 [00:00<00:00, 121.49it/s]\n",
      "100%|█████████████████████████████████████████████████████████████████████| 100/100 [00:01<00:00, 97.23it/s]\n"
     ]
    },
    {
     "name": "stdout",
     "output_type": "stream",
     "text": [
      "extracting subgraph features..\n"
     ]
    },
    {
     "name": "stderr",
     "output_type": "stream",
     "text": [
      "100%|█████████████████████████████████████████████████████████████████████| 700/700 [15:34<00:00,  1.34s/it]\n"
     ]
    },
    {
     "name": "stdout",
     "output_type": "stream",
     "text": [
      "X.shape (700, 1)\n",
      "method = num_nodes, AUC = 0.500000\n",
      "X.shape (700, 1)\n",
      "method = num_edges, AUC = 0.823129\n",
      "X.shape (700, 1)\n",
      "method = min_degree, AUC = 0.758103\n",
      "X.shape (700, 1)\n",
      "method = max_degree, AUC = 0.686475\n",
      "X.shape (700, 1)\n",
      "method = diameter, AUC = 0.797119\n",
      "X.shape (700, 1)\n",
      "method = degree_assortativity_coef, AUC = 0.617047\n",
      "X.shape (700, 1)\n",
      "method = num_cliques, AUC = 0.697879\n",
      "X.shape (700, 1)\n",
      "method = Avg_clustering_coeff, AUC = 0.716287\n",
      "X.shape (700, 1)\n",
      "method = edeg_density, AUC = 0.823129\n",
      "X.shape (700, 25)\n",
      "method = MACC k0=5, AUC = 0.846339\n",
      "X.shape (700, 100)\n",
      "method = MACC k0=10, AUC = 0.886755\n",
      "X.shape (700, 225)\n",
      "method = MACC k0=15, AUC = 0.892757\n",
      "X.shape (700, 400)\n",
      "method = MACC k0=20, AUC = 0.885954\n",
      "Classifying subgraphs in Reed98-Virginia63 ...\n",
      "sampling subgraphs with k=30 nodes\n"
     ]
    },
    {
     "name": "stderr",
     "output_type": "stream",
     "text": [
      "100%|████████████████████████████████████████████████████████████████████| 100/100 [00:00<00:00, 729.42it/s]\n",
      "100%|████████████████████████████████████████████████████████████████████| 100/100 [00:00<00:00, 716.62it/s]\n",
      "100%|████████████████████████████████████████████████████████████████████| 100/100 [00:00<00:00, 804.70it/s]\n",
      "100%|████████████████████████████████████████████████████████████████████| 100/100 [00:00<00:00, 108.66it/s]\n",
      "100%|████████████████████████████████████████████████████████████████████| 100/100 [00:00<00:00, 108.88it/s]\n",
      "100%|████████████████████████████████████████████████████████████████████| 100/100 [00:00<00:00, 123.71it/s]\n",
      "100%|████████████████████████████████████████████████████████████████████| 100/100 [00:00<00:00, 103.63it/s]\n"
     ]
    },
    {
     "name": "stdout",
     "output_type": "stream",
     "text": [
      "extracting subgraph features..\n"
     ]
    },
    {
     "name": "stderr",
     "output_type": "stream",
     "text": [
      "100%|█████████████████████████████████████████████████████████████████████| 700/700 [15:34<00:00,  1.33s/it]\n"
     ]
    },
    {
     "name": "stdout",
     "output_type": "stream",
     "text": [
      "X.shape (700, 1)\n",
      "method = num_nodes, AUC = 0.500000\n",
      "X.shape (700, 1)\n",
      "method = num_edges, AUC = 0.929572\n",
      "X.shape (700, 1)\n",
      "method = min_degree, AUC = 0.691277\n",
      "X.shape (700, 1)\n",
      "method = max_degree, AUC = 0.839736\n",
      "X.shape (700, 1)\n",
      "method = diameter, AUC = 0.903962\n",
      "X.shape (700, 1)\n",
      "method = degree_assortativity_coef, AUC = 0.671469\n",
      "X.shape (700, 1)\n",
      "method = num_cliques, AUC = 0.804322\n",
      "X.shape (700, 1)\n",
      "method = Avg_clustering_coeff, AUC = 0.851941\n",
      "X.shape (700, 1)\n",
      "method = edeg_density, AUC = 0.929572\n",
      "X.shape (700, 25)\n",
      "method = MACC k0=5, AUC = 0.949980\n",
      "X.shape (700, 100)\n",
      "method = MACC k0=10, AUC = 0.976391\n",
      "X.shape (700, 225)\n",
      "method = MACC k0=15, AUC = 0.979592\n",
      "X.shape (700, 400)\n",
      "method = MACC k0=20, AUC = 0.975190\n",
      "Classifying subgraphs in Reed98-UCLA26 ...\n",
      "sampling subgraphs with k=30 nodes\n"
     ]
    },
    {
     "name": "stderr",
     "output_type": "stream",
     "text": [
      "100%|████████████████████████████████████████████████████████████████████| 100/100 [00:00<00:00, 780.08it/s]\n",
      "100%|████████████████████████████████████████████████████████████████████| 100/100 [00:00<00:00, 678.54it/s]\n",
      "100%|████████████████████████████████████████████████████████████████████| 100/100 [00:00<00:00, 852.63it/s]\n",
      "100%|████████████████████████████████████████████████████████████████████| 100/100 [00:00<00:00, 114.60it/s]\n",
      "100%|████████████████████████████████████████████████████████████████████| 100/100 [00:00<00:00, 122.46it/s]\n",
      "100%|████████████████████████████████████████████████████████████████████| 100/100 [00:00<00:00, 138.14it/s]\n",
      "100%|████████████████████████████████████████████████████████████████████| 100/100 [00:00<00:00, 108.50it/s]\n"
     ]
    },
    {
     "name": "stdout",
     "output_type": "stream",
     "text": [
      "extracting subgraph features..\n"
     ]
    },
    {
     "name": "stderr",
     "output_type": "stream",
     "text": [
      "100%|█████████████████████████████████████████████████████████████████████| 700/700 [15:34<00:00,  1.34s/it]\n"
     ]
    },
    {
     "name": "stdout",
     "output_type": "stream",
     "text": [
      "X.shape (700, 1)\n",
      "method = num_nodes, AUC = 0.500000\n",
      "X.shape (700, 1)\n",
      "method = num_edges, AUC = 0.813125\n",
      "X.shape (700, 1)\n",
      "method = min_degree, AUC = 0.623449\n",
      "X.shape (700, 1)\n",
      "method = max_degree, AUC = 0.709684\n",
      "X.shape (700, 1)\n",
      "method = diameter, AUC = 0.811124\n",
      "X.shape (700, 1)\n",
      "method = degree_assortativity_coef, AUC = 0.673870\n",
      "X.shape (700, 1)\n",
      "method = num_cliques, AUC = 0.674870\n",
      "X.shape (700, 1)\n",
      "method = Avg_clustering_coeff, AUC = 0.766307\n",
      "X.shape (700, 1)\n",
      "method = edeg_density, AUC = 0.813125\n",
      "X.shape (700, 25)\n",
      "method = MACC k0=5, AUC = 0.867147\n",
      "X.shape (700, 100)\n",
      "method = MACC k0=10, AUC = 0.907163\n",
      "X.shape (700, 225)\n",
      "method = MACC k0=15, AUC = 0.881152\n",
      "X.shape (700, 400)\n",
      "method = MACC k0=20, AUC = 0.887555\n",
      "Classifying subgraphs in Reed98-Wisconsin87 ...\n",
      "sampling subgraphs with k=30 nodes\n"
     ]
    },
    {
     "name": "stderr",
     "output_type": "stream",
     "text": [
      "100%|████████████████████████████████████████████████████████████████████| 100/100 [00:00<00:00, 798.31it/s]\n",
      "100%|████████████████████████████████████████████████████████████████████| 100/100 [00:00<00:00, 707.59it/s]\n",
      "100%|████████████████████████████████████████████████████████████████████| 100/100 [00:00<00:00, 806.36it/s]\n",
      "100%|████████████████████████████████████████████████████████████████████| 100/100 [00:00<00:00, 107.31it/s]\n",
      "100%|████████████████████████████████████████████████████████████████████| 100/100 [00:00<00:00, 106.61it/s]\n",
      "100%|████████████████████████████████████████████████████████████████████| 100/100 [00:00<00:00, 123.00it/s]\n",
      "100%|████████████████████████████████████████████████████████████████████| 100/100 [00:00<00:00, 107.94it/s]\n"
     ]
    },
    {
     "name": "stdout",
     "output_type": "stream",
     "text": [
      "extracting subgraph features..\n"
     ]
    },
    {
     "name": "stderr",
     "output_type": "stream",
     "text": [
      "100%|█████████████████████████████████████████████████████████████████████| 700/700 [15:37<00:00,  1.34s/it]\n"
     ]
    },
    {
     "name": "stdout",
     "output_type": "stream",
     "text": [
      "X.shape (700, 1)\n",
      "method = num_nodes, AUC = 0.500000\n",
      "X.shape (700, 1)\n",
      "method = num_edges, AUC = 0.861545\n",
      "X.shape (700, 1)\n",
      "method = min_degree, AUC = 0.569028\n",
      "X.shape (700, 1)\n",
      "method = max_degree, AUC = 0.764506\n",
      "X.shape (700, 1)\n",
      "method = diameter, AUC = 0.795718\n",
      "X.shape (700, 1)\n",
      "method = degree_assortativity_coef, AUC = 0.610244\n",
      "X.shape (700, 1)\n",
      "method = num_cliques, AUC = 0.736295\n",
      "X.shape (700, 1)\n",
      "method = Avg_clustering_coeff, AUC = 0.807523\n",
      "X.shape (700, 1)\n",
      "method = edeg_density, AUC = 0.861545\n",
      "X.shape (700, 25)\n",
      "method = MACC k0=5, AUC = 0.911565\n",
      "X.shape (700, 100)\n",
      "method = MACC k0=10, AUC = 0.926371\n",
      "X.shape (700, 225)\n",
      "method = MACC k0=15, AUC = 0.945578\n",
      "X.shape (700, 400)\n",
      "method = MACC k0=20, AUC = 0.919168\n",
      "Classifying subgraphs in NYU9-Virginia63 ...\n",
      "sampling subgraphs with k=30 nodes\n"
     ]
    },
    {
     "name": "stderr",
     "output_type": "stream",
     "text": [
      "100%|████████████████████████████████████████████████████████████████████| 100/100 [00:00<00:00, 815.57it/s]\n",
      "100%|████████████████████████████████████████████████████████████████████| 100/100 [00:00<00:00, 640.48it/s]\n",
      "100%|████████████████████████████████████████████████████████████████████| 100/100 [00:00<00:00, 795.24it/s]\n",
      "100%|█████████████████████████████████████████████████████████████████████| 100/100 [00:01<00:00, 82.42it/s]\n",
      "100%|████████████████████████████████████████████████████████████████████| 100/100 [00:00<00:00, 110.31it/s]\n",
      "100%|████████████████████████████████████████████████████████████████████| 100/100 [00:00<00:00, 131.89it/s]\n",
      "100%|████████████████████████████████████████████████████████████████████| 100/100 [00:00<00:00, 105.53it/s]\n"
     ]
    },
    {
     "name": "stdout",
     "output_type": "stream",
     "text": [
      "extracting subgraph features..\n"
     ]
    },
    {
     "name": "stderr",
     "output_type": "stream",
     "text": [
      "100%|█████████████████████████████████████████████████████████████████████| 700/700 [15:35<00:00,  1.34s/it]\n"
     ]
    },
    {
     "name": "stdout",
     "output_type": "stream",
     "text": [
      "X.shape (700, 1)\n",
      "method = num_nodes, AUC = 0.500000\n",
      "X.shape (700, 1)\n",
      "method = num_edges, AUC = 0.873349\n",
      "X.shape (700, 1)\n",
      "method = min_degree, AUC = 0.641257\n",
      "X.shape (700, 1)\n",
      "method = max_degree, AUC = 0.740696\n",
      "X.shape (700, 1)\n",
      "method = diameter, AUC = 0.912565\n",
      "X.shape (700, 1)\n",
      "method = degree_assortativity_coef, AUC = 0.659464\n",
      "X.shape (700, 1)\n",
      "method = num_cliques, AUC = 0.678271\n",
      "X.shape (700, 1)\n",
      "method = Avg_clustering_coeff, AUC = 0.783513\n",
      "X.shape (700, 1)\n",
      "method = edeg_density, AUC = 0.873349\n",
      "X.shape (700, 25)\n",
      "method = MACC k0=5, AUC = 0.967587\n",
      "X.shape (700, 100)\n",
      "method = MACC k0=10, AUC = 0.964386\n",
      "X.shape (700, 225)\n",
      "method = MACC k0=15, AUC = 0.969988\n",
      "X.shape (700, 400)\n",
      "method = MACC k0=20, AUC = 0.971188\n",
      "Classifying subgraphs in NYU9-UCLA26 ...\n",
      "sampling subgraphs with k=30 nodes\n"
     ]
    },
    {
     "name": "stderr",
     "output_type": "stream",
     "text": [
      "100%|████████████████████████████████████████████████████████████████████| 100/100 [00:00<00:00, 708.00it/s]\n",
      "100%|████████████████████████████████████████████████████████████████████| 100/100 [00:00<00:00, 665.62it/s]\n",
      "100%|████████████████████████████████████████████████████████████████████| 100/100 [00:00<00:00, 806.84it/s]\n",
      "100%|████████████████████████████████████████████████████████████████████| 100/100 [00:00<00:00, 116.51it/s]\n",
      "100%|████████████████████████████████████████████████████████████████████| 100/100 [00:00<00:00, 115.74it/s]\n",
      "100%|████████████████████████████████████████████████████████████████████| 100/100 [00:00<00:00, 130.28it/s]\n",
      "100%|████████████████████████████████████████████████████████████████████| 100/100 [00:00<00:00, 106.62it/s]\n"
     ]
    },
    {
     "name": "stdout",
     "output_type": "stream",
     "text": [
      "extracting subgraph features..\n"
     ]
    },
    {
     "name": "stderr",
     "output_type": "stream",
     "text": [
      "100%|█████████████████████████████████████████████████████████████████████| 700/700 [15:36<00:00,  1.34s/it]\n"
     ]
    },
    {
     "name": "stdout",
     "output_type": "stream",
     "text": [
      "X.shape (700, 1)\n",
      "method = num_nodes, AUC = 0.500000\n",
      "X.shape (700, 1)\n",
      "method = num_edges, AUC = 0.868747\n",
      "X.shape (700, 1)\n",
      "method = min_degree, AUC = 0.528611\n",
      "X.shape (700, 1)\n",
      "method = max_degree, AUC = 0.810524\n",
      "X.shape (700, 1)\n",
      "method = diameter, AUC = 0.765906\n",
      "X.shape (700, 1)\n",
      "method = degree_assortativity_coef, AUC = 0.680272\n",
      "X.shape (700, 1)\n",
      "method = num_cliques, AUC = 0.735294\n",
      "X.shape (700, 1)\n",
      "method = Avg_clustering_coeff, AUC = 0.836335\n",
      "X.shape (700, 1)\n",
      "method = edeg_density, AUC = 0.868747\n",
      "X.shape (700, 25)\n",
      "method = MACC k0=5, AUC = 0.868347\n",
      "X.shape (700, 100)\n",
      "method = MACC k0=10, AUC = 0.903962\n",
      "X.shape (700, 225)\n",
      "method = MACC k0=15, AUC = 0.909564\n",
      "X.shape (700, 400)\n",
      "method = MACC k0=20, AUC = 0.924770\n",
      "Classifying subgraphs in NYU9-Wisconsin87 ...\n",
      "sampling subgraphs with k=30 nodes\n"
     ]
    },
    {
     "name": "stderr",
     "output_type": "stream",
     "text": [
      "100%|████████████████████████████████████████████████████████████████████| 100/100 [00:00<00:00, 670.41it/s]\n",
      "100%|████████████████████████████████████████████████████████████████████| 100/100 [00:00<00:00, 710.67it/s]\n",
      "100%|████████████████████████████████████████████████████████████████████| 100/100 [00:00<00:00, 831.98it/s]\n",
      "100%|████████████████████████████████████████████████████████████████████| 100/100 [00:00<00:00, 112.91it/s]\n",
      "100%|████████████████████████████████████████████████████████████████████| 100/100 [00:00<00:00, 118.22it/s]\n",
      "100%|████████████████████████████████████████████████████████████████████| 100/100 [00:00<00:00, 129.99it/s]\n",
      "100%|█████████████████████████████████████████████████████████████████████| 100/100 [00:01<00:00, 84.59it/s]\n"
     ]
    },
    {
     "name": "stdout",
     "output_type": "stream",
     "text": [
      "extracting subgraph features..\n"
     ]
    },
    {
     "name": "stderr",
     "output_type": "stream",
     "text": [
      "100%|█████████████████████████████████████████████████████████████████████| 700/700 [15:38<00:00,  1.34s/it]\n"
     ]
    },
    {
     "name": "stdout",
     "output_type": "stream",
     "text": [
      "X.shape (700, 1)\n",
      "method = num_nodes, AUC = 0.500000\n",
      "X.shape (700, 1)\n",
      "method = num_edges, AUC = 0.845538\n",
      "X.shape (700, 1)\n",
      "method = min_degree, AUC = 0.572829\n",
      "X.shape (700, 1)\n",
      "method = max_degree, AUC = 0.782113\n",
      "X.shape (700, 1)\n",
      "method = diameter, AUC = 0.774910\n",
      "X.shape (700, 1)\n",
      "method = degree_assortativity_coef, AUC = 0.657063\n",
      "X.shape (700, 1)\n",
      "method = num_cliques, AUC = 0.718087\n",
      "X.shape (700, 1)\n",
      "method = Avg_clustering_coeff, AUC = 0.785514\n",
      "X.shape (700, 1)\n",
      "method = edeg_density, AUC = 0.845538\n",
      "X.shape (700, 25)\n",
      "method = MACC k0=5, AUC = 0.909164\n",
      "X.shape (700, 100)\n",
      "method = MACC k0=10, AUC = 0.947979\n",
      "X.shape (700, 225)\n",
      "method = MACC k0=15, AUC = 0.941977\n",
      "X.shape (700, 400)\n",
      "method = MACC k0=20, AUC = 0.943978\n",
      "Classifying subgraphs in Virginia63-UCLA26 ...\n",
      "sampling subgraphs with k=30 nodes\n"
     ]
    },
    {
     "name": "stderr",
     "output_type": "stream",
     "text": [
      "100%|████████████████████████████████████████████████████████████████████| 100/100 [00:00<00:00, 832.32it/s]\n",
      "100%|████████████████████████████████████████████████████████████████████| 100/100 [00:00<00:00, 684.73it/s]\n",
      "100%|████████████████████████████████████████████████████████████████████| 100/100 [00:00<00:00, 822.76it/s]\n",
      "100%|█████████████████████████████████████████████████████████████████████| 100/100 [00:01<00:00, 72.08it/s]\n",
      "100%|████████████████████████████████████████████████████████████████████| 100/100 [00:00<00:00, 122.25it/s]\n",
      "100%|████████████████████████████████████████████████████████████████████| 100/100 [00:00<00:00, 135.94it/s]\n",
      "100%|████████████████████████████████████████████████████████████████████| 100/100 [00:00<00:00, 111.98it/s]\n"
     ]
    },
    {
     "name": "stdout",
     "output_type": "stream",
     "text": [
      "extracting subgraph features..\n"
     ]
    },
    {
     "name": "stderr",
     "output_type": "stream",
     "text": [
      "100%|█████████████████████████████████████████████████████████████████████| 700/700 [15:35<00:00,  1.34s/it]\n"
     ]
    },
    {
     "name": "stdout",
     "output_type": "stream",
     "text": [
      "X.shape (700, 1)\n",
      "method = num_nodes, AUC = 0.500000\n",
      "X.shape (700, 1)\n",
      "method = num_edges, AUC = 0.853741\n",
      "X.shape (700, 1)\n",
      "method = min_degree, AUC = 0.576831\n",
      "X.shape (700, 1)\n",
      "method = max_degree, AUC = 0.754902\n",
      "X.shape (700, 1)\n",
      "method = diameter, AUC = 0.799720\n",
      "X.shape (700, 1)\n",
      "method = degree_assortativity_coef, AUC = 0.604642\n",
      "X.shape (700, 1)\n",
      "method = num_cliques, AUC = 0.753301\n",
      "X.shape (700, 1)\n",
      "method = Avg_clustering_coeff, AUC = 0.786515\n",
      "X.shape (700, 1)\n",
      "method = edeg_density, AUC = 0.853741\n",
      "X.shape (700, 25)\n",
      "method = MACC k0=5, AUC = 0.926771\n",
      "X.shape (700, 100)\n",
      "method = MACC k0=10, AUC = 0.945978\n",
      "X.shape (700, 225)\n",
      "method = MACC k0=15, AUC = 0.959184\n",
      "X.shape (700, 400)\n",
      "method = MACC k0=20, AUC = 0.964386\n",
      "Classifying subgraphs in Virginia63-Wisconsin87 ...\n",
      "sampling subgraphs with k=30 nodes\n"
     ]
    },
    {
     "name": "stderr",
     "output_type": "stream",
     "text": [
      "100%|████████████████████████████████████████████████████████████████████| 100/100 [00:00<00:00, 753.75it/s]\n",
      "100%|████████████████████████████████████████████████████████████████████| 100/100 [00:00<00:00, 662.05it/s]\n",
      "100%|████████████████████████████████████████████████████████████████████| 100/100 [00:00<00:00, 805.10it/s]\n",
      "100%|█████████████████████████████████████████████████████████████████████| 100/100 [00:01<00:00, 84.08it/s]\n",
      "100%|████████████████████████████████████████████████████████████████████| 100/100 [00:00<00:00, 123.95it/s]\n",
      "100%|████████████████████████████████████████████████████████████████████| 100/100 [00:00<00:00, 136.77it/s]\n",
      "100%|████████████████████████████████████████████████████████████████████| 100/100 [00:00<00:00, 112.18it/s]\n"
     ]
    },
    {
     "name": "stdout",
     "output_type": "stream",
     "text": [
      "extracting subgraph features..\n"
     ]
    },
    {
     "name": "stderr",
     "output_type": "stream",
     "text": [
      "100%|█████████████████████████████████████████████████████████████████████| 700/700 [15:37<00:00,  1.34s/it]\n"
     ]
    },
    {
     "name": "stdout",
     "output_type": "stream",
     "text": [
      "X.shape (700, 1)\n",
      "method = num_nodes, AUC = 0.500000\n",
      "X.shape (700, 1)\n",
      "method = num_edges, AUC = 0.873950\n",
      "X.shape (700, 1)\n",
      "method = min_degree, AUC = 0.595438\n",
      "X.shape (700, 1)\n",
      "method = max_degree, AUC = 0.814526\n",
      "X.shape (700, 1)\n",
      "method = diameter, AUC = 0.754502\n",
      "X.shape (700, 1)\n",
      "method = degree_assortativity_coef, AUC = 0.581833\n",
      "X.shape (700, 1)\n",
      "method = num_cliques, AUC = 0.760304\n",
      "X.shape (700, 1)\n",
      "method = Avg_clustering_coeff, AUC = 0.735494\n",
      "X.shape (700, 1)\n",
      "method = edeg_density, AUC = 0.873950\n",
      "X.shape (700, 25)\n",
      "method = MACC k0=5, AUC = 0.861545\n",
      "X.shape (700, 100)\n",
      "method = MACC k0=10, AUC = 0.903561\n",
      "X.shape (700, 225)\n",
      "method = MACC k0=15, AUC = 0.909964\n",
      "X.shape (700, 400)\n",
      "method = MACC k0=20, AUC = 0.909564\n",
      "Classifying subgraphs in UCLA26-Wisconsin87 ...\n",
      "sampling subgraphs with k=30 nodes\n"
     ]
    },
    {
     "name": "stderr",
     "output_type": "stream",
     "text": [
      "100%|████████████████████████████████████████████████████████████████████| 100/100 [00:00<00:00, 751.38it/s]\n",
      "100%|████████████████████████████████████████████████████████████████████| 100/100 [00:00<00:00, 698.09it/s]\n",
      "100%|████████████████████████████████████████████████████████████████████| 100/100 [00:00<00:00, 818.27it/s]\n",
      "100%|████████████████████████████████████████████████████████████████████| 100/100 [00:00<00:00, 108.06it/s]\n",
      "100%|████████████████████████████████████████████████████████████████████| 100/100 [00:00<00:00, 115.43it/s]\n",
      "100%|████████████████████████████████████████████████████████████████████| 100/100 [00:00<00:00, 131.32it/s]\n",
      "100%|████████████████████████████████████████████████████████████████████| 100/100 [00:00<00:00, 111.87it/s]\n"
     ]
    },
    {
     "name": "stdout",
     "output_type": "stream",
     "text": [
      "extracting subgraph features..\n"
     ]
    },
    {
     "name": "stderr",
     "output_type": "stream",
     "text": [
      "100%|█████████████████████████████████████████████████████████████████████| 700/700 [15:35<00:00,  1.34s/it]\n"
     ]
    },
    {
     "name": "stdout",
     "output_type": "stream",
     "text": [
      "X.shape (700, 1)\n",
      "method = num_nodes, AUC = 0.500000\n",
      "X.shape (700, 1)\n",
      "method = num_edges, AUC = 0.934574\n",
      "X.shape (700, 1)\n",
      "method = min_degree, AUC = 0.683673\n",
      "X.shape (700, 1)\n",
      "method = max_degree, AUC = 0.804722\n",
      "X.shape (700, 1)\n",
      "method = diameter, AUC = 0.889956\n",
      "X.shape (700, 1)\n",
      "method = degree_assortativity_coef, AUC = 0.305722\n",
      "X.shape (700, 1)\n",
      "method = num_cliques, AUC = 0.759904\n",
      "X.shape (700, 1)\n",
      "method = Avg_clustering_coeff, AUC = 0.783513\n",
      "X.shape (700, 1)\n",
      "method = edeg_density, AUC = 0.934574\n",
      "X.shape (700, 25)\n",
      "method = MACC k0=5, AUC = 0.926371\n",
      "X.shape (700, 100)\n",
      "method = MACC k0=10, AUC = 0.963585\n",
      "X.shape (700, 225)\n",
      "method = MACC k0=15, AUC = 0.954382\n",
      "X.shape (700, 400)\n",
      "method = MACC k0=20, AUC = 0.952781\n",
      "Classifying subgraphs in Caltech36-Simmons81 ...\n",
      "sampling subgraphs with k=30 nodes\n"
     ]
    },
    {
     "name": "stderr",
     "output_type": "stream",
     "text": [
      "100%|████████████████████████████████████████████████████████████████████| 100/100 [00:00<00:00, 714.25it/s]\n",
      "100%|████████████████████████████████████████████████████████████████████| 100/100 [00:00<00:00, 678.78it/s]\n",
      "100%|████████████████████████████████████████████████████████████████████| 100/100 [00:00<00:00, 765.72it/s]\n",
      "100%|████████████████████████████████████████████████████████████████████| 100/100 [00:00<00:00, 104.95it/s]\n",
      "100%|████████████████████████████████████████████████████████████████████| 100/100 [00:00<00:00, 110.71it/s]\n",
      "100%|█████████████████████████████████████████████████████████████████████| 100/100 [00:01<00:00, 95.25it/s]\n",
      "100%|█████████████████████████████████████████████████████████████████████| 100/100 [00:01<00:00, 99.34it/s]\n"
     ]
    },
    {
     "name": "stdout",
     "output_type": "stream",
     "text": [
      "extracting subgraph features..\n"
     ]
    },
    {
     "name": "stderr",
     "output_type": "stream",
     "text": [
      "100%|█████████████████████████████████████████████████████████████████████| 700/700 [15:35<00:00,  1.34s/it]\n"
     ]
    },
    {
     "name": "stdout",
     "output_type": "stream",
     "text": [
      "X.shape (700, 1)\n",
      "method = num_nodes, AUC = 0.500000\n",
      "X.shape (700, 1)\n",
      "method = num_edges, AUC = 0.931973\n",
      "X.shape (700, 1)\n",
      "method = min_degree, AUC = 0.656062\n",
      "X.shape (700, 1)\n",
      "method = max_degree, AUC = 0.792917\n",
      "X.shape (700, 1)\n",
      "method = diameter, AUC = 0.930972\n",
      "X.shape (700, 1)\n",
      "method = degree_assortativity_coef, AUC = 0.712285\n",
      "X.shape (700, 1)\n",
      "method = num_cliques, AUC = 0.809524\n",
      "X.shape (700, 1)\n",
      "method = Avg_clustering_coeff, AUC = 0.858343\n",
      "X.shape (700, 1)\n",
      "method = edeg_density, AUC = 0.931973\n",
      "X.shape (700, 25)\n",
      "method = MACC k0=5, AUC = 0.945178\n",
      "X.shape (700, 100)\n",
      "method = MACC k0=10, AUC = 0.953181\n",
      "X.shape (700, 225)\n",
      "method = MACC k0=15, AUC = 0.953581\n",
      "X.shape (700, 400)\n",
      "method = MACC k0=20, AUC = 0.949180\n",
      "Classifying subgraphs in Caltech36-Reed98 ...\n",
      "sampling subgraphs with k=30 nodes\n"
     ]
    },
    {
     "name": "stderr",
     "output_type": "stream",
     "text": [
      "100%|████████████████████████████████████████████████████████████████████| 100/100 [00:00<00:00, 478.33it/s]\n",
      "100%|████████████████████████████████████████████████████████████████████| 100/100 [00:00<00:00, 705.18it/s]\n",
      "100%|████████████████████████████████████████████████████████████████████| 100/100 [00:00<00:00, 863.45it/s]\n",
      "100%|████████████████████████████████████████████████████████████████████| 100/100 [00:00<00:00, 119.33it/s]\n",
      "100%|████████████████████████████████████████████████████████████████████| 100/100 [00:00<00:00, 112.41it/s]\n",
      "100%|████████████████████████████████████████████████████████████████████| 100/100 [00:00<00:00, 131.74it/s]\n",
      "100%|████████████████████████████████████████████████████████████████████| 100/100 [00:00<00:00, 104.73it/s]\n"
     ]
    },
    {
     "name": "stdout",
     "output_type": "stream",
     "text": [
      "extracting subgraph features..\n"
     ]
    },
    {
     "name": "stderr",
     "output_type": "stream",
     "text": [
      "100%|█████████████████████████████████████████████████████████████████████| 700/700 [15:35<00:00,  1.34s/it]\n"
     ]
    },
    {
     "name": "stdout",
     "output_type": "stream",
     "text": [
      "X.shape (700, 1)\n",
      "method = num_nodes, AUC = 0.500000\n",
      "X.shape (700, 1)\n",
      "method = num_edges, AUC = 0.855142\n",
      "X.shape (700, 1)\n",
      "method = min_degree, AUC = 0.624050\n",
      "X.shape (700, 1)\n",
      "method = max_degree, AUC = 0.746299\n",
      "X.shape (700, 1)\n",
      "method = diameter, AUC = 0.908764\n",
      "X.shape (700, 1)\n",
      "method = degree_assortativity_coef, AUC = 0.575830\n",
      "X.shape (700, 1)\n",
      "method = num_cliques, AUC = 0.705082\n",
      "X.shape (700, 1)\n",
      "method = Avg_clustering_coeff, AUC = 0.704282\n",
      "X.shape (700, 1)\n",
      "method = edeg_density, AUC = 0.855142\n",
      "X.shape (700, 25)\n",
      "method = MACC k0=5, AUC = 0.895558\n",
      "X.shape (700, 100)\n",
      "method = MACC k0=10, AUC = 0.922369\n",
      "X.shape (700, 225)\n",
      "method = MACC k0=15, AUC = 0.946379\n",
      "X.shape (700, 400)\n",
      "method = MACC k0=20, AUC = 0.940776\n",
      "Classifying subgraphs in Caltech36-NYU9 ...\n",
      "sampling subgraphs with k=30 nodes\n"
     ]
    },
    {
     "name": "stderr",
     "output_type": "stream",
     "text": [
      "100%|████████████████████████████████████████████████████████████████████| 100/100 [00:00<00:00, 443.47it/s]\n",
      "100%|████████████████████████████████████████████████████████████████████| 100/100 [00:00<00:00, 622.28it/s]\n",
      "100%|████████████████████████████████████████████████████████████████████| 100/100 [00:00<00:00, 829.19it/s]\n",
      "100%|████████████████████████████████████████████████████████████████████| 100/100 [00:00<00:00, 120.15it/s]\n",
      "100%|████████████████████████████████████████████████████████████████████| 100/100 [00:00<00:00, 120.63it/s]\n",
      "100%|████████████████████████████████████████████████████████████████████| 100/100 [00:00<00:00, 133.43it/s]\n",
      "100%|████████████████████████████████████████████████████████████████████| 100/100 [00:00<00:00, 102.95it/s]\n"
     ]
    },
    {
     "name": "stdout",
     "output_type": "stream",
     "text": [
      "extracting subgraph features..\n"
     ]
    },
    {
     "name": "stderr",
     "output_type": "stream",
     "text": [
      "100%|█████████████████████████████████████████████████████████████████████| 700/700 [15:35<00:00,  1.34s/it]\n"
     ]
    },
    {
     "name": "stdout",
     "output_type": "stream",
     "text": [
      "X.shape (700, 1)\n",
      "method = num_nodes, AUC = 0.500000\n",
      "X.shape (700, 1)\n",
      "method = num_edges, AUC = 0.878952\n",
      "X.shape (700, 1)\n",
      "method = min_degree, AUC = 0.649660\n",
      "X.shape (700, 1)\n",
      "method = max_degree, AUC = 0.783313\n",
      "X.shape (700, 1)\n",
      "method = diameter, AUC = 0.791517\n",
      "X.shape (700, 1)\n",
      "method = degree_assortativity_coef, AUC = 0.554222\n",
      "X.shape (700, 1)\n",
      "method = num_cliques, AUC = 0.736495\n",
      "X.shape (700, 1)\n",
      "method = Avg_clustering_coeff, AUC = 0.794718\n",
      "X.shape (700, 1)\n",
      "method = edeg_density, AUC = 0.878952\n",
      "X.shape (700, 25)\n",
      "method = MACC k0=5, AUC = 0.893557\n",
      "X.shape (700, 100)\n",
      "method = MACC k0=10, AUC = 0.932773\n",
      "X.shape (700, 225)\n",
      "method = MACC k0=15, AUC = 0.931573\n",
      "X.shape (700, 400)\n",
      "method = MACC k0=20, AUC = 0.923169\n",
      "Classifying subgraphs in Caltech36-Virginia63 ...\n",
      "sampling subgraphs with k=30 nodes\n"
     ]
    },
    {
     "name": "stderr",
     "output_type": "stream",
     "text": [
      "100%|████████████████████████████████████████████████████████████████████| 100/100 [00:00<00:00, 742.07it/s]\n",
      "100%|████████████████████████████████████████████████████████████████████| 100/100 [00:00<00:00, 673.95it/s]\n",
      "100%|████████████████████████████████████████████████████████████████████| 100/100 [00:00<00:00, 763.47it/s]\n",
      "100%|████████████████████████████████████████████████████████████████████| 100/100 [00:00<00:00, 107.49it/s]\n",
      "100%|████████████████████████████████████████████████████████████████████| 100/100 [00:00<00:00, 110.14it/s]\n",
      "100%|████████████████████████████████████████████████████████████████████| 100/100 [00:00<00:00, 124.09it/s]\n",
      "100%|████████████████████████████████████████████████████████████████████| 100/100 [00:00<00:00, 115.04it/s]\n"
     ]
    },
    {
     "name": "stdout",
     "output_type": "stream",
     "text": [
      "extracting subgraph features..\n"
     ]
    },
    {
     "name": "stderr",
     "output_type": "stream",
     "text": [
      "100%|█████████████████████████████████████████████████████████████████████| 700/700 [15:36<00:00,  1.34s/it]\n"
     ]
    },
    {
     "name": "stdout",
     "output_type": "stream",
     "text": [
      "X.shape (700, 1)\n",
      "method = num_nodes, AUC = 0.500000\n",
      "X.shape (700, 1)\n",
      "method = num_edges, AUC = 0.851941\n",
      "X.shape (700, 1)\n",
      "method = min_degree, AUC = 0.633653\n",
      "X.shape (700, 1)\n",
      "method = max_degree, AUC = 0.745898\n",
      "X.shape (700, 1)\n",
      "method = diameter, AUC = 0.816727\n",
      "X.shape (700, 1)\n",
      "method = degree_assortativity_coef, AUC = 0.692677\n",
      "X.shape (700, 1)\n",
      "method = num_cliques, AUC = 0.732493\n",
      "X.shape (700, 1)\n",
      "method = Avg_clustering_coeff, AUC = 0.767507\n",
      "X.shape (700, 1)\n",
      "method = edeg_density, AUC = 0.851941\n",
      "X.shape (700, 25)\n",
      "method = MACC k0=5, AUC = 0.947179\n",
      "X.shape (700, 100)\n",
      "method = MACC k0=10, AUC = 0.955982\n",
      "X.shape (700, 225)\n",
      "method = MACC k0=15, AUC = 0.961585\n",
      "X.shape (700, 400)\n",
      "method = MACC k0=20, AUC = 0.959984\n",
      "Classifying subgraphs in Caltech36-UCLA26 ...\n",
      "sampling subgraphs with k=30 nodes\n"
     ]
    },
    {
     "name": "stderr",
     "output_type": "stream",
     "text": [
      "100%|████████████████████████████████████████████████████████████████████| 100/100 [00:00<00:00, 838.74it/s]\n",
      "100%|████████████████████████████████████████████████████████████████████| 100/100 [00:00<00:00, 724.83it/s]\n",
      "100%|████████████████████████████████████████████████████████████████████| 100/100 [00:00<00:00, 823.38it/s]\n",
      "100%|█████████████████████████████████████████████████████████████████████| 100/100 [00:01<00:00, 93.26it/s]\n",
      "100%|████████████████████████████████████████████████████████████████████| 100/100 [00:00<00:00, 118.98it/s]\n",
      "100%|████████████████████████████████████████████████████████████████████| 100/100 [00:00<00:00, 136.84it/s]\n",
      "100%|████████████████████████████████████████████████████████████████████| 100/100 [00:00<00:00, 110.41it/s]\n"
     ]
    },
    {
     "name": "stdout",
     "output_type": "stream",
     "text": [
      "extracting subgraph features..\n"
     ]
    },
    {
     "name": "stderr",
     "output_type": "stream",
     "text": [
      "100%|█████████████████████████████████████████████████████████████████████| 700/700 [15:36<00:00,  1.34s/it]\n"
     ]
    },
    {
     "name": "stdout",
     "output_type": "stream",
     "text": [
      "X.shape (700, 1)\n",
      "method = num_nodes, AUC = 0.500000\n",
      "X.shape (700, 1)\n",
      "method = num_edges, AUC = 0.846138\n",
      "X.shape (700, 1)\n",
      "method = min_degree, AUC = 0.676471\n",
      "X.shape (700, 1)\n",
      "method = max_degree, AUC = 0.804522\n",
      "X.shape (700, 1)\n",
      "method = diameter, AUC = 0.840536\n",
      "X.shape (700, 1)\n",
      "method = degree_assortativity_coef, AUC = 0.572629\n",
      "X.shape (700, 1)\n",
      "method = num_cliques, AUC = 0.734894\n",
      "X.shape (700, 1)\n",
      "method = Avg_clustering_coeff, AUC = 0.795118\n",
      "X.shape (700, 1)\n",
      "method = edeg_density, AUC = 0.846138\n",
      "X.shape (700, 25)\n",
      "method = MACC k0=5, AUC = 0.885954\n",
      "X.shape (700, 100)\n",
      "method = MACC k0=10, AUC = 0.911164\n",
      "X.shape (700, 225)\n",
      "method = MACC k0=15, AUC = 0.918768\n",
      "X.shape (700, 400)\n",
      "method = MACC k0=20, AUC = 0.910364\n",
      "Classifying subgraphs in Caltech36-Wisconsin87 ...\n",
      "sampling subgraphs with k=30 nodes\n"
     ]
    },
    {
     "name": "stderr",
     "output_type": "stream",
     "text": [
      "100%|████████████████████████████████████████████████████████████████████| 100/100 [00:00<00:00, 782.34it/s]\n",
      "100%|████████████████████████████████████████████████████████████████████| 100/100 [00:00<00:00, 596.85it/s]\n",
      "100%|████████████████████████████████████████████████████████████████████| 100/100 [00:00<00:00, 844.29it/s]\n",
      "100%|████████████████████████████████████████████████████████████████████| 100/100 [00:00<00:00, 118.90it/s]\n",
      "100%|████████████████████████████████████████████████████████████████████| 100/100 [00:00<00:00, 121.24it/s]\n",
      "100%|████████████████████████████████████████████████████████████████████| 100/100 [00:00<00:00, 139.40it/s]\n",
      "100%|████████████████████████████████████████████████████████████████████| 100/100 [00:00<00:00, 111.40it/s]\n"
     ]
    },
    {
     "name": "stdout",
     "output_type": "stream",
     "text": [
      "extracting subgraph features..\n"
     ]
    },
    {
     "name": "stderr",
     "output_type": "stream",
     "text": [
      "100%|█████████████████████████████████████████████████████████████████████| 700/700 [15:34<00:00,  1.33s/it]\n"
     ]
    },
    {
     "name": "stdout",
     "output_type": "stream",
     "text": [
      "X.shape (700, 1)\n",
      "method = num_nodes, AUC = 0.500000\n",
      "X.shape (700, 1)\n",
      "method = num_edges, AUC = 0.792317\n",
      "X.shape (700, 1)\n",
      "method = min_degree, AUC = 0.480192\n",
      "X.shape (700, 1)\n",
      "method = max_degree, AUC = 0.769908\n",
      "X.shape (700, 1)\n",
      "method = diameter, AUC = 0.695478\n",
      "X.shape (700, 1)\n",
      "method = degree_assortativity_coef, AUC = 0.544218\n",
      "X.shape (700, 1)\n",
      "method = num_cliques, AUC = 0.749900\n",
      "X.shape (700, 1)\n",
      "method = Avg_clustering_coeff, AUC = 0.707483\n",
      "X.shape (700, 1)\n",
      "method = edeg_density, AUC = 0.792317\n",
      "X.shape (700, 25)\n",
      "method = MACC k0=5, AUC = 0.849940\n",
      "X.shape (700, 100)\n",
      "method = MACC k0=10, AUC = 0.891156\n",
      "X.shape (700, 225)\n",
      "method = MACC k0=15, AUC = 0.875550\n",
      "X.shape (700, 400)\n",
      "method = MACC k0=20, AUC = 0.888756\n",
      "Classifying subgraphs in Simmons81-Reed98 ...\n",
      "sampling subgraphs with k=30 nodes\n"
     ]
    },
    {
     "name": "stderr",
     "output_type": "stream",
     "text": [
      "100%|████████████████████████████████████████████████████████████████████| 100/100 [00:00<00:00, 755.41it/s]\n",
      "100%|████████████████████████████████████████████████████████████████████| 100/100 [00:00<00:00, 650.10it/s]\n",
      "100%|████████████████████████████████████████████████████████████████████| 100/100 [00:00<00:00, 816.42it/s]\n",
      "100%|█████████████████████████████████████████████████████████████████████| 100/100 [00:01<00:00, 98.45it/s]\n",
      "100%|█████████████████████████████████████████████████████████████████████| 100/100 [00:01<00:00, 96.92it/s]\n",
      "100%|████████████████████████████████████████████████████████████████████| 100/100 [00:00<00:00, 137.91it/s]\n",
      "100%|████████████████████████████████████████████████████████████████████| 100/100 [00:00<00:00, 110.05it/s]\n"
     ]
    },
    {
     "name": "stdout",
     "output_type": "stream",
     "text": [
      "extracting subgraph features..\n"
     ]
    },
    {
     "name": "stderr",
     "output_type": "stream",
     "text": [
      "100%|█████████████████████████████████████████████████████████████████████| 700/700 [15:33<00:00,  1.33s/it]\n"
     ]
    },
    {
     "name": "stdout",
     "output_type": "stream",
     "text": [
      "X.shape (700, 1)\n",
      "method = num_nodes, AUC = 0.500000\n",
      "X.shape (700, 1)\n",
      "method = num_edges, AUC = 0.904562\n",
      "X.shape (700, 1)\n",
      "method = min_degree, AUC = 0.557423\n",
      "X.shape (700, 1)\n",
      "method = max_degree, AUC = 0.804122\n",
      "X.shape (700, 1)\n",
      "method = diameter, AUC = 0.792517\n",
      "X.shape (700, 1)\n",
      "method = degree_assortativity_coef, AUC = 0.733894\n",
      "X.shape (700, 1)\n",
      "method = num_cliques, AUC = 0.747299\n",
      "X.shape (700, 1)\n",
      "method = Avg_clustering_coeff, AUC = 0.770308\n",
      "X.shape (700, 1)\n",
      "method = edeg_density, AUC = 0.904562\n",
      "X.shape (700, 25)\n",
      "method = MACC k0=5, AUC = 0.907163\n",
      "X.shape (700, 100)\n",
      "method = MACC k0=10, AUC = 0.886355\n",
      "X.shape (700, 225)\n",
      "method = MACC k0=15, AUC = 0.893958\n",
      "X.shape (700, 400)\n",
      "method = MACC k0=20, AUC = 0.905562\n",
      "Classifying subgraphs in Simmons81-NYU9 ...\n",
      "sampling subgraphs with k=30 nodes\n"
     ]
    },
    {
     "name": "stderr",
     "output_type": "stream",
     "text": [
      "100%|████████████████████████████████████████████████████████████████████| 100/100 [00:00<00:00, 747.42it/s]\n",
      "100%|████████████████████████████████████████████████████████████████████| 100/100 [00:00<00:00, 711.23it/s]\n",
      "100%|████████████████████████████████████████████████████████████████████| 100/100 [00:00<00:00, 804.06it/s]\n",
      "100%|████████████████████████████████████████████████████████████████████| 100/100 [00:00<00:00, 106.17it/s]\n",
      "100%|████████████████████████████████████████████████████████████████████| 100/100 [00:00<00:00, 120.13it/s]\n",
      "100%|████████████████████████████████████████████████████████████████████| 100/100 [00:00<00:00, 103.58it/s]\n",
      "100%|████████████████████████████████████████████████████████████████████| 100/100 [00:00<00:00, 108.59it/s]\n"
     ]
    },
    {
     "name": "stdout",
     "output_type": "stream",
     "text": [
      "extracting subgraph features..\n"
     ]
    },
    {
     "name": "stderr",
     "output_type": "stream",
     "text": [
      "100%|█████████████████████████████████████████████████████████████████████| 700/700 [15:35<00:00,  1.34s/it]\n"
     ]
    },
    {
     "name": "stdout",
     "output_type": "stream",
     "text": [
      "X.shape (700, 1)\n",
      "method = num_nodes, AUC = 0.500000\n",
      "X.shape (700, 1)\n",
      "method = num_edges, AUC = 0.817727\n",
      "X.shape (700, 1)\n",
      "method = min_degree, AUC = 0.635054\n",
      "X.shape (700, 1)\n",
      "method = max_degree, AUC = 0.722889\n",
      "X.shape (700, 1)\n",
      "method = diameter, AUC = 0.803521\n",
      "X.shape (700, 1)\n",
      "method = degree_assortativity_coef, AUC = 0.617047\n",
      "X.shape (700, 1)\n",
      "method = num_cliques, AUC = 0.722689\n",
      "X.shape (700, 1)\n",
      "method = Avg_clustering_coeff, AUC = 0.695478\n",
      "X.shape (700, 1)\n",
      "method = edeg_density, AUC = 0.817727\n",
      "X.shape (700, 25)\n",
      "method = MACC k0=5, AUC = 0.877151\n",
      "X.shape (700, 100)\n",
      "method = MACC k0=10, AUC = 0.941176\n",
      "X.shape (700, 225)\n",
      "method = MACC k0=15, AUC = 0.941977\n",
      "X.shape (700, 400)\n",
      "method = MACC k0=20, AUC = 0.934374\n",
      "Classifying subgraphs in Simmons81-Virginia63 ...\n",
      "sampling subgraphs with k=30 nodes\n"
     ]
    },
    {
     "name": "stderr",
     "output_type": "stream",
     "text": [
      "100%|████████████████████████████████████████████████████████████████████| 100/100 [00:00<00:00, 842.21it/s]\n",
      "100%|████████████████████████████████████████████████████████████████████| 100/100 [00:00<00:00, 705.34it/s]\n",
      "100%|████████████████████████████████████████████████████████████████████| 100/100 [00:00<00:00, 853.34it/s]\n",
      "100%|█████████████████████████████████████████████████████████████████████| 100/100 [00:01<00:00, 89.31it/s]\n",
      "100%|████████████████████████████████████████████████████████████████████| 100/100 [00:00<00:00, 121.72it/s]\n",
      "100%|████████████████████████████████████████████████████████████████████| 100/100 [00:00<00:00, 137.36it/s]\n",
      "100%|████████████████████████████████████████████████████████████████████| 100/100 [00:00<00:00, 111.75it/s]\n"
     ]
    },
    {
     "name": "stdout",
     "output_type": "stream",
     "text": [
      "extracting subgraph features..\n"
     ]
    },
    {
     "name": "stderr",
     "output_type": "stream",
     "text": [
      "100%|█████████████████████████████████████████████████████████████████████| 700/700 [15:34<00:00,  1.34s/it]\n"
     ]
    },
    {
     "name": "stdout",
     "output_type": "stream",
     "text": [
      "X.shape (700, 1)\n",
      "method = num_nodes, AUC = 0.500000\n",
      "X.shape (700, 1)\n",
      "method = num_edges, AUC = 0.833333\n",
      "X.shape (700, 1)\n",
      "method = min_degree, AUC = 0.633854\n",
      "X.shape (700, 1)\n",
      "method = max_degree, AUC = 0.736094\n",
      "X.shape (700, 1)\n",
      "method = diameter, AUC = 0.807523\n",
      "X.shape (700, 1)\n",
      "method = degree_assortativity_coef, AUC = 0.613045\n",
      "X.shape (700, 1)\n",
      "method = num_cliques, AUC = 0.704082\n",
      "X.shape (700, 1)\n",
      "method = Avg_clustering_coeff, AUC = 0.758303\n",
      "X.shape (700, 1)\n",
      "method = edeg_density, AUC = 0.833333\n",
      "X.shape (700, 25)\n",
      "method = MACC k0=5, AUC = 0.911565\n",
      "X.shape (700, 100)\n",
      "method = MACC k0=10, AUC = 0.954782\n",
      "X.shape (700, 225)\n",
      "method = MACC k0=15, AUC = 0.951981\n",
      "X.shape (700, 400)\n",
      "method = MACC k0=20, AUC = 0.953982\n",
      "Classifying subgraphs in Simmons81-UCLA26 ...\n",
      "sampling subgraphs with k=30 nodes\n"
     ]
    },
    {
     "name": "stderr",
     "output_type": "stream",
     "text": [
      "100%|████████████████████████████████████████████████████████████████████| 100/100 [00:00<00:00, 828.93it/s]\n",
      "100%|████████████████████████████████████████████████████████████████████| 100/100 [00:00<00:00, 661.17it/s]\n",
      "100%|████████████████████████████████████████████████████████████████████| 100/100 [00:00<00:00, 837.65it/s]\n",
      "100%|████████████████████████████████████████████████████████████████████| 100/100 [00:00<00:00, 107.84it/s]\n",
      "100%|████████████████████████████████████████████████████████████████████| 100/100 [00:00<00:00, 116.72it/s]\n",
      "100%|████████████████████████████████████████████████████████████████████| 100/100 [00:00<00:00, 121.71it/s]\n",
      "100%|████████████████████████████████████████████████████████████████████| 100/100 [00:00<00:00, 101.38it/s]\n"
     ]
    },
    {
     "name": "stdout",
     "output_type": "stream",
     "text": [
      "extracting subgraph features..\n"
     ]
    },
    {
     "name": "stderr",
     "output_type": "stream",
     "text": [
      "100%|█████████████████████████████████████████████████████████████████████| 700/700 [15:35<00:00,  1.34s/it]\n"
     ]
    },
    {
     "name": "stdout",
     "output_type": "stream",
     "text": [
      "X.shape (700, 1)\n",
      "method = num_nodes, AUC = 0.500000\n",
      "X.shape (700, 1)\n",
      "method = num_edges, AUC = 0.848940\n",
      "X.shape (700, 1)\n",
      "method = min_degree, AUC = 0.561825\n",
      "X.shape (700, 1)\n",
      "method = max_degree, AUC = 0.711285\n",
      "X.shape (700, 1)\n",
      "method = diameter, AUC = 0.781513\n",
      "X.shape (700, 1)\n",
      "method = degree_assortativity_coef, AUC = 0.690276\n",
      "X.shape (700, 1)\n",
      "method = num_cliques, AUC = 0.710084\n",
      "X.shape (700, 1)\n",
      "method = Avg_clustering_coeff, AUC = 0.763906\n",
      "X.shape (700, 1)\n",
      "method = edeg_density, AUC = 0.848940\n",
      "X.shape (700, 25)\n",
      "method = MACC k0=5, AUC = 0.903561\n",
      "X.shape (700, 100)\n",
      "method = MACC k0=10, AUC = 0.916367\n",
      "X.shape (700, 225)\n",
      "method = MACC k0=15, AUC = 0.917567\n",
      "X.shape (700, 400)\n",
      "method = MACC k0=20, AUC = 0.924770\n",
      "Classifying subgraphs in Simmons81-Wisconsin87 ...\n",
      "sampling subgraphs with k=30 nodes\n"
     ]
    },
    {
     "name": "stderr",
     "output_type": "stream",
     "text": [
      "100%|████████████████████████████████████████████████████████████████████| 100/100 [00:00<00:00, 774.41it/s]\n",
      "100%|████████████████████████████████████████████████████████████████████| 100/100 [00:00<00:00, 576.01it/s]\n",
      "100%|████████████████████████████████████████████████████████████████████| 100/100 [00:00<00:00, 841.38it/s]\n",
      "100%|████████████████████████████████████████████████████████████████████| 100/100 [00:00<00:00, 116.38it/s]\n",
      "100%|████████████████████████████████████████████████████████████████████| 100/100 [00:00<00:00, 123.07it/s]\n",
      "100%|████████████████████████████████████████████████████████████████████| 100/100 [00:00<00:00, 138.90it/s]\n",
      "100%|████████████████████████████████████████████████████████████████████| 100/100 [00:00<00:00, 103.87it/s]\n"
     ]
    },
    {
     "name": "stdout",
     "output_type": "stream",
     "text": [
      "extracting subgraph features..\n"
     ]
    },
    {
     "name": "stderr",
     "output_type": "stream",
     "text": [
      "100%|█████████████████████████████████████████████████████████████████████| 700/700 [15:33<00:00,  1.33s/it]\n"
     ]
    },
    {
     "name": "stdout",
     "output_type": "stream",
     "text": [
      "X.shape (700, 1)\n",
      "method = num_nodes, AUC = 0.500000\n",
      "X.shape (700, 1)\n",
      "method = num_edges, AUC = 0.862145\n",
      "X.shape (700, 1)\n",
      "method = min_degree, AUC = 0.536815\n",
      "X.shape (700, 1)\n",
      "method = max_degree, AUC = 0.787915\n",
      "X.shape (700, 1)\n",
      "method = diameter, AUC = 0.815526\n",
      "X.shape (700, 1)\n",
      "method = degree_assortativity_coef, AUC = 0.608243\n",
      "X.shape (700, 1)\n",
      "method = num_cliques, AUC = 0.748699\n",
      "X.shape (700, 1)\n",
      "method = Avg_clustering_coeff, AUC = 0.736695\n",
      "X.shape (700, 1)\n",
      "method = edeg_density, AUC = 0.862145\n",
      "X.shape (700, 25)\n",
      "method = MACC k0=5, AUC = 0.885154\n",
      "X.shape (700, 100)\n",
      "method = MACC k0=10, AUC = 0.915166\n",
      "X.shape (700, 225)\n",
      "method = MACC k0=15, AUC = 0.935574\n",
      "X.shape (700, 400)\n",
      "method = MACC k0=20, AUC = 0.920768\n",
      "Classifying subgraphs in Reed98-NYU9 ...\n",
      "sampling subgraphs with k=30 nodes\n"
     ]
    },
    {
     "name": "stderr",
     "output_type": "stream",
     "text": [
      "100%|████████████████████████████████████████████████████████████████████| 100/100 [00:00<00:00, 775.77it/s]\n",
      "100%|████████████████████████████████████████████████████████████████████| 100/100 [00:00<00:00, 699.29it/s]\n",
      "100%|████████████████████████████████████████████████████████████████████| 100/100 [00:00<00:00, 819.88it/s]\n",
      "100%|████████████████████████████████████████████████████████████████████| 100/100 [00:00<00:00, 110.93it/s]\n",
      "100%|████████████████████████████████████████████████████████████████████| 100/100 [00:00<00:00, 109.39it/s]\n",
      "100%|████████████████████████████████████████████████████████████████████| 100/100 [00:00<00:00, 126.48it/s]\n",
      "100%|█████████████████████████████████████████████████████████████████████| 100/100 [00:01<00:00, 98.40it/s]\n"
     ]
    },
    {
     "name": "stdout",
     "output_type": "stream",
     "text": [
      "extracting subgraph features..\n"
     ]
    },
    {
     "name": "stderr",
     "output_type": "stream",
     "text": [
      "100%|█████████████████████████████████████████████████████████████████████| 700/700 [15:33<00:00,  1.33s/it]\n"
     ]
    },
    {
     "name": "stdout",
     "output_type": "stream",
     "text": [
      "X.shape (700, 1)\n",
      "method = num_nodes, AUC = 0.500000\n",
      "X.shape (700, 1)\n",
      "method = num_edges, AUC = 0.913165\n",
      "X.shape (700, 1)\n",
      "method = min_degree, AUC = 0.608243\n",
      "X.shape (700, 1)\n",
      "method = max_degree, AUC = 0.843137\n",
      "X.shape (700, 1)\n",
      "method = diameter, AUC = 0.786715\n",
      "X.shape (700, 1)\n",
      "method = degree_assortativity_coef, AUC = 0.652661\n",
      "X.shape (700, 1)\n",
      "method = num_cliques, AUC = 0.708884\n",
      "X.shape (700, 1)\n",
      "method = Avg_clustering_coeff, AUC = 0.803922\n",
      "X.shape (700, 1)\n",
      "method = edeg_density, AUC = 0.913165\n",
      "X.shape (700, 25)\n",
      "method = MACC k0=5, AUC = 0.921168\n",
      "X.shape (700, 100)\n",
      "method = MACC k0=10, AUC = 0.914366\n",
      "X.shape (700, 225)\n",
      "method = MACC k0=15, AUC = 0.900360\n",
      "X.shape (700, 400)\n",
      "method = MACC k0=20, AUC = 0.901561\n",
      "Classifying subgraphs in Reed98-Virginia63 ...\n",
      "sampling subgraphs with k=30 nodes\n"
     ]
    },
    {
     "name": "stderr",
     "output_type": "stream",
     "text": [
      "100%|████████████████████████████████████████████████████████████████████| 100/100 [00:00<00:00, 650.91it/s]\n",
      "100%|████████████████████████████████████████████████████████████████████| 100/100 [00:00<00:00, 726.46it/s]\n",
      "100%|████████████████████████████████████████████████████████████████████| 100/100 [00:00<00:00, 828.54it/s]\n",
      "100%|█████████████████████████████████████████████████████████████████████| 100/100 [00:01<00:00, 80.68it/s]\n",
      "100%|████████████████████████████████████████████████████████████████████| 100/100 [00:00<00:00, 112.96it/s]\n",
      "100%|████████████████████████████████████████████████████████████████████| 100/100 [00:00<00:00, 127.25it/s]\n",
      "100%|████████████████████████████████████████████████████████████████████| 100/100 [00:00<00:00, 100.50it/s]\n"
     ]
    },
    {
     "name": "stdout",
     "output_type": "stream",
     "text": [
      "extracting subgraph features..\n"
     ]
    },
    {
     "name": "stderr",
     "output_type": "stream",
     "text": [
      "100%|█████████████████████████████████████████████████████████████████████| 700/700 [15:29<00:00,  1.33s/it]\n"
     ]
    },
    {
     "name": "stdout",
     "output_type": "stream",
     "text": [
      "X.shape (700, 1)\n",
      "method = num_nodes, AUC = 0.500000\n",
      "X.shape (700, 1)\n",
      "method = num_edges, AUC = 0.843337\n",
      "X.shape (700, 1)\n",
      "method = min_degree, AUC = 0.529412\n",
      "X.shape (700, 1)\n",
      "method = max_degree, AUC = 0.741897\n",
      "X.shape (700, 1)\n",
      "method = diameter, AUC = 0.800320\n",
      "X.shape (700, 1)\n",
      "method = degree_assortativity_coef, AUC = 0.650660\n",
      "X.shape (700, 1)\n",
      "method = num_cliques, AUC = 0.768107\n",
      "X.shape (700, 1)\n",
      "method = Avg_clustering_coeff, AUC = 0.753501\n",
      "X.shape (700, 1)\n",
      "method = edeg_density, AUC = 0.843337\n",
      "X.shape (700, 25)\n",
      "method = MACC k0=5, AUC = 0.853141\n",
      "X.shape (700, 100)\n",
      "method = MACC k0=10, AUC = 0.890756\n",
      "X.shape (700, 225)\n",
      "method = MACC k0=15, AUC = 0.909564\n",
      "X.shape (700, 400)\n",
      "method = MACC k0=20, AUC = 0.897159\n",
      "Classifying subgraphs in Reed98-UCLA26 ...\n",
      "sampling subgraphs with k=30 nodes\n"
     ]
    },
    {
     "name": "stderr",
     "output_type": "stream",
     "text": [
      "100%|████████████████████████████████████████████████████████████████████| 100/100 [00:00<00:00, 827.00it/s]\n",
      "100%|████████████████████████████████████████████████████████████████████| 100/100 [00:00<00:00, 563.53it/s]\n",
      "100%|████████████████████████████████████████████████████████████████████| 100/100 [00:00<00:00, 893.26it/s]\n",
      "100%|████████████████████████████████████████████████████████████████████| 100/100 [00:00<00:00, 133.14it/s]\n",
      "100%|████████████████████████████████████████████████████████████████████| 100/100 [00:00<00:00, 131.90it/s]\n",
      "100%|████████████████████████████████████████████████████████████████████| 100/100 [00:00<00:00, 114.70it/s]\n",
      "100%|████████████████████████████████████████████████████████████████████| 100/100 [00:00<00:00, 122.56it/s]\n"
     ]
    },
    {
     "name": "stdout",
     "output_type": "stream",
     "text": [
      "extracting subgraph features..\n"
     ]
    },
    {
     "name": "stderr",
     "output_type": "stream",
     "text": [
      "100%|█████████████████████████████████████████████████████████████████████| 700/700 [15:22<00:00,  1.32s/it]\n"
     ]
    },
    {
     "name": "stdout",
     "output_type": "stream",
     "text": [
      "X.shape (700, 1)\n",
      "method = num_nodes, AUC = 0.500000\n",
      "X.shape (700, 1)\n",
      "method = num_edges, AUC = 0.758303\n",
      "X.shape (700, 1)\n",
      "method = min_degree, AUC = 0.571028\n",
      "X.shape (700, 1)\n",
      "method = max_degree, AUC = 0.682273\n",
      "X.shape (700, 1)\n",
      "method = diameter, AUC = 0.761104\n",
      "X.shape (700, 1)\n",
      "method = degree_assortativity_coef, AUC = 0.517807\n",
      "X.shape (700, 1)\n",
      "method = num_cliques, AUC = 0.697679\n",
      "X.shape (700, 1)\n",
      "method = Avg_clustering_coeff, AUC = 0.669868\n",
      "X.shape (700, 1)\n",
      "method = edeg_density, AUC = 0.758303\n",
      "X.shape (700, 25)\n",
      "method = MACC k0=5, AUC = 0.840736\n",
      "X.shape (700, 100)\n",
      "method = MACC k0=10, AUC = 0.920768\n",
      "X.shape (700, 225)\n",
      "method = MACC k0=15, AUC = 0.896359\n",
      "X.shape (700, 400)\n",
      "method = MACC k0=20, AUC = 0.925570\n",
      "Classifying subgraphs in Reed98-Wisconsin87 ...\n",
      "sampling subgraphs with k=30 nodes\n"
     ]
    },
    {
     "name": "stderr",
     "output_type": "stream",
     "text": [
      "100%|████████████████████████████████████████████████████████████████████| 100/100 [00:00<00:00, 818.87it/s]\n",
      "100%|████████████████████████████████████████████████████████████████████| 100/100 [00:00<00:00, 738.13it/s]\n",
      "100%|████████████████████████████████████████████████████████████████████| 100/100 [00:00<00:00, 822.92it/s]\n",
      "100%|████████████████████████████████████████████████████████████████████| 100/100 [00:00<00:00, 123.92it/s]\n",
      "100%|████████████████████████████████████████████████████████████████████| 100/100 [00:00<00:00, 115.64it/s]\n",
      "100%|█████████████████████████████████████████████████████████████████████| 100/100 [00:01<00:00, 94.30it/s]\n",
      "100%|████████████████████████████████████████████████████████████████████| 100/100 [00:00<00:00, 111.18it/s]\n"
     ]
    },
    {
     "name": "stdout",
     "output_type": "stream",
     "text": [
      "extracting subgraph features..\n"
     ]
    },
    {
     "name": "stderr",
     "output_type": "stream",
     "text": [
      "100%|█████████████████████████████████████████████████████████████████████| 700/700 [15:32<00:00,  1.33s/it]\n"
     ]
    },
    {
     "name": "stdout",
     "output_type": "stream",
     "text": [
      "X.shape (700, 1)\n",
      "method = num_nodes, AUC = 0.500000\n",
      "X.shape (700, 1)\n",
      "method = num_edges, AUC = 0.930972\n",
      "X.shape (700, 1)\n",
      "method = min_degree, AUC = 0.655662\n",
      "X.shape (700, 1)\n",
      "method = max_degree, AUC = 0.851941\n",
      "X.shape (700, 1)\n",
      "method = diameter, AUC = 0.844738\n",
      "X.shape (700, 1)\n",
      "method = degree_assortativity_coef, AUC = 0.644658\n",
      "X.shape (700, 1)\n",
      "method = num_cliques, AUC = 0.822529\n",
      "X.shape (700, 1)\n",
      "method = Avg_clustering_coeff, AUC = 0.824330\n",
      "X.shape (700, 1)\n",
      "method = edeg_density, AUC = 0.930972\n",
      "X.shape (700, 25)\n",
      "method = MACC k0=5, AUC = 0.929972\n",
      "X.shape (700, 100)\n",
      "method = MACC k0=10, AUC = 0.964786\n",
      "X.shape (700, 225)\n",
      "method = MACC k0=15, AUC = 0.969188\n",
      "X.shape (700, 400)\n",
      "method = MACC k0=20, AUC = 0.955182\n",
      "Classifying subgraphs in NYU9-Virginia63 ...\n",
      "sampling subgraphs with k=30 nodes\n"
     ]
    },
    {
     "name": "stderr",
     "output_type": "stream",
     "text": [
      "100%|████████████████████████████████████████████████████████████████████| 100/100 [00:00<00:00, 705.04it/s]\n",
      "100%|████████████████████████████████████████████████████████████████████| 100/100 [00:00<00:00, 750.23it/s]\n",
      "100%|████████████████████████████████████████████████████████████████████| 100/100 [00:00<00:00, 839.57it/s]\n",
      "100%|█████████████████████████████████████████████████████████████████████| 100/100 [00:01<00:00, 90.15it/s]\n",
      "100%|█████████████████████████████████████████████████████████████████████| 100/100 [00:01<00:00, 99.92it/s]\n",
      "100%|████████████████████████████████████████████████████████████████████| 100/100 [00:00<00:00, 131.88it/s]\n",
      "100%|█████████████████████████████████████████████████████████████████████| 100/100 [00:01<00:00, 99.40it/s]\n"
     ]
    },
    {
     "name": "stdout",
     "output_type": "stream",
     "text": [
      "extracting subgraph features..\n"
     ]
    },
    {
     "name": "stderr",
     "output_type": "stream",
     "text": [
      "100%|█████████████████████████████████████████████████████████████████████| 700/700 [15:31<00:00,  1.33s/it]\n"
     ]
    },
    {
     "name": "stdout",
     "output_type": "stream",
     "text": [
      "X.shape (700, 1)\n",
      "method = num_nodes, AUC = 0.500000\n",
      "X.shape (700, 1)\n",
      "method = num_edges, AUC = 0.902961\n",
      "X.shape (700, 1)\n",
      "method = min_degree, AUC = 0.624850\n",
      "X.shape (700, 1)\n",
      "method = max_degree, AUC = 0.817527\n",
      "X.shape (700, 1)\n",
      "method = diameter, AUC = 0.844938\n",
      "X.shape (700, 1)\n",
      "method = degree_assortativity_coef, AUC = 0.636655\n",
      "X.shape (700, 1)\n",
      "method = num_cliques, AUC = 0.761705\n",
      "X.shape (700, 1)\n",
      "method = Avg_clustering_coeff, AUC = 0.759904\n",
      "X.shape (700, 1)\n",
      "method = edeg_density, AUC = 0.902961\n",
      "X.shape (700, 25)\n",
      "method = MACC k0=5, AUC = 0.890756\n",
      "X.shape (700, 100)\n",
      "method = MACC k0=10, AUC = 0.901561\n",
      "X.shape (700, 225)\n",
      "method = MACC k0=15, AUC = 0.914366\n",
      "X.shape (700, 400)\n",
      "method = MACC k0=20, AUC = 0.926371\n",
      "Classifying subgraphs in NYU9-UCLA26 ...\n",
      "sampling subgraphs with k=30 nodes\n"
     ]
    },
    {
     "name": "stderr",
     "output_type": "stream",
     "text": [
      "100%|████████████████████████████████████████████████████████████████████| 100/100 [00:00<00:00, 757.21it/s]\n",
      "100%|████████████████████████████████████████████████████████████████████| 100/100 [00:00<00:00, 606.43it/s]\n",
      "100%|████████████████████████████████████████████████████████████████████| 100/100 [00:00<00:00, 831.98it/s]\n",
      "100%|████████████████████████████████████████████████████████████████████| 100/100 [00:00<00:00, 118.08it/s]\n",
      "100%|████████████████████████████████████████████████████████████████████| 100/100 [00:00<00:00, 120.94it/s]\n",
      "100%|████████████████████████████████████████████████████████████████████| 100/100 [00:00<00:00, 129.30it/s]\n",
      "100%|████████████████████████████████████████████████████████████████████| 100/100 [00:00<00:00, 106.25it/s]\n"
     ]
    },
    {
     "name": "stdout",
     "output_type": "stream",
     "text": [
      "extracting subgraph features..\n"
     ]
    },
    {
     "name": "stderr",
     "output_type": "stream",
     "text": [
      "100%|█████████████████████████████████████████████████████████████████████| 700/700 [15:13<00:00,  1.31s/it]\n"
     ]
    },
    {
     "name": "stdout",
     "output_type": "stream",
     "text": [
      "X.shape (700, 1)\n",
      "method = num_nodes, AUC = 0.500000\n",
      "X.shape (700, 1)\n",
      "method = num_edges, AUC = 0.858944\n",
      "X.shape (700, 1)\n",
      "method = min_degree, AUC = 0.608643\n",
      "X.shape (700, 1)\n",
      "method = max_degree, AUC = 0.804922\n",
      "X.shape (700, 1)\n",
      "method = diameter, AUC = 0.828531\n",
      "X.shape (700, 1)\n",
      "method = degree_assortativity_coef, AUC = 0.607843\n",
      "X.shape (700, 1)\n",
      "method = num_cliques, AUC = 0.715286\n",
      "X.shape (700, 1)\n",
      "method = Avg_clustering_coeff, AUC = 0.733093\n",
      "X.shape (700, 1)\n",
      "method = edeg_density, AUC = 0.858944\n",
      "X.shape (700, 25)\n",
      "method = MACC k0=5, AUC = 0.834334\n",
      "X.shape (700, 100)\n",
      "method = MACC k0=10, AUC = 0.865146\n",
      "X.shape (700, 225)\n",
      "method = MACC k0=15, AUC = 0.895558\n",
      "X.shape (700, 400)\n",
      "method = MACC k0=20, AUC = 0.882353\n",
      "Classifying subgraphs in NYU9-Wisconsin87 ...\n",
      "sampling subgraphs with k=30 nodes\n"
     ]
    },
    {
     "name": "stderr",
     "output_type": "stream",
     "text": [
      "100%|████████████████████████████████████████████████████████████████████| 100/100 [00:00<00:00, 728.62it/s]\n",
      "100%|████████████████████████████████████████████████████████████████████| 100/100 [00:00<00:00, 717.79it/s]\n",
      "100%|████████████████████████████████████████████████████████████████████| 100/100 [00:00<00:00, 799.22it/s]\n",
      "100%|████████████████████████████████████████████████████████████████████| 100/100 [00:00<00:00, 102.69it/s]\n",
      "100%|█████████████████████████████████████████████████████████████████████| 100/100 [00:01<00:00, 81.45it/s]\n",
      "100%|████████████████████████████████████████████████████████████████████| 100/100 [00:00<00:00, 125.77it/s]\n",
      "100%|████████████████████████████████████████████████████████████████████| 100/100 [00:00<00:00, 105.51it/s]\n"
     ]
    },
    {
     "name": "stdout",
     "output_type": "stream",
     "text": [
      "extracting subgraph features..\n"
     ]
    },
    {
     "name": "stderr",
     "output_type": "stream",
     "text": [
      "100%|█████████████████████████████████████████████████████████████████████| 700/700 [15:33<00:00,  1.33s/it]\n"
     ]
    },
    {
     "name": "stdout",
     "output_type": "stream",
     "text": [
      "X.shape (700, 1)\n",
      "method = num_nodes, AUC = 0.500000\n",
      "X.shape (700, 1)\n",
      "method = num_edges, AUC = 0.879352\n",
      "X.shape (700, 1)\n",
      "method = min_degree, AUC = 0.636855\n",
      "X.shape (700, 1)\n",
      "method = max_degree, AUC = 0.759704\n",
      "X.shape (700, 1)\n",
      "method = diameter, AUC = 0.870548\n",
      "X.shape (700, 1)\n",
      "method = degree_assortativity_coef, AUC = 0.681473\n",
      "X.shape (700, 1)\n",
      "method = num_cliques, AUC = 0.716086\n",
      "X.shape (700, 1)\n",
      "method = Avg_clustering_coeff, AUC = 0.750700\n",
      "X.shape (700, 1)\n",
      "method = edeg_density, AUC = 0.879352\n",
      "X.shape (700, 25)\n",
      "method = MACC k0=5, AUC = 0.890356\n",
      "X.shape (700, 100)\n",
      "method = MACC k0=10, AUC = 0.894358\n",
      "X.shape (700, 225)\n",
      "method = MACC k0=15, AUC = 0.887555\n",
      "X.shape (700, 400)\n",
      "method = MACC k0=20, AUC = 0.910364\n",
      "Classifying subgraphs in Virginia63-UCLA26 ...\n",
      "sampling subgraphs with k=30 nodes\n"
     ]
    },
    {
     "name": "stderr",
     "output_type": "stream",
     "text": [
      "100%|████████████████████████████████████████████████████████████████████| 100/100 [00:00<00:00, 771.93it/s]\n",
      "100%|████████████████████████████████████████████████████████████████████| 100/100 [00:00<00:00, 721.42it/s]\n",
      "100%|████████████████████████████████████████████████████████████████████| 100/100 [00:00<00:00, 835.18it/s]\n",
      "100%|████████████████████████████████████████████████████████████████████| 100/100 [00:00<00:00, 115.63it/s]\n",
      "100%|████████████████████████████████████████████████████████████████████| 100/100 [00:00<00:00, 120.72it/s]\n",
      "100%|████████████████████████████████████████████████████████████████████| 100/100 [00:00<00:00, 137.87it/s]\n",
      "100%|████████████████████████████████████████████████████████████████████| 100/100 [00:00<00:00, 109.99it/s]\n"
     ]
    },
    {
     "name": "stdout",
     "output_type": "stream",
     "text": [
      "extracting subgraph features..\n"
     ]
    },
    {
     "name": "stderr",
     "output_type": "stream",
     "text": [
      "100%|█████████████████████████████████████████████████████████████████████| 700/700 [15:34<00:00,  1.34s/it]\n"
     ]
    },
    {
     "name": "stdout",
     "output_type": "stream",
     "text": [
      "X.shape (700, 1)\n",
      "method = num_nodes, AUC = 0.500000\n",
      "X.shape (700, 1)\n",
      "method = num_edges, AUC = 0.868547\n",
      "X.shape (700, 1)\n",
      "method = min_degree, AUC = 0.574630\n",
      "X.shape (700, 1)\n",
      "method = max_degree, AUC = 0.781913\n",
      "X.shape (700, 1)\n",
      "method = diameter, AUC = 0.805322\n",
      "X.shape (700, 1)\n",
      "method = degree_assortativity_coef, AUC = 0.678671\n",
      "X.shape (700, 1)\n",
      "method = num_cliques, AUC = 0.771309\n",
      "X.shape (700, 1)\n",
      "method = Avg_clustering_coeff, AUC = 0.827931\n",
      "X.shape (700, 1)\n",
      "method = edeg_density, AUC = 0.868547\n",
      "X.shape (700, 25)\n",
      "method = MACC k0=5, AUC = 0.935574\n",
      "X.shape (700, 100)\n",
      "method = MACC k0=10, AUC = 0.941977\n",
      "X.shape (700, 225)\n",
      "method = MACC k0=15, AUC = 0.945578\n",
      "X.shape (700, 400)\n",
      "method = MACC k0=20, AUC = 0.950380\n",
      "Classifying subgraphs in Virginia63-Wisconsin87 ...\n",
      "sampling subgraphs with k=30 nodes\n"
     ]
    },
    {
     "name": "stderr",
     "output_type": "stream",
     "text": [
      "100%|████████████████████████████████████████████████████████████████████| 100/100 [00:00<00:00, 832.18it/s]\n",
      "100%|████████████████████████████████████████████████████████████████████| 100/100 [00:00<00:00, 651.02it/s]\n",
      "100%|████████████████████████████████████████████████████████████████████| 100/100 [00:00<00:00, 802.21it/s]\n",
      "100%|█████████████████████████████████████████████████████████████████████| 100/100 [00:01<00:00, 88.67it/s]\n",
      "100%|████████████████████████████████████████████████████████████████████| 100/100 [00:00<00:00, 113.54it/s]\n",
      "100%|████████████████████████████████████████████████████████████████████| 100/100 [00:00<00:00, 125.88it/s]\n",
      "100%|████████████████████████████████████████████████████████████████████| 100/100 [00:00<00:00, 102.76it/s]\n"
     ]
    },
    {
     "name": "stdout",
     "output_type": "stream",
     "text": [
      "extracting subgraph features..\n"
     ]
    },
    {
     "name": "stderr",
     "output_type": "stream",
     "text": [
      "100%|█████████████████████████████████████████████████████████████████████| 700/700 [15:26<00:00,  1.32s/it]\n"
     ]
    },
    {
     "name": "stdout",
     "output_type": "stream",
     "text": [
      "X.shape (700, 1)\n",
      "method = num_nodes, AUC = 0.500000\n",
      "X.shape (700, 1)\n",
      "method = num_edges, AUC = 0.869548\n",
      "X.shape (700, 1)\n",
      "method = min_degree, AUC = 0.620448\n",
      "X.shape (700, 1)\n",
      "method = max_degree, AUC = 0.735894\n",
      "X.shape (700, 1)\n",
      "method = diameter, AUC = 0.869948\n",
      "X.shape (700, 1)\n",
      "method = degree_assortativity_coef, AUC = 0.559024\n",
      "X.shape (700, 1)\n",
      "method = num_cliques, AUC = 0.709484\n",
      "X.shape (700, 1)\n",
      "method = Avg_clustering_coeff, AUC = 0.735894\n",
      "X.shape (700, 1)\n",
      "method = edeg_density, AUC = 0.869548\n",
      "X.shape (700, 25)\n",
      "method = MACC k0=5, AUC = 0.922769\n",
      "X.shape (700, 100)\n",
      "method = MACC k0=10, AUC = 0.933173\n",
      "X.shape (700, 225)\n",
      "method = MACC k0=15, AUC = 0.941577\n",
      "X.shape (700, 400)\n",
      "method = MACC k0=20, AUC = 0.948780\n",
      "Classifying subgraphs in UCLA26-Wisconsin87 ...\n",
      "sampling subgraphs with k=30 nodes\n"
     ]
    },
    {
     "name": "stderr",
     "output_type": "stream",
     "text": [
      "100%|████████████████████████████████████████████████████████████████████| 100/100 [00:00<00:00, 821.95it/s]\n",
      "100%|████████████████████████████████████████████████████████████████████| 100/100 [00:00<00:00, 762.88it/s]\n",
      "100%|████████████████████████████████████████████████████████████████████| 100/100 [00:00<00:00, 867.27it/s]\n",
      "100%|████████████████████████████████████████████████████████████████████| 100/100 [00:00<00:00, 131.72it/s]\n",
      "100%|████████████████████████████████████████████████████████████████████| 100/100 [00:00<00:00, 133.12it/s]\n",
      "100%|████████████████████████████████████████████████████████████████████| 100/100 [00:00<00:00, 150.08it/s]\n",
      "100%|████████████████████████████████████████████████████████████████████| 100/100 [00:00<00:00, 119.32it/s]\n"
     ]
    },
    {
     "name": "stdout",
     "output_type": "stream",
     "text": [
      "extracting subgraph features..\n"
     ]
    },
    {
     "name": "stderr",
     "output_type": "stream",
     "text": [
      "100%|█████████████████████████████████████████████████████████████████████| 700/700 [15:21<00:00,  1.32s/it]\n"
     ]
    },
    {
     "name": "stdout",
     "output_type": "stream",
     "text": [
      "X.shape (700, 1)\n",
      "method = num_nodes, AUC = 0.500000\n",
      "X.shape (700, 1)\n",
      "method = num_edges, AUC = 0.868948\n",
      "X.shape (700, 1)\n",
      "method = min_degree, AUC = 0.553021\n",
      "X.shape (700, 1)\n",
      "method = max_degree, AUC = 0.769108\n",
      "X.shape (700, 1)\n",
      "method = diameter, AUC = 0.837335\n",
      "X.shape (700, 1)\n",
      "method = degree_assortativity_coef, AUC = 0.596238\n",
      "X.shape (700, 1)\n",
      "method = num_cliques, AUC = 0.758703\n",
      "X.shape (700, 1)\n",
      "method = Avg_clustering_coeff, AUC = 0.811124\n",
      "X.shape (700, 1)\n",
      "method = edeg_density, AUC = 0.868948\n",
      "X.shape (700, 25)\n",
      "method = MACC k0=5, AUC = 0.907163\n",
      "X.shape (700, 100)\n",
      "method = MACC k0=10, AUC = 0.949980\n",
      "X.shape (700, 225)\n",
      "method = MACC k0=15, AUC = 0.964386\n",
      "X.shape (700, 400)\n",
      "method = MACC k0=20, AUC = 0.951180\n",
      "Classifying subgraphs in Caltech36-Simmons81 ...\n",
      "sampling subgraphs with k=30 nodes\n"
     ]
    },
    {
     "name": "stderr",
     "output_type": "stream",
     "text": [
      "100%|████████████████████████████████████████████████████████████████████| 100/100 [00:00<00:00, 774.23it/s]\n",
      "100%|████████████████████████████████████████████████████████████████████| 100/100 [00:00<00:00, 658.55it/s]\n",
      "100%|████████████████████████████████████████████████████████████████████| 100/100 [00:00<00:00, 847.76it/s]\n",
      "100%|████████████████████████████████████████████████████████████████████| 100/100 [00:00<00:00, 119.39it/s]\n",
      "100%|████████████████████████████████████████████████████████████████████| 100/100 [00:00<00:00, 117.42it/s]\n",
      "100%|████████████████████████████████████████████████████████████████████| 100/100 [00:00<00:00, 100.82it/s]\n",
      "100%|████████████████████████████████████████████████████████████████████| 100/100 [00:00<00:00, 109.24it/s]\n"
     ]
    },
    {
     "name": "stdout",
     "output_type": "stream",
     "text": [
      "extracting subgraph features..\n"
     ]
    },
    {
     "name": "stderr",
     "output_type": "stream",
     "text": [
      "100%|█████████████████████████████████████████████████████████████████████| 700/700 [15:29<00:00,  1.33s/it]\n"
     ]
    },
    {
     "name": "stdout",
     "output_type": "stream",
     "text": [
      "X.shape (700, 1)\n",
      "method = num_nodes, AUC = 0.500000\n",
      "X.shape (700, 1)\n",
      "method = num_edges, AUC = 0.869748\n",
      "X.shape (700, 1)\n",
      "method = min_degree, AUC = 0.584034\n",
      "X.shape (700, 1)\n",
      "method = max_degree, AUC = 0.756703\n",
      "X.shape (700, 1)\n",
      "method = diameter, AUC = 0.820528\n",
      "X.shape (700, 1)\n",
      "method = degree_assortativity_coef, AUC = 0.619048\n",
      "X.shape (700, 1)\n",
      "method = num_cliques, AUC = 0.773509\n",
      "X.shape (700, 1)\n",
      "method = Avg_clustering_coeff, AUC = 0.833133\n",
      "X.shape (700, 1)\n",
      "method = edeg_density, AUC = 0.869748\n",
      "X.shape (700, 25)\n",
      "method = MACC k0=5, AUC = 0.898359\n",
      "X.shape (700, 100)\n",
      "method = MACC k0=10, AUC = 0.907163\n",
      "X.shape (700, 225)\n",
      "method = MACC k0=15, AUC = 0.887955\n",
      "X.shape (700, 400)\n",
      "method = MACC k0=20, AUC = 0.906763\n",
      "Classifying subgraphs in Caltech36-Reed98 ...\n",
      "sampling subgraphs with k=30 nodes\n"
     ]
    },
    {
     "name": "stderr",
     "output_type": "stream",
     "text": [
      "100%|████████████████████████████████████████████████████████████████████| 100/100 [00:00<00:00, 434.81it/s]\n",
      "100%|████████████████████████████████████████████████████████████████████| 100/100 [00:00<00:00, 601.71it/s]\n",
      "100%|████████████████████████████████████████████████████████████████████| 100/100 [00:00<00:00, 813.89it/s]\n",
      "100%|████████████████████████████████████████████████████████████████████| 100/100 [00:00<00:00, 120.49it/s]\n",
      "100%|████████████████████████████████████████████████████████████████████| 100/100 [00:00<00:00, 121.23it/s]\n",
      "100%|████████████████████████████████████████████████████████████████████| 100/100 [00:00<00:00, 134.74it/s]\n",
      "100%|████████████████████████████████████████████████████████████████████| 100/100 [00:00<00:00, 105.43it/s]\n"
     ]
    },
    {
     "name": "stdout",
     "output_type": "stream",
     "text": [
      "extracting subgraph features..\n"
     ]
    },
    {
     "name": "stderr",
     "output_type": "stream",
     "text": [
      "100%|█████████████████████████████████████████████████████████████████████| 700/700 [15:35<00:00,  1.34s/it]\n"
     ]
    },
    {
     "name": "stdout",
     "output_type": "stream",
     "text": [
      "X.shape (700, 1)\n",
      "method = num_nodes, AUC = 0.500000\n",
      "X.shape (700, 1)\n",
      "method = num_edges, AUC = 0.800920\n",
      "X.shape (700, 1)\n",
      "method = min_degree, AUC = 0.579832\n",
      "X.shape (700, 1)\n",
      "method = max_degree, AUC = 0.740096\n",
      "X.shape (700, 1)\n",
      "method = diameter, AUC = 0.807923\n",
      "X.shape (700, 1)\n",
      "method = degree_assortativity_coef, AUC = 0.651861\n",
      "X.shape (700, 1)\n",
      "method = num_cliques, AUC = 0.681072\n",
      "X.shape (700, 1)\n",
      "method = Avg_clustering_coeff, AUC = 0.705082\n",
      "X.shape (700, 1)\n",
      "method = edeg_density, AUC = 0.800920\n",
      "X.shape (700, 25)\n",
      "method = MACC k0=5, AUC = 0.846739\n",
      "X.shape (700, 100)\n",
      "method = MACC k0=10, AUC = 0.909164\n",
      "X.shape (700, 225)\n",
      "method = MACC k0=15, AUC = 0.922769\n",
      "X.shape (700, 400)\n",
      "method = MACC k0=20, AUC = 0.902361\n",
      "Classifying subgraphs in Caltech36-NYU9 ...\n",
      "sampling subgraphs with k=30 nodes\n"
     ]
    },
    {
     "name": "stderr",
     "output_type": "stream",
     "text": [
      "100%|████████████████████████████████████████████████████████████████████| 100/100 [00:00<00:00, 583.48it/s]\n",
      "100%|████████████████████████████████████████████████████████████████████| 100/100 [00:00<00:00, 716.73it/s]\n",
      "100%|████████████████████████████████████████████████████████████████████| 100/100 [00:00<00:00, 806.36it/s]\n",
      "100%|█████████████████████████████████████████████████████████████████████| 100/100 [00:01<00:00, 82.13it/s]\n",
      "100%|████████████████████████████████████████████████████████████████████| 100/100 [00:00<00:00, 121.26it/s]\n",
      "100%|████████████████████████████████████████████████████████████████████| 100/100 [00:00<00:00, 132.77it/s]\n",
      "100%|████████████████████████████████████████████████████████████████████| 100/100 [00:00<00:00, 111.28it/s]\n"
     ]
    },
    {
     "name": "stdout",
     "output_type": "stream",
     "text": [
      "extracting subgraph features..\n"
     ]
    },
    {
     "name": "stderr",
     "output_type": "stream",
     "text": [
      "100%|█████████████████████████████████████████████████████████████████████| 700/700 [15:33<00:00,  1.33s/it]\n"
     ]
    },
    {
     "name": "stdout",
     "output_type": "stream",
     "text": [
      "X.shape (700, 1)\n",
      "method = num_nodes, AUC = 0.500000\n",
      "X.shape (700, 1)\n",
      "method = num_edges, AUC = 0.914966\n",
      "X.shape (700, 1)\n",
      "method = min_degree, AUC = 0.560624\n",
      "X.shape (700, 1)\n",
      "method = max_degree, AUC = 0.821729\n",
      "X.shape (700, 1)\n",
      "method = diameter, AUC = 0.808123\n",
      "X.shape (700, 1)\n",
      "method = degree_assortativity_coef, AUC = 0.579832\n",
      "X.shape (700, 1)\n",
      "method = num_cliques, AUC = 0.835534\n",
      "X.shape (700, 1)\n",
      "method = Avg_clustering_coeff, AUC = 0.825930\n",
      "X.shape (700, 1)\n",
      "method = edeg_density, AUC = 0.914966\n",
      "X.shape (700, 25)\n",
      "method = MACC k0=5, AUC = 0.901561\n",
      "X.shape (700, 100)\n",
      "method = MACC k0=10, AUC = 0.895958\n",
      "X.shape (700, 225)\n",
      "method = MACC k0=15, AUC = 0.899560\n",
      "X.shape (700, 400)\n",
      "method = MACC k0=20, AUC = 0.929572\n",
      "Classifying subgraphs in Caltech36-Virginia63 ...\n",
      "sampling subgraphs with k=30 nodes\n"
     ]
    },
    {
     "name": "stderr",
     "output_type": "stream",
     "text": [
      "100%|████████████████████████████████████████████████████████████████████| 100/100 [00:00<00:00, 584.23it/s]\n",
      "100%|████████████████████████████████████████████████████████████████████| 100/100 [00:00<00:00, 625.78it/s]\n",
      "100%|████████████████████████████████████████████████████████████████████| 100/100 [00:00<00:00, 805.47it/s]\n",
      "100%|████████████████████████████████████████████████████████████████████| 100/100 [00:00<00:00, 112.70it/s]\n",
      "100%|████████████████████████████████████████████████████████████████████| 100/100 [00:00<00:00, 106.01it/s]\n",
      "100%|████████████████████████████████████████████████████████████████████| 100/100 [00:00<00:00, 125.82it/s]\n",
      "100%|█████████████████████████████████████████████████████████████████████| 100/100 [00:01<00:00, 98.13it/s]\n"
     ]
    },
    {
     "name": "stdout",
     "output_type": "stream",
     "text": [
      "extracting subgraph features..\n"
     ]
    },
    {
     "name": "stderr",
     "output_type": "stream",
     "text": [
      "100%|█████████████████████████████████████████████████████████████████████| 700/700 [15:37<00:00,  1.34s/it]\n"
     ]
    },
    {
     "name": "stdout",
     "output_type": "stream",
     "text": [
      "X.shape (700, 1)\n",
      "method = num_nodes, AUC = 0.500000\n",
      "X.shape (700, 1)\n",
      "method = num_edges, AUC = 0.866347\n",
      "X.shape (700, 1)\n",
      "method = min_degree, AUC = 0.591837\n",
      "X.shape (700, 1)\n",
      "method = max_degree, AUC = 0.753501\n",
      "X.shape (700, 1)\n",
      "method = diameter, AUC = 0.828531\n",
      "X.shape (700, 1)\n",
      "method = degree_assortativity_coef, AUC = 0.617447\n",
      "X.shape (700, 1)\n",
      "method = num_cliques, AUC = 0.738695\n",
      "X.shape (700, 1)\n",
      "method = Avg_clustering_coeff, AUC = 0.757503\n",
      "X.shape (700, 1)\n",
      "method = edeg_density, AUC = 0.866347\n",
      "X.shape (700, 25)\n",
      "method = MACC k0=5, AUC = 0.907163\n",
      "X.shape (700, 100)\n",
      "method = MACC k0=10, AUC = 0.928371\n",
      "X.shape (700, 225)\n",
      "method = MACC k0=15, AUC = 0.933173\n",
      "X.shape (700, 400)\n",
      "method = MACC k0=20, AUC = 0.927971\n",
      "Classifying subgraphs in Caltech36-UCLA26 ...\n",
      "sampling subgraphs with k=30 nodes\n"
     ]
    },
    {
     "name": "stderr",
     "output_type": "stream",
     "text": [
      "100%|████████████████████████████████████████████████████████████████████| 100/100 [00:00<00:00, 734.91it/s]\n",
      "100%|████████████████████████████████████████████████████████████████████| 100/100 [00:00<00:00, 717.29it/s]\n",
      "100%|████████████████████████████████████████████████████████████████████| 100/100 [00:00<00:00, 811.68it/s]\n",
      "100%|█████████████████████████████████████████████████████████████████████| 100/100 [00:01<00:00, 87.56it/s]\n",
      "100%|████████████████████████████████████████████████████████████████████| 100/100 [00:00<00:00, 126.74it/s]\n",
      "100%|████████████████████████████████████████████████████████████████████| 100/100 [00:00<00:00, 131.69it/s]\n",
      "100%|████████████████████████████████████████████████████████████████████| 100/100 [00:00<00:00, 100.33it/s]\n"
     ]
    },
    {
     "name": "stdout",
     "output_type": "stream",
     "text": [
      "extracting subgraph features..\n"
     ]
    },
    {
     "name": "stderr",
     "output_type": "stream",
     "text": [
      "100%|█████████████████████████████████████████████████████████████████████| 700/700 [15:34<00:00,  1.33s/it]\n"
     ]
    },
    {
     "name": "stdout",
     "output_type": "stream",
     "text": [
      "X.shape (700, 1)\n",
      "method = num_nodes, AUC = 0.500000\n",
      "X.shape (700, 1)\n",
      "method = num_edges, AUC = 0.858343\n",
      "X.shape (700, 1)\n",
      "method = min_degree, AUC = 0.595238\n",
      "X.shape (700, 1)\n",
      "method = max_degree, AUC = 0.782113\n",
      "X.shape (700, 1)\n",
      "method = diameter, AUC = 0.814526\n",
      "X.shape (700, 1)\n",
      "method = degree_assortativity_coef, AUC = 0.639456\n",
      "X.shape (700, 1)\n",
      "method = num_cliques, AUC = 0.737095\n",
      "X.shape (700, 1)\n",
      "method = Avg_clustering_coeff, AUC = 0.773109\n",
      "X.shape (700, 1)\n",
      "method = edeg_density, AUC = 0.858343\n",
      "X.shape (700, 25)\n",
      "method = MACC k0=5, AUC = 0.897559\n",
      "X.shape (700, 100)\n",
      "method = MACC k0=10, AUC = 0.949580\n",
      "X.shape (700, 225)\n",
      "method = MACC k0=15, AUC = 0.946379\n",
      "X.shape (700, 400)\n",
      "method = MACC k0=20, AUC = 0.947179\n",
      "Classifying subgraphs in Caltech36-Wisconsin87 ...\n",
      "sampling subgraphs with k=30 nodes\n"
     ]
    },
    {
     "name": "stderr",
     "output_type": "stream",
     "text": [
      "100%|████████████████████████████████████████████████████████████████████| 100/100 [00:00<00:00, 742.09it/s]\n",
      "100%|████████████████████████████████████████████████████████████████████| 100/100 [00:00<00:00, 565.42it/s]\n",
      "100%|████████████████████████████████████████████████████████████████████| 100/100 [00:00<00:00, 806.00it/s]\n",
      "100%|█████████████████████████████████████████████████████████████████████| 100/100 [00:01<00:00, 78.83it/s]\n",
      "100%|████████████████████████████████████████████████████████████████████| 100/100 [00:00<00:00, 110.94it/s]\n",
      "100%|████████████████████████████████████████████████████████████████████| 100/100 [00:00<00:00, 125.55it/s]\n",
      "100%|█████████████████████████████████████████████████████████████████████| 100/100 [00:01<00:00, 98.93it/s]\n"
     ]
    },
    {
     "name": "stdout",
     "output_type": "stream",
     "text": [
      "extracting subgraph features..\n"
     ]
    },
    {
     "name": "stderr",
     "output_type": "stream",
     "text": [
      "100%|█████████████████████████████████████████████████████████████████████| 700/700 [15:37<00:00,  1.34s/it]\n"
     ]
    },
    {
     "name": "stdout",
     "output_type": "stream",
     "text": [
      "X.shape (700, 1)\n",
      "method = num_nodes, AUC = 0.500000\n",
      "X.shape (700, 1)\n",
      "method = num_edges, AUC = 0.828731\n",
      "X.shape (700, 1)\n",
      "method = min_degree, AUC = 0.643257\n",
      "X.shape (700, 1)\n",
      "method = max_degree, AUC = 0.750100\n",
      "X.shape (700, 1)\n",
      "method = diameter, AUC = 0.793317\n",
      "X.shape (700, 1)\n",
      "method = degree_assortativity_coef, AUC = 0.630652\n",
      "X.shape (700, 1)\n",
      "method = num_cliques, AUC = 0.732093\n",
      "X.shape (700, 1)\n",
      "method = Avg_clustering_coeff, AUC = 0.775110\n",
      "X.shape (700, 1)\n",
      "method = edeg_density, AUC = 0.828731\n",
      "X.shape (700, 25)\n",
      "method = MACC k0=5, AUC = 0.882753\n",
      "X.shape (700, 100)\n",
      "method = MACC k0=10, AUC = 0.913565\n",
      "X.shape (700, 225)\n",
      "method = MACC k0=15, AUC = 0.927571\n",
      "X.shape (700, 400)\n",
      "method = MACC k0=20, AUC = 0.929972\n",
      "Classifying subgraphs in Simmons81-Reed98 ...\n",
      "sampling subgraphs with k=30 nodes\n"
     ]
    },
    {
     "name": "stderr",
     "output_type": "stream",
     "text": [
      "100%|████████████████████████████████████████████████████████████████████| 100/100 [00:00<00:00, 804.68it/s]\n",
      "100%|████████████████████████████████████████████████████████████████████| 100/100 [00:00<00:00, 713.71it/s]\n",
      "100%|████████████████████████████████████████████████████████████████████| 100/100 [00:00<00:00, 814.45it/s]\n",
      "100%|████████████████████████████████████████████████████████████████████| 100/100 [00:00<00:00, 105.77it/s]\n",
      "100%|████████████████████████████████████████████████████████████████████| 100/100 [00:00<00:00, 109.45it/s]\n",
      "100%|████████████████████████████████████████████████████████████████████| 100/100 [00:00<00:00, 131.88it/s]\n",
      "100%|█████████████████████████████████████████████████████████████████████| 100/100 [00:01<00:00, 86.13it/s]\n"
     ]
    },
    {
     "name": "stdout",
     "output_type": "stream",
     "text": [
      "extracting subgraph features..\n"
     ]
    },
    {
     "name": "stderr",
     "output_type": "stream",
     "text": [
      "100%|█████████████████████████████████████████████████████████████████████| 700/700 [15:36<00:00,  1.34s/it]\n"
     ]
    },
    {
     "name": "stdout",
     "output_type": "stream",
     "text": [
      "X.shape (700, 1)\n",
      "method = num_nodes, AUC = 0.500000\n",
      "X.shape (700, 1)\n",
      "method = num_edges, AUC = 0.847539\n",
      "X.shape (700, 1)\n",
      "method = min_degree, AUC = 0.591637\n",
      "X.shape (700, 1)\n",
      "method = max_degree, AUC = 0.797519\n",
      "X.shape (700, 1)\n",
      "method = diameter, AUC = 0.801321\n",
      "X.shape (700, 1)\n",
      "method = degree_assortativity_coef, AUC = 0.664666\n",
      "X.shape (700, 1)\n",
      "method = num_cliques, AUC = 0.737095\n",
      "X.shape (700, 1)\n",
      "method = Avg_clustering_coeff, AUC = 0.767507\n",
      "X.shape (700, 1)\n",
      "method = edeg_density, AUC = 0.847539\n",
      "X.shape (700, 25)\n",
      "method = MACC k0=5, AUC = 0.909564\n",
      "X.shape (700, 100)\n",
      "method = MACC k0=10, AUC = 0.959184\n",
      "X.shape (700, 225)\n",
      "method = MACC k0=15, AUC = 0.937175\n",
      "X.shape (700, 400)\n",
      "method = MACC k0=20, AUC = 0.941577\n",
      "Classifying subgraphs in Simmons81-NYU9 ...\n",
      "sampling subgraphs with k=30 nodes\n"
     ]
    },
    {
     "name": "stderr",
     "output_type": "stream",
     "text": [
      "100%|████████████████████████████████████████████████████████████████████| 100/100 [00:00<00:00, 807.10it/s]\n",
      "100%|████████████████████████████████████████████████████████████████████| 100/100 [00:00<00:00, 662.42it/s]\n",
      "100%|████████████████████████████████████████████████████████████████████| 100/100 [00:00<00:00, 776.66it/s]\n",
      "100%|████████████████████████████████████████████████████████████████████| 100/100 [00:00<00:00, 108.75it/s]\n",
      "100%|████████████████████████████████████████████████████████████████████| 100/100 [00:00<00:00, 109.02it/s]\n",
      "100%|████████████████████████████████████████████████████████████████████| 100/100 [00:00<00:00, 129.54it/s]\n",
      "100%|████████████████████████████████████████████████████████████████████| 100/100 [00:00<00:00, 105.39it/s]\n"
     ]
    },
    {
     "name": "stdout",
     "output_type": "stream",
     "text": [
      "extracting subgraph features..\n"
     ]
    },
    {
     "name": "stderr",
     "output_type": "stream",
     "text": [
      "100%|█████████████████████████████████████████████████████████████████████| 700/700 [15:33<00:00,  1.33s/it]\n"
     ]
    },
    {
     "name": "stdout",
     "output_type": "stream",
     "text": [
      "X.shape (700, 1)\n",
      "method = num_nodes, AUC = 0.500000\n",
      "X.shape (700, 1)\n",
      "method = num_edges, AUC = 0.759304\n",
      "X.shape (700, 1)\n",
      "method = min_degree, AUC = 0.512005\n",
      "X.shape (700, 1)\n",
      "method = max_degree, AUC = 0.696479\n",
      "X.shape (700, 1)\n",
      "method = diameter, AUC = 0.755902\n",
      "X.shape (700, 1)\n",
      "method = degree_assortativity_coef, AUC = 0.559024\n",
      "X.shape (700, 1)\n",
      "method = num_cliques, AUC = 0.625250\n",
      "X.shape (700, 1)\n",
      "method = Avg_clustering_coeff, AUC = 0.701080\n",
      "X.shape (700, 1)\n",
      "method = edeg_density, AUC = 0.759304\n",
      "X.shape (700, 25)\n",
      "method = MACC k0=5, AUC = 0.820728\n",
      "X.shape (700, 100)\n",
      "method = MACC k0=10, AUC = 0.893157\n",
      "X.shape (700, 225)\n",
      "method = MACC k0=15, AUC = 0.883153\n",
      "X.shape (700, 400)\n",
      "method = MACC k0=20, AUC = 0.893157\n",
      "Classifying subgraphs in Simmons81-Virginia63 ...\n",
      "sampling subgraphs with k=30 nodes\n"
     ]
    },
    {
     "name": "stderr",
     "output_type": "stream",
     "text": [
      "100%|████████████████████████████████████████████████████████████████████| 100/100 [00:00<00:00, 835.33it/s]\n",
      "100%|████████████████████████████████████████████████████████████████████| 100/100 [00:00<00:00, 592.69it/s]\n",
      "100%|████████████████████████████████████████████████████████████████████| 100/100 [00:00<00:00, 810.29it/s]\n",
      "100%|████████████████████████████████████████████████████████████████████| 100/100 [00:00<00:00, 118.67it/s]\n",
      "100%|████████████████████████████████████████████████████████████████████| 100/100 [00:00<00:00, 111.72it/s]\n",
      "100%|████████████████████████████████████████████████████████████████████| 100/100 [00:00<00:00, 129.09it/s]\n",
      "100%|█████████████████████████████████████████████████████████████████████| 100/100 [00:01<00:00, 99.35it/s]\n"
     ]
    },
    {
     "name": "stdout",
     "output_type": "stream",
     "text": [
      "extracting subgraph features..\n"
     ]
    },
    {
     "name": "stderr",
     "output_type": "stream",
     "text": [
      " 62%|██████████████████████████████████████████▌                          | 432/700 [09:41<05:55,  1.33s/it]/opt/miniconda3/envs/hlyuenv/lib/python3.9/site-packages/networkx/algorithms/assortativity/correlation.py:298: RuntimeWarning: invalid value encountered in double_scalars\n",
      "  return (xy * (M - ab)).sum() / np.sqrt(vara * varb)\n",
      "100%|█████████████████████████████████████████████████████████████████████| 700/700 [15:36<00:00,  1.34s/it]\n"
     ]
    },
    {
     "name": "stdout",
     "output_type": "stream",
     "text": [
      "X.shape (700, 1)\n",
      "method = num_nodes, AUC = 0.500000\n",
      "X.shape (700, 1)\n",
      "method = num_edges, AUC = 0.813926\n",
      "X.shape (700, 1)\n",
      "method = min_degree, AUC = 0.642857\n",
      "X.shape (700, 1)\n",
      "method = max_degree, AUC = 0.723689\n",
      "X.shape (700, 1)\n",
      "method = diameter, AUC = 0.776911\n",
      "X.shape (700, 1)\n",
      "method = degree_assortativity_coef, AUC = 0.552221\n",
      "X.shape (700, 1)\n",
      "method = num_cliques, AUC = 0.689676\n",
      "X.shape (700, 1)\n",
      "method = Avg_clustering_coeff, AUC = 0.648659\n",
      "X.shape (700, 1)\n",
      "method = edeg_density, AUC = 0.813926\n",
      "X.shape (700, 25)\n",
      "method = MACC k0=5, AUC = 0.854742\n",
      "X.shape (700, 100)\n",
      "method = MACC k0=10, AUC = 0.905962\n",
      "X.shape (700, 225)\n",
      "method = MACC k0=15, AUC = 0.908363\n",
      "X.shape (700, 400)\n",
      "method = MACC k0=20, AUC = 0.908363\n",
      "Classifying subgraphs in Simmons81-UCLA26 ...\n",
      "sampling subgraphs with k=30 nodes\n"
     ]
    },
    {
     "name": "stderr",
     "output_type": "stream",
     "text": [
      "100%|████████████████████████████████████████████████████████████████████| 100/100 [00:00<00:00, 806.96it/s]\n",
      "100%|████████████████████████████████████████████████████████████████████| 100/100 [00:00<00:00, 718.25it/s]\n",
      "100%|████████████████████████████████████████████████████████████████████| 100/100 [00:00<00:00, 828.05it/s]\n",
      "100%|████████████████████████████████████████████████████████████████████| 100/100 [00:00<00:00, 106.23it/s]\n",
      "100%|████████████████████████████████████████████████████████████████████| 100/100 [00:00<00:00, 108.46it/s]\n",
      "100%|████████████████████████████████████████████████████████████████████| 100/100 [00:00<00:00, 126.63it/s]\n",
      "100%|████████████████████████████████████████████████████████████████████| 100/100 [00:00<00:00, 100.64it/s]\n"
     ]
    },
    {
     "name": "stdout",
     "output_type": "stream",
     "text": [
      "extracting subgraph features..\n"
     ]
    },
    {
     "name": "stderr",
     "output_type": "stream",
     "text": [
      "100%|█████████████████████████████████████████████████████████████████████| 700/700 [15:34<00:00,  1.33s/it]\n"
     ]
    },
    {
     "name": "stdout",
     "output_type": "stream",
     "text": [
      "X.shape (700, 1)\n",
      "method = num_nodes, AUC = 0.500000\n",
      "X.shape (700, 1)\n",
      "method = num_edges, AUC = 0.880752\n",
      "X.shape (700, 1)\n",
      "method = min_degree, AUC = 0.650860\n",
      "X.shape (700, 1)\n",
      "method = max_degree, AUC = 0.795718\n",
      "X.shape (700, 1)\n",
      "method = diameter, AUC = 0.850940\n",
      "X.shape (700, 1)\n",
      "method = degree_assortativity_coef, AUC = 0.681072\n",
      "X.shape (700, 1)\n",
      "method = num_cliques, AUC = 0.780712\n",
      "X.shape (700, 1)\n",
      "method = Avg_clustering_coeff, AUC = 0.753101\n",
      "X.shape (700, 1)\n",
      "method = edeg_density, AUC = 0.880752\n",
      "X.shape (700, 25)\n",
      "method = MACC k0=5, AUC = 0.905962\n",
      "X.shape (700, 100)\n",
      "method = MACC k0=10, AUC = 0.937975\n",
      "X.shape (700, 225)\n",
      "method = MACC k0=15, AUC = 0.946779\n",
      "X.shape (700, 400)\n",
      "method = MACC k0=20, AUC = 0.936375\n",
      "Classifying subgraphs in Simmons81-Wisconsin87 ...\n",
      "sampling subgraphs with k=30 nodes\n"
     ]
    },
    {
     "name": "stderr",
     "output_type": "stream",
     "text": [
      "100%|████████████████████████████████████████████████████████████████████| 100/100 [00:00<00:00, 826.86it/s]\n",
      "100%|████████████████████████████████████████████████████████████████████| 100/100 [00:00<00:00, 613.36it/s]\n",
      "100%|████████████████████████████████████████████████████████████████████| 100/100 [00:00<00:00, 806.76it/s]\n",
      "100%|████████████████████████████████████████████████████████████████████| 100/100 [00:00<00:00, 109.13it/s]\n",
      "100%|████████████████████████████████████████████████████████████████████| 100/100 [00:00<00:00, 114.15it/s]\n",
      "100%|████████████████████████████████████████████████████████████████████| 100/100 [00:00<00:00, 133.32it/s]\n",
      "100%|████████████████████████████████████████████████████████████████████| 100/100 [00:00<00:00, 113.03it/s]\n"
     ]
    },
    {
     "name": "stdout",
     "output_type": "stream",
     "text": [
      "extracting subgraph features..\n"
     ]
    },
    {
     "name": "stderr",
     "output_type": "stream",
     "text": [
      "100%|█████████████████████████████████████████████████████████████████████| 700/700 [15:32<00:00,  1.33s/it]\n"
     ]
    },
    {
     "name": "stdout",
     "output_type": "stream",
     "text": [
      "X.shape (700, 1)\n",
      "method = num_nodes, AUC = 0.500000\n",
      "X.shape (700, 1)\n",
      "method = num_edges, AUC = 0.870948\n",
      "X.shape (700, 1)\n",
      "method = min_degree, AUC = 0.523209\n",
      "X.shape (700, 1)\n",
      "method = max_degree, AUC = 0.804122\n",
      "X.shape (700, 1)\n",
      "method = diameter, AUC = 0.847339\n",
      "X.shape (700, 1)\n",
      "method = degree_assortativity_coef, AUC = 0.619048\n",
      "X.shape (700, 1)\n",
      "method = num_cliques, AUC = 0.725290\n",
      "X.shape (700, 1)\n",
      "method = Avg_clustering_coeff, AUC = 0.736695\n",
      "X.shape (700, 1)\n",
      "method = edeg_density, AUC = 0.870948\n",
      "X.shape (700, 25)\n",
      "method = MACC k0=5, AUC = 0.849940\n",
      "X.shape (700, 100)\n",
      "method = MACC k0=10, AUC = 0.944778\n",
      "X.shape (700, 225)\n",
      "method = MACC k0=15, AUC = 0.925570\n",
      "X.shape (700, 400)\n",
      "method = MACC k0=20, AUC = 0.923970\n",
      "Classifying subgraphs in Reed98-NYU9 ...\n",
      "sampling subgraphs with k=30 nodes\n"
     ]
    },
    {
     "name": "stderr",
     "output_type": "stream",
     "text": [
      "100%|████████████████████████████████████████████████████████████████████| 100/100 [00:00<00:00, 820.94it/s]\n",
      "100%|████████████████████████████████████████████████████████████████████| 100/100 [00:00<00:00, 651.58it/s]\n",
      "100%|████████████████████████████████████████████████████████████████████| 100/100 [00:00<00:00, 818.20it/s]\n",
      "100%|█████████████████████████████████████████████████████████████████████| 100/100 [00:01<00:00, 68.49it/s]\n",
      "100%|████████████████████████████████████████████████████████████████████| 100/100 [00:00<00:00, 107.40it/s]\n",
      "100%|████████████████████████████████████████████████████████████████████| 100/100 [00:00<00:00, 124.03it/s]\n",
      "100%|█████████████████████████████████████████████████████████████████████| 100/100 [00:01<00:00, 98.48it/s]\n"
     ]
    },
    {
     "name": "stdout",
     "output_type": "stream",
     "text": [
      "extracting subgraph features..\n"
     ]
    },
    {
     "name": "stderr",
     "output_type": "stream",
     "text": [
      "100%|█████████████████████████████████████████████████████████████████████| 700/700 [15:34<00:00,  1.34s/it]\n"
     ]
    },
    {
     "name": "stdout",
     "output_type": "stream",
     "text": [
      "X.shape (700, 1)\n",
      "method = num_nodes, AUC = 0.500000\n",
      "X.shape (700, 1)\n",
      "method = num_edges, AUC = 0.856543\n",
      "X.shape (700, 1)\n",
      "method = min_degree, AUC = 0.690876\n",
      "X.shape (700, 1)\n",
      "method = max_degree, AUC = 0.795118\n",
      "X.shape (700, 1)\n",
      "method = diameter, AUC = 0.885354\n",
      "X.shape (700, 1)\n",
      "method = degree_assortativity_coef, AUC = 0.638255\n",
      "X.shape (700, 1)\n",
      "method = num_cliques, AUC = 0.754902\n",
      "X.shape (700, 1)\n",
      "method = Avg_clustering_coeff, AUC = 0.757903\n",
      "X.shape (700, 1)\n",
      "method = edeg_density, AUC = 0.856543\n",
      "X.shape (700, 25)\n",
      "method = MACC k0=5, AUC = 0.923169\n",
      "X.shape (700, 100)\n",
      "method = MACC k0=10, AUC = 0.977591\n",
      "X.shape (700, 225)\n",
      "method = MACC k0=15, AUC = 0.963185\n",
      "X.shape (700, 400)\n",
      "method = MACC k0=20, AUC = 0.971188\n",
      "Classifying subgraphs in Reed98-Virginia63 ...\n",
      "sampling subgraphs with k=30 nodes\n"
     ]
    },
    {
     "name": "stderr",
     "output_type": "stream",
     "text": [
      "100%|████████████████████████████████████████████████████████████████████| 100/100 [00:00<00:00, 838.53it/s]\n",
      "100%|████████████████████████████████████████████████████████████████████| 100/100 [00:00<00:00, 722.65it/s]\n",
      "100%|████████████████████████████████████████████████████████████████████| 100/100 [00:00<00:00, 849.11it/s]\n",
      "100%|████████████████████████████████████████████████████████████████████| 100/100 [00:00<00:00, 115.80it/s]\n",
      "100%|████████████████████████████████████████████████████████████████████| 100/100 [00:00<00:00, 122.46it/s]\n",
      "100%|████████████████████████████████████████████████████████████████████| 100/100 [00:00<00:00, 135.50it/s]\n",
      "100%|████████████████████████████████████████████████████████████████████| 100/100 [00:00<00:00, 101.76it/s]\n"
     ]
    },
    {
     "name": "stdout",
     "output_type": "stream",
     "text": [
      "extracting subgraph features..\n"
     ]
    },
    {
     "name": "stderr",
     "output_type": "stream",
     "text": [
      "100%|█████████████████████████████████████████████████████████████████████| 700/700 [15:35<00:00,  1.34s/it]\n"
     ]
    },
    {
     "name": "stdout",
     "output_type": "stream",
     "text": [
      "X.shape (700, 1)\n",
      "method = num_nodes, AUC = 0.500000\n",
      "X.shape (700, 1)\n",
      "method = num_edges, AUC = 0.885154\n",
      "X.shape (700, 1)\n",
      "method = min_degree, AUC = 0.603041\n",
      "X.shape (700, 1)\n",
      "method = max_degree, AUC = 0.857143\n",
      "X.shape (700, 1)\n",
      "method = diameter, AUC = 0.830932\n",
      "X.shape (700, 1)\n",
      "method = degree_assortativity_coef, AUC = 0.623850\n",
      "X.shape (700, 1)\n",
      "method = num_cliques, AUC = 0.734894\n",
      "X.shape (700, 1)\n",
      "method = Avg_clustering_coeff, AUC = 0.815526\n",
      "X.shape (700, 1)\n",
      "method = edeg_density, AUC = 0.885154\n",
      "X.shape (700, 25)\n",
      "method = MACC k0=5, AUC = 0.916367\n",
      "X.shape (700, 100)\n",
      "method = MACC k0=10, AUC = 0.929572\n",
      "X.shape (700, 225)\n",
      "method = MACC k0=15, AUC = 0.917167\n",
      "X.shape (700, 400)\n",
      "method = MACC k0=20, AUC = 0.928371\n",
      "Classifying subgraphs in Reed98-UCLA26 ...\n",
      "sampling subgraphs with k=30 nodes\n"
     ]
    },
    {
     "name": "stderr",
     "output_type": "stream",
     "text": [
      "100%|████████████████████████████████████████████████████████████████████| 100/100 [00:00<00:00, 848.90it/s]\n",
      "100%|████████████████████████████████████████████████████████████████████| 100/100 [00:00<00:00, 759.08it/s]\n",
      "100%|████████████████████████████████████████████████████████████████████| 100/100 [00:00<00:00, 841.73it/s]\n",
      "100%|████████████████████████████████████████████████████████████████████| 100/100 [00:00<00:00, 115.61it/s]\n",
      "100%|████████████████████████████████████████████████████████████████████| 100/100 [00:00<00:00, 120.35it/s]\n",
      "100%|████████████████████████████████████████████████████████████████████| 100/100 [00:00<00:00, 105.01it/s]\n",
      "100%|████████████████████████████████████████████████████████████████████| 100/100 [00:00<00:00, 101.75it/s]\n"
     ]
    },
    {
     "name": "stdout",
     "output_type": "stream",
     "text": [
      "extracting subgraph features..\n"
     ]
    },
    {
     "name": "stderr",
     "output_type": "stream",
     "text": [
      "100%|█████████████████████████████████████████████████████████████████████| 700/700 [15:33<00:00,  1.33s/it]\n"
     ]
    },
    {
     "name": "stdout",
     "output_type": "stream",
     "text": [
      "X.shape (700, 1)\n",
      "method = num_nodes, AUC = 0.500000\n",
      "X.shape (700, 1)\n",
      "method = num_edges, AUC = 0.930772\n",
      "X.shape (700, 1)\n",
      "method = min_degree, AUC = 0.520208\n",
      "X.shape (700, 1)\n",
      "method = max_degree, AUC = 0.842137\n",
      "X.shape (700, 1)\n",
      "method = diameter, AUC = 0.857143\n",
      "X.shape (700, 1)\n",
      "method = degree_assortativity_coef, AUC = 0.713485\n",
      "X.shape (700, 1)\n",
      "method = num_cliques, AUC = 0.739096\n",
      "X.shape (700, 1)\n",
      "method = Avg_clustering_coeff, AUC = 0.792717\n",
      "X.shape (700, 1)\n",
      "method = edeg_density, AUC = 0.930772\n",
      "X.shape (700, 25)\n",
      "method = MACC k0=5, AUC = 0.919168\n",
      "X.shape (700, 100)\n",
      "method = MACC k0=10, AUC = 0.965186\n",
      "X.shape (700, 225)\n",
      "method = MACC k0=15, AUC = 0.953581\n",
      "X.shape (700, 400)\n",
      "method = MACC k0=20, AUC = 0.959984\n",
      "Classifying subgraphs in Reed98-Wisconsin87 ...\n",
      "sampling subgraphs with k=30 nodes\n"
     ]
    },
    {
     "name": "stderr",
     "output_type": "stream",
     "text": [
      "100%|████████████████████████████████████████████████████████████████████| 100/100 [00:00<00:00, 753.06it/s]\n",
      "100%|████████████████████████████████████████████████████████████████████| 100/100 [00:00<00:00, 711.55it/s]\n",
      "100%|████████████████████████████████████████████████████████████████████| 100/100 [00:00<00:00, 816.76it/s]\n",
      "100%|█████████████████████████████████████████████████████████████████████| 100/100 [00:01<00:00, 94.94it/s]\n",
      "100%|████████████████████████████████████████████████████████████████████| 100/100 [00:00<00:00, 117.15it/s]\n",
      "100%|████████████████████████████████████████████████████████████████████| 100/100 [00:00<00:00, 134.68it/s]\n",
      "100%|████████████████████████████████████████████████████████████████████| 100/100 [00:00<00:00, 111.02it/s]\n"
     ]
    },
    {
     "name": "stdout",
     "output_type": "stream",
     "text": [
      "extracting subgraph features..\n"
     ]
    },
    {
     "name": "stderr",
     "output_type": "stream",
     "text": [
      "100%|█████████████████████████████████████████████████████████████████████| 700/700 [15:34<00:00,  1.34s/it]\n"
     ]
    },
    {
     "name": "stdout",
     "output_type": "stream",
     "text": [
      "X.shape (700, 1)\n",
      "method = num_nodes, AUC = 0.500000\n",
      "X.shape (700, 1)\n",
      "method = num_edges, AUC = 0.899960\n",
      "X.shape (700, 1)\n",
      "method = min_degree, AUC = 0.655062\n",
      "X.shape (700, 1)\n",
      "method = max_degree, AUC = 0.795918\n",
      "X.shape (700, 1)\n",
      "method = diameter, AUC = 0.874750\n",
      "X.shape (700, 1)\n",
      "method = degree_assortativity_coef, AUC = 0.552221\n",
      "X.shape (700, 1)\n",
      "method = num_cliques, AUC = 0.766907\n",
      "X.shape (700, 1)\n",
      "method = Avg_clustering_coeff, AUC = 0.768307\n",
      "X.shape (700, 1)\n",
      "method = edeg_density, AUC = 0.899960\n",
      "X.shape (700, 25)\n",
      "method = MACC k0=5, AUC = 0.922369\n",
      "X.shape (700, 100)\n",
      "method = MACC k0=10, AUC = 0.940776\n",
      "X.shape (700, 225)\n",
      "method = MACC k0=15, AUC = 0.921969\n",
      "X.shape (700, 400)\n",
      "method = MACC k0=20, AUC = 0.931573\n",
      "Classifying subgraphs in NYU9-Virginia63 ...\n",
      "sampling subgraphs with k=30 nodes\n"
     ]
    },
    {
     "name": "stderr",
     "output_type": "stream",
     "text": [
      "100%|████████████████████████████████████████████████████████████████████| 100/100 [00:00<00:00, 749.60it/s]\n",
      "100%|████████████████████████████████████████████████████████████████████| 100/100 [00:00<00:00, 672.30it/s]\n",
      "100%|████████████████████████████████████████████████████████████████████| 100/100 [00:00<00:00, 867.18it/s]\n",
      "100%|█████████████████████████████████████████████████████████████████████| 100/100 [00:01<00:00, 86.17it/s]\n",
      "100%|████████████████████████████████████████████████████████████████████| 100/100 [00:00<00:00, 113.68it/s]\n",
      "100%|████████████████████████████████████████████████████████████████████| 100/100 [00:00<00:00, 123.45it/s]\n",
      "100%|████████████████████████████████████████████████████████████████████| 100/100 [00:00<00:00, 100.36it/s]\n"
     ]
    },
    {
     "name": "stdout",
     "output_type": "stream",
     "text": [
      "extracting subgraph features..\n"
     ]
    },
    {
     "name": "stderr",
     "output_type": "stream",
     "text": [
      "100%|█████████████████████████████████████████████████████████████████████| 700/700 [15:33<00:00,  1.33s/it]\n"
     ]
    },
    {
     "name": "stdout",
     "output_type": "stream",
     "text": [
      "X.shape (700, 1)\n",
      "method = num_nodes, AUC = 0.500000\n",
      "X.shape (700, 1)\n",
      "method = num_edges, AUC = 0.923970\n",
      "X.shape (700, 1)\n",
      "method = min_degree, AUC = 0.621048\n",
      "X.shape (700, 1)\n",
      "method = max_degree, AUC = 0.876951\n",
      "X.shape (700, 1)\n",
      "method = diameter, AUC = 0.875150\n",
      "X.shape (700, 1)\n",
      "method = degree_assortativity_coef, AUC = 0.727491\n",
      "X.shape (700, 1)\n",
      "method = num_cliques, AUC = 0.836535\n",
      "X.shape (700, 1)\n",
      "method = Avg_clustering_coeff, AUC = 0.858343\n",
      "X.shape (700, 1)\n",
      "method = edeg_density, AUC = 0.923970\n",
      "X.shape (700, 25)\n",
      "method = MACC k0=5, AUC = 0.953982\n",
      "X.shape (700, 100)\n",
      "method = MACC k0=10, AUC = 0.942777\n",
      "X.shape (700, 225)\n",
      "method = MACC k0=15, AUC = 0.936775\n",
      "X.shape (700, 400)\n",
      "method = MACC k0=20, AUC = 0.949980\n",
      "Classifying subgraphs in NYU9-UCLA26 ...\n",
      "sampling subgraphs with k=30 nodes\n"
     ]
    },
    {
     "name": "stderr",
     "output_type": "stream",
     "text": [
      "100%|████████████████████████████████████████████████████████████████████| 100/100 [00:00<00:00, 713.36it/s]\n",
      "100%|████████████████████████████████████████████████████████████████████| 100/100 [00:00<00:00, 700.40it/s]\n",
      "100%|████████████████████████████████████████████████████████████████████| 100/100 [00:00<00:00, 818.22it/s]\n",
      "100%|█████████████████████████████████████████████████████████████████████| 100/100 [00:01<00:00, 86.34it/s]\n",
      "100%|████████████████████████████████████████████████████████████████████| 100/100 [00:00<00:00, 113.39it/s]\n",
      "100%|████████████████████████████████████████████████████████████████████| 100/100 [00:00<00:00, 123.73it/s]\n",
      "100%|████████████████████████████████████████████████████████████████████| 100/100 [00:00<00:00, 102.09it/s]\n"
     ]
    },
    {
     "name": "stdout",
     "output_type": "stream",
     "text": [
      "extracting subgraph features..\n"
     ]
    },
    {
     "name": "stderr",
     "output_type": "stream",
     "text": [
      "100%|█████████████████████████████████████████████████████████████████████| 700/700 [15:34<00:00,  1.34s/it]\n"
     ]
    },
    {
     "name": "stdout",
     "output_type": "stream",
     "text": [
      "X.shape (700, 1)\n",
      "method = num_nodes, AUC = 0.500000\n",
      "X.shape (700, 1)\n",
      "method = num_edges, AUC = 0.847939\n",
      "X.shape (700, 1)\n",
      "method = min_degree, AUC = 0.653261\n",
      "X.shape (700, 1)\n",
      "method = max_degree, AUC = 0.805922\n",
      "X.shape (700, 1)\n",
      "method = diameter, AUC = 0.849340\n",
      "X.shape (700, 1)\n",
      "method = degree_assortativity_coef, AUC = 0.619848\n",
      "X.shape (700, 1)\n",
      "method = num_cliques, AUC = 0.686074\n",
      "X.shape (700, 1)\n",
      "method = Avg_clustering_coeff, AUC = 0.712685\n",
      "X.shape (700, 1)\n",
      "method = edeg_density, AUC = 0.847939\n",
      "X.shape (700, 25)\n",
      "method = MACC k0=5, AUC = 0.902761\n",
      "X.shape (700, 100)\n",
      "method = MACC k0=10, AUC = 0.941176\n",
      "X.shape (700, 225)\n",
      "method = MACC k0=15, AUC = 0.929572\n",
      "X.shape (700, 400)\n",
      "method = MACC k0=20, AUC = 0.940776\n",
      "Classifying subgraphs in NYU9-Wisconsin87 ...\n",
      "sampling subgraphs with k=30 nodes\n"
     ]
    },
    {
     "name": "stderr",
     "output_type": "stream",
     "text": [
      "100%|████████████████████████████████████████████████████████████████████| 100/100 [00:00<00:00, 851.70it/s]\n",
      "100%|████████████████████████████████████████████████████████████████████| 100/100 [00:00<00:00, 727.12it/s]\n",
      "100%|████████████████████████████████████████████████████████████████████| 100/100 [00:00<00:00, 803.54it/s]\n",
      "100%|████████████████████████████████████████████████████████████████████| 100/100 [00:00<00:00, 104.42it/s]\n",
      "100%|████████████████████████████████████████████████████████████████████| 100/100 [00:00<00:00, 108.03it/s]\n",
      "100%|█████████████████████████████████████████████████████████████████████| 100/100 [00:02<00:00, 44.38it/s]\n",
      "100%|████████████████████████████████████████████████████████████████████| 100/100 [00:00<00:00, 109.96it/s]\n"
     ]
    },
    {
     "name": "stdout",
     "output_type": "stream",
     "text": [
      "extracting subgraph features..\n"
     ]
    },
    {
     "name": "stderr",
     "output_type": "stream",
     "text": [
      "100%|█████████████████████████████████████████████████████████████████████| 700/700 [15:33<00:00,  1.33s/it]\n"
     ]
    },
    {
     "name": "stdout",
     "output_type": "stream",
     "text": [
      "X.shape (700, 1)\n",
      "method = num_nodes, AUC = 0.500000\n",
      "X.shape (700, 1)\n",
      "method = num_edges, AUC = 0.856743\n",
      "X.shape (700, 1)\n",
      "method = min_degree, AUC = 0.496799\n",
      "X.shape (700, 1)\n",
      "method = max_degree, AUC = 0.752701\n",
      "X.shape (700, 1)\n",
      "method = diameter, AUC = 0.792517\n",
      "X.shape (700, 1)\n",
      "method = degree_assortativity_coef, AUC = 0.631052\n",
      "X.shape (700, 1)\n",
      "method = num_cliques, AUC = 0.741897\n",
      "X.shape (700, 1)\n",
      "method = Avg_clustering_coeff, AUC = 0.739496\n",
      "X.shape (700, 1)\n",
      "method = edeg_density, AUC = 0.856743\n",
      "X.shape (700, 25)\n",
      "method = MACC k0=5, AUC = 0.850340\n",
      "X.shape (700, 100)\n",
      "method = MACC k0=10, AUC = 0.888756\n",
      "X.shape (700, 225)\n",
      "method = MACC k0=15, AUC = 0.898760\n",
      "X.shape (700, 400)\n",
      "method = MACC k0=20, AUC = 0.907963\n",
      "Classifying subgraphs in Virginia63-UCLA26 ...\n",
      "sampling subgraphs with k=30 nodes\n"
     ]
    },
    {
     "name": "stderr",
     "output_type": "stream",
     "text": [
      "100%|████████████████████████████████████████████████████████████████████| 100/100 [00:00<00:00, 772.40it/s]\n",
      "100%|████████████████████████████████████████████████████████████████████| 100/100 [00:00<00:00, 692.55it/s]\n",
      "100%|████████████████████████████████████████████████████████████████████| 100/100 [00:00<00:00, 850.75it/s]\n",
      "100%|████████████████████████████████████████████████████████████████████| 100/100 [00:00<00:00, 120.99it/s]\n",
      "100%|████████████████████████████████████████████████████████████████████| 100/100 [00:00<00:00, 115.99it/s]\n",
      "100%|████████████████████████████████████████████████████████████████████| 100/100 [00:00<00:00, 132.73it/s]\n",
      "100%|████████████████████████████████████████████████████████████████████| 100/100 [00:00<00:00, 108.68it/s]\n"
     ]
    },
    {
     "name": "stdout",
     "output_type": "stream",
     "text": [
      "extracting subgraph features..\n"
     ]
    },
    {
     "name": "stderr",
     "output_type": "stream",
     "text": [
      "100%|█████████████████████████████████████████████████████████████████████| 700/700 [15:33<00:00,  1.33s/it]\n"
     ]
    },
    {
     "name": "stdout",
     "output_type": "stream",
     "text": [
      "X.shape (700, 1)\n",
      "method = num_nodes, AUC = 0.500000\n",
      "X.shape (700, 1)\n",
      "method = num_edges, AUC = 0.890556\n",
      "X.shape (700, 1)\n",
      "method = min_degree, AUC = 0.592437\n",
      "X.shape (700, 1)\n",
      "method = max_degree, AUC = 0.786915\n",
      "X.shape (700, 1)\n",
      "method = diameter, AUC = 0.769108\n",
      "X.shape (700, 1)\n",
      "method = degree_assortativity_coef, AUC = 0.560624\n",
      "X.shape (700, 1)\n",
      "method = num_cliques, AUC = 0.751701\n",
      "X.shape (700, 1)\n",
      "method = Avg_clustering_coeff, AUC = 0.737495\n",
      "X.shape (700, 1)\n",
      "method = edeg_density, AUC = 0.890556\n",
      "X.shape (700, 25)\n",
      "method = MACC k0=5, AUC = 0.889156\n",
      "X.shape (700, 100)\n",
      "method = MACC k0=10, AUC = 0.912365\n",
      "X.shape (700, 225)\n",
      "method = MACC k0=15, AUC = 0.930372\n",
      "X.shape (700, 400)\n",
      "method = MACC k0=20, AUC = 0.927171\n",
      "Classifying subgraphs in Virginia63-Wisconsin87 ...\n",
      "sampling subgraphs with k=30 nodes\n"
     ]
    },
    {
     "name": "stderr",
     "output_type": "stream",
     "text": [
      "100%|████████████████████████████████████████████████████████████████████| 100/100 [00:00<00:00, 703.86it/s]\n",
      "100%|████████████████████████████████████████████████████████████████████| 100/100 [00:00<00:00, 664.60it/s]\n",
      "100%|████████████████████████████████████████████████████████████████████| 100/100 [00:00<00:00, 832.42it/s]\n",
      "100%|█████████████████████████████████████████████████████████████████████| 100/100 [00:01<00:00, 88.32it/s]\n",
      "100%|████████████████████████████████████████████████████████████████████| 100/100 [00:00<00:00, 113.78it/s]\n",
      "100%|████████████████████████████████████████████████████████████████████| 100/100 [00:00<00:00, 125.54it/s]\n",
      "100%|████████████████████████████████████████████████████████████████████| 100/100 [00:00<00:00, 106.60it/s]\n"
     ]
    },
    {
     "name": "stdout",
     "output_type": "stream",
     "text": [
      "extracting subgraph features..\n"
     ]
    },
    {
     "name": "stderr",
     "output_type": "stream",
     "text": [
      "100%|█████████████████████████████████████████████████████████████████████| 700/700 [15:32<00:00,  1.33s/it]\n"
     ]
    },
    {
     "name": "stdout",
     "output_type": "stream",
     "text": [
      "X.shape (700, 1)\n",
      "method = num_nodes, AUC = 0.500000\n",
      "X.shape (700, 1)\n",
      "method = num_edges, AUC = 0.806323\n",
      "X.shape (700, 1)\n",
      "method = min_degree, AUC = 0.573029\n",
      "X.shape (700, 1)\n",
      "method = max_degree, AUC = 0.690276\n",
      "X.shape (700, 1)\n",
      "method = diameter, AUC = 0.781913\n",
      "X.shape (700, 1)\n",
      "method = degree_assortativity_coef, AUC = 0.643057\n",
      "X.shape (700, 1)\n",
      "method = num_cliques, AUC = 0.650460\n",
      "X.shape (700, 1)\n",
      "method = Avg_clustering_coeff, AUC = 0.705882\n",
      "X.shape (700, 1)\n",
      "method = edeg_density, AUC = 0.806323\n",
      "X.shape (700, 25)\n",
      "method = MACC k0=5, AUC = 0.859544\n",
      "X.shape (700, 100)\n",
      "method = MACC k0=10, AUC = 0.883153\n",
      "X.shape (700, 225)\n",
      "method = MACC k0=15, AUC = 0.865146\n",
      "X.shape (700, 400)\n",
      "method = MACC k0=20, AUC = 0.879952\n",
      "Classifying subgraphs in UCLA26-Wisconsin87 ...\n",
      "sampling subgraphs with k=30 nodes\n"
     ]
    },
    {
     "name": "stderr",
     "output_type": "stream",
     "text": [
      "100%|████████████████████████████████████████████████████████████████████| 100/100 [00:00<00:00, 829.04it/s]\n",
      "100%|████████████████████████████████████████████████████████████████████| 100/100 [00:00<00:00, 585.10it/s]\n",
      "100%|████████████████████████████████████████████████████████████████████| 100/100 [00:00<00:00, 834.09it/s]\n",
      "100%|████████████████████████████████████████████████████████████████████| 100/100 [00:00<00:00, 126.60it/s]\n",
      "100%|████████████████████████████████████████████████████████████████████| 100/100 [00:00<00:00, 124.14it/s]\n",
      "100%|████████████████████████████████████████████████████████████████████| 100/100 [00:00<00:00, 138.04it/s]\n",
      "100%|████████████████████████████████████████████████████████████████████| 100/100 [00:00<00:00, 115.23it/s]\n"
     ]
    },
    {
     "name": "stdout",
     "output_type": "stream",
     "text": [
      "extracting subgraph features..\n"
     ]
    },
    {
     "name": "stderr",
     "output_type": "stream",
     "text": [
      "100%|█████████████████████████████████████████████████████████████████████| 700/700 [15:36<00:00,  1.34s/it]\n"
     ]
    },
    {
     "name": "stdout",
     "output_type": "stream",
     "text": [
      "X.shape (700, 1)\n",
      "method = num_nodes, AUC = 0.500000\n",
      "X.shape (700, 1)\n",
      "method = num_edges, AUC = 0.821128\n",
      "X.shape (700, 1)\n",
      "method = min_degree, AUC = 0.585034\n",
      "X.shape (700, 1)\n",
      "method = max_degree, AUC = 0.759304\n",
      "X.shape (700, 1)\n",
      "method = diameter, AUC = 0.826731\n",
      "X.shape (700, 1)\n",
      "method = degree_assortativity_coef, AUC = 0.603041\n",
      "X.shape (700, 1)\n",
      "method = num_cliques, AUC = 0.673069\n",
      "X.shape (700, 1)\n",
      "method = Avg_clustering_coeff, AUC = 0.730292\n",
      "X.shape (700, 1)\n",
      "method = edeg_density, AUC = 0.821128\n",
      "X.shape (700, 25)\n",
      "method = MACC k0=5, AUC = 0.879952\n",
      "X.shape (700, 100)\n",
      "method = MACC k0=10, AUC = 0.927971\n",
      "X.shape (700, 225)\n",
      "method = MACC k0=15, AUC = 0.913165\n",
      "X.shape (700, 400)\n",
      "method = MACC k0=20, AUC = 0.921168\n",
      "Classifying subgraphs in Caltech36-Simmons81 ...\n",
      "sampling subgraphs with k=30 nodes\n"
     ]
    },
    {
     "name": "stderr",
     "output_type": "stream",
     "text": [
      "100%|████████████████████████████████████████████████████████████████████| 100/100 [00:00<00:00, 719.10it/s]\n",
      "100%|████████████████████████████████████████████████████████████████████| 100/100 [00:00<00:00, 688.28it/s]\n",
      "100%|████████████████████████████████████████████████████████████████████| 100/100 [00:00<00:00, 857.74it/s]\n",
      "100%|████████████████████████████████████████████████████████████████████| 100/100 [00:00<00:00, 121.03it/s]\n",
      "100%|████████████████████████████████████████████████████████████████████| 100/100 [00:00<00:00, 123.07it/s]\n",
      "100%|████████████████████████████████████████████████████████████████████| 100/100 [00:00<00:00, 134.91it/s]\n",
      "100%|████████████████████████████████████████████████████████████████████| 100/100 [00:00<00:00, 111.11it/s]\n"
     ]
    },
    {
     "name": "stdout",
     "output_type": "stream",
     "text": [
      "extracting subgraph features..\n"
     ]
    },
    {
     "name": "stderr",
     "output_type": "stream",
     "text": [
      "100%|█████████████████████████████████████████████████████████████████████| 700/700 [15:33<00:00,  1.33s/it]\n"
     ]
    },
    {
     "name": "stdout",
     "output_type": "stream",
     "text": [
      "X.shape (700, 1)\n",
      "method = num_nodes, AUC = 0.500000\n",
      "X.shape (700, 1)\n",
      "method = num_edges, AUC = 0.917967\n",
      "X.shape (700, 1)\n",
      "method = min_degree, AUC = 0.648659\n",
      "X.shape (700, 1)\n",
      "method = max_degree, AUC = 0.787115\n",
      "X.shape (700, 1)\n",
      "method = diameter, AUC = 0.879152\n",
      "X.shape (700, 1)\n",
      "method = degree_assortativity_coef, AUC = 0.684674\n",
      "X.shape (700, 1)\n",
      "method = num_cliques, AUC = 0.817327\n",
      "X.shape (700, 1)\n",
      "method = Avg_clustering_coeff, AUC = 0.790716\n",
      "X.shape (700, 1)\n",
      "method = edeg_density, AUC = 0.917967\n",
      "X.shape (700, 25)\n",
      "method = MACC k0=5, AUC = 0.985194\n",
      "X.shape (700, 100)\n",
      "method = MACC k0=10, AUC = 0.989596\n",
      "X.shape (700, 225)\n",
      "method = MACC k0=15, AUC = 0.981593\n",
      "X.shape (700, 400)\n",
      "method = MACC k0=20, AUC = 0.963986\n",
      "Classifying subgraphs in Caltech36-Reed98 ...\n",
      "sampling subgraphs with k=30 nodes\n"
     ]
    },
    {
     "name": "stderr",
     "output_type": "stream",
     "text": [
      "100%|████████████████████████████████████████████████████████████████████| 100/100 [00:00<00:00, 411.34it/s]\n",
      "100%|████████████████████████████████████████████████████████████████████| 100/100 [00:00<00:00, 722.68it/s]\n",
      "100%|████████████████████████████████████████████████████████████████████| 100/100 [00:00<00:00, 857.15it/s]\n",
      "100%|████████████████████████████████████████████████████████████████████| 100/100 [00:00<00:00, 121.30it/s]\n",
      "100%|████████████████████████████████████████████████████████████████████| 100/100 [00:00<00:00, 120.69it/s]\n",
      "100%|████████████████████████████████████████████████████████████████████| 100/100 [00:00<00:00, 134.03it/s]\n",
      "100%|████████████████████████████████████████████████████████████████████| 100/100 [00:00<00:00, 111.46it/s]\n"
     ]
    },
    {
     "name": "stdout",
     "output_type": "stream",
     "text": [
      "extracting subgraph features..\n"
     ]
    },
    {
     "name": "stderr",
     "output_type": "stream",
     "text": [
      "100%|█████████████████████████████████████████████████████████████████████| 700/700 [15:30<00:00,  1.33s/it]\n"
     ]
    },
    {
     "name": "stdout",
     "output_type": "stream",
     "text": [
      "X.shape (700, 1)\n",
      "method = num_nodes, AUC = 0.500000\n",
      "X.shape (700, 1)\n",
      "method = num_edges, AUC = 0.836134\n",
      "X.shape (700, 1)\n",
      "method = min_degree, AUC = 0.606242\n",
      "X.shape (700, 1)\n",
      "method = max_degree, AUC = 0.787715\n",
      "X.shape (700, 1)\n",
      "method = diameter, AUC = 0.783914\n",
      "X.shape (700, 1)\n",
      "method = degree_assortativity_coef, AUC = 0.607443\n",
      "X.shape (700, 1)\n",
      "method = num_cliques, AUC = 0.737695\n",
      "X.shape (700, 1)\n",
      "method = Avg_clustering_coeff, AUC = 0.824730\n",
      "X.shape (700, 1)\n",
      "method = edeg_density, AUC = 0.836134\n",
      "X.shape (700, 25)\n",
      "method = MACC k0=5, AUC = 0.869148\n",
      "X.shape (700, 100)\n",
      "method = MACC k0=10, AUC = 0.910364\n",
      "X.shape (700, 225)\n",
      "method = MACC k0=15, AUC = 0.904362\n",
      "X.shape (700, 400)\n",
      "method = MACC k0=20, AUC = 0.908764\n",
      "Classifying subgraphs in Caltech36-NYU9 ...\n",
      "sampling subgraphs with k=30 nodes\n"
     ]
    },
    {
     "name": "stderr",
     "output_type": "stream",
     "text": [
      "100%|████████████████████████████████████████████████████████████████████| 100/100 [00:00<00:00, 446.68it/s]\n",
      "100%|████████████████████████████████████████████████████████████████████| 100/100 [00:00<00:00, 707.33it/s]\n",
      "100%|████████████████████████████████████████████████████████████████████| 100/100 [00:00<00:00, 844.94it/s]\n",
      "100%|█████████████████████████████████████████████████████████████████████| 100/100 [00:01<00:00, 92.57it/s]\n",
      "100%|████████████████████████████████████████████████████████████████████| 100/100 [00:00<00:00, 122.56it/s]\n",
      "100%|████████████████████████████████████████████████████████████████████| 100/100 [00:00<00:00, 136.26it/s]\n",
      "100%|████████████████████████████████████████████████████████████████████| 100/100 [00:00<00:00, 109.58it/s]\n"
     ]
    },
    {
     "name": "stdout",
     "output_type": "stream",
     "text": [
      "extracting subgraph features..\n"
     ]
    },
    {
     "name": "stderr",
     "output_type": "stream",
     "text": [
      "100%|█████████████████████████████████████████████████████████████████████| 700/700 [15:35<00:00,  1.34s/it]\n"
     ]
    },
    {
     "name": "stdout",
     "output_type": "stream",
     "text": [
      "X.shape (700, 1)\n",
      "method = num_nodes, AUC = 0.500000\n",
      "X.shape (700, 1)\n",
      "method = num_edges, AUC = 0.815126\n",
      "X.shape (700, 1)\n",
      "method = min_degree, AUC = 0.597039\n",
      "X.shape (700, 1)\n",
      "method = max_degree, AUC = 0.765106\n",
      "X.shape (700, 1)\n",
      "method = diameter, AUC = 0.832733\n",
      "X.shape (700, 1)\n",
      "method = degree_assortativity_coef, AUC = 0.631853\n",
      "X.shape (700, 1)\n",
      "method = num_cliques, AUC = 0.742497\n",
      "X.shape (700, 1)\n",
      "method = Avg_clustering_coeff, AUC = 0.733493\n",
      "X.shape (700, 1)\n",
      "method = edeg_density, AUC = 0.815126\n",
      "X.shape (700, 25)\n",
      "method = MACC k0=5, AUC = 0.902361\n",
      "X.shape (700, 100)\n",
      "method = MACC k0=10, AUC = 0.904362\n",
      "X.shape (700, 225)\n",
      "method = MACC k0=15, AUC = 0.916367\n",
      "X.shape (700, 400)\n",
      "method = MACC k0=20, AUC = 0.923569\n",
      "Classifying subgraphs in Caltech36-Virginia63 ...\n",
      "sampling subgraphs with k=30 nodes\n"
     ]
    },
    {
     "name": "stderr",
     "output_type": "stream",
     "text": [
      "100%|████████████████████████████████████████████████████████████████████| 100/100 [00:00<00:00, 558.66it/s]\n",
      "100%|████████████████████████████████████████████████████████████████████| 100/100 [00:00<00:00, 606.20it/s]\n",
      "100%|████████████████████████████████████████████████████████████████████| 100/100 [00:00<00:00, 833.26it/s]\n",
      "100%|█████████████████████████████████████████████████████████████████████| 100/100 [00:02<00:00, 49.33it/s]\n",
      "100%|████████████████████████████████████████████████████████████████████| 100/100 [00:00<00:00, 122.22it/s]\n",
      "100%|████████████████████████████████████████████████████████████████████| 100/100 [00:00<00:00, 136.17it/s]\n",
      "100%|████████████████████████████████████████████████████████████████████| 100/100 [00:00<00:00, 109.84it/s]\n"
     ]
    },
    {
     "name": "stdout",
     "output_type": "stream",
     "text": [
      "extracting subgraph features..\n"
     ]
    },
    {
     "name": "stderr",
     "output_type": "stream",
     "text": [
      "100%|█████████████████████████████████████████████████████████████████████| 700/700 [15:35<00:00,  1.34s/it]\n"
     ]
    },
    {
     "name": "stdout",
     "output_type": "stream",
     "text": [
      "X.shape (700, 1)\n",
      "method = num_nodes, AUC = 0.500000\n",
      "X.shape (700, 1)\n",
      "method = num_edges, AUC = 0.850740\n",
      "X.shape (700, 1)\n",
      "method = min_degree, AUC = 0.640456\n",
      "X.shape (700, 1)\n",
      "method = max_degree, AUC = 0.782113\n",
      "X.shape (700, 1)\n",
      "method = diameter, AUC = 0.846539\n",
      "X.shape (700, 1)\n",
      "method = degree_assortativity_coef, AUC = 0.656263\n",
      "X.shape (700, 1)\n",
      "method = num_cliques, AUC = 0.722089\n",
      "X.shape (700, 1)\n",
      "method = Avg_clustering_coeff, AUC = 0.771108\n",
      "X.shape (700, 1)\n",
      "method = edeg_density, AUC = 0.850740\n",
      "X.shape (700, 25)\n",
      "method = MACC k0=5, AUC = 0.906363\n",
      "X.shape (700, 100)\n",
      "method = MACC k0=10, AUC = 0.928772\n",
      "X.shape (700, 225)\n",
      "method = MACC k0=15, AUC = 0.929572\n",
      "X.shape (700, 400)\n",
      "method = MACC k0=20, AUC = 0.953982\n",
      "Classifying subgraphs in Caltech36-UCLA26 ...\n",
      "sampling subgraphs with k=30 nodes\n"
     ]
    },
    {
     "name": "stderr",
     "output_type": "stream",
     "text": [
      "100%|████████████████████████████████████████████████████████████████████| 100/100 [00:00<00:00, 746.70it/s]\n",
      "100%|████████████████████████████████████████████████████████████████████| 100/100 [00:00<00:00, 713.60it/s]\n",
      "100%|████████████████████████████████████████████████████████████████████| 100/100 [00:00<00:00, 843.35it/s]\n",
      "100%|████████████████████████████████████████████████████████████████████| 100/100 [00:00<00:00, 116.46it/s]\n",
      "100%|████████████████████████████████████████████████████████████████████| 100/100 [00:00<00:00, 122.69it/s]\n",
      "100%|████████████████████████████████████████████████████████████████████| 100/100 [00:00<00:00, 134.38it/s]\n",
      "100%|████████████████████████████████████████████████████████████████████| 100/100 [00:00<00:00, 103.74it/s]\n"
     ]
    },
    {
     "name": "stdout",
     "output_type": "stream",
     "text": [
      "extracting subgraph features..\n"
     ]
    },
    {
     "name": "stderr",
     "output_type": "stream",
     "text": [
      "100%|█████████████████████████████████████████████████████████████████████| 700/700 [15:35<00:00,  1.34s/it]\n"
     ]
    },
    {
     "name": "stdout",
     "output_type": "stream",
     "text": [
      "X.shape (700, 1)\n",
      "method = num_nodes, AUC = 0.500000\n",
      "X.shape (700, 1)\n",
      "method = num_edges, AUC = 0.824330\n",
      "X.shape (700, 1)\n",
      "method = min_degree, AUC = 0.581433\n",
      "X.shape (700, 1)\n",
      "method = max_degree, AUC = 0.746299\n",
      "X.shape (700, 1)\n",
      "method = diameter, AUC = 0.820528\n",
      "X.shape (700, 1)\n",
      "method = degree_assortativity_coef, AUC = 0.565426\n",
      "X.shape (700, 1)\n",
      "method = num_cliques, AUC = 0.693477\n",
      "X.shape (700, 1)\n",
      "method = Avg_clustering_coeff, AUC = 0.707883\n",
      "X.shape (700, 1)\n",
      "method = edeg_density, AUC = 0.824330\n",
      "X.shape (700, 25)\n",
      "method = MACC k0=5, AUC = 0.894358\n",
      "X.shape (700, 100)\n",
      "method = MACC k0=10, AUC = 0.940776\n",
      "X.shape (700, 225)\n",
      "method = MACC k0=15, AUC = 0.947979\n",
      "X.shape (700, 400)\n",
      "method = MACC k0=20, AUC = 0.939976\n",
      "Classifying subgraphs in Caltech36-Wisconsin87 ...\n",
      "sampling subgraphs with k=30 nodes\n"
     ]
    },
    {
     "name": "stderr",
     "output_type": "stream",
     "text": [
      "100%|████████████████████████████████████████████████████████████████████| 100/100 [00:00<00:00, 819.81it/s]\n",
      "100%|████████████████████████████████████████████████████████████████████| 100/100 [00:00<00:00, 730.96it/s]\n",
      "100%|████████████████████████████████████████████████████████████████████| 100/100 [00:00<00:00, 813.55it/s]\n",
      "100%|█████████████████████████████████████████████████████████████████████| 100/100 [00:01<00:00, 83.71it/s]\n",
      "100%|████████████████████████████████████████████████████████████████████| 100/100 [00:00<00:00, 114.73it/s]\n",
      "100%|████████████████████████████████████████████████████████████████████| 100/100 [00:00<00:00, 125.58it/s]\n",
      "100%|█████████████████████████████████████████████████████████████████████| 100/100 [00:01<00:00, 99.77it/s]\n"
     ]
    },
    {
     "name": "stdout",
     "output_type": "stream",
     "text": [
      "extracting subgraph features..\n"
     ]
    },
    {
     "name": "stderr",
     "output_type": "stream",
     "text": [
      "100%|█████████████████████████████████████████████████████████████████████| 700/700 [15:33<00:00,  1.33s/it]\n"
     ]
    },
    {
     "name": "stdout",
     "output_type": "stream",
     "text": [
      "X.shape (700, 1)\n",
      "method = num_nodes, AUC = 0.500000\n",
      "X.shape (700, 1)\n",
      "method = num_edges, AUC = 0.843737\n",
      "X.shape (700, 1)\n",
      "method = min_degree, AUC = 0.669868\n",
      "X.shape (700, 1)\n",
      "method = max_degree, AUC = 0.749300\n",
      "X.shape (700, 1)\n",
      "method = diameter, AUC = 0.805522\n",
      "X.shape (700, 1)\n",
      "method = degree_assortativity_coef, AUC = 0.583834\n",
      "X.shape (700, 1)\n",
      "method = num_cliques, AUC = 0.751701\n",
      "X.shape (700, 1)\n",
      "method = Avg_clustering_coeff, AUC = 0.790316\n",
      "X.shape (700, 1)\n",
      "method = edeg_density, AUC = 0.843737\n",
      "X.shape (700, 25)\n",
      "method = MACC k0=5, AUC = 0.876351\n",
      "X.shape (700, 100)\n",
      "method = MACC k0=10, AUC = 0.911164\n",
      "X.shape (700, 225)\n",
      "method = MACC k0=15, AUC = 0.907563\n",
      "X.shape (700, 400)\n",
      "method = MACC k0=20, AUC = 0.927971\n",
      "Classifying subgraphs in Simmons81-Reed98 ...\n",
      "sampling subgraphs with k=30 nodes\n"
     ]
    },
    {
     "name": "stderr",
     "output_type": "stream",
     "text": [
      "100%|████████████████████████████████████████████████████████████████████| 100/100 [00:00<00:00, 723.00it/s]\n",
      "100%|████████████████████████████████████████████████████████████████████| 100/100 [00:00<00:00, 714.15it/s]\n",
      "100%|████████████████████████████████████████████████████████████████████| 100/100 [00:00<00:00, 794.82it/s]\n",
      "100%|████████████████████████████████████████████████████████████████████| 100/100 [00:00<00:00, 105.09it/s]\n",
      "100%|████████████████████████████████████████████████████████████████████| 100/100 [00:00<00:00, 114.81it/s]\n",
      "100%|████████████████████████████████████████████████████████████████████| 100/100 [00:00<00:00, 136.02it/s]\n",
      "100%|████████████████████████████████████████████████████████████████████| 100/100 [00:00<00:00, 112.01it/s]\n"
     ]
    },
    {
     "name": "stdout",
     "output_type": "stream",
     "text": [
      "extracting subgraph features..\n"
     ]
    },
    {
     "name": "stderr",
     "output_type": "stream",
     "text": [
      "100%|█████████████████████████████████████████████████████████████████████| 700/700 [15:34<00:00,  1.34s/it]\n"
     ]
    },
    {
     "name": "stdout",
     "output_type": "stream",
     "text": [
      "X.shape (700, 1)\n",
      "method = num_nodes, AUC = 0.500000\n",
      "X.shape (700, 1)\n",
      "method = num_edges, AUC = 0.891557\n",
      "X.shape (700, 1)\n",
      "method = min_degree, AUC = 0.587035\n",
      "X.shape (700, 1)\n",
      "method = max_degree, AUC = 0.830732\n",
      "X.shape (700, 1)\n",
      "method = diameter, AUC = 0.889756\n",
      "X.shape (700, 1)\n",
      "method = degree_assortativity_coef, AUC = 0.675070\n",
      "X.shape (700, 1)\n",
      "method = num_cliques, AUC = 0.776711\n",
      "X.shape (700, 1)\n",
      "method = Avg_clustering_coeff, AUC = 0.816327\n",
      "X.shape (700, 1)\n",
      "method = edeg_density, AUC = 0.891557\n",
      "X.shape (700, 25)\n",
      "method = MACC k0=5, AUC = 0.913565\n",
      "X.shape (700, 100)\n",
      "method = MACC k0=10, AUC = 0.939976\n",
      "X.shape (700, 225)\n",
      "method = MACC k0=15, AUC = 0.940776\n",
      "X.shape (700, 400)\n",
      "method = MACC k0=20, AUC = 0.938375\n",
      "Classifying subgraphs in Simmons81-NYU9 ...\n",
      "sampling subgraphs with k=30 nodes\n"
     ]
    },
    {
     "name": "stderr",
     "output_type": "stream",
     "text": [
      "100%|████████████████████████████████████████████████████████████████████| 100/100 [00:00<00:00, 846.85it/s]\n",
      "100%|████████████████████████████████████████████████████████████████████| 100/100 [00:00<00:00, 668.02it/s]\n",
      "100%|████████████████████████████████████████████████████████████████████| 100/100 [00:00<00:00, 813.33it/s]\n",
      "100%|████████████████████████████████████████████████████████████████████| 100/100 [00:00<00:00, 109.81it/s]\n",
      "100%|████████████████████████████████████████████████████████████████████| 100/100 [00:00<00:00, 122.03it/s]\n",
      "100%|████████████████████████████████████████████████████████████████████| 100/100 [00:00<00:00, 140.28it/s]\n",
      "100%|████████████████████████████████████████████████████████████████████| 100/100 [00:00<00:00, 114.23it/s]\n"
     ]
    },
    {
     "name": "stdout",
     "output_type": "stream",
     "text": [
      "extracting subgraph features..\n"
     ]
    },
    {
     "name": "stderr",
     "output_type": "stream",
     "text": [
      "100%|█████████████████████████████████████████████████████████████████████| 700/700 [15:36<00:00,  1.34s/it]\n"
     ]
    },
    {
     "name": "stdout",
     "output_type": "stream",
     "text": [
      "X.shape (700, 1)\n",
      "method = num_nodes, AUC = 0.500000\n",
      "X.shape (700, 1)\n",
      "method = num_edges, AUC = 0.887955\n",
      "X.shape (700, 1)\n",
      "method = min_degree, AUC = 0.595238\n",
      "X.shape (700, 1)\n",
      "method = max_degree, AUC = 0.772109\n",
      "X.shape (700, 1)\n",
      "method = diameter, AUC = 0.787315\n",
      "X.shape (700, 1)\n",
      "method = degree_assortativity_coef, AUC = 0.544618\n",
      "X.shape (700, 1)\n",
      "method = num_cliques, AUC = 0.755702\n",
      "X.shape (700, 1)\n",
      "method = Avg_clustering_coeff, AUC = 0.782713\n",
      "X.shape (700, 1)\n",
      "method = edeg_density, AUC = 0.887955\n",
      "X.shape (700, 25)\n",
      "method = MACC k0=5, AUC = 0.901160\n",
      "X.shape (700, 100)\n",
      "method = MACC k0=10, AUC = 0.911565\n",
      "X.shape (700, 225)\n",
      "method = MACC k0=15, AUC = 0.941176\n",
      "X.shape (700, 400)\n",
      "method = MACC k0=20, AUC = 0.947979\n",
      "Classifying subgraphs in Simmons81-Virginia63 ...\n",
      "sampling subgraphs with k=30 nodes\n"
     ]
    },
    {
     "name": "stderr",
     "output_type": "stream",
     "text": [
      "100%|████████████████████████████████████████████████████████████████████| 100/100 [00:00<00:00, 808.14it/s]\n",
      "100%|████████████████████████████████████████████████████████████████████| 100/100 [00:00<00:00, 624.21it/s]\n",
      "100%|████████████████████████████████████████████████████████████████████| 100/100 [00:00<00:00, 816.18it/s]\n",
      "100%|████████████████████████████████████████████████████████████████████| 100/100 [00:00<00:00, 101.02it/s]\n",
      "100%|████████████████████████████████████████████████████████████████████| 100/100 [00:00<00:00, 102.49it/s]\n",
      "100%|████████████████████████████████████████████████████████████████████| 100/100 [00:00<00:00, 118.42it/s]\n",
      "100%|█████████████████████████████████████████████████████████████████████| 100/100 [00:01<00:00, 95.75it/s]\n"
     ]
    },
    {
     "name": "stdout",
     "output_type": "stream",
     "text": [
      "extracting subgraph features..\n"
     ]
    },
    {
     "name": "stderr",
     "output_type": "stream",
     "text": [
      "100%|█████████████████████████████████████████████████████████████████████| 700/700 [15:35<00:00,  1.34s/it]\n"
     ]
    },
    {
     "name": "stdout",
     "output_type": "stream",
     "text": [
      "X.shape (700, 1)\n",
      "method = num_nodes, AUC = 0.500000\n",
      "X.shape (700, 1)\n",
      "method = num_edges, AUC = 0.852341\n",
      "X.shape (700, 1)\n",
      "method = min_degree, AUC = 0.563025\n",
      "X.shape (700, 1)\n",
      "method = max_degree, AUC = 0.757103\n",
      "X.shape (700, 1)\n",
      "method = diameter, AUC = 0.768707\n",
      "X.shape (700, 1)\n",
      "method = degree_assortativity_coef, AUC = 0.561825\n",
      "X.shape (700, 1)\n",
      "method = num_cliques, AUC = 0.783313\n",
      "X.shape (700, 1)\n",
      "method = Avg_clustering_coeff, AUC = 0.798319\n",
      "X.shape (700, 1)\n",
      "method = edeg_density, AUC = 0.852341\n",
      "X.shape (700, 25)\n",
      "method = MACC k0=5, AUC = 0.902361\n",
      "X.shape (700, 100)\n",
      "method = MACC k0=10, AUC = 0.903561\n",
      "X.shape (700, 225)\n",
      "method = MACC k0=15, AUC = 0.910364\n",
      "X.shape (700, 400)\n",
      "method = MACC k0=20, AUC = 0.926771\n",
      "Classifying subgraphs in Simmons81-UCLA26 ...\n",
      "sampling subgraphs with k=30 nodes\n"
     ]
    },
    {
     "name": "stderr",
     "output_type": "stream",
     "text": [
      "100%|████████████████████████████████████████████████████████████████████| 100/100 [00:00<00:00, 755.66it/s]\n",
      "100%|████████████████████████████████████████████████████████████████████| 100/100 [00:00<00:00, 646.48it/s]\n",
      "100%|████████████████████████████████████████████████████████████████████| 100/100 [00:00<00:00, 822.14it/s]\n",
      "100%|████████████████████████████████████████████████████████████████████| 100/100 [00:00<00:00, 106.42it/s]\n",
      "100%|████████████████████████████████████████████████████████████████████| 100/100 [00:00<00:00, 109.22it/s]\n",
      "100%|████████████████████████████████████████████████████████████████████| 100/100 [00:00<00:00, 127.44it/s]\n",
      "100%|████████████████████████████████████████████████████████████████████| 100/100 [00:00<00:00, 104.02it/s]\n"
     ]
    },
    {
     "name": "stdout",
     "output_type": "stream",
     "text": [
      "extracting subgraph features..\n"
     ]
    },
    {
     "name": "stderr",
     "output_type": "stream",
     "text": [
      "100%|█████████████████████████████████████████████████████████████████████| 700/700 [15:32<00:00,  1.33s/it]\n"
     ]
    },
    {
     "name": "stdout",
     "output_type": "stream",
     "text": [
      "X.shape (700, 1)\n",
      "method = num_nodes, AUC = 0.500000\n",
      "X.shape (700, 1)\n",
      "method = num_edges, AUC = 0.802921\n",
      "X.shape (700, 1)\n",
      "method = min_degree, AUC = 0.542617\n",
      "X.shape (700, 1)\n",
      "method = max_degree, AUC = 0.736094\n",
      "X.shape (700, 1)\n",
      "method = diameter, AUC = 0.753301\n",
      "X.shape (700, 1)\n",
      "method = degree_assortativity_coef, AUC = 0.575030\n",
      "X.shape (700, 1)\n",
      "method = num_cliques, AUC = 0.683273\n",
      "X.shape (700, 1)\n",
      "method = Avg_clustering_coeff, AUC = 0.757103\n",
      "X.shape (700, 1)\n",
      "method = edeg_density, AUC = 0.802921\n",
      "X.shape (700, 25)\n",
      "method = MACC k0=5, AUC = 0.882353\n",
      "X.shape (700, 100)\n",
      "method = MACC k0=10, AUC = 0.959184\n",
      "X.shape (700, 225)\n",
      "method = MACC k0=15, AUC = 0.927971\n",
      "X.shape (700, 400)\n",
      "method = MACC k0=20, AUC = 0.944778\n",
      "Classifying subgraphs in Simmons81-Wisconsin87 ...\n",
      "sampling subgraphs with k=30 nodes\n"
     ]
    },
    {
     "name": "stderr",
     "output_type": "stream",
     "text": [
      "100%|████████████████████████████████████████████████████████████████████| 100/100 [00:00<00:00, 795.43it/s]\n",
      "100%|████████████████████████████████████████████████████████████████████| 100/100 [00:00<00:00, 713.64it/s]\n",
      "100%|████████████████████████████████████████████████████████████████████| 100/100 [00:00<00:00, 804.55it/s]\n",
      "100%|████████████████████████████████████████████████████████████████████| 100/100 [00:00<00:00, 112.74it/s]\n",
      "100%|████████████████████████████████████████████████████████████████████| 100/100 [00:00<00:00, 110.32it/s]\n",
      "100%|████████████████████████████████████████████████████████████████████| 100/100 [00:00<00:00, 124.87it/s]\n",
      "100%|█████████████████████████████████████████████████████████████████████| 100/100 [00:01<00:00, 75.47it/s]\n"
     ]
    },
    {
     "name": "stdout",
     "output_type": "stream",
     "text": [
      "extracting subgraph features..\n"
     ]
    },
    {
     "name": "stderr",
     "output_type": "stream",
     "text": [
      "100%|█████████████████████████████████████████████████████████████████████| 700/700 [15:34<00:00,  1.34s/it]\n"
     ]
    },
    {
     "name": "stdout",
     "output_type": "stream",
     "text": [
      "X.shape (700, 1)\n",
      "method = num_nodes, AUC = 0.500000\n",
      "X.shape (700, 1)\n",
      "method = num_edges, AUC = 0.867547\n",
      "X.shape (700, 1)\n",
      "method = min_degree, AUC = 0.596238\n",
      "X.shape (700, 1)\n",
      "method = max_degree, AUC = 0.789916\n",
      "X.shape (700, 1)\n",
      "method = diameter, AUC = 0.822529\n",
      "X.shape (700, 1)\n",
      "method = degree_assortativity_coef, AUC = 0.601441\n",
      "X.shape (700, 1)\n",
      "method = num_cliques, AUC = 0.721489\n",
      "X.shape (700, 1)\n",
      "method = Avg_clustering_coeff, AUC = 0.777911\n",
      "X.shape (700, 1)\n",
      "method = edeg_density, AUC = 0.867547\n",
      "X.shape (700, 25)\n",
      "method = MACC k0=5, AUC = 0.897559\n",
      "X.shape (700, 100)\n",
      "method = MACC k0=10, AUC = 0.927571\n",
      "X.shape (700, 225)\n",
      "method = MACC k0=15, AUC = 0.921569\n",
      "X.shape (700, 400)\n",
      "method = MACC k0=20, AUC = 0.927971\n",
      "Classifying subgraphs in Reed98-NYU9 ...\n",
      "sampling subgraphs with k=30 nodes\n"
     ]
    },
    {
     "name": "stderr",
     "output_type": "stream",
     "text": [
      "100%|████████████████████████████████████████████████████████████████████| 100/100 [00:00<00:00, 757.51it/s]\n",
      "100%|████████████████████████████████████████████████████████████████████| 100/100 [00:00<00:00, 628.79it/s]\n",
      "100%|████████████████████████████████████████████████████████████████████| 100/100 [00:00<00:00, 856.89it/s]\n",
      "100%|████████████████████████████████████████████████████████████████████| 100/100 [00:00<00:00, 107.78it/s]\n",
      "100%|████████████████████████████████████████████████████████████████████| 100/100 [00:00<00:00, 110.58it/s]\n",
      "100%|████████████████████████████████████████████████████████████████████| 100/100 [00:00<00:00, 125.08it/s]\n",
      "100%|████████████████████████████████████████████████████████████████████| 100/100 [00:00<00:00, 100.55it/s]\n"
     ]
    },
    {
     "name": "stdout",
     "output_type": "stream",
     "text": [
      "extracting subgraph features..\n"
     ]
    },
    {
     "name": "stderr",
     "output_type": "stream",
     "text": [
      "100%|█████████████████████████████████████████████████████████████████████| 700/700 [15:34<00:00,  1.34s/it]\n"
     ]
    },
    {
     "name": "stdout",
     "output_type": "stream",
     "text": [
      "X.shape (700, 1)\n",
      "method = num_nodes, AUC = 0.500000\n",
      "X.shape (700, 1)\n",
      "method = num_edges, AUC = 0.856343\n",
      "X.shape (700, 1)\n",
      "method = min_degree, AUC = 0.607643\n",
      "X.shape (700, 1)\n",
      "method = max_degree, AUC = 0.776110\n",
      "X.shape (700, 1)\n",
      "method = diameter, AUC = 0.824930\n",
      "X.shape (700, 1)\n",
      "method = degree_assortativity_coef, AUC = 0.329332\n",
      "X.shape (700, 1)\n",
      "method = num_cliques, AUC = 0.750300\n",
      "X.shape (700, 1)\n",
      "method = Avg_clustering_coeff, AUC = 0.770708\n",
      "X.shape (700, 1)\n",
      "method = edeg_density, AUC = 0.856343\n",
      "X.shape (700, 25)\n",
      "method = MACC k0=5, AUC = 0.929572\n",
      "X.shape (700, 100)\n",
      "method = MACC k0=10, AUC = 0.969588\n",
      "X.shape (700, 225)\n",
      "method = MACC k0=15, AUC = 0.961985\n",
      "X.shape (700, 400)\n",
      "method = MACC k0=20, AUC = 0.967187\n",
      "Classifying subgraphs in Reed98-Virginia63 ...\n",
      "sampling subgraphs with k=30 nodes\n"
     ]
    },
    {
     "name": "stderr",
     "output_type": "stream",
     "text": [
      "100%|████████████████████████████████████████████████████████████████████| 100/100 [00:00<00:00, 750.57it/s]\n",
      "100%|████████████████████████████████████████████████████████████████████| 100/100 [00:00<00:00, 707.92it/s]\n",
      "100%|████████████████████████████████████████████████████████████████████| 100/100 [00:00<00:00, 846.16it/s]\n",
      "100%|█████████████████████████████████████████████████████████████████████| 100/100 [00:01<00:00, 79.01it/s]\n",
      "100%|████████████████████████████████████████████████████████████████████| 100/100 [00:00<00:00, 111.60it/s]\n",
      "100%|████████████████████████████████████████████████████████████████████| 100/100 [00:00<00:00, 134.74it/s]\n",
      "100%|████████████████████████████████████████████████████████████████████| 100/100 [00:00<00:00, 112.75it/s]\n"
     ]
    },
    {
     "name": "stdout",
     "output_type": "stream",
     "text": [
      "extracting subgraph features..\n"
     ]
    },
    {
     "name": "stderr",
     "output_type": "stream",
     "text": [
      "100%|█████████████████████████████████████████████████████████████████████| 700/700 [15:30<00:00,  1.33s/it]\n"
     ]
    },
    {
     "name": "stdout",
     "output_type": "stream",
     "text": [
      "X.shape (700, 1)\n",
      "method = num_nodes, AUC = 0.500000\n",
      "X.shape (700, 1)\n",
      "method = num_edges, AUC = 0.901361\n",
      "X.shape (700, 1)\n",
      "method = min_degree, AUC = 0.634454\n",
      "X.shape (700, 1)\n",
      "method = max_degree, AUC = 0.830532\n",
      "X.shape (700, 1)\n",
      "method = diameter, AUC = 0.871349\n",
      "X.shape (700, 1)\n",
      "method = degree_assortativity_coef, AUC = 0.675470\n",
      "X.shape (700, 1)\n",
      "method = num_cliques, AUC = 0.813525\n",
      "X.shape (700, 1)\n",
      "method = Avg_clustering_coeff, AUC = 0.812325\n",
      "X.shape (700, 1)\n",
      "method = edeg_density, AUC = 0.901361\n",
      "X.shape (700, 25)\n",
      "method = MACC k0=5, AUC = 0.888756\n",
      "X.shape (700, 100)\n",
      "method = MACC k0=10, AUC = 0.952381\n",
      "X.shape (700, 225)\n",
      "method = MACC k0=15, AUC = 0.961585\n",
      "X.shape (700, 400)\n",
      "method = MACC k0=20, AUC = 0.949580\n",
      "Classifying subgraphs in Reed98-UCLA26 ...\n",
      "sampling subgraphs with k=30 nodes\n"
     ]
    },
    {
     "name": "stderr",
     "output_type": "stream",
     "text": [
      "100%|████████████████████████████████████████████████████████████████████| 100/100 [00:00<00:00, 769.50it/s]\n",
      "100%|████████████████████████████████████████████████████████████████████| 100/100 [00:00<00:00, 645.87it/s]\n",
      "100%|████████████████████████████████████████████████████████████████████| 100/100 [00:00<00:00, 796.62it/s]\n",
      "100%|████████████████████████████████████████████████████████████████████| 100/100 [00:00<00:00, 106.16it/s]\n",
      "100%|████████████████████████████████████████████████████████████████████| 100/100 [00:00<00:00, 111.18it/s]\n",
      "100%|█████████████████████████████████████████████████████████████████████| 100/100 [00:01<00:00, 95.71it/s]\n",
      "100%|████████████████████████████████████████████████████████████████████| 100/100 [00:00<00:00, 102.16it/s]\n"
     ]
    },
    {
     "name": "stdout",
     "output_type": "stream",
     "text": [
      "extracting subgraph features..\n"
     ]
    },
    {
     "name": "stderr",
     "output_type": "stream",
     "text": [
      "100%|█████████████████████████████████████████████████████████████████████| 700/700 [15:34<00:00,  1.34s/it]\n"
     ]
    },
    {
     "name": "stdout",
     "output_type": "stream",
     "text": [
      "X.shape (700, 1)\n",
      "method = num_nodes, AUC = 0.500000\n",
      "X.shape (700, 1)\n",
      "method = num_edges, AUC = 0.853141\n",
      "X.shape (700, 1)\n",
      "method = min_degree, AUC = 0.539216\n",
      "X.shape (700, 1)\n",
      "method = max_degree, AUC = 0.825530\n",
      "X.shape (700, 1)\n",
      "method = diameter, AUC = 0.812125\n",
      "X.shape (700, 1)\n",
      "method = degree_assortativity_coef, AUC = 0.639856\n",
      "X.shape (700, 1)\n",
      "method = num_cliques, AUC = 0.719688\n",
      "X.shape (700, 1)\n",
      "method = Avg_clustering_coeff, AUC = 0.789916\n",
      "X.shape (700, 1)\n",
      "method = edeg_density, AUC = 0.853141\n",
      "X.shape (700, 25)\n",
      "method = MACC k0=5, AUC = 0.868347\n",
      "X.shape (700, 100)\n",
      "method = MACC k0=10, AUC = 0.910364\n",
      "X.shape (700, 225)\n",
      "method = MACC k0=15, AUC = 0.883954\n",
      "X.shape (700, 400)\n",
      "method = MACC k0=20, AUC = 0.904362\n",
      "Classifying subgraphs in Reed98-Wisconsin87 ...\n",
      "sampling subgraphs with k=30 nodes\n"
     ]
    },
    {
     "name": "stderr",
     "output_type": "stream",
     "text": [
      "100%|████████████████████████████████████████████████████████████████████| 100/100 [00:00<00:00, 724.32it/s]\n",
      "100%|████████████████████████████████████████████████████████████████████| 100/100 [00:00<00:00, 650.54it/s]\n",
      "100%|████████████████████████████████████████████████████████████████████| 100/100 [00:00<00:00, 823.42it/s]\n",
      "100%|█████████████████████████████████████████████████████████████████████| 100/100 [00:01<00:00, 90.00it/s]\n",
      "100%|████████████████████████████████████████████████████████████████████| 100/100 [00:00<00:00, 124.30it/s]\n",
      "100%|████████████████████████████████████████████████████████████████████| 100/100 [00:00<00:00, 142.40it/s]\n",
      "100%|████████████████████████████████████████████████████████████████████| 100/100 [00:00<00:00, 111.97it/s]\n"
     ]
    },
    {
     "name": "stdout",
     "output_type": "stream",
     "text": [
      "extracting subgraph features..\n"
     ]
    },
    {
     "name": "stderr",
     "output_type": "stream",
     "text": [
      "100%|█████████████████████████████████████████████████████████████████████| 700/700 [15:35<00:00,  1.34s/it]\n"
     ]
    },
    {
     "name": "stdout",
     "output_type": "stream",
     "text": [
      "X.shape (700, 1)\n",
      "method = num_nodes, AUC = 0.500000\n",
      "X.shape (700, 1)\n",
      "method = num_edges, AUC = 0.785714\n",
      "X.shape (700, 1)\n",
      "method = min_degree, AUC = 0.610644\n",
      "X.shape (700, 1)\n",
      "method = max_degree, AUC = 0.713485\n",
      "X.shape (700, 1)\n",
      "method = diameter, AUC = 0.880352\n",
      "X.shape (700, 1)\n",
      "method = degree_assortativity_coef, AUC = 0.721489\n",
      "X.shape (700, 1)\n",
      "method = num_cliques, AUC = 0.661665\n",
      "X.shape (700, 1)\n",
      "method = Avg_clustering_coeff, AUC = 0.727491\n",
      "X.shape (700, 1)\n",
      "method = edeg_density, AUC = 0.785714\n",
      "X.shape (700, 25)\n",
      "method = MACC k0=5, AUC = 0.856343\n",
      "X.shape (700, 100)\n",
      "method = MACC k0=10, AUC = 0.937175\n",
      "X.shape (700, 225)\n",
      "method = MACC k0=15, AUC = 0.952781\n",
      "X.shape (700, 400)\n",
      "method = MACC k0=20, AUC = 0.955582\n",
      "Classifying subgraphs in NYU9-Virginia63 ...\n",
      "sampling subgraphs with k=30 nodes\n"
     ]
    },
    {
     "name": "stderr",
     "output_type": "stream",
     "text": [
      "100%|████████████████████████████████████████████████████████████████████| 100/100 [00:00<00:00, 820.47it/s]\n",
      "100%|████████████████████████████████████████████████████████████████████| 100/100 [00:00<00:00, 734.75it/s]\n",
      "100%|████████████████████████████████████████████████████████████████████| 100/100 [00:00<00:00, 809.45it/s]\n",
      "100%|████████████████████████████████████████████████████████████████████| 100/100 [00:00<00:00, 101.14it/s]\n",
      "100%|█████████████████████████████████████████████████████████████████████| 100/100 [00:01<00:00, 93.31it/s]\n",
      "100%|████████████████████████████████████████████████████████████████████| 100/100 [00:00<00:00, 128.48it/s]\n",
      "100%|█████████████████████████████████████████████████████████████████████| 100/100 [00:01<00:00, 96.66it/s]\n"
     ]
    },
    {
     "name": "stdout",
     "output_type": "stream",
     "text": [
      "extracting subgraph features..\n"
     ]
    },
    {
     "name": "stderr",
     "output_type": "stream",
     "text": [
      "100%|█████████████████████████████████████████████████████████████████████| 700/700 [15:34<00:00,  1.33s/it]\n"
     ]
    },
    {
     "name": "stdout",
     "output_type": "stream",
     "text": [
      "X.shape (700, 1)\n",
      "method = num_nodes, AUC = 0.500000\n",
      "X.shape (700, 1)\n",
      "method = num_edges, AUC = 0.771709\n",
      "X.shape (700, 1)\n",
      "method = min_degree, AUC = 0.617047\n",
      "X.shape (700, 1)\n",
      "method = max_degree, AUC = 0.659664\n",
      "X.shape (700, 1)\n",
      "method = diameter, AUC = 0.769708\n",
      "X.shape (700, 1)\n",
      "method = degree_assortativity_coef, AUC = 0.654662\n",
      "X.shape (700, 1)\n",
      "method = num_cliques, AUC = 0.630852\n",
      "X.shape (700, 1)\n",
      "method = Avg_clustering_coeff, AUC = 0.708283\n",
      "X.shape (700, 1)\n",
      "method = edeg_density, AUC = 0.771709\n",
      "X.shape (700, 25)\n",
      "method = MACC k0=5, AUC = 0.824330\n",
      "X.shape (700, 100)\n",
      "method = MACC k0=10, AUC = 0.897559\n",
      "X.shape (700, 225)\n",
      "method = MACC k0=15, AUC = 0.900760\n",
      "X.shape (700, 400)\n",
      "method = MACC k0=20, AUC = 0.893557\n",
      "Classifying subgraphs in NYU9-UCLA26 ...\n",
      "sampling subgraphs with k=30 nodes\n"
     ]
    },
    {
     "name": "stderr",
     "output_type": "stream",
     "text": [
      "100%|████████████████████████████████████████████████████████████████████| 100/100 [00:00<00:00, 716.79it/s]\n",
      "100%|████████████████████████████████████████████████████████████████████| 100/100 [00:00<00:00, 645.92it/s]\n",
      "100%|████████████████████████████████████████████████████████████████████| 100/100 [00:00<00:00, 842.60it/s]\n",
      "100%|████████████████████████████████████████████████████████████████████| 100/100 [00:00<00:00, 121.82it/s]\n",
      "100%|████████████████████████████████████████████████████████████████████| 100/100 [00:00<00:00, 122.65it/s]\n",
      "100%|████████████████████████████████████████████████████████████████████| 100/100 [00:00<00:00, 131.70it/s]\n",
      "100%|████████████████████████████████████████████████████████████████████| 100/100 [00:00<00:00, 108.55it/s]\n"
     ]
    },
    {
     "name": "stdout",
     "output_type": "stream",
     "text": [
      "extracting subgraph features..\n"
     ]
    },
    {
     "name": "stderr",
     "output_type": "stream",
     "text": [
      "100%|█████████████████████████████████████████████████████████████████████| 700/700 [15:36<00:00,  1.34s/it]\n"
     ]
    },
    {
     "name": "stdout",
     "output_type": "stream",
     "text": [
      "X.shape (700, 1)\n",
      "method = num_nodes, AUC = 0.500000\n",
      "X.shape (700, 1)\n",
      "method = num_edges, AUC = 0.861144\n",
      "X.shape (700, 1)\n",
      "method = min_degree, AUC = 0.566427\n",
      "X.shape (700, 1)\n",
      "method = max_degree, AUC = 0.785114\n",
      "X.shape (700, 1)\n",
      "method = diameter, AUC = 0.814926\n",
      "X.shape (700, 1)\n",
      "method = degree_assortativity_coef, AUC = 0.318127\n",
      "X.shape (700, 1)\n",
      "method = num_cliques, AUC = 0.735494\n",
      "X.shape (700, 1)\n",
      "method = Avg_clustering_coeff, AUC = 0.798319\n",
      "X.shape (700, 1)\n",
      "method = edeg_density, AUC = 0.861144\n",
      "X.shape (700, 25)\n",
      "method = MACC k0=5, AUC = 0.921569\n",
      "X.shape (700, 100)\n",
      "method = MACC k0=10, AUC = 0.956783\n",
      "X.shape (700, 225)\n",
      "method = MACC k0=15, AUC = 0.943577\n",
      "X.shape (700, 400)\n",
      "method = MACC k0=20, AUC = 0.957583\n",
      "Classifying subgraphs in NYU9-Wisconsin87 ...\n",
      "sampling subgraphs with k=30 nodes\n"
     ]
    },
    {
     "name": "stderr",
     "output_type": "stream",
     "text": [
      "100%|████████████████████████████████████████████████████████████████████| 100/100 [00:00<00:00, 732.67it/s]\n",
      "100%|████████████████████████████████████████████████████████████████████| 100/100 [00:00<00:00, 655.70it/s]\n",
      "100%|████████████████████████████████████████████████████████████████████| 100/100 [00:00<00:00, 799.78it/s]\n",
      "100%|████████████████████████████████████████████████████████████████████| 100/100 [00:00<00:00, 122.29it/s]\n",
      "100%|████████████████████████████████████████████████████████████████████| 100/100 [00:00<00:00, 108.15it/s]\n",
      "100%|████████████████████████████████████████████████████████████████████| 100/100 [00:00<00:00, 123.66it/s]\n",
      "100%|█████████████████████████████████████████████████████████████████████| 100/100 [00:01<00:00, 99.77it/s]\n"
     ]
    },
    {
     "name": "stdout",
     "output_type": "stream",
     "text": [
      "extracting subgraph features..\n"
     ]
    },
    {
     "name": "stderr",
     "output_type": "stream",
     "text": [
      "100%|█████████████████████████████████████████████████████████████████████| 700/700 [15:33<00:00,  1.33s/it]\n"
     ]
    },
    {
     "name": "stdout",
     "output_type": "stream",
     "text": [
      "X.shape (700, 1)\n",
      "method = num_nodes, AUC = 0.500000\n",
      "X.shape (700, 1)\n",
      "method = num_edges, AUC = 0.887755\n",
      "X.shape (700, 1)\n",
      "method = min_degree, AUC = 0.680072\n",
      "X.shape (700, 1)\n",
      "method = max_degree, AUC = 0.803121\n",
      "X.shape (700, 1)\n",
      "method = diameter, AUC = 0.828131\n",
      "X.shape (700, 1)\n",
      "method = degree_assortativity_coef, AUC = 0.635054\n",
      "X.shape (700, 1)\n",
      "method = num_cliques, AUC = 0.797719\n",
      "X.shape (700, 1)\n",
      "method = Avg_clustering_coeff, AUC = 0.808723\n",
      "X.shape (700, 1)\n",
      "method = edeg_density, AUC = 0.887755\n",
      "X.shape (700, 25)\n",
      "method = MACC k0=5, AUC = 0.921969\n",
      "X.shape (700, 100)\n",
      "method = MACC k0=10, AUC = 0.921969\n",
      "X.shape (700, 225)\n",
      "method = MACC k0=15, AUC = 0.931172\n",
      "X.shape (700, 400)\n",
      "method = MACC k0=20, AUC = 0.937575\n",
      "Classifying subgraphs in Virginia63-UCLA26 ...\n",
      "sampling subgraphs with k=30 nodes\n"
     ]
    },
    {
     "name": "stderr",
     "output_type": "stream",
     "text": [
      "100%|████████████████████████████████████████████████████████████████████| 100/100 [00:00<00:00, 844.37it/s]\n",
      "100%|████████████████████████████████████████████████████████████████████| 100/100 [00:00<00:00, 711.06it/s]\n",
      "100%|████████████████████████████████████████████████████████████████████| 100/100 [00:00<00:00, 815.68it/s]\n",
      "100%|████████████████████████████████████████████████████████████████████| 100/100 [00:00<00:00, 120.42it/s]\n",
      "100%|████████████████████████████████████████████████████████████████████| 100/100 [00:00<00:00, 116.93it/s]\n",
      "100%|████████████████████████████████████████████████████████████████████| 100/100 [00:00<00:00, 131.21it/s]\n",
      "100%|█████████████████████████████████████████████████████████████████████| 100/100 [00:01<00:00, 99.28it/s]\n"
     ]
    },
    {
     "name": "stdout",
     "output_type": "stream",
     "text": [
      "extracting subgraph features..\n"
     ]
    },
    {
     "name": "stderr",
     "output_type": "stream",
     "text": [
      "100%|█████████████████████████████████████████████████████████████████████| 700/700 [15:32<00:00,  1.33s/it]\n"
     ]
    },
    {
     "name": "stdout",
     "output_type": "stream",
     "text": [
      "X.shape (700, 1)\n",
      "method = num_nodes, AUC = 0.500000\n",
      "X.shape (700, 1)\n",
      "method = num_edges, AUC = 0.845738\n",
      "X.shape (700, 1)\n",
      "method = min_degree, AUC = 0.581232\n",
      "X.shape (700, 1)\n",
      "method = max_degree, AUC = 0.819528\n",
      "X.shape (700, 1)\n",
      "method = diameter, AUC = 0.787915\n",
      "X.shape (700, 1)\n",
      "method = degree_assortativity_coef, AUC = 0.632653\n",
      "X.shape (700, 1)\n",
      "method = num_cliques, AUC = 0.699280\n",
      "X.shape (700, 1)\n",
      "method = Avg_clustering_coeff, AUC = 0.805922\n",
      "X.shape (700, 1)\n",
      "method = edeg_density, AUC = 0.845738\n",
      "X.shape (700, 25)\n",
      "method = MACC k0=5, AUC = 0.873950\n",
      "X.shape (700, 100)\n",
      "method = MACC k0=10, AUC = 0.918367\n",
      "X.shape (700, 225)\n",
      "method = MACC k0=15, AUC = 0.915166\n",
      "X.shape (700, 400)\n",
      "method = MACC k0=20, AUC = 0.901961\n",
      "Classifying subgraphs in Virginia63-Wisconsin87 ...\n",
      "sampling subgraphs with k=30 nodes\n"
     ]
    },
    {
     "name": "stderr",
     "output_type": "stream",
     "text": [
      "100%|████████████████████████████████████████████████████████████████████| 100/100 [00:00<00:00, 828.56it/s]\n",
      "100%|████████████████████████████████████████████████████████████████████| 100/100 [00:00<00:00, 706.44it/s]\n",
      "100%|████████████████████████████████████████████████████████████████████| 100/100 [00:00<00:00, 838.05it/s]\n",
      "100%|████████████████████████████████████████████████████████████████████| 100/100 [00:00<00:00, 118.13it/s]\n",
      "100%|████████████████████████████████████████████████████████████████████| 100/100 [00:00<00:00, 114.60it/s]\n",
      "100%|████████████████████████████████████████████████████████████████████| 100/100 [00:00<00:00, 137.88it/s]\n",
      "100%|████████████████████████████████████████████████████████████████████| 100/100 [00:00<00:00, 100.96it/s]\n"
     ]
    },
    {
     "name": "stdout",
     "output_type": "stream",
     "text": [
      "extracting subgraph features..\n"
     ]
    },
    {
     "name": "stderr",
     "output_type": "stream",
     "text": [
      "100%|█████████████████████████████████████████████████████████████████████| 700/700 [15:33<00:00,  1.33s/it]\n"
     ]
    },
    {
     "name": "stdout",
     "output_type": "stream",
     "text": [
      "X.shape (700, 1)\n",
      "method = num_nodes, AUC = 0.500000\n",
      "X.shape (700, 1)\n",
      "method = num_edges, AUC = 0.831933\n",
      "X.shape (700, 1)\n",
      "method = min_degree, AUC = 0.618848\n",
      "X.shape (700, 1)\n",
      "method = max_degree, AUC = 0.665666\n",
      "X.shape (700, 1)\n",
      "method = diameter, AUC = 0.777111\n",
      "X.shape (700, 1)\n",
      "method = degree_assortativity_coef, AUC = 0.558623\n",
      "X.shape (700, 1)\n",
      "method = num_cliques, AUC = 0.762305\n",
      "X.shape (700, 1)\n",
      "method = Avg_clustering_coeff, AUC = 0.711485\n",
      "X.shape (700, 1)\n",
      "method = edeg_density, AUC = 0.831933\n",
      "X.shape (700, 25)\n",
      "method = MACC k0=5, AUC = 0.895558\n",
      "X.shape (700, 100)\n",
      "method = MACC k0=10, AUC = 0.944378\n",
      "X.shape (700, 225)\n",
      "method = MACC k0=15, AUC = 0.946379\n",
      "X.shape (700, 400)\n",
      "method = MACC k0=20, AUC = 0.943177\n",
      "Classifying subgraphs in UCLA26-Wisconsin87 ...\n",
      "sampling subgraphs with k=30 nodes\n"
     ]
    },
    {
     "name": "stderr",
     "output_type": "stream",
     "text": [
      "100%|████████████████████████████████████████████████████████████████████| 100/100 [00:00<00:00, 701.14it/s]\n",
      "100%|████████████████████████████████████████████████████████████████████| 100/100 [00:00<00:00, 712.64it/s]\n",
      "100%|████████████████████████████████████████████████████████████████████| 100/100 [00:00<00:00, 804.53it/s]\n",
      "100%|████████████████████████████████████████████████████████████████████| 100/100 [00:00<00:00, 112.58it/s]\n",
      "100%|████████████████████████████████████████████████████████████████████| 100/100 [00:00<00:00, 118.03it/s]\n",
      "100%|████████████████████████████████████████████████████████████████████| 100/100 [00:00<00:00, 127.74it/s]\n",
      "100%|████████████████████████████████████████████████████████████████████| 100/100 [00:00<00:00, 101.84it/s]\n"
     ]
    },
    {
     "name": "stdout",
     "output_type": "stream",
     "text": [
      "extracting subgraph features..\n"
     ]
    },
    {
     "name": "stderr",
     "output_type": "stream",
     "text": [
      "100%|█████████████████████████████████████████████████████████████████████| 700/700 [15:33<00:00,  1.33s/it]\n"
     ]
    },
    {
     "name": "stdout",
     "output_type": "stream",
     "text": [
      "X.shape (700, 1)\n",
      "method = num_nodes, AUC = 0.500000\n",
      "X.shape (700, 1)\n",
      "method = num_edges, AUC = 0.920168\n",
      "X.shape (700, 1)\n",
      "method = min_degree, AUC = 0.648059\n",
      "X.shape (700, 1)\n",
      "method = max_degree, AUC = 0.834934\n",
      "X.shape (700, 1)\n",
      "method = diameter, AUC = 0.853942\n",
      "X.shape (700, 1)\n",
      "method = degree_assortativity_coef, AUC = 0.607843\n",
      "X.shape (700, 1)\n",
      "method = num_cliques, AUC = 0.757103\n",
      "X.shape (700, 1)\n",
      "method = Avg_clustering_coeff, AUC = 0.817127\n",
      "X.shape (700, 1)\n",
      "method = edeg_density, AUC = 0.920168\n",
      "X.shape (700, 25)\n",
      "method = MACC k0=5, AUC = 0.945178\n",
      "X.shape (700, 100)\n",
      "method = MACC k0=10, AUC = 0.973189\n",
      "X.shape (700, 225)\n",
      "method = MACC k0=15, AUC = 0.970788\n",
      "X.shape (700, 400)\n",
      "method = MACC k0=20, AUC = 0.977591\n",
      "Classifying subgraphs in Caltech36-Simmons81 ...\n",
      "sampling subgraphs with k=30 nodes\n"
     ]
    },
    {
     "name": "stderr",
     "output_type": "stream",
     "text": [
      "100%|████████████████████████████████████████████████████████████████████| 100/100 [00:00<00:00, 855.56it/s]\n",
      "100%|████████████████████████████████████████████████████████████████████| 100/100 [00:00<00:00, 696.40it/s]\n",
      "100%|████████████████████████████████████████████████████████████████████| 100/100 [00:00<00:00, 856.74it/s]\n",
      "100%|████████████████████████████████████████████████████████████████████| 100/100 [00:00<00:00, 119.45it/s]\n",
      "100%|████████████████████████████████████████████████████████████████████| 100/100 [00:00<00:00, 117.25it/s]\n",
      "100%|████████████████████████████████████████████████████████████████████| 100/100 [00:00<00:00, 131.40it/s]\n",
      "100%|████████████████████████████████████████████████████████████████████| 100/100 [00:00<00:00, 110.73it/s]\n"
     ]
    },
    {
     "name": "stdout",
     "output_type": "stream",
     "text": [
      "extracting subgraph features..\n"
     ]
    },
    {
     "name": "stderr",
     "output_type": "stream",
     "text": [
      "100%|█████████████████████████████████████████████████████████████████████| 700/700 [15:34<00:00,  1.33s/it]\n"
     ]
    },
    {
     "name": "stdout",
     "output_type": "stream",
     "text": [
      "X.shape (700, 1)\n",
      "method = num_nodes, AUC = 0.500000\n",
      "X.shape (700, 1)\n",
      "method = num_edges, AUC = 0.885954\n",
      "X.shape (700, 1)\n",
      "method = min_degree, AUC = 0.678071\n",
      "X.shape (700, 1)\n",
      "method = max_degree, AUC = 0.766507\n",
      "X.shape (700, 1)\n",
      "method = diameter, AUC = 0.927571\n",
      "X.shape (700, 1)\n",
      "method = degree_assortativity_coef, AUC = 0.835534\n",
      "X.shape (700, 1)\n",
      "method = num_cliques, AUC = 0.669668\n",
      "X.shape (700, 1)\n",
      "method = Avg_clustering_coeff, AUC = 0.787515\n",
      "X.shape (700, 1)\n",
      "method = edeg_density, AUC = 0.885954\n",
      "X.shape (700, 25)\n",
      "method = MACC k0=5, AUC = 0.933573\n",
      "X.shape (700, 100)\n",
      "method = MACC k0=10, AUC = 0.961985\n",
      "X.shape (700, 225)\n",
      "method = MACC k0=15, AUC = 0.952381\n",
      "X.shape (700, 400)\n",
      "method = MACC k0=20, AUC = 0.931172\n",
      "Classifying subgraphs in Caltech36-Reed98 ...\n",
      "sampling subgraphs with k=30 nodes\n"
     ]
    },
    {
     "name": "stderr",
     "output_type": "stream",
     "text": [
      "100%|████████████████████████████████████████████████████████████████████| 100/100 [00:00<00:00, 425.90it/s]\n",
      "100%|████████████████████████████████████████████████████████████████████| 100/100 [00:00<00:00, 702.34it/s]\n",
      "100%|████████████████████████████████████████████████████████████████████| 100/100 [00:00<00:00, 829.82it/s]\n",
      "100%|████████████████████████████████████████████████████████████████████| 100/100 [00:00<00:00, 110.94it/s]\n",
      "100%|████████████████████████████████████████████████████████████████████| 100/100 [00:00<00:00, 121.89it/s]\n",
      "100%|█████████████████████████████████████████████████████████████████████| 100/100 [00:01<00:00, 99.17it/s]\n",
      "100%|█████████████████████████████████████████████████████████████████████| 100/100 [00:01<00:00, 77.15it/s]\n"
     ]
    },
    {
     "name": "stdout",
     "output_type": "stream",
     "text": [
      "extracting subgraph features..\n"
     ]
    },
    {
     "name": "stderr",
     "output_type": "stream",
     "text": [
      "100%|█████████████████████████████████████████████████████████████████████| 700/700 [15:34<00:00,  1.34s/it]\n"
     ]
    },
    {
     "name": "stdout",
     "output_type": "stream",
     "text": [
      "X.shape (700, 1)\n",
      "method = num_nodes, AUC = 0.500000\n",
      "X.shape (700, 1)\n",
      "method = num_edges, AUC = 0.848339\n",
      "X.shape (700, 1)\n",
      "method = min_degree, AUC = 0.656062\n",
      "X.shape (700, 1)\n",
      "method = max_degree, AUC = 0.732093\n",
      "X.shape (700, 1)\n",
      "method = diameter, AUC = 0.838135\n",
      "X.shape (700, 1)\n",
      "method = degree_assortativity_coef, AUC = 0.603441\n",
      "X.shape (700, 1)\n",
      "method = num_cliques, AUC = 0.728892\n",
      "X.shape (700, 1)\n",
      "method = Avg_clustering_coeff, AUC = 0.791116\n",
      "X.shape (700, 1)\n",
      "method = edeg_density, AUC = 0.848339\n",
      "X.shape (700, 25)\n",
      "method = MACC k0=5, AUC = 0.898359\n",
      "X.shape (700, 100)\n",
      "method = MACC k0=10, AUC = 0.919968\n",
      "X.shape (700, 225)\n",
      "method = MACC k0=15, AUC = 0.940376\n",
      "X.shape (700, 400)\n",
      "method = MACC k0=20, AUC = 0.942377\n",
      "Classifying subgraphs in Caltech36-NYU9 ...\n",
      "sampling subgraphs with k=30 nodes\n"
     ]
    },
    {
     "name": "stderr",
     "output_type": "stream",
     "text": [
      "100%|████████████████████████████████████████████████████████████████████| 100/100 [00:00<00:00, 505.87it/s]\n",
      "100%|████████████████████████████████████████████████████████████████████| 100/100 [00:00<00:00, 719.20it/s]\n",
      "100%|████████████████████████████████████████████████████████████████████| 100/100 [00:00<00:00, 810.43it/s]\n",
      "100%|████████████████████████████████████████████████████████████████████| 100/100 [00:00<00:00, 115.32it/s]\n",
      "100%|████████████████████████████████████████████████████████████████████| 100/100 [00:00<00:00, 116.74it/s]\n",
      "100%|████████████████████████████████████████████████████████████████████| 100/100 [00:00<00:00, 141.02it/s]\n",
      "100%|████████████████████████████████████████████████████████████████████| 100/100 [00:00<00:00, 105.09it/s]\n"
     ]
    },
    {
     "name": "stdout",
     "output_type": "stream",
     "text": [
      "extracting subgraph features..\n"
     ]
    },
    {
     "name": "stderr",
     "output_type": "stream",
     "text": [
      "100%|█████████████████████████████████████████████████████████████████████| 700/700 [15:34<00:00,  1.34s/it]\n"
     ]
    },
    {
     "name": "stdout",
     "output_type": "stream",
     "text": [
      "X.shape (700, 1)\n",
      "method = num_nodes, AUC = 0.500000\n",
      "X.shape (700, 1)\n",
      "method = num_edges, AUC = 0.819128\n",
      "X.shape (700, 1)\n",
      "method = min_degree, AUC = 0.605642\n",
      "X.shape (700, 1)\n",
      "method = max_degree, AUC = 0.761305\n",
      "X.shape (700, 1)\n",
      "method = diameter, AUC = 0.819328\n",
      "X.shape (700, 1)\n",
      "method = degree_assortativity_coef, AUC = 0.588235\n",
      "X.shape (700, 1)\n",
      "method = num_cliques, AUC = 0.713285\n",
      "X.shape (700, 1)\n",
      "method = Avg_clustering_coeff, AUC = 0.775510\n",
      "X.shape (700, 1)\n",
      "method = edeg_density, AUC = 0.819128\n",
      "X.shape (700, 25)\n",
      "method = MACC k0=5, AUC = 0.861545\n",
      "X.shape (700, 100)\n",
      "method = MACC k0=10, AUC = 0.895958\n",
      "X.shape (700, 225)\n",
      "method = MACC k0=15, AUC = 0.913565\n",
      "X.shape (700, 400)\n",
      "method = MACC k0=20, AUC = 0.907563\n",
      "Classifying subgraphs in Caltech36-Virginia63 ...\n",
      "sampling subgraphs with k=30 nodes\n"
     ]
    },
    {
     "name": "stderr",
     "output_type": "stream",
     "text": [
      "100%|████████████████████████████████████████████████████████████████████| 100/100 [00:00<00:00, 608.11it/s]\n",
      "100%|████████████████████████████████████████████████████████████████████| 100/100 [00:00<00:00, 589.17it/s]\n",
      "100%|████████████████████████████████████████████████████████████████████| 100/100 [00:00<00:00, 806.83it/s]\n",
      "100%|████████████████████████████████████████████████████████████████████| 100/100 [00:00<00:00, 108.41it/s]\n",
      "100%|████████████████████████████████████████████████████████████████████| 100/100 [00:00<00:00, 109.35it/s]\n",
      "100%|████████████████████████████████████████████████████████████████████| 100/100 [00:00<00:00, 133.08it/s]\n",
      "100%|████████████████████████████████████████████████████████████████████| 100/100 [00:00<00:00, 114.20it/s]\n"
     ]
    },
    {
     "name": "stdout",
     "output_type": "stream",
     "text": [
      "extracting subgraph features..\n"
     ]
    },
    {
     "name": "stderr",
     "output_type": "stream",
     "text": [
      "100%|█████████████████████████████████████████████████████████████████████| 700/700 [15:37<00:00,  1.34s/it]\n"
     ]
    },
    {
     "name": "stdout",
     "output_type": "stream",
     "text": [
      "X.shape (700, 1)\n",
      "method = num_nodes, AUC = 0.500000\n",
      "X.shape (700, 1)\n",
      "method = num_edges, AUC = 0.834134\n",
      "X.shape (700, 1)\n",
      "method = min_degree, AUC = 0.586234\n",
      "X.shape (700, 1)\n",
      "method = max_degree, AUC = 0.764906\n",
      "X.shape (700, 1)\n",
      "method = diameter, AUC = 0.810724\n",
      "X.shape (700, 1)\n",
      "method = degree_assortativity_coef, AUC = 0.543017\n",
      "X.shape (700, 1)\n",
      "method = num_cliques, AUC = 0.781112\n",
      "X.shape (700, 1)\n",
      "method = Avg_clustering_coeff, AUC = 0.776311\n",
      "X.shape (700, 1)\n",
      "method = edeg_density, AUC = 0.834134\n",
      "X.shape (700, 25)\n",
      "method = MACC k0=5, AUC = 0.875950\n",
      "X.shape (700, 100)\n",
      "method = MACC k0=10, AUC = 0.920768\n",
      "X.shape (700, 225)\n",
      "method = MACC k0=15, AUC = 0.903161\n",
      "X.shape (700, 400)\n",
      "method = MACC k0=20, AUC = 0.939576\n",
      "Classifying subgraphs in Caltech36-UCLA26 ...\n",
      "sampling subgraphs with k=30 nodes\n"
     ]
    },
    {
     "name": "stderr",
     "output_type": "stream",
     "text": [
      "100%|████████████████████████████████████████████████████████████████████| 100/100 [00:00<00:00, 588.86it/s]\n",
      "100%|████████████████████████████████████████████████████████████████████| 100/100 [00:00<00:00, 701.89it/s]\n",
      "100%|████████████████████████████████████████████████████████████████████| 100/100 [00:00<00:00, 801.69it/s]\n",
      "100%|█████████████████████████████████████████████████████████████████████| 100/100 [00:01<00:00, 93.54it/s]\n",
      "100%|████████████████████████████████████████████████████████████████████| 100/100 [00:00<00:00, 119.84it/s]\n",
      "100%|████████████████████████████████████████████████████████████████████| 100/100 [00:00<00:00, 125.39it/s]\n",
      "100%|████████████████████████████████████████████████████████████████████| 100/100 [00:00<00:00, 103.51it/s]\n"
     ]
    },
    {
     "name": "stdout",
     "output_type": "stream",
     "text": [
      "extracting subgraph features..\n"
     ]
    },
    {
     "name": "stderr",
     "output_type": "stream",
     "text": [
      "100%|█████████████████████████████████████████████████████████████████████| 700/700 [15:33<00:00,  1.33s/it]\n"
     ]
    },
    {
     "name": "stdout",
     "output_type": "stream",
     "text": [
      "X.shape (700, 1)\n",
      "method = num_nodes, AUC = 0.500000\n",
      "X.shape (700, 1)\n",
      "method = num_edges, AUC = 0.905562\n",
      "X.shape (700, 1)\n",
      "method = min_degree, AUC = 0.586435\n",
      "X.shape (700, 1)\n",
      "method = max_degree, AUC = 0.834934\n",
      "X.shape (700, 1)\n",
      "method = diameter, AUC = 0.820128\n",
      "X.shape (700, 1)\n",
      "method = degree_assortativity_coef, AUC = 0.585834\n",
      "X.shape (700, 1)\n",
      "method = num_cliques, AUC = 0.836535\n",
      "X.shape (700, 1)\n",
      "method = Avg_clustering_coeff, AUC = 0.847939\n",
      "X.shape (700, 1)\n",
      "method = edeg_density, AUC = 0.905562\n",
      "X.shape (700, 25)\n",
      "method = MACC k0=5, AUC = 0.885154\n",
      "X.shape (700, 100)\n",
      "method = MACC k0=10, AUC = 0.899560\n",
      "X.shape (700, 225)\n",
      "method = MACC k0=15, AUC = 0.910764\n",
      "X.shape (700, 400)\n",
      "method = MACC k0=20, AUC = 0.909564\n",
      "Classifying subgraphs in Caltech36-Wisconsin87 ...\n",
      "sampling subgraphs with k=30 nodes\n"
     ]
    },
    {
     "name": "stderr",
     "output_type": "stream",
     "text": [
      "100%|████████████████████████████████████████████████████████████████████| 100/100 [00:00<00:00, 867.36it/s]\n",
      "100%|████████████████████████████████████████████████████████████████████| 100/100 [00:00<00:00, 709.05it/s]\n",
      "100%|████████████████████████████████████████████████████████████████████| 100/100 [00:00<00:00, 837.36it/s]\n",
      "100%|█████████████████████████████████████████████████████████████████████| 100/100 [00:01<00:00, 84.20it/s]\n",
      "100%|████████████████████████████████████████████████████████████████████| 100/100 [00:00<00:00, 122.33it/s]\n",
      "100%|████████████████████████████████████████████████████████████████████| 100/100 [00:00<00:00, 129.34it/s]\n",
      "100%|████████████████████████████████████████████████████████████████████| 100/100 [00:00<00:00, 113.00it/s]\n"
     ]
    },
    {
     "name": "stdout",
     "output_type": "stream",
     "text": [
      "extracting subgraph features..\n"
     ]
    },
    {
     "name": "stderr",
     "output_type": "stream",
     "text": [
      "100%|█████████████████████████████████████████████████████████████████████| 700/700 [15:33<00:00,  1.33s/it]\n"
     ]
    },
    {
     "name": "stdout",
     "output_type": "stream",
     "text": [
      "X.shape (700, 1)\n",
      "method = num_nodes, AUC = 0.500000\n",
      "X.shape (700, 1)\n",
      "method = num_edges, AUC = 0.861144\n",
      "X.shape (700, 1)\n",
      "method = min_degree, AUC = 0.601441\n",
      "X.shape (700, 1)\n",
      "method = max_degree, AUC = 0.798119\n",
      "X.shape (700, 1)\n",
      "method = diameter, AUC = 0.813325\n",
      "X.shape (700, 1)\n",
      "method = degree_assortativity_coef, AUC = 0.551821\n",
      "X.shape (700, 1)\n",
      "method = num_cliques, AUC = 0.753101\n",
      "X.shape (700, 1)\n",
      "method = Avg_clustering_coeff, AUC = 0.735894\n",
      "X.shape (700, 1)\n",
      "method = edeg_density, AUC = 0.861144\n",
      "X.shape (700, 25)\n",
      "method = MACC k0=5, AUC = 0.915166\n",
      "X.shape (700, 100)\n",
      "method = MACC k0=10, AUC = 0.943978\n",
      "X.shape (700, 225)\n",
      "method = MACC k0=15, AUC = 0.943177\n",
      "X.shape (700, 400)\n",
      "method = MACC k0=20, AUC = 0.943978\n",
      "Classifying subgraphs in Simmons81-Reed98 ...\n",
      "sampling subgraphs with k=30 nodes\n"
     ]
    },
    {
     "name": "stderr",
     "output_type": "stream",
     "text": [
      "100%|████████████████████████████████████████████████████████████████████| 100/100 [00:00<00:00, 831.62it/s]\n",
      "100%|████████████████████████████████████████████████████████████████████| 100/100 [00:00<00:00, 725.77it/s]\n",
      "100%|████████████████████████████████████████████████████████████████████| 100/100 [00:00<00:00, 796.55it/s]\n",
      "100%|████████████████████████████████████████████████████████████████████| 100/100 [00:00<00:00, 110.84it/s]\n",
      "100%|████████████████████████████████████████████████████████████████████| 100/100 [00:00<00:00, 121.44it/s]\n",
      "100%|████████████████████████████████████████████████████████████████████| 100/100 [00:00<00:00, 127.25it/s]\n",
      "100%|████████████████████████████████████████████████████████████████████| 100/100 [00:00<00:00, 110.60it/s]\n"
     ]
    },
    {
     "name": "stdout",
     "output_type": "stream",
     "text": [
      "extracting subgraph features..\n"
     ]
    },
    {
     "name": "stderr",
     "output_type": "stream",
     "text": [
      "100%|█████████████████████████████████████████████████████████████████████| 700/700 [15:33<00:00,  1.33s/it]\n"
     ]
    },
    {
     "name": "stdout",
     "output_type": "stream",
     "text": [
      "X.shape (700, 1)\n",
      "method = num_nodes, AUC = 0.500000\n",
      "X.shape (700, 1)\n",
      "method = num_edges, AUC = 0.895558\n",
      "X.shape (700, 1)\n",
      "method = min_degree, AUC = 0.555422\n",
      "X.shape (700, 1)\n",
      "method = max_degree, AUC = 0.782913\n",
      "X.shape (700, 1)\n",
      "method = diameter, AUC = 0.791717\n",
      "X.shape (700, 1)\n",
      "method = degree_assortativity_coef, AUC = 0.640256\n",
      "X.shape (700, 1)\n",
      "method = num_cliques, AUC = 0.721088\n",
      "X.shape (700, 1)\n",
      "method = Avg_clustering_coeff, AUC = 0.787115\n",
      "X.shape (700, 1)\n",
      "method = edeg_density, AUC = 0.895558\n",
      "X.shape (700, 25)\n",
      "method = MACC k0=5, AUC = 0.917167\n",
      "X.shape (700, 100)\n",
      "method = MACC k0=10, AUC = 0.946779\n",
      "X.shape (700, 225)\n",
      "method = MACC k0=15, AUC = 0.958784\n",
      "X.shape (700, 400)\n",
      "method = MACC k0=20, AUC = 0.965586\n",
      "Classifying subgraphs in Simmons81-NYU9 ...\n",
      "sampling subgraphs with k=30 nodes\n"
     ]
    },
    {
     "name": "stderr",
     "output_type": "stream",
     "text": [
      "100%|████████████████████████████████████████████████████████████████████| 100/100 [00:00<00:00, 797.07it/s]\n",
      "100%|████████████████████████████████████████████████████████████████████| 100/100 [00:00<00:00, 713.03it/s]\n",
      "100%|████████████████████████████████████████████████████████████████████| 100/100 [00:00<00:00, 790.10it/s]\n",
      "100%|████████████████████████████████████████████████████████████████████| 100/100 [00:00<00:00, 114.99it/s]\n",
      "100%|████████████████████████████████████████████████████████████████████| 100/100 [00:00<00:00, 112.31it/s]\n",
      "100%|████████████████████████████████████████████████████████████████████| 100/100 [00:00<00:00, 126.58it/s]\n",
      "100%|████████████████████████████████████████████████████████████████████| 100/100 [00:00<00:00, 101.22it/s]\n"
     ]
    },
    {
     "name": "stdout",
     "output_type": "stream",
     "text": [
      "extracting subgraph features..\n"
     ]
    },
    {
     "name": "stderr",
     "output_type": "stream",
     "text": [
      "100%|█████████████████████████████████████████████████████████████████████| 700/700 [15:34<00:00,  1.34s/it]\n"
     ]
    },
    {
     "name": "stdout",
     "output_type": "stream",
     "text": [
      "X.shape (700, 1)\n",
      "method = num_nodes, AUC = 0.500000\n",
      "X.shape (700, 1)\n",
      "method = num_edges, AUC = 0.874550\n",
      "X.shape (700, 1)\n",
      "method = min_degree, AUC = 0.613445\n",
      "X.shape (700, 1)\n",
      "method = max_degree, AUC = 0.743097\n",
      "X.shape (700, 1)\n",
      "method = diameter, AUC = 0.824730\n",
      "X.shape (700, 1)\n",
      "method = degree_assortativity_coef, AUC = 0.521409\n",
      "X.shape (700, 1)\n",
      "method = num_cliques, AUC = 0.809924\n",
      "X.shape (700, 1)\n",
      "method = Avg_clustering_coeff, AUC = 0.781112\n",
      "X.shape (700, 1)\n",
      "method = edeg_density, AUC = 0.874550\n",
      "X.shape (700, 25)\n",
      "method = MACC k0=5, AUC = 0.920768\n",
      "X.shape (700, 100)\n",
      "method = MACC k0=10, AUC = 0.934374\n",
      "X.shape (700, 225)\n",
      "method = MACC k0=15, AUC = 0.924370\n",
      "X.shape (700, 400)\n",
      "method = MACC k0=20, AUC = 0.948780\n",
      "Classifying subgraphs in Simmons81-Virginia63 ...\n",
      "sampling subgraphs with k=30 nodes\n"
     ]
    },
    {
     "name": "stderr",
     "output_type": "stream",
     "text": [
      "100%|████████████████████████████████████████████████████████████████████| 100/100 [00:00<00:00, 822.17it/s]\n",
      "100%|████████████████████████████████████████████████████████████████████| 100/100 [00:00<00:00, 713.86it/s]\n",
      "100%|████████████████████████████████████████████████████████████████████| 100/100 [00:00<00:00, 810.35it/s]\n",
      "100%|████████████████████████████████████████████████████████████████████| 100/100 [00:00<00:00, 104.42it/s]\n",
      "100%|████████████████████████████████████████████████████████████████████| 100/100 [00:00<00:00, 109.40it/s]\n",
      "100%|████████████████████████████████████████████████████████████████████| 100/100 [00:00<00:00, 131.56it/s]\n",
      "100%|████████████████████████████████████████████████████████████████████| 100/100 [00:00<00:00, 112.06it/s]\n"
     ]
    },
    {
     "name": "stdout",
     "output_type": "stream",
     "text": [
      "extracting subgraph features..\n"
     ]
    },
    {
     "name": "stderr",
     "output_type": "stream",
     "text": [
      "100%|█████████████████████████████████████████████████████████████████████| 700/700 [15:33<00:00,  1.33s/it]\n"
     ]
    },
    {
     "name": "stdout",
     "output_type": "stream",
     "text": [
      "X.shape (700, 1)\n",
      "method = num_nodes, AUC = 0.500000\n",
      "X.shape (700, 1)\n",
      "method = num_edges, AUC = 0.818127\n",
      "X.shape (700, 1)\n",
      "method = min_degree, AUC = 0.521809\n",
      "X.shape (700, 1)\n",
      "method = max_degree, AUC = 0.769708\n",
      "X.shape (700, 1)\n",
      "method = diameter, AUC = 0.796118\n",
      "X.shape (700, 1)\n",
      "method = degree_assortativity_coef, AUC = 0.672269\n",
      "X.shape (700, 1)\n",
      "method = num_cliques, AUC = 0.670868\n",
      "X.shape (700, 1)\n",
      "method = Avg_clustering_coeff, AUC = 0.686675\n",
      "X.shape (700, 1)\n",
      "method = edeg_density, AUC = 0.818127\n",
      "X.shape (700, 25)\n",
      "method = MACC k0=5, AUC = 0.843938\n",
      "X.shape (700, 100)\n",
      "method = MACC k0=10, AUC = 0.898359\n",
      "X.shape (700, 225)\n",
      "method = MACC k0=15, AUC = 0.888756\n",
      "X.shape (700, 400)\n",
      "method = MACC k0=20, AUC = 0.917567\n",
      "Classifying subgraphs in Simmons81-UCLA26 ...\n",
      "sampling subgraphs with k=30 nodes\n"
     ]
    },
    {
     "name": "stderr",
     "output_type": "stream",
     "text": [
      "100%|████████████████████████████████████████████████████████████████████| 100/100 [00:00<00:00, 745.56it/s]\n",
      "100%|████████████████████████████████████████████████████████████████████| 100/100 [00:00<00:00, 709.15it/s]\n",
      "100%|████████████████████████████████████████████████████████████████████| 100/100 [00:00<00:00, 791.99it/s]\n",
      "100%|█████████████████████████████████████████████████████████████████████| 100/100 [00:01<00:00, 86.06it/s]\n",
      "100%|████████████████████████████████████████████████████████████████████| 100/100 [00:00<00:00, 110.24it/s]\n",
      "100%|█████████████████████████████████████████████████████████████████████| 100/100 [00:01<00:00, 99.95it/s]\n",
      "100%|████████████████████████████████████████████████████████████████████| 100/100 [00:00<00:00, 113.05it/s]\n"
     ]
    },
    {
     "name": "stdout",
     "output_type": "stream",
     "text": [
      "extracting subgraph features..\n"
     ]
    },
    {
     "name": "stderr",
     "output_type": "stream",
     "text": [
      "100%|█████████████████████████████████████████████████████████████████████| 700/700 [15:35<00:00,  1.34s/it]\n"
     ]
    },
    {
     "name": "stdout",
     "output_type": "stream",
     "text": [
      "X.shape (700, 1)\n",
      "method = num_nodes, AUC = 0.500000\n",
      "X.shape (700, 1)\n",
      "method = num_edges, AUC = 0.780512\n",
      "X.shape (700, 1)\n",
      "method = min_degree, AUC = 0.521609\n",
      "X.shape (700, 1)\n",
      "method = max_degree, AUC = 0.730692\n",
      "X.shape (700, 1)\n",
      "method = diameter, AUC = 0.767507\n",
      "X.shape (700, 1)\n",
      "method = degree_assortativity_coef, AUC = 0.520208\n",
      "X.shape (700, 1)\n",
      "method = num_cliques, AUC = 0.703481\n",
      "X.shape (700, 1)\n",
      "method = Avg_clustering_coeff, AUC = 0.687075\n",
      "X.shape (700, 1)\n",
      "method = edeg_density, AUC = 0.780512\n",
      "X.shape (700, 25)\n",
      "method = MACC k0=5, AUC = 0.841537\n",
      "X.shape (700, 100)\n",
      "method = MACC k0=10, AUC = 0.882353\n",
      "X.shape (700, 225)\n",
      "method = MACC k0=15, AUC = 0.885154\n",
      "X.shape (700, 400)\n",
      "method = MACC k0=20, AUC = 0.879952\n",
      "Classifying subgraphs in Simmons81-Wisconsin87 ...\n",
      "sampling subgraphs with k=30 nodes\n"
     ]
    },
    {
     "name": "stderr",
     "output_type": "stream",
     "text": [
      "100%|████████████████████████████████████████████████████████████████████| 100/100 [00:00<00:00, 846.22it/s]\n",
      "100%|████████████████████████████████████████████████████████████████████| 100/100 [00:00<00:00, 708.06it/s]\n",
      "100%|████████████████████████████████████████████████████████████████████| 100/100 [00:00<00:00, 849.84it/s]\n",
      "100%|█████████████████████████████████████████████████████████████████████| 100/100 [00:01<00:00, 92.22it/s]\n",
      "100%|████████████████████████████████████████████████████████████████████| 100/100 [00:00<00:00, 121.56it/s]\n",
      "100%|████████████████████████████████████████████████████████████████████| 100/100 [00:00<00:00, 132.06it/s]\n",
      "100%|████████████████████████████████████████████████████████████████████| 100/100 [00:00<00:00, 104.31it/s]\n"
     ]
    },
    {
     "name": "stdout",
     "output_type": "stream",
     "text": [
      "extracting subgraph features..\n"
     ]
    },
    {
     "name": "stderr",
     "output_type": "stream",
     "text": [
      "100%|█████████████████████████████████████████████████████████████████████| 700/700 [15:33<00:00,  1.33s/it]\n"
     ]
    },
    {
     "name": "stdout",
     "output_type": "stream",
     "text": [
      "X.shape (700, 1)\n",
      "method = num_nodes, AUC = 0.500000\n",
      "X.shape (700, 1)\n",
      "method = num_edges, AUC = 0.880952\n",
      "X.shape (700, 1)\n",
      "method = min_degree, AUC = 0.633653\n",
      "X.shape (700, 1)\n",
      "method = max_degree, AUC = 0.802721\n",
      "X.shape (700, 1)\n",
      "method = diameter, AUC = 0.807523\n",
      "X.shape (700, 1)\n",
      "method = degree_assortativity_coef, AUC = 0.521409\n",
      "X.shape (700, 1)\n",
      "method = num_cliques, AUC = 0.793918\n",
      "X.shape (700, 1)\n",
      "method = Avg_clustering_coeff, AUC = 0.789116\n",
      "X.shape (700, 1)\n",
      "method = edeg_density, AUC = 0.880952\n",
      "X.shape (700, 25)\n",
      "method = MACC k0=5, AUC = 0.890756\n",
      "X.shape (700, 100)\n",
      "method = MACC k0=10, AUC = 0.941977\n",
      "X.shape (700, 225)\n",
      "method = MACC k0=15, AUC = 0.921969\n",
      "X.shape (700, 400)\n",
      "method = MACC k0=20, AUC = 0.927571\n",
      "Classifying subgraphs in Reed98-NYU9 ...\n",
      "sampling subgraphs with k=30 nodes\n"
     ]
    },
    {
     "name": "stderr",
     "output_type": "stream",
     "text": [
      "100%|████████████████████████████████████████████████████████████████████| 100/100 [00:00<00:00, 798.03it/s]\n",
      "100%|████████████████████████████████████████████████████████████████████| 100/100 [00:00<00:00, 727.23it/s]\n",
      "100%|████████████████████████████████████████████████████████████████████| 100/100 [00:00<00:00, 842.19it/s]\n",
      "100%|████████████████████████████████████████████████████████████████████| 100/100 [00:00<00:00, 123.03it/s]\n",
      "100%|████████████████████████████████████████████████████████████████████| 100/100 [00:00<00:00, 122.41it/s]\n",
      "100%|████████████████████████████████████████████████████████████████████| 100/100 [00:00<00:00, 136.19it/s]\n",
      "100%|████████████████████████████████████████████████████████████████████| 100/100 [00:00<00:00, 109.78it/s]\n"
     ]
    },
    {
     "name": "stdout",
     "output_type": "stream",
     "text": [
      "extracting subgraph features..\n"
     ]
    },
    {
     "name": "stderr",
     "output_type": "stream",
     "text": [
      "100%|█████████████████████████████████████████████████████████████████████| 700/700 [15:35<00:00,  1.34s/it]\n"
     ]
    },
    {
     "name": "stdout",
     "output_type": "stream",
     "text": [
      "X.shape (700, 1)\n",
      "method = num_nodes, AUC = 0.500000\n",
      "X.shape (700, 1)\n",
      "method = num_edges, AUC = 0.880952\n",
      "X.shape (700, 1)\n",
      "method = min_degree, AUC = 0.538615\n",
      "X.shape (700, 1)\n",
      "method = max_degree, AUC = 0.796319\n",
      "X.shape (700, 1)\n",
      "method = diameter, AUC = 0.843737\n",
      "X.shape (700, 1)\n",
      "method = degree_assortativity_coef, AUC = 0.634254\n",
      "X.shape (700, 1)\n",
      "method = num_cliques, AUC = 0.720288\n",
      "X.shape (700, 1)\n",
      "method = Avg_clustering_coeff, AUC = 0.747899\n",
      "X.shape (700, 1)\n",
      "method = edeg_density, AUC = 0.880952\n",
      "X.shape (700, 25)\n",
      "method = MACC k0=5, AUC = 0.910364\n",
      "X.shape (700, 100)\n",
      "method = MACC k0=10, AUC = 0.937575\n",
      "X.shape (700, 225)\n",
      "method = MACC k0=15, AUC = 0.935174\n",
      "X.shape (700, 400)\n",
      "method = MACC k0=20, AUC = 0.934774\n",
      "Classifying subgraphs in Reed98-Virginia63 ...\n",
      "sampling subgraphs with k=30 nodes\n"
     ]
    },
    {
     "name": "stderr",
     "output_type": "stream",
     "text": [
      "100%|████████████████████████████████████████████████████████████████████| 100/100 [00:00<00:00, 741.14it/s]\n",
      "100%|████████████████████████████████████████████████████████████████████| 100/100 [00:00<00:00, 729.45it/s]\n",
      "100%|████████████████████████████████████████████████████████████████████| 100/100 [00:00<00:00, 872.89it/s]\n",
      "100%|████████████████████████████████████████████████████████████████████| 100/100 [00:00<00:00, 107.31it/s]\n",
      "100%|████████████████████████████████████████████████████████████████████| 100/100 [00:00<00:00, 124.42it/s]\n",
      "100%|████████████████████████████████████████████████████████████████████| 100/100 [00:00<00:00, 136.75it/s]\n",
      "100%|████████████████████████████████████████████████████████████████████| 100/100 [00:00<00:00, 114.81it/s]\n"
     ]
    },
    {
     "name": "stdout",
     "output_type": "stream",
     "text": [
      "extracting subgraph features..\n"
     ]
    },
    {
     "name": "stderr",
     "output_type": "stream",
     "text": [
      "100%|█████████████████████████████████████████████████████████████████████| 700/700 [15:33<00:00,  1.33s/it]\n"
     ]
    },
    {
     "name": "stdout",
     "output_type": "stream",
     "text": [
      "X.shape (700, 1)\n",
      "method = num_nodes, AUC = 0.500000\n",
      "X.shape (700, 1)\n",
      "method = num_edges, AUC = 0.854742\n",
      "X.shape (700, 1)\n",
      "method = min_degree, AUC = 0.552821\n",
      "X.shape (700, 1)\n",
      "method = max_degree, AUC = 0.784514\n",
      "X.shape (700, 1)\n",
      "method = diameter, AUC = 0.796719\n",
      "X.shape (700, 1)\n",
      "method = degree_assortativity_coef, AUC = 0.693878\n",
      "X.shape (700, 1)\n",
      "method = num_cliques, AUC = 0.718487\n",
      "X.shape (700, 1)\n",
      "method = Avg_clustering_coeff, AUC = 0.812325\n",
      "X.shape (700, 1)\n",
      "method = edeg_density, AUC = 0.854742\n",
      "X.shape (700, 25)\n",
      "method = MACC k0=5, AUC = 0.899560\n",
      "X.shape (700, 100)\n",
      "method = MACC k0=10, AUC = 0.936375\n",
      "X.shape (700, 225)\n",
      "method = MACC k0=15, AUC = 0.927571\n",
      "X.shape (700, 400)\n",
      "method = MACC k0=20, AUC = 0.933974\n",
      "Classifying subgraphs in Reed98-UCLA26 ...\n",
      "sampling subgraphs with k=30 nodes\n"
     ]
    },
    {
     "name": "stderr",
     "output_type": "stream",
     "text": [
      "100%|████████████████████████████████████████████████████████████████████| 100/100 [00:00<00:00, 717.42it/s]\n",
      "100%|████████████████████████████████████████████████████████████████████| 100/100 [00:00<00:00, 660.98it/s]\n",
      "100%|████████████████████████████████████████████████████████████████████| 100/100 [00:00<00:00, 838.81it/s]\n",
      "100%|████████████████████████████████████████████████████████████████████| 100/100 [00:00<00:00, 120.70it/s]\n",
      "100%|████████████████████████████████████████████████████████████████████| 100/100 [00:00<00:00, 124.31it/s]\n",
      "100%|████████████████████████████████████████████████████████████████████| 100/100 [00:00<00:00, 138.17it/s]\n",
      "100%|████████████████████████████████████████████████████████████████████| 100/100 [00:00<00:00, 111.38it/s]\n"
     ]
    },
    {
     "name": "stdout",
     "output_type": "stream",
     "text": [
      "extracting subgraph features..\n"
     ]
    },
    {
     "name": "stderr",
     "output_type": "stream",
     "text": [
      "100%|█████████████████████████████████████████████████████████████████████| 700/700 [15:41<00:00,  1.35s/it]\n"
     ]
    },
    {
     "name": "stdout",
     "output_type": "stream",
     "text": [
      "X.shape (700, 1)\n",
      "method = num_nodes, AUC = 0.500000\n",
      "X.shape (700, 1)\n",
      "method = num_edges, AUC = 0.761305\n",
      "X.shape (700, 1)\n",
      "method = min_degree, AUC = 0.644258\n",
      "X.shape (700, 1)\n",
      "method = max_degree, AUC = 0.642057\n",
      "X.shape (700, 1)\n",
      "method = diameter, AUC = 0.830732\n",
      "X.shape (700, 1)\n",
      "method = degree_assortativity_coef, AUC = 0.563826\n",
      "X.shape (700, 1)\n",
      "method = num_cliques, AUC = 0.670068\n",
      "X.shape (700, 1)\n",
      "method = Avg_clustering_coeff, AUC = 0.705882\n",
      "X.shape (700, 1)\n",
      "method = edeg_density, AUC = 0.761305\n",
      "X.shape (700, 25)\n",
      "method = MACC k0=5, AUC = 0.912765\n",
      "X.shape (700, 100)\n",
      "method = MACC k0=10, AUC = 0.927171\n",
      "X.shape (700, 225)\n",
      "method = MACC k0=15, AUC = 0.920368\n",
      "X.shape (700, 400)\n",
      "method = MACC k0=20, AUC = 0.914766\n",
      "Classifying subgraphs in Reed98-Wisconsin87 ...\n",
      "sampling subgraphs with k=30 nodes\n"
     ]
    },
    {
     "name": "stderr",
     "output_type": "stream",
     "text": [
      "100%|████████████████████████████████████████████████████████████████████| 100/100 [00:00<00:00, 821.72it/s]\n",
      "100%|████████████████████████████████████████████████████████████████████| 100/100 [00:00<00:00, 739.54it/s]\n",
      "100%|████████████████████████████████████████████████████████████████████| 100/100 [00:00<00:00, 805.91it/s]\n",
      "100%|█████████████████████████████████████████████████████████████████████| 100/100 [00:01<00:00, 90.30it/s]\n",
      "100%|████████████████████████████████████████████████████████████████████| 100/100 [00:00<00:00, 120.12it/s]\n",
      "100%|████████████████████████████████████████████████████████████████████| 100/100 [00:00<00:00, 137.88it/s]\n",
      "100%|████████████████████████████████████████████████████████████████████| 100/100 [00:00<00:00, 109.94it/s]\n"
     ]
    },
    {
     "name": "stdout",
     "output_type": "stream",
     "text": [
      "extracting subgraph features..\n"
     ]
    },
    {
     "name": "stderr",
     "output_type": "stream",
     "text": [
      "100%|█████████████████████████████████████████████████████████████████████| 700/700 [15:35<00:00,  1.34s/it]\n"
     ]
    },
    {
     "name": "stdout",
     "output_type": "stream",
     "text": [
      "X.shape (700, 1)\n",
      "method = num_nodes, AUC = 0.500000\n",
      "X.shape (700, 1)\n",
      "method = num_edges, AUC = 0.919968\n",
      "X.shape (700, 1)\n",
      "method = min_degree, AUC = 0.592237\n",
      "X.shape (700, 1)\n",
      "method = max_degree, AUC = 0.882553\n",
      "X.shape (700, 1)\n",
      "method = diameter, AUC = 0.861545\n",
      "X.shape (700, 1)\n",
      "method = degree_assortativity_coef, AUC = 0.735494\n",
      "X.shape (700, 1)\n",
      "method = num_cliques, AUC = 0.806323\n",
      "X.shape (700, 1)\n",
      "method = Avg_clustering_coeff, AUC = 0.859144\n",
      "X.shape (700, 1)\n",
      "method = edeg_density, AUC = 0.919968\n",
      "X.shape (700, 25)\n",
      "method = MACC k0=5, AUC = 0.929972\n",
      "X.shape (700, 100)\n",
      "method = MACC k0=10, AUC = 0.954382\n",
      "X.shape (700, 225)\n",
      "method = MACC k0=15, AUC = 0.951981\n",
      "X.shape (700, 400)\n",
      "method = MACC k0=20, AUC = 0.957983\n",
      "Classifying subgraphs in NYU9-Virginia63 ...\n",
      "sampling subgraphs with k=30 nodes\n"
     ]
    },
    {
     "name": "stderr",
     "output_type": "stream",
     "text": [
      "100%|████████████████████████████████████████████████████████████████████| 100/100 [00:00<00:00, 775.27it/s]\n",
      "100%|████████████████████████████████████████████████████████████████████| 100/100 [00:00<00:00, 728.00it/s]\n",
      "100%|████████████████████████████████████████████████████████████████████| 100/100 [00:00<00:00, 832.29it/s]\n",
      "100%|████████████████████████████████████████████████████████████████████| 100/100 [00:00<00:00, 120.82it/s]\n",
      "100%|████████████████████████████████████████████████████████████████████| 100/100 [00:00<00:00, 120.13it/s]\n",
      "100%|████████████████████████████████████████████████████████████████████| 100/100 [00:00<00:00, 125.57it/s]\n",
      "100%|████████████████████████████████████████████████████████████████████| 100/100 [00:00<00:00, 102.61it/s]\n"
     ]
    },
    {
     "name": "stdout",
     "output_type": "stream",
     "text": [
      "extracting subgraph features..\n"
     ]
    },
    {
     "name": "stderr",
     "output_type": "stream",
     "text": [
      "100%|█████████████████████████████████████████████████████████████████████| 700/700 [15:34<00:00,  1.34s/it]\n"
     ]
    },
    {
     "name": "stdout",
     "output_type": "stream",
     "text": [
      "X.shape (700, 1)\n",
      "method = num_nodes, AUC = 0.500000\n",
      "X.shape (700, 1)\n",
      "method = num_edges, AUC = 0.881553\n",
      "X.shape (700, 1)\n",
      "method = min_degree, AUC = 0.638655\n",
      "X.shape (700, 1)\n",
      "method = max_degree, AUC = 0.780512\n",
      "X.shape (700, 1)\n",
      "method = diameter, AUC = 0.882553\n",
      "X.shape (700, 1)\n",
      "method = degree_assortativity_coef, AUC = 0.611445\n",
      "X.shape (700, 1)\n",
      "method = num_cliques, AUC = 0.792517\n",
      "X.shape (700, 1)\n",
      "method = Avg_clustering_coeff, AUC = 0.770308\n",
      "X.shape (700, 1)\n",
      "method = edeg_density, AUC = 0.881553\n",
      "X.shape (700, 25)\n",
      "method = MACC k0=5, AUC = 0.932373\n",
      "X.shape (700, 100)\n",
      "method = MACC k0=10, AUC = 0.965586\n",
      "X.shape (700, 225)\n",
      "method = MACC k0=15, AUC = 0.979592\n",
      "X.shape (700, 400)\n",
      "method = MACC k0=20, AUC = 0.972389\n",
      "Classifying subgraphs in NYU9-UCLA26 ...\n",
      "sampling subgraphs with k=30 nodes\n"
     ]
    },
    {
     "name": "stderr",
     "output_type": "stream",
     "text": [
      "100%|████████████████████████████████████████████████████████████████████| 100/100 [00:00<00:00, 763.31it/s]\n",
      "100%|████████████████████████████████████████████████████████████████████| 100/100 [00:00<00:00, 572.40it/s]\n",
      "100%|████████████████████████████████████████████████████████████████████| 100/100 [00:00<00:00, 810.09it/s]\n",
      "100%|████████████████████████████████████████████████████████████████████| 100/100 [00:00<00:00, 109.32it/s]\n",
      "100%|████████████████████████████████████████████████████████████████████| 100/100 [00:00<00:00, 122.50it/s]\n",
      "100%|████████████████████████████████████████████████████████████████████| 100/100 [00:00<00:00, 129.11it/s]\n",
      "100%|█████████████████████████████████████████████████████████████████████| 100/100 [00:01<00:00, 98.76it/s]\n"
     ]
    },
    {
     "name": "stdout",
     "output_type": "stream",
     "text": [
      "extracting subgraph features..\n"
     ]
    },
    {
     "name": "stderr",
     "output_type": "stream",
     "text": [
      "100%|█████████████████████████████████████████████████████████████████████| 700/700 [15:34<00:00,  1.34s/it]\n"
     ]
    },
    {
     "name": "stdout",
     "output_type": "stream",
     "text": [
      "X.shape (700, 1)\n",
      "method = num_nodes, AUC = 0.500000\n",
      "X.shape (700, 1)\n",
      "method = num_edges, AUC = 0.861144\n",
      "X.shape (700, 1)\n",
      "method = min_degree, AUC = 0.673669\n",
      "X.shape (700, 1)\n",
      "method = max_degree, AUC = 0.804522\n",
      "X.shape (700, 1)\n",
      "method = diameter, AUC = 0.854142\n",
      "X.shape (700, 1)\n",
      "method = degree_assortativity_coef, AUC = 0.699480\n",
      "X.shape (700, 1)\n",
      "method = num_cliques, AUC = 0.713685\n",
      "X.shape (700, 1)\n",
      "method = Avg_clustering_coeff, AUC = 0.772309\n",
      "X.shape (700, 1)\n",
      "method = edeg_density, AUC = 0.861144\n",
      "X.shape (700, 25)\n",
      "method = MACC k0=5, AUC = 0.935174\n",
      "X.shape (700, 100)\n",
      "method = MACC k0=10, AUC = 0.945178\n",
      "X.shape (700, 225)\n",
      "method = MACC k0=15, AUC = 0.944778\n",
      "X.shape (700, 400)\n",
      "method = MACC k0=20, AUC = 0.965586\n",
      "Classifying subgraphs in NYU9-Wisconsin87 ...\n",
      "sampling subgraphs with k=30 nodes\n"
     ]
    },
    {
     "name": "stderr",
     "output_type": "stream",
     "text": [
      "100%|████████████████████████████████████████████████████████████████████| 100/100 [00:00<00:00, 805.76it/s]\n",
      "100%|████████████████████████████████████████████████████████████████████| 100/100 [00:00<00:00, 722.20it/s]\n",
      "100%|████████████████████████████████████████████████████████████████████| 100/100 [00:00<00:00, 828.94it/s]\n",
      "100%|████████████████████████████████████████████████████████████████████| 100/100 [00:00<00:00, 109.28it/s]\n",
      "100%|████████████████████████████████████████████████████████████████████| 100/100 [00:00<00:00, 110.52it/s]\n",
      "100%|████████████████████████████████████████████████████████████████████| 100/100 [00:00<00:00, 129.70it/s]\n",
      "100%|████████████████████████████████████████████████████████████████████| 100/100 [00:00<00:00, 104.52it/s]\n"
     ]
    },
    {
     "name": "stdout",
     "output_type": "stream",
     "text": [
      "extracting subgraph features..\n"
     ]
    },
    {
     "name": "stderr",
     "output_type": "stream",
     "text": [
      "100%|█████████████████████████████████████████████████████████████████████| 700/700 [15:35<00:00,  1.34s/it]\n"
     ]
    },
    {
     "name": "stdout",
     "output_type": "stream",
     "text": [
      "X.shape (700, 1)\n",
      "method = num_nodes, AUC = 0.500000\n",
      "X.shape (700, 1)\n",
      "method = num_edges, AUC = 0.864146\n",
      "X.shape (700, 1)\n",
      "method = min_degree, AUC = 0.590036\n",
      "X.shape (700, 1)\n",
      "method = max_degree, AUC = 0.797519\n",
      "X.shape (700, 1)\n",
      "method = diameter, AUC = 0.840936\n",
      "X.shape (700, 1)\n",
      "method = degree_assortativity_coef, AUC = 0.623850\n",
      "X.shape (700, 1)\n",
      "method = num_cliques, AUC = 0.774510\n",
      "X.shape (700, 1)\n",
      "method = Avg_clustering_coeff, AUC = 0.773910\n",
      "X.shape (700, 1)\n",
      "method = edeg_density, AUC = 0.864146\n",
      "X.shape (700, 25)\n",
      "method = MACC k0=5, AUC = 0.934374\n",
      "X.shape (700, 100)\n",
      "method = MACC k0=10, AUC = 0.985194\n",
      "X.shape (700, 225)\n",
      "method = MACC k0=15, AUC = 0.976391\n",
      "X.shape (700, 400)\n",
      "method = MACC k0=20, AUC = 0.984794\n",
      "Classifying subgraphs in Virginia63-UCLA26 ...\n",
      "sampling subgraphs with k=30 nodes\n"
     ]
    },
    {
     "name": "stderr",
     "output_type": "stream",
     "text": [
      "100%|████████████████████████████████████████████████████████████████████| 100/100 [00:00<00:00, 793.98it/s]\n",
      "100%|████████████████████████████████████████████████████████████████████| 100/100 [00:00<00:00, 692.45it/s]\n",
      "100%|████████████████████████████████████████████████████████████████████| 100/100 [00:00<00:00, 773.95it/s]\n",
      "100%|████████████████████████████████████████████████████████████████████| 100/100 [00:00<00:00, 106.80it/s]\n",
      "100%|████████████████████████████████████████████████████████████████████| 100/100 [00:00<00:00, 111.95it/s]\n",
      "100%|████████████████████████████████████████████████████████████████████| 100/100 [00:00<00:00, 128.28it/s]\n",
      "100%|█████████████████████████████████████████████████████████████████████| 100/100 [00:01<00:00, 90.07it/s]\n"
     ]
    },
    {
     "name": "stdout",
     "output_type": "stream",
     "text": [
      "extracting subgraph features..\n"
     ]
    },
    {
     "name": "stderr",
     "output_type": "stream",
     "text": [
      "100%|█████████████████████████████████████████████████████████████████████| 700/700 [15:37<00:00,  1.34s/it]\n"
     ]
    },
    {
     "name": "stdout",
     "output_type": "stream",
     "text": [
      "X.shape (700, 1)\n",
      "method = num_nodes, AUC = 0.500000\n",
      "X.shape (700, 1)\n",
      "method = num_edges, AUC = 0.932973\n",
      "X.shape (700, 1)\n",
      "method = min_degree, AUC = 0.568027\n",
      "X.shape (700, 1)\n",
      "method = max_degree, AUC = 0.862945\n",
      "X.shape (700, 1)\n",
      "method = diameter, AUC = 0.875350\n",
      "X.shape (700, 1)\n",
      "method = degree_assortativity_coef, AUC = 0.577831\n",
      "X.shape (700, 1)\n",
      "method = num_cliques, AUC = 0.785314\n",
      "X.shape (700, 1)\n",
      "method = Avg_clustering_coeff, AUC = 0.821929\n",
      "X.shape (700, 1)\n",
      "method = edeg_density, AUC = 0.932973\n",
      "X.shape (700, 25)\n",
      "method = MACC k0=5, AUC = 0.941176\n",
      "X.shape (700, 100)\n",
      "method = MACC k0=10, AUC = 0.954382\n",
      "X.shape (700, 225)\n",
      "method = MACC k0=15, AUC = 0.939176\n",
      "X.shape (700, 400)\n",
      "method = MACC k0=20, AUC = 0.927571\n",
      "Classifying subgraphs in Virginia63-Wisconsin87 ...\n",
      "sampling subgraphs with k=30 nodes\n"
     ]
    },
    {
     "name": "stderr",
     "output_type": "stream",
     "text": [
      "100%|████████████████████████████████████████████████████████████████████| 100/100 [00:00<00:00, 768.47it/s]\n",
      "100%|████████████████████████████████████████████████████████████████████| 100/100 [00:00<00:00, 696.48it/s]\n",
      "100%|████████████████████████████████████████████████████████████████████| 100/100 [00:00<00:00, 850.08it/s]\n",
      "100%|████████████████████████████████████████████████████████████████████| 100/100 [00:00<00:00, 113.24it/s]\n",
      "100%|████████████████████████████████████████████████████████████████████| 100/100 [00:00<00:00, 110.47it/s]\n",
      "100%|████████████████████████████████████████████████████████████████████| 100/100 [00:00<00:00, 137.68it/s]\n",
      "100%|████████████████████████████████████████████████████████████████████| 100/100 [00:00<00:00, 109.38it/s]\n"
     ]
    },
    {
     "name": "stdout",
     "output_type": "stream",
     "text": [
      "extracting subgraph features..\n"
     ]
    },
    {
     "name": "stderr",
     "output_type": "stream",
     "text": [
      "100%|█████████████████████████████████████████████████████████████████████| 700/700 [15:37<00:00,  1.34s/it]\n"
     ]
    },
    {
     "name": "stdout",
     "output_type": "stream",
     "text": [
      "X.shape (700, 1)\n",
      "method = num_nodes, AUC = 0.500000\n",
      "X.shape (700, 1)\n",
      "method = num_edges, AUC = 0.820528\n",
      "X.shape (700, 1)\n",
      "method = min_degree, AUC = 0.592837\n",
      "X.shape (700, 1)\n",
      "method = max_degree, AUC = 0.754302\n",
      "X.shape (700, 1)\n",
      "method = diameter, AUC = 0.797919\n",
      "X.shape (700, 1)\n",
      "method = degree_assortativity_coef, AUC = 0.542217\n",
      "X.shape (700, 1)\n",
      "method = num_cliques, AUC = 0.756503\n",
      "X.shape (700, 1)\n",
      "method = Avg_clustering_coeff, AUC = 0.779112\n",
      "X.shape (700, 1)\n",
      "method = edeg_density, AUC = 0.820528\n",
      "X.shape (700, 25)\n",
      "method = MACC k0=5, AUC = 0.898760\n",
      "X.shape (700, 100)\n",
      "method = MACC k0=10, AUC = 0.923169\n",
      "X.shape (700, 225)\n",
      "method = MACC k0=15, AUC = 0.916767\n",
      "X.shape (700, 400)\n",
      "method = MACC k0=20, AUC = 0.927971\n",
      "Classifying subgraphs in UCLA26-Wisconsin87 ...\n",
      "sampling subgraphs with k=30 nodes\n"
     ]
    },
    {
     "name": "stderr",
     "output_type": "stream",
     "text": [
      "100%|████████████████████████████████████████████████████████████████████| 100/100 [00:00<00:00, 824.82it/s]\n",
      "100%|████████████████████████████████████████████████████████████████████| 100/100 [00:00<00:00, 713.78it/s]\n",
      "100%|████████████████████████████████████████████████████████████████████| 100/100 [00:00<00:00, 806.87it/s]\n",
      "100%|████████████████████████████████████████████████████████████████████| 100/100 [00:00<00:00, 107.97it/s]\n",
      "100%|████████████████████████████████████████████████████████████████████| 100/100 [00:00<00:00, 110.17it/s]\n",
      "100%|████████████████████████████████████████████████████████████████████| 100/100 [00:00<00:00, 122.99it/s]\n",
      "100%|████████████████████████████████████████████████████████████████████| 100/100 [00:00<00:00, 105.61it/s]\n"
     ]
    },
    {
     "name": "stdout",
     "output_type": "stream",
     "text": [
      "extracting subgraph features..\n"
     ]
    },
    {
     "name": "stderr",
     "output_type": "stream",
     "text": [
      "100%|█████████████████████████████████████████████████████████████████████| 700/700 [15:35<00:00,  1.34s/it]\n"
     ]
    },
    {
     "name": "stdout",
     "output_type": "stream",
     "text": [
      "X.shape (700, 1)\n",
      "method = num_nodes, AUC = 0.500000\n",
      "X.shape (700, 1)\n",
      "method = num_edges, AUC = 0.883153\n",
      "X.shape (700, 1)\n",
      "method = min_degree, AUC = 0.646459\n",
      "X.shape (700, 1)\n",
      "method = max_degree, AUC = 0.786915\n",
      "X.shape (700, 1)\n",
      "method = diameter, AUC = 0.843137\n",
      "X.shape (700, 1)\n",
      "method = degree_assortativity_coef, AUC = 0.675470\n",
      "X.shape (700, 1)\n",
      "method = num_cliques, AUC = 0.702481\n",
      "X.shape (700, 1)\n",
      "method = Avg_clustering_coeff, AUC = 0.717487\n",
      "X.shape (700, 1)\n",
      "method = edeg_density, AUC = 0.883153\n",
      "X.shape (700, 25)\n",
      "method = MACC k0=5, AUC = 0.879952\n",
      "X.shape (700, 100)\n",
      "method = MACC k0=10, AUC = 0.936375\n",
      "X.shape (700, 225)\n",
      "method = MACC k0=15, AUC = 0.901561\n",
      "X.shape (700, 400)\n",
      "method = MACC k0=20, AUC = 0.903161\n",
      "Classifying subgraphs in Caltech36-Simmons81 ...\n",
      "sampling subgraphs with k=30 nodes\n"
     ]
    },
    {
     "name": "stderr",
     "output_type": "stream",
     "text": [
      "100%|████████████████████████████████████████████████████████████████████| 100/100 [00:00<00:00, 830.76it/s]\n",
      "100%|████████████████████████████████████████████████████████████████████| 100/100 [00:00<00:00, 668.44it/s]\n",
      "100%|████████████████████████████████████████████████████████████████████| 100/100 [00:00<00:00, 804.25it/s]\n",
      "100%|████████████████████████████████████████████████████████████████████| 100/100 [00:00<00:00, 107.00it/s]\n",
      "100%|████████████████████████████████████████████████████████████████████| 100/100 [00:00<00:00, 113.03it/s]\n",
      "100%|████████████████████████████████████████████████████████████████████| 100/100 [00:00<00:00, 137.67it/s]\n",
      "100%|████████████████████████████████████████████████████████████████████| 100/100 [00:00<00:00, 110.19it/s]\n"
     ]
    },
    {
     "name": "stdout",
     "output_type": "stream",
     "text": [
      "extracting subgraph features..\n"
     ]
    },
    {
     "name": "stderr",
     "output_type": "stream",
     "text": [
      "100%|█████████████████████████████████████████████████████████████████████| 700/700 [15:36<00:00,  1.34s/it]\n"
     ]
    },
    {
     "name": "stdout",
     "output_type": "stream",
     "text": [
      "X.shape (700, 1)\n",
      "method = num_nodes, AUC = 0.500000\n",
      "X.shape (700, 1)\n",
      "method = num_edges, AUC = 0.847139\n",
      "X.shape (700, 1)\n",
      "method = min_degree, AUC = 0.616046\n",
      "X.shape (700, 1)\n",
      "method = max_degree, AUC = 0.785114\n",
      "X.shape (700, 1)\n",
      "method = diameter, AUC = 0.860744\n",
      "X.shape (700, 1)\n",
      "method = degree_assortativity_coef, AUC = 0.649060\n",
      "X.shape (700, 1)\n",
      "method = num_cliques, AUC = 0.741897\n",
      "X.shape (700, 1)\n",
      "method = Avg_clustering_coeff, AUC = 0.755102\n",
      "X.shape (700, 1)\n",
      "method = edeg_density, AUC = 0.847139\n",
      "X.shape (700, 25)\n",
      "method = MACC k0=5, AUC = 0.903962\n",
      "X.shape (700, 100)\n",
      "method = MACC k0=10, AUC = 0.929572\n",
      "X.shape (700, 225)\n",
      "method = MACC k0=15, AUC = 0.925970\n",
      "X.shape (700, 400)\n",
      "method = MACC k0=20, AUC = 0.921969\n",
      "Classifying subgraphs in Caltech36-Reed98 ...\n",
      "sampling subgraphs with k=30 nodes\n"
     ]
    },
    {
     "name": "stderr",
     "output_type": "stream",
     "text": [
      "100%|████████████████████████████████████████████████████████████████████| 100/100 [00:00<00:00, 474.81it/s]\n",
      "100%|████████████████████████████████████████████████████████████████████| 100/100 [00:00<00:00, 705.13it/s]\n",
      "100%|████████████████████████████████████████████████████████████████████| 100/100 [00:00<00:00, 791.63it/s]\n",
      "100%|█████████████████████████████████████████████████████████████████████| 100/100 [00:01<00:00, 85.44it/s]\n",
      "100%|████████████████████████████████████████████████████████████████████| 100/100 [00:00<00:00, 121.15it/s]\n",
      "100%|████████████████████████████████████████████████████████████████████| 100/100 [00:00<00:00, 136.05it/s]\n",
      "100%|████████████████████████████████████████████████████████████████████| 100/100 [00:00<00:00, 100.40it/s]\n"
     ]
    },
    {
     "name": "stdout",
     "output_type": "stream",
     "text": [
      "extracting subgraph features..\n"
     ]
    },
    {
     "name": "stderr",
     "output_type": "stream",
     "text": [
      "100%|█████████████████████████████████████████████████████████████████████| 700/700 [15:34<00:00,  1.33s/it]\n"
     ]
    },
    {
     "name": "stdout",
     "output_type": "stream",
     "text": [
      "X.shape (700, 1)\n",
      "method = num_nodes, AUC = 0.500000\n",
      "X.shape (700, 1)\n",
      "method = num_edges, AUC = 0.824930\n",
      "X.shape (700, 1)\n",
      "method = min_degree, AUC = 0.553221\n",
      "X.shape (700, 1)\n",
      "method = max_degree, AUC = 0.799120\n",
      "X.shape (700, 1)\n",
      "method = diameter, AUC = 0.742697\n",
      "X.shape (700, 1)\n",
      "method = degree_assortativity_coef, AUC = 0.602641\n",
      "X.shape (700, 1)\n",
      "method = num_cliques, AUC = 0.722689\n",
      "X.shape (700, 1)\n",
      "method = Avg_clustering_coeff, AUC = 0.761905\n",
      "X.shape (700, 1)\n",
      "method = edeg_density, AUC = 0.824930\n",
      "X.shape (700, 25)\n",
      "method = MACC k0=5, AUC = 0.840336\n",
      "X.shape (700, 100)\n",
      "method = MACC k0=10, AUC = 0.873950\n",
      "X.shape (700, 225)\n",
      "method = MACC k0=15, AUC = 0.893557\n",
      "X.shape (700, 400)\n",
      "method = MACC k0=20, AUC = 0.877551\n",
      "Classifying subgraphs in Caltech36-NYU9 ...\n",
      "sampling subgraphs with k=30 nodes\n"
     ]
    },
    {
     "name": "stderr",
     "output_type": "stream",
     "text": [
      "100%|████████████████████████████████████████████████████████████████████| 100/100 [00:00<00:00, 482.72it/s]\n",
      "100%|████████████████████████████████████████████████████████████████████| 100/100 [00:00<00:00, 688.77it/s]\n",
      "100%|████████████████████████████████████████████████████████████████████| 100/100 [00:00<00:00, 780.10it/s]\n",
      "100%|████████████████████████████████████████████████████████████████████| 100/100 [00:00<00:00, 117.62it/s]\n",
      "100%|████████████████████████████████████████████████████████████████████| 100/100 [00:00<00:00, 118.97it/s]\n",
      "100%|████████████████████████████████████████████████████████████████████| 100/100 [00:00<00:00, 111.02it/s]\n",
      "100%|████████████████████████████████████████████████████████████████████| 100/100 [00:00<00:00, 101.76it/s]\n"
     ]
    },
    {
     "name": "stdout",
     "output_type": "stream",
     "text": [
      "extracting subgraph features..\n"
     ]
    },
    {
     "name": "stderr",
     "output_type": "stream",
     "text": [
      "100%|█████████████████████████████████████████████████████████████████████| 700/700 [15:37<00:00,  1.34s/it]\n"
     ]
    },
    {
     "name": "stdout",
     "output_type": "stream",
     "text": [
      "X.shape (700, 1)\n",
      "method = num_nodes, AUC = 0.500000\n",
      "X.shape (700, 1)\n",
      "method = num_edges, AUC = 0.807123\n",
      "X.shape (700, 1)\n",
      "method = min_degree, AUC = 0.571829\n",
      "X.shape (700, 1)\n",
      "method = max_degree, AUC = 0.694278\n",
      "X.shape (700, 1)\n",
      "method = diameter, AUC = 0.724290\n",
      "X.shape (700, 1)\n",
      "method = degree_assortativity_coef, AUC = 0.575430\n",
      "X.shape (700, 1)\n",
      "method = num_cliques, AUC = 0.694678\n",
      "X.shape (700, 1)\n",
      "method = Avg_clustering_coeff, AUC = 0.702281\n",
      "X.shape (700, 1)\n",
      "method = edeg_density, AUC = 0.807123\n",
      "X.shape (700, 25)\n",
      "method = MACC k0=5, AUC = 0.867547\n",
      "X.shape (700, 100)\n",
      "method = MACC k0=10, AUC = 0.931973\n",
      "X.shape (700, 225)\n",
      "method = MACC k0=15, AUC = 0.945178\n",
      "X.shape (700, 400)\n",
      "method = MACC k0=20, AUC = 0.911965\n",
      "Classifying subgraphs in Caltech36-Virginia63 ...\n",
      "sampling subgraphs with k=30 nodes\n"
     ]
    },
    {
     "name": "stderr",
     "output_type": "stream",
     "text": [
      "100%|████████████████████████████████████████████████████████████████████| 100/100 [00:00<00:00, 552.89it/s]\n",
      "100%|████████████████████████████████████████████████████████████████████| 100/100 [00:00<00:00, 635.51it/s]\n",
      "100%|████████████████████████████████████████████████████████████████████| 100/100 [00:00<00:00, 826.28it/s]\n",
      "100%|████████████████████████████████████████████████████████████████████| 100/100 [00:00<00:00, 104.40it/s]\n",
      "100%|████████████████████████████████████████████████████████████████████| 100/100 [00:00<00:00, 108.62it/s]\n",
      "100%|████████████████████████████████████████████████████████████████████| 100/100 [00:00<00:00, 122.63it/s]\n",
      "100%|█████████████████████████████████████████████████████████████████████| 100/100 [00:01<00:00, 97.42it/s]\n"
     ]
    },
    {
     "name": "stdout",
     "output_type": "stream",
     "text": [
      "extracting subgraph features..\n"
     ]
    },
    {
     "name": "stderr",
     "output_type": "stream",
     "text": [
      "100%|█████████████████████████████████████████████████████████████████████| 700/700 [15:35<00:00,  1.34s/it]\n"
     ]
    },
    {
     "name": "stdout",
     "output_type": "stream",
     "text": [
      "X.shape (700, 1)\n",
      "method = num_nodes, AUC = 0.500000\n",
      "X.shape (700, 1)\n",
      "method = num_edges, AUC = 0.846939\n",
      "X.shape (700, 1)\n",
      "method = min_degree, AUC = 0.637855\n",
      "X.shape (700, 1)\n",
      "method = max_degree, AUC = 0.774310\n",
      "X.shape (700, 1)\n",
      "method = diameter, AUC = 0.773509\n",
      "X.shape (700, 1)\n",
      "method = degree_assortativity_coef, AUC = 0.327331\n",
      "X.shape (700, 1)\n",
      "method = num_cliques, AUC = 0.740496\n",
      "X.shape (700, 1)\n",
      "method = Avg_clustering_coeff, AUC = 0.801120\n",
      "X.shape (700, 1)\n",
      "method = edeg_density, AUC = 0.846939\n",
      "X.shape (700, 25)\n",
      "method = MACC k0=5, AUC = 0.893958\n",
      "X.shape (700, 100)\n",
      "method = MACC k0=10, AUC = 0.927971\n",
      "X.shape (700, 225)\n",
      "method = MACC k0=15, AUC = 0.930772\n",
      "X.shape (700, 400)\n",
      "method = MACC k0=20, AUC = 0.924770\n",
      "Classifying subgraphs in Caltech36-UCLA26 ...\n",
      "sampling subgraphs with k=30 nodes\n"
     ]
    },
    {
     "name": "stderr",
     "output_type": "stream",
     "text": [
      "100%|████████████████████████████████████████████████████████████████████| 100/100 [00:00<00:00, 792.78it/s]\n",
      "100%|████████████████████████████████████████████████████████████████████| 100/100 [00:00<00:00, 696.00it/s]\n",
      "100%|████████████████████████████████████████████████████████████████████| 100/100 [00:00<00:00, 827.03it/s]\n",
      "100%|████████████████████████████████████████████████████████████████████| 100/100 [00:00<00:00, 104.26it/s]\n",
      "100%|████████████████████████████████████████████████████████████████████| 100/100 [00:00<00:00, 107.89it/s]\n",
      "100%|████████████████████████████████████████████████████████████████████| 100/100 [00:00<00:00, 124.34it/s]\n",
      "100%|████████████████████████████████████████████████████████████████████| 100/100 [00:00<00:00, 100.21it/s]\n"
     ]
    },
    {
     "name": "stdout",
     "output_type": "stream",
     "text": [
      "extracting subgraph features..\n"
     ]
    },
    {
     "name": "stderr",
     "output_type": "stream",
     "text": [
      "100%|█████████████████████████████████████████████████████████████████████| 700/700 [15:36<00:00,  1.34s/it]\n"
     ]
    },
    {
     "name": "stdout",
     "output_type": "stream",
     "text": [
      "X.shape (700, 1)\n",
      "method = num_nodes, AUC = 0.500000\n",
      "X.shape (700, 1)\n",
      "method = num_edges, AUC = 0.832933\n",
      "X.shape (700, 1)\n",
      "method = min_degree, AUC = 0.589036\n",
      "X.shape (700, 1)\n",
      "method = max_degree, AUC = 0.774910\n",
      "X.shape (700, 1)\n",
      "method = diameter, AUC = 0.835134\n",
      "X.shape (700, 1)\n",
      "method = degree_assortativity_coef, AUC = 0.545818\n",
      "X.shape (700, 1)\n",
      "method = num_cliques, AUC = 0.729092\n",
      "X.shape (700, 1)\n",
      "method = Avg_clustering_coeff, AUC = 0.712285\n",
      "X.shape (700, 1)\n",
      "method = edeg_density, AUC = 0.832933\n",
      "X.shape (700, 25)\n",
      "method = MACC k0=5, AUC = 0.873549\n",
      "X.shape (700, 100)\n",
      "method = MACC k0=10, AUC = 0.949580\n",
      "X.shape (700, 225)\n",
      "method = MACC k0=15, AUC = 0.942377\n",
      "X.shape (700, 400)\n",
      "method = MACC k0=20, AUC = 0.958383\n",
      "Classifying subgraphs in Caltech36-Wisconsin87 ...\n",
      "sampling subgraphs with k=30 nodes\n"
     ]
    },
    {
     "name": "stderr",
     "output_type": "stream",
     "text": [
      "100%|████████████████████████████████████████████████████████████████████| 100/100 [00:00<00:00, 726.95it/s]\n",
      "100%|████████████████████████████████████████████████████████████████████| 100/100 [00:00<00:00, 572.31it/s]\n",
      "100%|████████████████████████████████████████████████████████████████████| 100/100 [00:00<00:00, 819.43it/s]\n",
      "100%|████████████████████████████████████████████████████████████████████| 100/100 [00:00<00:00, 117.09it/s]\n",
      "100%|████████████████████████████████████████████████████████████████████| 100/100 [00:00<00:00, 122.62it/s]\n",
      "100%|████████████████████████████████████████████████████████████████████| 100/100 [00:00<00:00, 104.48it/s]\n",
      "100%|████████████████████████████████████████████████████████████████████| 100/100 [00:00<00:00, 111.89it/s]\n"
     ]
    },
    {
     "name": "stdout",
     "output_type": "stream",
     "text": [
      "extracting subgraph features..\n"
     ]
    },
    {
     "name": "stderr",
     "output_type": "stream",
     "text": [
      "100%|█████████████████████████████████████████████████████████████████████| 700/700 [15:43<00:00,  1.35s/it]\n"
     ]
    },
    {
     "name": "stdout",
     "output_type": "stream",
     "text": [
      "X.shape (700, 1)\n",
      "method = num_nodes, AUC = 0.500000\n",
      "X.shape (700, 1)\n",
      "method = num_edges, AUC = 0.784714\n",
      "X.shape (700, 1)\n",
      "method = min_degree, AUC = 0.582633\n",
      "X.shape (700, 1)\n",
      "method = max_degree, AUC = 0.710684\n",
      "X.shape (700, 1)\n",
      "method = diameter, AUC = 0.786515\n",
      "X.shape (700, 1)\n",
      "method = degree_assortativity_coef, AUC = 0.521809\n",
      "X.shape (700, 1)\n",
      "method = num_cliques, AUC = 0.707283\n",
      "X.shape (700, 1)\n",
      "method = Avg_clustering_coeff, AUC = 0.738695\n",
      "X.shape (700, 1)\n",
      "method = edeg_density, AUC = 0.784714\n",
      "X.shape (700, 25)\n",
      "method = MACC k0=5, AUC = 0.914766\n",
      "X.shape (700, 100)\n",
      "method = MACC k0=10, AUC = 0.941977\n",
      "X.shape (700, 225)\n",
      "method = MACC k0=15, AUC = 0.955582\n",
      "X.shape (700, 400)\n",
      "method = MACC k0=20, AUC = 0.943177\n",
      "Classifying subgraphs in Simmons81-Reed98 ...\n",
      "sampling subgraphs with k=30 nodes\n"
     ]
    },
    {
     "name": "stderr",
     "output_type": "stream",
     "text": [
      "100%|████████████████████████████████████████████████████████████████████| 100/100 [00:00<00:00, 809.77it/s]\n",
      "100%|████████████████████████████████████████████████████████████████████| 100/100 [00:00<00:00, 711.25it/s]\n",
      "100%|████████████████████████████████████████████████████████████████████| 100/100 [00:00<00:00, 813.31it/s]\n",
      "100%|████████████████████████████████████████████████████████████████████| 100/100 [00:00<00:00, 107.61it/s]\n",
      "100%|████████████████████████████████████████████████████████████████████| 100/100 [00:00<00:00, 114.72it/s]\n",
      "100%|████████████████████████████████████████████████████████████████████| 100/100 [00:00<00:00, 138.95it/s]\n",
      "100%|█████████████████████████████████████████████████████████████████████| 100/100 [00:01<00:00, 85.47it/s]\n"
     ]
    },
    {
     "name": "stdout",
     "output_type": "stream",
     "text": [
      "extracting subgraph features..\n"
     ]
    },
    {
     "name": "stderr",
     "output_type": "stream",
     "text": [
      "100%|█████████████████████████████████████████████████████████████████████| 700/700 [15:37<00:00,  1.34s/it]\n"
     ]
    },
    {
     "name": "stdout",
     "output_type": "stream",
     "text": [
      "X.shape (700, 1)\n",
      "method = num_nodes, AUC = 0.500000\n",
      "X.shape (700, 1)\n",
      "method = num_edges, AUC = 0.915966\n",
      "X.shape (700, 1)\n",
      "method = min_degree, AUC = 0.635054\n",
      "X.shape (700, 1)\n",
      "method = max_degree, AUC = 0.780912\n",
      "X.shape (700, 1)\n",
      "method = diameter, AUC = 0.863545\n",
      "X.shape (700, 1)\n",
      "method = degree_assortativity_coef, AUC = 0.628251\n",
      "X.shape (700, 1)\n",
      "method = num_cliques, AUC = 0.755302\n",
      "X.shape (700, 1)\n",
      "method = Avg_clustering_coeff, AUC = 0.755102\n",
      "X.shape (700, 1)\n",
      "method = edeg_density, AUC = 0.915966\n",
      "X.shape (700, 25)\n",
      "method = MACC k0=5, AUC = 0.902361\n",
      "X.shape (700, 100)\n",
      "method = MACC k0=10, AUC = 0.954782\n",
      "X.shape (700, 225)\n",
      "method = MACC k0=15, AUC = 0.944378\n",
      "X.shape (700, 400)\n",
      "method = MACC k0=20, AUC = 0.952381\n",
      "Classifying subgraphs in Simmons81-NYU9 ...\n",
      "sampling subgraphs with k=30 nodes\n"
     ]
    },
    {
     "name": "stderr",
     "output_type": "stream",
     "text": [
      "100%|████████████████████████████████████████████████████████████████████| 100/100 [00:00<00:00, 839.62it/s]\n",
      "100%|████████████████████████████████████████████████████████████████████| 100/100 [00:00<00:00, 724.03it/s]\n",
      "100%|████████████████████████████████████████████████████████████████████| 100/100 [00:00<00:00, 823.27it/s]\n",
      "100%|████████████████████████████████████████████████████████████████████| 100/100 [00:00<00:00, 117.72it/s]\n",
      "100%|████████████████████████████████████████████████████████████████████| 100/100 [00:00<00:00, 121.26it/s]\n",
      "100%|████████████████████████████████████████████████████████████████████| 100/100 [00:00<00:00, 139.78it/s]\n",
      "100%|████████████████████████████████████████████████████████████████████| 100/100 [00:00<00:00, 109.21it/s]\n"
     ]
    },
    {
     "name": "stdout",
     "output_type": "stream",
     "text": [
      "extracting subgraph features..\n"
     ]
    },
    {
     "name": "stderr",
     "output_type": "stream",
     "text": [
      "100%|█████████████████████████████████████████████████████████████████████| 700/700 [15:35<00:00,  1.34s/it]\n"
     ]
    },
    {
     "name": "stdout",
     "output_type": "stream",
     "text": [
      "X.shape (700, 1)\n",
      "method = num_nodes, AUC = 0.500000\n",
      "X.shape (700, 1)\n",
      "method = num_edges, AUC = 0.849740\n",
      "X.shape (700, 1)\n",
      "method = min_degree, AUC = 0.638856\n",
      "X.shape (700, 1)\n",
      "method = max_degree, AUC = 0.704482\n",
      "X.shape (700, 1)\n",
      "method = diameter, AUC = 0.877551\n",
      "X.shape (700, 1)\n",
      "method = degree_assortativity_coef, AUC = 0.580632\n",
      "X.shape (700, 1)\n",
      "method = num_cliques, AUC = 0.688075\n",
      "X.shape (700, 1)\n",
      "method = Avg_clustering_coeff, AUC = 0.707083\n",
      "X.shape (700, 1)\n",
      "method = edeg_density, AUC = 0.849740\n",
      "X.shape (700, 25)\n",
      "method = MACC k0=5, AUC = 0.920768\n",
      "X.shape (700, 100)\n",
      "method = MACC k0=10, AUC = 0.942377\n",
      "X.shape (700, 225)\n",
      "method = MACC k0=15, AUC = 0.925970\n",
      "X.shape (700, 400)\n",
      "method = MACC k0=20, AUC = 0.942777\n",
      "Classifying subgraphs in Simmons81-Virginia63 ...\n",
      "sampling subgraphs with k=30 nodes\n"
     ]
    },
    {
     "name": "stderr",
     "output_type": "stream",
     "text": [
      "100%|████████████████████████████████████████████████████████████████████| 100/100 [00:00<00:00, 667.32it/s]\n",
      "100%|████████████████████████████████████████████████████████████████████| 100/100 [00:00<00:00, 722.25it/s]\n",
      "100%|████████████████████████████████████████████████████████████████████| 100/100 [00:00<00:00, 795.38it/s]\n",
      "100%|█████████████████████████████████████████████████████████████████████| 100/100 [00:01<00:00, 87.32it/s]\n",
      "100%|████████████████████████████████████████████████████████████████████| 100/100 [00:00<00:00, 114.56it/s]\n",
      "100%|████████████████████████████████████████████████████████████████████| 100/100 [00:00<00:00, 122.61it/s]\n",
      "100%|█████████████████████████████████████████████████████████████████████| 100/100 [00:01<00:00, 74.14it/s]\n"
     ]
    },
    {
     "name": "stdout",
     "output_type": "stream",
     "text": [
      "extracting subgraph features..\n"
     ]
    },
    {
     "name": "stderr",
     "output_type": "stream",
     "text": [
      "100%|█████████████████████████████████████████████████████████████████████| 700/700 [15:37<00:00,  1.34s/it]\n"
     ]
    },
    {
     "name": "stdout",
     "output_type": "stream",
     "text": [
      "X.shape (700, 1)\n",
      "method = num_nodes, AUC = 0.500000\n",
      "X.shape (700, 1)\n",
      "method = num_edges, AUC = 0.900760\n",
      "X.shape (700, 1)\n",
      "method = min_degree, AUC = 0.667067\n",
      "X.shape (700, 1)\n",
      "method = max_degree, AUC = 0.800720\n",
      "X.shape (700, 1)\n",
      "method = diameter, AUC = 0.896759\n",
      "X.shape (700, 1)\n",
      "method = degree_assortativity_coef, AUC = 0.611445\n",
      "X.shape (700, 1)\n",
      "method = num_cliques, AUC = 0.774110\n",
      "X.shape (700, 1)\n",
      "method = Avg_clustering_coeff, AUC = 0.768307\n",
      "X.shape (700, 1)\n",
      "method = edeg_density, AUC = 0.900760\n",
      "X.shape (700, 25)\n",
      "method = MACC k0=5, AUC = 0.923569\n",
      "X.shape (700, 100)\n",
      "method = MACC k0=10, AUC = 0.964786\n",
      "X.shape (700, 225)\n",
      "method = MACC k0=15, AUC = 0.941977\n",
      "X.shape (700, 400)\n",
      "method = MACC k0=20, AUC = 0.952381\n",
      "Classifying subgraphs in Simmons81-UCLA26 ...\n",
      "sampling subgraphs with k=30 nodes\n"
     ]
    },
    {
     "name": "stderr",
     "output_type": "stream",
     "text": [
      "100%|████████████████████████████████████████████████████████████████████| 100/100 [00:00<00:00, 809.45it/s]\n",
      "100%|████████████████████████████████████████████████████████████████████| 100/100 [00:00<00:00, 718.46it/s]\n",
      "100%|████████████████████████████████████████████████████████████████████| 100/100 [00:00<00:00, 863.69it/s]\n",
      "100%|████████████████████████████████████████████████████████████████████| 100/100 [00:00<00:00, 119.24it/s]\n",
      "100%|████████████████████████████████████████████████████████████████████| 100/100 [00:00<00:00, 126.96it/s]\n",
      "100%|████████████████████████████████████████████████████████████████████| 100/100 [00:00<00:00, 136.79it/s]\n",
      "100%|████████████████████████████████████████████████████████████████████| 100/100 [00:00<00:00, 111.75it/s]\n"
     ]
    },
    {
     "name": "stdout",
     "output_type": "stream",
     "text": [
      "extracting subgraph features..\n"
     ]
    },
    {
     "name": "stderr",
     "output_type": "stream",
     "text": [
      "100%|█████████████████████████████████████████████████████████████████████| 700/700 [15:35<00:00,  1.34s/it]\n"
     ]
    },
    {
     "name": "stdout",
     "output_type": "stream",
     "text": [
      "X.shape (700, 1)\n",
      "method = num_nodes, AUC = 0.500000\n",
      "X.shape (700, 1)\n",
      "method = num_edges, AUC = 0.868147\n",
      "X.shape (700, 1)\n",
      "method = min_degree, AUC = 0.563225\n",
      "X.shape (700, 1)\n",
      "method = max_degree, AUC = 0.732293\n",
      "X.shape (700, 1)\n",
      "method = diameter, AUC = 0.794518\n",
      "X.shape (700, 1)\n",
      "method = degree_assortativity_coef, AUC = 0.713886\n",
      "X.shape (700, 1)\n",
      "method = num_cliques, AUC = 0.692877\n",
      "X.shape (700, 1)\n",
      "method = Avg_clustering_coeff, AUC = 0.814326\n",
      "X.shape (700, 1)\n",
      "method = edeg_density, AUC = 0.868147\n",
      "X.shape (700, 25)\n",
      "method = MACC k0=5, AUC = 0.913966\n",
      "X.shape (700, 100)\n",
      "method = MACC k0=10, AUC = 0.903561\n",
      "X.shape (700, 225)\n",
      "method = MACC k0=15, AUC = 0.935974\n",
      "X.shape (700, 400)\n",
      "method = MACC k0=20, AUC = 0.931172\n",
      "Classifying subgraphs in Simmons81-Wisconsin87 ...\n",
      "sampling subgraphs with k=30 nodes\n"
     ]
    },
    {
     "name": "stderr",
     "output_type": "stream",
     "text": [
      "100%|████████████████████████████████████████████████████████████████████| 100/100 [00:00<00:00, 784.42it/s]\n",
      "100%|████████████████████████████████████████████████████████████████████| 100/100 [00:00<00:00, 722.89it/s]\n",
      "100%|████████████████████████████████████████████████████████████████████| 100/100 [00:00<00:00, 832.00it/s]\n",
      "100%|████████████████████████████████████████████████████████████████████| 100/100 [00:00<00:00, 123.93it/s]\n",
      "100%|████████████████████████████████████████████████████████████████████| 100/100 [00:00<00:00, 119.44it/s]\n",
      "100%|████████████████████████████████████████████████████████████████████| 100/100 [00:00<00:00, 138.55it/s]\n",
      "100%|████████████████████████████████████████████████████████████████████| 100/100 [00:00<00:00, 109.57it/s]\n"
     ]
    },
    {
     "name": "stdout",
     "output_type": "stream",
     "text": [
      "extracting subgraph features..\n"
     ]
    },
    {
     "name": "stderr",
     "output_type": "stream",
     "text": [
      "100%|█████████████████████████████████████████████████████████████████████| 700/700 [15:36<00:00,  1.34s/it]\n"
     ]
    },
    {
     "name": "stdout",
     "output_type": "stream",
     "text": [
      "X.shape (700, 1)\n",
      "method = num_nodes, AUC = 0.500000\n",
      "X.shape (700, 1)\n",
      "method = num_edges, AUC = 0.844538\n",
      "X.shape (700, 1)\n",
      "method = min_degree, AUC = 0.610644\n",
      "X.shape (700, 1)\n",
      "method = max_degree, AUC = 0.748499\n",
      "X.shape (700, 1)\n",
      "method = diameter, AUC = 0.816527\n",
      "X.shape (700, 1)\n",
      "method = degree_assortativity_coef, AUC = 0.625850\n",
      "X.shape (700, 1)\n",
      "method = num_cliques, AUC = 0.720688\n",
      "X.shape (700, 1)\n",
      "method = Avg_clustering_coeff, AUC = 0.731893\n",
      "X.shape (700, 1)\n",
      "method = edeg_density, AUC = 0.844538\n",
      "X.shape (700, 25)\n",
      "method = MACC k0=5, AUC = 0.947979\n",
      "X.shape (700, 100)\n",
      "method = MACC k0=10, AUC = 0.919168\n",
      "X.shape (700, 225)\n",
      "method = MACC k0=15, AUC = 0.922369\n",
      "X.shape (700, 400)\n",
      "method = MACC k0=20, AUC = 0.932373\n",
      "Classifying subgraphs in Reed98-NYU9 ...\n",
      "sampling subgraphs with k=30 nodes\n"
     ]
    },
    {
     "name": "stderr",
     "output_type": "stream",
     "text": [
      "100%|████████████████████████████████████████████████████████████████████| 100/100 [00:00<00:00, 839.53it/s]\n",
      "100%|████████████████████████████████████████████████████████████████████| 100/100 [00:00<00:00, 741.57it/s]\n",
      "100%|████████████████████████████████████████████████████████████████████| 100/100 [00:00<00:00, 833.85it/s]\n",
      "100%|████████████████████████████████████████████████████████████████████| 100/100 [00:00<00:00, 120.57it/s]\n",
      "100%|████████████████████████████████████████████████████████████████████| 100/100 [00:00<00:00, 120.91it/s]\n",
      "100%|████████████████████████████████████████████████████████████████████| 100/100 [00:00<00:00, 135.61it/s]\n",
      "100%|████████████████████████████████████████████████████████████████████| 100/100 [00:00<00:00, 106.34it/s]\n"
     ]
    },
    {
     "name": "stdout",
     "output_type": "stream",
     "text": [
      "extracting subgraph features..\n"
     ]
    },
    {
     "name": "stderr",
     "output_type": "stream",
     "text": [
      "100%|█████████████████████████████████████████████████████████████████████| 700/700 [15:35<00:00,  1.34s/it]\n"
     ]
    },
    {
     "name": "stdout",
     "output_type": "stream",
     "text": [
      "X.shape (700, 1)\n",
      "method = num_nodes, AUC = 0.500000\n",
      "X.shape (700, 1)\n",
      "method = num_edges, AUC = 0.852141\n",
      "X.shape (700, 1)\n",
      "method = min_degree, AUC = 0.530412\n",
      "X.shape (700, 1)\n",
      "method = max_degree, AUC = 0.796719\n",
      "X.shape (700, 1)\n",
      "method = diameter, AUC = 0.845138\n",
      "X.shape (700, 1)\n",
      "method = degree_assortativity_coef, AUC = 0.663866\n",
      "X.shape (700, 1)\n",
      "method = num_cliques, AUC = 0.723689\n",
      "X.shape (700, 1)\n",
      "method = Avg_clustering_coeff, AUC = 0.747099\n",
      "X.shape (700, 1)\n",
      "method = edeg_density, AUC = 0.852141\n",
      "X.shape (700, 25)\n",
      "method = MACC k0=5, AUC = 0.850740\n",
      "X.shape (700, 100)\n",
      "method = MACC k0=10, AUC = 0.889956\n",
      "X.shape (700, 225)\n",
      "method = MACC k0=15, AUC = 0.869548\n",
      "X.shape (700, 400)\n",
      "method = MACC k0=20, AUC = 0.902361\n",
      "Classifying subgraphs in Reed98-Virginia63 ...\n",
      "sampling subgraphs with k=30 nodes\n"
     ]
    },
    {
     "name": "stderr",
     "output_type": "stream",
     "text": [
      "100%|████████████████████████████████████████████████████████████████████| 100/100 [00:00<00:00, 763.69it/s]\n",
      "100%|████████████████████████████████████████████████████████████████████| 100/100 [00:00<00:00, 731.87it/s]\n",
      "100%|████████████████████████████████████████████████████████████████████| 100/100 [00:00<00:00, 830.14it/s]\n",
      "100%|████████████████████████████████████████████████████████████████████| 100/100 [00:00<00:00, 116.61it/s]\n",
      "100%|████████████████████████████████████████████████████████████████████| 100/100 [00:00<00:00, 112.81it/s]\n",
      "100%|████████████████████████████████████████████████████████████████████| 100/100 [00:00<00:00, 118.89it/s]\n",
      "100%|█████████████████████████████████████████████████████████████████████| 100/100 [00:01<00:00, 98.32it/s]\n"
     ]
    },
    {
     "name": "stdout",
     "output_type": "stream",
     "text": [
      "extracting subgraph features..\n"
     ]
    },
    {
     "name": "stderr",
     "output_type": "stream",
     "text": [
      "100%|█████████████████████████████████████████████████████████████████████| 700/700 [15:34<00:00,  1.34s/it]\n"
     ]
    },
    {
     "name": "stdout",
     "output_type": "stream",
     "text": [
      "X.shape (700, 1)\n",
      "method = num_nodes, AUC = 0.500000\n",
      "X.shape (700, 1)\n",
      "method = num_edges, AUC = 0.860144\n",
      "X.shape (700, 1)\n",
      "method = min_degree, AUC = 0.605842\n",
      "X.shape (700, 1)\n",
      "method = max_degree, AUC = 0.818127\n",
      "X.shape (700, 1)\n",
      "method = diameter, AUC = 0.818727\n",
      "X.shape (700, 1)\n",
      "method = degree_assortativity_coef, AUC = 0.543017\n",
      "X.shape (700, 1)\n",
      "method = num_cliques, AUC = 0.803521\n",
      "X.shape (700, 1)\n",
      "method = Avg_clustering_coeff, AUC = 0.816327\n",
      "X.shape (700, 1)\n",
      "method = edeg_density, AUC = 0.860144\n",
      "X.shape (700, 25)\n",
      "method = MACC k0=5, AUC = 0.916767\n",
      "X.shape (700, 100)\n",
      "method = MACC k0=10, AUC = 0.946779\n",
      "X.shape (700, 225)\n",
      "method = MACC k0=15, AUC = 0.934774\n",
      "X.shape (700, 400)\n",
      "method = MACC k0=20, AUC = 0.948379\n",
      "Classifying subgraphs in Reed98-UCLA26 ...\n",
      "sampling subgraphs with k=30 nodes\n"
     ]
    },
    {
     "name": "stderr",
     "output_type": "stream",
     "text": [
      "100%|████████████████████████████████████████████████████████████████████| 100/100 [00:00<00:00, 769.48it/s]\n",
      "100%|████████████████████████████████████████████████████████████████████| 100/100 [00:00<00:00, 653.86it/s]\n",
      "100%|████████████████████████████████████████████████████████████████████| 100/100 [00:00<00:00, 840.67it/s]\n",
      "100%|█████████████████████████████████████████████████████████████████████| 100/100 [00:01<00:00, 92.38it/s]\n",
      "100%|████████████████████████████████████████████████████████████████████| 100/100 [00:00<00:00, 119.01it/s]\n",
      "100%|████████████████████████████████████████████████████████████████████| 100/100 [00:00<00:00, 136.03it/s]\n",
      "100%|████████████████████████████████████████████████████████████████████| 100/100 [00:00<00:00, 107.51it/s]\n"
     ]
    },
    {
     "name": "stdout",
     "output_type": "stream",
     "text": [
      "extracting subgraph features..\n"
     ]
    },
    {
     "name": "stderr",
     "output_type": "stream",
     "text": [
      "100%|█████████████████████████████████████████████████████████████████████| 700/700 [15:37<00:00,  1.34s/it]\n"
     ]
    },
    {
     "name": "stdout",
     "output_type": "stream",
     "text": [
      "X.shape (700, 1)\n",
      "method = num_nodes, AUC = 0.500000\n",
      "X.shape (700, 1)\n",
      "method = num_edges, AUC = 0.912765\n",
      "X.shape (700, 1)\n",
      "method = min_degree, AUC = 0.575830\n",
      "X.shape (700, 1)\n",
      "method = max_degree, AUC = 0.813125\n",
      "X.shape (700, 1)\n",
      "method = diameter, AUC = 0.817927\n",
      "X.shape (700, 1)\n",
      "method = degree_assortativity_coef, AUC = 0.693477\n",
      "X.shape (700, 1)\n",
      "method = num_cliques, AUC = 0.764306\n",
      "X.shape (700, 1)\n",
      "method = Avg_clustering_coeff, AUC = 0.769108\n",
      "X.shape (700, 1)\n",
      "method = edeg_density, AUC = 0.912765\n",
      "X.shape (700, 25)\n",
      "method = MACC k0=5, AUC = 0.929972\n",
      "X.shape (700, 100)\n",
      "method = MACC k0=10, AUC = 0.928772\n",
      "X.shape (700, 225)\n",
      "method = MACC k0=15, AUC = 0.928371\n",
      "X.shape (700, 400)\n",
      "method = MACC k0=20, AUC = 0.929972\n",
      "Classifying subgraphs in Reed98-Wisconsin87 ...\n",
      "sampling subgraphs with k=30 nodes\n"
     ]
    },
    {
     "name": "stderr",
     "output_type": "stream",
     "text": [
      "100%|████████████████████████████████████████████████████████████████████| 100/100 [00:00<00:00, 777.74it/s]\n",
      "100%|████████████████████████████████████████████████████████████████████| 100/100 [00:00<00:00, 569.22it/s]\n",
      "100%|████████████████████████████████████████████████████████████████████| 100/100 [00:00<00:00, 819.50it/s]\n",
      "100%|████████████████████████████████████████████████████████████████████| 100/100 [00:00<00:00, 109.08it/s]\n",
      "100%|████████████████████████████████████████████████████████████████████| 100/100 [00:00<00:00, 124.35it/s]\n",
      "100%|████████████████████████████████████████████████████████████████████| 100/100 [00:00<00:00, 105.81it/s]\n",
      "100%|████████████████████████████████████████████████████████████████████| 100/100 [00:00<00:00, 109.44it/s]\n"
     ]
    },
    {
     "name": "stdout",
     "output_type": "stream",
     "text": [
      "extracting subgraph features..\n"
     ]
    },
    {
     "name": "stderr",
     "output_type": "stream",
     "text": [
      "100%|█████████████████████████████████████████████████████████████████████| 700/700 [15:35<00:00,  1.34s/it]\n"
     ]
    },
    {
     "name": "stdout",
     "output_type": "stream",
     "text": [
      "X.shape (700, 1)\n",
      "method = num_nodes, AUC = 0.500000\n",
      "X.shape (700, 1)\n",
      "method = num_edges, AUC = 0.851140\n",
      "X.shape (700, 1)\n",
      "method = min_degree, AUC = 0.551220\n",
      "X.shape (700, 1)\n",
      "method = max_degree, AUC = 0.803121\n",
      "X.shape (700, 1)\n",
      "method = diameter, AUC = 0.787715\n",
      "X.shape (700, 1)\n",
      "method = degree_assortativity_coef, AUC = 0.664666\n",
      "X.shape (700, 1)\n",
      "method = num_cliques, AUC = 0.754702\n",
      "X.shape (700, 1)\n",
      "method = Avg_clustering_coeff, AUC = 0.817927\n",
      "X.shape (700, 1)\n",
      "method = edeg_density, AUC = 0.851140\n",
      "X.shape (700, 25)\n",
      "method = MACC k0=5, AUC = 0.898760\n",
      "X.shape (700, 100)\n",
      "method = MACC k0=10, AUC = 0.928371\n",
      "X.shape (700, 225)\n",
      "method = MACC k0=15, AUC = 0.941977\n",
      "X.shape (700, 400)\n",
      "method = MACC k0=20, AUC = 0.935974\n",
      "Classifying subgraphs in NYU9-Virginia63 ...\n",
      "sampling subgraphs with k=30 nodes\n"
     ]
    },
    {
     "name": "stderr",
     "output_type": "stream",
     "text": [
      "100%|████████████████████████████████████████████████████████████████████| 100/100 [00:00<00:00, 820.41it/s]\n",
      "100%|████████████████████████████████████████████████████████████████████| 100/100 [00:00<00:00, 681.91it/s]\n",
      "100%|████████████████████████████████████████████████████████████████████| 100/100 [00:00<00:00, 807.07it/s]\n",
      "100%|████████████████████████████████████████████████████████████████████| 100/100 [00:00<00:00, 117.99it/s]\n",
      "100%|████████████████████████████████████████████████████████████████████| 100/100 [00:00<00:00, 123.15it/s]\n",
      "100%|████████████████████████████████████████████████████████████████████| 100/100 [00:00<00:00, 127.66it/s]\n",
      "100%|█████████████████████████████████████████████████████████████████████| 100/100 [00:01<00:00, 99.92it/s]\n"
     ]
    },
    {
     "name": "stdout",
     "output_type": "stream",
     "text": [
      "extracting subgraph features..\n"
     ]
    },
    {
     "name": "stderr",
     "output_type": "stream",
     "text": [
      "100%|█████████████████████████████████████████████████████████████████████| 700/700 [15:34<00:00,  1.33s/it]\n"
     ]
    },
    {
     "name": "stdout",
     "output_type": "stream",
     "text": [
      "X.shape (700, 1)\n",
      "method = num_nodes, AUC = 0.500000\n",
      "X.shape (700, 1)\n",
      "method = num_edges, AUC = 0.799720\n",
      "X.shape (700, 1)\n",
      "method = min_degree, AUC = 0.582833\n",
      "X.shape (700, 1)\n",
      "method = max_degree, AUC = 0.678471\n",
      "X.shape (700, 1)\n",
      "method = diameter, AUC = 0.785514\n",
      "X.shape (700, 1)\n",
      "method = degree_assortativity_coef, AUC = 0.661064\n",
      "X.shape (700, 1)\n",
      "method = num_cliques, AUC = 0.669468\n",
      "X.shape (700, 1)\n",
      "method = Avg_clustering_coeff, AUC = 0.689076\n",
      "X.shape (700, 1)\n",
      "method = edeg_density, AUC = 0.799720\n",
      "X.shape (700, 25)\n",
      "method = MACC k0=5, AUC = 0.819128\n",
      "X.shape (700, 100)\n",
      "method = MACC k0=10, AUC = 0.873549\n",
      "X.shape (700, 225)\n",
      "method = MACC k0=15, AUC = 0.906763\n",
      "X.shape (700, 400)\n",
      "method = MACC k0=20, AUC = 0.900360\n",
      "Classifying subgraphs in NYU9-UCLA26 ...\n",
      "sampling subgraphs with k=30 nodes\n"
     ]
    },
    {
     "name": "stderr",
     "output_type": "stream",
     "text": [
      "100%|████████████████████████████████████████████████████████████████████| 100/100 [00:00<00:00, 729.99it/s]\n",
      "100%|████████████████████████████████████████████████████████████████████| 100/100 [00:00<00:00, 725.07it/s]\n",
      "100%|████████████████████████████████████████████████████████████████████| 100/100 [00:00<00:00, 825.84it/s]\n",
      "100%|████████████████████████████████████████████████████████████████████| 100/100 [00:00<00:00, 109.80it/s]\n",
      "100%|████████████████████████████████████████████████████████████████████| 100/100 [00:00<00:00, 122.80it/s]\n",
      "100%|████████████████████████████████████████████████████████████████████| 100/100 [00:00<00:00, 137.88it/s]\n",
      "100%|████████████████████████████████████████████████████████████████████| 100/100 [00:00<00:00, 106.50it/s]\n"
     ]
    },
    {
     "name": "stdout",
     "output_type": "stream",
     "text": [
      "extracting subgraph features..\n"
     ]
    },
    {
     "name": "stderr",
     "output_type": "stream",
     "text": [
      "100%|█████████████████████████████████████████████████████████████████████| 700/700 [15:36<00:00,  1.34s/it]\n"
     ]
    },
    {
     "name": "stdout",
     "output_type": "stream",
     "text": [
      "X.shape (700, 1)\n",
      "method = num_nodes, AUC = 0.500000\n",
      "X.shape (700, 1)\n",
      "method = num_edges, AUC = 0.836935\n",
      "X.shape (700, 1)\n",
      "method = min_degree, AUC = 0.576431\n",
      "X.shape (700, 1)\n",
      "method = max_degree, AUC = 0.764306\n",
      "X.shape (700, 1)\n",
      "method = diameter, AUC = 0.851341\n",
      "X.shape (700, 1)\n",
      "method = degree_assortativity_coef, AUC = 0.597839\n",
      "X.shape (700, 1)\n",
      "method = num_cliques, AUC = 0.715886\n",
      "X.shape (700, 1)\n",
      "method = Avg_clustering_coeff, AUC = 0.713886\n",
      "X.shape (700, 1)\n",
      "method = edeg_density, AUC = 0.836935\n",
      "X.shape (700, 25)\n",
      "method = MACC k0=5, AUC = 0.919968\n",
      "X.shape (700, 100)\n",
      "method = MACC k0=10, AUC = 0.951180\n",
      "X.shape (700, 225)\n",
      "method = MACC k0=15, AUC = 0.943577\n",
      "X.shape (700, 400)\n",
      "method = MACC k0=20, AUC = 0.941176\n",
      "Classifying subgraphs in NYU9-Wisconsin87 ...\n",
      "sampling subgraphs with k=30 nodes\n"
     ]
    },
    {
     "name": "stderr",
     "output_type": "stream",
     "text": [
      "100%|████████████████████████████████████████████████████████████████████| 100/100 [00:00<00:00, 764.11it/s]\n",
      "100%|████████████████████████████████████████████████████████████████████| 100/100 [00:00<00:00, 577.80it/s]\n",
      "100%|████████████████████████████████████████████████████████████████████| 100/100 [00:00<00:00, 833.56it/s]\n",
      "100%|████████████████████████████████████████████████████████████████████| 100/100 [00:00<00:00, 111.90it/s]\n",
      "100%|████████████████████████████████████████████████████████████████████| 100/100 [00:00<00:00, 116.18it/s]\n",
      "100%|████████████████████████████████████████████████████████████████████| 100/100 [00:00<00:00, 123.59it/s]\n",
      "100%|████████████████████████████████████████████████████████████████████| 100/100 [00:00<00:00, 101.26it/s]\n"
     ]
    },
    {
     "name": "stdout",
     "output_type": "stream",
     "text": [
      "extracting subgraph features..\n"
     ]
    },
    {
     "name": "stderr",
     "output_type": "stream",
     "text": [
      "100%|█████████████████████████████████████████████████████████████████████| 700/700 [15:37<00:00,  1.34s/it]\n"
     ]
    },
    {
     "name": "stdout",
     "output_type": "stream",
     "text": [
      "X.shape (700, 1)\n",
      "method = num_nodes, AUC = 0.500000\n",
      "X.shape (700, 1)\n",
      "method = num_edges, AUC = 0.821929\n",
      "X.shape (700, 1)\n",
      "method = min_degree, AUC = 0.569028\n",
      "X.shape (700, 1)\n",
      "method = max_degree, AUC = 0.732693\n",
      "X.shape (700, 1)\n",
      "method = diameter, AUC = 0.800520\n",
      "X.shape (700, 1)\n",
      "method = degree_assortativity_coef, AUC = 0.614246\n",
      "X.shape (700, 1)\n",
      "method = num_cliques, AUC = 0.674270\n",
      "X.shape (700, 1)\n",
      "method = Avg_clustering_coeff, AUC = 0.691076\n",
      "X.shape (700, 1)\n",
      "method = edeg_density, AUC = 0.821929\n",
      "X.shape (700, 25)\n",
      "method = MACC k0=5, AUC = 0.868347\n",
      "X.shape (700, 100)\n",
      "method = MACC k0=10, AUC = 0.939576\n",
      "X.shape (700, 225)\n",
      "method = MACC k0=15, AUC = 0.940376\n",
      "X.shape (700, 400)\n",
      "method = MACC k0=20, AUC = 0.937175\n",
      "Classifying subgraphs in Virginia63-UCLA26 ...\n",
      "sampling subgraphs with k=30 nodes\n"
     ]
    },
    {
     "name": "stderr",
     "output_type": "stream",
     "text": [
      "100%|████████████████████████████████████████████████████████████████████| 100/100 [00:00<00:00, 700.34it/s]\n",
      "100%|████████████████████████████████████████████████████████████████████| 100/100 [00:00<00:00, 594.27it/s]\n",
      "100%|████████████████████████████████████████████████████████████████████| 100/100 [00:00<00:00, 839.97it/s]\n",
      "100%|████████████████████████████████████████████████████████████████████| 100/100 [00:00<00:00, 109.99it/s]\n",
      "100%|████████████████████████████████████████████████████████████████████| 100/100 [00:00<00:00, 118.23it/s]\n",
      "100%|████████████████████████████████████████████████████████████████████| 100/100 [00:00<00:00, 131.65it/s]\n",
      "100%|█████████████████████████████████████████████████████████████████████| 100/100 [00:01<00:00, 99.44it/s]\n"
     ]
    },
    {
     "name": "stdout",
     "output_type": "stream",
     "text": [
      "extracting subgraph features..\n"
     ]
    },
    {
     "name": "stderr",
     "output_type": "stream",
     "text": [
      "100%|█████████████████████████████████████████████████████████████████████| 700/700 [15:34<00:00,  1.34s/it]\n"
     ]
    },
    {
     "name": "stdout",
     "output_type": "stream",
     "text": [
      "X.shape (700, 1)\n",
      "method = num_nodes, AUC = 0.500000\n",
      "X.shape (700, 1)\n",
      "method = num_edges, AUC = 0.828131\n",
      "X.shape (700, 1)\n",
      "method = min_degree, AUC = 0.628251\n",
      "X.shape (700, 1)\n",
      "method = max_degree, AUC = 0.756903\n",
      "X.shape (700, 1)\n",
      "method = diameter, AUC = 0.777311\n",
      "X.shape (700, 1)\n",
      "method = degree_assortativity_coef, AUC = 0.612245\n",
      "X.shape (700, 1)\n",
      "method = num_cliques, AUC = 0.745298\n",
      "X.shape (700, 1)\n",
      "method = Avg_clustering_coeff, AUC = 0.769108\n",
      "X.shape (700, 1)\n",
      "method = edeg_density, AUC = 0.828131\n",
      "X.shape (700, 25)\n",
      "method = MACC k0=5, AUC = 0.848739\n",
      "X.shape (700, 100)\n",
      "method = MACC k0=10, AUC = 0.899160\n",
      "X.shape (700, 225)\n",
      "method = MACC k0=15, AUC = 0.893958\n",
      "X.shape (700, 400)\n",
      "method = MACC k0=20, AUC = 0.903561\n",
      "Classifying subgraphs in Virginia63-Wisconsin87 ...\n",
      "sampling subgraphs with k=30 nodes\n"
     ]
    },
    {
     "name": "stderr",
     "output_type": "stream",
     "text": [
      "100%|████████████████████████████████████████████████████████████████████| 100/100 [00:00<00:00, 739.95it/s]\n",
      "100%|████████████████████████████████████████████████████████████████████| 100/100 [00:00<00:00, 625.80it/s]\n",
      "100%|████████████████████████████████████████████████████████████████████| 100/100 [00:00<00:00, 805.87it/s]\n",
      "100%|████████████████████████████████████████████████████████████████████| 100/100 [00:00<00:00, 110.57it/s]\n",
      "100%|████████████████████████████████████████████████████████████████████| 100/100 [00:00<00:00, 107.45it/s]\n",
      "100%|████████████████████████████████████████████████████████████████████| 100/100 [00:00<00:00, 127.85it/s]\n",
      "100%|█████████████████████████████████████████████████████████████████████| 100/100 [00:01<00:00, 99.80it/s]\n"
     ]
    },
    {
     "name": "stdout",
     "output_type": "stream",
     "text": [
      "extracting subgraph features..\n"
     ]
    },
    {
     "name": "stderr",
     "output_type": "stream",
     "text": [
      "100%|█████████████████████████████████████████████████████████████████████| 700/700 [15:36<00:00,  1.34s/it]\n"
     ]
    },
    {
     "name": "stdout",
     "output_type": "stream",
     "text": [
      "X.shape (700, 1)\n",
      "method = num_nodes, AUC = 0.500000\n",
      "X.shape (700, 1)\n",
      "method = num_edges, AUC = 0.830332\n",
      "X.shape (700, 1)\n",
      "method = min_degree, AUC = 0.628251\n",
      "X.shape (700, 1)\n",
      "method = max_degree, AUC = 0.724890\n",
      "X.shape (700, 1)\n",
      "method = diameter, AUC = 0.825330\n",
      "X.shape (700, 1)\n",
      "method = degree_assortativity_coef, AUC = 0.619448\n",
      "X.shape (700, 1)\n",
      "method = num_cliques, AUC = 0.702481\n",
      "X.shape (700, 1)\n",
      "method = Avg_clustering_coeff, AUC = 0.740296\n",
      "X.shape (700, 1)\n",
      "method = edeg_density, AUC = 0.830332\n",
      "X.shape (700, 25)\n",
      "method = MACC k0=5, AUC = 0.901561\n",
      "X.shape (700, 100)\n",
      "method = MACC k0=10, AUC = 0.933573\n",
      "X.shape (700, 225)\n",
      "method = MACC k0=15, AUC = 0.926771\n",
      "X.shape (700, 400)\n",
      "method = MACC k0=20, AUC = 0.939976\n",
      "Classifying subgraphs in UCLA26-Wisconsin87 ...\n",
      "sampling subgraphs with k=30 nodes\n"
     ]
    },
    {
     "name": "stderr",
     "output_type": "stream",
     "text": [
      "100%|████████████████████████████████████████████████████████████████████| 100/100 [00:00<00:00, 647.98it/s]\n",
      "100%|████████████████████████████████████████████████████████████████████| 100/100 [00:00<00:00, 728.27it/s]\n",
      "100%|████████████████████████████████████████████████████████████████████| 100/100 [00:00<00:00, 825.85it/s]\n",
      "100%|████████████████████████████████████████████████████████████████████| 100/100 [00:00<00:00, 116.97it/s]\n",
      "100%|████████████████████████████████████████████████████████████████████| 100/100 [00:00<00:00, 116.48it/s]\n",
      "100%|████████████████████████████████████████████████████████████████████| 100/100 [00:00<00:00, 137.03it/s]\n",
      "100%|████████████████████████████████████████████████████████████████████| 100/100 [00:00<00:00, 112.57it/s]\n"
     ]
    },
    {
     "name": "stdout",
     "output_type": "stream",
     "text": [
      "extracting subgraph features..\n"
     ]
    },
    {
     "name": "stderr",
     "output_type": "stream",
     "text": [
      "100%|█████████████████████████████████████████████████████████████████████| 700/700 [15:36<00:00,  1.34s/it]\n"
     ]
    },
    {
     "name": "stdout",
     "output_type": "stream",
     "text": [
      "X.shape (700, 1)\n",
      "method = num_nodes, AUC = 0.500000\n",
      "X.shape (700, 1)\n",
      "method = num_edges, AUC = 0.851941\n",
      "X.shape (700, 1)\n",
      "method = min_degree, AUC = 0.565426\n",
      "X.shape (700, 1)\n",
      "method = max_degree, AUC = 0.779512\n",
      "X.shape (700, 1)\n",
      "method = diameter, AUC = 0.849540\n",
      "X.shape (700, 1)\n",
      "method = degree_assortativity_coef, AUC = 0.628251\n",
      "X.shape (700, 1)\n",
      "method = num_cliques, AUC = 0.764906\n",
      "X.shape (700, 1)\n",
      "method = Avg_clustering_coeff, AUC = 0.731493\n",
      "X.shape (700, 1)\n",
      "method = edeg_density, AUC = 0.851941\n",
      "X.shape (700, 25)\n",
      "method = MACC k0=5, AUC = 0.929572\n",
      "X.shape (700, 100)\n",
      "method = MACC k0=10, AUC = 0.950780\n",
      "X.shape (700, 225)\n",
      "method = MACC k0=15, AUC = 0.968788\n",
      "X.shape (700, 400)\n",
      "method = MACC k0=20, AUC = 0.963185\n",
      "Classifying subgraphs in Caltech36-Simmons81 ...\n",
      "sampling subgraphs with k=30 nodes\n"
     ]
    },
    {
     "name": "stderr",
     "output_type": "stream",
     "text": [
      "100%|████████████████████████████████████████████████████████████████████| 100/100 [00:00<00:00, 864.31it/s]\n",
      "100%|████████████████████████████████████████████████████████████████████| 100/100 [00:00<00:00, 627.61it/s]\n",
      "100%|████████████████████████████████████████████████████████████████████| 100/100 [00:00<00:00, 848.32it/s]\n",
      "100%|████████████████████████████████████████████████████████████████████| 100/100 [00:00<00:00, 115.28it/s]\n",
      "100%|████████████████████████████████████████████████████████████████████| 100/100 [00:00<00:00, 116.91it/s]\n",
      "100%|████████████████████████████████████████████████████████████████████| 100/100 [00:00<00:00, 140.34it/s]\n",
      "100%|████████████████████████████████████████████████████████████████████| 100/100 [00:00<00:00, 107.07it/s]\n"
     ]
    },
    {
     "name": "stdout",
     "output_type": "stream",
     "text": [
      "extracting subgraph features..\n"
     ]
    },
    {
     "name": "stderr",
     "output_type": "stream",
     "text": [
      "100%|█████████████████████████████████████████████████████████████████████| 700/700 [15:33<00:00,  1.33s/it]\n"
     ]
    },
    {
     "name": "stdout",
     "output_type": "stream",
     "text": [
      "X.shape (700, 1)\n",
      "method = num_nodes, AUC = 0.500000\n",
      "X.shape (700, 1)\n",
      "method = num_edges, AUC = 0.903962\n",
      "X.shape (700, 1)\n",
      "method = min_degree, AUC = 0.598639\n",
      "X.shape (700, 1)\n",
      "method = max_degree, AUC = 0.795718\n",
      "X.shape (700, 1)\n",
      "method = diameter, AUC = 0.915566\n",
      "X.shape (700, 1)\n",
      "method = degree_assortativity_coef, AUC = 0.637455\n",
      "X.shape (700, 1)\n",
      "method = num_cliques, AUC = 0.777111\n",
      "X.shape (700, 1)\n",
      "method = Avg_clustering_coeff, AUC = 0.721088\n",
      "X.shape (700, 1)\n",
      "method = edeg_density, AUC = 0.903962\n",
      "X.shape (700, 25)\n",
      "method = MACC k0=5, AUC = 0.919168\n",
      "X.shape (700, 100)\n",
      "method = MACC k0=10, AUC = 0.936375\n",
      "X.shape (700, 225)\n",
      "method = MACC k0=15, AUC = 0.939576\n",
      "X.shape (700, 400)\n",
      "method = MACC k0=20, AUC = 0.936375\n",
      "Classifying subgraphs in Caltech36-Reed98 ...\n",
      "sampling subgraphs with k=30 nodes\n"
     ]
    },
    {
     "name": "stderr",
     "output_type": "stream",
     "text": [
      "100%|████████████████████████████████████████████████████████████████████| 100/100 [00:00<00:00, 529.27it/s]\n",
      "100%|████████████████████████████████████████████████████████████████████| 100/100 [00:00<00:00, 707.07it/s]\n",
      "100%|████████████████████████████████████████████████████████████████████| 100/100 [00:00<00:00, 825.81it/s]\n",
      "100%|████████████████████████████████████████████████████████████████████| 100/100 [00:00<00:00, 104.71it/s]\n",
      "100%|████████████████████████████████████████████████████████████████████| 100/100 [00:00<00:00, 116.03it/s]\n",
      "100%|████████████████████████████████████████████████████████████████████| 100/100 [00:00<00:00, 138.06it/s]\n",
      "100%|████████████████████████████████████████████████████████████████████| 100/100 [00:00<00:00, 110.63it/s]\n"
     ]
    },
    {
     "name": "stdout",
     "output_type": "stream",
     "text": [
      "extracting subgraph features..\n"
     ]
    },
    {
     "name": "stderr",
     "output_type": "stream",
     "text": [
      "100%|█████████████████████████████████████████████████████████████████████| 700/700 [15:34<00:00,  1.33s/it]\n"
     ]
    },
    {
     "name": "stdout",
     "output_type": "stream",
     "text": [
      "X.shape (700, 1)\n",
      "method = num_nodes, AUC = 0.500000\n",
      "X.shape (700, 1)\n",
      "method = num_edges, AUC = 0.863545\n",
      "X.shape (700, 1)\n",
      "method = min_degree, AUC = 0.552421\n",
      "X.shape (700, 1)\n",
      "method = max_degree, AUC = 0.819728\n",
      "X.shape (700, 1)\n",
      "method = diameter, AUC = 0.865146\n",
      "X.shape (700, 1)\n",
      "method = degree_assortativity_coef, AUC = 0.575830\n",
      "X.shape (700, 1)\n",
      "method = num_cliques, AUC = 0.740696\n",
      "X.shape (700, 1)\n",
      "method = Avg_clustering_coeff, AUC = 0.779112\n",
      "X.shape (700, 1)\n",
      "method = edeg_density, AUC = 0.863545\n",
      "X.shape (700, 25)\n",
      "method = MACC k0=5, AUC = 0.959984\n",
      "X.shape (700, 100)\n",
      "method = MACC k0=10, AUC = 0.953982\n",
      "X.shape (700, 225)\n",
      "method = MACC k0=15, AUC = 0.953982\n",
      "X.shape (700, 400)\n",
      "method = MACC k0=20, AUC = 0.945978\n",
      "Classifying subgraphs in Caltech36-NYU9 ...\n",
      "sampling subgraphs with k=30 nodes\n"
     ]
    },
    {
     "name": "stderr",
     "output_type": "stream",
     "text": [
      "100%|████████████████████████████████████████████████████████████████████| 100/100 [00:00<00:00, 497.19it/s]\n",
      "100%|████████████████████████████████████████████████████████████████████| 100/100 [00:00<00:00, 666.37it/s]\n",
      "100%|████████████████████████████████████████████████████████████████████| 100/100 [00:00<00:00, 830.55it/s]\n",
      "100%|████████████████████████████████████████████████████████████████████| 100/100 [00:00<00:00, 107.25it/s]\n",
      "100%|████████████████████████████████████████████████████████████████████| 100/100 [00:00<00:00, 112.85it/s]\n",
      "100%|████████████████████████████████████████████████████████████████████| 100/100 [00:00<00:00, 132.80it/s]\n",
      "100%|████████████████████████████████████████████████████████████████████| 100/100 [00:00<00:00, 112.55it/s]\n"
     ]
    },
    {
     "name": "stdout",
     "output_type": "stream",
     "text": [
      "extracting subgraph features..\n"
     ]
    },
    {
     "name": "stderr",
     "output_type": "stream",
     "text": [
      "100%|█████████████████████████████████████████████████████████████████████| 700/700 [15:35<00:00,  1.34s/it]\n"
     ]
    },
    {
     "name": "stdout",
     "output_type": "stream",
     "text": [
      "X.shape (700, 1)\n",
      "method = num_nodes, AUC = 0.500000\n",
      "X.shape (700, 1)\n",
      "method = num_edges, AUC = 0.866146\n",
      "X.shape (700, 1)\n",
      "method = min_degree, AUC = 0.686074\n",
      "X.shape (700, 1)\n",
      "method = max_degree, AUC = 0.740296\n",
      "X.shape (700, 1)\n",
      "method = diameter, AUC = 0.861545\n",
      "X.shape (700, 1)\n",
      "method = degree_assortativity_coef, AUC = 0.597039\n",
      "X.shape (700, 1)\n",
      "method = num_cliques, AUC = 0.709084\n",
      "X.shape (700, 1)\n",
      "method = Avg_clustering_coeff, AUC = 0.755102\n",
      "X.shape (700, 1)\n",
      "method = edeg_density, AUC = 0.866146\n",
      "X.shape (700, 25)\n",
      "method = MACC k0=5, AUC = 0.865146\n",
      "X.shape (700, 100)\n",
      "method = MACC k0=10, AUC = 0.933173\n",
      "X.shape (700, 225)\n",
      "method = MACC k0=15, AUC = 0.929572\n",
      "X.shape (700, 400)\n",
      "method = MACC k0=20, AUC = 0.933974\n",
      "Classifying subgraphs in Caltech36-Virginia63 ...\n",
      "sampling subgraphs with k=30 nodes\n"
     ]
    },
    {
     "name": "stderr",
     "output_type": "stream",
     "text": [
      "100%|████████████████████████████████████████████████████████████████████| 100/100 [00:00<00:00, 625.92it/s]\n",
      "100%|████████████████████████████████████████████████████████████████████| 100/100 [00:00<00:00, 712.64it/s]\n",
      "100%|████████████████████████████████████████████████████████████████████| 100/100 [00:00<00:00, 783.22it/s]\n",
      "100%|████████████████████████████████████████████████████████████████████| 100/100 [00:00<00:00, 109.96it/s]\n",
      "100%|████████████████████████████████████████████████████████████████████| 100/100 [00:00<00:00, 108.14it/s]\n",
      "100%|████████████████████████████████████████████████████████████████████| 100/100 [00:00<00:00, 136.16it/s]\n",
      "100%|████████████████████████████████████████████████████████████████████| 100/100 [00:00<00:00, 112.77it/s]\n"
     ]
    },
    {
     "name": "stdout",
     "output_type": "stream",
     "text": [
      "extracting subgraph features..\n"
     ]
    },
    {
     "name": "stderr",
     "output_type": "stream",
     "text": [
      "100%|█████████████████████████████████████████████████████████████████████| 700/700 [15:35<00:00,  1.34s/it]\n"
     ]
    },
    {
     "name": "stdout",
     "output_type": "stream",
     "text": [
      "X.shape (700, 1)\n",
      "method = num_nodes, AUC = 0.500000\n",
      "X.shape (700, 1)\n",
      "method = num_edges, AUC = 0.857543\n",
      "X.shape (700, 1)\n",
      "method = min_degree, AUC = 0.592637\n",
      "X.shape (700, 1)\n",
      "method = max_degree, AUC = 0.777111\n",
      "X.shape (700, 1)\n",
      "method = diameter, AUC = 0.785114\n",
      "X.shape (700, 1)\n",
      "method = degree_assortativity_coef, AUC = 0.570228\n",
      "X.shape (700, 1)\n",
      "method = num_cliques, AUC = 0.738295\n",
      "X.shape (700, 1)\n",
      "method = Avg_clustering_coeff, AUC = 0.730292\n",
      "X.shape (700, 1)\n",
      "method = edeg_density, AUC = 0.857543\n",
      "X.shape (700, 25)\n",
      "method = MACC k0=5, AUC = 0.891957\n",
      "X.shape (700, 100)\n",
      "method = MACC k0=10, AUC = 0.928371\n",
      "X.shape (700, 225)\n",
      "method = MACC k0=15, AUC = 0.919168\n",
      "X.shape (700, 400)\n",
      "method = MACC k0=20, AUC = 0.915966\n",
      "Classifying subgraphs in Caltech36-UCLA26 ...\n",
      "sampling subgraphs with k=30 nodes\n"
     ]
    },
    {
     "name": "stderr",
     "output_type": "stream",
     "text": [
      "100%|████████████████████████████████████████████████████████████████████| 100/100 [00:00<00:00, 707.83it/s]\n",
      "100%|████████████████████████████████████████████████████████████████████| 100/100 [00:00<00:00, 559.33it/s]\n",
      "100%|████████████████████████████████████████████████████████████████████| 100/100 [00:00<00:00, 802.79it/s]\n",
      "100%|████████████████████████████████████████████████████████████████████| 100/100 [00:00<00:00, 122.13it/s]\n",
      "100%|████████████████████████████████████████████████████████████████████| 100/100 [00:00<00:00, 111.73it/s]\n",
      "100%|████████████████████████████████████████████████████████████████████| 100/100 [00:00<00:00, 131.71it/s]\n",
      "100%|████████████████████████████████████████████████████████████████████| 100/100 [00:00<00:00, 112.01it/s]\n"
     ]
    },
    {
     "name": "stdout",
     "output_type": "stream",
     "text": [
      "extracting subgraph features..\n"
     ]
    },
    {
     "name": "stderr",
     "output_type": "stream",
     "text": [
      "100%|█████████████████████████████████████████████████████████████████████| 700/700 [15:36<00:00,  1.34s/it]\n"
     ]
    },
    {
     "name": "stdout",
     "output_type": "stream",
     "text": [
      "X.shape (700, 1)\n",
      "method = num_nodes, AUC = 0.500000\n",
      "X.shape (700, 1)\n",
      "method = num_edges, AUC = 0.856743\n",
      "X.shape (700, 1)\n",
      "method = min_degree, AUC = 0.571228\n",
      "X.shape (700, 1)\n",
      "method = max_degree, AUC = 0.797719\n",
      "X.shape (700, 1)\n",
      "method = diameter, AUC = 0.796118\n",
      "X.shape (700, 1)\n",
      "method = degree_assortativity_coef, AUC = 0.554222\n",
      "X.shape (700, 1)\n",
      "method = num_cliques, AUC = 0.717087\n",
      "X.shape (700, 1)\n",
      "method = Avg_clustering_coeff, AUC = 0.773109\n",
      "X.shape (700, 1)\n",
      "method = edeg_density, AUC = 0.856743\n",
      "X.shape (700, 25)\n",
      "method = MACC k0=5, AUC = 0.906763\n",
      "X.shape (700, 100)\n",
      "method = MACC k0=10, AUC = 0.933573\n",
      "X.shape (700, 225)\n",
      "method = MACC k0=15, AUC = 0.907563\n",
      "X.shape (700, 400)\n",
      "method = MACC k0=20, AUC = 0.912365\n",
      "Classifying subgraphs in Caltech36-Wisconsin87 ...\n",
      "sampling subgraphs with k=30 nodes\n"
     ]
    },
    {
     "name": "stderr",
     "output_type": "stream",
     "text": [
      "100%|████████████████████████████████████████████████████████████████████| 100/100 [00:00<00:00, 756.83it/s]\n",
      "100%|████████████████████████████████████████████████████████████████████| 100/100 [00:00<00:00, 718.39it/s]\n",
      "100%|████████████████████████████████████████████████████████████████████| 100/100 [00:00<00:00, 814.88it/s]\n",
      "100%|████████████████████████████████████████████████████████████████████| 100/100 [00:00<00:00, 116.25it/s]\n",
      "100%|████████████████████████████████████████████████████████████████████| 100/100 [00:00<00:00, 118.16it/s]\n",
      "100%|████████████████████████████████████████████████████████████████████| 100/100 [00:00<00:00, 133.17it/s]\n",
      "100%|████████████████████████████████████████████████████████████████████| 100/100 [00:00<00:00, 112.91it/s]\n"
     ]
    },
    {
     "name": "stdout",
     "output_type": "stream",
     "text": [
      "extracting subgraph features..\n"
     ]
    },
    {
     "name": "stderr",
     "output_type": "stream",
     "text": [
      "100%|█████████████████████████████████████████████████████████████████████| 700/700 [15:35<00:00,  1.34s/it]\n"
     ]
    },
    {
     "name": "stdout",
     "output_type": "stream",
     "text": [
      "X.shape (700, 1)\n",
      "method = num_nodes, AUC = 0.500000\n",
      "X.shape (700, 1)\n",
      "method = num_edges, AUC = 0.857543\n",
      "X.shape (700, 1)\n",
      "method = min_degree, AUC = 0.609444\n",
      "X.shape (700, 1)\n",
      "method = max_degree, AUC = 0.744498\n",
      "X.shape (700, 1)\n",
      "method = diameter, AUC = 0.805122\n",
      "X.shape (700, 1)\n",
      "method = degree_assortativity_coef, AUC = 0.519008\n",
      "X.shape (700, 1)\n",
      "method = num_cliques, AUC = 0.707483\n",
      "X.shape (700, 1)\n",
      "method = Avg_clustering_coeff, AUC = 0.750300\n",
      "X.shape (700, 1)\n",
      "method = edeg_density, AUC = 0.857543\n",
      "X.shape (700, 25)\n",
      "method = MACC k0=5, AUC = 0.890756\n",
      "X.shape (700, 100)\n",
      "method = MACC k0=10, AUC = 0.895958\n",
      "X.shape (700, 225)\n",
      "method = MACC k0=15, AUC = 0.906363\n",
      "X.shape (700, 400)\n",
      "method = MACC k0=20, AUC = 0.897559\n",
      "Classifying subgraphs in Simmons81-Reed98 ...\n",
      "sampling subgraphs with k=30 nodes\n"
     ]
    },
    {
     "name": "stderr",
     "output_type": "stream",
     "text": [
      "100%|████████████████████████████████████████████████████████████████████| 100/100 [00:00<00:00, 637.36it/s]\n",
      "100%|████████████████████████████████████████████████████████████████████| 100/100 [00:00<00:00, 725.52it/s]\n",
      "100%|████████████████████████████████████████████████████████████████████| 100/100 [00:00<00:00, 815.99it/s]\n",
      "100%|████████████████████████████████████████████████████████████████████| 100/100 [00:00<00:00, 121.34it/s]\n",
      "100%|████████████████████████████████████████████████████████████████████| 100/100 [00:00<00:00, 124.46it/s]\n",
      "100%|████████████████████████████████████████████████████████████████████| 100/100 [00:00<00:00, 136.74it/s]\n",
      "100%|████████████████████████████████████████████████████████████████████| 100/100 [00:00<00:00, 112.71it/s]\n"
     ]
    },
    {
     "name": "stdout",
     "output_type": "stream",
     "text": [
      "extracting subgraph features..\n"
     ]
    },
    {
     "name": "stderr",
     "output_type": "stream",
     "text": [
      "100%|█████████████████████████████████████████████████████████████████████| 700/700 [15:35<00:00,  1.34s/it]\n"
     ]
    },
    {
     "name": "stdout",
     "output_type": "stream",
     "text": [
      "X.shape (700, 1)\n",
      "method = num_nodes, AUC = 0.500000\n",
      "X.shape (700, 1)\n",
      "method = num_edges, AUC = 0.843137\n",
      "X.shape (700, 1)\n",
      "method = min_degree, AUC = 0.666066\n",
      "X.shape (700, 1)\n",
      "method = max_degree, AUC = 0.707483\n",
      "X.shape (700, 1)\n",
      "method = diameter, AUC = 0.808723\n",
      "X.shape (700, 1)\n",
      "method = degree_assortativity_coef, AUC = 0.626251\n",
      "X.shape (700, 1)\n",
      "method = num_cliques, AUC = 0.676871\n",
      "X.shape (700, 1)\n",
      "method = Avg_clustering_coeff, AUC = 0.803121\n",
      "X.shape (700, 1)\n",
      "method = edeg_density, AUC = 0.843137\n",
      "X.shape (700, 25)\n",
      "method = MACC k0=5, AUC = 0.903561\n",
      "X.shape (700, 100)\n",
      "method = MACC k0=10, AUC = 0.942377\n",
      "X.shape (700, 225)\n",
      "method = MACC k0=15, AUC = 0.972789\n",
      "X.shape (700, 400)\n",
      "method = MACC k0=20, AUC = 0.947579\n",
      "Classifying subgraphs in Simmons81-NYU9 ...\n",
      "sampling subgraphs with k=30 nodes\n"
     ]
    },
    {
     "name": "stderr",
     "output_type": "stream",
     "text": [
      "100%|████████████████████████████████████████████████████████████████████| 100/100 [00:00<00:00, 773.90it/s]\n",
      "100%|████████████████████████████████████████████████████████████████████| 100/100 [00:00<00:00, 725.86it/s]\n",
      "100%|████████████████████████████████████████████████████████████████████| 100/100 [00:00<00:00, 837.09it/s]\n",
      "100%|████████████████████████████████████████████████████████████████████| 100/100 [00:00<00:00, 115.59it/s]\n",
      "100%|████████████████████████████████████████████████████████████████████| 100/100 [00:00<00:00, 119.91it/s]\n",
      "100%|████████████████████████████████████████████████████████████████████| 100/100 [00:00<00:00, 138.86it/s]\n",
      "100%|████████████████████████████████████████████████████████████████████| 100/100 [00:00<00:00, 109.52it/s]\n"
     ]
    },
    {
     "name": "stdout",
     "output_type": "stream",
     "text": [
      "extracting subgraph features..\n"
     ]
    },
    {
     "name": "stderr",
     "output_type": "stream",
     "text": [
      "100%|█████████████████████████████████████████████████████████████████████| 700/700 [15:36<00:00,  1.34s/it]\n"
     ]
    },
    {
     "name": "stdout",
     "output_type": "stream",
     "text": [
      "X.shape (700, 1)\n",
      "method = num_nodes, AUC = 0.500000\n",
      "X.shape (700, 1)\n",
      "method = num_edges, AUC = 0.879352\n",
      "X.shape (700, 1)\n",
      "method = min_degree, AUC = 0.696479\n",
      "X.shape (700, 1)\n",
      "method = max_degree, AUC = 0.814926\n",
      "X.shape (700, 1)\n",
      "method = diameter, AUC = 0.821729\n",
      "X.shape (700, 1)\n",
      "method = degree_assortativity_coef, AUC = 0.589836\n",
      "X.shape (700, 1)\n",
      "method = num_cliques, AUC = 0.791717\n",
      "X.shape (700, 1)\n",
      "method = Avg_clustering_coeff, AUC = 0.809524\n",
      "X.shape (700, 1)\n",
      "method = edeg_density, AUC = 0.879352\n",
      "X.shape (700, 25)\n",
      "method = MACC k0=5, AUC = 0.917567\n",
      "X.shape (700, 100)\n",
      "method = MACC k0=10, AUC = 0.964786\n",
      "X.shape (700, 225)\n",
      "method = MACC k0=15, AUC = 0.962385\n",
      "X.shape (700, 400)\n",
      "method = MACC k0=20, AUC = 0.952781\n",
      "Classifying subgraphs in Simmons81-Virginia63 ...\n",
      "sampling subgraphs with k=30 nodes\n"
     ]
    },
    {
     "name": "stderr",
     "output_type": "stream",
     "text": [
      "100%|████████████████████████████████████████████████████████████████████| 100/100 [00:00<00:00, 835.76it/s]\n",
      "100%|████████████████████████████████████████████████████████████████████| 100/100 [00:00<00:00, 671.71it/s]\n",
      "100%|████████████████████████████████████████████████████████████████████| 100/100 [00:00<00:00, 843.65it/s]\n",
      "100%|████████████████████████████████████████████████████████████████████| 100/100 [00:00<00:00, 117.89it/s]\n",
      "100%|████████████████████████████████████████████████████████████████████| 100/100 [00:00<00:00, 119.61it/s]\n",
      "100%|████████████████████████████████████████████████████████████████████| 100/100 [00:00<00:00, 135.84it/s]\n",
      "100%|████████████████████████████████████████████████████████████████████| 100/100 [00:00<00:00, 111.56it/s]\n"
     ]
    },
    {
     "name": "stdout",
     "output_type": "stream",
     "text": [
      "extracting subgraph features..\n"
     ]
    },
    {
     "name": "stderr",
     "output_type": "stream",
     "text": [
      "100%|█████████████████████████████████████████████████████████████████████| 700/700 [15:39<00:00,  1.34s/it]\n"
     ]
    },
    {
     "name": "stdout",
     "output_type": "stream",
     "text": [
      "X.shape (700, 1)\n",
      "method = num_nodes, AUC = 0.500000\n",
      "X.shape (700, 1)\n",
      "method = num_edges, AUC = 0.816527\n",
      "X.shape (700, 1)\n",
      "method = min_degree, AUC = 0.615846\n",
      "X.shape (700, 1)\n",
      "method = max_degree, AUC = 0.741297\n",
      "X.shape (700, 1)\n",
      "method = diameter, AUC = 0.806523\n",
      "X.shape (700, 1)\n",
      "method = degree_assortativity_coef, AUC = 0.621048\n",
      "X.shape (700, 1)\n",
      "method = num_cliques, AUC = 0.725090\n",
      "X.shape (700, 1)\n",
      "method = Avg_clustering_coeff, AUC = 0.776311\n",
      "X.shape (700, 1)\n",
      "method = edeg_density, AUC = 0.816527\n",
      "X.shape (700, 25)\n",
      "method = MACC k0=5, AUC = 0.850340\n",
      "X.shape (700, 100)\n",
      "method = MACC k0=10, AUC = 0.963986\n",
      "X.shape (700, 225)\n",
      "method = MACC k0=15, AUC = 0.949980\n",
      "X.shape (700, 400)\n",
      "method = MACC k0=20, AUC = 0.951981\n",
      "Classifying subgraphs in Simmons81-UCLA26 ...\n",
      "sampling subgraphs with k=30 nodes\n"
     ]
    },
    {
     "name": "stderr",
     "output_type": "stream",
     "text": [
      "100%|████████████████████████████████████████████████████████████████████| 100/100 [00:00<00:00, 828.18it/s]\n",
      "100%|████████████████████████████████████████████████████████████████████| 100/100 [00:00<00:00, 675.52it/s]\n",
      "100%|████████████████████████████████████████████████████████████████████| 100/100 [00:00<00:00, 833.21it/s]\n",
      "100%|████████████████████████████████████████████████████████████████████| 100/100 [00:00<00:00, 116.13it/s]\n",
      "100%|████████████████████████████████████████████████████████████████████| 100/100 [00:00<00:00, 123.45it/s]\n",
      "100%|████████████████████████████████████████████████████████████████████| 100/100 [00:00<00:00, 137.70it/s]\n",
      "100%|████████████████████████████████████████████████████████████████████| 100/100 [00:00<00:00, 110.89it/s]\n"
     ]
    },
    {
     "name": "stdout",
     "output_type": "stream",
     "text": [
      "extracting subgraph features..\n"
     ]
    },
    {
     "name": "stderr",
     "output_type": "stream",
     "text": [
      "100%|█████████████████████████████████████████████████████████████████████| 700/700 [15:36<00:00,  1.34s/it]\n"
     ]
    },
    {
     "name": "stdout",
     "output_type": "stream",
     "text": [
      "X.shape (700, 1)\n",
      "method = num_nodes, AUC = 0.500000\n",
      "X.shape (700, 1)\n",
      "method = num_edges, AUC = 0.858743\n",
      "X.shape (700, 1)\n",
      "method = min_degree, AUC = 0.603041\n",
      "X.shape (700, 1)\n",
      "method = max_degree, AUC = 0.742697\n",
      "X.shape (700, 1)\n",
      "method = diameter, AUC = 0.861945\n",
      "X.shape (700, 1)\n",
      "method = degree_assortativity_coef, AUC = 0.669868\n",
      "X.shape (700, 1)\n",
      "method = num_cliques, AUC = 0.777111\n",
      "X.shape (700, 1)\n",
      "method = Avg_clustering_coeff, AUC = 0.763105\n",
      "X.shape (700, 1)\n",
      "method = edeg_density, AUC = 0.858743\n",
      "X.shape (700, 25)\n",
      "method = MACC k0=5, AUC = 0.919968\n",
      "X.shape (700, 100)\n",
      "method = MACC k0=10, AUC = 0.943978\n",
      "X.shape (700, 225)\n",
      "method = MACC k0=15, AUC = 0.933573\n",
      "X.shape (700, 400)\n",
      "method = MACC k0=20, AUC = 0.941176\n",
      "Classifying subgraphs in Simmons81-Wisconsin87 ...\n",
      "sampling subgraphs with k=30 nodes\n"
     ]
    },
    {
     "name": "stderr",
     "output_type": "stream",
     "text": [
      "100%|████████████████████████████████████████████████████████████████████| 100/100 [00:00<00:00, 842.27it/s]\n",
      "100%|████████████████████████████████████████████████████████████████████| 100/100 [00:00<00:00, 639.55it/s]\n",
      "100%|████████████████████████████████████████████████████████████████████| 100/100 [00:00<00:00, 814.87it/s]\n",
      "100%|████████████████████████████████████████████████████████████████████| 100/100 [00:00<00:00, 112.92it/s]\n",
      "100%|████████████████████████████████████████████████████████████████████| 100/100 [00:00<00:00, 121.57it/s]\n",
      "100%|████████████████████████████████████████████████████████████████████| 100/100 [00:00<00:00, 124.02it/s]\n",
      "100%|████████████████████████████████████████████████████████████████████| 100/100 [00:00<00:00, 105.23it/s]\n"
     ]
    },
    {
     "name": "stdout",
     "output_type": "stream",
     "text": [
      "extracting subgraph features..\n"
     ]
    },
    {
     "name": "stderr",
     "output_type": "stream",
     "text": [
      "100%|█████████████████████████████████████████████████████████████████████| 700/700 [15:35<00:00,  1.34s/it]\n"
     ]
    },
    {
     "name": "stdout",
     "output_type": "stream",
     "text": [
      "X.shape (700, 1)\n",
      "method = num_nodes, AUC = 0.500000\n",
      "X.shape (700, 1)\n",
      "method = num_edges, AUC = 0.814326\n",
      "X.shape (700, 1)\n",
      "method = min_degree, AUC = 0.608844\n",
      "X.shape (700, 1)\n",
      "method = max_degree, AUC = 0.736695\n",
      "X.shape (700, 1)\n",
      "method = diameter, AUC = 0.782713\n",
      "X.shape (700, 1)\n",
      "method = degree_assortativity_coef, AUC = 0.469388\n",
      "X.shape (700, 1)\n",
      "method = num_cliques, AUC = 0.695078\n",
      "X.shape (700, 1)\n",
      "method = Avg_clustering_coeff, AUC = 0.733894\n",
      "X.shape (700, 1)\n",
      "method = edeg_density, AUC = 0.814326\n",
      "X.shape (700, 25)\n",
      "method = MACC k0=5, AUC = 0.887955\n",
      "X.shape (700, 100)\n",
      "method = MACC k0=10, AUC = 0.906363\n",
      "X.shape (700, 225)\n",
      "method = MACC k0=15, AUC = 0.914366\n",
      "X.shape (700, 400)\n",
      "method = MACC k0=20, AUC = 0.919568\n",
      "Classifying subgraphs in Reed98-NYU9 ...\n",
      "sampling subgraphs with k=30 nodes\n"
     ]
    },
    {
     "name": "stderr",
     "output_type": "stream",
     "text": [
      "100%|████████████████████████████████████████████████████████████████████| 100/100 [00:00<00:00, 626.26it/s]\n",
      "100%|████████████████████████████████████████████████████████████████████| 100/100 [00:00<00:00, 689.91it/s]\n",
      "100%|████████████████████████████████████████████████████████████████████| 100/100 [00:00<00:00, 799.30it/s]\n",
      "100%|████████████████████████████████████████████████████████████████████| 100/100 [00:00<00:00, 110.89it/s]\n",
      "100%|████████████████████████████████████████████████████████████████████| 100/100 [00:00<00:00, 110.77it/s]\n",
      "100%|████████████████████████████████████████████████████████████████████| 100/100 [00:00<00:00, 124.92it/s]\n",
      "100%|████████████████████████████████████████████████████████████████████| 100/100 [00:00<00:00, 101.28it/s]\n"
     ]
    },
    {
     "name": "stdout",
     "output_type": "stream",
     "text": [
      "extracting subgraph features..\n"
     ]
    },
    {
     "name": "stderr",
     "output_type": "stream",
     "text": [
      "100%|█████████████████████████████████████████████████████████████████████| 700/700 [15:33<00:00,  1.33s/it]\n"
     ]
    },
    {
     "name": "stdout",
     "output_type": "stream",
     "text": [
      "X.shape (700, 1)\n",
      "method = num_nodes, AUC = 0.500000\n",
      "X.shape (700, 1)\n",
      "method = num_edges, AUC = 0.837735\n",
      "X.shape (700, 1)\n",
      "method = min_degree, AUC = 0.701481\n",
      "X.shape (700, 1)\n",
      "method = max_degree, AUC = 0.730292\n",
      "X.shape (700, 1)\n",
      "method = diameter, AUC = 0.804722\n",
      "X.shape (700, 1)\n",
      "method = degree_assortativity_coef, AUC = 0.628651\n",
      "X.shape (700, 1)\n",
      "method = num_cliques, AUC = 0.711685\n",
      "X.shape (700, 1)\n",
      "method = Avg_clustering_coeff, AUC = 0.752701\n",
      "X.shape (700, 1)\n",
      "method = edeg_density, AUC = 0.837735\n",
      "X.shape (700, 25)\n",
      "method = MACC k0=5, AUC = 0.881953\n",
      "X.shape (700, 100)\n",
      "method = MACC k0=10, AUC = 0.918768\n",
      "X.shape (700, 225)\n",
      "method = MACC k0=15, AUC = 0.906763\n",
      "X.shape (700, 400)\n",
      "method = MACC k0=20, AUC = 0.913165\n",
      "Classifying subgraphs in Reed98-Virginia63 ...\n",
      "sampling subgraphs with k=30 nodes\n"
     ]
    },
    {
     "name": "stderr",
     "output_type": "stream",
     "text": [
      "100%|████████████████████████████████████████████████████████████████████| 100/100 [00:00<00:00, 812.44it/s]\n",
      "100%|████████████████████████████████████████████████████████████████████| 100/100 [00:00<00:00, 646.84it/s]\n",
      "100%|████████████████████████████████████████████████████████████████████| 100/100 [00:00<00:00, 824.30it/s]\n",
      "100%|████████████████████████████████████████████████████████████████████| 100/100 [00:00<00:00, 107.75it/s]\n",
      "100%|████████████████████████████████████████████████████████████████████| 100/100 [00:00<00:00, 110.67it/s]\n",
      "100%|████████████████████████████████████████████████████████████████████| 100/100 [00:00<00:00, 100.62it/s]\n",
      "100%|████████████████████████████████████████████████████████████████████| 100/100 [00:00<00:00, 108.43it/s]\n"
     ]
    },
    {
     "name": "stdout",
     "output_type": "stream",
     "text": [
      "extracting subgraph features..\n"
     ]
    },
    {
     "name": "stderr",
     "output_type": "stream",
     "text": [
      "100%|█████████████████████████████████████████████████████████████████████| 700/700 [15:35<00:00,  1.34s/it]\n"
     ]
    },
    {
     "name": "stdout",
     "output_type": "stream",
     "text": [
      "X.shape (700, 1)\n",
      "method = num_nodes, AUC = 0.500000\n",
      "X.shape (700, 1)\n",
      "method = num_edges, AUC = 0.952581\n",
      "X.shape (700, 1)\n",
      "method = min_degree, AUC = 0.636455\n",
      "X.shape (700, 1)\n",
      "method = max_degree, AUC = 0.873749\n",
      "X.shape (700, 1)\n",
      "method = diameter, AUC = 0.867347\n",
      "X.shape (700, 1)\n",
      "method = degree_assortativity_coef, AUC = 0.646659\n",
      "X.shape (700, 1)\n",
      "method = num_cliques, AUC = 0.878752\n",
      "X.shape (700, 1)\n",
      "method = Avg_clustering_coeff, AUC = 0.875550\n",
      "X.shape (700, 1)\n",
      "method = edeg_density, AUC = 0.952581\n",
      "X.shape (700, 25)\n",
      "method = MACC k0=5, AUC = 0.955182\n",
      "X.shape (700, 100)\n",
      "method = MACC k0=10, AUC = 0.960784\n",
      "X.shape (700, 225)\n",
      "method = MACC k0=15, AUC = 0.961985\n",
      "X.shape (700, 400)\n",
      "method = MACC k0=20, AUC = 0.959184\n",
      "Classifying subgraphs in Reed98-UCLA26 ...\n",
      "sampling subgraphs with k=30 nodes\n"
     ]
    },
    {
     "name": "stderr",
     "output_type": "stream",
     "text": [
      "100%|████████████████████████████████████████████████████████████████████| 100/100 [00:00<00:00, 863.40it/s]\n",
      "100%|████████████████████████████████████████████████████████████████████| 100/100 [00:00<00:00, 714.74it/s]\n",
      "100%|████████████████████████████████████████████████████████████████████| 100/100 [00:00<00:00, 813.12it/s]\n",
      "100%|████████████████████████████████████████████████████████████████████| 100/100 [00:00<00:00, 112.20it/s]\n",
      "100%|████████████████████████████████████████████████████████████████████| 100/100 [00:00<00:00, 121.06it/s]\n",
      "100%|████████████████████████████████████████████████████████████████████| 100/100 [00:00<00:00, 107.41it/s]\n",
      "100%|████████████████████████████████████████████████████████████████████| 100/100 [00:00<00:00, 112.68it/s]\n"
     ]
    },
    {
     "name": "stdout",
     "output_type": "stream",
     "text": [
      "extracting subgraph features..\n"
     ]
    },
    {
     "name": "stderr",
     "output_type": "stream",
     "text": [
      "100%|█████████████████████████████████████████████████████████████████████| 700/700 [15:35<00:00,  1.34s/it]\n"
     ]
    },
    {
     "name": "stdout",
     "output_type": "stream",
     "text": [
      "X.shape (700, 1)\n",
      "method = num_nodes, AUC = 0.500000\n",
      "X.shape (700, 1)\n",
      "method = num_edges, AUC = 0.886955\n",
      "X.shape (700, 1)\n",
      "method = min_degree, AUC = 0.593237\n",
      "X.shape (700, 1)\n",
      "method = max_degree, AUC = 0.783713\n",
      "X.shape (700, 1)\n",
      "method = diameter, AUC = 0.802121\n",
      "X.shape (700, 1)\n",
      "method = degree_assortativity_coef, AUC = 0.562225\n",
      "X.shape (700, 1)\n",
      "method = num_cliques, AUC = 0.815526\n",
      "X.shape (700, 1)\n",
      "method = Avg_clustering_coeff, AUC = 0.791116\n",
      "X.shape (700, 1)\n",
      "method = edeg_density, AUC = 0.886955\n",
      "X.shape (700, 25)\n",
      "method = MACC k0=5, AUC = 0.911164\n",
      "X.shape (700, 100)\n",
      "method = MACC k0=10, AUC = 0.932773\n",
      "X.shape (700, 225)\n",
      "method = MACC k0=15, AUC = 0.931973\n",
      "X.shape (700, 400)\n",
      "method = MACC k0=20, AUC = 0.933173\n",
      "Classifying subgraphs in Reed98-Wisconsin87 ...\n",
      "sampling subgraphs with k=30 nodes\n"
     ]
    },
    {
     "name": "stderr",
     "output_type": "stream",
     "text": [
      "100%|████████████████████████████████████████████████████████████████████| 100/100 [00:00<00:00, 789.34it/s]\n",
      "100%|████████████████████████████████████████████████████████████████████| 100/100 [00:00<00:00, 701.37it/s]\n",
      "100%|████████████████████████████████████████████████████████████████████| 100/100 [00:00<00:00, 825.04it/s]\n",
      "100%|████████████████████████████████████████████████████████████████████| 100/100 [00:00<00:00, 105.16it/s]\n",
      "100%|████████████████████████████████████████████████████████████████████| 100/100 [00:00<00:00, 109.88it/s]\n",
      "100%|████████████████████████████████████████████████████████████████████| 100/100 [00:00<00:00, 126.15it/s]\n",
      "100%|████████████████████████████████████████████████████████████████████| 100/100 [00:00<00:00, 103.95it/s]\n"
     ]
    },
    {
     "name": "stdout",
     "output_type": "stream",
     "text": [
      "extracting subgraph features..\n"
     ]
    },
    {
     "name": "stderr",
     "output_type": "stream",
     "text": [
      "100%|█████████████████████████████████████████████████████████████████████| 700/700 [15:34<00:00,  1.34s/it]\n"
     ]
    },
    {
     "name": "stdout",
     "output_type": "stream",
     "text": [
      "X.shape (700, 1)\n",
      "method = num_nodes, AUC = 0.500000\n",
      "X.shape (700, 1)\n",
      "method = num_edges, AUC = 0.877351\n",
      "X.shape (700, 1)\n",
      "method = min_degree, AUC = 0.645858\n",
      "X.shape (700, 1)\n",
      "method = max_degree, AUC = 0.761705\n",
      "X.shape (700, 1)\n",
      "method = diameter, AUC = 0.883954\n",
      "X.shape (700, 1)\n",
      "method = degree_assortativity_coef, AUC = 0.756703\n",
      "X.shape (700, 1)\n",
      "method = num_cliques, AUC = 0.734294\n",
      "X.shape (700, 1)\n",
      "method = Avg_clustering_coeff, AUC = 0.796319\n",
      "X.shape (700, 1)\n",
      "method = edeg_density, AUC = 0.877351\n",
      "X.shape (700, 25)\n",
      "method = MACC k0=5, AUC = 0.900360\n",
      "X.shape (700, 100)\n",
      "method = MACC k0=10, AUC = 0.947179\n",
      "X.shape (700, 225)\n",
      "method = MACC k0=15, AUC = 0.960784\n",
      "X.shape (700, 400)\n",
      "method = MACC k0=20, AUC = 0.950780\n",
      "Classifying subgraphs in NYU9-Virginia63 ...\n",
      "sampling subgraphs with k=30 nodes\n"
     ]
    },
    {
     "name": "stderr",
     "output_type": "stream",
     "text": [
      "100%|████████████████████████████████████████████████████████████████████| 100/100 [00:00<00:00, 834.38it/s]\n",
      "100%|████████████████████████████████████████████████████████████████████| 100/100 [00:00<00:00, 682.04it/s]\n",
      "100%|████████████████████████████████████████████████████████████████████| 100/100 [00:00<00:00, 824.37it/s]\n",
      "100%|████████████████████████████████████████████████████████████████████| 100/100 [00:00<00:00, 117.26it/s]\n",
      "100%|████████████████████████████████████████████████████████████████████| 100/100 [00:00<00:00, 119.50it/s]\n",
      "100%|████████████████████████████████████████████████████████████████████| 100/100 [00:00<00:00, 137.64it/s]\n",
      "100%|████████████████████████████████████████████████████████████████████| 100/100 [00:00<00:00, 107.33it/s]\n"
     ]
    },
    {
     "name": "stdout",
     "output_type": "stream",
     "text": [
      "extracting subgraph features..\n"
     ]
    },
    {
     "name": "stderr",
     "output_type": "stream",
     "text": [
      "100%|█████████████████████████████████████████████████████████████████████| 700/700 [15:36<00:00,  1.34s/it]\n"
     ]
    },
    {
     "name": "stdout",
     "output_type": "stream",
     "text": [
      "X.shape (700, 1)\n",
      "method = num_nodes, AUC = 0.500000\n",
      "X.shape (700, 1)\n",
      "method = num_edges, AUC = 0.839736\n",
      "X.shape (700, 1)\n",
      "method = min_degree, AUC = 0.629652\n",
      "X.shape (700, 1)\n",
      "method = max_degree, AUC = 0.730492\n",
      "X.shape (700, 1)\n",
      "method = diameter, AUC = 0.761505\n",
      "X.shape (700, 1)\n",
      "method = degree_assortativity_coef, AUC = 0.541016\n",
      "X.shape (700, 1)\n",
      "method = num_cliques, AUC = 0.704882\n",
      "X.shape (700, 1)\n",
      "method = Avg_clustering_coeff, AUC = 0.753101\n",
      "X.shape (700, 1)\n",
      "method = edeg_density, AUC = 0.839736\n",
      "X.shape (700, 25)\n",
      "method = MACC k0=5, AUC = 0.901961\n",
      "X.shape (700, 100)\n",
      "method = MACC k0=10, AUC = 0.913165\n",
      "X.shape (700, 225)\n",
      "method = MACC k0=15, AUC = 0.912365\n",
      "X.shape (700, 400)\n",
      "method = MACC k0=20, AUC = 0.897159\n",
      "Classifying subgraphs in NYU9-UCLA26 ...\n",
      "sampling subgraphs with k=30 nodes\n"
     ]
    },
    {
     "name": "stderr",
     "output_type": "stream",
     "text": [
      "100%|████████████████████████████████████████████████████████████████████| 100/100 [00:00<00:00, 774.44it/s]\n",
      "100%|████████████████████████████████████████████████████████████████████| 100/100 [00:00<00:00, 659.56it/s]\n",
      "100%|████████████████████████████████████████████████████████████████████| 100/100 [00:00<00:00, 844.50it/s]\n",
      "100%|████████████████████████████████████████████████████████████████████| 100/100 [00:00<00:00, 118.38it/s]\n",
      "100%|████████████████████████████████████████████████████████████████████| 100/100 [00:00<00:00, 122.72it/s]\n",
      "100%|████████████████████████████████████████████████████████████████████| 100/100 [00:00<00:00, 135.42it/s]\n",
      "100%|████████████████████████████████████████████████████████████████████| 100/100 [00:00<00:00, 103.15it/s]\n"
     ]
    },
    {
     "name": "stdout",
     "output_type": "stream",
     "text": [
      "extracting subgraph features..\n"
     ]
    },
    {
     "name": "stderr",
     "output_type": "stream",
     "text": [
      "100%|█████████████████████████████████████████████████████████████████████| 700/700 [15:35<00:00,  1.34s/it]\n"
     ]
    },
    {
     "name": "stdout",
     "output_type": "stream",
     "text": [
      "X.shape (700, 1)\n",
      "method = num_nodes, AUC = 0.500000\n",
      "X.shape (700, 1)\n",
      "method = num_edges, AUC = 0.810924\n",
      "X.shape (700, 1)\n",
      "method = min_degree, AUC = 0.495398\n",
      "X.shape (700, 1)\n",
      "method = max_degree, AUC = 0.730492\n",
      "X.shape (700, 1)\n",
      "method = diameter, AUC = 0.740096\n",
      "X.shape (700, 1)\n",
      "method = degree_assortativity_coef, AUC = 0.539016\n",
      "X.shape (700, 1)\n",
      "method = num_cliques, AUC = 0.729692\n",
      "X.shape (700, 1)\n",
      "method = Avg_clustering_coeff, AUC = 0.749500\n",
      "X.shape (700, 1)\n",
      "method = edeg_density, AUC = 0.810924\n",
      "X.shape (700, 25)\n",
      "method = MACC k0=5, AUC = 0.891557\n",
      "X.shape (700, 100)\n",
      "method = MACC k0=10, AUC = 0.897159\n",
      "X.shape (700, 225)\n",
      "method = MACC k0=15, AUC = 0.912365\n",
      "X.shape (700, 400)\n",
      "method = MACC k0=20, AUC = 0.901160\n",
      "Classifying subgraphs in NYU9-Wisconsin87 ...\n",
      "sampling subgraphs with k=30 nodes\n"
     ]
    },
    {
     "name": "stderr",
     "output_type": "stream",
     "text": [
      "100%|████████████████████████████████████████████████████████████████████| 100/100 [00:00<00:00, 749.53it/s]\n",
      "100%|████████████████████████████████████████████████████████████████████| 100/100 [00:00<00:00, 717.89it/s]\n",
      "100%|████████████████████████████████████████████████████████████████████| 100/100 [00:00<00:00, 826.34it/s]\n",
      "100%|████████████████████████████████████████████████████████████████████| 100/100 [00:00<00:00, 112.95it/s]\n",
      "100%|████████████████████████████████████████████████████████████████████| 100/100 [00:00<00:00, 113.82it/s]\n",
      "100%|████████████████████████████████████████████████████████████████████| 100/100 [00:00<00:00, 108.88it/s]\n",
      "100%|████████████████████████████████████████████████████████████████████| 100/100 [00:00<00:00, 102.60it/s]\n"
     ]
    },
    {
     "name": "stdout",
     "output_type": "stream",
     "text": [
      "extracting subgraph features..\n"
     ]
    },
    {
     "name": "stderr",
     "output_type": "stream",
     "text": [
      "100%|█████████████████████████████████████████████████████████████████████| 700/700 [15:36<00:00,  1.34s/it]\n"
     ]
    },
    {
     "name": "stdout",
     "output_type": "stream",
     "text": [
      "X.shape (700, 1)\n",
      "method = num_nodes, AUC = 0.500000\n",
      "X.shape (700, 1)\n",
      "method = num_edges, AUC = 0.861144\n",
      "X.shape (700, 1)\n",
      "method = min_degree, AUC = 0.600240\n",
      "X.shape (700, 1)\n",
      "method = max_degree, AUC = 0.809724\n",
      "X.shape (700, 1)\n",
      "method = diameter, AUC = 0.823129\n",
      "X.shape (700, 1)\n",
      "method = degree_assortativity_coef, AUC = 0.571028\n",
      "X.shape (700, 1)\n",
      "method = num_cliques, AUC = 0.765906\n",
      "X.shape (700, 1)\n",
      "method = Avg_clustering_coeff, AUC = 0.791517\n",
      "X.shape (700, 1)\n",
      "method = edeg_density, AUC = 0.861144\n",
      "X.shape (700, 25)\n",
      "method = MACC k0=5, AUC = 0.849540\n",
      "X.shape (700, 100)\n",
      "method = MACC k0=10, AUC = 0.880752\n",
      "X.shape (700, 225)\n",
      "method = MACC k0=15, AUC = 0.883954\n",
      "X.shape (700, 400)\n",
      "method = MACC k0=20, AUC = 0.889956\n",
      "Classifying subgraphs in Virginia63-UCLA26 ...\n",
      "sampling subgraphs with k=30 nodes\n"
     ]
    },
    {
     "name": "stderr",
     "output_type": "stream",
     "text": [
      "100%|████████████████████████████████████████████████████████████████████| 100/100 [00:00<00:00, 842.59it/s]\n",
      "100%|████████████████████████████████████████████████████████████████████| 100/100 [00:00<00:00, 636.10it/s]\n",
      "100%|████████████████████████████████████████████████████████████████████| 100/100 [00:00<00:00, 801.24it/s]\n",
      "100%|████████████████████████████████████████████████████████████████████| 100/100 [00:00<00:00, 109.96it/s]\n",
      "100%|████████████████████████████████████████████████████████████████████| 100/100 [00:00<00:00, 111.82it/s]\n",
      "100%|████████████████████████████████████████████████████████████████████| 100/100 [00:00<00:00, 129.36it/s]\n",
      "100%|████████████████████████████████████████████████████████████████████| 100/100 [00:00<00:00, 108.22it/s]\n"
     ]
    },
    {
     "name": "stdout",
     "output_type": "stream",
     "text": [
      "extracting subgraph features..\n"
     ]
    },
    {
     "name": "stderr",
     "output_type": "stream",
     "text": [
      "100%|█████████████████████████████████████████████████████████████████████| 700/700 [15:37<00:00,  1.34s/it]\n"
     ]
    },
    {
     "name": "stdout",
     "output_type": "stream",
     "text": [
      "X.shape (700, 1)\n",
      "method = num_nodes, AUC = 0.500000\n",
      "X.shape (700, 1)\n",
      "method = num_edges, AUC = 0.812325\n",
      "X.shape (700, 1)\n",
      "method = min_degree, AUC = 0.589836\n",
      "X.shape (700, 1)\n",
      "method = max_degree, AUC = 0.724490\n",
      "X.shape (700, 1)\n",
      "method = diameter, AUC = 0.815326\n",
      "X.shape (700, 1)\n",
      "method = degree_assortativity_coef, AUC = 0.553822\n",
      "X.shape (700, 1)\n",
      "method = num_cliques, AUC = 0.718487\n",
      "X.shape (700, 1)\n",
      "method = Avg_clustering_coeff, AUC = 0.669068\n",
      "X.shape (700, 1)\n",
      "method = edeg_density, AUC = 0.812325\n",
      "X.shape (700, 25)\n",
      "method = MACC k0=5, AUC = 0.879552\n",
      "X.shape (700, 100)\n",
      "method = MACC k0=10, AUC = 0.936775\n",
      "X.shape (700, 225)\n",
      "method = MACC k0=15, AUC = 0.932373\n",
      "X.shape (700, 400)\n",
      "method = MACC k0=20, AUC = 0.920768\n",
      "Classifying subgraphs in Virginia63-Wisconsin87 ...\n",
      "sampling subgraphs with k=30 nodes\n"
     ]
    },
    {
     "name": "stderr",
     "output_type": "stream",
     "text": [
      "100%|████████████████████████████████████████████████████████████████████| 100/100 [00:00<00:00, 675.41it/s]\n",
      "100%|████████████████████████████████████████████████████████████████████| 100/100 [00:00<00:00, 623.65it/s]\n",
      "100%|████████████████████████████████████████████████████████████████████| 100/100 [00:00<00:00, 875.44it/s]\n",
      "100%|████████████████████████████████████████████████████████████████████| 100/100 [00:00<00:00, 120.70it/s]\n",
      "100%|████████████████████████████████████████████████████████████████████| 100/100 [00:00<00:00, 122.31it/s]\n",
      "100%|████████████████████████████████████████████████████████████████████| 100/100 [00:00<00:00, 138.77it/s]\n",
      "100%|████████████████████████████████████████████████████████████████████| 100/100 [00:00<00:00, 109.45it/s]\n"
     ]
    },
    {
     "name": "stdout",
     "output_type": "stream",
     "text": [
      "extracting subgraph features..\n"
     ]
    },
    {
     "name": "stderr",
     "output_type": "stream",
     "text": [
      "100%|█████████████████████████████████████████████████████████████████████| 700/700 [15:36<00:00,  1.34s/it]\n"
     ]
    },
    {
     "name": "stdout",
     "output_type": "stream",
     "text": [
      "X.shape (700, 1)\n",
      "method = num_nodes, AUC = 0.500000\n",
      "X.shape (700, 1)\n",
      "method = num_edges, AUC = 0.888555\n",
      "X.shape (700, 1)\n",
      "method = min_degree, AUC = 0.640056\n",
      "X.shape (700, 1)\n",
      "method = max_degree, AUC = 0.757703\n",
      "X.shape (700, 1)\n",
      "method = diameter, AUC = 0.850940\n",
      "X.shape (700, 1)\n",
      "method = degree_assortativity_coef, AUC = 0.674270\n",
      "X.shape (700, 1)\n",
      "method = num_cliques, AUC = 0.697479\n",
      "X.shape (700, 1)\n",
      "method = Avg_clustering_coeff, AUC = 0.785114\n",
      "X.shape (700, 1)\n",
      "method = edeg_density, AUC = 0.888555\n",
      "X.shape (700, 25)\n",
      "method = MACC k0=5, AUC = 0.953581\n",
      "X.shape (700, 100)\n",
      "method = MACC k0=10, AUC = 0.969988\n",
      "X.shape (700, 225)\n",
      "method = MACC k0=15, AUC = 0.975590\n",
      "X.shape (700, 400)\n",
      "method = MACC k0=20, AUC = 0.973589\n",
      "Classifying subgraphs in UCLA26-Wisconsin87 ...\n",
      "sampling subgraphs with k=30 nodes\n"
     ]
    },
    {
     "name": "stderr",
     "output_type": "stream",
     "text": [
      "100%|████████████████████████████████████████████████████████████████████| 100/100 [00:00<00:00, 677.51it/s]\n",
      "100%|████████████████████████████████████████████████████████████████████| 100/100 [00:00<00:00, 691.82it/s]\n",
      "100%|████████████████████████████████████████████████████████████████████| 100/100 [00:00<00:00, 821.82it/s]\n",
      "100%|████████████████████████████████████████████████████████████████████| 100/100 [00:00<00:00, 114.11it/s]\n",
      "100%|████████████████████████████████████████████████████████████████████| 100/100 [00:00<00:00, 106.83it/s]\n",
      "100%|████████████████████████████████████████████████████████████████████| 100/100 [00:00<00:00, 124.51it/s]\n",
      "100%|████████████████████████████████████████████████████████████████████| 100/100 [00:00<00:00, 100.96it/s]\n"
     ]
    },
    {
     "name": "stdout",
     "output_type": "stream",
     "text": [
      "extracting subgraph features..\n"
     ]
    },
    {
     "name": "stderr",
     "output_type": "stream",
     "text": [
      "100%|█████████████████████████████████████████████████████████████████████| 700/700 [15:33<00:00,  1.33s/it]\n"
     ]
    },
    {
     "name": "stdout",
     "output_type": "stream",
     "text": [
      "X.shape (700, 1)\n",
      "method = num_nodes, AUC = 0.500000\n",
      "X.shape (700, 1)\n",
      "method = num_edges, AUC = 0.958784\n",
      "X.shape (700, 1)\n",
      "method = min_degree, AUC = 0.578431\n",
      "X.shape (700, 1)\n",
      "method = max_degree, AUC = 0.879952\n",
      "X.shape (700, 1)\n",
      "method = diameter, AUC = 0.901761\n",
      "X.shape (700, 1)\n",
      "method = degree_assortativity_coef, AUC = 0.749500\n",
      "X.shape (700, 1)\n",
      "method = num_cliques, AUC = 0.798119\n",
      "X.shape (700, 1)\n",
      "method = Avg_clustering_coeff, AUC = 0.843938\n",
      "X.shape (700, 1)\n",
      "method = edeg_density, AUC = 0.958784\n",
      "X.shape (700, 25)\n",
      "method = MACC k0=5, AUC = 0.961184\n",
      "X.shape (700, 100)\n",
      "method = MACC k0=10, AUC = 0.977991\n",
      "X.shape (700, 225)\n",
      "method = MACC k0=15, AUC = 0.971989\n",
      "X.shape (700, 400)\n",
      "method = MACC k0=20, AUC = 0.977991\n",
      "Classifying subgraphs in Caltech36-Simmons81 ...\n",
      "sampling subgraphs with k=30 nodes\n"
     ]
    },
    {
     "name": "stderr",
     "output_type": "stream",
     "text": [
      "100%|████████████████████████████████████████████████████████████████████| 100/100 [00:00<00:00, 727.50it/s]\n",
      "100%|████████████████████████████████████████████████████████████████████| 100/100 [00:00<00:00, 712.41it/s]\n",
      "100%|████████████████████████████████████████████████████████████████████| 100/100 [00:00<00:00, 840.60it/s]\n",
      "100%|████████████████████████████████████████████████████████████████████| 100/100 [00:00<00:00, 106.94it/s]\n",
      "100%|████████████████████████████████████████████████████████████████████| 100/100 [00:00<00:00, 110.64it/s]\n",
      "100%|████████████████████████████████████████████████████████████████████| 100/100 [00:00<00:00, 126.92it/s]\n",
      "100%|████████████████████████████████████████████████████████████████████| 100/100 [00:00<00:00, 106.09it/s]\n"
     ]
    },
    {
     "name": "stdout",
     "output_type": "stream",
     "text": [
      "extracting subgraph features..\n"
     ]
    },
    {
     "name": "stderr",
     "output_type": "stream",
     "text": [
      "100%|█████████████████████████████████████████████████████████████████████| 700/700 [15:34<00:00,  1.34s/it]\n"
     ]
    },
    {
     "name": "stdout",
     "output_type": "stream",
     "text": [
      "X.shape (700, 1)\n",
      "method = num_nodes, AUC = 0.500000\n",
      "X.shape (700, 1)\n",
      "method = num_edges, AUC = 0.805322\n",
      "X.shape (700, 1)\n",
      "method = min_degree, AUC = 0.608043\n",
      "X.shape (700, 1)\n",
      "method = max_degree, AUC = 0.762705\n",
      "X.shape (700, 1)\n",
      "method = diameter, AUC = 0.788315\n",
      "X.shape (700, 1)\n",
      "method = degree_assortativity_coef, AUC = 0.621849\n",
      "X.shape (700, 1)\n",
      "method = num_cliques, AUC = 0.736094\n",
      "X.shape (700, 1)\n",
      "method = Avg_clustering_coeff, AUC = 0.751901\n",
      "X.shape (700, 1)\n",
      "method = edeg_density, AUC = 0.805322\n",
      "X.shape (700, 25)\n",
      "method = MACC k0=5, AUC = 0.821929\n",
      "X.shape (700, 100)\n",
      "method = MACC k0=10, AUC = 0.889556\n",
      "X.shape (700, 225)\n",
      "method = MACC k0=15, AUC = 0.919968\n",
      "X.shape (700, 400)\n",
      "method = MACC k0=20, AUC = 0.910764\n",
      "Classifying subgraphs in Caltech36-Reed98 ...\n",
      "sampling subgraphs with k=30 nodes\n"
     ]
    },
    {
     "name": "stderr",
     "output_type": "stream",
     "text": [
      "100%|████████████████████████████████████████████████████████████████████| 100/100 [00:00<00:00, 411.93it/s]\n",
      "100%|████████████████████████████████████████████████████████████████████| 100/100 [00:00<00:00, 667.80it/s]\n",
      "100%|████████████████████████████████████████████████████████████████████| 100/100 [00:00<00:00, 831.90it/s]\n",
      "100%|████████████████████████████████████████████████████████████████████| 100/100 [00:00<00:00, 118.86it/s]\n",
      "100%|████████████████████████████████████████████████████████████████████| 100/100 [00:00<00:00, 118.65it/s]\n",
      "100%|████████████████████████████████████████████████████████████████████| 100/100 [00:00<00:00, 136.92it/s]\n",
      "100%|████████████████████████████████████████████████████████████████████| 100/100 [00:00<00:00, 110.29it/s]\n"
     ]
    },
    {
     "name": "stdout",
     "output_type": "stream",
     "text": [
      "extracting subgraph features..\n"
     ]
    },
    {
     "name": "stderr",
     "output_type": "stream",
     "text": [
      "100%|█████████████████████████████████████████████████████████████████████| 700/700 [15:35<00:00,  1.34s/it]\n"
     ]
    },
    {
     "name": "stdout",
     "output_type": "stream",
     "text": [
      "X.shape (700, 1)\n",
      "method = num_nodes, AUC = 0.500000\n",
      "X.shape (700, 1)\n",
      "method = num_edges, AUC = 0.923169\n",
      "X.shape (700, 1)\n",
      "method = min_degree, AUC = 0.519208\n",
      "X.shape (700, 1)\n",
      "method = max_degree, AUC = 0.853541\n",
      "X.shape (700, 1)\n",
      "method = diameter, AUC = 0.863745\n",
      "X.shape (700, 1)\n",
      "method = degree_assortativity_coef, AUC = 0.629452\n",
      "X.shape (700, 1)\n",
      "method = num_cliques, AUC = 0.753501\n",
      "X.shape (700, 1)\n",
      "method = Avg_clustering_coeff, AUC = 0.754302\n",
      "X.shape (700, 1)\n",
      "method = edeg_density, AUC = 0.923169\n",
      "X.shape (700, 25)\n",
      "method = MACC k0=5, AUC = 0.923970\n",
      "X.shape (700, 100)\n",
      "method = MACC k0=10, AUC = 0.915166\n",
      "X.shape (700, 225)\n",
      "method = MACC k0=15, AUC = 0.904362\n",
      "X.shape (700, 400)\n",
      "method = MACC k0=20, AUC = 0.922769\n",
      "Classifying subgraphs in Caltech36-NYU9 ...\n",
      "sampling subgraphs with k=30 nodes\n"
     ]
    },
    {
     "name": "stderr",
     "output_type": "stream",
     "text": [
      "100%|████████████████████████████████████████████████████████████████████| 100/100 [00:00<00:00, 509.71it/s]\n",
      "100%|████████████████████████████████████████████████████████████████████| 100/100 [00:00<00:00, 700.71it/s]\n",
      "100%|████████████████████████████████████████████████████████████████████| 100/100 [00:00<00:00, 862.98it/s]\n",
      "100%|████████████████████████████████████████████████████████████████████| 100/100 [00:00<00:00, 118.09it/s]\n",
      "100%|████████████████████████████████████████████████████████████████████| 100/100 [00:00<00:00, 122.86it/s]\n",
      "100%|████████████████████████████████████████████████████████████████████| 100/100 [00:00<00:00, 134.19it/s]\n",
      "100%|████████████████████████████████████████████████████████████████████| 100/100 [00:00<00:00, 112.43it/s]\n"
     ]
    },
    {
     "name": "stdout",
     "output_type": "stream",
     "text": [
      "extracting subgraph features..\n"
     ]
    },
    {
     "name": "stderr",
     "output_type": "stream",
     "text": [
      "100%|█████████████████████████████████████████████████████████████████████| 700/700 [15:37<00:00,  1.34s/it]\n"
     ]
    },
    {
     "name": "stdout",
     "output_type": "stream",
     "text": [
      "X.shape (700, 1)\n",
      "method = num_nodes, AUC = 0.500000\n",
      "X.shape (700, 1)\n",
      "method = num_edges, AUC = 0.848739\n",
      "X.shape (700, 1)\n",
      "method = min_degree, AUC = 0.658263\n",
      "X.shape (700, 1)\n",
      "method = max_degree, AUC = 0.770708\n",
      "X.shape (700, 1)\n",
      "method = diameter, AUC = 0.795318\n",
      "X.shape (700, 1)\n",
      "method = degree_assortativity_coef, AUC = 0.589836\n",
      "X.shape (700, 1)\n",
      "method = num_cliques, AUC = 0.720488\n",
      "X.shape (700, 1)\n",
      "method = Avg_clustering_coeff, AUC = 0.775110\n",
      "X.shape (700, 1)\n",
      "method = edeg_density, AUC = 0.848739\n",
      "X.shape (700, 25)\n",
      "method = MACC k0=5, AUC = 0.914766\n",
      "X.shape (700, 100)\n",
      "method = MACC k0=10, AUC = 0.939176\n",
      "X.shape (700, 225)\n",
      "method = MACC k0=15, AUC = 0.946779\n",
      "X.shape (700, 400)\n",
      "method = MACC k0=20, AUC = 0.935974\n",
      "Classifying subgraphs in Caltech36-Virginia63 ...\n",
      "sampling subgraphs with k=30 nodes\n"
     ]
    },
    {
     "name": "stderr",
     "output_type": "stream",
     "text": [
      "100%|████████████████████████████████████████████████████████████████████| 100/100 [00:00<00:00, 701.53it/s]\n",
      "100%|████████████████████████████████████████████████████████████████████| 100/100 [00:00<00:00, 592.03it/s]\n",
      "100%|████████████████████████████████████████████████████████████████████| 100/100 [00:00<00:00, 821.32it/s]\n",
      "100%|████████████████████████████████████████████████████████████████████| 100/100 [00:00<00:00, 113.60it/s]\n",
      "100%|████████████████████████████████████████████████████████████████████| 100/100 [00:00<00:00, 112.20it/s]\n",
      "100%|████████████████████████████████████████████████████████████████████| 100/100 [00:00<00:00, 130.64it/s]\n",
      "100%|████████████████████████████████████████████████████████████████████| 100/100 [00:00<00:00, 104.43it/s]\n"
     ]
    },
    {
     "name": "stdout",
     "output_type": "stream",
     "text": [
      "extracting subgraph features..\n"
     ]
    },
    {
     "name": "stderr",
     "output_type": "stream",
     "text": [
      "100%|█████████████████████████████████████████████████████████████████████| 700/700 [15:39<00:00,  1.34s/it]\n"
     ]
    },
    {
     "name": "stdout",
     "output_type": "stream",
     "text": [
      "X.shape (700, 1)\n",
      "method = num_nodes, AUC = 0.500000\n",
      "X.shape (700, 1)\n",
      "method = num_edges, AUC = 0.942577\n",
      "X.shape (700, 1)\n",
      "method = min_degree, AUC = 0.676271\n",
      "X.shape (700, 1)\n",
      "method = max_degree, AUC = 0.859944\n",
      "X.shape (700, 1)\n",
      "method = diameter, AUC = 0.903161\n",
      "X.shape (700, 1)\n",
      "method = degree_assortativity_coef, AUC = 0.711885\n",
      "X.shape (700, 1)\n",
      "method = num_cliques, AUC = 0.809724\n",
      "X.shape (700, 1)\n",
      "method = Avg_clustering_coeff, AUC = 0.887955\n",
      "X.shape (700, 1)\n",
      "method = edeg_density, AUC = 0.942577\n",
      "X.shape (700, 25)\n",
      "method = MACC k0=5, AUC = 0.977991\n",
      "X.shape (700, 100)\n",
      "method = MACC k0=10, AUC = 0.978792\n",
      "X.shape (700, 225)\n",
      "method = MACC k0=15, AUC = 0.977191\n",
      "X.shape (700, 400)\n",
      "method = MACC k0=20, AUC = 0.971188\n",
      "Classifying subgraphs in Caltech36-UCLA26 ...\n",
      "sampling subgraphs with k=30 nodes\n"
     ]
    },
    {
     "name": "stderr",
     "output_type": "stream",
     "text": [
      "100%|████████████████████████████████████████████████████████████████████| 100/100 [00:00<00:00, 651.02it/s]\n",
      "100%|████████████████████████████████████████████████████████████████████| 100/100 [00:00<00:00, 591.49it/s]\n",
      "100%|████████████████████████████████████████████████████████████████████| 100/100 [00:00<00:00, 815.74it/s]\n",
      "100%|████████████████████████████████████████████████████████████████████| 100/100 [00:00<00:00, 118.22it/s]\n",
      "100%|████████████████████████████████████████████████████████████████████| 100/100 [00:00<00:00, 121.12it/s]\n",
      "100%|████████████████████████████████████████████████████████████████████| 100/100 [00:00<00:00, 125.26it/s]\n",
      "100%|████████████████████████████████████████████████████████████████████| 100/100 [00:00<00:00, 102.34it/s]\n"
     ]
    },
    {
     "name": "stdout",
     "output_type": "stream",
     "text": [
      "extracting subgraph features..\n"
     ]
    },
    {
     "name": "stderr",
     "output_type": "stream",
     "text": [
      "100%|█████████████████████████████████████████████████████████████████████| 700/700 [15:35<00:00,  1.34s/it]\n"
     ]
    },
    {
     "name": "stdout",
     "output_type": "stream",
     "text": [
      "X.shape (700, 1)\n",
      "method = num_nodes, AUC = 0.500000\n",
      "X.shape (700, 1)\n",
      "method = num_edges, AUC = 0.783113\n",
      "X.shape (700, 1)\n",
      "method = min_degree, AUC = 0.653862\n",
      "X.shape (700, 1)\n",
      "method = max_degree, AUC = 0.667067\n",
      "X.shape (700, 1)\n",
      "method = diameter, AUC = 0.790316\n",
      "X.shape (700, 1)\n",
      "method = degree_assortativity_coef, AUC = 0.561425\n",
      "X.shape (700, 1)\n",
      "method = num_cliques, AUC = 0.652061\n",
      "X.shape (700, 1)\n",
      "method = Avg_clustering_coeff, AUC = 0.719888\n",
      "X.shape (700, 1)\n",
      "method = edeg_density, AUC = 0.783113\n",
      "X.shape (700, 25)\n",
      "method = MACC k0=5, AUC = 0.860344\n",
      "X.shape (700, 100)\n",
      "method = MACC k0=10, AUC = 0.911164\n",
      "X.shape (700, 225)\n",
      "method = MACC k0=15, AUC = 0.909564\n",
      "X.shape (700, 400)\n",
      "method = MACC k0=20, AUC = 0.909164\n",
      "Classifying subgraphs in Caltech36-Wisconsin87 ...\n",
      "sampling subgraphs with k=30 nodes\n"
     ]
    },
    {
     "name": "stderr",
     "output_type": "stream",
     "text": [
      "100%|████████████████████████████████████████████████████████████████████| 100/100 [00:00<00:00, 846.85it/s]\n",
      "100%|████████████████████████████████████████████████████████████████████| 100/100 [00:00<00:00, 721.67it/s]\n",
      "100%|████████████████████████████████████████████████████████████████████| 100/100 [00:00<00:00, 823.45it/s]\n",
      "100%|████████████████████████████████████████████████████████████████████| 100/100 [00:00<00:00, 117.50it/s]\n",
      "100%|████████████████████████████████████████████████████████████████████| 100/100 [00:00<00:00, 121.40it/s]\n",
      "100%|████████████████████████████████████████████████████████████████████| 100/100 [00:00<00:00, 102.90it/s]\n",
      "100%|████████████████████████████████████████████████████████████████████| 100/100 [00:00<00:00, 100.31it/s]\n"
     ]
    },
    {
     "name": "stdout",
     "output_type": "stream",
     "text": [
      "extracting subgraph features..\n"
     ]
    },
    {
     "name": "stderr",
     "output_type": "stream",
     "text": [
      "100%|█████████████████████████████████████████████████████████████████████| 700/700 [15:36<00:00,  1.34s/it]\n"
     ]
    },
    {
     "name": "stdout",
     "output_type": "stream",
     "text": [
      "X.shape (700, 1)\n",
      "method = num_nodes, AUC = 0.500000\n",
      "X.shape (700, 1)\n",
      "method = num_edges, AUC = 0.846339\n",
      "X.shape (700, 1)\n",
      "method = min_degree, AUC = 0.524210\n",
      "X.shape (700, 1)\n",
      "method = max_degree, AUC = 0.763305\n",
      "X.shape (700, 1)\n",
      "method = diameter, AUC = 0.833533\n",
      "X.shape (700, 1)\n",
      "method = degree_assortativity_coef, AUC = 0.709884\n",
      "X.shape (700, 1)\n",
      "method = num_cliques, AUC = 0.672469\n",
      "X.shape (700, 1)\n",
      "method = Avg_clustering_coeff, AUC = 0.737495\n",
      "X.shape (700, 1)\n",
      "method = edeg_density, AUC = 0.846339\n",
      "X.shape (700, 25)\n",
      "method = MACC k0=5, AUC = 0.885554\n",
      "X.shape (700, 100)\n",
      "method = MACC k0=10, AUC = 0.937975\n",
      "X.shape (700, 225)\n",
      "method = MACC k0=15, AUC = 0.934374\n",
      "X.shape (700, 400)\n",
      "method = MACC k0=20, AUC = 0.929172\n",
      "Classifying subgraphs in Simmons81-Reed98 ...\n",
      "sampling subgraphs with k=30 nodes\n"
     ]
    },
    {
     "name": "stderr",
     "output_type": "stream",
     "text": [
      "100%|████████████████████████████████████████████████████████████████████| 100/100 [00:00<00:00, 765.80it/s]\n",
      "100%|████████████████████████████████████████████████████████████████████| 100/100 [00:00<00:00, 698.85it/s]\n",
      "100%|████████████████████████████████████████████████████████████████████| 100/100 [00:00<00:00, 828.21it/s]\n",
      "100%|████████████████████████████████████████████████████████████████████| 100/100 [00:00<00:00, 116.25it/s]\n",
      "100%|████████████████████████████████████████████████████████████████████| 100/100 [00:00<00:00, 122.50it/s]\n",
      "100%|████████████████████████████████████████████████████████████████████| 100/100 [00:00<00:00, 138.35it/s]\n",
      "100%|████████████████████████████████████████████████████████████████████| 100/100 [00:00<00:00, 111.96it/s]\n"
     ]
    },
    {
     "name": "stdout",
     "output_type": "stream",
     "text": [
      "extracting subgraph features..\n"
     ]
    },
    {
     "name": "stderr",
     "output_type": "stream",
     "text": [
      "100%|█████████████████████████████████████████████████████████████████████| 700/700 [15:37<00:00,  1.34s/it]\n"
     ]
    },
    {
     "name": "stdout",
     "output_type": "stream",
     "text": [
      "X.shape (700, 1)\n",
      "method = num_nodes, AUC = 0.500000\n",
      "X.shape (700, 1)\n",
      "method = num_edges, AUC = 0.800720\n",
      "X.shape (700, 1)\n",
      "method = min_degree, AUC = 0.653661\n",
      "X.shape (700, 1)\n",
      "method = max_degree, AUC = 0.662065\n",
      "X.shape (700, 1)\n",
      "method = diameter, AUC = 0.815526\n",
      "X.shape (700, 1)\n",
      "method = degree_assortativity_coef, AUC = 0.573429\n",
      "X.shape (700, 1)\n",
      "method = num_cliques, AUC = 0.700080\n",
      "X.shape (700, 1)\n",
      "method = Avg_clustering_coeff, AUC = 0.719088\n",
      "X.shape (700, 1)\n",
      "method = edeg_density, AUC = 0.800720\n",
      "X.shape (700, 25)\n",
      "method = MACC k0=5, AUC = 0.942377\n",
      "X.shape (700, 100)\n",
      "method = MACC k0=10, AUC = 0.956383\n",
      "X.shape (700, 225)\n",
      "method = MACC k0=15, AUC = 0.961184\n",
      "X.shape (700, 400)\n",
      "method = MACC k0=20, AUC = 0.947579\n",
      "Classifying subgraphs in Simmons81-NYU9 ...\n",
      "sampling subgraphs with k=30 nodes\n"
     ]
    },
    {
     "name": "stderr",
     "output_type": "stream",
     "text": [
      "100%|████████████████████████████████████████████████████████████████████| 100/100 [00:00<00:00, 824.35it/s]\n",
      "100%|████████████████████████████████████████████████████████████████████| 100/100 [00:00<00:00, 640.68it/s]\n",
      "100%|████████████████████████████████████████████████████████████████████| 100/100 [00:00<00:00, 822.15it/s]\n",
      "100%|████████████████████████████████████████████████████████████████████| 100/100 [00:00<00:00, 111.89it/s]\n",
      "100%|████████████████████████████████████████████████████████████████████| 100/100 [00:00<00:00, 121.36it/s]\n",
      "100%|████████████████████████████████████████████████████████████████████| 100/100 [00:00<00:00, 139.89it/s]\n",
      "100%|████████████████████████████████████████████████████████████████████| 100/100 [00:00<00:00, 112.44it/s]\n"
     ]
    },
    {
     "name": "stdout",
     "output_type": "stream",
     "text": [
      "extracting subgraph features..\n"
     ]
    },
    {
     "name": "stderr",
     "output_type": "stream",
     "text": [
      "100%|█████████████████████████████████████████████████████████████████████| 700/700 [15:36<00:00,  1.34s/it]\n"
     ]
    },
    {
     "name": "stdout",
     "output_type": "stream",
     "text": [
      "X.shape (700, 1)\n",
      "method = num_nodes, AUC = 0.500000\n",
      "X.shape (700, 1)\n",
      "method = num_edges, AUC = 0.789116\n",
      "X.shape (700, 1)\n",
      "method = min_degree, AUC = 0.562425\n",
      "X.shape (700, 1)\n",
      "method = max_degree, AUC = 0.660864\n",
      "X.shape (700, 1)\n",
      "method = diameter, AUC = 0.757303\n",
      "X.shape (700, 1)\n",
      "method = degree_assortativity_coef, AUC = 0.638255\n",
      "X.shape (700, 1)\n",
      "method = num_cliques, AUC = 0.636455\n",
      "X.shape (700, 1)\n",
      "method = Avg_clustering_coeff, AUC = 0.749100\n",
      "X.shape (700, 1)\n",
      "method = edeg_density, AUC = 0.789116\n",
      "X.shape (700, 25)\n",
      "method = MACC k0=5, AUC = 0.871549\n",
      "X.shape (700, 100)\n",
      "method = MACC k0=10, AUC = 0.924770\n",
      "X.shape (700, 225)\n",
      "method = MACC k0=15, AUC = 0.928772\n",
      "X.shape (700, 400)\n",
      "method = MACC k0=20, AUC = 0.933173\n",
      "Classifying subgraphs in Simmons81-Virginia63 ...\n",
      "sampling subgraphs with k=30 nodes\n"
     ]
    },
    {
     "name": "stderr",
     "output_type": "stream",
     "text": [
      "100%|████████████████████████████████████████████████████████████████████| 100/100 [00:00<00:00, 802.21it/s]\n",
      "100%|████████████████████████████████████████████████████████████████████| 100/100 [00:00<00:00, 648.13it/s]\n",
      "100%|████████████████████████████████████████████████████████████████████| 100/100 [00:00<00:00, 832.79it/s]\n",
      "100%|█████████████████████████████████████████████████████████████████████| 100/100 [00:01<00:00, 83.61it/s]\n",
      "100%|████████████████████████████████████████████████████████████████████| 100/100 [00:00<00:00, 114.89it/s]\n",
      "100%|████████████████████████████████████████████████████████████████████| 100/100 [00:00<00:00, 124.37it/s]\n",
      "100%|████████████████████████████████████████████████████████████████████| 100/100 [00:00<00:00, 103.66it/s]\n"
     ]
    },
    {
     "name": "stdout",
     "output_type": "stream",
     "text": [
      "extracting subgraph features..\n"
     ]
    },
    {
     "name": "stderr",
     "output_type": "stream",
     "text": [
      "100%|█████████████████████████████████████████████████████████████████████| 700/700 [15:37<00:00,  1.34s/it]\n"
     ]
    },
    {
     "name": "stdout",
     "output_type": "stream",
     "text": [
      "X.shape (700, 1)\n",
      "method = num_nodes, AUC = 0.500000\n",
      "X.shape (700, 1)\n",
      "method = num_edges, AUC = 0.818727\n",
      "X.shape (700, 1)\n",
      "method = min_degree, AUC = 0.624850\n",
      "X.shape (700, 1)\n",
      "method = max_degree, AUC = 0.711685\n",
      "X.shape (700, 1)\n",
      "method = diameter, AUC = 0.840136\n",
      "X.shape (700, 1)\n",
      "method = degree_assortativity_coef, AUC = 0.662265\n",
      "X.shape (700, 1)\n",
      "method = num_cliques, AUC = 0.708884\n",
      "X.shape (700, 1)\n",
      "method = Avg_clustering_coeff, AUC = 0.697879\n",
      "X.shape (700, 1)\n",
      "method = edeg_density, AUC = 0.818727\n",
      "X.shape (700, 25)\n",
      "method = MACC k0=5, AUC = 0.878351\n",
      "X.shape (700, 100)\n",
      "method = MACC k0=10, AUC = 0.945978\n",
      "X.shape (700, 225)\n",
      "method = MACC k0=15, AUC = 0.957183\n",
      "X.shape (700, 400)\n",
      "method = MACC k0=20, AUC = 0.952381\n",
      "Classifying subgraphs in Simmons81-UCLA26 ...\n",
      "sampling subgraphs with k=30 nodes\n"
     ]
    },
    {
     "name": "stderr",
     "output_type": "stream",
     "text": [
      "100%|████████████████████████████████████████████████████████████████████| 100/100 [00:00<00:00, 809.80it/s]\n",
      "100%|████████████████████████████████████████████████████████████████████| 100/100 [00:00<00:00, 715.78it/s]\n",
      "100%|████████████████████████████████████████████████████████████████████| 100/100 [00:00<00:00, 788.98it/s]\n",
      "100%|████████████████████████████████████████████████████████████████████| 100/100 [00:00<00:00, 106.50it/s]\n",
      "100%|████████████████████████████████████████████████████████████████████| 100/100 [00:00<00:00, 107.15it/s]\n",
      "100%|████████████████████████████████████████████████████████████████████| 100/100 [00:00<00:00, 125.36it/s]\n",
      "100%|█████████████████████████████████████████████████████████████████████| 100/100 [00:01<00:00, 99.58it/s]\n"
     ]
    },
    {
     "name": "stdout",
     "output_type": "stream",
     "text": [
      "extracting subgraph features..\n"
     ]
    },
    {
     "name": "stderr",
     "output_type": "stream",
     "text": [
      "100%|█████████████████████████████████████████████████████████████████████| 700/700 [15:35<00:00,  1.34s/it]\n"
     ]
    },
    {
     "name": "stdout",
     "output_type": "stream",
     "text": [
      "X.shape (700, 1)\n",
      "method = num_nodes, AUC = 0.500000\n",
      "X.shape (700, 1)\n",
      "method = num_edges, AUC = 0.911365\n",
      "X.shape (700, 1)\n",
      "method = min_degree, AUC = 0.718487\n",
      "X.shape (700, 1)\n",
      "method = max_degree, AUC = 0.833733\n",
      "X.shape (700, 1)\n",
      "method = diameter, AUC = 0.836535\n",
      "X.shape (700, 1)\n",
      "method = degree_assortativity_coef, AUC = 0.637455\n",
      "X.shape (700, 1)\n",
      "method = num_cliques, AUC = 0.771709\n",
      "X.shape (700, 1)\n",
      "method = Avg_clustering_coeff, AUC = 0.832733\n",
      "X.shape (700, 1)\n",
      "method = edeg_density, AUC = 0.911365\n",
      "X.shape (700, 25)\n",
      "method = MACC k0=5, AUC = 0.906763\n",
      "X.shape (700, 100)\n",
      "method = MACC k0=10, AUC = 0.916367\n",
      "X.shape (700, 225)\n",
      "method = MACC k0=15, AUC = 0.886355\n",
      "X.shape (700, 400)\n",
      "method = MACC k0=20, AUC = 0.906763\n",
      "Classifying subgraphs in Simmons81-Wisconsin87 ...\n",
      "sampling subgraphs with k=30 nodes\n"
     ]
    },
    {
     "name": "stderr",
     "output_type": "stream",
     "text": [
      "100%|████████████████████████████████████████████████████████████████████| 100/100 [00:00<00:00, 695.66it/s]\n",
      "100%|████████████████████████████████████████████████████████████████████| 100/100 [00:00<00:00, 656.68it/s]\n",
      "100%|████████████████████████████████████████████████████████████████████| 100/100 [00:00<00:00, 796.22it/s]\n",
      "100%|█████████████████████████████████████████████████████████████████████| 100/100 [00:01<00:00, 97.55it/s]\n",
      "100%|████████████████████████████████████████████████████████████████████| 100/100 [00:00<00:00, 105.82it/s]\n",
      "100%|████████████████████████████████████████████████████████████████████| 100/100 [00:00<00:00, 118.43it/s]\n",
      "100%|█████████████████████████████████████████████████████████████████████| 100/100 [00:01<00:00, 73.25it/s]\n"
     ]
    },
    {
     "name": "stdout",
     "output_type": "stream",
     "text": [
      "extracting subgraph features..\n"
     ]
    },
    {
     "name": "stderr",
     "output_type": "stream",
     "text": [
      "100%|█████████████████████████████████████████████████████████████████████| 700/700 [15:35<00:00,  1.34s/it]\n"
     ]
    },
    {
     "name": "stdout",
     "output_type": "stream",
     "text": [
      "X.shape (700, 1)\n",
      "method = num_nodes, AUC = 0.500000\n",
      "X.shape (700, 1)\n",
      "method = num_edges, AUC = 0.840736\n",
      "X.shape (700, 1)\n",
      "method = min_degree, AUC = 0.627651\n",
      "X.shape (700, 1)\n",
      "method = max_degree, AUC = 0.782913\n",
      "X.shape (700, 1)\n",
      "method = diameter, AUC = 0.865946\n",
      "X.shape (700, 1)\n",
      "method = degree_assortativity_coef, AUC = 0.614646\n",
      "X.shape (700, 1)\n",
      "method = num_cliques, AUC = 0.722689\n",
      "X.shape (700, 1)\n",
      "method = Avg_clustering_coeff, AUC = 0.772709\n",
      "X.shape (700, 1)\n",
      "method = edeg_density, AUC = 0.840736\n",
      "X.shape (700, 25)\n",
      "method = MACC k0=5, AUC = 0.954782\n",
      "X.shape (700, 100)\n",
      "method = MACC k0=10, AUC = 0.972389\n",
      "X.shape (700, 225)\n",
      "method = MACC k0=15, AUC = 0.967187\n",
      "X.shape (700, 400)\n",
      "method = MACC k0=20, AUC = 0.961585\n",
      "Classifying subgraphs in Reed98-NYU9 ...\n",
      "sampling subgraphs with k=30 nodes\n"
     ]
    },
    {
     "name": "stderr",
     "output_type": "stream",
     "text": [
      "100%|████████████████████████████████████████████████████████████████████| 100/100 [00:00<00:00, 652.95it/s]\n",
      "100%|████████████████████████████████████████████████████████████████████| 100/100 [00:00<00:00, 645.33it/s]\n",
      "100%|████████████████████████████████████████████████████████████████████| 100/100 [00:00<00:00, 818.88it/s]\n",
      "100%|████████████████████████████████████████████████████████████████████| 100/100 [00:00<00:00, 110.67it/s]\n",
      "100%|████████████████████████████████████████████████████████████████████| 100/100 [00:00<00:00, 113.89it/s]\n",
      "100%|████████████████████████████████████████████████████████████████████| 100/100 [00:00<00:00, 124.92it/s]\n",
      "100%|█████████████████████████████████████████████████████████████████████| 100/100 [00:01<00:00, 99.08it/s]\n"
     ]
    },
    {
     "name": "stdout",
     "output_type": "stream",
     "text": [
      "extracting subgraph features..\n"
     ]
    },
    {
     "name": "stderr",
     "output_type": "stream",
     "text": [
      "100%|█████████████████████████████████████████████████████████████████████| 700/700 [15:35<00:00,  1.34s/it]\n"
     ]
    },
    {
     "name": "stdout",
     "output_type": "stream",
     "text": [
      "X.shape (700, 1)\n",
      "method = num_nodes, AUC = 0.500000\n",
      "X.shape (700, 1)\n",
      "method = num_edges, AUC = 0.821329\n",
      "X.shape (700, 1)\n",
      "method = min_degree, AUC = 0.555822\n",
      "X.shape (700, 1)\n",
      "method = max_degree, AUC = 0.795518\n",
      "X.shape (700, 1)\n",
      "method = diameter, AUC = 0.783713\n",
      "X.shape (700, 1)\n",
      "method = degree_assortativity_coef, AUC = 0.571829\n",
      "X.shape (700, 1)\n",
      "method = num_cliques, AUC = 0.747099\n",
      "X.shape (700, 1)\n",
      "method = Avg_clustering_coeff, AUC = 0.695878\n",
      "X.shape (700, 1)\n",
      "method = edeg_density, AUC = 0.821329\n",
      "X.shape (700, 25)\n",
      "method = MACC k0=5, AUC = 0.915966\n",
      "X.shape (700, 100)\n",
      "method = MACC k0=10, AUC = 0.929172\n",
      "X.shape (700, 225)\n",
      "method = MACC k0=15, AUC = 0.945578\n",
      "X.shape (700, 400)\n",
      "method = MACC k0=20, AUC = 0.931973\n",
      "Classifying subgraphs in Reed98-Virginia63 ...\n",
      "sampling subgraphs with k=30 nodes\n"
     ]
    },
    {
     "name": "stderr",
     "output_type": "stream",
     "text": [
      "100%|████████████████████████████████████████████████████████████████████| 100/100 [00:00<00:00, 830.99it/s]\n",
      "100%|████████████████████████████████████████████████████████████████████| 100/100 [00:00<00:00, 749.21it/s]\n",
      "100%|████████████████████████████████████████████████████████████████████| 100/100 [00:00<00:00, 817.40it/s]\n",
      "100%|████████████████████████████████████████████████████████████████████| 100/100 [00:00<00:00, 104.09it/s]\n",
      "100%|████████████████████████████████████████████████████████████████████| 100/100 [00:00<00:00, 109.01it/s]\n",
      "100%|████████████████████████████████████████████████████████████████████| 100/100 [00:00<00:00, 122.84it/s]\n",
      "100%|████████████████████████████████████████████████████████████████████| 100/100 [00:00<00:00, 100.55it/s]\n"
     ]
    },
    {
     "name": "stdout",
     "output_type": "stream",
     "text": [
      "extracting subgraph features..\n"
     ]
    },
    {
     "name": "stderr",
     "output_type": "stream",
     "text": [
      "100%|█████████████████████████████████████████████████████████████████████| 700/700 [15:33<00:00,  1.33s/it]\n"
     ]
    },
    {
     "name": "stdout",
     "output_type": "stream",
     "text": [
      "X.shape (700, 1)\n",
      "method = num_nodes, AUC = 0.500000\n",
      "X.shape (700, 1)\n",
      "method = num_edges, AUC = 0.884754\n",
      "X.shape (700, 1)\n",
      "method = min_degree, AUC = 0.615046\n",
      "X.shape (700, 1)\n",
      "method = max_degree, AUC = 0.814126\n",
      "X.shape (700, 1)\n",
      "method = diameter, AUC = 0.826130\n",
      "X.shape (700, 1)\n",
      "method = degree_assortativity_coef, AUC = 0.715086\n",
      "X.shape (700, 1)\n",
      "method = num_cliques, AUC = 0.767707\n",
      "X.shape (700, 1)\n",
      "method = Avg_clustering_coeff, AUC = 0.837935\n",
      "X.shape (700, 1)\n",
      "method = edeg_density, AUC = 0.884754\n",
      "X.shape (700, 25)\n",
      "method = MACC k0=5, AUC = 0.906763\n",
      "X.shape (700, 100)\n",
      "method = MACC k0=10, AUC = 0.912765\n",
      "X.shape (700, 225)\n",
      "method = MACC k0=15, AUC = 0.922369\n",
      "X.shape (700, 400)\n",
      "method = MACC k0=20, AUC = 0.921168\n",
      "Classifying subgraphs in Reed98-UCLA26 ...\n",
      "sampling subgraphs with k=30 nodes\n"
     ]
    },
    {
     "name": "stderr",
     "output_type": "stream",
     "text": [
      "100%|████████████████████████████████████████████████████████████████████| 100/100 [00:00<00:00, 811.50it/s]\n",
      "100%|████████████████████████████████████████████████████████████████████| 100/100 [00:00<00:00, 712.46it/s]\n",
      "100%|████████████████████████████████████████████████████████████████████| 100/100 [00:00<00:00, 812.70it/s]\n",
      "100%|████████████████████████████████████████████████████████████████████| 100/100 [00:00<00:00, 112.29it/s]\n",
      "100%|████████████████████████████████████████████████████████████████████| 100/100 [00:00<00:00, 122.25it/s]\n",
      "100%|████████████████████████████████████████████████████████████████████| 100/100 [00:00<00:00, 131.92it/s]\n",
      "100%|████████████████████████████████████████████████████████████████████| 100/100 [00:00<00:00, 114.17it/s]\n"
     ]
    },
    {
     "name": "stdout",
     "output_type": "stream",
     "text": [
      "extracting subgraph features..\n"
     ]
    },
    {
     "name": "stderr",
     "output_type": "stream",
     "text": [
      "100%|█████████████████████████████████████████████████████████████████████| 700/700 [15:36<00:00,  1.34s/it]\n"
     ]
    },
    {
     "name": "stdout",
     "output_type": "stream",
     "text": [
      "X.shape (700, 1)\n",
      "method = num_nodes, AUC = 0.500000\n",
      "X.shape (700, 1)\n",
      "method = num_edges, AUC = 0.765106\n",
      "X.shape (700, 1)\n",
      "method = min_degree, AUC = 0.613445\n",
      "X.shape (700, 1)\n",
      "method = max_degree, AUC = 0.677871\n",
      "X.shape (700, 1)\n",
      "method = diameter, AUC = 0.804922\n",
      "X.shape (700, 1)\n",
      "method = degree_assortativity_coef, AUC = 0.663866\n",
      "X.shape (700, 1)\n",
      "method = num_cliques, AUC = 0.653261\n",
      "X.shape (700, 1)\n",
      "method = Avg_clustering_coeff, AUC = 0.703882\n",
      "X.shape (700, 1)\n",
      "method = edeg_density, AUC = 0.765106\n",
      "X.shape (700, 25)\n",
      "method = MACC k0=5, AUC = 0.852741\n",
      "X.shape (700, 100)\n",
      "method = MACC k0=10, AUC = 0.898359\n",
      "X.shape (700, 225)\n",
      "method = MACC k0=15, AUC = 0.893557\n",
      "X.shape (700, 400)\n",
      "method = MACC k0=20, AUC = 0.903561\n",
      "Classifying subgraphs in Reed98-Wisconsin87 ...\n",
      "sampling subgraphs with k=30 nodes\n"
     ]
    },
    {
     "name": "stderr",
     "output_type": "stream",
     "text": [
      "100%|████████████████████████████████████████████████████████████████████| 100/100 [00:00<00:00, 827.54it/s]\n",
      "100%|████████████████████████████████████████████████████████████████████| 100/100 [00:00<00:00, 582.65it/s]\n",
      "100%|████████████████████████████████████████████████████████████████████| 100/100 [00:00<00:00, 798.54it/s]\n",
      "100%|█████████████████████████████████████████████████████████████████████| 100/100 [00:01<00:00, 67.30it/s]\n",
      "100%|████████████████████████████████████████████████████████████████████| 100/100 [00:00<00:00, 116.07it/s]\n",
      "100%|████████████████████████████████████████████████████████████████████| 100/100 [00:00<00:00, 123.55it/s]\n",
      "100%|█████████████████████████████████████████████████████████████████████| 100/100 [00:01<00:00, 99.72it/s]\n"
     ]
    },
    {
     "name": "stdout",
     "output_type": "stream",
     "text": [
      "extracting subgraph features..\n"
     ]
    },
    {
     "name": "stderr",
     "output_type": "stream",
     "text": [
      "100%|█████████████████████████████████████████████████████████████████████| 700/700 [15:37<00:00,  1.34s/it]\n"
     ]
    },
    {
     "name": "stdout",
     "output_type": "stream",
     "text": [
      "X.shape (700, 1)\n",
      "method = num_nodes, AUC = 0.500000\n",
      "X.shape (700, 1)\n",
      "method = num_edges, AUC = 0.817927\n",
      "X.shape (700, 1)\n",
      "method = min_degree, AUC = 0.603041\n",
      "X.shape (700, 1)\n",
      "method = max_degree, AUC = 0.664866\n",
      "X.shape (700, 1)\n",
      "method = diameter, AUC = 0.853141\n",
      "X.shape (700, 1)\n",
      "method = degree_assortativity_coef, AUC = 0.579032\n",
      "X.shape (700, 1)\n",
      "method = num_cliques, AUC = 0.637255\n",
      "X.shape (700, 1)\n",
      "method = Avg_clustering_coeff, AUC = 0.697079\n",
      "X.shape (700, 1)\n",
      "method = edeg_density, AUC = 0.817927\n",
      "X.shape (700, 25)\n",
      "method = MACC k0=5, AUC = 0.886355\n",
      "X.shape (700, 100)\n",
      "method = MACC k0=10, AUC = 0.923970\n",
      "X.shape (700, 225)\n",
      "method = MACC k0=15, AUC = 0.938375\n",
      "X.shape (700, 400)\n",
      "method = MACC k0=20, AUC = 0.926771\n",
      "Classifying subgraphs in NYU9-Virginia63 ...\n",
      "sampling subgraphs with k=30 nodes\n"
     ]
    },
    {
     "name": "stderr",
     "output_type": "stream",
     "text": [
      "100%|████████████████████████████████████████████████████████████████████| 100/100 [00:00<00:00, 828.41it/s]\n",
      "100%|████████████████████████████████████████████████████████████████████| 100/100 [00:00<00:00, 714.83it/s]\n",
      "100%|████████████████████████████████████████████████████████████████████| 100/100 [00:00<00:00, 823.06it/s]\n",
      "100%|████████████████████████████████████████████████████████████████████| 100/100 [00:00<00:00, 108.87it/s]\n",
      "100%|████████████████████████████████████████████████████████████████████| 100/100 [00:00<00:00, 108.58it/s]\n",
      "100%|████████████████████████████████████████████████████████████████████| 100/100 [00:00<00:00, 127.18it/s]\n",
      "100%|█████████████████████████████████████████████████████████████████████| 100/100 [00:01<00:00, 98.85it/s]\n"
     ]
    },
    {
     "name": "stdout",
     "output_type": "stream",
     "text": [
      "extracting subgraph features..\n"
     ]
    },
    {
     "name": "stderr",
     "output_type": "stream",
     "text": [
      "100%|█████████████████████████████████████████████████████████████████████| 700/700 [15:36<00:00,  1.34s/it]\n"
     ]
    },
    {
     "name": "stdout",
     "output_type": "stream",
     "text": [
      "X.shape (700, 1)\n",
      "method = num_nodes, AUC = 0.500000\n",
      "X.shape (700, 1)\n",
      "method = num_edges, AUC = 0.828531\n",
      "X.shape (700, 1)\n",
      "method = min_degree, AUC = 0.558423\n",
      "X.shape (700, 1)\n",
      "method = max_degree, AUC = 0.794718\n",
      "X.shape (700, 1)\n",
      "method = diameter, AUC = 0.791116\n",
      "X.shape (700, 1)\n",
      "method = degree_assortativity_coef, AUC = 0.705082\n",
      "X.shape (700, 1)\n",
      "method = num_cliques, AUC = 0.677071\n",
      "X.shape (700, 1)\n",
      "method = Avg_clustering_coeff, AUC = 0.750300\n",
      "X.shape (700, 1)\n",
      "method = edeg_density, AUC = 0.828531\n",
      "X.shape (700, 25)\n",
      "method = MACC k0=5, AUC = 0.880752\n",
      "X.shape (700, 100)\n",
      "method = MACC k0=10, AUC = 0.878351\n",
      "X.shape (700, 225)\n",
      "method = MACC k0=15, AUC = 0.903561\n",
      "X.shape (700, 400)\n",
      "method = MACC k0=20, AUC = 0.878351\n",
      "Classifying subgraphs in NYU9-UCLA26 ...\n",
      "sampling subgraphs with k=30 nodes\n"
     ]
    },
    {
     "name": "stderr",
     "output_type": "stream",
     "text": [
      "100%|████████████████████████████████████████████████████████████████████| 100/100 [00:00<00:00, 759.56it/s]\n",
      "100%|████████████████████████████████████████████████████████████████████| 100/100 [00:00<00:00, 610.69it/s]\n",
      "100%|████████████████████████████████████████████████████████████████████| 100/100 [00:00<00:00, 840.11it/s]\n",
      "100%|████████████████████████████████████████████████████████████████████| 100/100 [00:00<00:00, 120.89it/s]\n",
      "100%|████████████████████████████████████████████████████████████████████| 100/100 [00:00<00:00, 121.12it/s]\n",
      "100%|████████████████████████████████████████████████████████████████████| 100/100 [00:00<00:00, 133.62it/s]\n",
      "100%|████████████████████████████████████████████████████████████████████| 100/100 [00:00<00:00, 101.92it/s]\n"
     ]
    },
    {
     "name": "stdout",
     "output_type": "stream",
     "text": [
      "extracting subgraph features..\n"
     ]
    },
    {
     "name": "stderr",
     "output_type": "stream",
     "text": [
      "100%|█████████████████████████████████████████████████████████████████████| 700/700 [15:38<00:00,  1.34s/it]\n"
     ]
    },
    {
     "name": "stdout",
     "output_type": "stream",
     "text": [
      "X.shape (700, 1)\n",
      "method = num_nodes, AUC = 0.500000\n",
      "X.shape (700, 1)\n",
      "method = num_edges, AUC = 0.829532\n",
      "X.shape (700, 1)\n",
      "method = min_degree, AUC = 0.697079\n",
      "X.shape (700, 1)\n",
      "method = max_degree, AUC = 0.766307\n",
      "X.shape (700, 1)\n",
      "method = diameter, AUC = 0.826531\n",
      "X.shape (700, 1)\n",
      "method = degree_assortativity_coef, AUC = 0.673870\n",
      "X.shape (700, 1)\n",
      "method = num_cliques, AUC = 0.752501\n",
      "X.shape (700, 1)\n",
      "method = Avg_clustering_coeff, AUC = 0.798319\n",
      "X.shape (700, 1)\n",
      "method = edeg_density, AUC = 0.829532\n",
      "X.shape (700, 25)\n",
      "method = MACC k0=5, AUC = 0.919968\n",
      "X.shape (700, 100)\n",
      "method = MACC k0=10, AUC = 0.943177\n",
      "X.shape (700, 225)\n",
      "method = MACC k0=15, AUC = 0.944778\n",
      "X.shape (700, 400)\n",
      "method = MACC k0=20, AUC = 0.925170\n",
      "Classifying subgraphs in NYU9-Wisconsin87 ...\n",
      "sampling subgraphs with k=30 nodes\n"
     ]
    },
    {
     "name": "stderr",
     "output_type": "stream",
     "text": [
      "100%|████████████████████████████████████████████████████████████████████| 100/100 [00:00<00:00, 757.67it/s]\n",
      "100%|████████████████████████████████████████████████████████████████████| 100/100 [00:00<00:00, 670.48it/s]\n",
      "100%|████████████████████████████████████████████████████████████████████| 100/100 [00:00<00:00, 803.15it/s]\n",
      "100%|████████████████████████████████████████████████████████████████████| 100/100 [00:00<00:00, 107.83it/s]\n",
      "100%|████████████████████████████████████████████████████████████████████| 100/100 [00:00<00:00, 110.90it/s]\n",
      "100%|████████████████████████████████████████████████████████████████████| 100/100 [00:00<00:00, 122.22it/s]\n",
      "100%|█████████████████████████████████████████████████████████████████████| 100/100 [00:01<00:00, 99.03it/s]\n"
     ]
    },
    {
     "name": "stdout",
     "output_type": "stream",
     "text": [
      "extracting subgraph features..\n"
     ]
    },
    {
     "name": "stderr",
     "output_type": "stream",
     "text": [
      "100%|█████████████████████████████████████████████████████████████████████| 700/700 [15:38<00:00,  1.34s/it]\n"
     ]
    },
    {
     "name": "stdout",
     "output_type": "stream",
     "text": [
      "X.shape (700, 1)\n",
      "method = num_nodes, AUC = 0.500000\n",
      "X.shape (700, 1)\n",
      "method = num_edges, AUC = 0.853541\n",
      "X.shape (700, 1)\n",
      "method = min_degree, AUC = 0.613245\n",
      "X.shape (700, 1)\n",
      "method = max_degree, AUC = 0.774710\n",
      "X.shape (700, 1)\n",
      "method = diameter, AUC = 0.828731\n",
      "X.shape (700, 1)\n",
      "method = degree_assortativity_coef, AUC = 0.703481\n",
      "X.shape (700, 1)\n",
      "method = num_cliques, AUC = 0.688075\n",
      "X.shape (700, 1)\n",
      "method = Avg_clustering_coeff, AUC = 0.776711\n",
      "X.shape (700, 1)\n",
      "method = edeg_density, AUC = 0.853541\n",
      "X.shape (700, 25)\n",
      "method = MACC k0=5, AUC = 0.916767\n",
      "X.shape (700, 100)\n",
      "method = MACC k0=10, AUC = 0.947579\n",
      "X.shape (700, 225)\n",
      "method = MACC k0=15, AUC = 0.958383\n",
      "X.shape (700, 400)\n",
      "method = MACC k0=20, AUC = 0.949180\n",
      "Classifying subgraphs in Virginia63-UCLA26 ...\n",
      "sampling subgraphs with k=30 nodes\n"
     ]
    },
    {
     "name": "stderr",
     "output_type": "stream",
     "text": [
      "100%|████████████████████████████████████████████████████████████████████| 100/100 [00:00<00:00, 859.67it/s]\n",
      "100%|████████████████████████████████████████████████████████████████████| 100/100 [00:00<00:00, 596.87it/s]\n",
      "100%|████████████████████████████████████████████████████████████████████| 100/100 [00:00<00:00, 842.67it/s]\n",
      "100%|████████████████████████████████████████████████████████████████████| 100/100 [00:00<00:00, 124.98it/s]\n",
      "100%|████████████████████████████████████████████████████████████████████| 100/100 [00:00<00:00, 123.21it/s]\n",
      "100%|████████████████████████████████████████████████████████████████████| 100/100 [00:00<00:00, 137.50it/s]\n",
      "100%|████████████████████████████████████████████████████████████████████| 100/100 [00:00<00:00, 112.73it/s]\n"
     ]
    },
    {
     "name": "stdout",
     "output_type": "stream",
     "text": [
      "extracting subgraph features..\n"
     ]
    },
    {
     "name": "stderr",
     "output_type": "stream",
     "text": [
      "100%|█████████████████████████████████████████████████████████████████████| 700/700 [15:38<00:00,  1.34s/it]\n"
     ]
    },
    {
     "name": "stdout",
     "output_type": "stream",
     "text": [
      "X.shape (700, 1)\n",
      "method = num_nodes, AUC = 0.500000\n",
      "X.shape (700, 1)\n",
      "method = num_edges, AUC = 0.850740\n",
      "X.shape (700, 1)\n",
      "method = min_degree, AUC = 0.561024\n",
      "X.shape (700, 1)\n",
      "method = max_degree, AUC = 0.771709\n",
      "X.shape (700, 1)\n",
      "method = diameter, AUC = 0.835134\n",
      "X.shape (700, 1)\n",
      "method = degree_assortativity_coef, AUC = 0.703882\n",
      "X.shape (700, 1)\n",
      "method = num_cliques, AUC = 0.753101\n",
      "X.shape (700, 1)\n",
      "method = Avg_clustering_coeff, AUC = 0.750700\n",
      "X.shape (700, 1)\n",
      "method = edeg_density, AUC = 0.850740\n",
      "X.shape (700, 25)\n",
      "method = MACC k0=5, AUC = 0.888355\n",
      "X.shape (700, 100)\n",
      "method = MACC k0=10, AUC = 0.903962\n",
      "X.shape (700, 225)\n",
      "method = MACC k0=15, AUC = 0.901961\n",
      "X.shape (700, 400)\n",
      "method = MACC k0=20, AUC = 0.892357\n",
      "Classifying subgraphs in Virginia63-Wisconsin87 ...\n",
      "sampling subgraphs with k=30 nodes\n"
     ]
    },
    {
     "name": "stderr",
     "output_type": "stream",
     "text": [
      "100%|████████████████████████████████████████████████████████████████████| 100/100 [00:00<00:00, 847.29it/s]\n",
      "100%|████████████████████████████████████████████████████████████████████| 100/100 [00:00<00:00, 740.70it/s]\n",
      "100%|████████████████████████████████████████████████████████████████████| 100/100 [00:00<00:00, 825.98it/s]\n",
      "100%|████████████████████████████████████████████████████████████████████| 100/100 [00:00<00:00, 118.92it/s]\n",
      "100%|████████████████████████████████████████████████████████████████████| 100/100 [00:00<00:00, 115.95it/s]\n",
      "100%|████████████████████████████████████████████████████████████████████| 100/100 [00:00<00:00, 137.72it/s]\n",
      "100%|████████████████████████████████████████████████████████████████████| 100/100 [00:00<00:00, 112.12it/s]\n"
     ]
    },
    {
     "name": "stdout",
     "output_type": "stream",
     "text": [
      "extracting subgraph features..\n"
     ]
    },
    {
     "name": "stderr",
     "output_type": "stream",
     "text": [
      "100%|█████████████████████████████████████████████████████████████████████| 700/700 [15:36<00:00,  1.34s/it]\n"
     ]
    },
    {
     "name": "stdout",
     "output_type": "stream",
     "text": [
      "X.shape (700, 1)\n",
      "method = num_nodes, AUC = 0.500000\n",
      "X.shape (700, 1)\n",
      "method = num_edges, AUC = 0.834334\n",
      "X.shape (700, 1)\n",
      "method = min_degree, AUC = 0.593437\n",
      "X.shape (700, 1)\n",
      "method = max_degree, AUC = 0.714886\n",
      "X.shape (700, 1)\n",
      "method = diameter, AUC = 0.822329\n",
      "X.shape (700, 1)\n",
      "method = degree_assortativity_coef, AUC = 0.654662\n",
      "X.shape (700, 1)\n",
      "method = num_cliques, AUC = 0.693878\n",
      "X.shape (700, 1)\n",
      "method = Avg_clustering_coeff, AUC = 0.710284\n",
      "X.shape (700, 1)\n",
      "method = edeg_density, AUC = 0.834334\n",
      "X.shape (700, 25)\n",
      "method = MACC k0=5, AUC = 0.911965\n",
      "X.shape (700, 100)\n",
      "method = MACC k0=10, AUC = 0.899960\n",
      "X.shape (700, 225)\n",
      "method = MACC k0=15, AUC = 0.887955\n",
      "X.shape (700, 400)\n",
      "method = MACC k0=20, AUC = 0.916367\n",
      "Classifying subgraphs in UCLA26-Wisconsin87 ...\n",
      "sampling subgraphs with k=30 nodes\n"
     ]
    },
    {
     "name": "stderr",
     "output_type": "stream",
     "text": [
      "100%|████████████████████████████████████████████████████████████████████| 100/100 [00:00<00:00, 708.73it/s]\n",
      "100%|████████████████████████████████████████████████████████████████████| 100/100 [00:00<00:00, 735.19it/s]\n",
      "100%|████████████████████████████████████████████████████████████████████| 100/100 [00:00<00:00, 854.74it/s]\n",
      "100%|█████████████████████████████████████████████████████████████████████| 100/100 [00:01<00:00, 91.48it/s]\n",
      "100%|████████████████████████████████████████████████████████████████████| 100/100 [00:00<00:00, 123.98it/s]\n",
      "100%|████████████████████████████████████████████████████████████████████| 100/100 [00:00<00:00, 141.06it/s]\n",
      "100%|████████████████████████████████████████████████████████████████████| 100/100 [00:00<00:00, 111.07it/s]\n"
     ]
    },
    {
     "name": "stdout",
     "output_type": "stream",
     "text": [
      "extracting subgraph features..\n"
     ]
    },
    {
     "name": "stderr",
     "output_type": "stream",
     "text": [
      "100%|█████████████████████████████████████████████████████████████████████| 700/700 [15:34<00:00,  1.34s/it]\n"
     ]
    },
    {
     "name": "stdout",
     "output_type": "stream",
     "text": [
      "X.shape (700, 1)\n",
      "method = num_nodes, AUC = 0.500000\n",
      "X.shape (700, 1)\n",
      "method = num_edges, AUC = 0.860744\n",
      "X.shape (700, 1)\n",
      "method = min_degree, AUC = 0.649460\n",
      "X.shape (700, 1)\n",
      "method = max_degree, AUC = 0.789316\n",
      "X.shape (700, 1)\n",
      "method = diameter, AUC = 0.882753\n",
      "X.shape (700, 1)\n",
      "method = degree_assortativity_coef, AUC = 0.677471\n",
      "X.shape (700, 1)\n",
      "method = num_cliques, AUC = 0.765306\n",
      "X.shape (700, 1)\n",
      "method = Avg_clustering_coeff, AUC = 0.789116\n",
      "X.shape (700, 1)\n",
      "method = edeg_density, AUC = 0.860744\n",
      "X.shape (700, 25)\n",
      "method = MACC k0=5, AUC = 0.910764\n",
      "X.shape (700, 100)\n",
      "method = MACC k0=10, AUC = 0.950780\n",
      "X.shape (700, 225)\n",
      "method = MACC k0=15, AUC = 0.951581\n",
      "X.shape (700, 400)\n",
      "method = MACC k0=20, AUC = 0.963585\n"
     ]
    }
   ],
   "source": [
    "# Subgraph sampling for subgraph classification\n",
    "# Output = subgraph_list as NNetwork objects\n",
    "\n",
    "ntwk_list = ['Caltech36', 'Simmons81', 'Reed98', 'NYU9', 'Virginia63', 'UCLA26', 'Wisconsin87'] # Wisconsin87, UCLA26, Caltech36\n",
    "\n",
    "#ntwk_list = ['Caltech36', 'Simmons81', 'Reed98', 'NYU9'] # Wisconsin87, UCLA26, Caltech36\n",
    "\n",
    "label_list = []\n",
    "subgraph_list = []\n",
    "num_subgraphs = 100\n",
    "k_list = [30]\n",
    "k0_list = [5,10,15,20]\n",
    "\n",
    "#X_MACC = []\n",
    "#X_edge_density = []\n",
    "#X_adj = []\n",
    "\n",
    "nn_network_list = []\n",
    "for ntwk in ntwk_list:\n",
    "    ntwk_nonumber = ''.join([i for i in ntwk if not i.isdigit()])\n",
    "    path = \"Data/Facebook/\" + str(ntwk) + '.txt'\n",
    "    G = nn.NNetwork()\n",
    "    G.load_add_edges(path, increment_weights=False, use_genfromtxt=True)\n",
    "    nn_network_list.append(G)\n",
    "    print('num nodes in G', len(G.nodes()))\n",
    "    print('num edges in G', len(G.get_edges()))\n",
    "\n",
    "y = [0]*num_subgraphs + [1]*num_subgraphs\n",
    "\n",
    "\n",
    "for trial in np.arange(10):\n",
    "    results_all = {}\n",
    "    for a in np.arange(len(nn_network_list)):\n",
    "        for b in np.arange(a+1, len(nn_network_list)):\n",
    "            if a != b:\n",
    "                nn_network_list_sub = [nn_network_list[a],nn_network_list[b]]\n",
    "                print(\"Classifying subgraphs in {}-{} ...\".format(ntwk_list[a], ntwk_list[b]))\n",
    "\n",
    "                subgraph_list_dict = {}\n",
    "                output_dict_list_total = {}\n",
    "\n",
    "                for k in k_list:\n",
    "                    print(\"sampling subgraphs with k={} nodes\".format(k))\n",
    "                    subgraph_list = []\n",
    "                    for q in np.arange(len(nn_network_list)):\n",
    "                        G = nn_network_list[q]\n",
    "\n",
    "                        for i in trange(num_subgraphs):\n",
    "                            label_list.append(str(ntwk))\n",
    "\n",
    "                            # take the induced subgraph \n",
    "                            #X, embs = G.get_patches(k=k, sample_size=10, skip_folded_hom=False, sampling_alg = 'pivot')\n",
    "                            #H = G.subgraph(embs[-1]) # take the last instance of MCMC sampling\n",
    "\n",
    "                            H = G.k_node_ind_subgraph(k=k)\n",
    "                            while H is None:\n",
    "                                H = G.k_node_ind_subgraph(k=k)\n",
    "\n",
    "                            #A_adj = H.get_adjacency_matrix()\n",
    "                            subgraph_list.append(H)\n",
    "                            #subgraph_list.append(A_adj)\n",
    "\n",
    "                            \"\"\"\n",
    "                            ## compute summary stats of subgraphs \n",
    "\n",
    "                            A_adj = H.get_adjacency_matrix()\n",
    "                            X_adj.append(A_adj)\n",
    "\n",
    "                            X0, embs0 = H.get_patches(k=k0, sample_size=1000, skip_folded_hom=False, sampling_alg = 'pivot')\n",
    "                            MACC = np.sum(X0, axis=1)/X0.shape[1]\n",
    "                            MACC = MACC.reshape(k0,k0)\n",
    "                            X_MACC.append(MACC)\n",
    "\n",
    "                            X_edge_density.append(np.linalg.norm(A_adj, 1)/len(H.nodes()))\n",
    "                            \"\"\"\n",
    "\n",
    "                    subgraph_list_dict.update({\"k={}\".format(k) : subgraph_list})\n",
    "\n",
    "                    print(\"extracting subgraph features..\")\n",
    "                    output_dict_list = datagen_graph_features(X=subgraph_list, k0_list = k0_list)\n",
    "                    results_dict_total = run_binary_classification(output_dict_list, y=y, scale=0.3)\n",
    "\n",
    "                    output_dict_list_total.update({\"subgraph_list\": subgraph_list_dict})\n",
    "                    output_dict_list_total.update({\"k={}\".format(k): results_dict_total})\n",
    "                output_dict_list_total.update({\"subgraph_list\": subgraph_list_dict})\n",
    "                results_all.update({\"{}-{}\".format(ntwk_list[a], ntwk_list[b]) : output_dict_list_total})\n",
    "                #np.save(\"Output_files/subgraph_classification_data30_{}\".format(int(trial)), results_all)\n",
    "                np.save(\"Output_files/subgraph_classification_data30_\"+str(trial), results_all)"
   ]
  },
  {
   "cell_type": "code",
   "execution_count": 67,
   "id": "99b91d6f",
   "metadata": {},
   "outputs": [],
   "source": [
    "path = \"Output_files/subgraph_classification_data30.npy\"\n",
    "a = np.load(path, allow_pickle=True).item()"
   ]
  },
  {
   "cell_type": "code",
   "execution_count": 70,
   "id": "a5dde96d",
   "metadata": {},
   "outputs": [
    {
     "data": {
      "text/plain": [
       "dict_keys(['Wisconsin87-Simmons81', 'Wisconsin87-Reed98', 'Wisconsin87-NYU9', 'Wisconsin87-Virginia63', 'Wisconsin87-UCLA26', 'Wisconsin87-Wisconsin87'])"
      ]
     },
     "execution_count": 70,
     "metadata": {},
     "output_type": "execute_result"
    }
   ],
   "source": [
    "a.keys()"
   ]
  },
  {
   "cell_type": "code",
   "execution_count": 72,
   "id": "59ace428",
   "metadata": {},
   "outputs": [
    {
     "data": {
      "text/plain": [
       "dict_keys(['Wisconsin87-Simmons81', 'Wisconsin87-Reed98', 'Wisconsin87-NYU9', 'Wisconsin87-Virginia63', 'Wisconsin87-UCLA26', 'Wisconsin87-Wisconsin87'])"
      ]
     },
     "execution_count": 72,
     "metadata": {},
     "output_type": "execute_result"
    }
   ],
   "source": [
    "results_all.keys()"
   ]
  },
  {
   "cell_type": "code",
   "execution_count": 32,
   "id": "dd71e3c2",
   "metadata": {},
   "outputs": [
    {
     "name": "stdout",
     "output_type": "stream",
     "text": [
      "num nodes in G 23842\n",
      "num edges in G 1671904\n",
      "num nodes in G 20467\n",
      "num edges in G 1495226\n",
      "sampling subgraphs with k=110 nodes\n"
     ]
    },
    {
     "name": "stderr",
     "output_type": "stream",
     "text": [
      "100%|█████████████████████████████████████████| 100/100 [00:20<00:00,  4.84it/s]\n",
      "100%|█████████████████████████████████████████| 100/100 [00:19<00:00,  5.20it/s]\n"
     ]
    },
    {
     "name": "stdout",
     "output_type": "stream",
     "text": [
      "extracting subgraph features..\n"
     ]
    },
    {
     "name": "stderr",
     "output_type": "stream",
     "text": [
      " 55%|██████████████████████▌                  | 110/200 [23:43<18:55, 12.61s/it]/Users/hanbaek/opt/miniconda3/envs/hlyuenv/lib/python3.9/site-packages/networkx/algorithms/assortativity/correlation.py:298: RuntimeWarning: invalid value encountered in double_scalars\n",
      "  return (xy * (M - ab)).sum() / np.sqrt(vara * varb)\n",
      "100%|█████████████████████████████████████████| 200/200 [45:41<00:00, 13.71s/it]"
     ]
    },
    {
     "name": "stdout",
     "output_type": "stream",
     "text": [
      "X.shape (200, 1)\n",
      "method = num_nodes, AUC = 0.467587\n",
      "X.shape (200, 1)\n",
      "method = num_edges, AUC = 0.462185\n",
      "X.shape (200, 1)\n",
      "method = min_degree, AUC = 0.513405\n",
      "X.shape (200, 1)\n",
      "method = max_degree, AUC = 0.665866\n",
      "X.shape (200, 1)\n",
      "method = diameter, AUC = 0.518607\n",
      "X.shape (200, 1)\n",
      "method = degree_assortativity_coef, AUC = 0.617047\n",
      "X.shape (200, 1)\n",
      "method = num_cliques, AUC = 0.486595\n",
      "X.shape (200, 1)\n",
      "method = Avg_clustering_coeff, AUC = 0.656663\n",
      "X.shape (200, 1)\n",
      "method = edeg_density, AUC = 0.522209\n",
      "X.shape (200, 900)\n",
      "method = MACC k0=30, AUC = 0.745898\n",
      "X.shape (200, 1600)\n",
      "method = MACC k0=40, AUC = 0.787915\n",
      "X.shape (200, 2500)\n",
      "method = MACC k0=50, AUC = 0.749500\n",
      "X.shape (200, 3600)\n",
      "method = MACC k0=60, AUC = 0.757903\n",
      "X.shape (200, 4900)\n",
      "method = MACC k0=70, AUC = 0.793517\n"
     ]
    },
    {
     "name": "stderr",
     "output_type": "stream",
     "text": [
      "\n"
     ]
    }
   ],
   "source": [
    "# Subgraph sampling for subgraph classification\n",
    "# Output = subgraph_list as NNetwork objects\n",
    "\n",
    "ntwk_list = ['Wisconsin87', 'UCLA26'] # Wisconsin87, UCLA26, Caltech36\n",
    "label_list = []\n",
    "subgraph_list = []\n",
    "num_subgraphs = 100\n",
    "k_list = [110]\n",
    "k0_list = [30,40,50,60,70]\n",
    "\n",
    "#X_MACC = []\n",
    "#X_edge_density = []\n",
    "#X_adj = []\n",
    "\n",
    "nn_network_list = []\n",
    "for ntwk in ntwk_list:\n",
    "    ntwk_nonumber = ''.join([i for i in ntwk if not i.isdigit()])\n",
    "    path = \"Data/Facebook/\" + str(ntwk) + '.txt'\n",
    "    G = nn.NNetwork()\n",
    "    G.load_add_edges(path, increment_weights=False, use_genfromtxt=True)\n",
    "    nn_network_list.append(G)\n",
    "    print('num nodes in G', len(G.nodes()))\n",
    "    print('num edges in G', len(G.get_edges()))\n",
    "\n",
    "y = [0]*num_subgraphs + [1]*num_subgraphs\n",
    "\n",
    "subgraph_list_dict = {}\n",
    "output_dict_list_total = {}\n",
    "\n",
    "for k in k_list:\n",
    "    print(\"sampling subgraphs with k={} nodes\".format(k)\n",
    "    subgraph_list = []\n",
    "    for a in np.arange(len(nn_network_list)):\n",
    "        G = nn_network_list[a]\n",
    "        \n",
    "        for i in trange(num_subgraphs):\n",
    "            label_list.append(str(ntwk))\n",
    "\n",
    "            # take the induced subgraph \n",
    "            X, embs = G.get_patches(k=k, sample_size=10, skip_folded_hom=False, sampling_alg = 'pivot')\n",
    "            H = G.subgraph(embs[-1]) # take the last instance of MCMC sampling\n",
    "            #A_adj = H.get_adjacency_matrix()\n",
    "            subgraph_list.append(H)\n",
    "            #subgraph_list.append(A_adj)\n",
    "\n",
    "            \"\"\"\n",
    "            ## compute summary stats of subgraphs \n",
    "\n",
    "            A_adj = H.get_adjacency_matrix()\n",
    "            X_adj.append(A_adj)\n",
    "\n",
    "            X0, embs0 = H.get_patches(k=k0, sample_size=1000, skip_folded_hom=False, sampling_alg = 'pivot')\n",
    "            MACC = np.sum(X0, axis=1)/X0.shape[1]\n",
    "            MACC = MACC.reshape(k0,k0)\n",
    "            X_MACC.append(MACC)\n",
    "\n",
    "            X_edge_density.append(np.linalg.norm(A_adj, 1)/len(H.nodes()))\n",
    "            \"\"\"\n",
    "\n",
    "    subgraph_list_dict.update({\"k={}\".format(k) : subgraph_list})\n",
    "\n",
    "    print(\"extracting subgraph features..\")\n",
    "    output_dict_list = datagen_graph_features(X=subgraph_list, k0_list = k0_list)\n",
    "    results_dict_total = run_binary_classification(output_dict_list, y=y, scale=0.3)\n",
    "    \n",
    "    output_dict_list_total.update({\"k={}\".format(k): results_dict_total})"
   ]
  },
  {
   "cell_type": "code",
   "execution_count": 34,
   "id": "ebb5e76e",
   "metadata": {},
   "outputs": [],
   "source": [
    "path = \"Output_files/subgraph_classification_ex1\"\n",
    "np.save(path, output_dict_list_total)"
   ]
  },
  {
   "cell_type": "code",
   "execution_count": 25,
   "id": "6142d94c",
   "metadata": {},
   "outputs": [
    {
     "name": "stdout",
     "output_type": "stream",
     "text": [
      "num nodes in G 20467\n",
      "num edges in G 1495226\n",
      "num nodes in G 5000\n",
      "num edges in G 248750\n",
      "sampling subgraphs with k=50 nodes\n"
     ]
    },
    {
     "name": "stderr",
     "output_type": "stream",
     "text": [
      "100%|█████████████████████████████████████████| 100/100 [00:07<00:00, 13.79it/s]\n",
      "100%|█████████████████████████████████████████| 100/100 [00:04<00:00, 23.82it/s]\n"
     ]
    },
    {
     "name": "stdout",
     "output_type": "stream",
     "text": [
      "extracting subgraph features..\n"
     ]
    },
    {
     "name": "stderr",
     "output_type": "stream",
     "text": [
      "100%|█████████████████████████████████████████| 200/200 [06:31<00:00,  1.96s/it]"
     ]
    },
    {
     "name": "stdout",
     "output_type": "stream",
     "text": [
      "X.shape (200, 1)\n",
      "method = num_nodes, AUC = 0.602241\n",
      "X.shape (200, 1)\n",
      "method = num_edges, AUC = 0.697679\n",
      "X.shape (200, 1)\n",
      "method = min_degree, AUC = 0.554222\n",
      "X.shape (200, 1)\n",
      "method = max_degree, AUC = 0.846939\n",
      "X.shape (200, 1)\n",
      "method = diameter, AUC = 0.925570\n",
      "X.shape (200, 1)\n",
      "method = degree_assortativity_coef, AUC = 0.769908\n",
      "X.shape (200, 1)\n",
      "method = num_cliques, AUC = 0.736695\n",
      "X.shape (200, 1)\n",
      "method = Avg_clustering_coeff, AUC = 0.992397\n",
      "X.shape (200, 1)\n",
      "method = edeg_density, AUC = 0.726291\n",
      "X.shape (200, 225)\n",
      "method = MACC k0=15, AUC = 0.989596\n",
      "X.shape (200, 400)\n",
      "method = MACC k0=20, AUC = 0.993998\n",
      "X.shape (200, 900)\n",
      "method = MACC k0=30, AUC = 0.996799\n"
     ]
    },
    {
     "name": "stderr",
     "output_type": "stream",
     "text": [
      "\n"
     ]
    }
   ],
   "source": [
    "# Subgraph sampling for subgraph classification\n",
    "# Output = subgraph_list as NNetwork objects\n",
    "\n",
    "ntwk_list = ['UCLA26', 'true_edgelist_for_BA_5000_m_25'] # Wisconsin87, UCLA26, Caltech36\n",
    "label_list = []\n",
    "subgraph_list = []\n",
    "num_subgraphs = 100\n",
    "k_list = [50]\n",
    "k0_list = [15,20,30]\n",
    "\n",
    "#X_MACC = []\n",
    "#X_edge_density = []\n",
    "#X_adj = []\n",
    "\n",
    "nn_network_list = []\n",
    "for ntwk in ntwk_list:\n",
    "    ntwk_nonumber = ''.join([i for i in ntwk if not i.isdigit()])\n",
    "    path = \"Data/Facebook/\" + str(ntwk) + '.txt'\n",
    "    G = nn.NNetwork()\n",
    "    G.load_add_edges(path, increment_weights=False, use_genfromtxt=True)\n",
    "    nn_network_list.append(G)\n",
    "    print('num nodes in G', len(G.nodes()))\n",
    "    print('num edges in G', len(G.get_edges()))\n",
    "\n",
    "y = [0]*num_subgraphs + [1]*num_subgraphs\n",
    "\n",
    "subgraph_list_dict = {}\n",
    "output_dict_list_total = {}\n",
    "\n",
    "for k in k_list:\n",
    "    print(\"sampling subgraphs with k={} nodes\".format(k))\n",
    "    subgraph_list = []\n",
    "    for a in np.arange(len(nn_network_list)):\n",
    "        G = nn_network_list[a]\n",
    "        \n",
    "        for i in trange(num_subgraphs):\n",
    "            label_list.append(str(ntwk))\n",
    "\n",
    "            # take the induced subgraph \n",
    "            X, embs = G.get_patches(k=k, sample_size=10, skip_folded_hom=False, sampling_alg = 'pivot')\n",
    "            H = G.subgraph(embs[-1]) # take the last instance of MCMC sampling\n",
    "            #A_adj = H.get_adjacency_matrix()\n",
    "            subgraph_list.append(H)\n",
    "            #subgraph_list.append(A_adj)\n",
    "\n",
    "            \"\"\"\n",
    "            ## compute summary stats of subgraphs \n",
    "\n",
    "            A_adj = H.get_adjacency_matrix()\n",
    "            X_adj.append(A_adj)\n",
    "\n",
    "            X0, embs0 = H.get_patches(k=k0, sample_size=1000, skip_folded_hom=False, sampling_alg = 'pivot')\n",
    "            MACC = np.sum(X0, axis=1)/X0.shape[1]\n",
    "            MACC = MACC.reshape(k0,k0)\n",
    "            X_MACC.append(MACC)\n",
    "\n",
    "            X_edge_density.append(np.linalg.norm(A_adj, 1)/len(H.nodes()))\n",
    "            \"\"\"\n",
    "\n",
    "    subgraph_list_dict.update({\"k={}\".format(k) : subgraph_list})\n",
    "\n",
    "    print(\"extracting subgraph features..\")\n",
    "    output_dict_list = datagen_graph_features(X=subgraph_list, k0_list = k0_list)\n",
    "    results_dict_total = run_binary_classification(output_dict_list, y=y, scale=0.3)\n",
    "    \n",
    "    output_dict_list_total.update({\"k={}\".format(k): results_dict_total})"
   ]
  },
  {
   "cell_type": "code",
   "execution_count": null,
   "id": "6d9d38c2",
   "metadata": {},
   "outputs": [],
   "source": [
    "results_dict_total = run_binary_classification(output_dict_list, scale=1)"
   ]
  },
  {
   "cell_type": "code",
   "execution_count": null,
   "id": "293ed072",
   "metadata": {},
   "outputs": [],
   "source": [
    "# Using full adjacency matrix \n",
    "X = np.asarray(X_adj).reshape(-1,k0**2)\n",
    "print(\"X.shape\", X.shape)\n",
    "X_train = X[X_train_idx,:]\n",
    "X_test = X[X_test_idx,:]\n",
    "\n",
    "clf = LogisticRegression(random_state=0).fit(X_train, y_train)\n",
    "y_pred = clf.predict(X_test)\n",
    "P_pred = clf.predict_proba(X_test)\n",
    "#print(\"P_pred\", P_pred)\n",
    "\n",
    "compute_accuracy_metrics(y_test, P_pred[:,1], use_opt_threshold=False, verbose=False)"
   ]
  },
  {
   "cell_type": "code",
   "execution_count": null,
   "id": "e1dd25ab",
   "metadata": {},
   "outputs": [],
   "source": [
    "def display_graphs(title,\n",
    "                     save_path,\n",
    "                     grid_shape=[2,3],\n",
    "                     fig_size=[10,10],\n",
    "                     data = None, # [X, embs]\n",
    "                     show_importance=False):\n",
    "\n",
    "        # columns of X = vectorized k x k adjacency matrices\n",
    "        # corresponding list in embs = sequence of nodes (may overalp)\n",
    "        X, embs = data\n",
    "        print('X.shape', X.shape)\n",
    "\n",
    "        rows = grid_shape[0]\n",
    "        cols = grid_shape[1]\n",
    "\n",
    "        fig = plt.figure(figsize=fig_size, constrained_layout=False)\n",
    "        # make outer gridspec\n",
    "\n",
    "        idx = np.arange(X.shape[1])\n",
    "        outer_grid = gridspec.GridSpec(nrows=rows, ncols=cols, wspace=0.02, hspace=0.05)\n",
    "\n",
    "        # make nested gridspecs\n",
    "        for i in range(rows * cols):\n",
    "            a = i // cols\n",
    "            b = i % rows\n",
    "\n",
    "            Ndict_wspace = 0.05\n",
    "            Ndict_hspace = 0.05\n",
    "\n",
    "            # display graphs\n",
    "            inner_grid = outer_grid[i].subgridspec(1, 1, wspace=Ndict_wspace, hspace=Ndict_hspace)\n",
    "\n",
    "            # get rid of duplicate nodes\n",
    "            A = X[:,idx[i]]\n",
    "            A = X[:,idx[i]].reshape(int(np.sqrt(X.shape[0])), -1)\n",
    "            H = nn.NNetwork()\n",
    "            H.read_adj(A, embs[idx[i]])\n",
    "            A_sub = H.get_adjacency_matrix()\n",
    "\n",
    "            # read in as a nx graph for plotting\n",
    "            G1 = nx.from_numpy_matrix(A_sub)\n",
    "            ax = fig.add_subplot(inner_grid[0, 0])\n",
    "            pos = nx.spring_layout(G1)\n",
    "            edges = G1.edges()\n",
    "            weights = [1*G1[u][v]['weight'] for u,v in edges]\n",
    "            nx.draw(G1, with_labels=False, node_size=20, ax=ax, width=weights, label='Graph')\n",
    "\n",
    "            ax.set_xticks([])\n",
    "            ax.set_yticks([])\n",
    "\n",
    "        plt.suptitle(title, fontsize=15)\n",
    "        fig.subplots_adjust(left=0.1, bottom=0.1, right=0.9, top=0.9, wspace=0.2, hspace=0)\n",
    "        fig.savefig(save_path, bbox_inches='tight')"
   ]
  },
  {
   "cell_type": "code",
   "execution_count": null,
   "id": "0f484558",
   "metadata": {},
   "outputs": [],
   "source": [
    "def display_dict_and_graph(title,\n",
    "                           W, \n",
    "                           singular_values, \n",
    "                         save_path,\n",
    "                         grid_shape=None,\n",
    "                         fig_size=[10,10],\n",
    "                         show_importance=False):\n",
    "        \n",
    "        n_components = W.shape[1]\n",
    "        k = int(np.sqrt(W.shape[0]))\n",
    "\n",
    "        rows = np.round(np.sqrt(n_components))\n",
    "        rows = rows.astype(int)\n",
    "        if grid_shape is not None:\n",
    "            rows = grid_shape[0]\n",
    "            cols = grid_shape[1]\n",
    "        else:\n",
    "            if rows ** 2 == n_components:\n",
    "                cols = rows\n",
    "            else:\n",
    "                cols = rows + 1\n",
    "\n",
    "        if show_importance:\n",
    "            # importance = np.sum(self.code, axis=1) / sum(sum(self.code))\n",
    "            idx = np.argsort(singular_values)\n",
    "            idx = np.flip(idx)\n",
    "        else:\n",
    "            idx = np.arange(W.shape[1])\n",
    "\n",
    "        Ndict_wspace = 0.05\n",
    "        Ndict_hspace = 0.05\n",
    "\n",
    "        fig = plt.figure(figsize=fig_size, constrained_layout=False)\n",
    "        outer_grid = gridspec.GridSpec(nrows=1, ncols=2, wspace=0.02, hspace=0.05)\n",
    "        for t in np.arange(2):\n",
    "            # make nested gridspecs\n",
    "\n",
    "            if t == 0:\n",
    "                ### Make gridspec\n",
    "                inner_grid = outer_grid[t].subgridspec(rows, cols, wspace=Ndict_wspace, hspace=Ndict_hspace)\n",
    "                #gs1 = fig.add_gridspec(nrows=rows, ncols=cols, wspace=0.05, hspace=0.05)\n",
    "\n",
    "                for i in range(rows * cols):\n",
    "                    a = i // cols\n",
    "                    b = i % cols\n",
    "                    ax = fig.add_subplot(inner_grid[a, b])\n",
    "                    ax.imshow(W.T[idx[i]].reshape(k, k), cmap=\"viridis\", interpolation='nearest')\n",
    "                    # ax.set_xlabel('%1.2f' % importance[idx[i]], fontsize=13)  # get the largest first\n",
    "                    # ax.xaxis.set_label_coords(0.5, -0.05)  # adjust location of importance appearing beneath patches\n",
    "                    ax.set_xticks([])\n",
    "                    ax.set_yticks([])\n",
    "            if t == 1:\n",
    "                inner_grid = outer_grid[t].subgridspec(rows, cols, wspace=Ndict_wspace, hspace=Ndict_hspace)\n",
    "                #gs1 = fig.add_gridspec(nrows=rows, ncols=cols, wspace=0.05, hspace=0.05)\n",
    "\n",
    "                for i in range(rows * cols):\n",
    "                    a = i // cols\n",
    "                    b = i % cols\n",
    "\n",
    "                    G1 = nx.from_numpy_matrix(W[:,idx[i]].reshape(int(np.sqrt(W.shape[0])),-1))\n",
    "                    ax = fig.add_subplot(inner_grid[a, b])\n",
    "                    pos = nx.spring_layout(G1)\n",
    "                    edges = G1.edges()\n",
    "                    weights = [5*G1[u][v]['weight'] for u,v in edges]\n",
    "                    nx.draw(G1, with_labels=False, node_size=10, ax=ax, width=weights, label='Graph')\n",
    "                    if show_importance:\n",
    "                        ax.set_xlabel('%1.2f' % importance[idx[i]], fontsize=13)  # get the largest first\n",
    "                        ax.xaxis.set_label_coords(0.5, -0.05)  # adjust location of importance appearing beneath patches\n",
    "\n",
    "                    ax.set_xticks([])\n",
    "                    ax.set_yticks([])\n",
    "\n",
    "        plt.suptitle(title, fontsize=25)\n",
    "        fig.subplots_adjust(left=0.1, bottom=0.1, right=0.9, top=0.9, wspace=0.2, hspace=0)\n",
    "        fig.savefig(save_path, bbox_inches='tight')"
   ]
  },
  {
   "cell_type": "code",
   "execution_count": null,
   "id": "b37fa455",
   "metadata": {},
   "outputs": [],
   "source": [
    "sampling_alg = 'pivot'\n",
    "\n",
    "ntwk = 'Caltech36' # COVID_PPI, Wisconsin87, UCLA26\n",
    "ntwk_nonumber = ''.join([i for i in ntwk if not i.isdigit()])\n",
    "save_folder = 'temp/'\n",
    "k=10\n",
    "\n",
    "path = \"Data/Networks_all_NDL/\" + str(ntwk) + '.txt'\n",
    "G = nn.NNetwork()\n",
    "G.load_add_edges(path, increment_weights=False, use_genfromtxt=True)\n",
    "print('num nodes in G', len(G.nodes()))\n",
    "print('num edges in G', len(G.get_edges()))\n",
    "\n",
    "#mx0 = G.get_adjacency_matrix(ordered_node_list=G.nodes())\n",
    "#plt.imshow(mx0)"
   ]
  },
  {
   "cell_type": "code",
   "execution_count": null,
   "id": "c1bf47a6",
   "metadata": {},
   "outputs": [],
   "source": [
    "X, embs = G.get_patches(k=k, sample_size=1000, skip_folded_hom=True)\n",
    "\n",
    "display_graphs(title='induced subgraphs on {}-walks in {}'.format(k, ntwk_nonumber),\n",
    "                 save_path=save_folder + ntwk_nonumber + \"_subgraphs_\"+ str(sampling_alg) + \"_walk\", \n",
    "                 data = [X, embs],\n",
    "                 grid_shape = [5, 15],\n",
    "                 fig_size = [15, 5],\n",
    "                 show_importance=False)"
   ]
  },
  {
   "cell_type": "code",
   "execution_count": null,
   "id": "5cb83273",
   "metadata": {},
   "outputs": [],
   "source": [
    "np.save(\"MC_data_matrix\", X)"
   ]
  },
  {
   "cell_type": "code",
   "execution_count": null,
   "id": "cc64e629",
   "metadata": {},
   "outputs": [],
   "source": [
    "plt.imshow(X[:,4].reshape(k,k))"
   ]
  },
  {
   "cell_type": "code",
   "execution_count": null,
   "id": "cec9d231",
   "metadata": {},
   "outputs": [],
   "source": [
    "from sklearn.decomposition import PCA ### Use truncated SVD / online PCA later for better computational efficiency \n",
    "pca = PCA(n_components=25)\n",
    "pca.fit(X)"
   ]
  },
  {
   "cell_type": "code",
   "execution_count": null,
   "id": "17f09c1b",
   "metadata": {},
   "outputs": [],
   "source": [
    "Y = pca.fit_transform(X)\n",
    "singular_values = pca.singular_values_"
   ]
  },
  {
   "cell_type": "code",
   "execution_count": null,
   "id": "1c75463d",
   "metadata": {},
   "outputs": [],
   "source": [
    "display_dict_and_graph(title='{}-node induced subgraphs in {} (sampling : {})'.format(k, ntwk_nonumber, sampling_alg),\n",
    "                 save_path=save_folder + ntwk_nonumber + \"_subgraphs_\"+ str(sampling_alg), \n",
    "                 W = Y,\n",
    "                 singular_values = singular_values,\n",
    "                 grid_shape = [5, 5],\n",
    "                 fig_size = [15, 10],\n",
    "                 show_importance=False)"
   ]
  },
  {
   "cell_type": "code",
   "execution_count": null,
   "id": "119b16ba",
   "metadata": {},
   "outputs": [],
   "source": []
  }
 ],
 "metadata": {
  "kernelspec": {
   "display_name": "Python 3 (ipykernel)",
   "language": "python",
   "name": "python3"
  },
  "language_info": {
   "codemirror_mode": {
    "name": "ipython",
    "version": 3
   },
   "file_extension": ".py",
   "mimetype": "text/x-python",
   "name": "python",
   "nbconvert_exporter": "python",
   "pygments_lexer": "ipython3",
   "version": "3.9.13"
  }
 },
 "nbformat": 4,
 "nbformat_minor": 5
}
